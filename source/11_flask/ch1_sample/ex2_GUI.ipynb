{
 "cells": [
  {
   "cell_type": "code",
   "execution_count": 26,
   "id": "b8df8f37",
   "metadata": {},
   "outputs": [
    {
     "data": {
      "text/html": [
       "\n",
       "<style>\n",
       "div.container{width:99% !important;}\n",
       "div.cell.code_cell.rendered{width:99%;}\n",
       "div.CodeMirror {font-family:Consolas; font-size:20pt;}\n",
       "div.output {font-size:18pt; font-weight:bold;}\n",
       "div.input {font-family:Consolas; font-size:19pt;}\n",
       "div.prompt {min-width:70px;}\n",
       "div#toc-wrapper{padding-top:120px;}\n",
       "span.toc-item-num{display:none;}\n",
       "div.text_cell_render ul li{font-size:16pt;padding:5px;}\n",
       "div.CodeMirror-lines > div {padding-left:10px;}\n",
       "table.dataframe, table.simpletable{font-size:19px;}\n",
       "</style>\n"
      ],
      "text/plain": [
       "<IPython.core.display.HTML object>"
      ]
     },
     "metadata": {},
     "output_type": "display_data"
    }
   ],
   "source": [
    "from IPython.display import display, HTML\n",
    "display(HTML(\"\"\"\n",
    "<style>\n",
    "div.container{width:99% !important;}\n",
    "div.cell.code_cell.rendered{width:99%;}\n",
    "div.CodeMirror {font-family:Consolas; font-size:20pt;}\n",
    "div.output {font-size:18pt; font-weight:bold;}\n",
    "div.input {font-family:Consolas; font-size:19pt;}\n",
    "div.prompt {min-width:70px;}\n",
    "div#toc-wrapper{padding-top:120px;}\n",
    "span.toc-item-num{display:none;}\n",
    "div.text_cell_render ul li{font-size:16pt;padding:5px;}\n",
    "div.CodeMirror-lines > div {padding-left:10px;}\n",
    "table.dataframe, table.simpletable{font-size:19px;}\n",
    "</style>\n",
    "\"\"\"))"
   ]
  },
  {
   "cell_type": "markdown",
   "id": "68d81fb3",
   "metadata": {},
   "source": [
    "- 모델 load하여, 입력된 값으로 예측한 집값 출력(GUI창에서)"
   ]
  },
  {
   "cell_type": "code",
   "execution_count": 2,
   "id": "e3ee602b",
   "metadata": {},
   "outputs": [],
   "source": [
    "import joblib # 모델 load\n",
    "import tkinter as tk # GUI (그래픽 사용자 인터페이스 창을 띄우기 위함)"
   ]
  },
  {
   "cell_type": "code",
   "execution_count": 4,
   "id": "ba8cc00b",
   "metadata": {},
   "outputs": [],
   "source": [
    "loaded_model = joblib.load('../model/ex1_apt_price_regression.pkl')\n",
    "# loaded_model.summary()"
   ]
  },
  {
   "cell_type": "code",
   "execution_count": 24,
   "id": "26a8904c",
   "metadata": {},
   "outputs": [
    {
     "data": {
      "text/plain": [
       "'2632955654784on_submit'"
      ]
     },
     "execution_count": 24,
     "metadata": {},
     "output_type": "execute_result"
    }
   ],
   "source": [
    "def on_submit(event=None):\n",
    "    '입력된 건축년도, 전용면적, 층을 받아 -> 예측값을 pred_label 출력'\n",
    "    year   = int(year_entry.get())\n",
    "    square = int(square_entry.get())\n",
    "    floor  = int(floor_entry.get())\n",
    "    pred = loaded_model.predict([1, year, square, floor]) # [153803.17086436]\n",
    "    print('예상금액 : {}만원입니다'.format(\n",
    "                                        format(round(pred[0]), ',')\n",
    "    ))\n",
    "    pred_label.configure(text='예상금액 : {}만원입니다'.format(\n",
    "                                        format(round(pred[0]), ',')\n",
    "    ))\n",
    "    \n",
    "root = tk.Tk()\n",
    "\n",
    "root.geometry(\"300x250\")\n",
    "\n",
    "year_label = tk.Label(root, text=\"건축년도\")\n",
    "year_label.pack()\n",
    "year_entry = tk.Entry(root)\n",
    "year_entry.pack(pady=5) # pady, padx : 위아래 여백\n",
    "\n",
    "square_label = tk.Label(root, text=\"전용면적(제곱미터)\")\n",
    "square_label.pack()\n",
    "square_entry = tk.Entry(root)\n",
    "square_entry.pack(pady=5) # pady, padx : 위아래 여백\n",
    "\n",
    "floor_label = tk.Label(root, text=\"몇층\")\n",
    "floor_label.pack()\n",
    "floor_entry = tk.Entry(root)\n",
    "floor_entry.pack(pady=5)\n",
    "\n",
    "submit_button = tk.Button(root, text='예측', \n",
    "                          command=on_submit)\n",
    "submit_button.pack(pady=15)\n",
    "\n",
    "pred_label = tk.Label(root, text=\"예측 금액 출력 예정\")\n",
    "pred_label.pack(pady=10)\n",
    "\n",
    "year_entry.focus_set() # GUI 창이 포커싱되면 자동 year_entry에 포커싱\n",
    "root.bind('<Return>', on_submit)"
   ]
  },
  {
   "cell_type": "code",
   "execution_count": 25,
   "id": "bd7c0e94",
   "metadata": {},
   "outputs": [
    {
     "name": "stdout",
     "output_type": "stream",
     "text": [
      "예상금액 : 143,889만원입니다\n",
      "예상금액 : 139,772만원입니다\n"
     ]
    }
   ],
   "source": [
    "root.mainloop()"
   ]
  },
  {
   "cell_type": "code",
   "execution_count": null,
   "id": "c2eabef4",
   "metadata": {},
   "outputs": [],
   "source": []
  },
  {
   "cell_type": "code",
   "execution_count": null,
   "id": "0489b2d6",
   "metadata": {},
   "outputs": [],
   "source": []
  },
  {
   "cell_type": "code",
   "execution_count": null,
   "id": "db213aa4",
   "metadata": {},
   "outputs": [],
   "source": []
  },
  {
   "cell_type": "code",
   "execution_count": null,
   "id": "1dce120d",
   "metadata": {},
   "outputs": [],
   "source": []
  },
  {
   "cell_type": "code",
   "execution_count": null,
   "id": "20697536",
   "metadata": {},
   "outputs": [],
   "source": []
  },
  {
   "cell_type": "code",
   "execution_count": null,
   "id": "8ce1f52f",
   "metadata": {},
   "outputs": [],
   "source": []
  },
  {
   "cell_type": "code",
   "execution_count": null,
   "id": "a94cb9b9",
   "metadata": {},
   "outputs": [],
   "source": []
  },
  {
   "cell_type": "code",
   "execution_count": null,
   "id": "fe08de65",
   "metadata": {},
   "outputs": [],
   "source": []
  }
 ],
 "metadata": {
  "kernelspec": {
   "display_name": "Python 3 (ipykernel)",
   "language": "python",
   "name": "python3"
  },
  "language_info": {
   "codemirror_mode": {
    "name": "ipython",
    "version": 3
   },
   "file_extension": ".py",
   "mimetype": "text/x-python",
   "name": "python",
   "nbconvert_exporter": "python",
   "pygments_lexer": "ipython3",
   "version": "3.10.9"
  },
  "toc": {
   "base_numbering": 1,
   "nav_menu": {},
   "number_sections": false,
   "sideBar": true,
   "skip_h1_title": false,
   "title_cell": "Table of Contents",
   "title_sidebar": "Contents",
   "toc_cell": false,
   "toc_position": {},
   "toc_section_display": true,
   "toc_window_display": false
  }
 },
 "nbformat": 4,
 "nbformat_minor": 5
}
