{
 "cells": [
  {
   "cell_type": "code",
   "execution_count": 4,
   "id": "df6e6e98",
   "metadata": {},
   "outputs": [
    {
     "data": {
      "text/html": [
       "\n",
       "<style>\n",
       "div.container{width:99% !important;}\n",
       "div.cell.code_cell.rendered{width:90%;}\n",
       "div.CodeMirror {font-family:Consolas; font-size:18pt;}\n",
       "div.output {font-size:19pt; font-weight:bold;}\n",
       "div.input {font-family:Consolas; font-size:19pt;}\n",
       "div.prompt {min-width:70px;}\n",
       "div#toc-wrapper{padding-top:120px;}\n",
       "span.toc-item-num{display:none;}\n",
       "div.text_cell_render ul li{font-size:16pt;padding:5px;}\n",
       "div.CodeMirror-lines > div {padding-left:10px;}\n",
       "table.dataframe{font-size:18px;}\n",
       "</style>\n"
      ],
      "text/plain": [
       "<IPython.core.display.HTML object>"
      ]
     },
     "metadata": {},
     "output_type": "display_data"
    }
   ],
   "source": [
    "from IPython.display import display, HTML\n",
    "display(HTML(\"\"\"\n",
    "<style>\n",
    "div.container{width:99% !important;}\n",
    "div.cell.code_cell.rendered{width:90%;}\n",
    "div.CodeMirror {font-family:Consolas; font-size:18pt;}\n",
    "div.output {font-size:19pt; font-weight:bold;}\n",
    "div.input {font-family:Consolas; font-size:19pt;}\n",
    "div.prompt {min-width:70px;}\n",
    "div#toc-wrapper{padding-top:120px;}\n",
    "span.toc-item-num{display:none;}\n",
    "div.text_cell_render ul li{font-size:16pt;padding:5px;}\n",
    "div.CodeMirror-lines > div {padding-left:10px;}\n",
    "table.dataframe{font-size:18px;}\n",
    "</style>\n",
    "\"\"\"))"
   ]
  },
  {
   "cell_type": "markdown",
   "id": "68d778d1",
   "metadata": {},
   "source": [
    "<b><font size=\"6\" color=\"red\">ch13. 데이터 시각화</font></b>"
   ]
  },
  {
   "cell_type": "code",
   "execution_count": 3,
   "id": "ac49e324",
   "metadata": {},
   "outputs": [],
   "source": [
    "# 그래프 저장시 해상도 높게\n",
    "%config InlineBackend.figure_format = \"retina\"\n",
    "# 패키지 import\n",
    "import matplotlib.pyplot as plt\n",
    "import seaborn as sns\n",
    "# 한글설정\n",
    "plt.rc('font', family='Malgun Gothic') # 윈도우즈\n",
    "plt.rc('axes', unicode_minus=False) # 축의 - 깨짐 방지\n",
    "# warning(경고) 안보이게\n",
    "import warnings\n",
    "warnings.filterwarnings(action='ignore') # 경고 메세지 안 보이게\n",
    "# warnings.filterwarnings(action='default') # 경고 메세지 보이게"
   ]
  },
  {
   "attachments": {},
   "cell_type": "markdown",
   "id": "7c0d8a0c",
   "metadata": {},
   "source": [
    "# 3절. Seaborn\n",
    "- matplotlib을 기반으로 만든 고수준 그래픽 라이브러리\n",
    "    * 공식사이트 : https://seaborn.pydata.org \n",
    "    * seaborn API : https://seaborn.pydata.org/api.html \n",
    "- Seaborn으로 그래프를 그리기 위해서 다음 단계를 따릅니다.\n",
    "    1) 데이터 준비<br>\n",
    "    2) 미적속성 설정 <br>\n",
    "    3) 함수를 이용하여 그래프 그리기(관계형-수치형, 범주형, 쌍관계, 밀도, 회귀,다중그래프)<br>\n",
    "    4) 그래프 출력(show), 저장(savefig)"
   ]
  },
  {
   "cell_type": "markdown",
   "id": "d025ceb7",
   "metadata": {},
   "source": [
    "## 3.1 데이터 준비하기\n",
    "- iris, titanic"
   ]
  },
  {
   "cell_type": "code",
   "execution_count": 5,
   "id": "1304fcc8",
   "metadata": {},
   "outputs": [
    {
     "data": {
      "text/plain": [
       "(150, 5)"
      ]
     },
     "execution_count": 5,
     "metadata": {},
     "output_type": "execute_result"
    }
   ],
   "source": [
    "iris = sns.load_dataset('iris')\n",
    "iris.shape"
   ]
  },
  {
   "cell_type": "code",
   "execution_count": 7,
   "id": "c1de8ce4",
   "metadata": {},
   "outputs": [
    {
     "name": "stdout",
     "output_type": "stream",
     "text": [
      "<class 'pandas.core.frame.DataFrame'>\n",
      "RangeIndex: 150 entries, 0 to 149\n",
      "Data columns (total 5 columns):\n",
      " #   Column        Non-Null Count  Dtype  \n",
      "---  ------        --------------  -----  \n",
      " 0   sepal_length  150 non-null    float64\n",
      " 1   sepal_width   150 non-null    float64\n",
      " 2   petal_length  150 non-null    float64\n",
      " 3   petal_width   150 non-null    float64\n",
      " 4   species       150 non-null    object \n",
      "dtypes: float64(4), object(1)\n",
      "memory usage: 6.0+ KB\n"
     ]
    }
   ],
   "source": [
    "iris.info() # dtype, 전체행수, 열별결측치를 제외한 데이터수, 메모리사용량"
   ]
  },
  {
   "cell_type": "code",
   "execution_count": 9,
   "id": "a99aa6cf",
   "metadata": {},
   "outputs": [
    {
     "data": {
      "text/plain": [
       "sepal_length    0\n",
       "sepal_width     0\n",
       "petal_length    0\n",
       "petal_width     0\n",
       "species         0\n",
       "dtype: int64"
      ]
     },
     "execution_count": 9,
     "metadata": {},
     "output_type": "execute_result"
    }
   ],
   "source": [
    "# 열별 결측치 수\n",
    "iris.isna().sum()\n",
    "iris.isnull().sum()"
   ]
  },
  {
   "cell_type": "code",
   "execution_count": 10,
   "id": "da1c93c0",
   "metadata": {},
   "outputs": [
    {
     "data": {
      "text/plain": [
       "array(['setosa', 'versicolor', 'virginica'], dtype=object)"
      ]
     },
     "execution_count": 10,
     "metadata": {},
     "output_type": "execute_result"
    }
   ],
   "source": [
    "iris['species'].unique() # 범주형 데이터들의 종류"
   ]
  },
  {
   "cell_type": "code",
   "execution_count": null,
   "id": "93fbcc24",
   "metadata": {},
   "outputs": [],
   "source": []
  },
  {
   "cell_type": "code",
   "execution_count": null,
   "id": "c8dd4dc7",
   "metadata": {},
   "outputs": [],
   "source": []
  },
  {
   "cell_type": "code",
   "execution_count": null,
   "id": "125ce974",
   "metadata": {},
   "outputs": [],
   "source": []
  },
  {
   "cell_type": "code",
   "execution_count": null,
   "id": "1f246d02",
   "metadata": {},
   "outputs": [],
   "source": []
  }
 ],
 "metadata": {
  "kernelspec": {
   "display_name": "Python 3 (ipykernel)",
   "language": "python",
   "name": "python3"
  },
  "language_info": {
   "codemirror_mode": {
    "name": "ipython",
    "version": 3
   },
   "file_extension": ".py",
   "mimetype": "text/x-python",
   "name": "python",
   "nbconvert_exporter": "python",
   "pygments_lexer": "ipython3",
   "version": "3.10.9"
  },
  "toc": {
   "base_numbering": 1,
   "nav_menu": {},
   "number_sections": true,
   "sideBar": true,
   "skip_h1_title": false,
   "title_cell": "Table of Contents",
   "title_sidebar": "Contents",
   "toc_cell": false,
   "toc_position": {
    "height": "calc(100% - 180px)",
    "left": "10px",
    "top": "150px",
    "width": "165px"
   },
   "toc_section_display": true,
   "toc_window_display": true
  }
 },
 "nbformat": 4,
 "nbformat_minor": 5
}
