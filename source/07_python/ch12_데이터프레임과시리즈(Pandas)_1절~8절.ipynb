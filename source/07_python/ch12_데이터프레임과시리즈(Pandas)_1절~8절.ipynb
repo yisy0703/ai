{
 "cells": [
  {
   "cell_type": "code",
   "execution_count": 1,
   "id": "1406d835",
   "metadata": {},
   "outputs": [
    {
     "data": {
      "text/html": [
       "\n",
       "<style>\n",
       "div.container{width:99% !important;}\n",
       "div.cell.code_cell.rendered{width:90%;}\n",
       "div.CodeMirror {font-family:Consolas; font-size:18pt;}\n",
       "div.output {font-size:19pt; font-weight:bold;}\n",
       "div.input {font-family:Consolas; font-size:19pt;}\n",
       "div.prompt {min-width:70px;}\n",
       "div#toc-wrapper{padding-top:120px;}\n",
       "span.toc-item-num{display:none;}\n",
       "div.text_cell_render ul li{font-size:16pt;padding:5px;}\n",
       "div.CodeMirror-lines > div {padding-left:10px;}\n",
       "table.dataframe{font-size:16px;}\n",
       "</style>\n"
      ],
      "text/plain": [
       "<IPython.core.display.HTML object>"
      ]
     },
     "metadata": {},
     "output_type": "display_data"
    }
   ],
   "source": [
    "from IPython.display import display, HTML\n",
    "display(HTML(\"\"\"\n",
    "<style>\n",
    "div.container{width:99% !important;}\n",
    "div.cell.code_cell.rendered{width:90%;}\n",
    "div.CodeMirror {font-family:Consolas; font-size:18pt;}\n",
    "div.output {font-size:19pt; font-weight:bold;}\n",
    "div.input {font-family:Consolas; font-size:19pt;}\n",
    "div.prompt {min-width:70px;}\n",
    "div#toc-wrapper{padding-top:120px;}\n",
    "span.toc-item-num{display:none;}\n",
    "div.text_cell_render ul li{font-size:16pt;padding:5px;}\n",
    "div.CodeMirror-lines > div {padding-left:10px;}\n",
    "table.dataframe{font-size:16px;}\n",
    "</style>\n",
    "\"\"\"))"
   ]
  },
  {
   "cell_type": "markdown",
   "id": "3960201d",
   "metadata": {},
   "source": [
    "<b><font color=\"red\" size=\"6\">ch12. 데이터 프레임과 시리즈(Pandas)</font></b>\n",
    "- pip install pandas"
   ]
  },
  {
   "cell_type": "markdown",
   "id": "67cd9aad",
   "metadata": {},
   "source": [
    "# 1절. 판다스 패키지\n",
    "- 데이터 분석을 위해 반드시 알아야할 패키지. 넘파이를 기반으로 하며, 다른 많은 라이브러리와 잘 통합되도록 설계\n",
    "- 1차원 구조를 갖는 시리즈, 2차원 구조를 갖는 데이터 프레임을 제공\n",
    "- 판다스 장점 : 데이터 프레임 생성, 파일io, 레이블링, 부분데이터추출,\n",
    "           크기변경(행이나 열삽입, 삭제), 데이터 분할, 병합, 데이터 정렬\n",
    "           결측치 처리, 피벗과 언피벗등에 용이\n",
    "- https://pypi.org/project/pandas/ (package index)\n",
    "- https://pandas.pydata.org/docs/reference/index.html#api (API reference)"
   ]
  },
  {
   "cell_type": "code",
   "execution_count": 2,
   "id": "e1045319",
   "metadata": {},
   "outputs": [
    {
     "data": {
      "text/plain": [
       "'1.5.3'"
      ]
     },
     "execution_count": 2,
     "metadata": {},
     "output_type": "execute_result"
    }
   ],
   "source": [
    "import pandas as pd\n",
    "pd.__version__"
   ]
  },
  {
   "cell_type": "code",
   "execution_count": 3,
   "id": "e2358d84",
   "metadata": {},
   "outputs": [
    {
     "data": {
      "text/html": [
       "<div>\n",
       "<style scoped>\n",
       "    .dataframe tbody tr th:only-of-type {\n",
       "        vertical-align: middle;\n",
       "    }\n",
       "\n",
       "    .dataframe tbody tr th {\n",
       "        vertical-align: top;\n",
       "    }\n",
       "\n",
       "    .dataframe thead th {\n",
       "        text-align: right;\n",
       "    }\n",
       "</style>\n",
       "<table border=\"1\" class=\"dataframe\">\n",
       "  <thead>\n",
       "    <tr style=\"text-align: right;\">\n",
       "      <th></th>\n",
       "      <th>name</th>\n",
       "      <th>age</th>\n",
       "      <th>email</th>\n",
       "      <th>address</th>\n",
       "    </tr>\n",
       "  </thead>\n",
       "  <tbody>\n",
       "    <tr>\n",
       "      <th>0</th>\n",
       "      <td>홍길동</td>\n",
       "      <td>20</td>\n",
       "      <td>h@h.com</td>\n",
       "      <td>서울</td>\n",
       "    </tr>\n",
       "    <tr>\n",
       "      <th>1</th>\n",
       "      <td>김길동</td>\n",
       "      <td>30</td>\n",
       "      <td>k@h.com</td>\n",
       "      <td>부산</td>\n",
       "    </tr>\n",
       "    <tr>\n",
       "      <th>2</th>\n",
       "      <td>신길동</td>\n",
       "      <td>40</td>\n",
       "      <td>s@h.com</td>\n",
       "      <td>안양</td>\n",
       "    </tr>\n",
       "  </tbody>\n",
       "</table>\n",
       "</div>"
      ],
      "text/plain": [
       "  name  age    email address\n",
       "0  홍길동   20  h@h.com      서울\n",
       "1  김길동   30  k@h.com      부산\n",
       "2  신길동   40  s@h.com      안양"
      ]
     },
     "metadata": {},
     "output_type": "display_data"
    },
    {
     "name": "stdout",
     "output_type": "stream",
     "text": [
      "<class 'pandas.core.frame.DataFrame'>\n"
     ]
    }
   ],
   "source": [
    "data = pd.read_json('data/ch09_member1.json', encoding='cp949') # encoding기본값:utf-8\n",
    "display(data)\n",
    "print(type(data))"
   ]
  },
  {
   "cell_type": "code",
   "execution_count": 4,
   "id": "77dbb011",
   "metadata": {},
   "outputs": [
    {
     "data": {
      "text/html": [
       "<div>\n",
       "<style scoped>\n",
       "    .dataframe tbody tr th:only-of-type {\n",
       "        vertical-align: middle;\n",
       "    }\n",
       "\n",
       "    .dataframe tbody tr th {\n",
       "        vertical-align: top;\n",
       "    }\n",
       "\n",
       "    .dataframe thead th {\n",
       "        text-align: right;\n",
       "    }\n",
       "</style>\n",
       "<table border=\"1\" class=\"dataframe\">\n",
       "  <thead>\n",
       "    <tr style=\"text-align: right;\">\n",
       "      <th></th>\n",
       "      <th>name</th>\n",
       "      <th>age</th>\n",
       "      <th>email</th>\n",
       "      <th>address</th>\n",
       "    </tr>\n",
       "  </thead>\n",
       "  <tbody>\n",
       "    <tr>\n",
       "      <th>0</th>\n",
       "      <td>홍길동</td>\n",
       "      <td>20</td>\n",
       "      <td>h@hong.com</td>\n",
       "      <td>서울</td>\n",
       "    </tr>\n",
       "    <tr>\n",
       "      <th>1</th>\n",
       "      <td>신길동</td>\n",
       "      <td>25</td>\n",
       "      <td>s@hong.com</td>\n",
       "      <td>부산</td>\n",
       "    </tr>\n",
       "    <tr>\n",
       "      <th>2</th>\n",
       "      <td>김길동</td>\n",
       "      <td>35</td>\n",
       "      <td>k@hong.com</td>\n",
       "      <td>인천</td>\n",
       "    </tr>\n",
       "    <tr>\n",
       "      <th>3</th>\n",
       "      <td>홍길동</td>\n",
       "      <td>20</td>\n",
       "      <td>h@hong.com</td>\n",
       "      <td>서울</td>\n",
       "    </tr>\n",
       "    <tr>\n",
       "      <th>4</th>\n",
       "      <td>신길동</td>\n",
       "      <td>25</td>\n",
       "      <td>s@hong.com</td>\n",
       "      <td>부산</td>\n",
       "    </tr>\n",
       "  </tbody>\n",
       "</table>\n",
       "</div>"
      ],
      "text/plain": [
       "  name  age       email address\n",
       "0  홍길동   20  h@hong.com      서울\n",
       "1  신길동   25  s@hong.com      부산\n",
       "2  김길동   35  k@hong.com      인천\n",
       "3  홍길동   20  h@hong.com      서울\n",
       "4  신길동   25  s@hong.com      부산"
      ]
     },
     "execution_count": 4,
     "metadata": {},
     "output_type": "execute_result"
    }
   ],
   "source": [
    "member4 = pd.read_csv('data/ch09_member4.csv')\n",
    "member4.head() # 최초 상위 5행 가져오기"
   ]
  },
  {
   "cell_type": "code",
   "execution_count": 5,
   "id": "960f0055",
   "metadata": {},
   "outputs": [
    {
     "data": {
      "text/html": [
       "<div>\n",
       "<style scoped>\n",
       "    .dataframe tbody tr th:only-of-type {\n",
       "        vertical-align: middle;\n",
       "    }\n",
       "\n",
       "    .dataframe tbody tr th {\n",
       "        vertical-align: top;\n",
       "    }\n",
       "\n",
       "    .dataframe thead th {\n",
       "        text-align: right;\n",
       "    }\n",
       "</style>\n",
       "<table border=\"1\" class=\"dataframe\">\n",
       "  <thead>\n",
       "    <tr style=\"text-align: right;\">\n",
       "      <th></th>\n",
       "      <th>name</th>\n",
       "      <th>age</th>\n",
       "      <th>email</th>\n",
       "      <th>address</th>\n",
       "    </tr>\n",
       "  </thead>\n",
       "  <tbody>\n",
       "    <tr>\n",
       "      <th>0</th>\n",
       "      <td>홍길동</td>\n",
       "      <td>20</td>\n",
       "      <td>kildong@hong.com</td>\n",
       "      <td>서울시 관악구</td>\n",
       "    </tr>\n",
       "    <tr>\n",
       "      <th>1</th>\n",
       "      <td>김길동</td>\n",
       "      <td>40</td>\n",
       "      <td>kimdong@hong.com</td>\n",
       "      <td>서울시 영등포구</td>\n",
       "    </tr>\n",
       "    <tr>\n",
       "      <th>2</th>\n",
       "      <td>신길동</td>\n",
       "      <td>30</td>\n",
       "      <td>sindong@hong.com</td>\n",
       "      <td>서울시 동작구</td>\n",
       "    </tr>\n",
       "  </tbody>\n",
       "</table>\n",
       "</div>"
      ],
      "text/plain": [
       "  name  age             email   address\n",
       "0  홍길동   20  kildong@hong.com   서울시 관악구\n",
       "1  김길동   40  kimdong@hong.com  서울시 영등포구\n",
       "2  신길동   30  sindong@hong.com   서울시 동작구"
      ]
     },
     "execution_count": 5,
     "metadata": {},
     "output_type": "execute_result"
    }
   ],
   "source": [
    "member1 = pd.read_csv('data/ch09_member1.csv', header=None,\n",
    "                     names=['name','age','email','address'])\n",
    "member1"
   ]
  },
  {
   "cell_type": "code",
   "execution_count": 6,
   "id": "b771a51d",
   "metadata": {},
   "outputs": [
    {
     "data": {
      "text/html": [
       "<div>\n",
       "<style scoped>\n",
       "    .dataframe tbody tr th:only-of-type {\n",
       "        vertical-align: middle;\n",
       "    }\n",
       "\n",
       "    .dataframe tbody tr th {\n",
       "        vertical-align: top;\n",
       "    }\n",
       "\n",
       "    .dataframe thead th {\n",
       "        text-align: right;\n",
       "    }\n",
       "</style>\n",
       "<table border=\"1\" class=\"dataframe\">\n",
       "  <thead>\n",
       "    <tr style=\"text-align: right;\">\n",
       "      <th></th>\n",
       "      <th>sepal_length</th>\n",
       "      <th>sepal_width</th>\n",
       "      <th>petal_length</th>\n",
       "      <th>petal_width</th>\n",
       "      <th>species</th>\n",
       "    </tr>\n",
       "  </thead>\n",
       "  <tbody>\n",
       "    <tr>\n",
       "      <th>0</th>\n",
       "      <td>5.1</td>\n",
       "      <td>3.5</td>\n",
       "      <td>1.4</td>\n",
       "      <td>0.2</td>\n",
       "      <td>setosa</td>\n",
       "    </tr>\n",
       "    <tr>\n",
       "      <th>1</th>\n",
       "      <td>4.9</td>\n",
       "      <td>3.0</td>\n",
       "      <td>1.4</td>\n",
       "      <td>0.2</td>\n",
       "      <td>setosa</td>\n",
       "    </tr>\n",
       "    <tr>\n",
       "      <th>2</th>\n",
       "      <td>4.7</td>\n",
       "      <td>3.2</td>\n",
       "      <td>1.3</td>\n",
       "      <td>0.2</td>\n",
       "      <td>setosa</td>\n",
       "    </tr>\n",
       "    <tr>\n",
       "      <th>3</th>\n",
       "      <td>4.6</td>\n",
       "      <td>3.1</td>\n",
       "      <td>1.5</td>\n",
       "      <td>0.2</td>\n",
       "      <td>setosa</td>\n",
       "    </tr>\n",
       "    <tr>\n",
       "      <th>4</th>\n",
       "      <td>5.0</td>\n",
       "      <td>3.6</td>\n",
       "      <td>1.4</td>\n",
       "      <td>0.2</td>\n",
       "      <td>setosa</td>\n",
       "    </tr>\n",
       "    <tr>\n",
       "      <th>...</th>\n",
       "      <td>...</td>\n",
       "      <td>...</td>\n",
       "      <td>...</td>\n",
       "      <td>...</td>\n",
       "      <td>...</td>\n",
       "    </tr>\n",
       "    <tr>\n",
       "      <th>145</th>\n",
       "      <td>6.7</td>\n",
       "      <td>3.0</td>\n",
       "      <td>5.2</td>\n",
       "      <td>2.3</td>\n",
       "      <td>virginica</td>\n",
       "    </tr>\n",
       "    <tr>\n",
       "      <th>146</th>\n",
       "      <td>6.3</td>\n",
       "      <td>2.5</td>\n",
       "      <td>5.0</td>\n",
       "      <td>1.9</td>\n",
       "      <td>virginica</td>\n",
       "    </tr>\n",
       "    <tr>\n",
       "      <th>147</th>\n",
       "      <td>6.5</td>\n",
       "      <td>3.0</td>\n",
       "      <td>5.2</td>\n",
       "      <td>2.0</td>\n",
       "      <td>virginica</td>\n",
       "    </tr>\n",
       "    <tr>\n",
       "      <th>148</th>\n",
       "      <td>6.2</td>\n",
       "      <td>3.4</td>\n",
       "      <td>5.4</td>\n",
       "      <td>2.3</td>\n",
       "      <td>virginica</td>\n",
       "    </tr>\n",
       "    <tr>\n",
       "      <th>149</th>\n",
       "      <td>5.9</td>\n",
       "      <td>3.0</td>\n",
       "      <td>5.1</td>\n",
       "      <td>1.8</td>\n",
       "      <td>virginica</td>\n",
       "    </tr>\n",
       "  </tbody>\n",
       "</table>\n",
       "<p>150 rows × 5 columns</p>\n",
       "</div>"
      ],
      "text/plain": [
       "     sepal_length  sepal_width  petal_length  petal_width    species\n",
       "0             5.1          3.5           1.4          0.2     setosa\n",
       "1             4.9          3.0           1.4          0.2     setosa\n",
       "2             4.7          3.2           1.3          0.2     setosa\n",
       "3             4.6          3.1           1.5          0.2     setosa\n",
       "4             5.0          3.6           1.4          0.2     setosa\n",
       "..            ...          ...           ...          ...        ...\n",
       "145           6.7          3.0           5.2          2.3  virginica\n",
       "146           6.3          2.5           5.0          1.9  virginica\n",
       "147           6.5          3.0           5.2          2.0  virginica\n",
       "148           6.2          3.4           5.4          2.3  virginica\n",
       "149           5.9          3.0           5.1          1.8  virginica\n",
       "\n",
       "[150 rows x 5 columns]"
      ]
     },
     "execution_count": 6,
     "metadata": {},
     "output_type": "execute_result"
    }
   ],
   "source": [
    "iris = pd.read_hdf('data/ch09_iris2.hdf5', key='iris')\n",
    "iris"
   ]
  },
  {
   "cell_type": "markdown",
   "id": "b300e8af",
   "metadata": {},
   "source": [
    "# 2절. 데이터 프레임 만들기\n",
    "## 2.1 딕셔너리를 이용해서 데이터프레임 만들기"
   ]
  },
  {
   "cell_type": "code",
   "execution_count": 7,
   "id": "f1413569",
   "metadata": {},
   "outputs": [
    {
     "data": {
      "text/html": [
       "<div>\n",
       "<style scoped>\n",
       "    .dataframe tbody tr th:only-of-type {\n",
       "        vertical-align: middle;\n",
       "    }\n",
       "\n",
       "    .dataframe tbody tr th {\n",
       "        vertical-align: top;\n",
       "    }\n",
       "\n",
       "    .dataframe thead th {\n",
       "        text-align: right;\n",
       "    }\n",
       "</style>\n",
       "<table border=\"1\" class=\"dataframe\">\n",
       "  <thead>\n",
       "    <tr style=\"text-align: right;\">\n",
       "      <th></th>\n",
       "      <th>kor</th>\n",
       "      <th>mat</th>\n",
       "    </tr>\n",
       "  </thead>\n",
       "  <tbody>\n",
       "    <tr>\n",
       "      <th>0</th>\n",
       "      <td>100</td>\n",
       "      <td>95</td>\n",
       "    </tr>\n",
       "    <tr>\n",
       "      <th>1</th>\n",
       "      <td>90</td>\n",
       "      <td>99</td>\n",
       "    </tr>\n",
       "  </tbody>\n",
       "</table>\n",
       "</div>"
      ],
      "text/plain": [
       "   kor  mat\n",
       "0  100   95\n",
       "1   90   99"
      ]
     },
     "execution_count": 7,
     "metadata": {},
     "output_type": "execute_result"
    }
   ],
   "source": [
    "# value가 list인 딕셔너리를 데이터프레임으로\n",
    "d = {'kor': [100,90], 'mat':[95,99]}\n",
    "df = pd.DataFrame(data=d)\n",
    "df"
   ]
  },
  {
   "cell_type": "code",
   "execution_count": 8,
   "id": "b5cd24d0",
   "metadata": {},
   "outputs": [
    {
     "data": {
      "text/plain": [
       "{'kor': {0: 100, 1: 90}, 'mat': {0: 95, 1: 99}}"
      ]
     },
     "execution_count": 8,
     "metadata": {},
     "output_type": "execute_result"
    }
   ],
   "source": [
    "df.to_dict() # 데이터 프레임을 딕셔너리로"
   ]
  },
  {
   "cell_type": "code",
   "execution_count": 9,
   "id": "83319d22",
   "metadata": {},
   "outputs": [
    {
     "data": {
      "text/plain": [
       "array([[100,  95],\n",
       "       [ 90,  99]], dtype=int64)"
      ]
     },
     "execution_count": 9,
     "metadata": {},
     "output_type": "execute_result"
    }
   ],
   "source": [
    "df.to_numpy() # 데이터프레임을 넘파이배열"
   ]
  },
  {
   "cell_type": "code",
   "execution_count": 10,
   "id": "94576405",
   "metadata": {},
   "outputs": [
    {
     "data": {
      "text/html": [
       "<div>\n",
       "<style scoped>\n",
       "    .dataframe tbody tr th:only-of-type {\n",
       "        vertical-align: middle;\n",
       "    }\n",
       "\n",
       "    .dataframe tbody tr th {\n",
       "        vertical-align: top;\n",
       "    }\n",
       "\n",
       "    .dataframe thead th {\n",
       "        text-align: right;\n",
       "    }\n",
       "</style>\n",
       "<table border=\"1\" class=\"dataframe\">\n",
       "  <thead>\n",
       "    <tr style=\"text-align: right;\">\n",
       "      <th></th>\n",
       "      <th>kor</th>\n",
       "      <th>mat</th>\n",
       "    </tr>\n",
       "  </thead>\n",
       "  <tbody>\n",
       "    <tr>\n",
       "      <th>0</th>\n",
       "      <td>100</td>\n",
       "      <td>95</td>\n",
       "    </tr>\n",
       "    <tr>\n",
       "      <th>1</th>\n",
       "      <td>90</td>\n",
       "      <td>99</td>\n",
       "    </tr>\n",
       "  </tbody>\n",
       "</table>\n",
       "</div>"
      ],
      "text/plain": [
       "   kor  mat\n",
       "0  100   95\n",
       "1   90   99"
      ]
     },
     "execution_count": 10,
     "metadata": {},
     "output_type": "execute_result"
    }
   ],
   "source": [
    "# 딕셔너리 리스트를 데이터프레임으로\n",
    "d = [{'kor':100, 'mat':95}, {'kor':90, 'mat':99}]\n",
    "df = pd.DataFrame(data=d)\n",
    "df"
   ]
  },
  {
   "cell_type": "code",
   "execution_count": 11,
   "id": "3e6feb04",
   "metadata": {},
   "outputs": [
    {
     "data": {
      "text/plain": [
       "kor    int64\n",
       "mat    int64\n",
       "dtype: object"
      ]
     },
     "execution_count": 11,
     "metadata": {},
     "output_type": "execute_result"
    }
   ],
   "source": [
    "df.dtypes"
   ]
  },
  {
   "cell_type": "code",
   "execution_count": 12,
   "id": "87df9dbd",
   "metadata": {},
   "outputs": [
    {
     "name": "stdout",
     "output_type": "stream",
     "text": [
      "<class 'pandas.core.frame.DataFrame'>\n",
      "RangeIndex: 2 entries, 0 to 1\n",
      "Data columns (total 2 columns):\n",
      " #   Column  Non-Null Count  Dtype\n",
      "---  ------  --------------  -----\n",
      " 0   kor     2 non-null      int64\n",
      " 1   mat     2 non-null      int64\n",
      "dtypes: int64(2)\n",
      "memory usage: 160.0 bytes\n"
     ]
    }
   ],
   "source": [
    "df.info() # ★"
   ]
  },
  {
   "cell_type": "code",
   "execution_count": 16,
   "id": "685fc082",
   "metadata": {},
   "outputs": [
    {
     "data": {
      "text/plain": [
       "{'kor': dtype('int64'), 'mat': dtype('int64')}"
      ]
     },
     "execution_count": 16,
     "metadata": {},
     "output_type": "execute_result"
    }
   ],
   "source": [
    "df.dtypes.to_dict()"
   ]
  },
  {
   "cell_type": "code",
   "execution_count": 18,
   "id": "eceb6730",
   "metadata": {},
   "outputs": [
    {
     "data": {
      "text/plain": [
       "dtype('int64')"
      ]
     },
     "execution_count": 18,
     "metadata": {},
     "output_type": "execute_result"
    }
   ],
   "source": [
    "df['kor'].dtype"
   ]
  },
  {
   "cell_type": "code",
   "execution_count": 21,
   "id": "b53e83eb",
   "metadata": {},
   "outputs": [
    {
     "data": {
      "text/plain": [
       "0    100.0\n",
       "1     90.0\n",
       "Name: kor, dtype: float64"
      ]
     },
     "execution_count": 21,
     "metadata": {},
     "output_type": "execute_result"
    }
   ],
   "source": [
    "import numpy as np\n",
    "df['kor'] = df['kor'].astype(np.float64)"
   ]
  },
  {
   "cell_type": "code",
   "execution_count": 22,
   "id": "ed4659d6",
   "metadata": {},
   "outputs": [
    {
     "data": {
      "text/html": [
       "<div>\n",
       "<style scoped>\n",
       "    .dataframe tbody tr th:only-of-type {\n",
       "        vertical-align: middle;\n",
       "    }\n",
       "\n",
       "    .dataframe tbody tr th {\n",
       "        vertical-align: top;\n",
       "    }\n",
       "\n",
       "    .dataframe thead th {\n",
       "        text-align: right;\n",
       "    }\n",
       "</style>\n",
       "<table border=\"1\" class=\"dataframe\">\n",
       "  <thead>\n",
       "    <tr style=\"text-align: right;\">\n",
       "      <th></th>\n",
       "      <th>kor</th>\n",
       "      <th>mat</th>\n",
       "      <th>eng</th>\n",
       "    </tr>\n",
       "  </thead>\n",
       "  <tbody>\n",
       "    <tr>\n",
       "      <th>0</th>\n",
       "      <td>100</td>\n",
       "      <td>100.0</td>\n",
       "      <td>NaN</td>\n",
       "    </tr>\n",
       "    <tr>\n",
       "      <th>1</th>\n",
       "      <td>90</td>\n",
       "      <td>99.0</td>\n",
       "      <td>NaN</td>\n",
       "    </tr>\n",
       "    <tr>\n",
       "      <th>2</th>\n",
       "      <td>83</td>\n",
       "      <td>NaN</td>\n",
       "      <td>85.0</td>\n",
       "    </tr>\n",
       "  </tbody>\n",
       "</table>\n",
       "</div>"
      ],
      "text/plain": [
       "   kor    mat   eng\n",
       "0  100  100.0   NaN\n",
       "1   90   99.0   NaN\n",
       "2   83    NaN  85.0"
      ]
     },
     "execution_count": 22,
     "metadata": {},
     "output_type": "execute_result"
    }
   ],
   "source": [
    "d = [{'kor':100, 'mat':100}, {'kor':90, 'mat':99}, {'kor':83,'eng':85}]\n",
    "df = pd.DataFrame(data= d)\n",
    "df"
   ]
  },
  {
   "cell_type": "code",
   "execution_count": 23,
   "id": "88adb781",
   "metadata": {},
   "outputs": [
    {
     "data": {
      "text/plain": [
       "float"
      ]
     },
     "execution_count": 23,
     "metadata": {},
     "output_type": "execute_result"
    }
   ],
   "source": [
    "type(np.nan)"
   ]
  },
  {
   "cell_type": "code",
   "execution_count": 25,
   "id": "bff62b76",
   "metadata": {},
   "outputs": [],
   "source": [
    "# 결측치는 int로 형변환 불가(결측치를 대체값으로 치환 후 변환)df['mat'].astype(np.int32)"
   ]
  },
  {
   "cell_type": "markdown",
   "id": "739a1514",
   "metadata": {},
   "source": [
    "## 2.2 리스트를 이용해서 데이터 프레임 만들기"
   ]
  },
  {
   "cell_type": "code",
   "execution_count": 26,
   "id": "ece1fd83",
   "metadata": {},
   "outputs": [
    {
     "data": {
      "text/html": [
       "<div>\n",
       "<style scoped>\n",
       "    .dataframe tbody tr th:only-of-type {\n",
       "        vertical-align: middle;\n",
       "    }\n",
       "\n",
       "    .dataframe tbody tr th {\n",
       "        vertical-align: top;\n",
       "    }\n",
       "\n",
       "    .dataframe thead th {\n",
       "        text-align: right;\n",
       "    }\n",
       "</style>\n",
       "<table border=\"1\" class=\"dataframe\">\n",
       "  <thead>\n",
       "    <tr style=\"text-align: right;\">\n",
       "      <th></th>\n",
       "      <th>kor</th>\n",
       "      <th>mat</th>\n",
       "    </tr>\n",
       "  </thead>\n",
       "  <tbody>\n",
       "    <tr>\n",
       "      <th>0</th>\n",
       "      <td>100</td>\n",
       "      <td>100</td>\n",
       "    </tr>\n",
       "    <tr>\n",
       "      <th>1</th>\n",
       "      <td>90</td>\n",
       "      <td>95</td>\n",
       "    </tr>\n",
       "    <tr>\n",
       "      <th>2</th>\n",
       "      <td>95</td>\n",
       "      <td>94</td>\n",
       "    </tr>\n",
       "    <tr>\n",
       "      <th>3</th>\n",
       "      <td>90</td>\n",
       "      <td>64</td>\n",
       "    </tr>\n",
       "    <tr>\n",
       "      <th>4</th>\n",
       "      <td>65</td>\n",
       "      <td>85</td>\n",
       "    </tr>\n",
       "  </tbody>\n",
       "</table>\n",
       "</div>"
      ],
      "text/plain": [
       "   kor  mat\n",
       "0  100  100\n",
       "1   90   95\n",
       "2   95   94\n",
       "3   90   64\n",
       "4   65   85"
      ]
     },
     "execution_count": 26,
     "metadata": {},
     "output_type": "execute_result"
    }
   ],
   "source": [
    "kor = [100,90,95,90,65]\n",
    "mat = [100,95,94,64,85]\n",
    "df = pd.DataFrame({'kor': kor, 'mat':mat})\n",
    "df"
   ]
  },
  {
   "cell_type": "code",
   "execution_count": 27,
   "id": "92a9675d",
   "metadata": {},
   "outputs": [
    {
     "data": {
      "text/plain": [
       "array([[100, 100],\n",
       "       [ 90,  95],\n",
       "       [ 95,  94],\n",
       "       [ 90,  64],\n",
       "       [ 65,  85]])"
      ]
     },
     "execution_count": 27,
     "metadata": {},
     "output_type": "execute_result"
    }
   ],
   "source": [
    "np.c_[kor, mat]"
   ]
  },
  {
   "cell_type": "code",
   "execution_count": 30,
   "id": "854a28f4",
   "metadata": {},
   "outputs": [
    {
     "data": {
      "text/html": [
       "<div>\n",
       "<style scoped>\n",
       "    .dataframe tbody tr th:only-of-type {\n",
       "        vertical-align: middle;\n",
       "    }\n",
       "\n",
       "    .dataframe tbody tr th {\n",
       "        vertical-align: top;\n",
       "    }\n",
       "\n",
       "    .dataframe thead th {\n",
       "        text-align: right;\n",
       "    }\n",
       "</style>\n",
       "<table border=\"1\" class=\"dataframe\">\n",
       "  <thead>\n",
       "    <tr style=\"text-align: right;\">\n",
       "      <th></th>\n",
       "      <th>국어</th>\n",
       "      <th>수학</th>\n",
       "    </tr>\n",
       "  </thead>\n",
       "  <tbody>\n",
       "    <tr>\n",
       "      <th>0</th>\n",
       "      <td>100</td>\n",
       "      <td>100</td>\n",
       "    </tr>\n",
       "    <tr>\n",
       "      <th>1</th>\n",
       "      <td>90</td>\n",
       "      <td>95</td>\n",
       "    </tr>\n",
       "    <tr>\n",
       "      <th>2</th>\n",
       "      <td>95</td>\n",
       "      <td>94</td>\n",
       "    </tr>\n",
       "    <tr>\n",
       "      <th>3</th>\n",
       "      <td>90</td>\n",
       "      <td>64</td>\n",
       "    </tr>\n",
       "    <tr>\n",
       "      <th>4</th>\n",
       "      <td>65</td>\n",
       "      <td>85</td>\n",
       "    </tr>\n",
       "  </tbody>\n",
       "</table>\n",
       "</div>"
      ],
      "text/plain": [
       "    국어   수학\n",
       "0  100  100\n",
       "1   90   95\n",
       "2   95   94\n",
       "3   90   64\n",
       "4   65   85"
      ]
     },
     "execution_count": 30,
     "metadata": {},
     "output_type": "execute_result"
    }
   ],
   "source": [
    "df = pd.DataFrame(np.c_[kor, mat], columns=['국어','수학'])\n",
    "df"
   ]
  },
  {
   "cell_type": "code",
   "execution_count": 32,
   "id": "0b88350e",
   "metadata": {},
   "outputs": [
    {
     "data": {
      "text/html": [
       "<div>\n",
       "<style scoped>\n",
       "    .dataframe tbody tr th:only-of-type {\n",
       "        vertical-align: middle;\n",
       "    }\n",
       "\n",
       "    .dataframe tbody tr th {\n",
       "        vertical-align: top;\n",
       "    }\n",
       "\n",
       "    .dataframe thead th {\n",
       "        text-align: right;\n",
       "    }\n",
       "</style>\n",
       "<table border=\"1\" class=\"dataframe\">\n",
       "  <thead>\n",
       "    <tr style=\"text-align: right;\">\n",
       "      <th></th>\n",
       "      <th>kor</th>\n",
       "      <th>mat</th>\n",
       "    </tr>\n",
       "  </thead>\n",
       "  <tbody>\n",
       "    <tr>\n",
       "      <th>0</th>\n",
       "      <td>100</td>\n",
       "      <td>90</td>\n",
       "    </tr>\n",
       "    <tr>\n",
       "      <th>1</th>\n",
       "      <td>10</td>\n",
       "      <td>20</td>\n",
       "    </tr>\n",
       "  </tbody>\n",
       "</table>\n",
       "</div>"
      ],
      "text/plain": [
       "   kor  mat\n",
       "0  100   90\n",
       "1   10   20"
      ]
     },
     "execution_count": 32,
     "metadata": {},
     "output_type": "execute_result"
    }
   ],
   "source": [
    "l = [[100,90],[10,20]]\n",
    "df = pd.DataFrame(l, columns=['kor','mat'])\n",
    "df"
   ]
  },
  {
   "cell_type": "code",
   "execution_count": 36,
   "id": "1684d0a5",
   "metadata": {},
   "outputs": [
    {
     "name": "stdout",
     "output_type": "stream",
     "text": [
      " D 드라이브의 볼륨에는 이름이 없습니다.\n",
      " 볼륨 일련 번호: 2D0E-15FE\n",
      "\n",
      " D:\\ai\\Downloads\\shareData\\상가정보 디렉터리\n",
      "\n",
      "2024-11-18  오후 04:19    <DIR>          .\n",
      "2024-11-18  오후 04:19    <DIR>          ..\n",
      "2024-10-23  오후 05:59             1,011 [필독]파일열람방법.txt\n",
      "2024-10-23  오후 06:19        53,454,658 소상공인시장진흥공단_상가(상권)정보_강원_202409.csv\n",
      "2024-10-23  오후 06:19       301,935,950 소상공인시장진흥공단_상가(상권)정보_경기_202409.csv\n",
      "2024-10-23  오후 06:20        86,291,699 소상공인시장진흥공단_상가(상권)정보_경남_202409.csv\n",
      "2024-10-23  오후 06:20        70,952,897 소상공인시장진흥공단_상가(상권)정보_경북_202409.csv\n",
      "2024-10-23  오후 06:20        36,458,714 소상공인시장진흥공단_상가(상권)정보_광주_202409.csv\n",
      "2024-10-23  오후 06:20        57,391,847 소상공인시장진흥공단_상가(상권)정보_대구_202409.csv\n",
      "2024-10-23  오후 06:20        36,638,904 소상공인시장진흥공단_상가(상권)정보_대전_202409.csv\n",
      "2024-10-23  오후 06:20        78,253,942 소상공인시장진흥공단_상가(상권)정보_부산_202409.csv\n",
      "2024-10-23  오후 06:18       254,255,270 소상공인시장진흥공단_상가(상권)정보_서울_202409.csv\n",
      "2024-10-23  오후 06:18         8,277,492 소상공인시장진흥공단_상가(상권)정보_세종_202409.csv\n",
      "2024-10-23  오후 06:18        26,299,042 소상공인시장진흥공단_상가(상권)정보_울산_202409.csv\n",
      "2024-10-23  오후 06:18        61,674,577 소상공인시장진흥공단_상가(상권)정보_인천_202409.csv\n",
      "2024-10-23  오후 06:19        49,328,950 소상공인시장진흥공단_상가(상권)정보_전남_202409.csv\n",
      "2024-10-23  오후 06:19        51,861,004 소상공인시장진흥공단_상가(상권)정보_전북_202409.csv\n",
      "2024-10-23  오후 06:19        30,450,901 소상공인시장진흥공단_상가(상권)정보_제주_202409.csv\n",
      "2024-10-23  오후 06:19        58,318,672 소상공인시장진흥공단_상가(상권)정보_충남_202409.csv\n",
      "2024-10-23  오후 06:19        44,415,648 소상공인시장진흥공단_상가(상권)정보_충북_202409.csv\n",
      "              18개 파일       1,306,261,178 바이트\n",
      "               2개 디렉터리  474,288,586,752 바이트 남음\n"
     ]
    }
   ],
   "source": [
    "%ls D:\\ai\\Downloads\\shareData\\상가정보"
   ]
  },
  {
   "cell_type": "code",
   "execution_count": 39,
   "id": "76e401c8",
   "metadata": {},
   "outputs": [
    {
     "data": {
      "text/plain": [
       "(30, 39)"
      ]
     },
     "execution_count": 39,
     "metadata": {},
     "output_type": "execute_result"
    }
   ],
   "source": [
    "df = pd.read_csv(r'D:\\ai\\Downloads\\shareData\\상가정보\\소상공인시장진흥공단_상가(상권)정보_세종_202409.csv', \n",
    "                encoding='utf-8', sep=',', # 기본값 생략가능\n",
    "                low_memory=False, # 데이터 용량이 클 경우만 기입\n",
    "                nrows=30) # 처음 30행만 가져오기\n",
    "df.shape"
   ]
  },
  {
   "cell_type": "code",
   "execution_count": 43,
   "id": "54a59862",
   "metadata": {},
   "outputs": [
    {
     "data": {
      "text/html": [
       "<div>\n",
       "<style scoped>\n",
       "    .dataframe tbody tr th:only-of-type {\n",
       "        vertical-align: middle;\n",
       "    }\n",
       "\n",
       "    .dataframe tbody tr th {\n",
       "        vertical-align: top;\n",
       "    }\n",
       "\n",
       "    .dataframe thead th {\n",
       "        text-align: right;\n",
       "    }\n",
       "</style>\n",
       "<table border=\"1\" class=\"dataframe\">\n",
       "  <thead>\n",
       "    <tr style=\"text-align: right;\">\n",
       "      <th></th>\n",
       "      <th>상가업소번호</th>\n",
       "      <th>상호명</th>\n",
       "      <th>지점명</th>\n",
       "      <th>상권업종대분류코드</th>\n",
       "      <th>상권업종대분류명</th>\n",
       "      <th>상권업종중분류코드</th>\n",
       "      <th>상권업종중분류명</th>\n",
       "      <th>상권업종소분류코드</th>\n",
       "      <th>상권업종소분류명</th>\n",
       "      <th>표준산업분류코드</th>\n",
       "      <th>...</th>\n",
       "      <th>건물관리번호</th>\n",
       "      <th>건물명</th>\n",
       "      <th>도로명주소</th>\n",
       "      <th>구우편번호</th>\n",
       "      <th>신우편번호</th>\n",
       "      <th>동정보</th>\n",
       "      <th>층정보</th>\n",
       "      <th>호정보</th>\n",
       "      <th>경도</th>\n",
       "      <th>위도</th>\n",
       "    </tr>\n",
       "  </thead>\n",
       "  <tbody>\n",
       "    <tr>\n",
       "      <th>0</th>\n",
       "      <td>MA0101202210A0084499</td>\n",
       "      <td>베트남쌀국수퍼짱</td>\n",
       "      <td>NaN</td>\n",
       "      <td>I2</td>\n",
       "      <td>음식</td>\n",
       "      <td>I205</td>\n",
       "      <td>동남아시아</td>\n",
       "      <td>I20501</td>\n",
       "      <td>베트남식 전문</td>\n",
       "      <td>I56194</td>\n",
       "      <td>...</td>\n",
       "      <td>3611010700103610086000001</td>\n",
       "      <td>모닝시티2</td>\n",
       "      <td>세종특별자치시 세종특별자치시 한누리대로 311</td>\n",
       "      <td>339003.0</td>\n",
       "      <td>30123</td>\n",
       "      <td>NaN</td>\n",
       "      <td>1.0</td>\n",
       "      <td>NaN</td>\n",
       "      <td>127.25584</td>\n",
       "      <td>36.492065</td>\n",
       "    </tr>\n",
       "  </tbody>\n",
       "</table>\n",
       "<p>1 rows × 39 columns</p>\n",
       "</div>"
      ],
      "text/plain": [
       "                 상가업소번호       상호명  지점명 상권업종대분류코드 상권업종대분류명 상권업종중분류코드 상권업종중분류명  \\\n",
       "0  MA0101202210A0084499  베트남쌀국수퍼짱  NaN        I2       음식      I205    동남아시아   \n",
       "\n",
       "  상권업종소분류코드 상권업종소분류명 표준산업분류코드  ...                     건물관리번호    건물명  \\\n",
       "0    I20501  베트남식 전문   I56194  ...  3611010700103610086000001  모닝시티2   \n",
       "\n",
       "                       도로명주소     구우편번호  신우편번호  동정보  층정보  호정보         경도  \\\n",
       "0  세종특별자치시 세종특별자치시 한누리대로 311  339003.0  30123  NaN  1.0  NaN  127.25584   \n",
       "\n",
       "          위도  \n",
       "0  36.492065  \n",
       "\n",
       "[1 rows x 39 columns]"
      ]
     },
     "execution_count": 43,
     "metadata": {},
     "output_type": "execute_result"
    }
   ],
   "source": [
    "df.head(1) # 상위 1행만 "
   ]
  },
  {
   "cell_type": "code",
   "execution_count": 44,
   "id": "be410537",
   "metadata": {},
   "outputs": [
    {
     "data": {
      "text/html": [
       "<div>\n",
       "<style scoped>\n",
       "    .dataframe tbody tr th:only-of-type {\n",
       "        vertical-align: middle;\n",
       "    }\n",
       "\n",
       "    .dataframe tbody tr th {\n",
       "        vertical-align: top;\n",
       "    }\n",
       "\n",
       "    .dataframe thead th {\n",
       "        text-align: right;\n",
       "    }\n",
       "</style>\n",
       "<table border=\"1\" class=\"dataframe\">\n",
       "  <thead>\n",
       "    <tr style=\"text-align: right;\">\n",
       "      <th></th>\n",
       "      <th>상가업소번호</th>\n",
       "      <th>상호명</th>\n",
       "      <th>지점명</th>\n",
       "      <th>상권업종대분류코드</th>\n",
       "      <th>상권업종대분류명</th>\n",
       "      <th>상권업종중분류코드</th>\n",
       "      <th>상권업종중분류명</th>\n",
       "      <th>상권업종소분류코드</th>\n",
       "      <th>상권업종소분류명</th>\n",
       "      <th>표준산업분류코드</th>\n",
       "      <th>표준산업분류명</th>\n",
       "      <th>시도코드</th>\n",
       "      <th>시도명</th>\n",
       "      <th>시군구코드</th>\n",
       "      <th>시군구명</th>\n",
       "      <th>행정동코드</th>\n",
       "      <th>행정동명</th>\n",
       "      <th>법정동코드</th>\n",
       "      <th>법정동명</th>\n",
       "      <th>지번코드</th>\n",
       "      <th>대지구분코드</th>\n",
       "      <th>대지구분명</th>\n",
       "      <th>지번본번지</th>\n",
       "      <th>지번부번지</th>\n",
       "      <th>지번주소</th>\n",
       "      <th>도로명코드</th>\n",
       "      <th>도로명</th>\n",
       "      <th>건물본번지</th>\n",
       "      <th>건물부번지</th>\n",
       "      <th>건물관리번호</th>\n",
       "      <th>건물명</th>\n",
       "      <th>도로명주소</th>\n",
       "      <th>구우편번호</th>\n",
       "      <th>신우편번호</th>\n",
       "      <th>동정보</th>\n",
       "      <th>층정보</th>\n",
       "      <th>호정보</th>\n",
       "      <th>경도</th>\n",
       "      <th>위도</th>\n",
       "    </tr>\n",
       "  </thead>\n",
       "  <tbody>\n",
       "    <tr>\n",
       "      <th>0</th>\n",
       "      <td>MA0101202210A0084499</td>\n",
       "      <td>베트남쌀국수퍼짱</td>\n",
       "      <td>NaN</td>\n",
       "      <td>I2</td>\n",
       "      <td>음식</td>\n",
       "      <td>I205</td>\n",
       "      <td>동남아시아</td>\n",
       "      <td>I20501</td>\n",
       "      <td>베트남식 전문</td>\n",
       "      <td>I56194</td>\n",
       "      <td>김밥 및 기타 간이 음식점업</td>\n",
       "      <td>36</td>\n",
       "      <td>세종특별자치시</td>\n",
       "      <td>36110</td>\n",
       "      <td>세종특별자치시</td>\n",
       "      <td>36110518</td>\n",
       "      <td>나성동</td>\n",
       "      <td>3611010700</td>\n",
       "      <td>나성동</td>\n",
       "      <td>3611010700107320000</td>\n",
       "      <td>1</td>\n",
       "      <td>대지</td>\n",
       "      <td>732</td>\n",
       "      <td>NaN</td>\n",
       "      <td>세종특별자치시 세종특별자치시 나성동 732</td>\n",
       "      <td>361102000002</td>\n",
       "      <td>세종특별자치시 세종특별자치시 한누리대로</td>\n",
       "      <td>311</td>\n",
       "      <td>NaN</td>\n",
       "      <td>3611010700103610086000001</td>\n",
       "      <td>모닝시티2</td>\n",
       "      <td>세종특별자치시 세종특별자치시 한누리대로 311</td>\n",
       "      <td>339003.0</td>\n",
       "      <td>30123</td>\n",
       "      <td>NaN</td>\n",
       "      <td>1.0</td>\n",
       "      <td>NaN</td>\n",
       "      <td>127.25584</td>\n",
       "      <td>36.492065</td>\n",
       "    </tr>\n",
       "  </tbody>\n",
       "</table>\n",
       "</div>"
      ],
      "text/plain": [
       "                 상가업소번호       상호명  지점명 상권업종대분류코드 상권업종대분류명 상권업종중분류코드 상권업종중분류명  \\\n",
       "0  MA0101202210A0084499  베트남쌀국수퍼짱  NaN        I2       음식      I205    동남아시아   \n",
       "\n",
       "  상권업종소분류코드 상권업종소분류명 표준산업분류코드          표준산업분류명  시도코드      시도명  시군구코드     시군구명  \\\n",
       "0    I20501  베트남식 전문   I56194  김밥 및 기타 간이 음식점업    36  세종특별자치시  36110  세종특별자치시   \n",
       "\n",
       "      행정동코드 행정동명       법정동코드 법정동명                 지번코드  대지구분코드 대지구분명  지번본번지  \\\n",
       "0  36110518  나성동  3611010700  나성동  3611010700107320000       1    대지    732   \n",
       "\n",
       "   지번부번지                     지번주소         도로명코드                    도로명  건물본번지  \\\n",
       "0    NaN  세종특별자치시 세종특별자치시 나성동 732  361102000002  세종특별자치시 세종특별자치시 한누리대로    311   \n",
       "\n",
       "   건물부번지                     건물관리번호    건물명                      도로명주소  \\\n",
       "0    NaN  3611010700103610086000001  모닝시티2  세종특별자치시 세종특별자치시 한누리대로 311   \n",
       "\n",
       "      구우편번호  신우편번호  동정보  층정보  호정보         경도         위도  \n",
       "0  339003.0  30123  NaN  1.0  NaN  127.25584  36.492065  "
      ]
     },
     "execution_count": 44,
     "metadata": {},
     "output_type": "execute_result"
    }
   ],
   "source": [
    "# 판다스 디스플레이 옵션\n",
    "pd.options.display.max_columns = 39 # 39열까지 display 가능\n",
    "pd.options.display.max_rows = 40    # 40행까지 display 가능\n",
    "df.head(1)"
   ]
  },
  {
   "cell_type": "code",
   "execution_count": 45,
   "id": "9654ea99",
   "metadata": {},
   "outputs": [
    {
     "data": {
      "text/html": [
       "<div>\n",
       "<style scoped>\n",
       "    .dataframe tbody tr th:only-of-type {\n",
       "        vertical-align: middle;\n",
       "    }\n",
       "\n",
       "    .dataframe tbody tr th {\n",
       "        vertical-align: top;\n",
       "    }\n",
       "\n",
       "    .dataframe thead th {\n",
       "        text-align: right;\n",
       "    }\n",
       "</style>\n",
       "<table border=\"1\" class=\"dataframe\">\n",
       "  <thead>\n",
       "    <tr style=\"text-align: right;\">\n",
       "      <th></th>\n",
       "      <th>0</th>\n",
       "    </tr>\n",
       "  </thead>\n",
       "  <tbody>\n",
       "    <tr>\n",
       "      <th>상가업소번호</th>\n",
       "      <td>MA0101202210A0084499</td>\n",
       "    </tr>\n",
       "    <tr>\n",
       "      <th>상호명</th>\n",
       "      <td>베트남쌀국수퍼짱</td>\n",
       "    </tr>\n",
       "    <tr>\n",
       "      <th>지점명</th>\n",
       "      <td>NaN</td>\n",
       "    </tr>\n",
       "    <tr>\n",
       "      <th>상권업종대분류코드</th>\n",
       "      <td>I2</td>\n",
       "    </tr>\n",
       "    <tr>\n",
       "      <th>상권업종대분류명</th>\n",
       "      <td>음식</td>\n",
       "    </tr>\n",
       "    <tr>\n",
       "      <th>상권업종중분류코드</th>\n",
       "      <td>I205</td>\n",
       "    </tr>\n",
       "    <tr>\n",
       "      <th>상권업종중분류명</th>\n",
       "      <td>동남아시아</td>\n",
       "    </tr>\n",
       "    <tr>\n",
       "      <th>상권업종소분류코드</th>\n",
       "      <td>I20501</td>\n",
       "    </tr>\n",
       "    <tr>\n",
       "      <th>상권업종소분류명</th>\n",
       "      <td>베트남식 전문</td>\n",
       "    </tr>\n",
       "    <tr>\n",
       "      <th>표준산업분류코드</th>\n",
       "      <td>I56194</td>\n",
       "    </tr>\n",
       "    <tr>\n",
       "      <th>표준산업분류명</th>\n",
       "      <td>김밥 및 기타 간이 음식점업</td>\n",
       "    </tr>\n",
       "    <tr>\n",
       "      <th>시도코드</th>\n",
       "      <td>36</td>\n",
       "    </tr>\n",
       "    <tr>\n",
       "      <th>시도명</th>\n",
       "      <td>세종특별자치시</td>\n",
       "    </tr>\n",
       "    <tr>\n",
       "      <th>시군구코드</th>\n",
       "      <td>36110</td>\n",
       "    </tr>\n",
       "    <tr>\n",
       "      <th>시군구명</th>\n",
       "      <td>세종특별자치시</td>\n",
       "    </tr>\n",
       "    <tr>\n",
       "      <th>행정동코드</th>\n",
       "      <td>36110518</td>\n",
       "    </tr>\n",
       "    <tr>\n",
       "      <th>행정동명</th>\n",
       "      <td>나성동</td>\n",
       "    </tr>\n",
       "    <tr>\n",
       "      <th>법정동코드</th>\n",
       "      <td>3611010700</td>\n",
       "    </tr>\n",
       "    <tr>\n",
       "      <th>법정동명</th>\n",
       "      <td>나성동</td>\n",
       "    </tr>\n",
       "    <tr>\n",
       "      <th>지번코드</th>\n",
       "      <td>3611010700107320000</td>\n",
       "    </tr>\n",
       "    <tr>\n",
       "      <th>대지구분코드</th>\n",
       "      <td>1</td>\n",
       "    </tr>\n",
       "    <tr>\n",
       "      <th>대지구분명</th>\n",
       "      <td>대지</td>\n",
       "    </tr>\n",
       "    <tr>\n",
       "      <th>지번본번지</th>\n",
       "      <td>732</td>\n",
       "    </tr>\n",
       "    <tr>\n",
       "      <th>지번부번지</th>\n",
       "      <td>NaN</td>\n",
       "    </tr>\n",
       "    <tr>\n",
       "      <th>지번주소</th>\n",
       "      <td>세종특별자치시 세종특별자치시 나성동 732</td>\n",
       "    </tr>\n",
       "    <tr>\n",
       "      <th>도로명코드</th>\n",
       "      <td>361102000002</td>\n",
       "    </tr>\n",
       "    <tr>\n",
       "      <th>도로명</th>\n",
       "      <td>세종특별자치시 세종특별자치시 한누리대로</td>\n",
       "    </tr>\n",
       "    <tr>\n",
       "      <th>건물본번지</th>\n",
       "      <td>311</td>\n",
       "    </tr>\n",
       "    <tr>\n",
       "      <th>건물부번지</th>\n",
       "      <td>NaN</td>\n",
       "    </tr>\n",
       "    <tr>\n",
       "      <th>건물관리번호</th>\n",
       "      <td>3611010700103610086000001</td>\n",
       "    </tr>\n",
       "    <tr>\n",
       "      <th>건물명</th>\n",
       "      <td>모닝시티2</td>\n",
       "    </tr>\n",
       "    <tr>\n",
       "      <th>도로명주소</th>\n",
       "      <td>세종특별자치시 세종특별자치시 한누리대로 311</td>\n",
       "    </tr>\n",
       "    <tr>\n",
       "      <th>구우편번호</th>\n",
       "      <td>339003.0</td>\n",
       "    </tr>\n",
       "    <tr>\n",
       "      <th>신우편번호</th>\n",
       "      <td>30123</td>\n",
       "    </tr>\n",
       "    <tr>\n",
       "      <th>동정보</th>\n",
       "      <td>NaN</td>\n",
       "    </tr>\n",
       "    <tr>\n",
       "      <th>층정보</th>\n",
       "      <td>1.0</td>\n",
       "    </tr>\n",
       "    <tr>\n",
       "      <th>호정보</th>\n",
       "      <td>NaN</td>\n",
       "    </tr>\n",
       "    <tr>\n",
       "      <th>경도</th>\n",
       "      <td>127.25584</td>\n",
       "    </tr>\n",
       "    <tr>\n",
       "      <th>위도</th>\n",
       "      <td>36.492065</td>\n",
       "    </tr>\n",
       "  </tbody>\n",
       "</table>\n",
       "</div>"
      ],
      "text/plain": [
       "                                   0\n",
       "상가업소번호          MA0101202210A0084499\n",
       "상호명                         베트남쌀국수퍼짱\n",
       "지점명                              NaN\n",
       "상권업종대분류코드                         I2\n",
       "상권업종대분류명                          음식\n",
       "상권업종중분류코드                       I205\n",
       "상권업종중분류명                       동남아시아\n",
       "상권업종소분류코드                     I20501\n",
       "상권업종소분류명                     베트남식 전문\n",
       "표준산업분류코드                      I56194\n",
       "표준산업분류명              김밥 및 기타 간이 음식점업\n",
       "시도코드                              36\n",
       "시도명                          세종특별자치시\n",
       "시군구코드                          36110\n",
       "시군구명                         세종특별자치시\n",
       "행정동코드                       36110518\n",
       "행정동명                             나성동\n",
       "법정동코드                     3611010700\n",
       "법정동명                             나성동\n",
       "지번코드             3611010700107320000\n",
       "대지구분코드                             1\n",
       "대지구분명                             대지\n",
       "지번본번지                            732\n",
       "지번부번지                            NaN\n",
       "지번주소         세종특별자치시 세종특별자치시 나성동 732\n",
       "도로명코드                   361102000002\n",
       "도로명            세종특별자치시 세종특별자치시 한누리대로\n",
       "건물본번지                            311\n",
       "건물부번지                            NaN\n",
       "건물관리번호     3611010700103610086000001\n",
       "건물명                            모닝시티2\n",
       "도로명주소      세종특별자치시 세종특별자치시 한누리대로 311\n",
       "구우편번호                       339003.0\n",
       "신우편번호                          30123\n",
       "동정보                              NaN\n",
       "층정보                              1.0\n",
       "호정보                              NaN\n",
       "경도                         127.25584\n",
       "위도                         36.492065"
      ]
     },
     "execution_count": 45,
     "metadata": {},
     "output_type": "execute_result"
    }
   ],
   "source": [
    "df.head(1).T"
   ]
  },
  {
   "cell_type": "markdown",
   "id": "3634b134",
   "metadata": {},
   "source": [
    "## 2.3 read_csv"
   ]
  },
  {
   "cell_type": "code",
   "execution_count": 47,
   "id": "c0f662ff",
   "metadata": {},
   "outputs": [
    {
     "data": {
      "text/html": [
       "<div>\n",
       "<style scoped>\n",
       "    .dataframe tbody tr th:only-of-type {\n",
       "        vertical-align: middle;\n",
       "    }\n",
       "\n",
       "    .dataframe tbody tr th {\n",
       "        vertical-align: top;\n",
       "    }\n",
       "\n",
       "    .dataframe thead th {\n",
       "        text-align: right;\n",
       "    }\n",
       "</style>\n",
       "<table border=\"1\" class=\"dataframe\">\n",
       "  <thead>\n",
       "    <tr style=\"text-align: right;\">\n",
       "      <th></th>\n",
       "      <th>Name</th>\n",
       "      <th>Age</th>\n",
       "      <th>Email</th>\n",
       "      <th>Address</th>\n",
       "      <th>Birth</th>\n",
       "    </tr>\n",
       "  </thead>\n",
       "  <tbody>\n",
       "    <tr>\n",
       "      <th>0</th>\n",
       "      <td>홍길동</td>\n",
       "      <td>20</td>\n",
       "      <td>hong@hong.com</td>\n",
       "      <td>서울시 강동구</td>\n",
       "      <td>1999-01-01</td>\n",
       "    </tr>\n",
       "    <tr>\n",
       "      <th>1</th>\n",
       "      <td>홍길서</td>\n",
       "      <td>30</td>\n",
       "      <td>seo@hong.com</td>\n",
       "      <td>서울시 중구</td>\n",
       "      <td>1999-12-01</td>\n",
       "    </tr>\n",
       "    <tr>\n",
       "      <th>2</th>\n",
       "      <td>홍길남</td>\n",
       "      <td>21</td>\n",
       "      <td>nam@hong.com</td>\n",
       "      <td>서울시 강동구</td>\n",
       "      <td>1999-11-01</td>\n",
       "    </tr>\n",
       "    <tr>\n",
       "      <th>3</th>\n",
       "      <td>홍길북</td>\n",
       "      <td>22</td>\n",
       "      <td>buk@hong.com</td>\n",
       "      <td>서울시 관악구</td>\n",
       "      <td>1999-05-01</td>\n",
       "    </tr>\n",
       "    <tr>\n",
       "      <th>4</th>\n",
       "      <td>홍길중</td>\n",
       "      <td>23</td>\n",
       "      <td>mid@hong.com</td>\n",
       "      <td>부산시 중구</td>\n",
       "      <td>1999-01-30</td>\n",
       "    </tr>\n",
       "    <tr>\n",
       "      <th>5</th>\n",
       "      <td>#홍길뜽</td>\n",
       "      <td>24</td>\n",
       "      <td>non@not.com</td>\n",
       "      <td>없는구</td>\n",
       "      <td>2000-01-01</td>\n",
       "    </tr>\n",
       "  </tbody>\n",
       "</table>\n",
       "</div>"
      ],
      "text/plain": [
       "   Name  Age          Email  Address       Birth\n",
       "0   홍길동   20  hong@hong.com  서울시 강동구  1999-01-01\n",
       "1   홍길서   30   seo@hong.com   서울시 중구  1999-12-01\n",
       "2   홍길남   21   nam@hong.com  서울시 강동구  1999-11-01\n",
       "3   홍길북   22   buk@hong.com  서울시 관악구  1999-05-01\n",
       "4   홍길중   23   mid@hong.com   부산시 중구  1999-01-30\n",
       "5  #홍길뜽   24    non@not.com      없는구  2000-01-01"
      ]
     },
     "execution_count": 47,
     "metadata": {},
     "output_type": "execute_result"
    }
   ],
   "source": [
    "# (1) CSV 파일 불러오기(기본값)\n",
    "member = pd.read_csv('data/ch12_member.csv'\n",
    "                     # , encoding='utf-8', sep=',' # 기본값\n",
    "                    )\n",
    "member"
   ]
  },
  {
   "cell_type": "code",
   "execution_count": 48,
   "id": "489527ad",
   "metadata": {},
   "outputs": [
    {
     "name": "stdout",
     "output_type": "stream",
     "text": [
      "<class 'pandas.core.frame.DataFrame'>\n",
      "RangeIndex: 6 entries, 0 to 5\n",
      "Data columns (total 5 columns):\n",
      " #   Column   Non-Null Count  Dtype \n",
      "---  ------   --------------  ----- \n",
      " 0   Name     6 non-null      object\n",
      " 1   Age      6 non-null      int64 \n",
      " 2   Email    6 non-null      object\n",
      " 3   Address  6 non-null      object\n",
      " 4   Birth    6 non-null      object\n",
      "dtypes: int64(1), object(4)\n",
      "memory usage: 368.0+ bytes\n"
     ]
    }
   ],
   "source": [
    "member.info()"
   ]
  },
  {
   "cell_type": "code",
   "execution_count": 50,
   "id": "53fc8e1a",
   "metadata": {},
   "outputs": [
    {
     "name": "stdout",
     "output_type": "stream",
     "text": [
      "<class 'pandas.core.frame.DataFrame'>\n",
      "RangeIndex: 6 entries, 0 to 5\n",
      "Data columns (total 5 columns):\n",
      " #   Column   Non-Null Count  Dtype         \n",
      "---  ------   --------------  -----         \n",
      " 0   Name     6 non-null      object        \n",
      " 1   Age      6 non-null      int64         \n",
      " 2   Email    6 non-null      object        \n",
      " 3   Address  6 non-null      object        \n",
      " 4   Birth    6 non-null      datetime64[ns]\n",
      "dtypes: datetime64[ns](1), int64(1), object(3)\n",
      "memory usage: 368.0+ bytes\n"
     ]
    }
   ],
   "source": [
    "# 문자로 읽어들인 Birth를 datetime형으로\n",
    "# 형변환은 astype()쓰지만 datetime형으로 변환할 때는 to_datetime()함수를 사용\n",
    "member['Birth'] = pd.to_datetime(member['Birth'])\n",
    "member.info()"
   ]
  },
  {
   "cell_type": "code",
   "execution_count": 52,
   "id": "f2c30571",
   "metadata": {},
   "outputs": [
    {
     "data": {
      "text/plain": [
       "Name               object\n",
       "Age                 int16\n",
       "Email              object\n",
       "Address            object\n",
       "Birth      datetime64[ns]\n",
       "dtype: object"
      ]
     },
     "execution_count": 52,
     "metadata": {},
     "output_type": "execute_result"
    }
   ],
   "source": [
    "import numpy as np\n",
    "member['Age'] = member['Age'].astype(np.int16)\n",
    "member.dtypes"
   ]
  },
  {
   "cell_type": "code",
   "execution_count": 57,
   "id": "6c14cbd4",
   "metadata": {},
   "outputs": [
    {
     "data": {
      "text/html": [
       "<div>\n",
       "<style scoped>\n",
       "    .dataframe tbody tr th:only-of-type {\n",
       "        vertical-align: middle;\n",
       "    }\n",
       "\n",
       "    .dataframe tbody tr th {\n",
       "        vertical-align: top;\n",
       "    }\n",
       "\n",
       "    .dataframe thead th {\n",
       "        text-align: right;\n",
       "    }\n",
       "</style>\n",
       "<table border=\"1\" class=\"dataframe\">\n",
       "  <thead>\n",
       "    <tr style=\"text-align: right;\">\n",
       "      <th></th>\n",
       "      <th>Name</th>\n",
       "      <th>Age</th>\n",
       "      <th>Email</th>\n",
       "      <th>Address</th>\n",
       "      <th>Birth</th>\n",
       "    </tr>\n",
       "  </thead>\n",
       "  <tbody>\n",
       "    <tr>\n",
       "      <th>0</th>\n",
       "      <td>홍길서</td>\n",
       "      <td>30</td>\n",
       "      <td>seo@hong.com</td>\n",
       "      <td>서울시 중구</td>\n",
       "      <td>1999-12-01</td>\n",
       "    </tr>\n",
       "    <tr>\n",
       "      <th>1</th>\n",
       "      <td>홍길남</td>\n",
       "      <td>21</td>\n",
       "      <td>nam@hong.com</td>\n",
       "      <td>서울시 강동구</td>\n",
       "      <td>1999-11-01</td>\n",
       "    </tr>\n",
       "    <tr>\n",
       "      <th>2</th>\n",
       "      <td>홍길북</td>\n",
       "      <td>22</td>\n",
       "      <td>buk@hong.com</td>\n",
       "      <td>서울시 관악구</td>\n",
       "      <td>1999-05-01</td>\n",
       "    </tr>\n",
       "    <tr>\n",
       "      <th>3</th>\n",
       "      <td>홍길중</td>\n",
       "      <td>23</td>\n",
       "      <td>mid@hong.com</td>\n",
       "      <td>부산시 중구</td>\n",
       "      <td>1999-01-30</td>\n",
       "    </tr>\n",
       "  </tbody>\n",
       "</table>\n",
       "</div>"
      ],
      "text/plain": [
       "  Name  Age         Email  Address       Birth\n",
       "0  홍길서   30  seo@hong.com   서울시 중구  1999-12-01\n",
       "1  홍길남   21  nam@hong.com  서울시 강동구  1999-11-01\n",
       "2  홍길북   22  buk@hong.com  서울시 관악구  1999-05-01\n",
       "3  홍길중   23  mid@hong.com   부산시 중구  1999-01-30"
      ]
     },
     "execution_count": 57,
     "metadata": {},
     "output_type": "execute_result"
    }
   ],
   "source": [
    "#(2) 특정행 제외하고 csv파일 읽어오기\n",
    "member = pd.read_csv('data/ch12_membercp949.csv', encoding='cp949',\n",
    "                    skiprows=[1,6]) # 1,6번째 행 제외하고 읽어오기(시작이 1부터)\n",
    "member"
   ]
  },
  {
   "cell_type": "code",
   "execution_count": 61,
   "id": "be3a75ab",
   "metadata": {},
   "outputs": [
    {
     "data": {
      "text/html": [
       "<div>\n",
       "<style scoped>\n",
       "    .dataframe tbody tr th:only-of-type {\n",
       "        vertical-align: middle;\n",
       "    }\n",
       "\n",
       "    .dataframe tbody tr th {\n",
       "        vertical-align: top;\n",
       "    }\n",
       "\n",
       "    .dataframe thead th {\n",
       "        text-align: right;\n",
       "    }\n",
       "</style>\n",
       "<table border=\"1\" class=\"dataframe\">\n",
       "  <thead>\n",
       "    <tr style=\"text-align: right;\">\n",
       "      <th></th>\n",
       "      <th>Name</th>\n",
       "      <th>Age</th>\n",
       "      <th>Email</th>\n",
       "      <th>Address</th>\n",
       "      <th>Birth</th>\n",
       "    </tr>\n",
       "  </thead>\n",
       "  <tbody>\n",
       "    <tr>\n",
       "      <th>0</th>\n",
       "      <td>홍길동</td>\n",
       "      <td>20</td>\n",
       "      <td>hong@hong.com</td>\n",
       "      <td>서울시 강동구</td>\n",
       "      <td>1999-01-01</td>\n",
       "    </tr>\n",
       "    <tr>\n",
       "      <th>1</th>\n",
       "      <td>홍길서</td>\n",
       "      <td>30</td>\n",
       "      <td>seo@hong.com</td>\n",
       "      <td>서울시 중구</td>\n",
       "      <td>1999-12-01</td>\n",
       "    </tr>\n",
       "    <tr>\n",
       "      <th>2</th>\n",
       "      <td>홍길남</td>\n",
       "      <td>21</td>\n",
       "      <td>nam@hong.com</td>\n",
       "      <td>서울시 강동구</td>\n",
       "      <td>1999-11-01</td>\n",
       "    </tr>\n",
       "    <tr>\n",
       "      <th>3</th>\n",
       "      <td>홍길북</td>\n",
       "      <td>22</td>\n",
       "      <td>buk@hong.com</td>\n",
       "      <td>서울시 관악구</td>\n",
       "      <td>1999-05-01</td>\n",
       "    </tr>\n",
       "    <tr>\n",
       "      <th>4</th>\n",
       "      <td>홍길중</td>\n",
       "      <td>23</td>\n",
       "      <td>mid@hong.com</td>\n",
       "      <td>부산시 중구</td>\n",
       "      <td>1999-01-30</td>\n",
       "    </tr>\n",
       "  </tbody>\n",
       "</table>\n",
       "</div>"
      ],
      "text/plain": [
       "  Name  Age          Email  Address       Birth\n",
       "0  홍길동   20  hong@hong.com  서울시 강동구  1999-01-01\n",
       "1  홍길서   30   seo@hong.com   서울시 중구  1999-12-01\n",
       "2  홍길남   21   nam@hong.com  서울시 강동구  1999-11-01\n",
       "3  홍길북   22   buk@hong.com  서울시 관악구  1999-05-01\n",
       "4  홍길중   23   mid@hong.com   부산시 중구  1999-01-30"
      ]
     },
     "execution_count": 61,
     "metadata": {},
     "output_type": "execute_result"
    }
   ],
   "source": [
    "# (3) 상위몇행만 csv 파일 읽어오기\n",
    "member_df = pd.read_csv('data/ch12_membersep.csv', sep='|', nrows=5) # 상위5행만 읽어오기\n",
    "member_df"
   ]
  },
  {
   "cell_type": "code",
   "execution_count": 65,
   "id": "c02d9c89",
   "metadata": {},
   "outputs": [
    {
     "name": "stdout",
     "output_type": "stream",
     "text": [
      "<class 'pandas.core.frame.DataFrame'>\n",
      "RangeIndex: 5 entries, 0 to 4\n",
      "Data columns (total 5 columns):\n",
      " #   Column   Non-Null Count  Dtype         \n",
      "---  ------   --------------  -----         \n",
      " 0   Name     5 non-null      object        \n",
      " 1   Age      5 non-null      int64         \n",
      " 2   Email    5 non-null      object        \n",
      " 3   Address  5 non-null      object        \n",
      " 4   Birth    5 non-null      datetime64[ns]\n",
      "dtypes: datetime64[ns](1), int64(1), object(3)\n",
      "memory usage: 328.0+ bytes\n"
     ]
    }
   ],
   "source": [
    "# 주석제외, datetime형 필드 지정하여 읽어오기\n",
    "member_df = pd.read_csv('data/ch12_membertab.csv', sep='\\t',\n",
    "                       comment='#', # #이 있는 행은 제외하고 읽어오기\n",
    "                       parse_dates=['Birth']) # datetime형으로 읽어올 필드 지정\n",
    "member_df.info()"
   ]
  },
  {
   "cell_type": "markdown",
   "id": "7834f2ad",
   "metadata": {},
   "source": [
    "## iris 데이터 가져오기 방법1 : sklearn(머신러닝패키지)\n",
    "## iris 데이터 가져오기 방법2 : statsmodels (R데이터 가져오기)\n",
    "## iris 데이터 가져오기 방법3 : seaborn(시각화 패키지)"
   ]
  },
  {
   "cell_type": "markdown",
   "id": "1f54eff8",
   "metadata": {},
   "source": [
    "## 2.4 sklearn.datasets 모듈 데이터(iris)를 데이터 프레임으로 변환"
   ]
  },
  {
   "cell_type": "code",
   "execution_count": 66,
   "id": "9a7c44f1",
   "metadata": {},
   "outputs": [
    {
     "data": {
      "text/plain": [
       "{'data': array([[5.1, 3.5, 1.4, 0.2],\n",
       "        [4.9, 3. , 1.4, 0.2],\n",
       "        [4.7, 3.2, 1.3, 0.2],\n",
       "        [4.6, 3.1, 1.5, 0.2],\n",
       "        [5. , 3.6, 1.4, 0.2],\n",
       "        [5.4, 3.9, 1.7, 0.4],\n",
       "        [4.6, 3.4, 1.4, 0.3],\n",
       "        [5. , 3.4, 1.5, 0.2],\n",
       "        [4.4, 2.9, 1.4, 0.2],\n",
       "        [4.9, 3.1, 1.5, 0.1],\n",
       "        [5.4, 3.7, 1.5, 0.2],\n",
       "        [4.8, 3.4, 1.6, 0.2],\n",
       "        [4.8, 3. , 1.4, 0.1],\n",
       "        [4.3, 3. , 1.1, 0.1],\n",
       "        [5.8, 4. , 1.2, 0.2],\n",
       "        [5.7, 4.4, 1.5, 0.4],\n",
       "        [5.4, 3.9, 1.3, 0.4],\n",
       "        [5.1, 3.5, 1.4, 0.3],\n",
       "        [5.7, 3.8, 1.7, 0.3],\n",
       "        [5.1, 3.8, 1.5, 0.3],\n",
       "        [5.4, 3.4, 1.7, 0.2],\n",
       "        [5.1, 3.7, 1.5, 0.4],\n",
       "        [4.6, 3.6, 1. , 0.2],\n",
       "        [5.1, 3.3, 1.7, 0.5],\n",
       "        [4.8, 3.4, 1.9, 0.2],\n",
       "        [5. , 3. , 1.6, 0.2],\n",
       "        [5. , 3.4, 1.6, 0.4],\n",
       "        [5.2, 3.5, 1.5, 0.2],\n",
       "        [5.2, 3.4, 1.4, 0.2],\n",
       "        [4.7, 3.2, 1.6, 0.2],\n",
       "        [4.8, 3.1, 1.6, 0.2],\n",
       "        [5.4, 3.4, 1.5, 0.4],\n",
       "        [5.2, 4.1, 1.5, 0.1],\n",
       "        [5.5, 4.2, 1.4, 0.2],\n",
       "        [4.9, 3.1, 1.5, 0.2],\n",
       "        [5. , 3.2, 1.2, 0.2],\n",
       "        [5.5, 3.5, 1.3, 0.2],\n",
       "        [4.9, 3.6, 1.4, 0.1],\n",
       "        [4.4, 3. , 1.3, 0.2],\n",
       "        [5.1, 3.4, 1.5, 0.2],\n",
       "        [5. , 3.5, 1.3, 0.3],\n",
       "        [4.5, 2.3, 1.3, 0.3],\n",
       "        [4.4, 3.2, 1.3, 0.2],\n",
       "        [5. , 3.5, 1.6, 0.6],\n",
       "        [5.1, 3.8, 1.9, 0.4],\n",
       "        [4.8, 3. , 1.4, 0.3],\n",
       "        [5.1, 3.8, 1.6, 0.2],\n",
       "        [4.6, 3.2, 1.4, 0.2],\n",
       "        [5.3, 3.7, 1.5, 0.2],\n",
       "        [5. , 3.3, 1.4, 0.2],\n",
       "        [7. , 3.2, 4.7, 1.4],\n",
       "        [6.4, 3.2, 4.5, 1.5],\n",
       "        [6.9, 3.1, 4.9, 1.5],\n",
       "        [5.5, 2.3, 4. , 1.3],\n",
       "        [6.5, 2.8, 4.6, 1.5],\n",
       "        [5.7, 2.8, 4.5, 1.3],\n",
       "        [6.3, 3.3, 4.7, 1.6],\n",
       "        [4.9, 2.4, 3.3, 1. ],\n",
       "        [6.6, 2.9, 4.6, 1.3],\n",
       "        [5.2, 2.7, 3.9, 1.4],\n",
       "        [5. , 2. , 3.5, 1. ],\n",
       "        [5.9, 3. , 4.2, 1.5],\n",
       "        [6. , 2.2, 4. , 1. ],\n",
       "        [6.1, 2.9, 4.7, 1.4],\n",
       "        [5.6, 2.9, 3.6, 1.3],\n",
       "        [6.7, 3.1, 4.4, 1.4],\n",
       "        [5.6, 3. , 4.5, 1.5],\n",
       "        [5.8, 2.7, 4.1, 1. ],\n",
       "        [6.2, 2.2, 4.5, 1.5],\n",
       "        [5.6, 2.5, 3.9, 1.1],\n",
       "        [5.9, 3.2, 4.8, 1.8],\n",
       "        [6.1, 2.8, 4. , 1.3],\n",
       "        [6.3, 2.5, 4.9, 1.5],\n",
       "        [6.1, 2.8, 4.7, 1.2],\n",
       "        [6.4, 2.9, 4.3, 1.3],\n",
       "        [6.6, 3. , 4.4, 1.4],\n",
       "        [6.8, 2.8, 4.8, 1.4],\n",
       "        [6.7, 3. , 5. , 1.7],\n",
       "        [6. , 2.9, 4.5, 1.5],\n",
       "        [5.7, 2.6, 3.5, 1. ],\n",
       "        [5.5, 2.4, 3.8, 1.1],\n",
       "        [5.5, 2.4, 3.7, 1. ],\n",
       "        [5.8, 2.7, 3.9, 1.2],\n",
       "        [6. , 2.7, 5.1, 1.6],\n",
       "        [5.4, 3. , 4.5, 1.5],\n",
       "        [6. , 3.4, 4.5, 1.6],\n",
       "        [6.7, 3.1, 4.7, 1.5],\n",
       "        [6.3, 2.3, 4.4, 1.3],\n",
       "        [5.6, 3. , 4.1, 1.3],\n",
       "        [5.5, 2.5, 4. , 1.3],\n",
       "        [5.5, 2.6, 4.4, 1.2],\n",
       "        [6.1, 3. , 4.6, 1.4],\n",
       "        [5.8, 2.6, 4. , 1.2],\n",
       "        [5. , 2.3, 3.3, 1. ],\n",
       "        [5.6, 2.7, 4.2, 1.3],\n",
       "        [5.7, 3. , 4.2, 1.2],\n",
       "        [5.7, 2.9, 4.2, 1.3],\n",
       "        [6.2, 2.9, 4.3, 1.3],\n",
       "        [5.1, 2.5, 3. , 1.1],\n",
       "        [5.7, 2.8, 4.1, 1.3],\n",
       "        [6.3, 3.3, 6. , 2.5],\n",
       "        [5.8, 2.7, 5.1, 1.9],\n",
       "        [7.1, 3. , 5.9, 2.1],\n",
       "        [6.3, 2.9, 5.6, 1.8],\n",
       "        [6.5, 3. , 5.8, 2.2],\n",
       "        [7.6, 3. , 6.6, 2.1],\n",
       "        [4.9, 2.5, 4.5, 1.7],\n",
       "        [7.3, 2.9, 6.3, 1.8],\n",
       "        [6.7, 2.5, 5.8, 1.8],\n",
       "        [7.2, 3.6, 6.1, 2.5],\n",
       "        [6.5, 3.2, 5.1, 2. ],\n",
       "        [6.4, 2.7, 5.3, 1.9],\n",
       "        [6.8, 3. , 5.5, 2.1],\n",
       "        [5.7, 2.5, 5. , 2. ],\n",
       "        [5.8, 2.8, 5.1, 2.4],\n",
       "        [6.4, 3.2, 5.3, 2.3],\n",
       "        [6.5, 3. , 5.5, 1.8],\n",
       "        [7.7, 3.8, 6.7, 2.2],\n",
       "        [7.7, 2.6, 6.9, 2.3],\n",
       "        [6. , 2.2, 5. , 1.5],\n",
       "        [6.9, 3.2, 5.7, 2.3],\n",
       "        [5.6, 2.8, 4.9, 2. ],\n",
       "        [7.7, 2.8, 6.7, 2. ],\n",
       "        [6.3, 2.7, 4.9, 1.8],\n",
       "        [6.7, 3.3, 5.7, 2.1],\n",
       "        [7.2, 3.2, 6. , 1.8],\n",
       "        [6.2, 2.8, 4.8, 1.8],\n",
       "        [6.1, 3. , 4.9, 1.8],\n",
       "        [6.4, 2.8, 5.6, 2.1],\n",
       "        [7.2, 3. , 5.8, 1.6],\n",
       "        [7.4, 2.8, 6.1, 1.9],\n",
       "        [7.9, 3.8, 6.4, 2. ],\n",
       "        [6.4, 2.8, 5.6, 2.2],\n",
       "        [6.3, 2.8, 5.1, 1.5],\n",
       "        [6.1, 2.6, 5.6, 1.4],\n",
       "        [7.7, 3. , 6.1, 2.3],\n",
       "        [6.3, 3.4, 5.6, 2.4],\n",
       "        [6.4, 3.1, 5.5, 1.8],\n",
       "        [6. , 3. , 4.8, 1.8],\n",
       "        [6.9, 3.1, 5.4, 2.1],\n",
       "        [6.7, 3.1, 5.6, 2.4],\n",
       "        [6.9, 3.1, 5.1, 2.3],\n",
       "        [5.8, 2.7, 5.1, 1.9],\n",
       "        [6.8, 3.2, 5.9, 2.3],\n",
       "        [6.7, 3.3, 5.7, 2.5],\n",
       "        [6.7, 3. , 5.2, 2.3],\n",
       "        [6.3, 2.5, 5. , 1.9],\n",
       "        [6.5, 3. , 5.2, 2. ],\n",
       "        [6.2, 3.4, 5.4, 2.3],\n",
       "        [5.9, 3. , 5.1, 1.8]]),\n",
       " 'target': array([0, 0, 0, 0, 0, 0, 0, 0, 0, 0, 0, 0, 0, 0, 0, 0, 0, 0, 0, 0, 0, 0,\n",
       "        0, 0, 0, 0, 0, 0, 0, 0, 0, 0, 0, 0, 0, 0, 0, 0, 0, 0, 0, 0, 0, 0,\n",
       "        0, 0, 0, 0, 0, 0, 1, 1, 1, 1, 1, 1, 1, 1, 1, 1, 1, 1, 1, 1, 1, 1,\n",
       "        1, 1, 1, 1, 1, 1, 1, 1, 1, 1, 1, 1, 1, 1, 1, 1, 1, 1, 1, 1, 1, 1,\n",
       "        1, 1, 1, 1, 1, 1, 1, 1, 1, 1, 1, 1, 2, 2, 2, 2, 2, 2, 2, 2, 2, 2,\n",
       "        2, 2, 2, 2, 2, 2, 2, 2, 2, 2, 2, 2, 2, 2, 2, 2, 2, 2, 2, 2, 2, 2,\n",
       "        2, 2, 2, 2, 2, 2, 2, 2, 2, 2, 2, 2, 2, 2, 2, 2, 2, 2]),\n",
       " 'frame': None,\n",
       " 'target_names': array(['setosa', 'versicolor', 'virginica'], dtype='<U10'),\n",
       " 'DESCR': '.. _iris_dataset:\\n\\nIris plants dataset\\n--------------------\\n\\n**Data Set Characteristics:**\\n\\n    :Number of Instances: 150 (50 in each of three classes)\\n    :Number of Attributes: 4 numeric, predictive attributes and the class\\n    :Attribute Information:\\n        - sepal length in cm\\n        - sepal width in cm\\n        - petal length in cm\\n        - petal width in cm\\n        - class:\\n                - Iris-Setosa\\n                - Iris-Versicolour\\n                - Iris-Virginica\\n                \\n    :Summary Statistics:\\n\\n    ============== ==== ==== ======= ===== ====================\\n                    Min  Max   Mean    SD   Class Correlation\\n    ============== ==== ==== ======= ===== ====================\\n    sepal length:   4.3  7.9   5.84   0.83    0.7826\\n    sepal width:    2.0  4.4   3.05   0.43   -0.4194\\n    petal length:   1.0  6.9   3.76   1.76    0.9490  (high!)\\n    petal width:    0.1  2.5   1.20   0.76    0.9565  (high!)\\n    ============== ==== ==== ======= ===== ====================\\n\\n    :Missing Attribute Values: None\\n    :Class Distribution: 33.3% for each of 3 classes.\\n    :Creator: R.A. Fisher\\n    :Donor: Michael Marshall (MARSHALL%PLU@io.arc.nasa.gov)\\n    :Date: July, 1988\\n\\nThe famous Iris database, first used by Sir R.A. Fisher. The dataset is taken\\nfrom Fisher\\'s paper. Note that it\\'s the same as in R, but not as in the UCI\\nMachine Learning Repository, which has two wrong data points.\\n\\nThis is perhaps the best known database to be found in the\\npattern recognition literature.  Fisher\\'s paper is a classic in the field and\\nis referenced frequently to this day.  (See Duda & Hart, for example.)  The\\ndata set contains 3 classes of 50 instances each, where each class refers to a\\ntype of iris plant.  One class is linearly separable from the other 2; the\\nlatter are NOT linearly separable from each other.\\n\\n.. topic:: References\\n\\n   - Fisher, R.A. \"The use of multiple measurements in taxonomic problems\"\\n     Annual Eugenics, 7, Part II, 179-188 (1936); also in \"Contributions to\\n     Mathematical Statistics\" (John Wiley, NY, 1950).\\n   - Duda, R.O., & Hart, P.E. (1973) Pattern Classification and Scene Analysis.\\n     (Q327.D83) John Wiley & Sons.  ISBN 0-471-22361-1.  See page 218.\\n   - Dasarathy, B.V. (1980) \"Nosing Around the Neighborhood: A New System\\n     Structure and Classification Rule for Recognition in Partially Exposed\\n     Environments\".  IEEE Transactions on Pattern Analysis and Machine\\n     Intelligence, Vol. PAMI-2, No. 1, 67-71.\\n   - Gates, G.W. (1972) \"The Reduced Nearest Neighbor Rule\".  IEEE Transactions\\n     on Information Theory, May 1972, 431-433.\\n   - See also: 1988 MLC Proceedings, 54-64.  Cheeseman et al\"s AUTOCLASS II\\n     conceptual clustering system finds 3 classes in the data.\\n   - Many, many more ...',\n",
       " 'feature_names': ['sepal length (cm)',\n",
       "  'sepal width (cm)',\n",
       "  'petal length (cm)',\n",
       "  'petal width (cm)'],\n",
       " 'filename': 'iris.csv',\n",
       " 'data_module': 'sklearn.datasets.data'}"
      ]
     },
     "execution_count": 66,
     "metadata": {},
     "output_type": "execute_result"
    }
   ],
   "source": [
    "from sklearn import datasets\n",
    "# import sklearn.datasets as datasets\n",
    "# sklearn 패키지는 머신러닝을 공부하기 위한,  학습 데이터셋들을 제공\n",
    "# sklearn 패키지에서 제공되는 데이터셋들은 딕셔너리 형식으로 제공\n",
    "iris = datasets.load_iris()\n",
    "iris # 딕셔너리 형태"
   ]
  },
  {
   "cell_type": "code",
   "execution_count": 68,
   "id": "16463350",
   "metadata": {},
   "outputs": [
    {
     "name": "stdout",
     "output_type": "stream",
     "text": [
      ".. _iris_dataset:\n",
      "\n",
      "Iris plants dataset\n",
      "--------------------\n",
      "\n",
      "**Data Set Characteristics:**\n",
      "\n",
      "    :Number of Instances: 150 (50 in each of three classes)\n",
      "    :Number of Attributes: 4 numeric, predictive attributes and the class\n",
      "    :Attribute Information:\n",
      "        - sepal length in cm\n",
      "        - sepal width in cm\n",
      "        - petal length in cm\n",
      "        - petal width in cm\n",
      "        - class:\n",
      "                - Iris-Setosa\n",
      "                - Iris-Versicolour\n",
      "                - Iris-Virginica\n",
      "                \n",
      "    :Summary Statistics:\n",
      "\n",
      "    ============== ==== ==== ======= ===== ====================\n",
      "                    Min  Max   Mean    SD   Class Correlation\n",
      "    ============== ==== ==== ======= ===== ====================\n",
      "    sepal length:   4.3  7.9   5.84   0.83    0.7826\n",
      "    sepal width:    2.0  4.4   3.05   0.43   -0.4194\n",
      "    petal length:   1.0  6.9   3.76   1.76    0.9490  (high!)\n",
      "    petal width:    0.1  2.5   1.20   0.76    0.9565  (high!)\n",
      "    ============== ==== ==== ======= ===== ====================\n",
      "\n",
      "    :Missing Attribute Values: None\n",
      "    :Class Distribution: 33.3% for each of 3 classes.\n",
      "    :Creator: R.A. Fisher\n",
      "    :Donor: Michael Marshall (MARSHALL%PLU@io.arc.nasa.gov)\n",
      "    :Date: July, 1988\n",
      "\n",
      "The famous Iris database, first used by Sir R.A. Fisher. The dataset is taken\n",
      "from Fisher's paper. Note that it's the same as in R, but not as in the UCI\n",
      "Machine Learning Repository, which has two wrong data points.\n",
      "\n",
      "This is perhaps the best known database to be found in the\n",
      "pattern recognition literature.  Fisher's paper is a classic in the field and\n",
      "is referenced frequently to this day.  (See Duda & Hart, for example.)  The\n",
      "data set contains 3 classes of 50 instances each, where each class refers to a\n",
      "type of iris plant.  One class is linearly separable from the other 2; the\n",
      "latter are NOT linearly separable from each other.\n",
      "\n",
      ".. topic:: References\n",
      "\n",
      "   - Fisher, R.A. \"The use of multiple measurements in taxonomic problems\"\n",
      "     Annual Eugenics, 7, Part II, 179-188 (1936); also in \"Contributions to\n",
      "     Mathematical Statistics\" (John Wiley, NY, 1950).\n",
      "   - Duda, R.O., & Hart, P.E. (1973) Pattern Classification and Scene Analysis.\n",
      "     (Q327.D83) John Wiley & Sons.  ISBN 0-471-22361-1.  See page 218.\n",
      "   - Dasarathy, B.V. (1980) \"Nosing Around the Neighborhood: A New System\n",
      "     Structure and Classification Rule for Recognition in Partially Exposed\n",
      "     Environments\".  IEEE Transactions on Pattern Analysis and Machine\n",
      "     Intelligence, Vol. PAMI-2, No. 1, 67-71.\n",
      "   - Gates, G.W. (1972) \"The Reduced Nearest Neighbor Rule\".  IEEE Transactions\n",
      "     on Information Theory, May 1972, 431-433.\n",
      "   - See also: 1988 MLC Proceedings, 54-64.  Cheeseman et al\"s AUTOCLASS II\n",
      "     conceptual clustering system finds 3 classes in the data.\n",
      "   - Many, many more ...\n"
     ]
    }
   ],
   "source": [
    "print(iris.DESCR) # iris 데이터 셋에 대한 설명"
   ]
  },
  {
   "cell_type": "code",
   "execution_count": 71,
   "id": "220a4825",
   "metadata": {},
   "outputs": [
    {
     "data": {
      "text/plain": [
       "array([[5.1, 3.5, 1.4, 0.2],\n",
       "       [4.9, 3. , 1.4, 0.2],\n",
       "       [4.7, 3.2, 1.3, 0.2]])"
      ]
     },
     "execution_count": 71,
     "metadata": {},
     "output_type": "execute_result"
    }
   ],
   "source": [
    "iris.data # 독립변수\n",
    "iris['data'][:3]"
   ]
  },
  {
   "cell_type": "code",
   "execution_count": 73,
   "id": "4a2bf026",
   "metadata": {},
   "outputs": [
    {
     "data": {
      "text/plain": [
       "['sepal length (cm)',\n",
       " 'sepal width (cm)',\n",
       " 'petal length (cm)',\n",
       " 'petal width (cm)']"
      ]
     },
     "execution_count": 73,
     "metadata": {},
     "output_type": "execute_result"
    }
   ],
   "source": [
    "iris.feature_names # 독립변수의 열이름\n",
    "iris['feature_names']"
   ]
  },
  {
   "cell_type": "code",
   "execution_count": 77,
   "id": "b1594d7c",
   "metadata": {},
   "outputs": [
    {
     "data": {
      "text/plain": [
       "['sepal_length', 'sepal_width', 'petal_length', 'petal_width']"
      ]
     },
     "execution_count": 77,
     "metadata": {},
     "output_type": "execute_result"
    }
   ],
   "source": [
    "[col[:-4].strip().replace(' ','_') for col in iris.feature_names]"
   ]
  },
  {
   "cell_type": "code",
   "execution_count": null,
   "id": "532cfd9a",
   "metadata": {},
   "outputs": [],
   "source": []
  },
  {
   "cell_type": "code",
   "execution_count": null,
   "id": "c7bff37b",
   "metadata": {},
   "outputs": [],
   "source": []
  },
  {
   "cell_type": "code",
   "execution_count": null,
   "id": "ae428857",
   "metadata": {},
   "outputs": [],
   "source": []
  }
 ],
 "metadata": {
  "kernelspec": {
   "display_name": "Python 3 (ipykernel)",
   "language": "python",
   "name": "python3"
  },
  "language_info": {
   "codemirror_mode": {
    "name": "ipython",
    "version": 3
   },
   "file_extension": ".py",
   "mimetype": "text/x-python",
   "name": "python",
   "nbconvert_exporter": "python",
   "pygments_lexer": "ipython3",
   "version": "3.10.9"
  },
  "toc": {
   "base_numbering": 1,
   "nav_menu": {},
   "number_sections": true,
   "sideBar": true,
   "skip_h1_title": false,
   "title_cell": "Table of Contents",
   "title_sidebar": "Contents",
   "toc_cell": false,
   "toc_position": {
    "height": "calc(100% - 180px)",
    "left": "10px",
    "top": "150px",
    "width": "165px"
   },
   "toc_section_display": true,
   "toc_window_display": true
  }
 },
 "nbformat": 4,
 "nbformat_minor": 5
}
