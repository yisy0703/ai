{
 "cells": [
  {
   "cell_type": "code",
   "execution_count": 3,
   "id": "e92b282a",
   "metadata": {},
   "outputs": [
    {
     "data": {
      "text/html": [
       "\n",
       "<style>\n",
       "div.container{width:99% !important;}\n",
       "div.cell.code_cell.rendered{width:90%;}\n",
       "div.CodeMirror {font-family:Consolas; font-size:18pt;}\n",
       "div.output {font-size:19pt; font-weight:bold;}\n",
       "div.input {font-family:Consolas; font-size:19pt;}\n",
       "div.prompt {min-width:70px;}\n",
       "div#toc-wrapper{padding-top:120px;}\n",
       "span.toc-item-num{display:none;}\n",
       "div.text_cell_render ul li{font-size:16pt;padding:5px;}\n",
       "div.CodeMirror-lines > div {padding-left:10px;}\n",
       "table.dataframe{font-size:13px;}\n",
       "</style>\n"
      ],
      "text/plain": [
       "<IPython.core.display.HTML object>"
      ]
     },
     "metadata": {},
     "output_type": "display_data"
    }
   ],
   "source": [
    "from IPython.display import display, HTML\n",
    "display(HTML(\"\"\"\n",
    "<style>\n",
    "div.container{width:99% !important;}\n",
    "div.cell.code_cell.rendered{width:90%;}\n",
    "div.CodeMirror {font-family:Consolas; font-size:18pt;}\n",
    "div.output {font-size:19pt; font-weight:bold;}\n",
    "div.input {font-family:Consolas; font-size:19pt;}\n",
    "div.prompt {min-width:70px;}\n",
    "div#toc-wrapper{padding-top:120px;}\n",
    "span.toc-item-num{display:none;}\n",
    "div.text_cell_render ul li{font-size:16pt;padding:5px;}\n",
    "div.CodeMirror-lines > div {padding-left:10px;}\n",
    "table.dataframe{font-size:13px;}\n",
    "</style>\n",
    "\"\"\"))"
   ]
  },
  {
   "cell_type": "markdown",
   "id": "8e2ef9ab",
   "metadata": {},
   "source": [
    "<b><font color=\"red\" size=\"6\">ch10. 데이터 베이스 연동</font></b>"
   ]
  },
  {
   "cell_type": "markdown",
   "id": "7e31ba62",
   "metadata": {},
   "source": [
    "# 1절. SQLite 데이터 베이스 연결\n",
    "- SQLite 데이터 베이스는 별도의 DBMS없이 SQL을 이용하여 DB 엑세스 할 수 있도록 만든 간단한 디스크 기반의 DB 제공\n",
    "- C 라이브러리\n",
    "- SQLite는 프로토타입을 만들 때 사용\n",
    "- 프로젝트 단계 : 분석 → 설계 → 구현 → 테스트 → 고객에게 배포 → 유지보수\n",
    "-               프로토타입(SQLite)  시제품     완제품(Oracle, MySql, Maria, ...)\n",
    "-\n",
    "- [DB browser for SQLite](https://sqlitebrowser.org/dl/)\n",
    "## 1.1 SQLite broswer 설치 및 sqlite3 패키지 load"
   ]
  },
  {
   "cell_type": "code",
   "execution_count": 5,
   "id": "283b5cb9",
   "metadata": {},
   "outputs": [
    {
     "data": {
      "text/plain": [
       "'3.40.1'"
      ]
     },
     "execution_count": 5,
     "metadata": {},
     "output_type": "execute_result"
    }
   ],
   "source": [
    "import sqlite3\n",
    "sqlite3.sqlite_version # sqlite3 패키지의 버전"
   ]
  },
  {
   "cell_type": "code",
   "execution_count": 6,
   "id": "eae6df5b",
   "metadata": {},
   "outputs": [
    {
     "data": {
      "text/plain": [
       "'1.5.3'"
      ]
     },
     "execution_count": 6,
     "metadata": {},
     "output_type": "execute_result"
    }
   ],
   "source": [
    "import pandas as pd\n",
    "pd.__version__"
   ]
  },
  {
   "cell_type": "code",
   "execution_count": 7,
   "id": "ef49a222",
   "metadata": {},
   "outputs": [
    {
     "data": {
      "text/plain": [
       "'1.23.5'"
      ]
     },
     "execution_count": 7,
     "metadata": {},
     "output_type": "execute_result"
    }
   ],
   "source": [
    "import numpy as np\n",
    "np.__version__"
   ]
  },
  {
   "cell_type": "markdown",
   "id": "7c834842",
   "metadata": {},
   "source": [
    "## 1.2 데이터베이스 연결\n",
    "- SQLite로 DB 연결시, DB파일이 있으면 연결, DB파일이 없으면 빈 DB 파일 생성"
   ]
  },
  {
   "cell_type": "code",
   "execution_count": 8,
   "id": "2d4f8a69",
   "metadata": {},
   "outputs": [
    {
     "data": {
      "text/plain": [
       "<sqlite3.Connection at 0x1d1fae4fe40>"
      ]
     },
     "execution_count": 8,
     "metadata": {},
     "output_type": "execute_result"
    }
   ],
   "source": [
    "# DB 연결\n",
    "conn = sqlite3.connect('data/ch10_example.db')\n",
    "conn"
   ]
  },
  {
   "cell_type": "code",
   "execution_count": 9,
   "id": "5aa9c771",
   "metadata": {},
   "outputs": [
    {
     "data": {
      "text/plain": [
       "<sqlite3.Cursor at 0x1d1fb01dec0>"
      ]
     },
     "execution_count": 9,
     "metadata": {},
     "output_type": "execute_result"
    }
   ],
   "source": [
    "# 커서 객체 생성. 커서는 SQL문 실행시키고, 결과데이터를 조회(select, 그외)하는데 사용하는 객체\n",
    "cursor = conn.cursor()\n",
    "cursor"
   ]
  },
  {
   "cell_type": "code",
   "execution_count": 10,
   "id": "65f8efea",
   "metadata": {},
   "outputs": [
    {
     "data": {
      "text/plain": [
       "<sqlite3.Cursor at 0x1d1fb01dec0>"
      ]
     },
     "execution_count": 10,
     "metadata": {},
     "output_type": "execute_result"
    }
   ],
   "source": [
    "cursor.execute('''\n",
    "    CREATE TABLE MEMBER (\n",
    "        NAME TEXT,\n",
    "        AGE  INT,\n",
    "        EMAIL TEXT\n",
    "    )\n",
    "''')"
   ]
  },
  {
   "cell_type": "code",
   "execution_count": 11,
   "id": "5a94b342",
   "metadata": {},
   "outputs": [
    {
     "data": {
      "text/plain": [
       "<sqlite3.Cursor at 0x1d1fb01dec0>"
      ]
     },
     "execution_count": 11,
     "metadata": {},
     "output_type": "execute_result"
    }
   ],
   "source": [
    "cursor.execute('DROP TABLE MEMBER')"
   ]
  },
  {
   "cell_type": "code",
   "execution_count": 12,
   "id": "930ec4c1",
   "metadata": {},
   "outputs": [
    {
     "data": {
      "text/plain": [
       "<sqlite3.Cursor at 0x1d1fb01dec0>"
      ]
     },
     "execution_count": 12,
     "metadata": {},
     "output_type": "execute_result"
    }
   ],
   "source": [
    "cursor.execute('''\n",
    "    CREATE TABLE MEMBER (\n",
    "        NAME TEXT,\n",
    "        AGE  INT,\n",
    "        EMAIL TEXT\n",
    "    )\n",
    "''')"
   ]
  },
  {
   "cell_type": "code",
   "execution_count": 13,
   "id": "b5f5e4c4",
   "metadata": {},
   "outputs": [
    {
     "name": "stdout",
     "output_type": "stream",
     "text": [
      "수행 결과 행수 : 1\n",
      "수행 결과 행수 : 1\n",
      "수행 결과 행수 : 1\n"
     ]
    }
   ],
   "source": [
    "cursor.execute('INSERT INTO MEMBER VALUES (\\'홍길동\\', 20, \\'h@h.com\\')')\n",
    "print('수행 결과 행수 :', cursor.rowcount)\n",
    "sql = \"INSERT INTO MEMBER VALUES ('신길동', 25, 'S@S.COM')\"\n",
    "cursor.execute(sql)\n",
    "print('수행 결과 행수 :', cursor.rowcount)\n",
    "cursor.execute('INSERT INTO MEMBER VALUES (\\'신림동\\', 30, \\'l@h.com\\')')\n",
    "print('수행 결과 행수 :', cursor.rowcount)"
   ]
  },
  {
   "cell_type": "code",
   "execution_count": 14,
   "id": "95402601",
   "metadata": {},
   "outputs": [],
   "source": [
    "conn.commit() # 反. conn.rollback() DML문에서만 commit"
   ]
  },
  {
   "cell_type": "code",
   "execution_count": 15,
   "id": "16d1dd05",
   "metadata": {},
   "outputs": [
    {
     "data": {
      "text/plain": [
       "<sqlite3.Cursor at 0x1d1fb01dec0>"
      ]
     },
     "execution_count": 15,
     "metadata": {},
     "output_type": "execute_result"
    }
   ],
   "source": [
    "# SQL전송 결과는 cursor가 가리킴\n",
    "cursor.execute(\"SELECT * FROM MEMBER ORDER BY NAME\")"
   ]
  },
  {
   "cell_type": "code",
   "execution_count": 16,
   "id": "16e42f91",
   "metadata": {},
   "outputs": [
    {
     "name": "stdout",
     "output_type": "stream",
     "text": [
      "[('신길동', 25, 'S@S.COM'), ('신림동', 30, 'l@h.com'), ('홍길동', 20, 'h@h.com')]\n"
     ]
    }
   ],
   "source": [
    "# insert, update, delete 문 실행결과 : cursor.rowcount\n",
    "# select문 실행 결과를 받는 함수들\n",
    "    ## fetchone() : 결과를 한행씩 받을 때 (튜플)\n",
    "    ## fetchall() : 결과를 모두 받을 때 (튜플 list)\n",
    "    ## fetchmany(n) : 결과를 n행 받을 때 (튜플 list)\n",
    "print(cursor.fetchall())"
   ]
  },
  {
   "cell_type": "code",
   "execution_count": 17,
   "id": "631f5838",
   "metadata": {},
   "outputs": [
    {
     "name": "stdout",
     "output_type": "stream",
     "text": [
      "[]\n"
     ]
    }
   ],
   "source": [
    "print(cursor.fetchall()) # 한번 소요된 cursor 객체는 다시 fetch할 수 없음"
   ]
  },
  {
   "cell_type": "code",
   "execution_count": 18,
   "id": "c59ba879",
   "metadata": {},
   "outputs": [
    {
     "data": {
      "text/plain": [
       "[('홍길동', 20, 'h@h.com'), ('신길동', 25, 'S@S.COM'), ('신림동', 30, 'l@h.com')]"
      ]
     },
     "execution_count": 18,
     "metadata": {},
     "output_type": "execute_result"
    }
   ],
   "source": [
    "cursor.execute(\"SELECT NAME, AGE, EMAIL FROM MEMBER ORDER BY AGE\")\n",
    "members = cursor.fetchall()\n",
    "members # 튜플 리스트"
   ]
  },
  {
   "cell_type": "code",
   "execution_count": 20,
   "id": "a7c4dbcf",
   "metadata": {},
   "outputs": [
    {
     "name": "stdout",
     "output_type": "stream",
     "text": [
      "('홍길동', 20, 'h@h.com')\n",
      "('신길동', 25, 'S@S.COM')\n",
      "('신림동', 30, 'l@h.com')\n"
     ]
    }
   ],
   "source": [
    "for member in members:\n",
    "    print(member)"
   ]
  },
  {
   "cell_type": "code",
   "execution_count": 22,
   "id": "9c7d8318",
   "metadata": {},
   "outputs": [],
   "source": [
    "# 한줄씩 읽기\n",
    "cursor.execute(\"SELECT NAME, AGE, EMAIL FROM MEMBER ORDER BY AGE\")\n",
    "member_list = []\n",
    "while True:\n",
    "    member = cursor.fetchone() # SQL문 수행 결과 한줄 가져오기\n",
    "    if member is None:\n",
    "        break\n",
    "    #print(member)\n",
    "    member_list.append({'name':member[0], 'age': member[1], 'email': member[2]})"
   ]
  },
  {
   "cell_type": "code",
   "execution_count": 23,
   "id": "20257ae2",
   "metadata": {},
   "outputs": [
    {
     "data": {
      "text/plain": [
       "[{'name': '홍길동', 'age': 20, 'email': 'h@h.com'},\n",
       " {'name': '신길동', 'age': 25, 'email': 'S@S.COM'},\n",
       " {'name': '신림동', 'age': 30, 'email': 'l@h.com'}]"
      ]
     },
     "execution_count": 23,
     "metadata": {},
     "output_type": "execute_result"
    }
   ],
   "source": [
    "member_list"
   ]
  },
  {
   "cell_type": "code",
   "execution_count": 25,
   "id": "62c81d44",
   "metadata": {},
   "outputs": [
    {
     "name": "stdout",
     "output_type": "stream",
     "text": [
      "('홍길동', 20, 'h@h.com')\n",
      "('신길동', 25, 'S@S.COM')\n",
      "('신림동', 30, 'l@h.com')\n"
     ]
    }
   ],
   "source": [
    "# 최상위 n행 읽기\n",
    "cursor.execute(\"SELECT NAME, AGE, EMAIL FROM MEMBER ORDER BY AGE\")\n",
    "for member in cursor.fetchmany(10):\n",
    "    print(member)"
   ]
  },
  {
   "cell_type": "code",
   "execution_count": 26,
   "id": "35e0bcbe",
   "metadata": {},
   "outputs": [],
   "source": [
    "class Member:\n",
    "    'Member 테이블의 내용을 받을 객체 타입'\n",
    "    def __init__(self, name, age, email):\n",
    "        self.name = name\n",
    "        self.age  = age\n",
    "        self.email= email\n",
    "    def as_dic(self): # insert문 전송시 필요\n",
    "        return {'name':self.name,\n",
    "                'age':self.age,\n",
    "                'email':self.email}\n",
    "    def __str__(self):\n",
    "        return \"{}\\t{}\\t{}\".format(self.name, self.age, self.email)\n",
    "def to_member(*row): # 튜플 데이터를 매개변수로 받아 Member형 객체로 return\n",
    "    return Member(row[0], row[1], row[2])"
   ]
  },
  {
   "cell_type": "code",
   "execution_count": 27,
   "id": "ebdd4566",
   "metadata": {},
   "outputs": [
    {
     "name": "stdout",
     "output_type": "stream",
     "text": [
      "홍길동\t20\th@h.com\n",
      "{'name': '홍길동', 'age': 20, 'email': 'h@h.com'}\n"
     ]
    }
   ],
   "source": [
    "dbreadmember = ('홍길동', 20, 'h@h.com')\n",
    "m = to_member(*dbreadmember) # 튜플 언패킹\n",
    "print(m)\n",
    "print(m.as_dic())"
   ]
  },
  {
   "cell_type": "code",
   "execution_count": null,
   "id": "8fe83a64",
   "metadata": {},
   "outputs": [],
   "source": []
  },
  {
   "cell_type": "code",
   "execution_count": null,
   "id": "3514024f",
   "metadata": {},
   "outputs": [],
   "source": []
  },
  {
   "cell_type": "code",
   "execution_count": null,
   "id": "6038229d",
   "metadata": {},
   "outputs": [],
   "source": []
  },
  {
   "cell_type": "code",
   "execution_count": null,
   "id": "2864f4a6",
   "metadata": {},
   "outputs": [],
   "source": []
  },
  {
   "cell_type": "code",
   "execution_count": null,
   "id": "9f200804",
   "metadata": {},
   "outputs": [],
   "source": []
  },
  {
   "cell_type": "code",
   "execution_count": null,
   "id": "6de9155f",
   "metadata": {},
   "outputs": [],
   "source": []
  },
  {
   "cell_type": "code",
   "execution_count": null,
   "id": "77e471b6",
   "metadata": {},
   "outputs": [],
   "source": []
  }
 ],
 "metadata": {
  "kernelspec": {
   "display_name": "Python 3 (ipykernel)",
   "language": "python",
   "name": "python3"
  },
  "language_info": {
   "codemirror_mode": {
    "name": "ipython",
    "version": 3
   },
   "file_extension": ".py",
   "mimetype": "text/x-python",
   "name": "python",
   "nbconvert_exporter": "python",
   "pygments_lexer": "ipython3",
   "version": "3.10.9"
  },
  "toc": {
   "base_numbering": 1,
   "nav_menu": {},
   "number_sections": true,
   "sideBar": true,
   "skip_h1_title": false,
   "title_cell": "Table of Contents",
   "title_sidebar": "Contents",
   "toc_cell": false,
   "toc_position": {
    "height": "calc(100% - 180px)",
    "left": "10px",
    "top": "150px",
    "width": "165px"
   },
   "toc_section_display": true,
   "toc_window_display": true
  }
 },
 "nbformat": 4,
 "nbformat_minor": 5
}
