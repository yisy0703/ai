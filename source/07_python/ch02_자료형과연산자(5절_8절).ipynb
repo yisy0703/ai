{
 "cells": [
  {
   "cell_type": "code",
   "execution_count": 4,
   "id": "d24ee236",
   "metadata": {},
   "outputs": [
    {
     "data": {
      "text/html": [
       "\n",
       "<style>\n",
       "div.container{width:99% !important;}\n",
       "div.cell.code_cell.rendered{width:90%;}\n",
       "div.CodeMirror {font-family:Consolas; font-size:19pt;}\n",
       "div.output {font-size:19pt; font-weight:bold;}\n",
       "div.input {font-family:Consolas; font-size:19pt;}\n",
       "div.prompt {min-width:70px;}\n",
       "div#toc-wrapper{padding-top:120px;}\n",
       "span.toc-item-num{display:none;}\n",
       "div.text_cell_render ul li{font-size:18pt;padding:5px;}\n",
       "div.CodeMirror-lines > div {padding-left:10px;}\n",
       "</style>\n"
      ],
      "text/plain": [
       "<IPython.core.display.HTML object>"
      ]
     },
     "metadata": {},
     "output_type": "display_data"
    }
   ],
   "source": [
    "from IPython.display import display, HTML\n",
    "display(HTML(\"\"\"\n",
    "<style>\n",
    "div.container{width:99% !important;}\n",
    "div.cell.code_cell.rendered{width:90%;}\n",
    "div.CodeMirror {font-family:Consolas; font-size:19pt;}\n",
    "div.output {font-size:19pt; font-weight:bold;}\n",
    "div.input {font-family:Consolas; font-size:19pt;}\n",
    "div.prompt {min-width:70px;}\n",
    "div#toc-wrapper{padding-top:120px;}\n",
    "span.toc-item-num{display:none;}\n",
    "div.text_cell_render ul li{font-size:18pt;padding:5px;}\n",
    "div.CodeMirror-lines > div {padding-left:10px;}\n",
    "</style>\n",
    "\"\"\"))"
   ]
  },
  {
   "cell_type": "markdown",
   "id": "f4c1b3d0",
   "metadata": {},
   "source": [
    "<b><font size=\"6\" color=\"red\">ch02. 자료형과 연산자</font></b>"
   ]
  },
  {
   "cell_type": "markdown",
   "id": "aba14ee9",
   "metadata": {},
   "source": [
    "# 5절. 연산자\n",
    "## 5.1 산술연산자 : +, -, *, /,  //(몫연산자), %(나머지), **(제곱)"
   ]
  },
  {
   "cell_type": "code",
   "execution_count": 44,
   "id": "7232a89a",
   "metadata": {},
   "outputs": [
    {
     "name": "stdout",
     "output_type": "stream",
     "text": [
      "100000\n"
     ]
    }
   ],
   "source": [
    "print(10**5) # 10의 5승"
   ]
  },
  {
   "cell_type": "markdown",
   "id": "a40a5015",
   "metadata": {},
   "source": [
    "## 5.2 할당연산자 : =, +=, -=, *=,  /=, //=, %="
   ]
  },
  {
   "cell_type": "code",
   "execution_count": 45,
   "id": "ada741bc",
   "metadata": {},
   "outputs": [
    {
     "data": {
      "text/plain": [
       "3"
      ]
     },
     "execution_count": 45,
     "metadata": {},
     "output_type": "execute_result"
    }
   ],
   "source": [
    "a = 10\n",
    "a //= 3 # a = a//3\n",
    "a"
   ]
  },
  {
   "cell_type": "code",
   "execution_count": null,
   "id": "855bfd5e",
   "metadata": {},
   "outputs": [],
   "source": [
    "## 5.2 할당연산자 : =, +=, -=, *=,  /=, //=, %=\n",
    "\n",
    "a = 10\n",
    "a //= 3 # a = a//3\n",
    "a"
   ]
  },
  {
   "cell_type": "markdown",
   "id": "06eb5b03",
   "metadata": {},
   "source": [
    "## 5.3 논리연산자 : &, and, |, or, not"
   ]
  },
  {
   "cell_type": "code",
   "execution_count": 49,
   "id": "b81248fd",
   "metadata": {},
   "outputs": [
    {
     "name": "stdout",
     "output_type": "stream",
     "text": [
      "True\n",
      "0\n"
     ]
    }
   ],
   "source": [
    "# & : 논리연산자, 비트연산자\n",
    "print( (10>3) & (10>5) ) # 논리연산 True & True\n",
    "print( 12 & 1 ) # 비트연산 # 1100 (12)\n",
    "                          # 0001 (1)\n",
    "                        # & 0000 (0)"
   ]
  },
  {
   "cell_type": "code",
   "execution_count": 58,
   "id": "ece2afb3",
   "metadata": {},
   "outputs": [
    {
     "name": "stdout",
     "output_type": "stream",
     "text": [
      "abc\n",
      "0\n",
      "None\n"
     ]
    }
   ],
   "source": [
    "# and :  거짓으로 판별되는 첫번째 항의 결과 반환\n",
    "      # 모든 항이 참이면, 마지막항의 결과 반환\n",
    "print(True and True and 'abc')\n",
    "print(0 and False)\n",
    "print(True and None)"
   ]
  },
  {
   "cell_type": "code",
   "execution_count": 55,
   "id": "4d4ab091",
   "metadata": {},
   "outputs": [
    {
     "name": "stdout",
     "output_type": "stream",
     "text": [
      "True\n"
     ]
    }
   ],
   "source": [
    "print( (10>5) and (10>7) )"
   ]
  },
  {
   "cell_type": "code",
   "execution_count": 61,
   "id": "ee7791b2",
   "metadata": {},
   "outputs": [
    {
     "name": "stdout",
     "output_type": "stream",
     "text": [
      "논리연산(연산자 앞뒤에 논리형일 때) : True\n",
      "비트연산(연산자 앞이나 뒤에 숫자일 때) 3\n"
     ]
    }
   ],
   "source": [
    "# | : 논리연산, 비트연산\n",
    "result = False | True\n",
    "print('논리연산(연산자 앞뒤에 논리형일 때) :',result)\n",
    "result = False | 3 # 0000 | 0011\n",
    "print('비트연산(연산자 앞이나 뒤에 숫자일 때)',result)"
   ]
  },
  {
   "cell_type": "code",
   "execution_count": 64,
   "id": "42fd3ae5",
   "metadata": {},
   "outputs": [
    {
     "name": "stdout",
     "output_type": "stream",
     "text": [
      "[]\n",
      "HONG\n"
     ]
    }
   ],
   "source": [
    "# or :  참으로 판별되는 첫번째 항의 결과 반환\n",
    "      # 모든 항이 거짓이면, 마지막항의 결과 반환\n",
    "print(False or 0 or '' or None or [])\n",
    "print('HONG' or 0 or False)"
   ]
  },
  {
   "cell_type": "markdown",
   "id": "9f400716",
   "metadata": {},
   "source": [
    "## 5.4 비교연산자 : >, >=, <, <=, ==, !="
   ]
  },
  {
   "cell_type": "code",
   "execution_count": 70,
   "id": "5f667d12",
   "metadata": {},
   "outputs": [
    {
     "name": "stdout",
     "output_type": "stream",
     "text": [
      "True\n",
      "True\n",
      "True\n"
     ]
    }
   ],
   "source": [
    "# 비교연산자는 이항, 삼항, ... 다항 연산자\n",
    "x = 5\n",
    "print( (4 < x) & (x < 10) )\n",
    "print( 4 < x < 10)\n",
    "print(1 < 2 < 4 < x < 10)"
   ]
  },
  {
   "cell_type": "code",
   "execution_count": 71,
   "id": "60f4896c",
   "metadata": {},
   "outputs": [
    {
     "name": "stdout",
     "output_type": "stream",
     "text": [
      "True\n",
      "False\n",
      "False\n",
      "False\n"
     ]
    }
   ],
   "source": [
    "# 비교연산자의 우선순위가 논리연산의 우선순위보다 낮다\n",
    "print( (10>5) & (10>7) )\n",
    "print(  10>5  &  10>7 ) # 괄호가 없으면 우선순위가 높은 논리연산부터 실행\n",
    "print(  10>(5  &  10)>7 )\n",
    "print(  10> 0 > 7 )\n",
    "# 0101 (5)\n",
    "# 1010 (10)"
   ]
  },
  {
   "cell_type": "code",
   "execution_count": 75,
   "id": "32e3d19e",
   "metadata": {},
   "outputs": [
    {
     "ename": "TypeError",
     "evalue": "unsupported operand type(s) for &: 'str' and 'int'",
     "output_type": "error",
     "traceback": [
      "\u001b[1;31m-----------------------------------------------------\u001b[0m",
      "\u001b[1;31mTypeError\u001b[0m           Traceback (most recent call last)",
      "Cell \u001b[1;32mIn[75], line 3\u001b[0m\n\u001b[0;32m      1\u001b[0m address \u001b[38;5;241m=\u001b[39m \u001b[38;5;124m'\u001b[39m\u001b[38;5;124m서울\u001b[39m\u001b[38;5;124m'\u001b[39m\n\u001b[0;32m      2\u001b[0m age \u001b[38;5;241m=\u001b[39m \u001b[38;5;241m29\u001b[39m\n\u001b[1;32m----> 3\u001b[0m \u001b[38;5;28mprint\u001b[39m(address\u001b[38;5;241m==\u001b[39m\u001b[38;5;124;43m'\u001b[39;49m\u001b[38;5;124;43m서울\u001b[39;49m\u001b[38;5;124;43m'\u001b[39;49m\u001b[43m \u001b[49m\u001b[38;5;241;43m&\u001b[39;49m\u001b[43m \u001b[49m\u001b[43mage\u001b[49m\u001b[38;5;241m>\u001b[39m\u001b[38;5;241m=\u001b[39m\u001b[38;5;241m30\u001b[39m)\n",
      "\u001b[1;31mTypeError\u001b[0m: unsupported operand type(s) for &: 'str' and 'int'"
     ]
    }
   ],
   "source": [
    "address = '서울'\n",
    "age = 29\n",
    "print(address=='서울' & age>=30) # 우선순위를 보고 괄호를 반드시"
   ]
  },
  {
   "cell_type": "code",
   "execution_count": 72,
   "id": "8cc86da5",
   "metadata": {},
   "outputs": [
    {
     "data": {
      "text/plain": [
       "True"
      ]
     },
     "execution_count": 72,
     "metadata": {},
     "output_type": "execute_result"
    }
   ],
   "source": [
    "# 문자는 ASCII 코드 순으로 비교 : 특수문자 < 숫자문자 < 대문자 < 소문자(abc순)\n",
    "'scott'<'tiger'"
   ]
  },
  {
   "cell_type": "code",
   "execution_count": 73,
   "id": "2f42e3bb",
   "metadata": {},
   "outputs": [
    {
     "data": {
      "text/plain": [
       "True"
      ]
     },
     "execution_count": 73,
     "metadata": {},
     "output_type": "execute_result"
    }
   ],
   "source": [
    "'감우성' < '홍길동'"
   ]
  },
  {
   "cell_type": "markdown",
   "id": "08d518f2",
   "metadata": {},
   "source": [
    "## 5.5 비트연산"
   ]
  },
  {
   "cell_type": "code",
   "execution_count": null,
   "id": "28daa11d",
   "metadata": {},
   "outputs": [],
   "source": [
    "a= '''\n",
    "x    y    x&y    x|y    x^y(XOR) ~x\n",
    "0    0     0      0      0        1\n",
    "0    1     0      1      1        1\n",
    "1    0     0      1      1        0\n",
    "1    1     1      1      0        0\n",
    "'''"
   ]
  },
  {
   "cell_type": "code",
   "execution_count": 83,
   "id": "7d3d72a6",
   "metadata": {},
   "outputs": [
    {
     "name": "stdout",
     "output_type": "stream",
     "text": [
      "  a = 15 : 1111\n",
      "  b =  2 : 0010\n",
      "a&b =  2 : 0010\n",
      "a|b = 15 : 1111\n",
      "a^b = 13 : 1101\n"
     ]
    }
   ],
   "source": [
    "a = 15\n",
    "b = 2\n",
    "print(\"  a = {0:2} : {0:04b}\".format(a))\n",
    "print(\"  b = {0:2} : {0:04b}\".format(b))\n",
    "print(\"a&b = {0:2} : {0:04b}\".format(a&b))\n",
    "print(\"a|b = {0:2} : {0:04b}\".format(a|b))\n",
    "print(\"a^b = {0:2} : {0:04b}\".format(a^b))"
   ]
  },
  {
   "cell_type": "markdown",
   "id": "4cec0ba1",
   "metadata": {},
   "source": [
    "## 5.6 isinstance"
   ]
  },
  {
   "cell_type": "code",
   "execution_count": 85,
   "id": "b9b92005",
   "metadata": {},
   "outputs": [
    {
     "data": {
      "text/plain": [
       "False"
      ]
     },
     "execution_count": 85,
     "metadata": {},
     "output_type": "execute_result"
    }
   ],
   "source": [
    "a = 15\n",
    "isinstance(a, float)"
   ]
  },
  {
   "cell_type": "markdown",
   "id": "b21837d9",
   "metadata": {},
   "source": [
    "- 포맷팅 : \"{[인덱스]:[공백대체문자][정렬방법][자릿수][타입]}\".format(변수명)\n",
    "- 연산자 \n",
    "    * 산술연산 : + - * / // % **\n",
    "    * 할당연산 : = += -= *= /= //= %=\n",
    "    * 논리연산 : & and | or not\n",
    "    * 비트연산 : ^(XOR) &(and) |(or) ~(not)\n",
    "    * 논리연산자가 비교연산자보다 우선순위가 높다"
   ]
  },
  {
   "cell_type": "code",
   "execution_count": null,
   "id": "8118a6c3",
   "metadata": {},
   "outputs": [],
   "source": []
  },
  {
   "cell_type": "markdown",
   "id": "faf2b4f2",
   "metadata": {},
   "source": [
    "# 6절. 문자열 다루기\n",
    "- 문자열슬라이싱변수[from:to:by]\n",
    "- len(문자열변수)\n",
    "- upper() : 대문자로\n",
    "- lower() : 소문자로\n",
    "- title() : 각 어절의 앞글자만 대문자로\n",
    "- capitalize() : 첫문자만 대문자로\n",
    "- count('찾을문자열') : '찾을문자열'이 몇개 들어있는지 갯수 반환\n",
    "- find('찾을문자열') : '찾을문자열'이 왼쪽부터 시작하여 몇번째에 있는지 index를 반환\n",
    "- rfind('찾을문자열') : '찾을문자열'이 오른쪽부터 시작하여 몇번째에 있는지 index를 반환\n",
    "            (찾을문자열이 없으면 -1을 반환)\n",
    "    cf. index('찾을문자열') : '찾을문자열'이 왼쪽부터 시작하여 몇번째 있는지 index를 반환\n",
    "            (찾을 문자열이 없으면 오류)\n",
    "- startswith('특정문자열') : '특정문자열'로 시작하는지 여부 반환\n",
    "- endswith('특정문자열') : '특정문자열'로 끝나는지 여부 반환\n",
    "- strip() : 좌우공백제거(trim)\n",
    "- rstrip() : 오른쪽 공백제거\n",
    "- lstrip() : 왼쪽 공백제거\n",
    "- split() : 문자열을 공백이나 다른 문자 기준으로 나누어 리스트로 반환\n",
    "- isdigit() : 문자열이 숫자 문자열인지 여부 반환\n",
    "- islower() : 문자열이 소문자인지 여부 반환\n",
    "- isupper() : 문자열이 대문자인지 여부 반환\n",
    "- replace(oldStr, newStr) : oldStr을 newStr을 변경"
   ]
  },
  {
   "cell_type": "code",
   "execution_count": 3,
   "id": "84fe026f",
   "metadata": {},
   "outputs": [
    {
     "data": {
      "text/plain": [
       "('python is easy. python is smart. python', 39)"
      ]
     },
     "execution_count": 3,
     "metadata": {},
     "output_type": "execute_result"
    }
   ],
   "source": [
    "temp = \"python is easy. python is smart. python\"\n",
    "temp, len(temp)"
   ]
  },
  {
   "cell_type": "code",
   "execution_count": 4,
   "id": "5ca1e65c",
   "metadata": {},
   "outputs": [
    {
     "name": "stdout",
     "output_type": "stream",
     "text": [
      "첫번째 글자는 p이고, 마지막 글자는 n입니다\n"
     ]
    }
   ],
   "source": [
    "print('첫번째 글자는 {}이고, 마지막 글자는 {}입니다'.format(temp[0], temp[-1]))"
   ]
  },
  {
   "cell_type": "code",
   "execution_count": 5,
   "id": "5ce3b589",
   "metadata": {},
   "outputs": [
    {
     "name": "stdout",
     "output_type": "stream",
     "text": [
      "전화번호 끝자리 : 2132\n"
     ]
    }
   ],
   "source": [
    "tel = \"010-7894-2132\"\n",
    "print('전화번호 끝자리 :', tel[-4:])"
   ]
  },
  {
   "cell_type": "code",
   "execution_count": 29,
   "id": "845fb672",
   "metadata": {},
   "outputs": [
    {
     "name": "stdout",
     "output_type": "stream",
     "text": [
      "대문자로 : PYTHON IS EASY. PYTHON IS SMART. PYTHON\n",
      "소문자로 : python is easy. python is smart. python\n",
      "title() : Python Is Easy. Python Is Smart. Python\n",
      "capitalize(): Python is easy. python is smart. python\n",
      "python이 몇번 나오는지 : 2\n",
      "대소문자 구분없이 python이 몇번 나오는지 : 3\n",
      "대소문자 구분없이 python이 몇번 나오는지 : 3\n",
      "대소문자 구분없이 python이 몇번 나오는지 : 3\n",
      "python이 나오는 첫index 위치 : 0\n",
      "python이 나오는 마지막index 위치 : 33\n",
      "Java가 나오는 첫 index 위치 : -1\n",
      "python이 나오는 첫index 위치 : 0\n",
      "python으로 시작하는 문자열인지 : False\n",
      "python으로 끝나는 문자열인지 : True\n",
      "python대신 R로 변경 : R is easy. R is SMART. R\n"
     ]
    }
   ],
   "source": [
    "temp = \"python is easy. pyTHon is SMART. python\"\n",
    "#       012345678901234567890123456789012345678\n",
    "print('대문자로 :', temp.upper())\n",
    "print('소문자로 :', temp.lower())\n",
    "print('title() :', temp.title())\n",
    "print('capitalize():', temp.capitalize())\n",
    "print('python이 몇번 나오는지 :', temp.count('python'))\n",
    "print('대소문자 구분없이 python이 몇번 나오는지 :', temp.upper().count('PYTHON'))\n",
    "print('대소문자 구분없이 python이 몇번 나오는지 :', temp.lower().count('python'))\n",
    "print('대소문자 구분없이 python이 몇번 나오는지 :', temp.title().count('Python'))\n",
    "print('python이 나오는 첫index 위치 :', temp.find('python'))\n",
    "print('python이 나오는 마지막index 위치 :', temp.rfind('python'))\n",
    "print('Java가 나오는 첫 index 위치 :', temp.find('Java'))\n",
    "print('python이 나오는 첫index 위치 :', temp.index('python'))\n",
    "# print('Java가 나오는 첫 index 위치 :', temp.index('Java'))\n",
    "print('python으로 시작하는 문자열인지 :', temp.startswith('Python'))\n",
    "print('python으로 끝나는 문자열인지 :', temp.endswith('python'))\n",
    "print('python대신 R로 변경 :', temp.replace('python','R').replace('pyTHon', 'R'))"
   ]
  },
  {
   "cell_type": "code",
   "execution_count": 44,
   "id": "e7d52c7b",
   "metadata": {},
   "outputs": [
    {
     "name": "stdout",
     "output_type": "stream",
     "text": [
      "strip() : [python is easy]\n",
      "lstrip() : [python is easy    ]\n",
      "rstrip() : [   python is easy]\n",
      "isdigit() : True\n",
      "대문자인지 : False\n",
      "소문자인지 : True\n"
     ]
    }
   ],
   "source": [
    "temp = '   python is easy    '\n",
    "notdisit = '1,234'\n",
    "print('strip() : [{}]'.format(temp.strip()))\n",
    "print('lstrip() : [{}]'.format(temp.lstrip()))\n",
    "print('rstrip() : [{}]'.format(temp.rstrip()))\n",
    "print('isdigit() : {}'.format(notdisit.replace(',','').isdigit()))\n",
    "print('대문자인지 : {}'.format(temp.isupper()))\n",
    "print('소문자인지 : {}'.format(temp.islower()))"
   ]
  },
  {
   "cell_type": "code",
   "execution_count": 45,
   "id": "7c2f3c8f",
   "metadata": {},
   "outputs": [
    {
     "name": "stdout",
     "output_type": "stream",
     "text": [
      "space 단위로 temp를 분리(list로 반환) : ['홍길동', '김길동', '신길똥', '유길뚱']\n"
     ]
    }
   ],
   "source": [
    "temp = '   홍길동    김길동 신길똥 유길뚱'\n",
    "print('space 단위로 temp를 분리(list로 반환) :', temp.split())"
   ]
  },
  {
   "cell_type": "code",
   "execution_count": 47,
   "id": "a2bb23fa",
   "metadata": {},
   "outputs": [
    {
     "name": "stdout",
     "output_type": "stream",
     "text": [
      "- 단위로 date를 분리(list로 반환)합니다\n",
      "년 : 2024\n",
      "월 : 11\n",
      "일 : 05\n"
     ]
    }
   ],
   "source": [
    "date = '2024-11-05'\n",
    "print('- 단위로 date를 분리(list로 반환)합니다')\n",
    "date_list = date.split('-')\n",
    "date_list\n",
    "print('년 :', date_list[0])\n",
    "print('월 :', date_list[1])\n",
    "print('일 :', date_list[2])"
   ]
  },
  {
   "cell_type": "code",
   "execution_count": 54,
   "id": "d2cf848e",
   "metadata": {},
   "outputs": [
    {
     "name": "stdout",
     "output_type": "stream",
     "text": [
      "원 temp : Java - Oracle - 웹표준 - JSP - PYTHON\n",
      "분리된 temp : ['Java', 'Oracle', '웹표준', 'JSP', 'PYTHON']\n",
      "joined_temp : Java/Oracle/웹표준/JSP/PYTHON\n"
     ]
    }
   ],
   "source": [
    "# ' - '을 '/'로 바꾸기\n",
    "temp = 'Java - Oracle - 웹표준 - JSP - PYTHON'\n",
    "print('원 temp :', temp)\n",
    "splited_temp = temp.split(' - ')\n",
    "print('분리된 temp :', splited_temp)\n",
    "joined_temp = '/'.join(splited_temp)\n",
    "print('joined_temp :', joined_temp)"
   ]
  },
  {
   "cell_type": "code",
   "execution_count": 55,
   "id": "f76940fc",
   "metadata": {},
   "outputs": [
    {
     "name": "stdout",
     "output_type": "stream",
     "text": [
      "A\n",
      "B\n",
      "C\n"
     ]
    }
   ],
   "source": [
    "str_ = 'ABC' # ['A','B', 'C']\n",
    "for s in str_:\n",
    "    print(s)"
   ]
  },
  {
   "cell_type": "code",
   "execution_count": 56,
   "id": "d337c2e7",
   "metadata": {},
   "outputs": [
    {
     "name": "stdout",
     "output_type": "stream",
     "text": [
      "A\n",
      "B\n",
      "C\n"
     ]
    }
   ],
   "source": [
    "str_list = ['A','B','C']\n",
    "for s in str_list:\n",
    "    print(s)"
   ]
  },
  {
   "cell_type": "code",
   "execution_count": 57,
   "id": "ed15de8b",
   "metadata": {},
   "outputs": [
    {
     "data": {
      "text/plain": [
       "['__add__',\n",
       " '__class__',\n",
       " '__contains__',\n",
       " '__delattr__',\n",
       " '__dir__',\n",
       " '__doc__',\n",
       " '__eq__',\n",
       " '__format__',\n",
       " '__ge__',\n",
       " '__getattribute__',\n",
       " '__getitem__',\n",
       " '__getnewargs__',\n",
       " '__gt__',\n",
       " '__hash__',\n",
       " '__init__',\n",
       " '__init_subclass__',\n",
       " '__iter__',\n",
       " '__le__',\n",
       " '__len__',\n",
       " '__lt__',\n",
       " '__mod__',\n",
       " '__mul__',\n",
       " '__ne__',\n",
       " '__new__',\n",
       " '__reduce__',\n",
       " '__reduce_ex__',\n",
       " '__repr__',\n",
       " '__rmod__',\n",
       " '__rmul__',\n",
       " '__setattr__',\n",
       " '__sizeof__',\n",
       " '__str__',\n",
       " '__subclasshook__',\n",
       " 'capitalize',\n",
       " 'casefold',\n",
       " 'center',\n",
       " 'count',\n",
       " 'encode',\n",
       " 'endswith',\n",
       " 'expandtabs',\n",
       " 'find',\n",
       " 'format',\n",
       " 'format_map',\n",
       " 'index',\n",
       " 'isalnum',\n",
       " 'isalpha',\n",
       " 'isascii',\n",
       " 'isdecimal',\n",
       " 'isdigit',\n",
       " 'isidentifier',\n",
       " 'islower',\n",
       " 'isnumeric',\n",
       " 'isprintable',\n",
       " 'isspace',\n",
       " 'istitle',\n",
       " 'isupper',\n",
       " 'join',\n",
       " 'ljust',\n",
       " 'lower',\n",
       " 'lstrip',\n",
       " 'maketrans',\n",
       " 'partition',\n",
       " 'removeprefix',\n",
       " 'removesuffix',\n",
       " 'replace',\n",
       " 'rfind',\n",
       " 'rindex',\n",
       " 'rjust',\n",
       " 'rpartition',\n",
       " 'rsplit',\n",
       " 'rstrip',\n",
       " 'split',\n",
       " 'splitlines',\n",
       " 'startswith',\n",
       " 'strip',\n",
       " 'swapcase',\n",
       " 'title',\n",
       " 'translate',\n",
       " 'upper',\n",
       " 'zfill']"
      ]
     },
     "execution_count": 57,
     "metadata": {},
     "output_type": "execute_result"
    }
   ],
   "source": [
    "# 문자열을 다룰 수 있는 함수들 목록\n",
    "dir(str)"
   ]
  },
  {
   "cell_type": "markdown",
   "id": "b57374d6",
   "metadata": {},
   "source": [
    "# 7절. 시간,날짜 다루기"
   ]
  },
  {
   "cell_type": "code",
   "execution_count": 9,
   "id": "cf0a478b",
   "metadata": {},
   "outputs": [],
   "source": [
    "# datetime모듈(~.py)안의 datetime, date, time을 import\n",
    "from datetime import datetime, date, time"
   ]
  },
  {
   "cell_type": "markdown",
   "id": "a8d06c79",
   "metadata": {},
   "source": [
    "## 7.1 시간과 날짜"
   ]
  },
  {
   "cell_type": "code",
   "execution_count": 3,
   "id": "33be4b1d",
   "metadata": {},
   "outputs": [
    {
     "data": {
      "text/plain": [
       "datetime.datetime(2025, 3, 7, 18, 0)"
      ]
     },
     "execution_count": 3,
     "metadata": {},
     "output_type": "execute_result"
    }
   ],
   "source": [
    "# 특정 시점을 갖는 datetime 객체 생성\n",
    "thatday = datetime(2025, 3, 7, 18, 0)\n",
    "thatday"
   ]
  },
  {
   "cell_type": "code",
   "execution_count": 6,
   "id": "f77cc106",
   "metadata": {},
   "outputs": [
    {
     "name": "stdout",
     "output_type": "stream",
     "text": [
      "2025-03-07 18:00:00\n",
      "2025년 03월 07일 PM 06시 00분\n",
      "25년03월07일 18시00분00초\n"
     ]
    }
   ],
   "source": [
    "print(thatday)\n",
    "print(thatday.strftime(\"%Y년 %m월 %d일 %p %I시 %M분\"))\n",
    "print(\"{:%y년%m월%d일 %H시%M분%S초}\".format(thatday))"
   ]
  },
  {
   "cell_type": "code",
   "execution_count": 8,
   "id": "d115e0af",
   "metadata": {},
   "outputs": [
    {
     "name": "stdout",
     "output_type": "stream",
     "text": [
      "Wed Nov  6 09:53:16 2024\n",
      "2024-11-06 09:53:16.590194\n",
      "2024년 11월 06일 AM 09시 53분\n",
      "24년11월06일 09시53분16초\n"
     ]
    }
   ],
   "source": [
    "# 지금을 저장하는 datetime 객체 생성\n",
    "now = datetime.now()\n",
    "print(now.ctime()) # 사람이 읽기 쉬는 형태로 \n",
    "print(now)\n",
    "print(now.strftime(\"%Y년 %m월 %d일 %p %I시 %M분\"))\n",
    "print(\"{:%y년%m월%d일 %H시%M분%S초}\".format(now))"
   ]
  },
  {
   "cell_type": "markdown",
   "id": "6804c21c",
   "metadata": {},
   "source": [
    "## 7.2 날짜"
   ]
  },
  {
   "cell_type": "code",
   "execution_count": 10,
   "id": "13bac6c6",
   "metadata": {},
   "outputs": [
    {
     "data": {
      "text/plain": [
       "datetime.date(2025, 3, 7)"
      ]
     },
     "execution_count": 10,
     "metadata": {},
     "output_type": "execute_result"
    }
   ],
   "source": [
    "# 특정한 날짜를 갖는 date 객체 생성\n",
    "someday = date(2025, 3, 7)\n",
    "someday"
   ]
  },
  {
   "cell_type": "code",
   "execution_count": 14,
   "id": "17ec07bc",
   "metadata": {},
   "outputs": [
    {
     "name": "stdout",
     "output_type": "stream",
     "text": [
      "2025-03-07\n",
      "2025년03월07일 00시00분\n",
      "2025년03월07일 00시00분\n"
     ]
    }
   ],
   "source": [
    "print(someday)\n",
    "print(someday.strftime(\"%Y년%m월%d일 %H시%M분\"))\n",
    "print(\"{:%Y년%m월%d일 %H시%M분}\".format(someday))"
   ]
  },
  {
   "cell_type": "code",
   "execution_count": 15,
   "id": "4458b589",
   "metadata": {},
   "outputs": [
    {
     "data": {
      "text/plain": [
       "datetime.date(2024, 11, 6)"
      ]
     },
     "execution_count": 15,
     "metadata": {},
     "output_type": "execute_result"
    }
   ],
   "source": [
    "# 오늘을 갖는 date 객체 생성\n",
    "today = date.today()\n",
    "today"
   ]
  },
  {
   "cell_type": "code",
   "execution_count": 16,
   "id": "f6019ca7",
   "metadata": {},
   "outputs": [
    {
     "name": "stdout",
     "output_type": "stream",
     "text": [
      "2024-11-06\n",
      "2024년11월06일 00시00분\n",
      "2024년11월06일 00시00분\n"
     ]
    }
   ],
   "source": [
    "print(today)\n",
    "print(today.strftime(\"%Y년%m월%d일 %H시%M분\"))\n",
    "print(\"{:%Y년%m월%d일 %H시%M분}\".format(today))"
   ]
  },
  {
   "cell_type": "markdown",
   "id": "d3fe42a5",
   "metadata": {},
   "source": [
    "## 7.3 시간"
   ]
  },
  {
   "cell_type": "code",
   "execution_count": 17,
   "id": "37df8ad0",
   "metadata": {},
   "outputs": [
    {
     "data": {
      "text/plain": [
       "datetime.time(13, 12)"
      ]
     },
     "execution_count": 17,
     "metadata": {},
     "output_type": "execute_result"
    }
   ],
   "source": [
    "# 특정한 시간을 저장하는 time 객체 생성\n",
    "t = time(13, 12)\n",
    "t"
   ]
  },
  {
   "cell_type": "code",
   "execution_count": 20,
   "id": "827eab4a",
   "metadata": {},
   "outputs": [
    {
     "name": "stdout",
     "output_type": "stream",
     "text": [
      "13:12:00\n",
      "1900년01월01일 PM 01시12분00초\n",
      "00년01월01일 13시12분00초\n"
     ]
    }
   ],
   "source": [
    "print(t)\n",
    "print(t.strftime(\"%Y년%m월%d일 %p %I시%M분%S초\"))\n",
    "print(\"{:%y년%m월%d일 %H시%M분%S초}\".format(t))"
   ]
  },
  {
   "cell_type": "code",
   "execution_count": 47,
   "id": "8650c8da",
   "metadata": {},
   "outputs": [
    {
     "data": {
      "text/plain": [
       "(2024, 11, 6, 10, 9, 25, 999999)"
      ]
     },
     "execution_count": 47,
     "metadata": {},
     "output_type": "execute_result"
    }
   ],
   "source": [
    "# 현재 시간을 저장하는 time 객체 생성\n",
    "now = datetime.now() # 현재 날짜와 현재 시간\n",
    "now.year, now.month, now.day, now.hour, now.minute, now.second, now.microsecond"
   ]
  },
  {
   "cell_type": "code",
   "execution_count": 57,
   "id": "9447bed6",
   "metadata": {},
   "outputs": [
    {
     "name": "stdout",
     "output_type": "stream",
     "text": [
      "10:11:16.068868\n",
      "1900년01월01일 AM 10시11분16초\n",
      "00년01월01일 10시11분16초\n"
     ]
    }
   ],
   "source": [
    "now = datetime.now() \n",
    "now_time = time(now.hour, now.minute, now.second, now.microsecond)\n",
    "print(now_time)\n",
    "print(now_time.strftime(\"%Y년%m월%d일 %p %I시%M분%S초\"))\n",
    "print(\"{:%y년%m월%d일 %H시%M분%S초}\".format(now_time))"
   ]
  },
  {
   "cell_type": "markdown",
   "id": "e518f4c6",
   "metadata": {},
   "source": [
    "# 8절. 연습문제"
   ]
  },
  {
   "cell_type": "code",
   "execution_count": 59,
   "id": "55e77724",
   "metadata": {},
   "outputs": [
    {
     "name": "stdout",
     "output_type": "stream",
     "text": [
      "홍길동님의 나이는 23살입니다\n",
      "홍길동님의 나이는 23살입니다\n",
      "홍길동님의 나이는 23살입니다\n",
      "홍길동님의 나이는 23살입니다\n"
     ]
    }
   ],
   "source": [
    "# 1.이름과 나이 변수를 다음 형식으로 출력하도록 format() 함수를 이용해 형식화하세요\n",
    "# [출력형식 : 홍길동님의 나이는 23살입니다]\n",
    "name = '홍길동'\n",
    "age = 23\n",
    "print('{}님의 나이는 {}살입니다'.format(name, age))\n",
    "print('{0}님의 나이는 {1}살입니다'.format(name, age))\n",
    "print('%s님의 나이는 %d살입니다'% (name, age))\n",
    "print(f'{name}님의 나이는 {age}살입니다')"
   ]
  },
  {
   "cell_type": "code",
   "execution_count": 73,
   "id": "afeeefbe",
   "metadata": {},
   "outputs": [
    {
     "name": "stdout",
     "output_type": "stream",
     "text": [
      "첫번째 수10\n",
      "두번째 수20\n",
      "num1 + num2 =  30\n",
      "num1 - num2 =  -10\n",
      "num1 * num2 =  200\n",
      "num1 / num2 =  0.5\n",
      "num1 // num2 =  0\n",
      "num1 % num2 =  10\n"
     ]
    }
   ],
   "source": [
    "# 2. 두 정수를 입력받아 두 수의 덧셈, 뺄셈, 곱셈, 나눗셈, 몫, 나머지를 출력하세요\n",
    "num1 = int(input('첫번째 수'))\n",
    "num2 = int(input('두번째 수'))\n",
    "print('num1 + num2 = ', (num1+num2))\n",
    "print('num1 - num2 = ', (num1-num2))\n",
    "print('num1 * num2 = ', (num1*num2))\n",
    "print('num1 / num2 = ', (num1/num2))\n",
    "print('num1 // num2 = ', (num1//num2))\n",
    "print('num1 % num2 = ', (num1%num2))"
   ]
  },
  {
   "cell_type": "code",
   "execution_count": 62,
   "id": "d626e861",
   "metadata": {},
   "outputs": [
    {
     "name": "stdout",
     "output_type": "stream",
     "text": [
      "world Hello\n",
      "world Hello\n"
     ]
    }
   ],
   "source": [
    "# 3.문자열의 분리하기와 합치기 기능을 이용하여 ‘Hello World’가 \n",
    "    #할당된 변수를 이용하여 ‘World Hello’로 출력하세요\n",
    "str = 'Hello world'\n",
    "print(str[-5:],str[:5])\n",
    "splited_str = str.split()\n",
    "print(splited_str[1], splited_str[0])"
   ]
  },
  {
   "cell_type": "code",
   "execution_count": 63,
   "id": "66de755d",
   "metadata": {},
   "outputs": [
    {
     "name": "stdout",
     "output_type": "stream",
     "text": [
      "['world', 'Hello']\n",
      "world Hello\n"
     ]
    }
   ],
   "source": [
    "print(splited_str[::-1])\n",
    "print(' '.join(splited_str[::-1]))"
   ]
  },
  {
   "cell_type": "code",
   "execution_count": 64,
   "id": "b2d0afda",
   "metadata": {},
   "outputs": [
    {
     "name": "stdout",
     "output_type": "stream",
     "text": [
      "bcdefa\n",
      "bcdefa\n"
     ]
    }
   ],
   "source": [
    "# 4. x = 'abcdef＇를 이용하여 ‘bcdefa’로 출력하세요\n",
    "x = 'abcdef'\n",
    "print(x[1:]+x[0])\n",
    "print(x[1:],x[0], sep='')"
   ]
  },
  {
   "cell_type": "code",
   "execution_count": 65,
   "id": "9a461344",
   "metadata": {},
   "outputs": [
    {
     "name": "stdout",
     "output_type": "stream",
     "text": [
      "fdecba\n"
     ]
    }
   ],
   "source": [
    "# 5.x = ‘abcdef’를 이용하여 ‘fedcba’로 출력하세요\n",
    "x = 'abcedf'\n",
    "print(x[::-1])"
   ]
  },
  {
   "cell_type": "code",
   "execution_count": 74,
   "id": "2de20cd2",
   "metadata": {},
   "outputs": [
    {
     "name": "stdout",
     "output_type": "stream",
     "text": [
      "섭씨 온도를 입력하세요9\n",
      "섭씨 9도는 화씨온도로 바꾸면 48.20도 입니다\n"
     ]
    }
   ],
   "source": [
    "# 6.섭씨온도로 입력받아 화씨 온도로 변환\n",
    "c = int(input('섭씨 온도를 입력하세요'))\n",
    "f = (c*1.8)+32\n",
    "print(\"섭씨 {}도는 화씨온도로 바꾸면 {:.2f}도 입니다\".format(c, f))"
   ]
  },
  {
   "cell_type": "code",
   "execution_count": 67,
   "id": "e36a6712",
   "metadata": {},
   "outputs": [],
   "source": [
    "#7 (1) (2) (3)번"
   ]
  },
  {
   "cell_type": "code",
   "execution_count": 68,
   "id": "b6f65d0f",
   "metadata": {},
   "outputs": [
    {
     "name": "stdout",
     "output_type": "stream",
     "text": [
      "SeounSeoul\n",
      "Seou n Seoul\n"
     ]
    }
   ],
   "source": [
    "# 8\n",
    "text = \"Seoul A001 - programming with python\"\n",
    "print(text[:4]+text[-1]+text.split()[0])\n",
    "print(text[:4], text[-1], text.split()[0])"
   ]
  },
  {
   "cell_type": "code",
   "execution_count": 69,
   "id": "f0c458bf",
   "metadata": {},
   "outputs": [],
   "source": [
    "# 9 (2)"
   ]
  },
  {
   "cell_type": "code",
   "execution_count": 71,
   "id": "735e805c",
   "metadata": {},
   "outputs": [],
   "source": [
    "# 10 아래 프로그램의 결과는 ? 에러남\n",
    "x =5\n",
    "y = \"John\"\n",
    "print(x + y)"
   ]
  },
  {
   "cell_type": "code",
   "execution_count": 72,
   "id": "8dc4d1f7",
   "metadata": {},
   "outputs": [
    {
     "data": {
      "text/plain": [
       "'나라'"
      ]
     },
     "execution_count": 72,
     "metadata": {},
     "output_type": "execute_result"
    }
   ],
   "source": [
    "# 11.split()함수를 이용하여 str_의 값 \n",
    "    # 중 ＂나라＂를 출력하는 프로그램을 완성하시오\n",
    "str_ = \"우리 나라 대한 민국\"\n",
    "str_.split()[1]"
   ]
  }
 ],
 "metadata": {
  "kernelspec": {
   "display_name": "Python 3 (ipykernel)",
   "language": "python",
   "name": "python3"
  },
  "language_info": {
   "codemirror_mode": {
    "name": "ipython",
    "version": 3
   },
   "file_extension": ".py",
   "mimetype": "text/x-python",
   "name": "python",
   "nbconvert_exporter": "python",
   "pygments_lexer": "ipython3",
   "version": "3.10.9"
  },
  "toc": {
   "base_numbering": 1,
   "nav_menu": {},
   "number_sections": false,
   "sideBar": true,
   "skip_h1_title": false,
   "title_cell": "Table of Contents",
   "title_sidebar": "Contents",
   "toc_cell": false,
   "toc_position": {
    "height": "calc(100% - 180px)",
    "left": "10px",
    "top": "150px",
    "width": "165px"
   },
   "toc_section_display": true,
   "toc_window_display": true
  }
 },
 "nbformat": 4,
 "nbformat_minor": 5
}
