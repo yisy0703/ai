{
 "cells": [
  {
   "cell_type": "code",
   "execution_count": 2,
   "id": "761f4dbd",
   "metadata": {
    "ExecuteTime": {
     "end_time": "2024-11-04T11:19:40.608889Z",
     "start_time": "2024-11-04T11:19:40.593111Z"
    }
   },
   "outputs": [
    {
     "data": {
      "text/html": [
       "\n",
       "<style>\n",
       "div.container{width:99% !important;}\n",
       "div.cell.code_cell.rendered{width:85%;}\n",
       "div.CodeMirror {font-family:Consolas; font-size:18pt;}\n",
       "div.output {font-size:18pt; font-weight:bold;}\n",
       "div.input {font-family:Consolas; font-size:18pt;}\n",
       "div.prompt {min-width:70px;}\n",
       "div#toc-wrapper{padding-top:150px;}\n",
       "span.toc-item-num{display:none;}\n",
       "div.text_cell_render ul li{font-size:14pt;padding:5px;}\n",
       "</style>\n"
      ],
      "text/plain": [
       "<IPython.core.display.HTML object>"
      ]
     },
     "metadata": {},
     "output_type": "display_data"
    }
   ],
   "source": [
    "from IPython.display import display, HTML\n",
    "display(HTML(\"\"\"\n",
    "<style>\n",
    "div.container{width:99% !important;}\n",
    "div.cell.code_cell.rendered{width:85%;}\n",
    "div.CodeMirror {font-family:Consolas; font-size:18pt;}\n",
    "div.output {font-size:18pt; font-weight:bold;}\n",
    "div.input {font-family:Consolas; font-size:18pt;}\n",
    "div.prompt {min-width:70px;}\n",
    "div#toc-wrapper{padding-top:150px;}\n",
    "span.toc-item-num{display:none;}\n",
    "div.text_cell_render ul li{font-size:14pt;padding-top:5px;}\n",
    "</style>\n",
    "\"\"\"))"
   ]
  },
  {
   "cell_type": "markdown",
   "id": "29cb8cbc",
   "metadata": {},
   "source": [
    "<b><font size=\"6\" color=\"red\">ch01. 파이썬 개요 및 환경 설정</font></b>"
   ]
  },
  {
   "cell_type": "markdown",
   "id": "1905f666",
   "metadata": {},
   "source": [
    "# 1. 주피터 노트북 사용법(큰제목)\n",
    "- shift + Enter : 포커스된 셀이 실행되고, 커서가 다음셀로 이동\n",
    "- alt + Enter : 포커스된 셀이 실행되고 다음셀이 생성된 후 다음셀로 이동\n",
    "- ctrl + Enter : 포커스된 셀이 실행되고 포커스 이동이 없음"
   ]
  },
  {
   "cell_type": "code",
   "execution_count": null,
   "id": "4038860b",
   "metadata": {
    "collapsed": true
   },
   "outputs": [],
   "source": [
    "# 셀 하나하나에 파이썬 실행 소스 입력 -> 실행"
   ]
  },
  {
   "cell_type": "code",
   "execution_count": 2,
   "id": "c4d60e65",
   "metadata": {},
   "outputs": [
    {
     "name": "stdout",
     "output_type": "stream",
     "text": [
      "Hello, World\n"
     ]
    }
   ],
   "source": [
    "print(\"Hello, World\")"
   ]
  },
  {
   "cell_type": "code",
   "execution_count": 3,
   "id": "52d005a4",
   "metadata": {},
   "outputs": [
    {
     "name": "stdout",
     "output_type": "stream",
     "text": [
      "12\n",
      "3\n"
     ]
    }
   ],
   "source": [
    "a = 1\n",
    "b = \"2\"\n",
    "print(str(a) + b)\n",
    "print(a + int(b))\n",
    "# view 메뉴 > Show line Numbers 선택"
   ]
  },
  {
   "cell_type": "code",
   "execution_count": null,
   "id": "fafe9239",
   "metadata": {},
   "outputs": [],
   "source": [
    "# for i in range(1000000000000000000000000000):\n",
    "#     print(i)\n",
    "# stop기능\n",
    "# kernel메뉴의 다양한 restart 기능"
   ]
  },
  {
   "cell_type": "code",
   "execution_count": 4,
   "id": "cf04219d",
   "metadata": {},
   "outputs": [
    {
     "data": {
      "text/plain": [
       "10"
      ]
     },
     "execution_count": 4,
     "metadata": {},
     "output_type": "execute_result"
    }
   ],
   "source": [
    "print = 10\n",
    "print"
   ]
  },
  {
   "cell_type": "code",
   "execution_count": 8,
   "id": "a3f27ac8",
   "metadata": {},
   "outputs": [],
   "source": [
    "# 실수로 할당된 print변수를 삭제\n",
    "del print # (1) 변수 삭제\n",
    "# (2) kernel 재시작"
   ]
  },
  {
   "cell_type": "code",
   "execution_count": 9,
   "id": "ce66f4c4",
   "metadata": {},
   "outputs": [
    {
     "name": "stdout",
     "output_type": "stream",
     "text": [
      "Hello, World\n"
     ]
    }
   ],
   "source": [
    "print('Hello, World')"
   ]
  },
  {
   "cell_type": "markdown",
   "id": "e78ec78b",
   "metadata": {},
   "source": [
    "# 2. ESC키 누르고 (핫키)\n",
    "- dd : 셀삭제\n",
    "- a : 윗셀 추가\n",
    "- b : 아랫셀 추가\n",
    "- m : 마크다운셀(문서셀)로 변경\n",
    "- y : 코드셀(소스셀)로 변경\n",
    "- h : 핫키 안내\n",
    "- o : 실행결과 접기"
   ]
  },
  {
   "cell_type": "markdown",
   "id": "02170ad4",
   "metadata": {},
   "source": [
    "# 3. 마크다운이란?\n",
    "- 코드와 함께 `문서화`를 할 수 있습니다.\n",
    "- 다양한 문서화 문법이 있습니다."
   ]
  },
  {
   "cell_type": "code",
   "execution_count": 9,
   "id": "e32c0a19",
   "metadata": {
    "ExecuteTime": {
     "end_time": "2024-11-04T06:57:22.882246Z",
     "start_time": "2024-11-04T06:57:22.838784Z"
    }
   },
   "outputs": [
    {
     "name": "stdout",
     "output_type": "stream",
     "text": [
      " D 드라이브의 볼륨에는 이름이 없습니다.\n",
      " 볼륨 일련 번호: 2D0E-15FE\n",
      "\n",
      " D:\\ai\\source\\07_python 디렉터리\n",
      "\n",
      "2024-11-04  오후 01:07    <DIR>          .\n",
      "2024-11-04  오후 01:07    <DIR>          ..\n",
      "2024-11-04  오후 03:56             6,927 ch01_파이썬개요 및 환경설정.ipynb\n",
      "2024-11-04  오후 02:32    <DIR>          .ipynb_checkpoints\n",
      "               1개 파일               6,927 바이트\n",
      "               3개 디렉터리  476,318,597,120 바이트 남음\n"
     ]
    }
   ],
   "source": [
    "# 주피터 노트북에서 cmd명령어(프롬프트 창에서 실행할 명령어)를 실행\n",
    "! dir"
   ]
  }
 ],
 "metadata": {
  "kernelspec": {
   "display_name": "Python 3 (ipykernel)",
   "language": "python",
   "name": "python3"
  },
  "language_info": {
   "codemirror_mode": {
    "name": "ipython",
    "version": 3
   },
   "file_extension": ".py",
   "mimetype": "text/x-python",
   "name": "python",
   "nbconvert_exporter": "python",
   "pygments_lexer": "ipython3",
   "version": "3.10.9"
  },
  "toc": {
   "base_numbering": 1,
   "nav_menu": {},
   "number_sections": false,
   "sideBar": true,
   "skip_h1_title": false,
   "title_cell": "Table of Contents",
   "title_sidebar": "Contents",
   "toc_cell": false,
   "toc_position": {
    "height": "calc(100% - 180px)",
    "left": "10px",
    "top": "150px",
    "width": "165px"
   },
   "toc_section_display": true,
   "toc_window_display": true
  }
 },
 "nbformat": 4,
 "nbformat_minor": 5
}
