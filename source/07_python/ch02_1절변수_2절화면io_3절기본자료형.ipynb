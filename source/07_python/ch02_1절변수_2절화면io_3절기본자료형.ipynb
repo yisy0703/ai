{
 "cells": [
  {
   "cell_type": "code",
   "execution_count": 20,
   "id": "22193a5a",
   "metadata": {
    "ExecuteTime": {
     "end_time": "2024-11-04T11:19:32.058381Z",
     "start_time": "2024-11-04T11:19:32.044350Z"
    }
   },
   "outputs": [
    {
     "data": {
      "text/html": [
       "\n",
       "<style>\n",
       "div.container{width:99% !important;}\n",
       "div.cell.code_cell.rendered{width:85%;}\n",
       "div.CodeMirror {font-family:Consolas; font-size:20pt;}\n",
       "div.output {font-size:20pt; font-weight:bold;}\n",
       "div.input {font-family:Consolas; font-size:20pt;}\n",
       "div.prompt {min-width:70px;}\n",
       "div#toc-wrapper{padding-top:150px;}\n",
       "span.toc-item-num{display:none;}\n",
       "div.text_cell_render ul li{font-size:16pt;padding:5px;}\n",
       "</style>\n"
      ],
      "text/plain": [
       "<IPython.core.display.HTML object>"
      ]
     },
     "metadata": {},
     "output_type": "display_data"
    }
   ],
   "source": [
    "from IPython.display import display, HTML\n",
    "display(HTML(\"\"\"\n",
    "<style>\n",
    "div.container{width:99% !important;}\n",
    "div.cell.code_cell.rendered{width:85%;}\n",
    "div.CodeMirror {font-family:Consolas; font-size:20pt;}\n",
    "div.output {font-size:20pt; font-weight:bold;}\n",
    "div.input {font-family:Consolas; font-size:20pt;}\n",
    "div.prompt {min-width:70px;}\n",
    "div#toc-wrapper{padding-top:150px;}\n",
    "span.toc-item-num{display:none;}\n",
    "div.text_cell_render ul li{font-size:16pt;padding:5px;}\n",
    "</style>\n",
    "\"\"\"))"
   ]
  },
  {
   "cell_type": "markdown",
   "id": "c2ae449d",
   "metadata": {},
   "source": [
    "<b><font size=\"6\" color=\"red\">ch02. 자료형과 연산자</font></b>"
   ]
  },
  {
   "cell_type": "markdown",
   "id": "8770b227",
   "metadata": {},
   "source": [
    "# 1절. 변수"
   ]
  },
  {
   "cell_type": "markdown",
   "id": "0b3a8bf9",
   "metadata": {},
   "source": [
    "## 1.1 변수 선언\n",
    "- 파이썬은 변수 선언을 위한 타입이 없고, 별도의 선언 과정도 없음"
   ]
  },
  {
   "cell_type": "markdown",
   "id": "f273e091",
   "metadata": {},
   "source": [
    "## 1.2 변수 할당\n",
    "- 할당연산자를 이용해서 변수값을 할당하면 타입이 셋팅\n",
    "- 파이썬에서의 모든 변수는 객체"
   ]
  },
  {
   "cell_type": "code",
   "execution_count": 2,
   "id": "52022e90",
   "metadata": {},
   "outputs": [
    {
     "name": "stdout",
     "output_type": "stream",
     "text": [
      "계산된 넓이는 78.5\n"
     ]
    }
   ],
   "source": [
    "r = 5\n",
    "area = 3.14 * r * r\n",
    "print('계산된 넓이는' , area)"
   ]
  },
  {
   "cell_type": "code",
   "execution_count": 3,
   "id": "45e829fd",
   "metadata": {},
   "outputs": [],
   "source": [
    "import numpy as np # numpy라는 패키지(폴더)를 np라는 이름으로 사용"
   ]
  },
  {
   "cell_type": "code",
   "execution_count": 4,
   "id": "e88f421d",
   "metadata": {},
   "outputs": [
    {
     "name": "stdout",
     "output_type": "stream",
     "text": [
      "78.53981633974483\n"
     ]
    }
   ],
   "source": [
    "area = np.pi * r * r\n",
    "print(area)"
   ]
  },
  {
   "cell_type": "code",
   "execution_count": 5,
   "id": "e7329d46",
   "metadata": {},
   "outputs": [
    {
     "name": "stdout",
     "output_type": "stream",
     "text": [
      "area의 주소 : 1375264898160\n",
      "area의 타입 :  <class 'float'>\n"
     ]
    }
   ],
   "source": [
    "print('area의 주소 :',id(area)) # id(area)  : area변수(객체)의 주소값\n",
    "print('area의 타입 : ', type(area))"
   ]
  },
  {
   "cell_type": "code",
   "execution_count": 6,
   "id": "377f90d6",
   "metadata": {},
   "outputs": [
    {
     "data": {
      "text/plain": [
       "False"
      ]
     },
     "execution_count": 6,
     "metadata": {},
     "output_type": "execute_result"
    }
   ],
   "source": [
    "area.is_integer()"
   ]
  },
  {
   "cell_type": "code",
   "execution_count": 7,
   "id": "36541d88",
   "metadata": {},
   "outputs": [],
   "source": [
    "area = 10"
   ]
  },
  {
   "cell_type": "code",
   "execution_count": 8,
   "id": "c28e9442",
   "metadata": {},
   "outputs": [
    {
     "name": "stdout",
     "output_type": "stream",
     "text": [
      "area의 주소 : 1375185994256\n",
      "area의 타입 :  <class 'int'>\n"
     ]
    }
   ],
   "source": [
    "print('area의 주소 :',id(area)) # id(area)  : area변수(객체)의 주소값\n",
    "print('area의 타입 : ', type(area))"
   ]
  },
  {
   "cell_type": "code",
   "execution_count": 9,
   "id": "ae580d24",
   "metadata": {},
   "outputs": [
    {
     "name": "stdout",
     "output_type": "stream",
     "text": [
      "area의 주소 : 1375260770928\n",
      "area의 타입 :  <class 'str'>\n"
     ]
    }
   ],
   "source": [
    "area = '파이썬'\n",
    "print('area의 주소 :',id(area)) # id(area)  : area변수(객체)의 주소값\n",
    "print('area의 타입 : ', type(area))"
   ]
  },
  {
   "cell_type": "markdown",
   "id": "d3678dd7",
   "metadata": {},
   "source": [
    "## 1.3 변수 이름 규칙\n",
    "- 문자로 시작\n",
    "- 문자(특수문자는 _제외하고는 안됨), 숫자, _로 변수명 작성\n",
    "- 함수명은 변수이름으로 가능하나 피한다. 써야한다면 int_식으로 _를 붙여서 사용\n",
    "- 파이썬 예약어(if, while,..)는 변수이름 사용 불가.\n",
    "- 한글 변수는 꼭 필요시만 사용"
   ]
  },
  {
   "cell_type": "code",
   "execution_count": 10,
   "id": "b83981a2",
   "metadata": {},
   "outputs": [
    {
     "data": {
      "text/plain": [
       "'홍길동'"
      ]
     },
     "execution_count": 10,
     "metadata": {},
     "output_type": "execute_result"
    }
   ],
   "source": [
    "이름 = \"홍길동\"\n",
    "이름"
   ]
  },
  {
   "cell_type": "code",
   "execution_count": 11,
   "id": "6874a59a",
   "metadata": {},
   "outputs": [
    {
     "name": "stdout",
     "output_type": "stream",
     "text": [
      "홍길동\n"
     ]
    }
   ],
   "source": [
    "print(이름)"
   ]
  },
  {
   "cell_type": "code",
   "execution_count": 12,
   "id": "b09a7bc1",
   "metadata": {},
   "outputs": [
    {
     "ename": "SyntaxError",
     "evalue": "invalid syntax (2630263448.py, line 1)",
     "output_type": "error",
     "traceback": [
      "\u001b[1;36m  Cell \u001b[1;32mIn[12], line 1\u001b[1;36m\u001b[0m\n\u001b[1;33m    if = 5\u001b[0m\n\u001b[1;37m       ^\u001b[0m\n\u001b[1;31mSyntaxError\u001b[0m\u001b[1;31m:\u001b[0m invalid syntax\n"
     ]
    }
   ],
   "source": [
    "if = 5"
   ]
  },
  {
   "cell_type": "code",
   "execution_count": null,
   "id": "9713d87e",
   "metadata": {},
   "outputs": [],
   "source": [
    "member.name = 5 #변수에 .은 사용불가(R에서는 .을 변수명에 사용 가능)"
   ]
  },
  {
   "cell_type": "code",
   "execution_count": null,
   "id": "ca7fea1a",
   "metadata": {},
   "outputs": [],
   "source": [
    "member_name = 5 # \n",
    "memberName = 5 # 카멜표기법"
   ]
  },
  {
   "cell_type": "code",
   "execution_count": null,
   "id": "e7f0c50a",
   "metadata": {},
   "outputs": [],
   "source": [
    "print = 5"
   ]
  },
  {
   "cell_type": "code",
   "execution_count": null,
   "id": "e8c785d6",
   "metadata": {},
   "outputs": [],
   "source": [
    "print(이름)"
   ]
  },
  {
   "cell_type": "code",
   "execution_count": null,
   "id": "8985a1a1",
   "metadata": {},
   "outputs": [],
   "source": [
    "del print # print 변수 삭제\n",
    "print_ = 5\n",
    "print(이름)"
   ]
  },
  {
   "cell_type": "code",
   "execution_count": null,
   "id": "0e7587f2",
   "metadata": {},
   "outputs": [],
   "source": [
    "# 숫자 : 정수, 실수, 복소수\n",
    "i = 3 + 3j # 복소수\n",
    "type(i)"
   ]
  },
  {
   "cell_type": "code",
   "execution_count": null,
   "id": "b0154881",
   "metadata": {},
   "outputs": [],
   "source": [
    "isinstance(i, complex) # i 변수(객체)가 complex타입인지 여부 "
   ]
  },
  {
   "cell_type": "markdown",
   "id": "62323f4f",
   "metadata": {},
   "source": [
    "## 1.4 도움말"
   ]
  },
  {
   "cell_type": "code",
   "execution_count": null,
   "id": "bda61a4b",
   "metadata": {},
   "outputs": [],
   "source": [
    "help(print)"
   ]
  },
  {
   "cell_type": "code",
   "execution_count": null,
   "id": "7272ac30",
   "metadata": {},
   "outputs": [],
   "source": [
    "help()"
   ]
  },
  {
   "cell_type": "code",
   "execution_count": null,
   "id": "3a1ca851",
   "metadata": {},
   "outputs": [],
   "source": [
    "# 도움말 기능 : shift+tab 키\n",
    "print()"
   ]
  },
  {
   "cell_type": "code",
   "execution_count": null,
   "id": "469bb979",
   "metadata": {},
   "outputs": [],
   "source": [
    "def add(x, y=0): \n",
    "    '''\n",
    "    매개변수 2개를 받아 두자리 숫자로 만들어요\n",
    "    x = 10의 자리수가 됨\n",
    "    y = 1의 자리수가 됨(default값 0)\n",
    "    사용법 : add(2,3) => 23\n",
    "    '''\n",
    "    return x*10 + y"
   ]
  },
  {
   "cell_type": "code",
   "execution_count": null,
   "id": "8835f2b4",
   "metadata": {},
   "outputs": [],
   "source": [
    "add(5,4)"
   ]
  },
  {
   "cell_type": "code",
   "execution_count": null,
   "id": "913ce4ee",
   "metadata": {},
   "outputs": [],
   "source": [
    "add(5)"
   ]
  },
  {
   "cell_type": "code",
   "execution_count": null,
   "id": "4962e349",
   "metadata": {},
   "outputs": [],
   "source": [
    "a = add # 함수형언어는 변수에 함수 할당 가능. a랑 add는 같은 함수"
   ]
  },
  {
   "cell_type": "code",
   "execution_count": null,
   "id": "43ff92f9",
   "metadata": {},
   "outputs": [],
   "source": [
    "a(5,4)"
   ]
  },
  {
   "cell_type": "code",
   "execution_count": null,
   "id": "b6b787de",
   "metadata": {},
   "outputs": [],
   "source": [
    "a(5)"
   ]
  },
  {
   "cell_type": "markdown",
   "id": "a6143927",
   "metadata": {},
   "source": [
    "## 1.5 다중 변수 선언"
   ]
  },
  {
   "cell_type": "code",
   "execution_count": null,
   "id": "fdfbc097",
   "metadata": {},
   "outputs": [],
   "source": [
    "a = 10\n",
    "b = 20"
   ]
  },
  {
   "cell_type": "code",
   "execution_count": null,
   "id": "a511d2db",
   "metadata": {},
   "outputs": [],
   "source": [
    "a, b = 10, 20 # 동시에 다중 변수 선언"
   ]
  },
  {
   "cell_type": "code",
   "execution_count": null,
   "id": "e11a7e66",
   "metadata": {},
   "outputs": [],
   "source": [
    "a, b"
   ]
  },
  {
   "cell_type": "code",
   "execution_count": null,
   "id": "9e1913d7",
   "metadata": {},
   "outputs": [],
   "source": [
    "a, b = b, a+b # 다중 변수 할당시 순차적 할당이 아니고 일괄 동시 할당"
   ]
  },
  {
   "cell_type": "code",
   "execution_count": null,
   "id": "0aaff2f4",
   "metadata": {},
   "outputs": [],
   "source": [
    "a, b"
   ]
  },
  {
   "cell_type": "markdown",
   "id": "f3f5e5a0",
   "metadata": {},
   "source": [
    "# 2절. 화면 i/o"
   ]
  },
  {
   "cell_type": "code",
   "execution_count": null,
   "id": "9439d9fc",
   "metadata": {},
   "outputs": [],
   "source": [
    "# input() : 사용자로부터 값을 입력받기 위한 함수. 입력값은 문자열\n",
    "first = input()\n",
    "first"
   ]
  },
  {
   "cell_type": "code",
   "execution_count": null,
   "id": "d25e44f6",
   "metadata": {},
   "outputs": [],
   "source": [
    "first = input('첫번째 숫자는?')\n",
    "second = input('두번째 숫자는?')"
   ]
  },
  {
   "cell_type": "code",
   "execution_count": null,
   "id": "05a1d55d",
   "metadata": {},
   "outputs": [],
   "source": [
    "print('두수의 합은', first+second)"
   ]
  },
  {
   "cell_type": "code",
   "execution_count": null,
   "id": "e438d23e",
   "metadata": {},
   "outputs": [],
   "source": [
    "sum = int(first) + int(second)"
   ]
  },
  {
   "cell_type": "code",
   "execution_count": null,
   "id": "5610df62",
   "metadata": {},
   "outputs": [],
   "source": [
    "print('합', sum)"
   ]
  },
  {
   "cell_type": "code",
   "execution_count": null,
   "id": "664327bf",
   "metadata": {},
   "outputs": [],
   "source": [
    "print('합', sum, 'Hello','World', sep=' / ', end='\\t\\t')\n",
    "print('Hello','Python', sep=' ~ ')"
   ]
  },
  {
   "cell_type": "code",
   "execution_count": null,
   "id": "6005d9c3",
   "metadata": {},
   "outputs": [],
   "source": [
    "import sys\n",
    "print('hello', 'world', 'Hello','python', file=sys.stdout)"
   ]
  },
  {
   "cell_type": "markdown",
   "id": "1f4f7fe3",
   "metadata": {},
   "source": [
    "# 3절. 기본 자료형\n",
    "- 프로그래밍 언어들은 변수가 가져야 할 값의 형식, 범위에 따라 값의 유형을 정해 놓고 사용. \n",
    "- 자료형에 따라 값의 크기와 저장방식이 달라짐\n",
    "- 자료형에 따라 수행할 수 있는 명령어들이 달라짐.\n",
    "\n",
    "    * `숫자` - int, float, complex\n",
    "    * `문자` - str\n",
    "    * `논리` - bool"
   ]
  },
  {
   "cell_type": "markdown",
   "id": "3ee8c389",
   "metadata": {},
   "source": [
    "## 3.1 숫자형"
   ]
  },
  {
   "cell_type": "code",
   "execution_count": null,
   "id": "1930f5da",
   "metadata": {},
   "outputs": [],
   "source": [
    "import sys\n",
    "print(sys.maxsize) # 정수의 최대값 : 2^63-1"
   ]
  },
  {
   "cell_type": "code",
   "execution_count": null,
   "id": "5e2d30c9",
   "metadata": {},
   "outputs": [],
   "source": [
    "i = sys.maxsize + 100\n",
    "print('i값:', i)\n",
    "print(type(i))"
   ]
  },
  {
   "cell_type": "code",
   "execution_count": null,
   "id": "60e79171",
   "metadata": {},
   "outputs": [],
   "source": [
    "f = 3/2 # 정수/정수는 무조건 실수\n",
    "f"
   ]
  },
  {
   "cell_type": "code",
   "execution_count": null,
   "id": "a313c266",
   "metadata": {},
   "outputs": [],
   "source": [
    "f = 3/3\n",
    "f"
   ]
  },
  {
   "cell_type": "code",
   "execution_count": null,
   "id": "bb60daaf",
   "metadata": {},
   "outputs": [],
   "source": [
    "# 자바처럼 정수/정수의 결과 정수로\n",
    "f = int(3/2) # int() : int로 형변환\n",
    "print(f)\n",
    "f = 3//2 # 몫연산자\n",
    "print(f)"
   ]
  },
  {
   "cell_type": "code",
   "execution_count": null,
   "id": "4aa05adc",
   "metadata": {},
   "outputs": [],
   "source": [
    "c = 1j # 수학시간 1i\n",
    "print(c**2) # c의 제곱"
   ]
  },
  {
   "cell_type": "code",
   "execution_count": null,
   "id": "1d8fefae",
   "metadata": {},
   "outputs": [],
   "source": [
    "f = 1.12e12 # 1.12*10의 12승(1120000000000)\n",
    "print('지수형표현으로 할당시 실수형으로 저장 :', f)\n",
    "f = 1.12e-12 # 1.12*10의 -12 \n",
    "print('지수형표현으로 할당시 실수형으로 저장 :', f)"
   ]
  },
  {
   "cell_type": "markdown",
   "id": "499e96ec",
   "metadata": {},
   "source": [
    "## 3.2 문자형"
   ]
  },
  {
   "cell_type": "code",
   "execution_count": null,
   "id": "6e0897bd",
   "metadata": {},
   "outputs": [],
   "source": [
    "name = '홍길동\\'짱\\'' # 홍길동'짱'\n",
    "address = \"서울시 관악구 '신림'동\"\n",
    "print(name, address)"
   ]
  },
  {
   "cell_type": "code",
   "execution_count": null,
   "id": "5cb27dfd",
   "metadata": {},
   "outputs": [],
   "source": [
    "text = '여러줄짜리 내용을 저장\\n줄바꿈문자를 쓰면 당연히 여러줄\\n줄바꿈은 가독성 떨어져'\n",
    "print(text)"
   ]
  },
  {
   "cell_type": "code",
   "execution_count": null,
   "id": "3a4fb886",
   "metadata": {},
   "outputs": [],
   "source": [
    "text='''여러줄짜리 내용을 저장\n",
    "줄바꿈문자쓰지 않고 따옴표 3개로 처리\n",
    "이처럼 쓰는 경우가 더 많아요\n",
    "'''\n",
    "print(text)"
   ]
  },
  {
   "cell_type": "markdown",
   "id": "2173fa89",
   "metadata": {},
   "source": [
    "### ※ 문자열 연산"
   ]
  },
  {
   "cell_type": "code",
   "execution_count": 14,
   "id": "869ecacf",
   "metadata": {},
   "outputs": [
    {
     "name": "stdout",
     "output_type": "stream",
     "text": [
      "홍길동동해번쩍\n"
     ]
    }
   ],
   "source": [
    "'''\n",
    "    여러줄 주석 용도\n",
    "    2024.11.5 문자열 연산 by 아무개\n",
    "'''\n",
    "name1 = \"홍길동\"\n",
    "name2 = \"동해번쩍\"\n",
    "print(name1 + name2)"
   ]
  },
  {
   "cell_type": "code",
   "execution_count": 15,
   "id": "28a7a2ea",
   "metadata": {},
   "outputs": [
    {
     "name": "stdout",
     "output_type": "stream",
     "text": [
      "홍길동홍길동홍길동\n"
     ]
    }
   ],
   "source": [
    "print(name1 * 3) # 문자열을 곱하면 반복연산"
   ]
  },
  {
   "cell_type": "markdown",
   "id": "409c6dd0",
   "metadata": {},
   "source": [
    "### ※ raw 데이터\n",
    "      - 용도 : 정규표현식 이용, 디렉토리 경로를 표현시 이용"
   ]
  },
  {
   "cell_type": "code",
   "execution_count": 18,
   "id": "b044b1a1",
   "metadata": {},
   "outputs": [
    {
     "name": "stdout",
     "output_type": "stream",
     "text": [
      "Hello\\nWorld\n"
     ]
    }
   ],
   "source": [
    "# raw 데이터 처리시 이스케이프문자(\\n, \\t, \\r, \\', \\\")가 그대로 저장\n",
    "print(r'Hello\\nWorld')"
   ]
  },
  {
   "cell_type": "code",
   "execution_count": 19,
   "id": "c520647a",
   "metadata": {},
   "outputs": [
    {
     "name": "stdout",
     "output_type": "stream",
     "text": [
      "이름:홍길동, 주소:서울, 전화:02-888-8888, 핸드폰:010-9999-9999, 특징:동해번쩍 서해번쩍 혈액형:B\n"
     ]
    }
   ],
   "source": [
    "# 정규표현식 이용\n",
    "import re\n",
    "data = \"이름:홍길동, 주소:서울, 전화:02-888-8888, 핸드폰:010-9999-9999, 특징:동해번쩍 서해번쩍 \\\n",
    "혈액형:B\"\n",
    "print(data)"
   ]
  },
  {
   "cell_type": "code",
   "execution_count": 23,
   "id": "c591384b",
   "metadata": {},
   "outputs": [
    {
     "data": {
      "text/plain": [
       "['02-888-8888', '010-9999-9999']"
      ]
     },
     "execution_count": 23,
     "metadata": {},
     "output_type": "execute_result"
    }
   ],
   "source": [
    "# 정규표현식 처리에서는 raw 데이터 처리를 하지 않아도 실행은 되나\n",
    "# 실수를 줄이고, 기독성을 높이는 용도로 raw 데이터 처리를 사용\n",
    "tel_pattern = r'\\d{2,3}-\\d{3,4}-\\d{4}'\n",
    "tels = re.findall(tel_pattern, data)#해당 패턴을 다 찾아줘\n",
    "tels"
   ]
  },
  {
   "cell_type": "code",
   "execution_count": 24,
   "id": "05a9f1b8",
   "metadata": {},
   "outputs": [
    {
     "data": {
      "text/plain": [
       "<re.Match object; span=(18, 29), match='02-888-8888'>"
      ]
     },
     "execution_count": 24,
     "metadata": {},
     "output_type": "execute_result"
    }
   ],
   "source": [
    "# 정규표현식 패턴과 처음 match 되는 것 찾아줘\n",
    "firstTel = re.search(tel_pattern, data)\n",
    "firstTel"
   ]
  },
  {
   "cell_type": "code",
   "execution_count": 26,
   "id": "e40688f9",
   "metadata": {},
   "outputs": [
    {
     "name": "stdout",
     "output_type": "stream",
     "text": [
      "02-888-8888\n",
      "02-888-8888\n"
     ]
    }
   ],
   "source": [
    "print(data[18:29])\n",
    "print(firstTel.group(0))"
   ]
  },
  {
   "cell_type": "code",
   "execution_count": 27,
   "id": "a035964d",
   "metadata": {},
   "outputs": [
    {
     "data": {
      "text/plain": [
       "<re.Match object; span=(18, 29), match='02-888-8888'>"
      ]
     },
     "execution_count": 27,
     "metadata": {},
     "output_type": "execute_result"
    }
   ],
   "source": [
    "phone_pattern = r'(\\d{2,3})-(\\d{3,4})-(\\d{4})'\n",
    "first_phone = re.search(phone_pattern, data)\n",
    "first_phone"
   ]
  },
  {
   "cell_type": "code",
   "execution_count": 29,
   "id": "b204902e",
   "metadata": {},
   "outputs": [
    {
     "name": "stdout",
     "output_type": "stream",
     "text": [
      "전체 전화번호 : 02-888-8888\n",
      "국번 : 02\n",
      "중간번호 : 888\n",
      "끝번호 : 8888\n"
     ]
    }
   ],
   "source": [
    "print('전체 전화번호 :', first_phone.group(0))\n",
    "print('국번 :', first_phone.group(1))\n",
    "print('중간번호 :', first_phone.group(2))\n",
    "print('끝번호 :', first_phone.group(3))"
   ]
  },
  {
   "cell_type": "code",
   "execution_count": 30,
   "id": "753024e2",
   "metadata": {},
   "outputs": [],
   "source": [
    "# 파일경로에는 반드시 r을 사용하거나 \\\\로 이용하거나 /를 사용\n",
    "# file_path = 'D:\\\\ai\\\\source\\\\07_python\\\\test.txt'\n",
    "# file_path = 'D:/ai/source/07_python/test.txt'\n",
    "file_path = r'D:\\ai\\source\\07_python\\test.txt'"
   ]
  },
  {
   "cell_type": "code",
   "execution_count": 32,
   "id": "f04ccc0e",
   "metadata": {},
   "outputs": [
    {
     "name": "stdout",
     "output_type": "stream",
     "text": [
      "Hello, World\n",
      "Hello, Python\n"
     ]
    }
   ],
   "source": [
    "file_stream = open(file_path, 'w')\n",
    "print('Hello, World', 'Hello, Python', sep='\\n') # 콘솔 출력\n",
    "print('Hello, World', 'Hello, Python', sep='\\n', file=file_stream) # 파일 출력\n",
    "file_stream.close() # close하지 않으면 저장 안 됨"
   ]
  },
  {
   "cell_type": "markdown",
   "id": "9535cd59",
   "metadata": {},
   "source": [
    "### ※ 문자열 슬라이싱"
   ]
  },
  {
   "cell_type": "code",
   "execution_count": 33,
   "id": "bb67d038",
   "metadata": {},
   "outputs": [
    {
     "data": {
      "text/plain": [
       "'0123456789'"
      ]
     },
     "execution_count": 33,
     "metadata": {},
     "output_type": "execute_result"
    }
   ],
   "source": [
    "str_ = '0123456789'\n",
    "str_"
   ]
  },
  {
   "cell_type": "code",
   "execution_count": 35,
   "id": "724b19eb",
   "metadata": {},
   "outputs": [
    {
     "data": {
      "text/plain": [
       "('0', '2', '9')"
      ]
     },
     "execution_count": 35,
     "metadata": {},
     "output_type": "execute_result"
    }
   ],
   "source": [
    "str_[0], str_[2], str_[-1] # 음수인덱싱은 맨 마지막이 -1"
   ]
  },
  {
   "cell_type": "code",
   "execution_count": 36,
   "id": "c9fd9214",
   "metadata": {},
   "outputs": [
    {
     "ename": "IndexError",
     "evalue": "string index out of range",
     "output_type": "error",
     "traceback": [
      "\u001b[1;31m-------------------------------------------------------------\u001b[0m",
      "\u001b[1;31mIndexError\u001b[0m                  Traceback (most recent call last)",
      "Cell \u001b[1;32mIn[36], line 1\u001b[0m\n\u001b[1;32m----> 1\u001b[0m \u001b[43mstr_\u001b[49m\u001b[43m[\u001b[49m\u001b[38;5;241;43m10\u001b[39;49m\u001b[43m]\u001b[49m\n",
      "\u001b[1;31mIndexError\u001b[0m: string index out of range"
     ]
    }
   ],
   "source": [
    "str_[10] # 없는 인덱싱은 에러"
   ]
  },
  {
   "cell_type": "code",
   "execution_count": 37,
   "id": "dcb39b98",
   "metadata": {},
   "outputs": [
    {
     "data": {
      "text/plain": [
       "'012'"
      ]
     },
     "execution_count": 37,
     "metadata": {},
     "output_type": "execute_result"
    }
   ],
   "source": [
    "'''\n",
    "문자열변수[from:stop] : from부터 stop앞까지 추출\n",
    "문자열변수[from:stop:step] : from부터 stop앞까지 step씩 전진하면서 추출\n",
    "    from 생략시 처음부터\n",
    "    stop 생략시 끝까지\n",
    "    step 생략시 1\n",
    "'''\n",
    "str_[0:3] # 0번째부터 3번째앞까지"
   ]
  },
  {
   "cell_type": "code",
   "execution_count": 38,
   "id": "487ffa1a",
   "metadata": {},
   "outputs": [
    {
     "data": {
      "text/plain": [
       "'5678'"
      ]
     },
     "execution_count": 38,
     "metadata": {},
     "output_type": "execute_result"
    }
   ],
   "source": [
    "str_[-5:-1] # -5번째부터 -1번째 앞까지"
   ]
  },
  {
   "cell_type": "code",
   "execution_count": 39,
   "id": "6049cb96",
   "metadata": {},
   "outputs": [
    {
     "data": {
      "text/plain": [
       "'56789'"
      ]
     },
     "execution_count": 39,
     "metadata": {},
     "output_type": "execute_result"
    }
   ],
   "source": [
    "# 인덱싱시 없는 인덱스번호를 사용하면 에러\n",
    "# 슬라이싱시 인덱스 범위를 벗어나면 끝까지를 의미\n",
    "str_[5:19] "
   ]
  },
  {
   "cell_type": "code",
   "execution_count": 41,
   "id": "d5d1a7ef",
   "metadata": {},
   "outputs": [
    {
     "name": "stdout",
     "output_type": "stream",
     "text": [
      "0123456789\n",
      "02468\n"
     ]
    }
   ],
   "source": [
    "print(str_[0:10])\n",
    "print(str_[0:10:2])"
   ]
  },
  {
   "cell_type": "code",
   "execution_count": 43,
   "id": "6088d36b",
   "metadata": {},
   "outputs": [
    {
     "name": "stdout",
     "output_type": "stream",
     "text": [
      "012345\n",
      "56789\n"
     ]
    }
   ],
   "source": [
    "print(str_[:6]) # 처음부터 6번째앞까지\n",
    "print(str_[5:]) # 5번째부터 끝까지"
   ]
  },
  {
   "cell_type": "code",
   "execution_count": 44,
   "id": "2cc98d22",
   "metadata": {},
   "outputs": [
    {
     "name": "stdout",
     "output_type": "stream",
     "text": [
      "987654321\n"
     ]
    }
   ],
   "source": [
    "print(str_[9:0:-1]) # 9번째부터 0번째전까지 -1씩 전진"
   ]
  },
  {
   "cell_type": "code",
   "execution_count": 46,
   "id": "808fe7ab",
   "metadata": {},
   "outputs": [
    {
     "name": "stdout",
     "output_type": "stream",
     "text": [
      "9876543210\n",
      "9876543210\n",
      "9876543210\n"
     ]
    }
   ],
   "source": [
    "# 마지막부터 처음까지 꺼꾸로 출력\n",
    "print(str_[9::-1])\n",
    "print(str_[::-1])\n",
    "print(str_[-1::-1])"
   ]
  },
  {
   "cell_type": "markdown",
   "id": "1880bb8f",
   "metadata": {},
   "source": [
    "## 3.3 논리형(True, False)"
   ]
  },
  {
   "cell_type": "code",
   "execution_count": 47,
   "id": "92a01a59",
   "metadata": {},
   "outputs": [
    {
     "name": "stdout",
     "output_type": "stream",
     "text": [
      "True\n",
      "<class 'bool'>\n",
      "True\n"
     ]
    }
   ],
   "source": [
    "a = True\n",
    "print(a)\n",
    "print(type(a)) # 타입\n",
    "print(isinstance(a, bool)) #  bool타입인지 여부"
   ]
  },
  {
   "cell_type": "code",
   "execution_count": 49,
   "id": "b20bf4d8",
   "metadata": {},
   "outputs": [
    {
     "data": {
      "text/plain": [
       "(1, 0)"
      ]
     },
     "execution_count": 49,
     "metadata": {},
     "output_type": "execute_result"
    }
   ],
   "source": [
    "int(True), int(False)"
   ]
  },
  {
   "cell_type": "code",
   "execution_count": null,
   "id": "2a388eec",
   "metadata": {},
   "outputs": [],
   "source": [
    "# False로 간주되는 것 : 0, ''-빈스트링, None, []-빈리스트, ()-빈튜플, {}-빈딕셔너리"
   ]
  },
  {
   "cell_type": "code",
   "execution_count": 55,
   "id": "4361a8d9",
   "metadata": {},
   "outputs": [
    {
     "name": "stdout",
     "output_type": "stream",
     "text": [
      "False다\n"
     ]
    }
   ],
   "source": [
    "if '':\n",
    "    print('True다')\n",
    "else:\n",
    "    print('False다')"
   ]
  },
  {
   "cell_type": "markdown",
   "id": "c29a76cc",
   "metadata": {},
   "source": [
    "## 3.4 자료형 확인 및 형변환 함수\n",
    "    - type()\n",
    "    - int() : 정수형 변환\n",
    "    - float() : 실수형 변환\n",
    "    - str() : 문자형 변환\n",
    "    - bool() : 논리형 변환"
   ]
  },
  {
   "cell_type": "code",
   "execution_count": 61,
   "id": "30b7f773",
   "metadata": {},
   "outputs": [
    {
     "data": {
      "text/plain": [
       "(123, 123, 1)"
      ]
     },
     "execution_count": 61,
     "metadata": {},
     "output_type": "execute_result"
    }
   ],
   "source": [
    "int('123'), int(123.55), int(True)"
   ]
  },
  {
   "cell_type": "code",
   "execution_count": 62,
   "id": "4a1fa4ec",
   "metadata": {},
   "outputs": [
    {
     "ename": "ValueError",
     "evalue": "invalid literal for int() with base 10: ''",
     "output_type": "error",
     "traceback": [
      "\u001b[1;31m-------------------------------------------------------------\u001b[0m",
      "\u001b[1;31mValueError\u001b[0m                  Traceback (most recent call last)",
      "Cell \u001b[1;32mIn[62], line 2\u001b[0m\n\u001b[0;32m      1\u001b[0m \u001b[38;5;66;03m# 에러나는 것들\u001b[39;00m\n\u001b[1;32m----> 2\u001b[0m \u001b[38;5;28;43mint\u001b[39;49m\u001b[43m(\u001b[49m\u001b[38;5;124;43m'\u001b[39;49m\u001b[38;5;124;43m'\u001b[39;49m\u001b[43m)\u001b[49m, \u001b[38;5;28mint\u001b[39m(\u001b[38;5;124m'\u001b[39m\u001b[38;5;124m \u001b[39m\u001b[38;5;124m'\u001b[39m), \u001b[38;5;28mint\u001b[39m(\u001b[38;5;28;01mNone\u001b[39;00m), \u001b[38;5;28mint\u001b[39m(\u001b[38;5;124m'\u001b[39m\u001b[38;5;124m123.45\u001b[39m\u001b[38;5;124m'\u001b[39m), \u001b[38;5;28mint\u001b[39m(\u001b[38;5;124m'\u001b[39m\u001b[38;5;124m1,456\u001b[39m\u001b[38;5;124m'\u001b[39m)\n",
      "\u001b[1;31mValueError\u001b[0m: invalid literal for int() with base 10: ''"
     ]
    }
   ],
   "source": [
    "# 에러나는 것들\n",
    "int(''), int(' '), int(None), int('123.45'), int('1,456')"
   ]
  },
  {
   "cell_type": "code",
   "execution_count": 67,
   "id": "1a99f39f",
   "metadata": {},
   "outputs": [
    {
     "data": {
      "text/plain": [
       "(123.45, 123.0, 0.0, 123.0)"
      ]
     },
     "execution_count": 67,
     "metadata": {},
     "output_type": "execute_result"
    }
   ],
   "source": [
    "float('123.45'), float(123), float(False), float('123')"
   ]
  },
  {
   "cell_type": "code",
   "execution_count": 69,
   "id": "bed371a8",
   "metadata": {},
   "outputs": [
    {
     "ename": "ValueError",
     "evalue": "could not convert string to float: ''",
     "output_type": "error",
     "traceback": [
      "\u001b[1;31m-------------------------------------------------------------\u001b[0m",
      "\u001b[1;31mValueError\u001b[0m                  Traceback (most recent call last)",
      "Cell \u001b[1;32mIn[69], line 1\u001b[0m\n\u001b[1;32m----> 1\u001b[0m \u001b[38;5;28;43mfloat\u001b[39;49m\u001b[43m(\u001b[49m\u001b[38;5;124;43m'\u001b[39;49m\u001b[38;5;124;43m'\u001b[39;49m\u001b[43m)\u001b[49m, \u001b[38;5;28mfloat\u001b[39m(\u001b[38;5;124m'\u001b[39m\u001b[38;5;124m \u001b[39m\u001b[38;5;124m'\u001b[39m), \u001b[38;5;28mfloat\u001b[39m(\u001b[38;5;28;01mNone\u001b[39;00m), \u001b[38;5;28mfloat\u001b[39m(\u001b[38;5;124m'\u001b[39m\u001b[38;5;124m1,123\u001b[39m\u001b[38;5;124m'\u001b[39m)\n",
      "\u001b[1;31mValueError\u001b[0m: could not convert string to float: ''"
     ]
    }
   ],
   "source": [
    "# 에러나는 것들\n",
    "float(''), float(' '), float(None), float('1,123')"
   ]
  },
  {
   "cell_type": "code",
   "execution_count": 71,
   "id": "78097c09",
   "metadata": {},
   "outputs": [
    {
     "data": {
      "text/plain": [
       "('10', '10.9', '11200000000.0')"
      ]
     },
     "execution_count": 71,
     "metadata": {},
     "output_type": "execute_result"
    }
   ],
   "source": [
    "str(10), str(10.9), str(1.12e10)"
   ]
  },
  {
   "cell_type": "markdown",
   "id": "eff1fdf1",
   "metadata": {},
   "source": [
    "파이썬 기본 자료형(정리)\n",
    " 1. 숫자 - int, float, complex\n",
    " 2. 문자 - str, 문자슬라이싱, raw데이터처리시 이스케이프문자(\\n, \\\\, \\', \\t)를 그대로 저장\n",
    " 3. 논리 - False로 판별되는 경우 0, '', None, [], (), {}"
   ]
  }
 ],
 "metadata": {
  "kernelspec": {
   "display_name": "Python 3 (ipykernel)",
   "language": "python",
   "name": "python3"
  },
  "language_info": {
   "codemirror_mode": {
    "name": "ipython",
    "version": 3
   },
   "file_extension": ".py",
   "mimetype": "text/x-python",
   "name": "python",
   "nbconvert_exporter": "python",
   "pygments_lexer": "ipython3",
   "version": "3.10.9"
  },
  "toc": {
   "base_numbering": 1,
   "nav_menu": {},
   "number_sections": true,
   "sideBar": true,
   "skip_h1_title": false,
   "title_cell": "Table of Contents",
   "title_sidebar": "Contents",
   "toc_cell": false,
   "toc_position": {
    "height": "calc(100% - 180px)",
    "left": "10px",
    "top": "150px",
    "width": "165px"
   },
   "toc_section_display": true,
   "toc_window_display": true
  }
 },
 "nbformat": 4,
 "nbformat_minor": 5
}
