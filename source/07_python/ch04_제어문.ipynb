{
 "cells": [
  {
   "cell_type": "code",
   "execution_count": 1,
   "id": "94eb807e",
   "metadata": {},
   "outputs": [
    {
     "data": {
      "text/html": [
       "\n",
       "<style>\n",
       "div.container{width:99% !important;}\n",
       "div.cell.code_cell.rendered{width:85%;}\n",
       "div.CodeMirror {font-family:Consolas; font-size:20pt;}\n",
       "div.output {font-size:20pt; font-weight:bold;}\n",
       "div.input {font-family:Consolas; font-size:20pt;}\n",
       "div.prompt {min-width:70px;}\n",
       "div#toc-wrapper{padding-top:120px;}\n",
       "span.toc-item-num{display:none;}\n",
       "div.text_cell_render ul li{font-size:18pt;padding:5px;}\n",
       "div.CodeMirror-lines > div {padding-left:10px;}\n",
       "</style>\n"
      ],
      "text/plain": [
       "<IPython.core.display.HTML object>"
      ]
     },
     "metadata": {},
     "output_type": "display_data"
    }
   ],
   "source": [
    "from IPython.display import display, HTML\n",
    "display(HTML(\"\"\"\n",
    "<style>\n",
    "div.container{width:99% !important;}\n",
    "div.cell.code_cell.rendered{width:85%;}\n",
    "div.CodeMirror {font-family:Consolas; font-size:20pt;}\n",
    "div.output {font-size:20pt; font-weight:bold;}\n",
    "div.input {font-family:Consolas; font-size:20pt;}\n",
    "div.prompt {min-width:70px;}\n",
    "div#toc-wrapper{padding-top:120px;}\n",
    "span.toc-item-num{display:none;}\n",
    "div.text_cell_render ul li{font-size:18pt;padding:5px;}\n",
    "div.CodeMirror-lines > div {padding-left:10px;}\n",
    "</style>\n",
    "\"\"\"))"
   ]
  },
  {
   "cell_type": "markdown",
   "id": "090eec8b",
   "metadata": {},
   "source": [
    "<b><font color=\"red\" size=\"6\">ch04. 제어문</font></b>\n",
    "- if문, for-in문, while문, 중첩가능, 중첩루프탈출"
   ]
  },
  {
   "cell_type": "markdown",
   "id": "fb67ea12",
   "metadata": {},
   "source": [
    "# 1절. 조건문(if)"
   ]
  },
  {
   "cell_type": "code",
   "execution_count": 3,
   "id": "2e5475c5",
   "metadata": {},
   "outputs": [
    {
     "name": "stdout",
     "output_type": "stream",
     "text": [
      "Enter your score >65\n",
      "분발하실거죠?\n",
      "뭐 그래도 고생했어요\n"
     ]
    }
   ],
   "source": [
    "score = int(input('Enter your score >'))\n",
    "if score>=90 :\n",
    "    print('참 잘했어요')\n",
    "    print('다음에도 기대할께요')\n",
    "elif score>=60 :\n",
    "    print('분발하실거죠?')\n",
    "    print('뭐 그래도 고생했어요')\n",
    "else:\n",
    "    print('재시험 응시하셔야 합니다')\n",
    "    print('화이팅')"
   ]
  },
  {
   "cell_type": "code",
   "execution_count": 4,
   "id": "978d738c",
   "metadata": {},
   "outputs": [
    {
     "name": "stdout",
     "output_type": "stream",
     "text": [
      "Enter your score >101\n",
      "입력하신 점수는 101점이고, 유효하지 않은 점수등급입니다\n"
     ]
    }
   ],
   "source": [
    "# 점수를 입력받아 학점출력(A, B, C, D, F, 유효하지 않은 점수)\n",
    "score = int(input('Enter your score >'))\n",
    "if 90 <= score <= 100: # if (90<=score) & (score<=100)할 필요 없음\n",
    "    grade = 'A'\n",
    "elif 80 <= score < 90:\n",
    "    grade = 'B'\n",
    "elif 70 <= score < 80:\n",
    "    grade = 'C'\n",
    "elif 60 <= score < 70:\n",
    "    grade = 'D'\n",
    "elif 0<= score < 60:\n",
    "    grade = 'F'\n",
    "else:\n",
    "    grade = '유효하지 않은 점수'\n",
    "print(\"입력하신 점수는 {}점이고, {}등급입니다\".format(score, grade))"
   ]
  },
  {
   "cell_type": "markdown",
   "id": "2c89c1d9",
   "metadata": {},
   "source": [
    "# 2절. 반복문\n",
    "## 2.1 for-in문\n",
    "```\n",
    "for 임시변수 in 나열가능한자료:\n",
    "    반복할문장1\n",
    "    반복할문장2\n",
    "else:\n",
    "    나열가능한자료를 다 소요하여 for블록을 다 수행한 후, 최종 한번만 실행할 문장(else선택사항)\n",
    "    for문안에 break가 있을 경우, else블럭은 수행되지 않음\n",
    "```"
   ]
  },
  {
   "cell_type": "code",
   "execution_count": 8,
   "id": "a24dc559",
   "metadata": {},
   "outputs": [
    {
     "name": "stdout",
     "output_type": "stream",
     "text": [
      "1\t3\t5\t7\t9\t\n",
      "DONE\n",
      "END\n"
     ]
    }
   ],
   "source": [
    "for i in range(1, 10, 2):\n",
    "    print(i, end='\\t')\n",
    "else:\n",
    "    print('\\nDONE')\n",
    "print(\"END\")"
   ]
  },
  {
   "cell_type": "code",
   "execution_count": 10,
   "id": "ef7340a8",
   "metadata": {},
   "outputs": [
    {
     "name": "stdout",
     "output_type": "stream",
     "text": [
      "1\t3\tEND\n"
     ]
    }
   ],
   "source": [
    "for i in range(1, 10, 2):\n",
    "    if i==5:\n",
    "        break\n",
    "    print(i, end='\\t')\n",
    "else:\n",
    "    print('\\nDONE')\n",
    "print(\"END\")"
   ]
  },
  {
   "cell_type": "code",
   "execution_count": 2,
   "id": "fd7a6cf0",
   "metadata": {},
   "outputs": [
    {
     "name": "stdout",
     "output_type": "stream",
     "text": [
      "1~100까지 짝수의 합은 2550\n"
     ]
    }
   ],
   "source": [
    "# 1~100까지 짝수의 합을 계산하고 출력하시오(for문)\n",
    "sum = 0 # 누적변수\n",
    "for i in range(1, 101):\n",
    "    if i%2==0:\n",
    "        sum += i\n",
    "else:\n",
    "    pass\n",
    "print('1~100까지 짝수의 합은', sum)"
   ]
  },
  {
   "cell_type": "markdown",
   "id": "9914429d",
   "metadata": {},
   "source": [
    "## 2.2 while문\n",
    "```\n",
    "while 조건:\n",
    "    조건이 참일 경우 반복할 문장1\n",
    "    조건이 참일 경우 반복할 문장2 ...\n",
    "else:\n",
    "    조건이 거짓일 경우 한번 실행할 문장(else구문 선택사항)\n",
    "```"
   ]
  },
  {
   "cell_type": "code",
   "execution_count": 3,
   "id": "8d283d80",
   "metadata": {},
   "outputs": [
    {
     "name": "stdout",
     "output_type": "stream",
     "text": [
      "1~100까지 짝수의 합은 2550\n"
     ]
    }
   ],
   "source": [
    "# 1~100까지 짝수의 합을 계산하고 출력하시오(while)\n",
    "i = 1\n",
    "sum = 0 # 누적변수\n",
    "while i <= 100:\n",
    "    if i%2==0:\n",
    "        sum += i\n",
    "    i += 1 # ++ , -- 증감연산자가 파이썬에서는 없음\n",
    "else:\n",
    "    pass\n",
    "print(\"1~100까지 짝수의 합은\", sum)"
   ]
  },
  {
   "cell_type": "code",
   "execution_count": 5,
   "id": "fe1d7217",
   "metadata": {
    "code_folding": []
   },
   "outputs": [
    {
     "name": "stdout",
     "output_type": "stream",
     "text": [
      "첫번째 정수는 >5\n",
      "두번째 정수는 >5\n",
      "5~5까지 홀수들의 합은 5입니다\n"
     ]
    }
   ],
   "source": [
    "# ex1.사용자에게 두 정수 입력받아, 작은수부터 큰수까지 홀수의 합 누적해서 출력\n",
    "first = int(input(\"첫번째 정수는 >\"))\n",
    "second = int(input(\"두번째 정수는 >\"))\n",
    "if first >= second:\n",
    "    max = first\n",
    "    min = second\n",
    "else:\n",
    "    max = second\n",
    "    min = first\n",
    "sum = 0 # 누적변수\n",
    "# for i in range(min, max+1):\n",
    "#     if i%2!=0: #if (i%2==1) | (i%2==-1):\n",
    "#         sum += i\n",
    "i = min\n",
    "while i<=max:\n",
    "    if i%2!=0:\n",
    "        sum+=i\n",
    "    i += 1\n",
    "print(\"{}~{}까지 홀수들의 합은 {}입니다\".format(min, max, sum))"
   ]
  },
  {
   "cell_type": "code",
   "execution_count": 68,
   "id": "1f4e7b02",
   "metadata": {},
   "outputs": [
    {
     "name": "stdout",
     "output_type": "stream",
     "text": [
      "6개 로또번호는 6번 추출함\n",
      "정렬 전 : [45, 7, 6, 29, 1, 41]\n",
      "0번째까지 : [1]\n",
      "1번째까지 : [1, 6]\n",
      "2번째까지 : [1, 6, 7]\n",
      "3번째까지 : [1, 6, 7, 29]\n",
      "4번째까지 : [1, 6, 7, 29, 41]\n",
      "정렬후 : [1, 6, 7, 29, 41, 45]\n"
     ]
    }
   ],
   "source": [
    "# ex2. 로또 번호 6개를 추출후, 정렬하여 출력하시오\n",
    "import random\n",
    "# random.seed(7) # seed값이 같으면 랜덤수가 같아짐\n",
    "lotto_lst = []\n",
    "cnt = 0   # 로또 번호 추출 횟수\n",
    "while len(lotto_lst)<6:\n",
    "    temp = random.randint(1, 45) # 임의의 수를 temp변수 \n",
    "    cnt += 1\n",
    "    if temp in lotto_lst:\n",
    "        pass\n",
    "    else:\n",
    "        lotto_lst.append(temp)\n",
    "print(\"6개 로또번호는 {}번 추출함\".format(cnt))\n",
    "print(\"정렬 전 :\", lotto_lst)\n",
    "# 정렬 알고리즘\n",
    "for i in range(len(lotto_lst) - 1):\n",
    "    for j in range(i+1, len(lotto_lst)):\n",
    "        if lotto_lst[i] > lotto_lst[j]:\n",
    "            lotto_lst[i], lotto_lst[j] = lotto_lst[j], lotto_lst[i]\n",
    "    print(\"{}번째까지 : {}\".format(i, lotto_lst[:i+1]))\n",
    "print(\"정렬후 :\", lotto_lst)"
   ]
  },
  {
   "cell_type": "code",
   "execution_count": 72,
   "id": "b5111143",
   "metadata": {},
   "outputs": [
    {
     "name": "stdout",
     "output_type": "stream",
     "text": [
      "6개 로또번호는 7번 추출함\n",
      "정렬 전 : {34, 4, 38, 6, 25, 31}\n",
      "정렬후 : [4, 6, 25, 31, 34, 38]\n"
     ]
    }
   ],
   "source": [
    "# ex2. 로또 번호 6개를 추출후, 정렬하여 출력하시오\n",
    "import random\n",
    "# random.seed(7) # seed값이 같으면 랜덤수가 같아짐\n",
    "lotto_set = set()\n",
    "cnt = 0   # 로또 번호 추출 횟수\n",
    "while len(lotto_set)<6:\n",
    "    lotto_set.add(random.randint(1, 45))\n",
    "    cnt += 1\n",
    "print(\"6개 로또번호는 {}번 추출함\".format(cnt))\n",
    "print(\"정렬 전 :\", lotto_set)\n",
    "print(\"정렬후 :\", sorted(list(lotto_set)))"
   ]
  },
  {
   "cell_type": "code",
   "execution_count": 119,
   "id": "06a186b7",
   "metadata": {},
   "outputs": [
    {
     "data": {
      "text/plain": [
       "[8, 11, 13, 15, 30, 41]"
      ]
     },
     "execution_count": 119,
     "metadata": {},
     "output_type": "execute_result"
    }
   ],
   "source": [
    "# ex2. 1~45중에 6개 뽑기\n",
    "sorted(random.sample(range(1, 46),6))"
   ]
  },
  {
   "cell_type": "markdown",
   "id": "67e75292",
   "metadata": {},
   "source": [
    "## 2.3 break, continue"
   ]
  },
  {
   "cell_type": "code",
   "execution_count": 123,
   "id": "093c2ba3",
   "metadata": {},
   "outputs": [
    {
     "name": "stdout",
     "output_type": "stream",
     "text": [
      "1 2 3 4 6 7 8 9 10 DONE\n"
     ]
    }
   ],
   "source": [
    "num = 0\n",
    "while num<10:\n",
    "    num += 1\n",
    "    if num==5:\n",
    "        # break\n",
    "        continue\n",
    "    print(num, end=' ')\n",
    "print('DONE')"
   ]
  },
  {
   "cell_type": "code",
   "execution_count": 126,
   "id": "edf3aa75",
   "metadata": {},
   "outputs": [
    {
     "name": "stdout",
     "output_type": "stream",
     "text": [
      "컴퓨터가 발생한 임의의 수 : 26\n",
      "1~100 사이의 수를 맞춰 보세요 : 50\n",
      "DOWN ↓\n",
      "1~100 사이의 수를 맞춰 보세요 : -5\n",
      "수의 범위를 벗어났습니다\n",
      "1~100 사이의 수를 맞춰 보세요 : 60\n",
      "DOWN ↓\n",
      "1~100 사이의 수를 맞춰 보세요 : 10\n",
      "UP ↑\n",
      "1~100 사이의 수를 맞춰 보세요 : 25\n",
      "UP ↑\n",
      "1~100 사이의 수를 맞춰 보세요 : 26\n",
      "축하 축하 맞추셨습니다.\n",
      "DONE\n"
     ]
    }
   ],
   "source": [
    "# 숫자 찾기 게임\n",
    "'''\n",
    "1~100 사이의 정수를 맞추기 프로그램\n",
    "(프로그램 안에서 random수가 만들어지고 그 random수 맞추기)\n",
    "1단계 : 숫자를 못 맞추면 UP/DOWN을 출력하고, 맞추면 축하메세지 뿌리고 끝남\n",
    "2단계 : 숫자를 못 맞추면 min~max를 조정, 맞추면 축하메세지 뿌리고 끝남\n",
    "3단계 : 2단계의 기회를 5회 제한. 5회의 기회가 지나면 실패 메세지 뿌리고 끝남\n",
    "(2단계와 3단계 연습문제)\n",
    "'''\n",
    "randomNum = random.randint(1, 100)\n",
    "print(\"컴퓨터가 발생한 임의의 수 :\", randomNum)\n",
    "inputNum = 0 # 사용자가 맞출 수가 저장될 변수\n",
    "while True:\n",
    "    inputNum = int(input('1~100 사이의 수를 맞춰 보세요 : '))\n",
    "    if (inputNum<1) | (inputNum>100) :\n",
    "        print('수의 범위를 벗어났습니다')\n",
    "    elif randomNum < inputNum:\n",
    "        print('DOWN ↓')\n",
    "    elif randomNum > inputNum:\n",
    "        print('UP ↑')\n",
    "    else:\n",
    "        print('축하 축하 맞추셨습니다.')\n",
    "        break\n",
    "print('DONE')\n",
    "# while randomNum!=inputNum:\n",
    "#     inputNum = int(input('1~100 사이의 수를 맞춰 보세요 : '))\n",
    "#     if (inputNum<1) | (inputNum>100) :\n",
    "#         print('수의 범위를 벗어났습니다')\n",
    "#     elif randomNum < inputNum:\n",
    "#         print('DOWN ↓')\n",
    "#     elif randomNum > inputNum:\n",
    "#         print('UP ↑')\n",
    "#     else:\n",
    "#         print('축하 축하 맞추셨습니다.')\n",
    "# print('DONE')"
   ]
  },
  {
   "cell_type": "code",
   "execution_count": null,
   "id": "5e97089d",
   "metadata": {},
   "outputs": [],
   "source": []
  },
  {
   "cell_type": "code",
   "execution_count": null,
   "id": "86c975d4",
   "metadata": {},
   "outputs": [],
   "source": []
  },
  {
   "cell_type": "code",
   "execution_count": null,
   "id": "0ccb4bb2",
   "metadata": {},
   "outputs": [],
   "source": []
  },
  {
   "cell_type": "code",
   "execution_count": null,
   "id": "398930ad",
   "metadata": {},
   "outputs": [],
   "source": []
  },
  {
   "cell_type": "code",
   "execution_count": null,
   "id": "eed2791c",
   "metadata": {},
   "outputs": [],
   "source": []
  },
  {
   "cell_type": "code",
   "execution_count": null,
   "id": "0e6715b9",
   "metadata": {},
   "outputs": [],
   "source": []
  },
  {
   "cell_type": "code",
   "execution_count": null,
   "id": "ee2d0eed",
   "metadata": {},
   "outputs": [],
   "source": []
  }
 ],
 "metadata": {
  "kernelspec": {
   "display_name": "Python 3 (ipykernel)",
   "language": "python",
   "name": "python3"
  },
  "language_info": {
   "codemirror_mode": {
    "name": "ipython",
    "version": 3
   },
   "file_extension": ".py",
   "mimetype": "text/x-python",
   "name": "python",
   "nbconvert_exporter": "python",
   "pygments_lexer": "ipython3",
   "version": "3.10.9"
  },
  "toc": {
   "base_numbering": 1,
   "nav_menu": {},
   "number_sections": true,
   "sideBar": true,
   "skip_h1_title": false,
   "title_cell": "Table of Contents",
   "title_sidebar": "Contents",
   "toc_cell": false,
   "toc_position": {
    "height": "calc(100% - 180px)",
    "left": "10px",
    "top": "150px",
    "width": "165px"
   },
   "toc_section_display": true,
   "toc_window_display": true
  }
 },
 "nbformat": 4,
 "nbformat_minor": 5
}
