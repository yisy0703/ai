{
 "cells": [
  {
   "cell_type": "code",
   "execution_count": 1,
   "id": "94eb807e",
   "metadata": {},
   "outputs": [
    {
     "data": {
      "text/html": [
       "\n",
       "<style>\n",
       "div.container{width:99% !important;}\n",
       "div.cell.code_cell.rendered{width:90%;}\n",
       "div.CodeMirror {font-family:Consolas; font-size:19pt;}\n",
       "div.output {font-size:19pt; font-weight:bold;}\n",
       "div.input {font-family:Consolas; font-size:19pt;}\n",
       "div.prompt {min-width:70px;}\n",
       "div#toc-wrapper{padding-top:120px;}\n",
       "span.toc-item-num{display:none;}\n",
       "div.text_cell_render ul li{font-size:18pt;padding:5px;}\n",
       "div.CodeMirror-lines > div {padding-left:10px;}\n",
       "</style>\n"
      ],
      "text/plain": [
       "<IPython.core.display.HTML object>"
      ]
     },
     "metadata": {},
     "output_type": "display_data"
    }
   ],
   "source": [
    "from IPython.display import display, HTML\n",
    "display(HTML(\"\"\"\n",
    "<style>\n",
    "div.container{width:99% !important;}\n",
    "div.cell.code_cell.rendered{width:90%;}\n",
    "div.CodeMirror {font-family:Consolas; font-size:19pt;}\n",
    "div.output {font-size:19pt; font-weight:bold;}\n",
    "div.input {font-family:Consolas; font-size:19pt;}\n",
    "div.prompt {min-width:70px;}\n",
    "div#toc-wrapper{padding-top:120px;}\n",
    "span.toc-item-num{display:none;}\n",
    "div.text_cell_render ul li{font-size:18pt;padding:5px;}\n",
    "div.CodeMirror-lines > div {padding-left:10px;}\n",
    "</style>\n",
    "\"\"\"))"
   ]
  },
  {
   "cell_type": "markdown",
   "id": "090eec8b",
   "metadata": {},
   "source": [
    "<b><font color=\"red\" size=\"6\">ch04. 제어문</font></b>\n",
    "- if문, for-in문, while문, 중첩가능, 중첩루프탈출"
   ]
  },
  {
   "cell_type": "markdown",
   "id": "fb67ea12",
   "metadata": {},
   "source": [
    "# 1절. 조건문(if)"
   ]
  },
  {
   "cell_type": "code",
   "execution_count": 3,
   "id": "2e5475c5",
   "metadata": {},
   "outputs": [
    {
     "name": "stdout",
     "output_type": "stream",
     "text": [
      "Enter your score >65\n",
      "분발하실거죠?\n",
      "뭐 그래도 고생했어요\n"
     ]
    }
   ],
   "source": [
    "score = int(input('Enter your score >'))\n",
    "if score>=90 :\n",
    "    print('참 잘했어요')\n",
    "    print('다음에도 기대할께요')\n",
    "elif score>=60 :\n",
    "    print('분발하실거죠?')\n",
    "    print('뭐 그래도 고생했어요')\n",
    "else:\n",
    "    print('재시험 응시하셔야 합니다')\n",
    "    print('화이팅')"
   ]
  },
  {
   "cell_type": "code",
   "execution_count": 4,
   "id": "978d738c",
   "metadata": {},
   "outputs": [
    {
     "name": "stdout",
     "output_type": "stream",
     "text": [
      "Enter your score >101\n",
      "입력하신 점수는 101점이고, 유효하지 않은 점수등급입니다\n"
     ]
    }
   ],
   "source": [
    "# 점수를 입력받아 학점출력(A, B, C, D, F, 유효하지 않은 점수)\n",
    "score = int(input('Enter your score >'))\n",
    "if 90 <= score <= 100: # if (90<=score) & (score<=100)할 필요 없음\n",
    "    grade = 'A'\n",
    "elif 80 <= score < 90:\n",
    "    grade = 'B'\n",
    "elif 70 <= score < 80:\n",
    "    grade = 'C'\n",
    "elif 60 <= score < 70:\n",
    "    grade = 'D'\n",
    "elif 0<= score < 60:\n",
    "    grade = 'F'\n",
    "else:\n",
    "    grade = '유효하지 않은 점수'\n",
    "print(\"입력하신 점수는 {}점이고, {}등급입니다\".format(score, grade))"
   ]
  },
  {
   "cell_type": "markdown",
   "id": "2c89c1d9",
   "metadata": {},
   "source": [
    "# 2절. 반복문\n",
    "## 2.1 for-in문\n",
    "```\n",
    "for 임시변수 in 나열가능한자료:\n",
    "    반복할문장1\n",
    "    반복할문장2\n",
    "else:\n",
    "    나열가능한자료를 다 소요하여 for블록을 다 수행한 후, 최종 한번만 실행할 문장(else선택사항)\n",
    "    for문안에 break가 있을 경우, else블럭은 수행되지 않음\n",
    "```"
   ]
  },
  {
   "cell_type": "code",
   "execution_count": 8,
   "id": "a24dc559",
   "metadata": {},
   "outputs": [
    {
     "name": "stdout",
     "output_type": "stream",
     "text": [
      "1\t3\t5\t7\t9\t\n",
      "DONE\n",
      "END\n"
     ]
    }
   ],
   "source": [
    "for i in range(1, 10, 2):\n",
    "    print(i, end='\\t')\n",
    "else:\n",
    "    print('\\nDONE')\n",
    "print(\"END\")"
   ]
  },
  {
   "cell_type": "code",
   "execution_count": 10,
   "id": "ef7340a8",
   "metadata": {},
   "outputs": [
    {
     "name": "stdout",
     "output_type": "stream",
     "text": [
      "1\t3\tEND\n"
     ]
    }
   ],
   "source": [
    "for i in range(1, 10, 2):\n",
    "    if i==5:\n",
    "        break\n",
    "    print(i, end='\\t')\n",
    "else:\n",
    "    print('\\nDONE')\n",
    "print(\"END\")"
   ]
  },
  {
   "cell_type": "code",
   "execution_count": 2,
   "id": "fd7a6cf0",
   "metadata": {},
   "outputs": [
    {
     "name": "stdout",
     "output_type": "stream",
     "text": [
      "1~100까지 짝수의 합은 2550\n"
     ]
    }
   ],
   "source": [
    "# 1~100까지 짝수의 합을 계산하고 출력하시오(for문)\n",
    "sum = 0 # 누적변수\n",
    "for i in range(1, 101):\n",
    "    if i%2==0:\n",
    "        sum += i\n",
    "else:\n",
    "    pass\n",
    "print('1~100까지 짝수의 합은', sum)"
   ]
  },
  {
   "cell_type": "markdown",
   "id": "ca79ffe3",
   "metadata": {},
   "source": [
    "## 2.2 while문\n",
    "```\n",
    "while 조건:\n",
    "    조건이 참일 경우 반복할 문장1\n",
    "    조건이 참일 경우 반복할 문장2 ...\n",
    "else:\n",
    "    조건이 거짓일 경우 한번 실행할 문장(else구문 선택사항)\n",
    "```"
   ]
  },
  {
   "cell_type": "code",
   "execution_count": 3,
   "id": "8d283d80",
   "metadata": {},
   "outputs": [
    {
     "name": "stdout",
     "output_type": "stream",
     "text": [
      "1~100까지 짝수의 합은 2550\n"
     ]
    }
   ],
   "source": [
    "# 1~100까지 짝수의 합을 계산하고 출력하시오(while)\n",
    "i = 1\n",
    "sum = 0 # 누적변수\n",
    "while i <= 100:\n",
    "    if i%2==0:\n",
    "        sum += i\n",
    "    i += 1 # ++ , -- 증감연산자가 파이썬에서는 없음\n",
    "else:\n",
    "    pass\n",
    "print(\"1~100까지 짝수의 합은\", sum)"
   ]
  },
  {
   "cell_type": "code",
   "execution_count": 5,
   "id": "fe1d7217",
   "metadata": {
    "code_folding": []
   },
   "outputs": [
    {
     "name": "stdout",
     "output_type": "stream",
     "text": [
      "첫번째 정수는 >5\n",
      "두번째 정수는 >5\n",
      "5~5까지 홀수들의 합은 5입니다\n"
     ]
    }
   ],
   "source": [
    "# ex1.사용자에게 두 정수 입력받아, 작은수부터 큰수까지 홀수의 합 누적해서 출력\n",
    "first = int(input(\"첫번째 정수는 >\"))\n",
    "second = int(input(\"두번째 정수는 >\"))\n",
    "if first >= second:\n",
    "    max = first\n",
    "    min = second\n",
    "else:\n",
    "    max = second\n",
    "    min = first\n",
    "sum = 0 # 누적변수\n",
    "# for i in range(min, max+1):\n",
    "#     if i%2!=0: #if (i%2==1) | (i%2==-1):\n",
    "#         sum += i\n",
    "i = min\n",
    "while i<=max:\n",
    "    if i%2!=0:\n",
    "        sum+=i\n",
    "    i += 1\n",
    "print(\"{}~{}까지 홀수들의 합은 {}입니다\".format(min, max, sum))"
   ]
  },
  {
   "cell_type": "code",
   "execution_count": 68,
   "id": "7d137e34",
   "metadata": {},
   "outputs": [
    {
     "name": "stdout",
     "output_type": "stream",
     "text": [
      "6개 로또번호는 6번 추출함\n",
      "정렬 전 : [45, 7, 6, 29, 1, 41]\n",
      "0번째까지 : [1]\n",
      "1번째까지 : [1, 6]\n",
      "2번째까지 : [1, 6, 7]\n",
      "3번째까지 : [1, 6, 7, 29]\n",
      "4번째까지 : [1, 6, 7, 29, 41]\n",
      "정렬후 : [1, 6, 7, 29, 41, 45]\n"
     ]
    }
   ],
   "source": [
    "# ex2. 로또 번호 6개를 추출후, 정렬하여 출력하시오\n",
    "import random\n",
    "# random.seed(7) # seed값이 같으면 랜덤수가 같아짐\n",
    "lotto_lst = []\n",
    "cnt = 0   # 로또 번호 추출 횟수\n",
    "while len(lotto_lst)<6:\n",
    "    temp = random.randint(1, 45) # 임의의 수를 temp변수 \n",
    "    cnt += 1\n",
    "    if temp in lotto_lst:\n",
    "        pass\n",
    "    else:\n",
    "        lotto_lst.append(temp)\n",
    "print(\"6개 로또번호는 {}번 추출함\".format(cnt))\n",
    "print(\"정렬 전 :\", lotto_lst)\n",
    "# 정렬 알고리즘\n",
    "for i in range(len(lotto_lst) - 1):\n",
    "    for j in range(i+1, len(lotto_lst)):\n",
    "        if lotto_lst[i] > lotto_lst[j]:\n",
    "            lotto_lst[i], lotto_lst[j] = lotto_lst[j], lotto_lst[i]\n",
    "    print(\"{}번째까지 : {}\".format(i, lotto_lst[:i+1]))\n",
    "print(\"정렬후 :\", lotto_lst)"
   ]
  },
  {
   "cell_type": "code",
   "execution_count": 72,
   "id": "db835f19",
   "metadata": {},
   "outputs": [
    {
     "name": "stdout",
     "output_type": "stream",
     "text": [
      "6개 로또번호는 7번 추출함\n",
      "정렬 전 : {34, 4, 38, 6, 25, 31}\n",
      "정렬후 : [4, 6, 25, 31, 34, 38]\n"
     ]
    }
   ],
   "source": [
    "# ex2. 로또 번호 6개를 추출후, 정렬하여 출력하시오\n",
    "import random\n",
    "# random.seed(7) # seed값이 같으면 랜덤수가 같아짐\n",
    "lotto_set = set()\n",
    "cnt = 0   # 로또 번호 추출 횟수\n",
    "while len(lotto_set)<6:\n",
    "    lotto_set.add(random.randint(1, 45))\n",
    "    cnt += 1\n",
    "print(\"6개 로또번호는 {}번 추출함\".format(cnt))\n",
    "print(\"정렬 전 :\", lotto_set)\n",
    "print(\"정렬후 :\", sorted(list(lotto_set)))"
   ]
  },
  {
   "cell_type": "code",
   "execution_count": 119,
   "id": "c0e01f5b",
   "metadata": {},
   "outputs": [
    {
     "data": {
      "text/plain": [
       "[8, 11, 13, 15, 30, 41]"
      ]
     },
     "execution_count": 119,
     "metadata": {},
     "output_type": "execute_result"
    }
   ],
   "source": [
    "# ex2. 1~45중에 6개 뽑기\n",
    "sorted(random.sample(range(1, 46),6))"
   ]
  },
  {
   "cell_type": "markdown",
   "id": "2e31c8f6",
   "metadata": {},
   "source": [
    "## 2.3 break, continue"
   ]
  },
  {
   "cell_type": "code",
   "execution_count": 123,
   "id": "d3f60b30",
   "metadata": {},
   "outputs": [
    {
     "name": "stdout",
     "output_type": "stream",
     "text": [
      "1 2 3 4 6 7 8 9 10 DONE\n"
     ]
    }
   ],
   "source": [
    "num = 0\n",
    "while num<10:\n",
    "    num += 1\n",
    "    if num==5:\n",
    "        # break\n",
    "        continue\n",
    "    print(num, end=' ')\n",
    "print('DONE')"
   ]
  },
  {
   "cell_type": "code",
   "execution_count": 175,
   "id": "7b2dcb13",
   "metadata": {},
   "outputs": [
    {
     "name": "stdout",
     "output_type": "stream",
     "text": [
      "컴퓨터가 발생한 임의의 수 : 34\n",
      "1~100 사이의 수를 맞춰 보세요 : 34\n",
      "축하 축하 맞추셨습니다.\n",
      "DONE\n"
     ]
    }
   ],
   "source": [
    "# 숫자 찾기 게임\n",
    "'''\n",
    "1~100 사이의 정수를 맞추기 프로그램\n",
    "(프로그램 안에서 random수가 만들어지고 그 random수 맞추기)\n",
    "1단계 : 숫자를 못 맞추면 UP/DOWN을 출력하고, 맞추면 축하메세지 뿌리고 끝남\n",
    "2단계 : 숫자를 못 맞추면 min~max를 조정, 맞추면 축하메세지 뿌리고 끝남\n",
    "3단계 : 2단계의 기회를 5회 제한. 5회의 기회가 지나면 실패 메세지 뿌리고 끝남\n",
    "(2단계와 3단계 연습문제)\n",
    "'''\n",
    "import random\n",
    "randomNum = random.randint(1, 100)\n",
    "print(\"컴퓨터가 발생한 임의의 수 :\", randomNum)\n",
    "inputNum = 0 # 사용자가 맞출 수가 저장될 변수\n",
    "while True:\n",
    "    inputNum = int(input('1~100 사이의 수를 맞춰 보세요 : '))\n",
    "    if (inputNum<1) | (inputNum>100) :\n",
    "        print('수의 범위를 벗어났습니다')\n",
    "    elif randomNum < inputNum:\n",
    "        print('DOWN ↓')\n",
    "    elif randomNum > inputNum:\n",
    "        print('UP ↑')\n",
    "    else:\n",
    "        print('축하 축하 맞추셨습니다.')\n",
    "        break\n",
    "print('DONE')\n",
    "# while randomNum!=inputNum:\n",
    "#     inputNum = int(input('1~100 사이의 수를 맞춰 보세요 : '))\n",
    "#     if (inputNum<1) | (inputNum>100) :\n",
    "#         print('수의 범위를 벗어났습니다')\n",
    "#     elif randomNum < inputNum:\n",
    "#         print('DOWN ↓')\n",
    "#     elif randomNum > inputNum:\n",
    "#         print('UP ↑')\n",
    "#     else:\n",
    "#         print('축하 축하 맞추셨습니다.')\n",
    "# print('DONE')"
   ]
  },
  {
   "cell_type": "markdown",
   "id": "0571f93b",
   "metadata": {},
   "source": [
    "# 3절. 중첩루프\n",
    "(반복문 안 반복문)"
   ]
  },
  {
   "cell_type": "code",
   "execution_count": 130,
   "id": "2d72bdc5",
   "metadata": {},
   "outputs": [
    {
     "name": "stdout",
     "output_type": "stream",
     "text": [
      "  2단  \t  3단  \t  4단  \t  5단  \t  6단  \t  7단  \t  8단  \t  9단  \t\n",
      "2x1= 2\t3x1= 3\t4x1= 4\t5x1= 5\t6x1= 6\t7x1= 7\t8x1= 8\t9x1= 9\t\n",
      "2x2= 4\t3x2= 6\t4x2= 8\t5x2=10\t6x2=12\t7x2=14\t8x2=16\t9x2=18\t\n",
      "2x3= 6\t3x3= 9\t4x3=12\t5x3=15\t6x3=18\t7x3=21\t8x3=24\t9x3=27\t\n",
      "2x4= 8\t3x4=12\t4x4=16\t5x4=20\t6x4=24\t7x4=28\t8x4=32\t9x4=36\t\n",
      "2x5=10\t3x5=15\t4x5=20\t5x5=25\t6x5=30\t7x5=35\t8x5=40\t9x5=45\t\n",
      "2x6=12\t3x6=18\t4x6=24\t5x6=30\t6x6=36\t7x6=42\t8x6=48\t9x6=54\t\n",
      "2x7=14\t3x7=21\t4x7=28\t5x7=35\t6x7=42\t7x7=49\t8x7=56\t9x7=63\t\n",
      "2x8=16\t3x8=24\t4x8=32\t5x8=40\t6x8=48\t7x8=56\t8x8=64\t9x8=72\t\n",
      "2x9=18\t3x9=27\t4x9=36\t5x9=45\t6x9=54\t7x9=63\t8x9=72\t9x9=81\t\n"
     ]
    }
   ],
   "source": [
    "# 2~9단 구구단 출력\n",
    "for i in range(2, 10):\n",
    "    print(\"{:^6}\".format(str(i)+\"단\"), end='\\t')\n",
    "print() # 개행\n",
    "for i in range(1, 10):\n",
    "    for j in range(2, 10):\n",
    "        print(\"{}x{}={:2}\".format(j, i, i*j), end='\\t')\n",
    "    print() # 개행"
   ]
  },
  {
   "cell_type": "code",
   "execution_count": 146,
   "id": "7d6352ec",
   "metadata": {},
   "outputs": [
    {
     "name": "stdout",
     "output_type": "stream",
     "text": [
      "0:1\t1:2\t2:3\t\n",
      "데이터만 출력\n",
      "1\t2\t3\t"
     ]
    }
   ],
   "source": [
    "lst = [1,2,3]\n",
    "for i in range(len(lst)):\n",
    "    print(\"{}:{}\".format(i, lst[i]), end='\\t')\n",
    "print('\\n데이터만 출력')\n",
    "for l in lst:\n",
    "    print(l, end='\\t')"
   ]
  },
  {
   "cell_type": "code",
   "execution_count": 148,
   "id": "26742776",
   "metadata": {},
   "outputs": [
    {
     "name": "stdout",
     "output_type": "stream",
     "text": [
      "0행0열:1\t0행1열:2\t0행2열:3\t0행3열:4\t\n",
      "1행0열:5\t1행1열:6\t1행2열:7\t1행3열:8\t\n",
      "2행0열:1\t2행1열:2\t2행2열:3\t2행3열:4\t\n",
      "데이터만 출력\n",
      "1\t2\t3\t4\t\n",
      "5\t6\t7\t8\t\n",
      "1\t2\t3\t4\t\n"
     ]
    }
   ],
   "source": [
    "lst_2d = [[1,2,3,4], \n",
    "          [5,6,7,8],\n",
    "          [1,2,3,4],] # 논리적으로 3행 4열\n",
    "for i in range(len(lst_2d)):\n",
    "    for j in range(len(lst_2d[i])):\n",
    "        print(\"{}행{}열:{}\".format(i, j, lst_2d[i][j]), end='\\t')\n",
    "    print() # 개행\n",
    "print('데이터만 출력')\n",
    "for row in lst_2d:\n",
    "    for data in row:\n",
    "        print(data, end='\\t')\n",
    "    print()#개행"
   ]
  },
  {
   "cell_type": "code",
   "execution_count": 159,
   "id": "3de3db95",
   "metadata": {},
   "outputs": [
    {
     "name": "stdout",
     "output_type": "stream",
     "text": [
      "0면0행0열:1\t0면0행1열:2\t0면0행2열:3\t0면0행3열:4.0\t\n",
      "0면1행0열:5\t0면1행1열:6\t0면1행2열:7\t0면1행3열:8\t\n",
      "0면2행0열:1\t0면2행1열:2\t0면2행2열:3\t0면2행3열:4\t\n",
      "-----------------------\n",
      "1면0행0열:1\t1면0행1열:2\t1면0행2열:3\t1면0행3열:4\t\n",
      "1면1행0열:5\t1면1행1열:6\t1면1행2열:7\t1면1행3열:8\t\n",
      "1면2행0열:1\t1면2행1열:2\t1면2행2열:3\t1면2행3열:4\t\n",
      "-----------------------\n"
     ]
    }
   ],
   "source": [
    "lst_3d = [\n",
    "   [[1,2,3,4.0], \n",
    "    [5,6,7,8],\n",
    "    [1,2,3,4],],\n",
    "   [[1,2,3,4], \n",
    "    [5,6,7,8],\n",
    "    [1,2,3,4],] # 논리적으로 2면3행4열\n",
    "]\n",
    "for i in range(len(lst_3d)):\n",
    "    for j in range(len(lst_3d[i])):\n",
    "        for k in range(len(lst_3d[i][j])):\n",
    "            print(\"{}면{}행{}열:{}\".format(i, j, k, \\\n",
    "                                  lst_3d[i][j][k]), end='\\t')\n",
    "        print() #개행\n",
    "    print('-----------------------')\n"
   ]
  },
  {
   "cell_type": "code",
   "execution_count": 162,
   "id": "7a07cbdf",
   "metadata": {},
   "outputs": [
    {
     "name": "stdout",
     "output_type": "stream",
     "text": [
      "데이터만\n",
      "1\t2\t3\t4.0\t\n",
      "5\t6\t7\t8\t\n",
      "1\t2\t3\t4\t\n",
      "---------------------\n",
      "1\t2\t3\t4\t\n",
      "5\t6\t7\t8\t\n",
      "1\t2\t3\t4\t\n",
      "---------------------\n"
     ]
    }
   ],
   "source": [
    "print('데이터만')\n",
    "for face in lst_3d:\n",
    "    for row in face:\n",
    "        for data in row:\n",
    "            print(data, end='\\t')\n",
    "        print() # 개행\n",
    "    print('---------------------')"
   ]
  },
  {
   "cell_type": "markdown",
   "id": "352ab773",
   "metadata": {},
   "source": [
    "# 4절. 중첩루프 탈출"
   ]
  },
  {
   "cell_type": "code",
   "execution_count": 167,
   "id": "e41e3aae",
   "metadata": {},
   "outputs": [
    {
     "name": "stdout",
     "output_type": "stream",
     "text": [
      "0 1\n",
      "0 2\n",
      "2 1\n",
      "DONE\n"
     ]
    }
   ],
   "source": [
    "for a in range(0,3):      # a<=0, 1, 2\n",
    "    for b in range(1, 3): # b<=1, 2\n",
    "        if a==b:\n",
    "            break # break를 만나면 안쪽 반복문 탈출\n",
    "        print(a, b)\n",
    "    # break를 만나면 오는 곳\n",
    "print('DONE')"
   ]
  },
  {
   "cell_type": "code",
   "execution_count": 169,
   "id": "87ad508c",
   "metadata": {},
   "outputs": [
    {
     "name": "stdout",
     "output_type": "stream",
     "text": [
      "0 1\n",
      "0 2\n",
      "DONE\n"
     ]
    }
   ],
   "source": [
    "# 중첩 루프 탈출 : 방법1. 플래그 변수 이용\n",
    "flag = False # break를 만나면 True\n",
    "for a in range(0,3):      # a<=0, 1, 2\n",
    "    for b in range(1, 3): # b<=1, 2\n",
    "        if a==b:\n",
    "            flag = True\n",
    "            break # break를 만나면 안쪽 반복문 탈출\n",
    "        print(a, b)\n",
    "    if flag:\n",
    "        break\n",
    "print('DONE')"
   ]
  },
  {
   "cell_type": "code",
   "execution_count": null,
   "id": "3eaf40a1",
   "metadata": {},
   "outputs": [],
   "source": [
    "# 중첩 루프 탈출 : 방법2. Exception 이용"
   ]
  },
  {
   "cell_type": "code",
   "execution_count": 171,
   "id": "aeccc1d5",
   "metadata": {},
   "outputs": [],
   "source": [
    "# Exception을 상속받은 BreakOutLoopException 클래스 생성\n",
    "class BreakOutLoopException(Exception):\n",
    "    pass"
   ]
  },
  {
   "cell_type": "code",
   "execution_count": 174,
   "id": "20618f5d",
   "metadata": {},
   "outputs": [
    {
     "name": "stdout",
     "output_type": "stream",
     "text": [
      "0 1\n",
      "0 2\n",
      "DONE\n"
     ]
    }
   ],
   "source": [
    "try:\n",
    "    for a in range(0,3):      # a<=0, 1, 2\n",
    "        for b in range(1, 3): # b<=1, 2\n",
    "            if a==b:\n",
    "                raise BreakOutLoopException # 강제 예외 발생\n",
    "            print(a, b)\n",
    "except BreakOutLoopException:\n",
    "    print('DONE')"
   ]
  },
  {
   "cell_type": "markdown",
   "id": "a07199d9",
   "metadata": {},
   "source": [
    "# 5절. 연습문제"
   ]
  },
  {
   "cell_type": "code",
   "execution_count": 9,
   "id": "9da86183",
   "metadata": {},
   "outputs": [
    {
     "data": {
      "text/plain": [
       "False"
      ]
     },
     "execution_count": 9,
     "metadata": {},
     "output_type": "execute_result"
    }
   ],
   "source": [
    "str = \"1.3\"\n",
    "str.isdigit()"
   ]
  },
  {
   "cell_type": "code",
   "execution_count": 12,
   "id": "949fff2f",
   "metadata": {},
   "outputs": [
    {
     "name": "stdout",
     "output_type": "stream",
     "text": [
      "양의 정수를 입력하세요-9\n",
      "떼끼\n",
      "양의 정수를 입력하세요5\n",
      "입력하신 양의 정수 5은 홀수입니다\n"
     ]
    }
   ],
   "source": [
    "# 1. 양의 정수를 입력 받아 홀수인지 짝수인지를 판별하는 프로그램\n",
    "su = 0\n",
    "while su<=0:\n",
    "    su = int(input('양의 정수를 입력하세요'))\n",
    "    if su<=0 :\n",
    "        print('떼끼')\n",
    "if su%2==0:\n",
    "    result = '짝수'\n",
    "else:\n",
    "    result = '홀수'\n",
    "print(\"입력하신 양의 정수 {}은 {}입니다\".format(su, result))"
   ]
  },
  {
   "cell_type": "code",
   "execution_count": 13,
   "id": "c90034ce",
   "metadata": {},
   "outputs": [
    {
     "name": "stdout",
     "output_type": "stream",
     "text": [
      "*****\n",
      "*****\n",
      "*****\n",
      "*****\n",
      "*****\n"
     ]
    }
   ],
   "source": [
    "'''2(1)\n",
    "*****\n",
    "*****\n",
    "*****\n",
    "*****\n",
    "*****'''\n",
    "for i in range(5):\n",
    "    for j in range(5):\n",
    "        print('*', end='')\n",
    "    print()"
   ]
  },
  {
   "cell_type": "code",
   "execution_count": 178,
   "id": "8ad1c136",
   "metadata": {},
   "outputs": [
    {
     "name": "stdout",
     "output_type": "stream",
     "text": [
      "*\n",
      "**\n",
      "***\n",
      "****\n",
      "*****\n"
     ]
    }
   ],
   "source": [
    "'''2(1)\n",
    "*\n",
    "**\n",
    "***\n",
    "****\n",
    "*****'''\n",
    "for i in range(5):\n",
    "    for j in range(i+1):\n",
    "        print('*', end='')\n",
    "    print()"
   ]
  },
  {
   "cell_type": "code",
   "execution_count": 179,
   "id": "d3b1c171",
   "metadata": {},
   "outputs": [
    {
     "name": "stdout",
     "output_type": "stream",
     "text": [
      "165\n"
     ]
    }
   ],
   "source": [
    "# 3. 1부터 30까지(30포함) 자연수 중에서 3의 배수의 총 합을 출력\n",
    "sum = 0\n",
    "for i in range(1, 31):\n",
    "    if(i%3==0):\n",
    "        sum += i\n",
    "    else:\n",
    "        pass\n",
    "print(sum)"
   ]
  },
  {
   "cell_type": "code",
   "execution_count": 14,
   "id": "62da2741",
   "metadata": {},
   "outputs": [
    {
     "name": "stdout",
     "output_type": "stream",
     "text": [
      "1 3 5 7 9 "
     ]
    }
   ],
   "source": [
    "# 4.실행결과가 “1 3 5 7 9”가 되도록 빈칸을 완성\n",
    "for i in range(1, 10, 2):\n",
    "    print(i, end = ' ')"
   ]
  },
  {
   "cell_type": "code",
   "execution_count": 180,
   "id": "22fa9741",
   "metadata": {},
   "outputs": [
    {
     "name": "stdout",
     "output_type": "stream",
     "text": [
      "1 3 5 7 9 "
     ]
    }
   ],
   "source": [
    "# 4.실행결과가 “1 3 5 7 9”가 되도록 빈칸을 완성\n",
    "num = 0\n",
    "while num <= 10:\n",
    "    if num%2 == 1:\n",
    "        print(num, end=' ')\n",
    "    num += 1"
   ]
  },
  {
   "cell_type": "code",
   "execution_count": 181,
   "id": "c78734a2",
   "metadata": {},
   "outputs": [
    {
     "name": "stdout",
     "output_type": "stream",
     "text": [
      "1 2 3 \n",
      "4 5 6 7 \n",
      "8 9 \n"
     ]
    }
   ],
   "source": [
    "# 5. 2차원 리스트의 모든 값을 출력하는 코드입니다\n",
    "list_2d = [[1,2,3,],[4,5,6,7],[8,9]]\n",
    "for row in list_2d:\n",
    "    for data in row:\n",
    "        print(data, end=' ')\n",
    "    print()"
   ]
  },
  {
   "cell_type": "code",
   "execution_count": 16,
   "id": "b080c1e6",
   "metadata": {},
   "outputs": [
    {
     "name": "stdout",
     "output_type": "stream",
     "text": [
      "0 apple\n",
      "1 banana\n",
      "0 apple\n",
      "1 banana\n"
     ]
    }
   ],
   "source": [
    "# 6.다음 빈칸에 들어갈 함수 이름은?\n",
    "colors = {\"red\":\"apple\", 'yellow':'banana'}\n",
    "for i, (key, value) in enumerate(colors.items()):\n",
    "    print(i, value)\n",
    "# 4.\n",
    "colors = {\"red\":\"apple\", 'yellow':'banana'}\n",
    "for i, v in enumerate(colors.values()):\n",
    "           #───────────────────────────#\n",
    "    print(i, v)"
   ]
  },
  {
   "cell_type": "code",
   "execution_count": 183,
   "id": "11a2ce45",
   "metadata": {},
   "outputs": [
    {
     "name": "stdout",
     "output_type": "stream",
     "text": [
      "1 0\n"
     ]
    }
   ],
   "source": [
    "# 7. 코드의 실행결과는?\n",
    "for i in range(0,2):\n",
    "    for j in range(0,2):\n",
    "        if i==j:\n",
    "            break\n",
    "        print(i, j)"
   ]
  },
  {
   "cell_type": "code",
   "execution_count": 184,
   "id": "143e941d",
   "metadata": {},
   "outputs": [
    {
     "name": "stdout",
     "output_type": "stream",
     "text": [
      "0 0\n",
      "1 0\n",
      "1 1\n"
     ]
    }
   ],
   "source": [
    "# 8.다음 코드의 실행 결과로 출력될 수 없는 것은 (2)\n",
    "for i in range(0,2):\n",
    "    for j in range(0,2):\n",
    "        print(i, j)\n",
    "        if i==j:\n",
    "            break        "
   ]
  },
  {
   "cell_type": "code",
   "execution_count": 17,
   "id": "65b17bf3",
   "metadata": {},
   "outputs": [
    {
     "name": "stdout",
     "output_type": "stream",
     "text": [
      "3 5 7 9 "
     ]
    }
   ],
   "source": [
    "# 9. 실행결과는\n",
    "L = [3,4,5,6,7,8,9,10]\n",
    "for i, data in enumerate(L):\n",
    "    if(i%2==0):\n",
    "        print(data, end=' ')"
   ]
  },
  {
   "cell_type": "code",
   "execution_count": 23,
   "id": "071723bb",
   "metadata": {},
   "outputs": [
    {
     "name": "stdout",
     "output_type": "stream",
     "text": [
      "컴퓨터가 발생한 임의의 수 : 77\n",
      "1~100 사이의 수를 맞춰 보세요 : 50\n",
      "UP ↑\n",
      "51~100 사이의 수를 맞춰 보세요 : 40\n",
      "수의 범위를 벗어났습니다\n",
      "51~100 사이의 수를 맞춰 보세요 : 75\n",
      "UP ↑\n",
      "76~100 사이의 수를 맞춰 보세요 : 77\n",
      "축하 축하 맞추셨습니다.\n",
      "DONE\n"
     ]
    }
   ],
   "source": [
    "# 10번 2단계\n",
    "'''\n",
    "1~100 사이의 정수를 맞추기 프로그램\n",
    "(프로그램 안에서 random수가 만들어지고 그 random수 맞추기)\n",
    "1단계 : 숫자를 못 맞추면 UP/DOWN을 출력하고, 맞추면 축하메세지 뿌리고 끝남\n",
    "2단계 : 숫자를 못 맞추면 min~max를 조정, 맞추면 축하메세지 뿌리고 끝남\n",
    "3단계 : 2단계의 기회를 5회 제한. 5회의 기회가 지나면 실패 메세지 뿌리고 끝남\n",
    "(2단계와 3단계 연습문제)\n",
    "'''\n",
    "import random\n",
    "randomNum = random.randint(1, 100)\n",
    "print(\"컴퓨터가 발생한 임의의 수 :\", randomNum)\n",
    "inputNum = 0 # 사용자가 맞출 수가 저장될 변수\n",
    "min = 1\n",
    "max =100\n",
    "while randomNum!=inputNum:\n",
    "    inputNum = int(input('{}~{} 사이의 수를 맞춰 보세요 : '.format(min, max)))\n",
    "    if (inputNum<min) | (inputNum>max) :\n",
    "        print('수의 범위를 벗어났습니다')\n",
    "    elif randomNum < inputNum:\n",
    "        print('DOWN ↓')\n",
    "        max = inputNum-1\n",
    "    elif randomNum > inputNum:\n",
    "        print('UP ↑')\n",
    "        min = inputNum+1\n",
    "    else:\n",
    "        print('축하 축하 맞추셨습니다.')\n",
    "print('DONE')"
   ]
  },
  {
   "cell_type": "code",
   "execution_count": 21,
   "id": "512fd2c1",
   "metadata": {},
   "outputs": [
    {
     "name": "stdout",
     "output_type": "stream",
     "text": [
      "컴퓨터가 발생한 임의의 수 : 9\n",
      "1~100사이의 수를 맞춰보세요. 남은 기회는 5번5\n",
      "UP ↑\n",
      "6~100사이의 수를 맞춰보세요. 남은 기회는 4번9\n",
      "2번만에 성공하셨습니다. 축하축하 맞추셨습니다\n",
      "BYE\n"
     ]
    }
   ],
   "source": [
    "# 10번 3단계\n",
    "'''\n",
    "1~100 사이의 정수를 맞추기 프로그램\n",
    "(프로그램 안에서 random수가 만들어지고 그 random수 맞추기)\n",
    "1단계 : 숫자를 못 맞추면 UP/DOWN을 출력하고, 맞추면 축하메세지 뿌리고 끝남\n",
    "2단계 : 숫자를 못 맞추면 min~max를 조정, 맞추면 축하메세지 뿌리고 끝남\n",
    "3단계 : 2단계의 기회를 5회 제한. 5회의 기회가 지나면 실패 메세지 뿌리고 끝남\n",
    "(2단계와 3단계 연습문제)\n",
    "'''\n",
    "import random\n",
    "randomNum = random.randint(1, 100)\n",
    "print(\"컴퓨터가 발생한 임의의 수 :\", randomNum)\n",
    "inputNum = 0 # 사용자가 맞출 수가 저장될 변수\n",
    "min = 1\n",
    "max =100\n",
    "for i in range(5, 0, -1):\n",
    "    inputNum = int(input(\"{}~{}사이의 수를 맞춰보세요. 남은 기회는 {}번\".\\\n",
    "                         format(min, max, i)))\n",
    "    if (inputNum<min) | (inputNum>max) :\n",
    "        print('수의 범위를 벗어났습니다')\n",
    "    elif randomNum < inputNum:\n",
    "        print('DOWN ↓')\n",
    "        max = inputNum-1\n",
    "    elif randomNum > inputNum:\n",
    "        print('UP ↑')\n",
    "        min = inputNum+1\n",
    "    else:\n",
    "        print('{}번만에 성공하셨습니다. 축하축하 맞추셨습니다'.format(6-i))\n",
    "        break\n",
    "else:\n",
    "    print('모든 기회를 다 사용하여 실패하셨습니다')\n",
    "print('BYE')"
   ]
  }
 ],
 "metadata": {
  "kernelspec": {
   "display_name": "Python 3 (ipykernel)",
   "language": "python",
   "name": "python3"
  },
  "language_info": {
   "codemirror_mode": {
    "name": "ipython",
    "version": 3
   },
   "file_extension": ".py",
   "mimetype": "text/x-python",
   "name": "python",
   "nbconvert_exporter": "python",
   "pygments_lexer": "ipython3",
   "version": "3.10.9"
  },
  "toc": {
   "base_numbering": 1,
   "nav_menu": {},
   "number_sections": false,
   "sideBar": true,
   "skip_h1_title": false,
   "title_cell": "Table of Contents",
   "title_sidebar": "Contents",
   "toc_cell": false,
   "toc_position": {
    "height": "calc(100% - 180px)",
    "left": "10px",
    "top": "150px",
    "width": "165px"
   },
   "toc_section_display": true,
   "toc_window_display": true
  }
 },
 "nbformat": 4,
 "nbformat_minor": 5
}
