{
 "cells": [
  {
   "cell_type": "code",
   "execution_count": 2,
   "id": "8b9f253c",
   "metadata": {},
   "outputs": [
    {
     "data": {
      "text/html": [
       "\n",
       "<style>\n",
       "div.container{width:99% !important;}\n",
       "div.cell.code_cell.rendered{width:90%;}\n",
       "div.CodeMirror {font-family:Consolas; font-size:19pt;}\n",
       "div.output {font-size:19pt; font-weight:bold;}\n",
       "div.input {font-family:Consolas; font-size:19pt;}\n",
       "div.prompt {min-width:70px;}\n",
       "div#toc-wrapper{padding-top:120px;}\n",
       "span.toc-item-num{display:none;}\n",
       "div.text_cell_render ul li{font-size:16pt;padding:5px;}\n",
       "div.CodeMirror-lines > div {padding-left:10px;}\n",
       "</style>\n"
      ],
      "text/plain": [
       "<IPython.core.display.HTML object>"
      ]
     },
     "metadata": {},
     "output_type": "display_data"
    }
   ],
   "source": [
    "from IPython.display import display, HTML\n",
    "display(HTML(\"\"\"\n",
    "<style>\n",
    "div.container{width:99% !important;}\n",
    "div.cell.code_cell.rendered{width:90%;}\n",
    "div.CodeMirror {font-family:Consolas; font-size:19pt;}\n",
    "div.output {font-size:19pt; font-weight:bold;}\n",
    "div.input {font-family:Consolas; font-size:19pt;}\n",
    "div.prompt {min-width:70px;}\n",
    "div#toc-wrapper{padding-top:120px;}\n",
    "span.toc-item-num{display:none;}\n",
    "div.text_cell_render ul li{font-size:16pt;padding:5px;}\n",
    "div.CodeMirror-lines > div {padding-left:10px;}\n",
    "</style>\n",
    "\"\"\"))"
   ]
  },
  {
   "cell_type": "markdown",
   "id": "84789215",
   "metadata": {},
   "source": [
    "<font color=\"red\" size=\"6\"><b>ch09. 파일 i/o 프로그래밍</b></font>"
   ]
  },
  {
   "cell_type": "markdown",
   "id": "f5299c55",
   "metadata": {},
   "source": [
    "# 1절. 파일에 데이터 저장하고 불러오기"
   ]
  },
  {
   "cell_type": "code",
   "execution_count": 11,
   "id": "ccd44b92",
   "metadata": {},
   "outputs": [
    {
     "name": "stdout",
     "output_type": "stream",
     "text": [
      "True\n"
     ]
    }
   ],
   "source": [
    "# w 또는 wt : 기존의 파일이 있는 경우 덮어쓰기, 파일이 없는 경우 생성하여 쓰기\n",
    "# a 또는 at : 기본의 파일이 있는 경우 append, 파일이 없는 경우 생성하여 쓰기\n",
    "            # 쓰기 모드는 폴더가 없는 경우 예외 발생\n",
    "# r 또는 rt : 기본의 파일을 읽는 경우, 파일이 없는 경우 예외 발생\n",
    "f = open('data/ch09_sample.txt', 'w')\n",
    "print(f.writable())"
   ]
  },
  {
   "cell_type": "code",
   "execution_count": 13,
   "id": "8ab90147",
   "metadata": {},
   "outputs": [],
   "source": [
    "f.write('Hello\\nWorld\\nHello\\nPython\\n') # 한글을 write하면 CP949로 저장(win)\n",
    "f.close()"
   ]
  },
  {
   "cell_type": "code",
   "execution_count": 14,
   "id": "5405598d",
   "metadata": {},
   "outputs": [
    {
     "name": "stdout",
     "output_type": "stream",
     "text": [
      "쓰기 가능한지 여부 : True\n"
     ]
    }
   ],
   "source": [
    "# with구문을 사용하면 매번 close하는 코드가 불필요\n",
    "with open('data/ch09_sample.txt', 'wt') as f:\n",
    "    print('쓰기 가능한지 여부 :',f.writable())\n",
    "    f.write('Python is easy.\\nPython is smart.\\n')"
   ]
  },
  {
   "cell_type": "code",
   "execution_count": 15,
   "id": "48806379",
   "metadata": {},
   "outputs": [
    {
     "name": "stdout",
     "output_type": "stream",
     "text": [
      "프린트 함수로 파일 쓰기가 가능합니다-콘솔 출력\n"
     ]
    }
   ],
   "source": [
    "with open('data/ch09_sample.txt', 'at') as f:\n",
    "    print('프린트 함수로 파일 쓰기가 가능합니다-콘솔 출력')\n",
    "    print('프린트 함수로 파일 쓰기가 가능합니다-파일 출력', file=f)"
   ]
  },
  {
   "cell_type": "markdown",
   "id": "12179b13",
   "metadata": {},
   "source": [
    "- euc-kr : 한글완성형 (믜x)\n",
    "- cp949 : 확장된 한글완성형 (믜O) - 엑셀에서 \n",
    "- utf-8 : 한글조합형(초중종성 따로 조합해서 저장) - 주피터노트북에서"
   ]
  },
  {
   "cell_type": "code",
   "execution_count": 18,
   "id": "f41433d8",
   "metadata": {},
   "outputs": [],
   "source": [
    "with open('data/ch09_sample.txt', 'w', encoding='utf-8') as f:\n",
    "    f.write('= 여러 줄의 text를 쓰기 =\\n')\n",
    "    f.write('1방법: Hello\\nWorld\\n')\n",
    "    textlist = ['홍길동,30,서울\\n', '김길동,20,안양\\n']\n",
    "    f.write('2방법 : \\n')\n",
    "    for line in textlist:\n",
    "        f.write(line)\n",
    "    f.write('3방법 :\\n')\n",
    "    f.writelines(textlist)"
   ]
  },
  {
   "cell_type": "code",
   "execution_count": 20,
   "id": "d8d8d8da",
   "metadata": {},
   "outputs": [
    {
     "name": "stdout",
     "output_type": "stream",
     "text": [
      "= 여러 줄의 text를 쓰기 =\n",
      "1방법: Hello\n",
      "World\n",
      "2방법 : \n",
      "홍길동,30,서울\n",
      "김길동,20,안양\n",
      "3방법 :\n",
      "홍길동,30,서울\n",
      "김길동,20,안양\n"
     ]
    }
   ],
   "source": [
    "# 파일을 한줄 읽고 출력, 한줄 읽고 출력, ...\n",
    "with open('data/ch09_sample.txt', 'r', encoding='utf-8') as f:\n",
    "    line = f.readline() # 한줄 읽기\n",
    "    while line != '':\n",
    "        print(line, end='') # 파일에 \\n이 포함되어서 출력시 개행은 제거\n",
    "        line = f.readline()"
   ]
  },
  {
   "cell_type": "code",
   "execution_count": 22,
   "id": "b8a88599",
   "metadata": {},
   "outputs": [
    {
     "name": "stdout",
     "output_type": "stream",
     "text": [
      "['= 여러 줄의 text를 쓰기 =\\n', '1방법: Hello\\n', 'World\\n', '2방법 : \\n', '홍길동,30,서울\\n', '김길동,20,안양\\n', '3방법 :\\n', '홍길동,30,서울\\n', '김길동,20,안양\\n']\n"
     ]
    }
   ],
   "source": [
    "# 파일을 한꺼번에 여러줄 읽어 list를 return\n",
    "with open('data/ch09_sample.txt', 'rt', encoding='utf-8') as txtfile:\n",
    "    lines = txtfile.readlines() # list로 return\n",
    "    print(lines)"
   ]
  },
  {
   "cell_type": "code",
   "execution_count": 24,
   "id": "43e68b5a",
   "metadata": {},
   "outputs": [
    {
     "name": "stdout",
     "output_type": "stream",
     "text": [
      "= 여러 줄의 text를 쓰기 =\n",
      "1방법: Hello\n",
      "World\n",
      "2방법 : \n",
      "홍길동,30,서울\n",
      "김길동,20,안양\n",
      "3방법 :\n",
      "홍길동,30,서울\n",
      "김길동,20,안양\n"
     ]
    }
   ],
   "source": [
    "for line in lines:\n",
    "    print(line, end='')"
   ]
  },
  {
   "cell_type": "markdown",
   "id": "7a024f38",
   "metadata": {},
   "source": [
    "# 2절. 피클을 이용한 객체 저장 및 불러오기\n",
    "## 2.1 형식이 있는 텍스트 데이터 불러오기"
   ]
  },
  {
   "cell_type": "code",
   "execution_count": 28,
   "id": "b34b8d03",
   "metadata": {},
   "outputs": [
    {
     "name": "stdout",
     "output_type": "stream",
     "text": [
      "이름:홍길동, 나이:20, 메일:kildong@hong.com,\t주소:서울시 관악구\n",
      "이름:홍길숙, 나이:25, 메일:kilsuk1@hong.com,\t주소:서울시 영등포구\n",
      "이름:신길동, 나이:30, 메일:shinkil@hong.com,\t주소:서울시 동작구\n"
     ]
    }
   ],
   "source": [
    "with open('data/ch09_member.txt','r',encoding='utf-8') as f:\n",
    "    lines = f.readlines()\n",
    "    # print(lines)\n",
    "for line in lines:\n",
    "    # print(line)\n",
    "    data = line.strip().split(',')\n",
    "    name = data[0]\n",
    "    age = int(data[1].strip()) # strip은 앞뒤 white space 제거\n",
    "    email = data[2].strip()\n",
    "    address = data[3].strip()\n",
    "    print('이름:{}, 나이:{}, 메일:{},\\t주소:{}'.format(name, age, email, address))"
   ]
  },
  {
   "cell_type": "code",
   "execution_count": 29,
   "id": "66150ca9",
   "metadata": {},
   "outputs": [],
   "source": [
    "class Member:\n",
    "    def __init__(self, name, age, email, address):\n",
    "        self.name = name\n",
    "        self.age  = age\n",
    "        self.email= email\n",
    "        self.address = address\n",
    "    def __str__(self):\n",
    "        return \"이름:{}, 나이:{}, 메일:{},\\t주소:{}\".format(self.name,\n",
    "                                            self.age, self.email, self.address)\n",
    "    def as_dict(self): # 객체를 딕셔너리로 바꿔 return\n",
    "        return {'name' : self.name,\n",
    "                'age' : self.age,\n",
    "                'email':self.email,\n",
    "                'address':self.address}"
   ]
  },
  {
   "cell_type": "code",
   "execution_count": 30,
   "id": "5b391bbf",
   "metadata": {},
   "outputs": [
    {
     "name": "stdout",
     "output_type": "stream",
     "text": [
      "이름:홍길동, 나이:22, 메일:hong@hong.com,\t주소:서울\n",
      "{'name': '홍길동', 'age': 22, 'email': 'hong@hong.com', 'address': '서울'}\n"
     ]
    }
   ],
   "source": [
    "user = Member('홍길동',22, 'hong@hong.com', '서울') # 생성자 test\n",
    "print(user) # __str__ test\n",
    "print(user.as_dict()) # as_dict test"
   ]
  },
  {
   "cell_type": "code",
   "execution_count": 31,
   "id": "1d71867d",
   "metadata": {},
   "outputs": [],
   "source": [
    "# 파일의 내용을 member list나 딕셔너리 list로 읽기\n",
    "user_list = [] # member list\n",
    "user_dict = [] # 딕셔너리 list\n",
    "with open('data/ch09_member.txt','r', encoding='utf-8') as f:\n",
    "    lines = f.readlines()\n",
    "for line in lines:\n",
    "    data = line.strip().split(',')\n",
    "    name = data[0]\n",
    "    age = int(data[1].strip())\n",
    "    email = data[2].strip()\n",
    "    address = data[3].strip()\n",
    "    user = Member(name, age, email, address)\n",
    "    user_list.append(user)\n",
    "    user_dict.append(user.as_dict())"
   ]
  },
  {
   "cell_type": "code",
   "execution_count": 32,
   "id": "4d81022b",
   "metadata": {},
   "outputs": [
    {
     "name": "stdout",
     "output_type": "stream",
     "text": [
      "이름:홍길동, 나이:20, 메일:kildong@hong.com,\t주소:서울시 관악구\n",
      "이름:홍길숙, 나이:25, 메일:kilsuk1@hong.com,\t주소:서울시 영등포구\n",
      "이름:신길동, 나이:30, 메일:shinkil@hong.com,\t주소:서울시 동작구\n"
     ]
    }
   ],
   "source": [
    "# user_list (객체 list)\n",
    "for user in user_list:\n",
    "    print(user)"
   ]
  },
  {
   "cell_type": "code",
   "execution_count": 33,
   "id": "11017031",
   "metadata": {},
   "outputs": [
    {
     "data": {
      "text/plain": [
       "[{'name': '홍길동', 'age': 20, 'email': 'kildong@hong.com', 'address': '서울시 관악구'},\n",
       " {'name': '홍길숙',\n",
       "  'age': 25,\n",
       "  'email': 'kilsuk1@hong.com',\n",
       "  'address': '서울시 영등포구'},\n",
       " {'name': '신길동', 'age': 30, 'email': 'shinkil@hong.com', 'address': '서울시 동작구'}]"
      ]
     },
     "execution_count": 33,
     "metadata": {},
     "output_type": "execute_result"
    }
   ],
   "source": [
    "# user_dict (딕셔너리 list)\n",
    "user_dict"
   ]
  },
  {
   "cell_type": "markdown",
   "id": "7f3576d3",
   "metadata": {},
   "source": [
    "## 2.2 피클링"
   ]
  },
  {
   "cell_type": "code",
   "execution_count": 14,
   "id": "5c5df1cd",
   "metadata": {},
   "outputs": [
    {
     "name": "stdout",
     "output_type": "stream",
     "text": [
      "True\n",
      "True\n"
     ]
    }
   ],
   "source": [
    "class Member:\n",
    "    def __init__(self, name, age, email, address):\n",
    "        self.name = name\n",
    "        self.age  = age\n",
    "        self.email= email\n",
    "        self.address = address\n",
    "    def __str__(self):\n",
    "        return \"이름:{}, 나이:{}, 메일:{},\\t주소:{}\".format(self.name,\n",
    "                                            self.age, self.email, self.address)\n",
    "    def __eq__(self, other):\n",
    "        '''\n",
    "        user1.__eq__(user2) 호출시 user1의 속성변수들과 user2의 속성변수들이 모두 같은 여부\n",
    "        '''\n",
    "        if isinstance(other, Member):\n",
    "            return self.name==other.name and self.age == other.age \\\n",
    "                    and self.email==other.email and self.address==other.address\n",
    "        else:\n",
    "            return False\n",
    "    def as_dict(self): # 객체를 딕셔너리로 바꿔 return\n",
    "        return {'name' : self.name,\n",
    "                'age' : self.age,\n",
    "                'email':self.email,\n",
    "                'address':self.address}\n",
    "user1 = Member(\"홍길동\", 20,'h@h.com','서울')\n",
    "user2 = Member(\"홍길동\", 20,'h@h.com', '서울')\n",
    "print(user1.__eq__(user2))\n",
    "print(user1 == user2)"
   ]
  },
  {
   "cell_type": "code",
   "execution_count": 15,
   "id": "c450c5b3",
   "metadata": {},
   "outputs": [],
   "source": [
    "user1 = Member(\"홍길동\", 20,' h@h.com',' 서울')\n",
    "user2 = Member(\"김길동\", 25, 'k@h.com', '인천')\n",
    "user3 = Member(\"신길동\", 30, 's@h.com', '포천')\n",
    "user_list = [user1, user2, user3]"
   ]
  },
  {
   "cell_type": "code",
   "execution_count": 16,
   "id": "f7bf2cef",
   "metadata": {},
   "outputs": [
    {
     "name": "stdout",
     "output_type": "stream",
     "text": [
      "이름:홍길동, 나이:20, 메일: h@h.com,\t주소: 서울\n",
      "이름:김길동, 나이:25, 메일:k@h.com,\t주소:인천\n",
      "이름:신길동, 나이:30, 메일:s@h.com,\t주소:포천\n"
     ]
    }
   ],
   "source": [
    "for user in user_list:\n",
    "    print(user)"
   ]
  },
  {
   "cell_type": "code",
   "execution_count": 17,
   "id": "b16fb733",
   "metadata": {},
   "outputs": [],
   "source": [
    "# 피클링을 이용한 객체를 파일에 저장하기\n",
    "import pickle\n",
    "with open('data/ch09_member.data', 'wb') as f:\n",
    "    pickle.dump(user_list, f)"
   ]
  },
  {
   "cell_type": "code",
   "execution_count": 18,
   "id": "eab7e748",
   "metadata": {},
   "outputs": [],
   "source": [
    "del user1, user2, user3"
   ]
  },
  {
   "cell_type": "code",
   "execution_count": 19,
   "id": "74465d09",
   "metadata": {},
   "outputs": [],
   "source": [
    "# 피클링을 이용한 파일에서 객체 데이터 읽기\n",
    "with open('data/ch09_member.data', 'rb') as f:\n",
    "    load_user_list = pickle.load(f)"
   ]
  },
  {
   "cell_type": "code",
   "execution_count": 20,
   "id": "bfcfed68",
   "metadata": {},
   "outputs": [
    {
     "name": "stdout",
     "output_type": "stream",
     "text": [
      "이름:홍길동, 나이:20, 메일: h@h.com,\t주소: 서울\n",
      "이름:김길동, 나이:25, 메일:k@h.com,\t주소:인천\n",
      "이름:신길동, 나이:30, 메일:s@h.com,\t주소:포천\n"
     ]
    }
   ],
   "source": [
    "for user in load_user_list:\n",
    "    print(user)"
   ]
  },
  {
   "cell_type": "code",
   "execution_count": 22,
   "id": "9d23a3e3",
   "metadata": {},
   "outputs": [
    {
     "data": {
      "text/plain": [
       "[True, True, True]"
      ]
     },
     "execution_count": 22,
     "metadata": {},
     "output_type": "execute_result"
    }
   ],
   "source": [
    "# user_list와 load_user_list가 모두 같은지 여부\n",
    "result = []\n",
    "for idx in range(len(user_list)):\n",
    "    result.append(user_list[idx] == load_user_list[idx])\n",
    "result"
   ]
  },
  {
   "cell_type": "code",
   "execution_count": 23,
   "id": "2e4a3b7b",
   "metadata": {},
   "outputs": [
    {
     "data": {
      "text/plain": [
       "True"
      ]
     },
     "execution_count": 23,
     "metadata": {},
     "output_type": "execute_result"
    }
   ],
   "source": [
    "all(result) # 모든 요소들이 True인지 여부"
   ]
  },
  {
   "cell_type": "markdown",
   "id": "956de0e9",
   "metadata": {},
   "source": [
    "# 3절. csv 형식 파일 읽기/쓰기\n",
    "- CSV 파일의 자료를 리스트 데이터로 읽기   3.1과 3.2\n",
    "- CSV 파일의 자료를 딕셔너리 데이터로 읽기 3.3과 3.4\n",
    "\n",
    "## 3.1 reader"
   ]
  },
  {
   "cell_type": "code",
   "execution_count": 29,
   "id": "b8fe24c8",
   "metadata": {},
   "outputs": [
    {
     "name": "stdout",
     "output_type": "stream",
     "text": [
      "['홍길동', '20', 'kildong@hong.com', '서울시 관악구']\n",
      "['김길동', '40', 'kimdong@hong.com', '서울시 영등포구']\n",
      "['신길동', '30', 'sindong@hong.com', '서울시 동작구']\n"
     ]
    }
   ],
   "source": [
    "# utf-8로 인코딩된 csv파일 읽기\n",
    "import csv\n",
    "with open('data/ch09_member1.csv', 'r', encoding='UTF-8') as f:\n",
    "    reader = csv.reader(f)\n",
    "    #print(list(reader))\n",
    "    for row in reader:\n",
    "        print(row)"
   ]
  },
  {
   "cell_type": "code",
   "execution_count": 33,
   "id": "b10d4007",
   "metadata": {},
   "outputs": [
    {
     "name": "stdout",
     "output_type": "stream",
     "text": [
      "홍길동 - 20 - kildong@hong.com - 서울시 관악구\n",
      "김길동 - 40 - kimdong@hong.com - 서울시 영등포구 - 팀장\n",
      "신길동 - 30 - sindong@hong.com - 서울시 동작구\n"
     ]
    }
   ],
   "source": [
    "# CP949로 인코딩된 csv 파일 read\n",
    "with open('data/ch09_member1-cp.csv') as f:\n",
    "    reader = csv.reader(f)\n",
    "    result = list(reader)\n",
    "# print(result)\n",
    "for row in result:\n",
    "    print(' - '.join(row))"
   ]
  },
  {
   "cell_type": "code",
   "execution_count": 34,
   "id": "df4e99a3",
   "metadata": {},
   "outputs": [
    {
     "name": "stdout",
     "output_type": "stream",
     "text": [
      "['홍길동', 20.0, 'kildong@hong.com', '서울시 관악구']\n",
      "['김길동', 40.0, 'kimdong@hong.com', '서울시 영등포구']\n",
      "['신길동', 30.0, 'sindong@hong.com', '서울시 동작구']\n"
     ]
    }
   ],
   "source": [
    "# \"\"(따옴표)가 없는 데이터는 numeric으로 \n",
    "with open('data/ch09_member1.csv', 'r', encoding='utf-8') as f:\n",
    "    reader = csv.reader(f, quotechar='\"',\n",
    "                       quoting=csv.QUOTE_NONNUMERIC)\n",
    "    for row in reader:\n",
    "        print(row)"
   ]
  },
  {
   "cell_type": "code",
   "execution_count": 35,
   "id": "346dbdf4",
   "metadata": {},
   "outputs": [
    {
     "name": "stdout",
     "output_type": "stream",
     "text": [
      "파일에서 읽어온 딕셔너리 리스트\n",
      "[{'name': '홍길동', 'age': 20.0, 'email': 'kildong@hong.com', 'address': '서울시 관악구'}, {'name': '김길동', 'age': 40.0, 'email': 'kimdong@hong.com', 'address': '서울시 영등포구'}, {'name': '신길동', 'age': 30.0, 'email': 'sindong@hong.com', 'address': '서울시 동작구'}]\n"
     ]
    }
   ],
   "source": [
    "# csv 파일의 내용을 딕셔너리 리스트로 가져오기\n",
    "user_dict = []\n",
    "with open('data/ch09_member1.csv', encoding='utf-8') as f:\n",
    "    reader = csv.reader(f, quotechar='\"',\n",
    "                       quoting=csv.QUOTE_NONNUMERIC)\n",
    "    for row in reader:\n",
    "        user_dict.append({'name':row[0],\n",
    "                          'age':row[1],\n",
    "                          'email':row[2],\n",
    "                          'address':row[3]})\n",
    "print('파일에서 읽어온 딕셔너리 리스트')\n",
    "print(user_dict)"
   ]
  },
  {
   "cell_type": "markdown",
   "id": "e7f5fc52",
   "metadata": {},
   "source": [
    "## 3.2 writer"
   ]
  },
  {
   "cell_type": "code",
   "execution_count": 36,
   "id": "bf2f1acc",
   "metadata": {},
   "outputs": [],
   "source": [
    "user_list = [['홍길동',20,'hong@hong.com','서울'],\n",
    "             ['신길동',30,'shin@hong.com','인천'],]"
   ]
  },
  {
   "cell_type": "code",
   "execution_count": 37,
   "id": "b95f8760",
   "metadata": {},
   "outputs": [],
   "source": [
    "# newline='' 옵션을 빼면 개행이 2번\n",
    "try:\n",
    "    with open('data/ch09_member2-write-cp.csv', 'w', newline='') as f:\n",
    "        writer = csv.writer(f)\n",
    "        for user in user_list:\n",
    "            writer.writerow(user)\n",
    "except FileNotFoundError as e:\n",
    "    print(e)"
   ]
  },
  {
   "cell_type": "code",
   "execution_count": 39,
   "id": "1b6de8af",
   "metadata": {},
   "outputs": [],
   "source": [
    "with open('data/ch09_member2-write.csv','w',encoding='utf-8', newline='') as f:\n",
    "    writer = csv.writer(f, quoting=csv.QUOTE_NONNUMERIC)\n",
    "    writer.writerows(user_list)"
   ]
  },
  {
   "cell_type": "markdown",
   "id": "1321dcb3",
   "metadata": {},
   "source": [
    "## 3.3 DictReader\n",
    "- csv파일의 자료를 딕셔너리 데이터 읽기"
   ]
  },
  {
   "cell_type": "code",
   "execution_count": 4,
   "id": "93ebcebf",
   "metadata": {},
   "outputs": [
    {
     "name": "stdout",
     "output_type": "stream",
     "text": [
      "홍길동 20 h@h.com 서울시 관악구\n",
      "신길동 40 s@h.com 서울시 영등포구 팀장\n",
      "김길동 30 k@h.com 서울시 동작구\n"
     ]
    }
   ],
   "source": [
    "import csv\n",
    "# header가 있는 csv 파일을 딕셔너리로 읽기(ch09_member3.csv)\n",
    "with open('data/ch09_member3.csv', 'r', encoding='utf-8') as f:\n",
    "    dict_reader = csv.DictReader(f)\n",
    "    # print(list(dict_reader))\n",
    "    for row in dict_reader:\n",
    "        if row['job'] is None:\n",
    "            print(row['name'], row['age'], row['email'], row['address'])\n",
    "        else:\n",
    "            print(row['name'], row['age'], row['email'], row['address'], row['job'])"
   ]
  },
  {
   "cell_type": "code",
   "execution_count": 5,
   "id": "944c8fae",
   "metadata": {},
   "outputs": [
    {
     "data": {
      "text/html": [
       "<div>\n",
       "<style scoped>\n",
       "    .dataframe tbody tr th:only-of-type {\n",
       "        vertical-align: middle;\n",
       "    }\n",
       "\n",
       "    .dataframe tbody tr th {\n",
       "        vertical-align: top;\n",
       "    }\n",
       "\n",
       "    .dataframe thead th {\n",
       "        text-align: right;\n",
       "    }\n",
       "</style>\n",
       "<table border=\"1\" class=\"dataframe\">\n",
       "  <thead>\n",
       "    <tr style=\"text-align: right;\">\n",
       "      <th></th>\n",
       "      <th>name</th>\n",
       "      <th>age</th>\n",
       "      <th>email</th>\n",
       "      <th>address</th>\n",
       "      <th>job</th>\n",
       "    </tr>\n",
       "  </thead>\n",
       "  <tbody>\n",
       "    <tr>\n",
       "      <th>0</th>\n",
       "      <td>홍길동</td>\n",
       "      <td>20</td>\n",
       "      <td>h@h.com</td>\n",
       "      <td>서울시 관악구</td>\n",
       "      <td>NaN</td>\n",
       "    </tr>\n",
       "    <tr>\n",
       "      <th>1</th>\n",
       "      <td>신길동</td>\n",
       "      <td>40</td>\n",
       "      <td>s@h.com</td>\n",
       "      <td>서울시 영등포구</td>\n",
       "      <td>팀장</td>\n",
       "    </tr>\n",
       "    <tr>\n",
       "      <th>2</th>\n",
       "      <td>김길동</td>\n",
       "      <td>30</td>\n",
       "      <td>k@h.com</td>\n",
       "      <td>서울시 동작구</td>\n",
       "      <td>NaN</td>\n",
       "    </tr>\n",
       "  </tbody>\n",
       "</table>\n",
       "</div>"
      ],
      "text/plain": [
       "  name  age    email   address  job\n",
       "0  홍길동   20  h@h.com   서울시 관악구  NaN\n",
       "1  신길동   40  s@h.com  서울시 영등포구   팀장\n",
       "2  김길동   30  k@h.com   서울시 동작구  NaN"
      ]
     },
     "execution_count": 5,
     "metadata": {},
     "output_type": "execute_result"
    }
   ],
   "source": [
    "# cf. csv파일을 데이터프레임으로\n",
    "import pandas as pd\n",
    "member = pd.read_csv('data/ch09_member3.csv', encoding='utf-8') # encoding='utf-8'이 기본\n",
    "member"
   ]
  },
  {
   "cell_type": "code",
   "execution_count": 6,
   "id": "c331aa9d",
   "metadata": {},
   "outputs": [
    {
     "data": {
      "text/plain": [
       "pandas.core.frame.DataFrame"
      ]
     },
     "execution_count": 6,
     "metadata": {},
     "output_type": "execute_result"
    }
   ],
   "source": [
    "type(member)"
   ]
  },
  {
   "cell_type": "code",
   "execution_count": 10,
   "id": "8693a2c6",
   "metadata": {},
   "outputs": [
    {
     "name": "stdout",
     "output_type": "stream",
     "text": [
      "홍길동 20 kildong@hong.com 서울시 관악구\n",
      "김길동 40 kimdong@hong.com 서울시 영등포구\n",
      "신길동 30 sindong@hong.com 서울시 동작구\n"
     ]
    }
   ],
   "source": [
    "# header가 없는 csv 파일을 딕셔너리로 읽기(ch09_member1-cp.csv)\n",
    "with open('data/ch09_member1-cp.csv', 'r', encoding='cp949') as f:\n",
    "    dict_reader = csv.DictReader(f, fieldnames=['Name','Age','Email','Address'])\n",
    "    for row in dict_reader:\n",
    "        #print(row)\n",
    "        print(row['Name'], row['Age'], row['Email'], row['Address'])"
   ]
  },
  {
   "cell_type": "code",
   "execution_count": 12,
   "id": "86a245c7",
   "metadata": {},
   "outputs": [
    {
     "name": "stdout",
     "output_type": "stream",
     "text": [
      "{'Name': '홍길동', 'Age': '20', 'Email': 'kildong@hong.com', 'Address': '서울시 관악구', 'Job': ''}\n",
      "{'Name': '김길동', 'Age': '40', 'Email': 'kimdong@hong.com', 'Address': '서울시 영등포구', 'Job': '팀장'}\n",
      "{'Name': '신길동', 'Age': '30', 'Email': 'sindong@hong.com', 'Address': '서울시 동작구', 'Job': ''}\n"
     ]
    }
   ],
   "source": [
    "# header가 없는 csv 파일을 딕셔너리로 읽기(ch09_member1-cp.csv)\n",
    "with open('data/ch09_member1-cp.csv', 'r', encoding='cp949') as f:\n",
    "    dict_reader = csv.DictReader(f, fieldnames=['Name','Age','Email','Address','Job'])\n",
    "    for row in dict_reader:\n",
    "        print(row)\n",
    "        #print(row['Name'], row['Age'], row['Email'], row['Address'], row['Job'])"
   ]
  },
  {
   "cell_type": "code",
   "execution_count": 15,
   "id": "f1153d43",
   "metadata": {},
   "outputs": [
    {
     "name": "stdout",
     "output_type": "stream",
     "text": [
      "홍길동 20 kildong@hong.com 서울시 관악구\n",
      "김길동 40 kimdong@hong.com 서울시 영등포구 팀장\n",
      "신길동 30 sindong@hong.com 서울시 동작구\n"
     ]
    }
   ],
   "source": [
    "# header가 없는 csv 파일을 딕셔너리로 읽기(ch09_member1-cp.csv)\n",
    "with open('data/ch09_member1-cp.csv', 'r', encoding='cp949') as f:\n",
    "    dict_reader = csv.DictReader(f, fieldnames=['Name','Age','Email','Address'], \n",
    "                                 restkey='Job')\n",
    "    for row in dict_reader:\n",
    "        #print(row)\n",
    "        if row['Job'][0] == '':\n",
    "            print(row['Name'], row['Age'], row['Email'], row['Address'])\n",
    "        else:\n",
    "            print(row['Name'], row['Age'], row['Email'], row['Address'], row['Job'][0])"
   ]
  },
  {
   "cell_type": "code",
   "execution_count": 19,
   "id": "424b5e9a",
   "metadata": {},
   "outputs": [
    {
     "data": {
      "text/plain": [
       "[{'name': '홍길동',\n",
       "  'age': '20',\n",
       "  'email': 'kildong@hong.com',\n",
       "  'address': '서울시 관악구',\n",
       "  'job': ''},\n",
       " {'name': '김길동',\n",
       "  'age': '40',\n",
       "  'email': 'kimdong@hong.com',\n",
       "  'address': '서울시 영등포구',\n",
       "  'job': '팀장'},\n",
       " {'name': '신길동',\n",
       "  'age': '30',\n",
       "  'email': 'sindong@hong.com',\n",
       "  'address': '서울시 동작구',\n",
       "  'job': ''}]"
      ]
     },
     "execution_count": 19,
     "metadata": {},
     "output_type": "execute_result"
    }
   ],
   "source": [
    "# ch09_member1-cp.csv의 내용을 딕셔너리 list로 받아 보세요\n",
    "userlist = [] # 딕셔너리 list\n",
    "# 파일의 내용을 userlist에 담기\n",
    "with open('data/ch09_member1-cp.csv', 'r', encoding='CP949') as f:\n",
    "    dict_reader = csv.DictReader(f, fieldnames=['name','age','email','address','job'])\n",
    "    for row in dict_reader:\n",
    "        userlist.append(row)\n",
    "userlist"
   ]
  },
  {
   "cell_type": "markdown",
   "id": "ce48b3a6",
   "metadata": {},
   "source": [
    "## 3.4 DictWriter\n",
    "- 딕셔너리 리스트를 csv파일로 쓰기"
   ]
  },
  {
   "cell_type": "code",
   "execution_count": 23,
   "id": "02c0b073",
   "metadata": {},
   "outputs": [
    {
     "name": "stdout",
     "output_type": "stream",
     "text": [
      "['name', 'age', 'email', 'address']\n"
     ]
    }
   ],
   "source": [
    "user1 = {'name':'홍길동','age':20,'email':'h@hong.com','address':'서울'}\n",
    "user2 = {'name':'신길동','age':25,'email':'s@hong.com','address':'부산'}\n",
    "user3 = {'name':'김길동','age':35,'email':'k@hong.com','address':'인천'}\n",
    "user_list = [user1, user2, user3]\n",
    "fieldnames = list(user1.keys())\n",
    "print(fieldnames)"
   ]
  },
  {
   "cell_type": "markdown",
   "id": "d2168545",
   "metadata": {},
   "source": [
    "``` csv 파일 내용\n",
    "name,age,email,address\n",
    "홍길동,20,h@hong.com,서울\n",
    "```"
   ]
  },
  {
   "cell_type": "code",
   "execution_count": 28,
   "id": "184487bd",
   "metadata": {},
   "outputs": [],
   "source": [
    "with open('data/ch09_member4.csv','a',encoding='UTF-8', newline='') as f:\n",
    "    dict_writer = csv.DictWriter(f, fieldnames=fieldnames)\n",
    "    # dict_writer.writeheader() # header 한줄 쓰기\n",
    "#     for user in user_list:\n",
    "#         dict_writer.writerow(user)\n",
    "    dict_writer.writerows(user_list)"
   ]
  },
  {
   "cell_type": "markdown",
   "id": "ce869d97",
   "metadata": {},
   "source": [
    "# 4절. JSON 파일에 저장하고 불러오기(dump, load)\n",
    "[{'name':'홍',\n",
    "  'age':20},\n",
    "  {'name':'박',\n",
    "  'age':30},]\n",
    "## 4.1 JSON dump(파일에 저장)\n",
    "1. 딕셔너리 리스트 데이터를 json파일로\n",
    "2. 객체 리스트 데이터를 json파일로"
   ]
  },
  {
   "cell_type": "code",
   "execution_count": 3,
   "id": "492c5c00",
   "metadata": {},
   "outputs": [],
   "source": [
    "data = [{\"name\":\"홍길동\", \"age\":20, \"email\":\"h@h.com\",\"address\":\"서울\"},\n",
    "       {\"name\":\"김길동\", \"age\":30, \"email\":\"k@h.com\",\"address\":\"부산\"},\n",
    "       {\"name\":\"신길동\", \"age\":40, \"email\":\"s@h.com\",\"address\":\"안양\"},]"
   ]
  },
  {
   "cell_type": "code",
   "execution_count": 18,
   "id": "78ac118f",
   "metadata": {},
   "outputs": [],
   "source": [
    "# 1. 딕셔너리 리스트를 json파일로 저장(dump)\n",
    "# ensure_ascii옵션의 역할 : ASCII 코드 범위를 넘어선는 문자를 어떻게 처리할지\n",
    "# True(기본값) : ASCII 코드 범위를 넘어선 한글은 유니코드로 저장\n",
    "# False : 비 ASCII 문자 원래 형태로 그대로 저장\n",
    "import json\n",
    "with open('data/ch09_member1.json', 'w') as jsonfile:\n",
    "    json.dump(data, # 딕셔너리 리스트\n",
    "              jsonfile, ensure_ascii=False, indent=' ')"
   ]
  },
  {
   "cell_type": "code",
   "execution_count": 13,
   "id": "b88c70d8",
   "metadata": {},
   "outputs": [],
   "source": [
    "# 2. 객체 리스트를 json 파일로 저장(dump)\n",
    "class Member:\n",
    "    def __init__(self, name, age, email, address):\n",
    "        self.name = name\n",
    "        self.age  = age\n",
    "        self.email = email\n",
    "        self.address = address\n",
    "    def as_dict(self):\n",
    "        '객체를 딕셔너리로 바꿔 return (json.dump시 필요)'\n",
    "        return {\"name\":self.name,\n",
    "                \"age\":self.age,\n",
    "                \"email\":self.email,\n",
    "                \"address\":self.address}\n",
    "    def __str__(self):\n",
    "        return \"이름:{}, 나이:{}살, 메일:{},\\t주소:{}\".format(self.name,\n",
    "                                self.age, self.email, self.address)\n",
    "    def __eq__(self, other):\n",
    "        '''\n",
    "        m1.__eq__(m2) 호출시 두 객체의 속성변수들 값이 모두 일치하는지 여부\n",
    "        m1 == m2 구현시 두 객체의 속성변수들 값이 모두 일치하는지 여부\n",
    "        '''\n",
    "        if isinstance(other, Member):\n",
    "            return self.name==other.name and \\\n",
    "                    self.age==other.age and \\\n",
    "                    self.email==other.email and \\\n",
    "                    self.address==other.address\n",
    "        else:\n",
    "            return False"
   ]
  },
  {
   "cell_type": "code",
   "execution_count": 16,
   "id": "99d53e1e",
   "metadata": {},
   "outputs": [],
   "source": [
    "member_list = [Member(\"홍길동\", 30, \"h@h.com\", \"서울\"), \n",
    "               Member(\"김길동\", 25, \"k@h.com\", \"부산\"), \n",
    "               Member(\"신길동\", 35, \"s@h.com\", \"대전\"), ]"
   ]
  },
  {
   "cell_type": "code",
   "execution_count": 17,
   "id": "32340914",
   "metadata": {},
   "outputs": [
    {
     "name": "stdout",
     "output_type": "stream",
     "text": [
      "이름:홍길동, 나이:30살, 메일:h@h.com,\t주소:서울\n",
      "이름:김길동, 나이:25살, 메일:k@h.com,\t주소:부산\n",
      "이름:신길동, 나이:35살, 메일:s@h.com,\t주소:대전\n"
     ]
    }
   ],
   "source": [
    "for member in member_list:\n",
    "    print(member)"
   ]
  },
  {
   "cell_type": "code",
   "execution_count": 20,
   "id": "68863972",
   "metadata": {},
   "outputs": [],
   "source": [
    "with open('data/ch09_member2.json', 'a', encoding='UTF8') as jsonfile:\n",
    "    json.dump(member_list, # 객체 리스트\n",
    "             jsonfile, ensure_ascii=False, indent='\\t',\n",
    "             default=Member.as_dict) # 객체를 딕셔너리형태로 return하는 인스턴스 함수"
   ]
  },
  {
   "cell_type": "code",
   "execution_count": 21,
   "id": "9725629b",
   "metadata": {},
   "outputs": [
    {
     "name": "stdout",
     "output_type": "stream",
     "text": [
      "Variable      Type             Data/Info\n",
      "----------------------------------------\n",
      "HTML          type             <class 'IPython.core.display.HTML'>\n",
      "Member        type             <class '__main__.Member'>\n",
      "data          list             n=3\n",
      "display       function         <function display at 0x000001BFD51D3640>\n",
      "json          module           <module 'json' from 'C:\\\\<...>\\lib\\\\json\\\\__init__.py'>\n",
      "jsonfile      TextIOWrapper    <_io.TextIOWrapper name='<...>mode='a' encoding='UTF8'>\n",
      "member        Member           이름:신길동, 나이:35살, 메일:s@h.com,\t주소:대전\n",
      "member_list   list             n=3\n"
     ]
    }
   ],
   "source": [
    "# 현재 세션(현재 실행중인 jupyter notebook)에 존재하는 변수들의 목록\n",
    "    # 매직명령어 : jupyter notebook의 IPYTHON 환경에서만 제공\n",
    "%whos"
   ]
  },
  {
   "cell_type": "markdown",
   "id": "e106da6f",
   "metadata": {},
   "source": [
    "## 4.2 JSON load(파일 읽기)\n",
    "1. json파일을 딕셔너리 리스트 변수로 읽기\n",
    "2. json파일을 객체 리스트 변수로 읽기"
   ]
  },
  {
   "cell_type": "code",
   "execution_count": null,
   "id": "37296a04",
   "metadata": {},
   "outputs": [],
   "source": [
    "# 1. json파일을 딕셔너리 리스트로\n",
    "\n",
    "with open('data/ch09_member1.json', 'r', encoding='cp949') as jsonfile:\n",
    "    load_data = json.load"
   ]
  },
  {
   "cell_type": "code",
   "execution_count": null,
   "id": "039eceb2",
   "metadata": {},
   "outputs": [],
   "source": []
  },
  {
   "cell_type": "code",
   "execution_count": null,
   "id": "3e806c33",
   "metadata": {},
   "outputs": [],
   "source": []
  },
  {
   "cell_type": "code",
   "execution_count": null,
   "id": "5ff1c351",
   "metadata": {},
   "outputs": [],
   "source": []
  }
 ],
 "metadata": {
  "kernelspec": {
   "display_name": "Python 3 (ipykernel)",
   "language": "python",
   "name": "python3"
  },
  "language_info": {
   "codemirror_mode": {
    "name": "ipython",
    "version": 3
   },
   "file_extension": ".py",
   "mimetype": "text/x-python",
   "name": "python",
   "nbconvert_exporter": "python",
   "pygments_lexer": "ipython3",
   "version": "3.10.9"
  },
  "toc": {
   "base_numbering": 1,
   "nav_menu": {},
   "number_sections": true,
   "sideBar": true,
   "skip_h1_title": false,
   "title_cell": "Table of Contents",
   "title_sidebar": "Contents",
   "toc_cell": false,
   "toc_position": {
    "height": "calc(100% - 180px)",
    "left": "10px",
    "top": "150px",
    "width": "165px"
   },
   "toc_section_display": true,
   "toc_window_display": true
  }
 },
 "nbformat": 4,
 "nbformat_minor": 5
}
