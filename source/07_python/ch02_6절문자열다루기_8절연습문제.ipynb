{
 "cells": [
  {
   "cell_type": "code",
   "execution_count": 2,
   "id": "f851fece",
   "metadata": {},
   "outputs": [
    {
     "data": {
      "text/html": [
       "\n",
       "<style>\n",
       "div.container{width:99% !important;}\n",
       "div.cell.code_cell.rendered{width:85%;}\n",
       "div.CodeMirror {font-family:Consolas; font-size:20pt;}\n",
       "div.output {font-size:20pt; font-weight:bold;}\n",
       "div.input {font-family:Consolas; font-size:20pt;}\n",
       "div.prompt {min-width:70px;}\n",
       "div#toc-wrapper{padding-top:120px;}\n",
       "span.toc-item-num{display:none;}\n",
       "div.text_cell_render ul li{font-size:16pt;padding:5px;}\n",
       "</style>\n"
      ],
      "text/plain": [
       "<IPython.core.display.HTML object>"
      ]
     },
     "metadata": {},
     "output_type": "display_data"
    }
   ],
   "source": [
    "from IPython.display import display, HTML\n",
    "display(HTML(\"\"\"\n",
    "<style>\n",
    "div.container{width:99% !important;}\n",
    "div.cell.code_cell.rendered{width:85%;}\n",
    "div.CodeMirror {font-family:Consolas; font-size:20pt;}\n",
    "div.output {font-size:20pt; font-weight:bold;}\n",
    "div.input {font-family:Consolas; font-size:20pt;}\n",
    "div.prompt {min-width:70px;}\n",
    "div#toc-wrapper{padding-top:120px;}\n",
    "span.toc-item-num{display:none;}\n",
    "div.text_cell_render ul li{font-size:16pt;padding:5px;}\n",
    "</style>\n",
    "\"\"\"))"
   ]
  },
  {
   "cell_type": "markdown",
   "id": "7dd0d3d4",
   "metadata": {},
   "source": [
    "<b><font size=\"6\" color=\"red\">ch02. 자료형과 연산자</font></b>"
   ]
  },
  {
   "cell_type": "markdown",
   "id": "e3fa5374",
   "metadata": {},
   "source": [
    "# 6절. 문자열 다루기\n",
    "- 문자열슬라이싱변수[from:to:by]\n",
    "- len(문자열변수)\n",
    "- upper() : 대문자로\n",
    "- lower() : 소문자로\n",
    "- title() : 각 어절의 앞글자만 대문자로\n",
    "- capitalize() : 첫문자만 대문자로\n",
    "- count('찾을문자열') : '찾을문자열'이 몇개 들어있는지 갯수 반환\n",
    "- find('찾을문자열') : '찾을문자열'이 왼쪽부터 시작하여 몇번째에 있는지 index를 반환\n",
    "- rfind('찾을문자열') : '찾을문자열'이 오른쪽부터 시작하여 몇번째에 있는지 index를 반환\n",
    "            (찾을문자열이 없으면 -1을 반환)\n",
    "    cf. index('찾을문자열') : '찾을문자열'이 왼쪽부터 시작하여 몇번째 있는지 index를 반환\n",
    "            (찾을 문자열이 없으면 오류)\n",
    "- startswith('특정문자열') : '특정문자열'로 시작하는지 여부 반환\n",
    "- endswith('특정문자열') : '특정문자열'로 끝나는지 여부 반환\n",
    "- strip() : 좌우공백제거(trim)\n",
    "- rstrip() : 오른쪽 공백제거\n",
    "- lstrip() : 왼쪽 공백제거\n",
    "- split() : 문자열을 공백이나 다른 문자 기준으로 나누어 리스트로 반환\n",
    "- isdigit() : 문자열이 숫자 문자열인지 여부 반환\n",
    "- islower() : 문자열이 소문자인지 여부 반환\n",
    "- isupper() : 문자열이 대문자인지 여부 반환\n",
    "- replace(oldStr, newStr) : oldStr을 newStr을 변경"
   ]
  },
  {
   "cell_type": "code",
   "execution_count": null,
   "id": "80cb9c24",
   "metadata": {},
   "outputs": [],
   "source": []
  },
  {
   "cell_type": "code",
   "execution_count": null,
   "id": "04116e50",
   "metadata": {},
   "outputs": [],
   "source": []
  },
  {
   "cell_type": "code",
   "execution_count": null,
   "id": "b5e6f186",
   "metadata": {},
   "outputs": [],
   "source": []
  },
  {
   "cell_type": "code",
   "execution_count": null,
   "id": "6c413ce7",
   "metadata": {},
   "outputs": [],
   "source": []
  },
  {
   "cell_type": "code",
   "execution_count": null,
   "id": "1d30424d",
   "metadata": {},
   "outputs": [],
   "source": []
  },
  {
   "cell_type": "code",
   "execution_count": null,
   "id": "8ae07d76",
   "metadata": {},
   "outputs": [],
   "source": []
  },
  {
   "cell_type": "code",
   "execution_count": null,
   "id": "c3f6ada3",
   "metadata": {},
   "outputs": [],
   "source": []
  },
  {
   "cell_type": "code",
   "execution_count": null,
   "id": "d8aac962",
   "metadata": {},
   "outputs": [],
   "source": []
  }
 ],
 "metadata": {
  "kernelspec": {
   "display_name": "Python 3 (ipykernel)",
   "language": "python",
   "name": "python3"
  },
  "language_info": {
   "codemirror_mode": {
    "name": "ipython",
    "version": 3
   },
   "file_extension": ".py",
   "mimetype": "text/x-python",
   "name": "python",
   "nbconvert_exporter": "python",
   "pygments_lexer": "ipython3",
   "version": "3.10.9"
  },
  "toc": {
   "base_numbering": 1,
   "nav_menu": {},
   "number_sections": true,
   "sideBar": true,
   "skip_h1_title": false,
   "title_cell": "Table of Contents",
   "title_sidebar": "Contents",
   "toc_cell": false,
   "toc_position": {
    "height": "calc(100% - 180px)",
    "left": "10px",
    "top": "150px",
    "width": "165px"
   },
   "toc_section_display": true,
   "toc_window_display": true
  }
 },
 "nbformat": 4,
 "nbformat_minor": 5
}
