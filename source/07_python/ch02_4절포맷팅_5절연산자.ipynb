{
 "cells": [
  {
   "cell_type": "code",
   "execution_count": 2,
   "id": "a5638fa9",
   "metadata": {},
   "outputs": [
    {
     "data": {
      "text/html": [
       "\n",
       "<style>\n",
       "div.container{width:99% !important;}\n",
       "div.cell.code_cell.rendered{width:85%;}\n",
       "div.CodeMirror {font-family:Consolas; font-size:20pt;}\n",
       "div.output {font-size:20pt; font-weight:bold;}\n",
       "div.input {font-family:Consolas; font-size:20pt;}\n",
       "div.prompt {min-width:70px;}\n",
       "div#toc-wrapper{padding-top:150px;}\n",
       "span.toc-item-num{display:none;}\n",
       "div.text_cell_render ul li{font-size:16pt;padding:5px;}\n",
       "</style>\n"
      ],
      "text/plain": [
       "<IPython.core.display.HTML object>"
      ]
     },
     "metadata": {},
     "output_type": "display_data"
    }
   ],
   "source": [
    "from IPython.display import display, HTML\n",
    "display(HTML(\"\"\"\n",
    "<style>\n",
    "div.container{width:99% !important;}\n",
    "div.cell.code_cell.rendered{width:85%;}\n",
    "div.CodeMirror {font-family:Consolas; font-size:20pt;}\n",
    "div.output {font-size:20pt; font-weight:bold;}\n",
    "div.input {font-family:Consolas; font-size:20pt;}\n",
    "div.prompt {min-width:70px;}\n",
    "div#toc-wrapper{padding-top:150px;}\n",
    "span.toc-item-num{display:none;}\n",
    "div.text_cell_render ul li{font-size:16pt;padding:5px;}\n",
    "</style>\n",
    "\"\"\"))"
   ]
  },
  {
   "cell_type": "markdown",
   "id": "9470122e",
   "metadata": {},
   "source": [
    "<b><font size=\"6\" color=\"red\">ch02. 자료형과 연산자</font></b>"
   ]
  },
  {
   "cell_type": "markdown",
   "id": "ad43d5ce",
   "metadata": {},
   "source": [
    "# 4절. 포맷팅\n",
    "    - 포맷팅이란, 출력할 문자, 숫자, 날짜 데이터에 형식을 지정하는 것\n",
    "    - 변수와 텍스트를 결합해서 보기 좋은 형식의 새로운 텍스트를 만들 수도 있음"
   ]
  },
  {
   "cell_type": "markdown",
   "id": "ef5c475a",
   "metadata": {},
   "source": [
    "## 4.1 문자열에 형식 지정"
   ]
  },
  {
   "cell_type": "code",
   "execution_count": 6,
   "id": "edf9f09c",
   "metadata": {},
   "outputs": [
    {
     "name": "stdout",
     "output_type": "stream",
     "text": [
      "홍길동님의 나이는 30살입니다\n"
     ]
    }
   ],
   "source": [
    "name = \"홍길동\"\n",
    "age = 30\n",
    "print(name, '님의 나이는 ', age, '살입니다', sep='')"
   ]
  },
  {
   "cell_type": "code",
   "execution_count": 9,
   "id": "750b6e28",
   "metadata": {},
   "outputs": [
    {
     "name": "stdout",
     "output_type": "stream",
     "text": [
      "홍길동님의 나이는 30살입니다\n",
      "홍길동님의 나이는 30살입니다\n"
     ]
    }
   ],
   "source": [
    "# %s문자, %d10진수정수, %f실수\n",
    "print(\"%s님의 나이는 %d살입니다\"%(name, age) )\n",
    "print(f\"{name}님의 나이는 {age}살입니다\")"
   ]
  },
  {
   "cell_type": "code",
   "execution_count": 11,
   "id": "830c36fa",
   "metadata": {},
   "outputs": [
    {
     "name": "stdout",
     "output_type": "stream",
     "text": [
      "홍길동님의 나이는 30살입니다\n",
      "홍길동님의 나이는 30살입니다\n",
      "30살 홍길동님 반갑습니다. 홍길동님 편히 가세요\n"
     ]
    }
   ],
   "source": [
    "print(\"{}님의 나이는 {}살입니다\".format(name, age))\n",
    "print(\"{0}님의 나이는 {1}살입니다\".format(name, age))\n",
    "print(\"{1}살 {0}님 반갑습니다. {0}님 어서오세요\".format(name, age))"
   ]
  },
  {
   "cell_type": "markdown",
   "id": "41fc6c2e",
   "metadata": {},
   "source": [
    "## 4.2 format() 문법"
   ]
  },
  {
   "cell_type": "code",
   "execution_count": null,
   "id": "9286e661",
   "metadata": {},
   "outputs": [],
   "source": [
    "# \"{[인덱스]:[공백대체문자][정렬방법][자릿수][타입]}\".format(변수명)\n",
    "\n",
    "    # 인덱스 : format 함수안의 매개변수의 순서\n",
    "    # 정렬방법 : <(왼쪽정렬) >(오른쪽정렬) ^(가운데정렬)\n",
    "    # 정수자릿수 : 출력할 자릿수. 변수내용보다 작은자릿수가 지정되면 자릿수 무시\n",
    "    # 실수자릿수 : 전체출력될자리수.변수중에출력할자리수\n",
    "    # 타입 : d(10진수정수), o(8진수), b(2진수), x(16진수), f(실수), s(문자)"
   ]
  },
  {
   "cell_type": "code",
   "execution_count": 14,
   "id": "268bc0ac",
   "metadata": {},
   "outputs": [
    {
     "name": "stdout",
     "output_type": "stream",
     "text": [
      "이름은?홍길동\n",
      "나이는?20\n",
      "20살 홍길동님 안녕하세요\n",
      "*20**살 홍길동_______님 안녕하세요\n"
     ]
    }
   ],
   "source": [
    "name = input('이름은?')\n",
    "age = int(input('나이는?'))\n",
    "print('{}살 {}님 안녕하세요'.format(age, name))\n",
    "# 공백대체문자를 쓸 경우 정렬방식을 기입해야 함\n",
    "print('{0:*^5d}살 {1:_<10}님 안녕하세요'.format(age, name))"
   ]
  },
  {
   "cell_type": "code",
   "execution_count": 19,
   "id": "ee4d0c89",
   "metadata": {},
   "outputs": [
    {
     "name": "stdout",
     "output_type": "stream",
     "text": [
      "[12345], [     12345], [12345]\n",
      "[Hello], [Hello     ], [Hello]\n"
     ]
    }
   ],
   "source": [
    "# 숫자의 경우 오른쪽 정렬(기본값)\n",
    "# 문자의 경우 왼쪽 정렬(기본값)\n",
    "# 변수보다 작은 자리수를 지정하면 자릿수가 무시되고 다 출력(정수 자릿수)\n",
    "a = 12345\n",
    "s = 'Hello'\n",
    "print(\"[{}], [{:10}], [{:3}]\".format(a, a, a))\n",
    "print(\"[{0}], [{0:10}], [{0:3}]\".format(s))"
   ]
  },
  {
   "cell_type": "code",
   "execution_count": 21,
   "id": "eb4b6b36",
   "metadata": {},
   "outputs": [
    {
     "name": "stdout",
     "output_type": "stream",
     "text": [
      "[10  ], [ 20 ], [ 3  ]\n"
     ]
    }
   ],
   "source": [
    "# 정렬방법  : < ^ >\n",
    "a, b, c = 10, 20, 3\n",
    "print(\"[{:<4}], [{:^4}], [{:^4}]\".format(a, b, c))"
   ]
  },
  {
   "cell_type": "code",
   "execution_count": 37,
   "id": "14d264d5",
   "metadata": {},
   "outputs": [
    {
     "name": "stdout",
     "output_type": "stream",
     "text": [
      "[$$$$$$$$10], [     10.00], [     123.6], [________He]\n"
     ]
    }
   ],
   "source": [
    "# 실수자릿수\n",
    "a = 10\n",
    "f = 123.56\n",
    "s = 'Hello'\n",
    "print('[{0:$>10}], [{0:10.2f}], [{1:10.1f}], [{2:_>10.2}]'.format(a, f, s))\n",
    "                        # 2번 매개변수를 10자리 확보하여 변수의 2자리만 출력"
   ]
  },
  {
   "cell_type": "code",
   "execution_count": 39,
   "id": "498d5700",
   "metadata": {},
   "outputs": [
    {
     "name": "stdout",
     "output_type": "stream",
     "text": [
      "[$$$$$$$$10]\n"
     ]
    }
   ],
   "source": [
    "# 공백대체문자를 쓸 경우 반드시 정렬방식을 표현\n",
    "print(\"[{:$>10}]\".format(a))\n",
    "# print(\"[{:$10}]\".format(a)) 에러남"
   ]
  },
  {
   "cell_type": "code",
   "execution_count": 48,
   "id": "dce49908",
   "metadata": {},
   "outputs": [
    {
     "name": "stdout",
     "output_type": "stream",
     "text": [
      "[      -123], [      +123], [       123]\n",
      "[-      123], [       123], [       123]\n",
      "[-      123], [+      123], [       123]\n",
      "[-000000123], [+000000123], [0000000123]\n",
      "[-★★★★★★123], [+☆☆☆☆☆☆123], [※※※123※※※※]\n"
     ]
    }
   ],
   "source": [
    "# 자리수앞에 +를 붙이면 양수의 경우도 부호를 붙여줌\n",
    "# 자리수앞에 =를 붙이면 부호가 자릿수 맨앞에 표시됨(음수의 경우)\n",
    "# 자리수앞에 =+를 붙이면 부호가 자릿수 맨앞에 표시됨(양수, 음수 모두)\n",
    "# 자리수앞에 0을 채우면 빈자리에 0을 채움\n",
    "# 공백대체문자를 쓸 경우 자리수 앞의 0이 무시\n",
    "a, b = 123, -123\n",
    "print(\"[{:+10}], [{:+10}], [{:10}]\".format(b, a, a))\n",
    "print(\"[{:=10}], [{:=10}], [{:10}]\".format(b, a, a))\n",
    "print(\"[{:=+10}], [{:=+10}], [{:10}]\".format(b, a, a))\n",
    "print(\"[{:=+010}], [{:=+010}], [{:010}]\".format(b, a, a))\n",
    "print(\"[{:★=+010}], [{:☆=+010}], [{:※^10}]\".format(b, a, a))"
   ]
  },
  {
   "cell_type": "code",
   "execution_count": null,
   "id": "06b5a722",
   "metadata": {},
   "outputs": [],
   "source": [
    "# 전체자리수.표현될자리수"
   ]
  },
  {
   "cell_type": "code",
   "execution_count": null,
   "id": "9d8ccc54",
   "metadata": {},
   "outputs": [],
   "source": [
    "# 전체자리수.표현될자리수f"
   ]
  },
  {
   "cell_type": "code",
   "execution_count": null,
   "id": "9ef89b0e",
   "metadata": {},
   "outputs": [],
   "source": [
    "# 10진수, 8진수, 16진수, 2진수 출력"
   ]
  },
  {
   "cell_type": "code",
   "execution_count": null,
   "id": "429ac112",
   "metadata": {},
   "outputs": [],
   "source": []
  },
  {
   "cell_type": "code",
   "execution_count": null,
   "id": "9dd38fc6",
   "metadata": {},
   "outputs": [],
   "source": []
  },
  {
   "cell_type": "code",
   "execution_count": null,
   "id": "3a3be194",
   "metadata": {},
   "outputs": [],
   "source": []
  }
 ],
 "metadata": {
  "kernelspec": {
   "display_name": "Python 3 (ipykernel)",
   "language": "python",
   "name": "python3"
  },
  "language_info": {
   "codemirror_mode": {
    "name": "ipython",
    "version": 3
   },
   "file_extension": ".py",
   "mimetype": "text/x-python",
   "name": "python",
   "nbconvert_exporter": "python",
   "pygments_lexer": "ipython3",
   "version": "3.10.9"
  },
  "toc": {
   "base_numbering": 1,
   "nav_menu": {},
   "number_sections": true,
   "sideBar": true,
   "skip_h1_title": false,
   "title_cell": "Table of Contents",
   "title_sidebar": "Contents",
   "toc_cell": false,
   "toc_position": {
    "height": "calc(100% - 180px)",
    "left": "10px",
    "top": "150px",
    "width": "165px"
   },
   "toc_section_display": true,
   "toc_window_display": true
  }
 },
 "nbformat": 4,
 "nbformat_minor": 5
}
