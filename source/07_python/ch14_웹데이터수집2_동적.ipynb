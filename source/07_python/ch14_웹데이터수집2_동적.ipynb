{
 "cells": [
  {
   "cell_type": "code",
   "execution_count": 1,
   "id": "2eadd61d",
   "metadata": {},
   "outputs": [
    {
     "data": {
      "text/html": [
       "\n",
       "<style>\n",
       "div.container{width:99% !important;}\n",
       "div.cell.code_cell.rendered{width:99%;}\n",
       "div.CodeMirror {font-family:Consolas; font-size:18pt;}\n",
       "div.output {font-size:19pt; font-weight:bold;}\n",
       "div.input {font-family:Consolas; font-size:19pt;}\n",
       "div.prompt {min-width:70px;}\n",
       "div#toc-wrapper{padding-top:120px;}\n",
       "span.toc-item-num{display:none;}\n",
       "div.text_cell_render ul li{font-size:16pt;padding:5px;}\n",
       "div.CodeMirror-lines > div {padding-left:10px;}\n",
       "table.dataframe{font-size:18px;}\n",
       "</style>\n"
      ],
      "text/plain": [
       "<IPython.core.display.HTML object>"
      ]
     },
     "metadata": {},
     "output_type": "display_data"
    }
   ],
   "source": [
    "from IPython.display import display, HTML\n",
    "display(HTML(\"\"\"\n",
    "<style>\n",
    "div.container{width:99% !important;}\n",
    "div.cell.code_cell.rendered{width:99%;}\n",
    "div.CodeMirror {font-family:Consolas; font-size:18pt;}\n",
    "div.output {font-size:19pt; font-weight:bold;}\n",
    "div.input {font-family:Consolas; font-size:19pt;}\n",
    "div.prompt {min-width:70px;}\n",
    "div#toc-wrapper{padding-top:120px;}\n",
    "span.toc-item-num{display:none;}\n",
    "div.text_cell_render ul li{font-size:16pt;padding:5px;}\n",
    "div.CodeMirror-lines > div {padding-left:10px;}\n",
    "table.dataframe{font-size:18px;}\n",
    "</style>\n",
    "\"\"\"))"
   ]
  },
  {
   "cell_type": "markdown",
   "id": "2ee9b5c3",
   "metadata": {},
   "source": [
    "<b><font color=\"red\" size=\"6\">ch14. 웹데이터 수집</font></b>\n",
    "# 1절. Selenium을 이용한 동적 웹크롤링 문법\n",
    "- https://selenium-python.readthedocs.io/index.html\n",
    "\n",
    "`pip install selenium`"
   ]
  },
  {
   "cell_type": "code",
   "execution_count": 28,
   "id": "600a7f37",
   "metadata": {},
   "outputs": [],
   "source": [
    "from selenium import webdriver\n",
    "from selenium.webdriver.common.by import By\n",
    "import time"
   ]
  },
  {
   "cell_type": "code",
   "execution_count": 29,
   "id": "4c6d7832",
   "metadata": {},
   "outputs": [],
   "source": [
    "dv = webdriver.Chrome()\n",
    "dv.get('http://python.org')\n",
    "elem = dv.find_element(By.NAME, 'q')\n",
    "elem.clear()\n",
    "elem.send_keys('pycon')"
   ]
  },
  {
   "cell_type": "code",
   "execution_count": 30,
   "id": "bc286daf",
   "metadata": {},
   "outputs": [],
   "source": [
    "from selenium.webdriver.common.keys import Keys\n",
    "elem.send_keys(Keys.RETURN) # enter키 효과"
   ]
  },
  {
   "cell_type": "code",
   "execution_count": 11,
   "id": "68989b0b",
   "metadata": {},
   "outputs": [],
   "source": [
    "btn_elem = dv.find_element(By.CSS_SELECTOR, 'button#submit')\n",
    "btn_elem.click()"
   ]
  },
  {
   "cell_type": "code",
   "execution_count": 12,
   "id": "b2d78715",
   "metadata": {},
   "outputs": [
    {
     "name": "stdout",
     "output_type": "stream",
     "text": [
      "PSF PyCon Trademark Usage Policy - https://www.python.org/psf/trademarks/pycon\n",
      "PyCon Italia 2016 (PyCon Sette) - https://www.python.org/events/python-events/378/\n",
      "PyCon Australia 2013 - https://www.python.org/events/python-events/57/\n",
      "PyCon AU 2019 - https://www.python.org/events/python-events/776/\n",
      "PyCon Australia 2014 - https://www.python.org/events/python-events/10/\n",
      "PyCon Ireland 2012 - https://www.python.org/events/python-events/76/\n",
      "PyCon Ireland 2016 - https://www.python.org/events/python-events/429/\n",
      "PyCon Ireland 2022 - https://www.python.org/events/python-events/1320/\n",
      "PyCon Australia 2014 - https://www.python.org/events/python-events/1447/\n",
      "PyCon Ireland 2024 - https://www.python.org/events/python-events/1862/\n",
      "PyCon APAC 2025 - https://www.python.org/events/python-events/1879/\n",
      "PyCon AU 2018 - https://www.python.org/events/python-events/696/\n",
      "PyCon APAC 2022 - https://www.python.org/events/python-events/1216/\n",
      "PyCon PH 2024 - https://www.python.org/events/python-events/1661/\n",
      "PyCon Ireland 2023 - https://www.python.org/events/python-events/1568/\n",
      "PyCon PL 2014 - https://www.python.org/events/python-events/191/\n",
      "PyCon MY 2015 - https://www.python.org/events/python-events/313/\n",
      "PyCon Ireland 2015 - https://www.python.org/events/python-events/333/\n",
      "PyCon AU 2015 - https://www.python.org/events/python-events/273/\n",
      "PyCon Australia 2016 - https://www.python.org/events/python-events/357/\n"
     ]
    }
   ],
   "source": [
    "result_list = dv.find_elements(By.CSS_SELECTOR, 'li > h3 > a')\n",
    "for result in result_list:\n",
    "    print(\"%s - %s\" % (result.text, result.get_attribute('href')))"
   ]
  },
  {
   "cell_type": "code",
   "execution_count": 15,
   "id": "fff03086",
   "metadata": {},
   "outputs": [
    {
     "name": "stdout",
     "output_type": "stream",
     "text": [
      "PSF PyCon Trademark Usage Policy - /psf/trademarks/pycon\n",
      "PyCon Italia 2016 (PyCon Sette) - /events/python-events/378/\n",
      "PyCon Australia 2013 - /events/python-events/57/\n",
      "PyCon AU 2019 - /events/python-events/776/\n",
      "PyCon Australia 2014 - /events/python-events/10/\n",
      "PyCon Ireland 2012 - /events/python-events/76/\n",
      "PyCon Ireland 2016 - /events/python-events/429/\n",
      "PyCon Ireland 2022 - /events/python-events/1320/\n",
      "PyCon Australia 2014 - /events/python-events/1447/\n",
      "PyCon Ireland 2024 - /events/python-events/1862/\n",
      "PyCon APAC 2025 - /events/python-events/1879/\n",
      "PyCon AU 2018 - /events/python-events/696/\n",
      "PyCon APAC 2022 - /events/python-events/1216/\n",
      "PyCon PH 2024 - /events/python-events/1661/\n",
      "PyCon Ireland 2023 - /events/python-events/1568/\n",
      "PyCon PL 2014 - /events/python-events/191/\n",
      "PyCon MY 2015 - /events/python-events/313/\n",
      "PyCon Ireland 2015 - /events/python-events/333/\n",
      "PyCon AU 2015 - /events/python-events/273/\n",
      "PyCon Australia 2016 - /events/python-events/357/\n"
     ]
    }
   ],
   "source": [
    "from bs4 import BeautifulSoup\n",
    "soup = BeautifulSoup(dv.page_source, \"html.parser\")\n",
    "result_list = soup.select('li > h3 > a')\n",
    "for result in result_list:\n",
    "    print(\"%s - %s\" % (result.text, result.attrs['href']))"
   ]
  },
  {
   "cell_type": "code",
   "execution_count": 32,
   "id": "3d6b3a64",
   "metadata": {},
   "outputs": [
    {
     "name": "stdout",
     "output_type": "stream",
     "text": [
      "현재 주소 :  https://www.python.org/search/?q=pycon&submit=\n",
      "ParseResult(scheme='https', netloc='www.python.org', path='/search/', params='', query='q=pycon&submit=', fragment='') https www.python.org\n",
      "도메인 :  https://www.python.org\n"
     ]
    }
   ],
   "source": [
    "from urllib.parse import urlparse\n",
    "current_url = dv.current_url # 셀레니윰을 통해 접근한 현재 url\n",
    "print('현재 주소 : ',current_url)\n",
    "parse_url = urlparse(current_url)\n",
    "print(parse_url, parse_url.scheme, parse_url.netloc)\n",
    "domain = f'{parse_url.scheme}://{parse_url.netloc}'\n",
    "domain = '{}://{}'.format(parse_url.scheme, parse_url.netloc)\n",
    "print('도메인 : ', domain)"
   ]
  },
  {
   "cell_type": "code",
   "execution_count": 33,
   "id": "4f5a0df9",
   "metadata": {},
   "outputs": [
    {
     "name": "stdout",
     "output_type": "stream",
     "text": [
      "PSF PyCon Trademark Usage Policy - https://www.python.org/psf/trademarks/pycon\n",
      "PyCon Italia 2016 (PyCon Sette) - https://www.python.org/events/python-events/378/\n",
      "PyCon Australia 2013 - https://www.python.org/events/python-events/57/\n",
      "PyCon AU 2019 - https://www.python.org/events/python-events/776/\n",
      "PyCon Australia 2014 - https://www.python.org/events/python-events/10/\n",
      "PyCon Ireland 2012 - https://www.python.org/events/python-events/76/\n",
      "PyCon Ireland 2016 - https://www.python.org/events/python-events/429/\n",
      "PyCon Ireland 2022 - https://www.python.org/events/python-events/1320/\n",
      "PyCon Australia 2014 - https://www.python.org/events/python-events/1447/\n",
      "PyCon Ireland 2024 - https://www.python.org/events/python-events/1862/\n",
      "PyCon APAC 2025 - https://www.python.org/events/python-events/1879/\n",
      "PyCon AU 2018 - https://www.python.org/events/python-events/696/\n",
      "PyCon APAC 2022 - https://www.python.org/events/python-events/1216/\n",
      "PyCon PH 2024 - https://www.python.org/events/python-events/1661/\n",
      "PyCon Ireland 2023 - https://www.python.org/events/python-events/1568/\n",
      "PyCon PL 2014 - https://www.python.org/events/python-events/191/\n",
      "PyCon MY 2015 - https://www.python.org/events/python-events/313/\n",
      "PyCon Ireland 2015 - https://www.python.org/events/python-events/333/\n",
      "PyCon AU 2015 - https://www.python.org/events/python-events/273/\n",
      "PyCon Australia 2016 - https://www.python.org/events/python-events/357/\n"
     ]
    }
   ],
   "source": [
    "from bs4 import BeautifulSoup\n",
    "soup = BeautifulSoup(dv.page_source, \"html.parser\")\n",
    "result_list = soup.select('li > h3 > a')\n",
    "for result in result_list:\n",
    "    print(\"%s - %s\" % (result.text, \n",
    "                       domain + result.attrs['href']))"
   ]
  },
  {
   "cell_type": "code",
   "execution_count": 34,
   "id": "bbf76256",
   "metadata": {},
   "outputs": [],
   "source": [
    "dv.close() # 브라우저 종료"
   ]
  },
  {
   "cell_type": "markdown",
   "id": "45f3c561",
   "metadata": {},
   "source": [
    "# 2절. 동적웹크롤링 예제\n",
    "## 2-1. 다음 뉴스 검색"
   ]
  },
  {
   "cell_type": "code",
   "execution_count": 44,
   "id": "0a659be8",
   "metadata": {},
   "outputs": [
    {
     "name": "stdout",
     "output_type": "stream",
     "text": [
      "검색할 단어는 ?비트코인\n"
     ]
    }
   ],
   "source": [
    "from selenium import webdriver\n",
    "from selenium.webdriver.common.by import By\n",
    "from selenium.webdriver.common.keys import Keys\n",
    "import time\n",
    "driver = webdriver.Chrome()\n",
    "time.sleep(2)\n",
    "url = 'https://www.daum.net/'\n",
    "driver.get(url)\n",
    "# driver.implicitly_wait(0.5) # 0.5초 요소를 찾을 때까지 대기시간\n",
    "time.sleep(0.5) # 0.5초 대기\n",
    "driver.find_element(By.CLASS_NAME, 'tf_keyword').click()\n",
    "query = input('검색할 단어는 ?')\n",
    "driver.find_element(By.CSS_SELECTOR, 'input[type=\"text\"]').send_keys(query)\n",
    "driver.find_element(By.CLASS_NAME, 'btn_ksearch').click()"
   ]
  },
  {
   "cell_type": "code",
   "execution_count": 47,
   "id": "90d154c5",
   "metadata": {},
   "outputs": [],
   "source": [
    "#  뉴스 탭 클릭\n",
    "driver.find_elements(By.CSS_SELECTOR, 'ul.list_tab > li')[1].click()"
   ]
  },
  {
   "cell_type": "code",
   "execution_count": 50,
   "id": "c376509c",
   "metadata": {},
   "outputs": [
    {
     "name": "stdout",
     "output_type": "stream",
     "text": [
      "[김대호 박사의 오늘의 키워드] 양자컴퓨팅·비트코인 빨간불·화웨이 금지법·트럼프 당근 http://v.daum.net/v/20241211071025706\n",
      "비트코인 조정 구간 돌입…MS 주주들, 비트코인 매입 반대[코인브리핑] http://v.daum.net/v/20241211110145033\n",
      "비트코인 10만달러 시대…\"비트코인 가격 추가 상승할 것\"-메리츠 http://v.daum.net/v/20241211084759570\n",
      "비트코인, 조정 이어져…1억3800만원대 http://v.daum.net/v/20241211093550195\n",
      "숨고르기 들어간 비트코인…부탄 정부, 비트코인 매도 시작[코인브리핑] http://v.daum.net/v/20241210110343588\n",
      "월가 차트분석 달인 \"비트코인 85K 추락 가능성\" http://v.daum.net/v/20241211104920355\n",
      "'트럼프 효과 다했나' 가상화폐 급락…비트코인 9만5천달러 하회 http://v.daum.net/v/20241211035608411\n",
      "‘초미의 관심’ MS의 비트코인 투자 여부…주주들은 “반대” 이유는 http://v.daum.net/v/20241211091115348\n",
      "[김대호 박사의 오늘 기업·사람] 구글·아이온큐·엔비디아·비트코인·이더리움·리플 http://v.daum.net/v/20241211080115555\n",
      "\"800만 코인러 환호\" 가상자산 과세 2년 유예… 비트코인 2억원 가나 http://v.daum.net/v/20241211054405308\n"
     ]
    }
   ],
   "source": [
    "news_list = []\n",
    "bodies = driver.find_elements(By.CSS_SELECTOR, 'div.item-title > strong.tit-g.clamp-g')\n",
    "bodies = driver.find_elements(By.CSS_SELECTOR, 'div[class=\"item-title\"] > strong.tit-g.clamp-g')\n",
    "# print(len(bodies))\n",
    "\n",
    "for body in bodies:\n",
    "    a = body.find_element(By.TAG_NAME, 'a')\n",
    "    title = a.text\n",
    "    link = a.get_attribute('href')\n",
    "    news_list.append([title, link])\n",
    "    print(title, link)"
   ]
  },
  {
   "cell_type": "code",
   "execution_count": 51,
   "id": "4a3c2b12",
   "metadata": {},
   "outputs": [],
   "source": [
    "page_nav = driver.find_element(By.CSS_SELECTOR, 'div.inner_paging')\n",
    "next_page = page_nav.find_element(By.LINK_TEXT, \"2\")\n",
    "next_page.click()"
   ]
  },
  {
   "cell_type": "markdown",
   "id": "01c73093",
   "metadata": {},
   "source": [
    "## 2-2 페이징 처리\n",
    "- 다음 뉴스 페이징 처리"
   ]
  },
  {
   "cell_type": "code",
   "execution_count": 57,
   "id": "904452f1",
   "metadata": {},
   "outputs": [
    {
     "data": {
      "text/html": [
       "<div>\n",
       "<style scoped>\n",
       "    .dataframe tbody tr th:only-of-type {\n",
       "        vertical-align: middle;\n",
       "    }\n",
       "\n",
       "    .dataframe tbody tr th {\n",
       "        vertical-align: top;\n",
       "    }\n",
       "\n",
       "    .dataframe thead th {\n",
       "        text-align: right;\n",
       "    }\n",
       "</style>\n",
       "<table border=\"1\" class=\"dataframe\">\n",
       "  <thead>\n",
       "    <tr style=\"text-align: right;\">\n",
       "      <th></th>\n",
       "      <th>title</th>\n",
       "      <th>link</th>\n",
       "    </tr>\n",
       "  </thead>\n",
       "  <tbody>\n",
       "    <tr>\n",
       "      <th>0</th>\n",
       "      <td>비트코인 10만달러 시대…\"비트코인 가격 추가 상승할 것\"-메리츠</td>\n",
       "      <td>http://v.daum.net/v/20241211084759570</td>\n",
       "    </tr>\n",
       "    <tr>\n",
       "      <th>1</th>\n",
       "      <td>‘초미의 관심’ MS의 비트코인 투자 여부…주주들은 “반대” 이유는</td>\n",
       "      <td>http://v.daum.net/v/20241211091115348</td>\n",
       "    </tr>\n",
       "    <tr>\n",
       "      <th>2</th>\n",
       "      <td>비트코인 조정 구간 돌입…MS 주주들, 비트코인 매입 반대[코인브리핑]</td>\n",
       "      <td>http://v.daum.net/v/20241211110145033</td>\n",
       "    </tr>\n",
       "    <tr>\n",
       "      <th>3</th>\n",
       "      <td>비트코인, 조정 이어져…1억3800만원대</td>\n",
       "      <td>http://v.daum.net/v/20241211093550195</td>\n",
       "    </tr>\n",
       "    <tr>\n",
       "      <th>4</th>\n",
       "      <td>숨고르기 들어간 비트코인…부탄 정부, 비트코인 매도 시작[코인브리핑]</td>\n",
       "      <td>http://v.daum.net/v/20241210110343588</td>\n",
       "    </tr>\n",
       "    <tr>\n",
       "      <th>5</th>\n",
       "      <td>'트럼프 효과 다했나' 가상화폐 급락…비트코인 9만5천달러 하회</td>\n",
       "      <td>http://v.daum.net/v/20241211035608411</td>\n",
       "    </tr>\n",
       "    <tr>\n",
       "      <th>6</th>\n",
       "      <td>\"800만 코인러 환호\" 가상자산 과세 2년 유예… 비트코인 2억원 가나</td>\n",
       "      <td>http://v.daum.net/v/20241211054405308</td>\n",
       "    </tr>\n",
       "    <tr>\n",
       "      <th>7</th>\n",
       "      <td>마이크로소프트 주주들 비트코인 투자에 반대</td>\n",
       "      <td>http://v.daum.net/v/20241211064322197</td>\n",
       "    </tr>\n",
       "    <tr>\n",
       "      <th>8</th>\n",
       "      <td>20만달러 가능?…비트코인 10만 달러 재돌파</td>\n",
       "      <td>http://v.daum.net/v/20241209130203846</td>\n",
       "    </tr>\n",
       "    <tr>\n",
       "      <th>9</th>\n",
       "      <td>비트코인 전략 제안 거부한 마이크로소프트…주주 선택은 '안정'</td>\n",
       "      <td>http://v.daum.net/v/20241211085553764</td>\n",
       "    </tr>\n",
       "    <tr>\n",
       "      <th>10</th>\n",
       "      <td>\"미국만 코인 보유하나\"…중러도 '비트코인 비축' 카드 만지작</td>\n",
       "      <td>http://v.daum.net/v/20241210194912818</td>\n",
       "    </tr>\n",
       "    <tr>\n",
       "      <th>11</th>\n",
       "      <td>[블룸버그 칼럼]美 비트코인 비축, 나쁜 결과 가져올 것</td>\n",
       "      <td>http://v.daum.net/v/20241210095949338</td>\n",
       "    </tr>\n",
       "    <tr>\n",
       "      <th>12</th>\n",
       "      <td>[김대호 박사의 오늘의 키워드] 양자컴퓨팅·비트코인 빨간불·화웨이 금지법·트럼프 당근</td>\n",
       "      <td>http://v.daum.net/v/20241211071025706</td>\n",
       "    </tr>\n",
       "    <tr>\n",
       "      <th>13</th>\n",
       "      <td>[코인뉴스] \"죄다 파란불이네\"...비트코인 조정 국면에 알트코인도 일제히 하락</td>\n",
       "      <td>http://v.daum.net/v/20241211105754759</td>\n",
       "    </tr>\n",
       "    <tr>\n",
       "      <th>14</th>\n",
       "      <td>비트코인, 1억3600만원선까지 ‘폭락’…고점대비 10%↓</td>\n",
       "      <td>http://v.daum.net/v/20241211110153040</td>\n",
       "    </tr>\n",
       "    <tr>\n",
       "      <th>15</th>\n",
       "      <td>‘트럼프 효과’...美 비트코인 ETF에 100억불 유입</td>\n",
       "      <td>http://v.daum.net/v/20241209161507983</td>\n",
       "    </tr>\n",
       "    <tr>\n",
       "      <th>16</th>\n",
       "      <td>마이크로스트래티지, 비트코인 2만1,550개 추가 매입…\"21억 달러 규모\"</td>\n",
       "      <td>http://v.daum.net/v/20241210104806727</td>\n",
       "    </tr>\n",
       "    <tr>\n",
       "      <th>17</th>\n",
       "      <td>알트코인, 한때 20% 이상 폭락… 비트코인도 다시 10만 달러 밑으로</td>\n",
       "      <td>http://v.daum.net/v/20241210084214520</td>\n",
       "    </tr>\n",
       "    <tr>\n",
       "      <th>18</th>\n",
       "      <td>유재석 “비트코인! 비트코인!” 2011년 아닌 올초라도 말 들었어야 했나…‘$10...</td>\n",
       "      <td>http://v.daum.net/v/20241207060020551</td>\n",
       "    </tr>\n",
       "    <tr>\n",
       "      <th>19</th>\n",
       "      <td>'꿈의 10만달러' 찍은 비트코인…\"내년 20만달러 간다\"</td>\n",
       "      <td>http://v.daum.net/v/20241209173805996</td>\n",
       "    </tr>\n",
       "    <tr>\n",
       "      <th>20</th>\n",
       "      <td>비트코인 갑론을박...\"20만달러 vs 단기조정\"</td>\n",
       "      <td>http://v.daum.net/v/20241206103251287</td>\n",
       "    </tr>\n",
       "    <tr>\n",
       "      <th>21</th>\n",
       "      <td>비트코인, 채굴자 매도세에도 1억4100만원대 회복</td>\n",
       "      <td>http://v.daum.net/v/20241209094130683</td>\n",
       "    </tr>\n",
       "    <tr>\n",
       "      <th>22</th>\n",
       "      <td>'비트코인 빚투' 마이크로스트래티지, 또 샀다…고점 우려에도 3조원어치 추가 매입</td>\n",
       "      <td>http://v.daum.net/v/20241210044203347</td>\n",
       "    </tr>\n",
       "    <tr>\n",
       "      <th>23</th>\n",
       "      <td>비트코인 급락세는 끊어…리플은 5% 급등 반전(상보)</td>\n",
       "      <td>http://v.daum.net/v/20241211071817865</td>\n",
       "    </tr>\n",
       "    <tr>\n",
       "      <th>24</th>\n",
       "      <td>10만달러 돌파→재돌파…'트럼프 효과'에 고래도 춤췄다[비트코인 지금]</td>\n",
       "      <td>http://v.daum.net/v/20241209004217086</td>\n",
       "    </tr>\n",
       "    <tr>\n",
       "      <th>25</th>\n",
       "      <td>'10만 달러' 넘어선 비트코인...\"고점 아직\"vs\"과열\"</td>\n",
       "      <td>http://v.daum.net/v/20241206135550190</td>\n",
       "    </tr>\n",
       "    <tr>\n",
       "      <th>26</th>\n",
       "      <td>세상에 나온 지 '15년'...비트코인, 10만 달러 시대 열었다</td>\n",
       "      <td>http://v.daum.net/v/20241208072202024</td>\n",
       "    </tr>\n",
       "    <tr>\n",
       "      <th>27</th>\n",
       "      <td>'10만 달러' 넘은 비트코인, 어디까지 갈까 [글로벌 뉴스픽]</td>\n",
       "      <td>http://v.daum.net/v/20241206062101852</td>\n",
       "    </tr>\n",
       "    <tr>\n",
       "      <th>28</th>\n",
       "      <td>비트코인, 다시 10만 달러 붕괴…향후 전망은?</td>\n",
       "      <td>http://v.daum.net/v/20241206090709632</td>\n",
       "    </tr>\n",
       "    <tr>\n",
       "      <th>29</th>\n",
       "      <td>[글로벌 비즈 브리핑] '비트코인 빚투' 마이크로스트래티지, 또 샀다 外</td>\n",
       "      <td>http://v.daum.net/v/20241210044809410</td>\n",
       "    </tr>\n",
       "  </tbody>\n",
       "</table>\n",
       "</div>"
      ],
      "text/plain": [
       "                                                title  \\\n",
       "0                비트코인 10만달러 시대…\"비트코인 가격 추가 상승할 것\"-메리츠   \n",
       "1               ‘초미의 관심’ MS의 비트코인 투자 여부…주주들은 “반대” 이유는   \n",
       "2             비트코인 조정 구간 돌입…MS 주주들, 비트코인 매입 반대[코인브리핑]   \n",
       "3                              비트코인, 조정 이어져…1억3800만원대   \n",
       "4              숨고르기 들어간 비트코인…부탄 정부, 비트코인 매도 시작[코인브리핑]   \n",
       "5                 '트럼프 효과 다했나' 가상화폐 급락…비트코인 9만5천달러 하회   \n",
       "6            \"800만 코인러 환호\" 가상자산 과세 2년 유예… 비트코인 2억원 가나   \n",
       "7                             마이크로소프트 주주들 비트코인 투자에 반대   \n",
       "8                           20만달러 가능?…비트코인 10만 달러 재돌파   \n",
       "9                  비트코인 전략 제안 거부한 마이크로소프트…주주 선택은 '안정'   \n",
       "10                 \"미국만 코인 보유하나\"…중러도 '비트코인 비축' 카드 만지작   \n",
       "11                    [블룸버그 칼럼]美 비트코인 비축, 나쁜 결과 가져올 것   \n",
       "12    [김대호 박사의 오늘의 키워드] 양자컴퓨팅·비트코인 빨간불·화웨이 금지법·트럼프 당근   \n",
       "13       [코인뉴스] \"죄다 파란불이네\"...비트코인 조정 국면에 알트코인도 일제히 하락   \n",
       "14                   비트코인, 1억3600만원선까지 ‘폭락’…고점대비 10%↓   \n",
       "15                    ‘트럼프 효과’...美 비트코인 ETF에 100억불 유입   \n",
       "16         마이크로스트래티지, 비트코인 2만1,550개 추가 매입…\"21억 달러 규모\"   \n",
       "17            알트코인, 한때 20% 이상 폭락… 비트코인도 다시 10만 달러 밑으로   \n",
       "18  유재석 “비트코인! 비트코인!” 2011년 아닌 올초라도 말 들었어야 했나…‘$10...   \n",
       "19                   '꿈의 10만달러' 찍은 비트코인…\"내년 20만달러 간다\"   \n",
       "20                        비트코인 갑론을박...\"20만달러 vs 단기조정\"   \n",
       "21                       비트코인, 채굴자 매도세에도 1억4100만원대 회복   \n",
       "22      '비트코인 빚투' 마이크로스트래티지, 또 샀다…고점 우려에도 3조원어치 추가 매입   \n",
       "23                      비트코인 급락세는 끊어…리플은 5% 급등 반전(상보)   \n",
       "24            10만달러 돌파→재돌파…'트럼프 효과'에 고래도 춤췄다[비트코인 지금]   \n",
       "25                  '10만 달러' 넘어선 비트코인...\"고점 아직\"vs\"과열\"   \n",
       "26               세상에 나온 지 '15년'...비트코인, 10만 달러 시대 열었다   \n",
       "27                '10만 달러' 넘은 비트코인, 어디까지 갈까 [글로벌 뉴스픽]   \n",
       "28                         비트코인, 다시 10만 달러 붕괴…향후 전망은?   \n",
       "29           [글로벌 비즈 브리핑] '비트코인 빚투' 마이크로스트래티지, 또 샀다 外   \n",
       "\n",
       "                                     link  \n",
       "0   http://v.daum.net/v/20241211084759570  \n",
       "1   http://v.daum.net/v/20241211091115348  \n",
       "2   http://v.daum.net/v/20241211110145033  \n",
       "3   http://v.daum.net/v/20241211093550195  \n",
       "4   http://v.daum.net/v/20241210110343588  \n",
       "5   http://v.daum.net/v/20241211035608411  \n",
       "6   http://v.daum.net/v/20241211054405308  \n",
       "7   http://v.daum.net/v/20241211064322197  \n",
       "8   http://v.daum.net/v/20241209130203846  \n",
       "9   http://v.daum.net/v/20241211085553764  \n",
       "10  http://v.daum.net/v/20241210194912818  \n",
       "11  http://v.daum.net/v/20241210095949338  \n",
       "12  http://v.daum.net/v/20241211071025706  \n",
       "13  http://v.daum.net/v/20241211105754759  \n",
       "14  http://v.daum.net/v/20241211110153040  \n",
       "15  http://v.daum.net/v/20241209161507983  \n",
       "16  http://v.daum.net/v/20241210104806727  \n",
       "17  http://v.daum.net/v/20241210084214520  \n",
       "18  http://v.daum.net/v/20241207060020551  \n",
       "19  http://v.daum.net/v/20241209173805996  \n",
       "20  http://v.daum.net/v/20241206103251287  \n",
       "21  http://v.daum.net/v/20241209094130683  \n",
       "22  http://v.daum.net/v/20241210044203347  \n",
       "23  http://v.daum.net/v/20241211071817865  \n",
       "24  http://v.daum.net/v/20241209004217086  \n",
       "25  http://v.daum.net/v/20241206135550190  \n",
       "26  http://v.daum.net/v/20241208072202024  \n",
       "27  http://v.daum.net/v/20241206062101852  \n",
       "28  http://v.daum.net/v/20241206090709632  \n",
       "29  http://v.daum.net/v/20241210044809410  "
      ]
     },
     "execution_count": 57,
     "metadata": {},
     "output_type": "execute_result"
    }
   ],
   "source": [
    "from selenium import webdriver\n",
    "from selenium.webdriver.common.by import By\n",
    "from selenium.webdriver.common.keys import Keys\n",
    "import time\n",
    "\n",
    "# 원하는 페이지 만큼 검색하여 검색 결과를 데이터프레임으로 출력\n",
    "driver = webdriver.Chrome()\n",
    "time.sleep(1)\n",
    "\n",
    "url = 'https://www.daum.net/'\n",
    "driver.get(url)\n",
    "# driver.implicitly_wait(0.5) # 0.5초 요소를 찾을 때까지 대기시간\n",
    "time.sleep(0.5) # 0.5초 대기\n",
    "\n",
    "driver.find_element(By.CLASS_NAME, 'tf_keyword').click()\n",
    "# query = input('검색할 단어는 ?')\n",
    "driver.find_element(By.CSS_SELECTOR, 'input[type=\"text\"]').send_keys('비트코인')\n",
    "driver.find_element(By.CLASS_NAME, 'btn_ksearch').click()\n",
    "time.sleep(2)\n",
    "\n",
    "#  뉴스 탭 클릭\n",
    "driver.find_elements(By.CSS_SELECTOR, 'ul.list_tab > li')[1].click()\n",
    "\n",
    "news_list = []\n",
    "\n",
    "page_numbers = 3#int(input('몇 페이지 크롤링 할까요?'))\n",
    "for page_number in range(1, page_numbers+1):    \n",
    "    bodies = driver.find_elements(By.CSS_SELECTOR, 'div.item-title > strong.tit-g.clamp-g')\n",
    "    bodies = driver.find_elements(By.CSS_SELECTOR, 'div[class=\"item-title\"] > strong.tit-g.clamp-g')\n",
    "    # print(len(bodies))\n",
    "\n",
    "    for body in bodies:\n",
    "        a = body.find_element(By.TAG_NAME, 'a')\n",
    "        title = a.text\n",
    "        link = a.get_attribute('href')\n",
    "        news_list.append([title, link])\n",
    "        # print(title, link)\n",
    "\n",
    "    page_nav = driver.find_element(By.CSS_SELECTOR, 'div.inner_paging')\n",
    "    next_page = page_nav.find_element(By.LINK_TEXT, str(page_number+1))\n",
    "    next_page.click()\n",
    "    time.sleep(1.5)\n",
    "driver.close()\n",
    "import pandas as pd\n",
    "display(pd.DataFrame(news_list, columns=['title','link']).head())"
   ]
  },
  {
   "cell_type": "markdown",
   "id": "25e45d46",
   "metadata": {},
   "source": [
    "## 2-3 맞춤법 검사기\n",
    "- 네이버 맞춤법 검사기 이용"
   ]
  },
  {
   "cell_type": "code",
   "execution_count": 8,
   "id": "98c22959",
   "metadata": {},
   "outputs": [],
   "source": [
    "from selenium import webdriver\n",
    "from selenium.webdriver.common.keys import Keys\n",
    "from selenium.webdriver.common.by import By\n",
    "from bs4 import BeautifulSoup\n",
    "import time"
   ]
  },
  {
   "cell_type": "code",
   "execution_count": 12,
   "id": "84634c92",
   "metadata": {},
   "outputs": [
    {
     "data": {
      "text/plain": [
       "'안녕하세요. 안녕하세요. 반갑습니다'"
      ]
     },
     "execution_count": 12,
     "metadata": {},
     "output_type": "execute_result"
    }
   ],
   "source": [
    "driver = webdriver.Chrome()\n",
    "time.sleep(0.5)\n",
    "driver.get('https://www.naver.com/')\n",
    "elem = driver.find_element(By.CSS_SELECTOR, 'input#query')\n",
    "elem.send_keys('맞춤법 검사기')\n",
    "elem.send_keys(Keys.RETURN) # enter 키\n",
    "\n",
    "textarea = driver.find_element(By.CLASS_NAME, 'txt_gray')\n",
    "textarea.send_keys('안녕하세요. 안뇽하세요. 방갑습니다')\n",
    "\n",
    "button = driver.find_element(By.CLASS_NAME, 'btn_check')\n",
    "button.click()\n",
    "time.sleep(2)\n",
    "\n",
    "soup = BeautifulSoup(driver.page_source, \"html.parser\")\n",
    "result = soup.select_one('p._result_text.stand_txt').text\n",
    "result"
   ]
  },
  {
   "cell_type": "markdown",
   "id": "79e10c86",
   "metadata": {},
   "source": [
    "### 맞춤법 검사 전 text파일을 맞춤법 검사 완료된 text 파일로 output"
   ]
  },
  {
   "cell_type": "code",
   "execution_count": null,
   "id": "baca4747",
   "metadata": {},
   "outputs": [],
   "source": [
    "# f = open('data/ch14_맞춤법검사전.txt', 'r', encoding='utf-8')\n",
    "# text = f.read()\n",
    "# f.close()"
   ]
  },
  {
   "cell_type": "code",
   "execution_count": 20,
   "id": "01196974",
   "metadata": {},
   "outputs": [
    {
     "name": "stdout",
     "output_type": "stream",
     "text": [
      "203\n",
      "187\n",
      "176\n",
      "212\n"
     ]
    }
   ],
   "source": [
    "with open('data/ch14_맞춤법검사전.txt', 'r', encoding='utf-8') as f:\n",
    "    text = f.read()\n",
    "ready_list = []\n",
    "while(len(text) > 300):\n",
    "    temp = text[:300]\n",
    "    last_dot_index = temp.rfind('\\n')\n",
    "    ready_list.append(text[:last_dot_index+1])\n",
    "    print(last_dot_index)\n",
    "    text = text[last_dot_index : ]\n",
    "ready_list.append(text)"
   ]
  },
  {
   "cell_type": "code",
   "execution_count": 21,
   "id": "77364dc1",
   "metadata": {},
   "outputs": [
    {
     "data": {
      "text/plain": [
       "[204, 188, 177, 213, 136]"
      ]
     },
     "execution_count": 21,
     "metadata": {},
     "output_type": "execute_result"
    }
   ],
   "source": [
    "# ready_list 확인\n",
    "[len(ready) for ready in ready_list]"
   ]
  },
  {
   "cell_type": "code",
   "execution_count": 29,
   "id": "20f306a2",
   "metadata": {},
   "outputs": [
    {
     "name": "stdout",
     "output_type": "stream",
     "text": [
      "안녕하세요. 반갑습\n"
     ]
    }
   ],
   "source": [
    "driver = webdriver.Chrome()\n",
    "time.sleep(1)\n",
    "driver.get('https://www.naver.com')\n",
    "elem = driver.find_element(By.NAME, 'query')\n",
    "elem.send_keys('맞춤법 검사기')\n",
    "elem.send_keys(Keys.RETURN)\n",
    "time.sleep(1) # 1초 대기\n",
    "# driver.implicitly_wait(1)\n",
    "\n",
    "results = '' # 맞춤법 검사 완료된 text\n",
    "textarea = driver.find_element(By.CLASS_NAME, 'txt_gray')\n",
    "\n",
    "for ready in ready_list:\n",
    "    textarea.send_keys(Keys.CONTROL, 'a') # ctrl+a\n",
    "    textarea.send_keys(ready)\n",
    "    button = driver.find_element(By.CLASS_NAME, 'btn_check')\n",
    "    button.click()\n",
    "    time.sleep(1)\n",
    "    soup = BeautifulSoup(driver.page_source, \"html.parser\")\n",
    "    result = soup.select_one('p._result_text').text\n",
    "    results += result + \"\\n\"    \n",
    "driver.close()\n",
    "print(results[:10])"
   ]
  },
  {
   "cell_type": "code",
   "execution_count": 30,
   "id": "d1176bee",
   "metadata": {},
   "outputs": [],
   "source": [
    "# 맞춤법 결과 results를 data/ch14_맞춤법검사후.txt로 출력\n",
    "with open('data/ch14_맞춤법검사후.txt', 'w', encoding='utf-8') as f:\n",
    "    f.write(results)"
   ]
  },
  {
   "cell_type": "markdown",
   "id": "0805b661",
   "metadata": {},
   "source": [
    "## 연습문제\n",
    "- https://traslate.kakao.com 을 통해서 data/ch14_맞춤법검사후.txt 화일의 내용을 동적웹크롤링을 통해 영문으로 번역된 텍스트를 파일로 출력합니다 (data/ch14_영문번역.txt)"
   ]
  },
  {
   "cell_type": "code",
   "execution_count": 72,
   "id": "97ed1025",
   "metadata": {},
   "outputs": [
    {
     "name": "stdout",
     "output_type": "stream",
     "text": [
      " Hello. Nice to meet you. I'm planning to take a deep learning class from tomorrow \n"
     ]
    }
   ],
   "source": [
    "# 테스트 해 봄\n",
    "driver = webdriver.Chrome()\n",
    "driver.get('https://translate.kakao.com/')\n",
    "textarea = driver.find_element(By.CSS_SELECTOR, 'textarea.translate_area.area_item.translate_many')\n",
    "button = driver.find_element(By.CSS_SELECTOR, 'div.btn_item')\n",
    "textarea.send_keys(\"안녕하세요. 반갑습니다. 내일부터는 딥러닝 수업 예정입니다\")\n",
    "button.click()\n",
    "time.sleep(1)\n",
    "soup = BeautifulSoup(driver.page_source, \"html.parser\")\n",
    "result = soup.select_one('div.result_area.area_item.txt_eng.translate_many').text\n",
    "print(result)\n",
    "driver.close()"
   ]
  },
  {
   "cell_type": "code",
   "execution_count": 77,
   "id": "291389d5",
   "metadata": {},
   "outputs": [
    {
     "name": "stdout",
     "output_type": "stream",
     "text": [
      "text전체 글자수 : 1833\n",
      "[930, 904]\n",
      "완료됨\n"
     ]
    }
   ],
   "source": [
    "from selenium import webdriver\n",
    "from selenium.webdriver.common.keys import Keys\n",
    "from selenium.webdriver.common.by import By\n",
    "from bs4 import BeautifulSoup\n",
    "import time\n",
    "\n",
    "with open('data/ch14_맞춤법검사후.txt', 'r', encoding='utf-8') as f:\n",
    "    text = f.read()\n",
    "print('text전체 글자수 :', len(text))\n",
    "ready_list = []\n",
    "while(len(text) > 1000):\n",
    "    temp = text[:1000]\n",
    "    last_dot_index = temp.rfind('\\n')\n",
    "    ready_list.append(text[:last_dot_index+1])\n",
    "    text = text[last_dot_index : ]\n",
    "ready_list.append(text)\n",
    "# ready_list 확인\n",
    "print([len(ready) for ready in ready_list])\n",
    "driver = webdriver.Chrome()\n",
    "driver.get('https://translate.kakao.com/')\n",
    "textarea = driver.find_element(By.CSS_SELECTOR, 'textarea.translate_area.area_item.translate_many')\n",
    "button = driver.find_element(By.CSS_SELECTOR, 'div.btn_item')\n",
    "results = \"\"\n",
    "for ready in ready_list:\n",
    "    textarea.clear()\n",
    "    textarea.send_keys(ready)\n",
    "    button.click()\n",
    "    time.sleep(1) # 검사하기 클릭후 잠시 후에 결과 크롤링\n",
    "    soup = BeautifulSoup(driver.page_source, \"html.parser\")\n",
    "#     result = soup.select_one('p#result').text\n",
    "    result = soup.select_one('div.result_area.area_item.txt_eng.translate_many').text\n",
    "    results += result + \"\\n\"\n",
    "with open('data/ch14_영문번역.txt','w',encoding='utf-8') as f:\n",
    "    f.write(results)\n",
    "driver.close()\n",
    "print('완료됨')"
   ]
  },
  {
   "cell_type": "markdown",
   "id": "d1903339",
   "metadata": {},
   "source": [
    "# 3절. 자동화\n",
    "## 3-1. 컴퓨터가 파이썬을 실행\n",
    "    - unix : corn\n",
    "    - win : 작업스케쥴러\n",
    "        * window + R : taskschd.msc\n",
    "## 3-2 파이썬 프로그램에서 스케쥴링\n",
    "    - pip install schedule"
   ]
  },
  {
   "cell_type": "code",
   "execution_count": 78,
   "id": "b5c2a950",
   "metadata": {},
   "outputs": [
    {
     "name": "stdout",
     "output_type": "stream",
     "text": [
      "작업이 실행되었습니다.\n",
      "작업이 실행되었습니다.\n",
      "작업이 실행되었습니다.\n",
      "작업이 실행되었습니다.\n",
      "작업이 실행되었습니다.\n",
      "작업이 실행되었습니다.\n",
      "작업이 실행되었습니다.\n",
      "작업이 실행되었습니다.\n",
      "작업이 실행되었습니다.\n",
      "작업이 실행되었습니다.\n",
      "작업이 실행되었습니다.\n",
      "작업이 실행되었습니다.\n",
      "작업이 실행되었습니다.\n",
      "작업이 실행되었습니다.\n",
      "작업이 실행되었습니다.\n",
      "작업이 실행되었습니다.\n",
      "작업이 실행되었습니다.\n",
      "작업이 실행되었습니다.\n",
      "작업이 실행되었습니다.\n"
     ]
    },
    {
     "ename": "KeyboardInterrupt",
     "evalue": "",
     "output_type": "error",
     "traceback": [
      "\u001b[1;31m-----------------------------------------------\u001b[0m",
      "\u001b[1;31mKeyboardInterrupt\u001b[0mTraceback (most recent call last)",
      "Cell \u001b[1;32mIn[78], line 16\u001b[0m\n\u001b[0;32m     14\u001b[0m \u001b[38;5;28;01mwhile\u001b[39;00m \u001b[38;5;28;01mTrue\u001b[39;00m:\n\u001b[0;32m     15\u001b[0m     schedule\u001b[38;5;241m.\u001b[39mrun_pending()\n\u001b[1;32m---> 16\u001b[0m     \u001b[43mtime\u001b[49m\u001b[38;5;241;43m.\u001b[39;49m\u001b[43msleep\u001b[49m\u001b[43m(\u001b[49m\u001b[38;5;241;43m1\u001b[39;49m\u001b[43m)\u001b[49m\n",
      "\u001b[1;31mKeyboardInterrupt\u001b[0m: "
     ]
    }
   ],
   "source": [
    "import schedule\n",
    "import time\n",
    "\n",
    "def job():\n",
    "    print('작업이 실행되었습니다.')\n",
    "    \n",
    "# job함수는 10초마다 수행할 거야\n",
    "schedule.every(10).seconds.do(job)\n",
    "# schedule.every().day.at(\"17:55\").do(job)\n",
    "# schedule.every(1).hours.do(job)\n",
    "# schedule.every(10).minutes.do(job)\n",
    "\n",
    "# 무한 루프를 돌며 스케쥴된 작업이 있는지 확인하고 자동화\n",
    "while True:\n",
    "    schedule.run_pending()\n",
    "    time.sleep(1)"
   ]
  },
  {
   "cell_type": "code",
   "execution_count": null,
   "id": "b2901166",
   "metadata": {},
   "outputs": [],
   "source": [
    "def test():\n",
    "    "
   ]
  },
  {
   "cell_type": "code",
   "execution_count": null,
   "id": "0b9b35af",
   "metadata": {},
   "outputs": [],
   "source": []
  },
  {
   "cell_type": "code",
   "execution_count": null,
   "id": "88b77f1a",
   "metadata": {},
   "outputs": [],
   "source": []
  },
  {
   "cell_type": "code",
   "execution_count": null,
   "id": "f2a6075f",
   "metadata": {},
   "outputs": [],
   "source": []
  },
  {
   "cell_type": "code",
   "execution_count": null,
   "id": "9e0052ad",
   "metadata": {},
   "outputs": [],
   "source": []
  },
  {
   "cell_type": "code",
   "execution_count": null,
   "id": "4a9e2693",
   "metadata": {},
   "outputs": [],
   "source": []
  },
  {
   "cell_type": "code",
   "execution_count": null,
   "id": "789bb1e9",
   "metadata": {},
   "outputs": [],
   "source": []
  },
  {
   "cell_type": "code",
   "execution_count": null,
   "id": "9fa64e69",
   "metadata": {},
   "outputs": [],
   "source": []
  }
 ],
 "metadata": {
  "kernelspec": {
   "display_name": "Python 3 (ipykernel)",
   "language": "python",
   "name": "python3"
  },
  "language_info": {
   "codemirror_mode": {
    "name": "ipython",
    "version": 3
   },
   "file_extension": ".py",
   "mimetype": "text/x-python",
   "name": "python",
   "nbconvert_exporter": "python",
   "pygments_lexer": "ipython3",
   "version": "3.10.9"
  },
  "toc": {
   "base_numbering": 1,
   "nav_menu": {},
   "number_sections": false,
   "sideBar": true,
   "skip_h1_title": false,
   "title_cell": "Table of Contents",
   "title_sidebar": "Contents",
   "toc_cell": false,
   "toc_position": {
    "height": "calc(100% - 180px)",
    "left": "10px",
    "top": "150px",
    "width": "165px"
   },
   "toc_section_display": true,
   "toc_window_display": true
  }
 },
 "nbformat": 4,
 "nbformat_minor": 5
}
