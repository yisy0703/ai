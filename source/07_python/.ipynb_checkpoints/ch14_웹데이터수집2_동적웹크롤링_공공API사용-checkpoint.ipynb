{
 "cells": [
  {
   "cell_type": "code",
   "execution_count": 1,
   "id": "8c9ab1ce-abc4-4fcc-abb2-34419c7023bf",
   "metadata": {},
   "outputs": [
    {
     "data": {
      "text/html": [
       "\n",
       "<style>\n",
       "div.container{width:99% !important;}\n",
       "div.cell.code_cell.rendered{width:99%;}\n",
       "div.CodeMirror {font-family:Consolas; font-size:13pt;}\n",
       "div.output {font-size:13pt; font-weight:bold;}\n",
       "div.input {font-family:Consolas; font-size:13pt;}\n",
       "div.prompt {min-width:70px;}\n",
       "div#toc-wrapper{padding-top:120px;}\n",
       "span.toc-item-num{display:none;}\n",
       "div.text_cell_render ul li{font-size:16pt;padding:5px;}\n",
       "div.CodeMirror-lines > div {padding-left:10px;}\n",
       "table.dataframe{font-size:13px;}\n",
       "</style>\n"
      ],
      "text/plain": [
       "<IPython.core.display.HTML object>"
      ]
     },
     "metadata": {},
     "output_type": "display_data"
    }
   ],
   "source": [
    "from IPython.display import display, HTML\n",
    "display(HTML(\"\"\"\n",
    "<style>\n",
    "div.container{width:99% !important;}\n",
    "div.cell.code_cell.rendered{width:99%;}\n",
    "div.CodeMirror {font-family:Consolas; font-size:13pt;}\n",
    "div.output {font-size:13pt; font-weight:bold;}\n",
    "div.input {font-family:Consolas; font-size:13pt;}\n",
    "div.prompt {min-width:70px;}\n",
    "div#toc-wrapper{padding-top:120px;}\n",
    "span.toc-item-num{display:none;}\n",
    "div.text_cell_render ul li{font-size:16pt;padding:5px;}\n",
    "div.CodeMirror-lines > div {padding-left:10px;}\n",
    "table.dataframe{font-size:13px;}\n",
    "</style>\n",
    "\"\"\"))"
   ]
  },
  {
   "cell_type": "code",
   "execution_count": null,
   "id": "c2e1489e-14b9-48de-9dbf-a04459fd1cf8",
   "metadata": {},
   "outputs": [],
   "source": [
    "# 핫키가 안 먹힐 때\n",
    "%config Completer.use_jedi = False\n",
    "# 또는 !pip uninstall jedi"
   ]
  },
  {
   "cell_type": "code",
   "execution_count": 1,
   "id": "3e5eca7e",
   "metadata": {},
   "outputs": [
    {
     "data": {
      "text/html": [
       "\n",
       "<style>\n",
       "div.container{width:100% !important;}\n",
       "div.CodeMirror {font-family:Consolas; font-size:22pt;}\n",
       "div.output {font-size:24pt; font-weight:bold;}\n",
       "div.input {font-family:Consolas; font-size:22pt;}\n",
       "div.prompt {min-width:70px;}\n",
       "</style>\n"
      ],
      "text/plain": [
       "<IPython.core.display.HTML object>"
      ]
     },
     "metadata": {},
     "output_type": "display_data"
    }
   ],
   "source": [
    "# 주피터 노트북 새버전\n",
    "from IPython.display import display, HTML\n",
    "display(HTML(\"\"\"\n",
    "<style>\n",
    "div.jp-WindowedPanel-outer.lm-Widget{padding:5px;}\n",
    "div.lm-Widget{font-size:15pt;}\n",
    "div.cm-content {font-family:Consolas; font-size:19pt;}\n",
    "div.jp-OutputArea-output pre {font-size:19pt; font-weight:bold;}\n",
    "input.jp-Stdin-input {font-family:Consolas; font-size:19pt;}\n",
    "td,th{font-size:15pt;}\n",
    "</style>\n",
    "\"\"\"))"
   ]
  },
  {
   "cell_type": "markdown",
   "id": "dab21b20",
   "metadata": {},
   "source": [
    "<b><font size=\"6\" color=\"red\">ch14. 웹데이터 수집</font></b>"
   ]
  },
  {
   "cell_type": "markdown",
   "id": "08190761",
   "metadata": {},
   "source": [
    "# 3절. Selenium을 이용한 웹 데이터 수집\n",
    " * https://selenium-python.readthedocs.io\n",
    " `pip install selenium`"
   ]
  },
  {
   "cell_type": "markdown",
   "id": "592e3106-835f-46d1-8bb1-6cb8263c698e",
   "metadata": {},
   "source": [
    "## 3-1 동적웹크롤링 기본"
   ]
  },
  {
   "cell_type": "code",
   "execution_count": 25,
   "id": "98f03187",
   "metadata": {},
   "outputs": [],
   "source": [
    "from selenium import webdriver\n",
    "from selenium.webdriver.common.by import By\n",
    "import time\n",
    "# dv = webdriver.Chrome('c:/bigdata/Download/21_chromedriver_win32/chromedriver.exe')\n",
    "dv = webdriver.Chrome()"
   ]
  },
  {
   "cell_type": "code",
   "execution_count": 4,
   "id": "d10b4da8",
   "metadata": {},
   "outputs": [],
   "source": [
    "dv.get('http://python.org')"
   ]
  },
  {
   "cell_type": "code",
   "execution_count": 17,
   "id": "a92f4947",
   "metadata": {},
   "outputs": [],
   "source": [
    "elem = dv.find_element(By.NAME, 'q')\n",
    "elem.clear()\n",
    "elem.send_keys('pycon')"
   ]
  },
  {
   "cell_type": "code",
   "execution_count": 18,
   "id": "e0731019",
   "metadata": {},
   "outputs": [],
   "source": [
    "from selenium.webdriver.common.keys import Keys\n",
    "elem.send_keys(Keys.RETURN) # Enter키 효과"
   ]
  },
  {
   "cell_type": "code",
   "execution_count": 19,
   "id": "5d3d17e0",
   "metadata": {},
   "outputs": [],
   "source": [
    "buttonelem = dv.find_element(By.CSS_SELECTOR, 'button#submit')\n",
    "buttonelem.click()"
   ]
  },
  {
   "cell_type": "code",
   "execution_count": 20,
   "id": "0fb0098f",
   "metadata": {},
   "outputs": [
    {
     "name": "stdout",
     "output_type": "stream",
     "text": [
      "PSF PyCon Trademark Usage Policy - https://www.python.org/psf/trademarks/pycon\n",
      "PyCon Italia 2016 (PyCon Sette) - https://www.python.org/events/python-events/378/\n",
      "PyCon Australia 2013 - https://www.python.org/events/python-events/57/\n",
      "PyCon AU 2019 - https://www.python.org/events/python-events/776/\n",
      "PyCon Australia 2014 - https://www.python.org/events/python-events/10/\n",
      "PyCon Ireland 2012 - https://www.python.org/events/python-events/76/\n",
      "PyCon Ireland 2016 - https://www.python.org/events/python-events/429/\n",
      "PyCon Ireland 2022 - https://www.python.org/events/python-events/1320/\n",
      "PyCon Australia 2014 - https://www.python.org/events/python-events/1447/\n",
      "PyCon Ireland 2024 - https://www.python.org/events/python-events/1862/\n",
      "PyCon AU 2018 - https://www.python.org/events/python-events/696/\n",
      "PyCon APAC 2022 - https://www.python.org/events/python-events/1216/\n",
      "PyCon PH 2024 - https://www.python.org/events/python-events/1661/\n",
      "PyCon Ireland 2023 - https://www.python.org/events/python-events/1568/\n",
      "PyCon PL 2014 - https://www.python.org/events/python-events/191/\n",
      "PyCon MY 2015 - https://www.python.org/events/python-events/313/\n",
      "PyCon Ireland 2015 - https://www.python.org/events/python-events/333/\n",
      "PyCon AU 2015 - https://www.python.org/events/python-events/273/\n",
      "PyCon Australia 2016 - https://www.python.org/events/python-events/357/\n",
      "PyCon Ireland 2014 - https://www.python.org/events/python-events/149/\n"
     ]
    }
   ],
   "source": [
    "result_list = dv.find_elements(By.CSS_SELECTOR, 'li > h3 > a')\n",
    "for result in result_list:\n",
    "    print(\"%s - %s\" % (result.text, result.get_attribute('href')))"
   ]
  },
  {
   "cell_type": "code",
   "execution_count": 21,
   "id": "8fe443b5",
   "metadata": {},
   "outputs": [
    {
     "name": "stdout",
     "output_type": "stream",
     "text": [
      "20\n",
      "PSF PyCon Trademark Usage Policy - /psf/trademarks/pycon\n",
      "PyCon Italia 2016 (PyCon Sette) - /events/python-events/378/\n",
      "PyCon Australia 2013 - /events/python-events/57/\n",
      "PyCon AU 2019 - /events/python-events/776/\n",
      "PyCon Australia 2014 - /events/python-events/10/\n",
      "PyCon Ireland 2012 - /events/python-events/76/\n",
      "PyCon Ireland 2016 - /events/python-events/429/\n",
      "PyCon Ireland 2022 - /events/python-events/1320/\n",
      "PyCon Australia 2014 - /events/python-events/1447/\n",
      "PyCon Ireland 2024 - /events/python-events/1862/\n",
      "PyCon AU 2018 - /events/python-events/696/\n",
      "PyCon APAC 2022 - /events/python-events/1216/\n",
      "PyCon PH 2024 - /events/python-events/1661/\n",
      "PyCon Ireland 2023 - /events/python-events/1568/\n",
      "PyCon PL 2014 - /events/python-events/191/\n",
      "PyCon MY 2015 - /events/python-events/313/\n",
      "PyCon Ireland 2015 - /events/python-events/333/\n",
      "PyCon AU 2015 - /events/python-events/273/\n",
      "PyCon Australia 2016 - /events/python-events/357/\n",
      "PyCon Ireland 2014 - /events/python-events/149/\n"
     ]
    }
   ],
   "source": [
    "from bs4 import BeautifulSoup\n",
    "soup = BeautifulSoup(dv.page_source, \"html.parser\")\n",
    "result_list = soup.select(\"li > h3 > a\")\n",
    "print(len(result_list))\n",
    "for result in result_list:\n",
    "    print(\"%s - %s\" % (result.text, result.attrs['href']))"
   ]
  },
  {
   "cell_type": "code",
   "execution_count": 22,
   "id": "cf040b5c",
   "metadata": {},
   "outputs": [
    {
     "name": "stdout",
     "output_type": "stream",
     "text": [
      "현재 브라우저의 주소 : https://www.python.org/search/?q=pycon&submit=\n",
      "ParseResult(scheme='https', netloc='www.python.org', path='/search/', params='', query='q=pycon&submit=', fragment='')\n",
      "https://www.python.org\n"
     ]
    }
   ],
   "source": [
    "from urllib.parse import urlparse\n",
    "current_url = dv.current_url\n",
    "print('현재 브라우저의 주소 :', current_url)\n",
    "parse_url = urlparse(current_url)\n",
    "print(parse_url)\n",
    "domain = f'{parse_url.scheme}://{parse_url.netloc}'\n",
    "print(domain)"
   ]
  },
  {
   "cell_type": "code",
   "execution_count": 23,
   "id": "b4222417",
   "metadata": {},
   "outputs": [
    {
     "name": "stdout",
     "output_type": "stream",
     "text": [
      "PSF PyCon Trademark Usage Policy - https://www.python.org/psf/trademarks/pycon\n",
      "PyCon Italia 2016 (PyCon Sette) - https://www.python.org/events/python-events/378/\n",
      "PyCon Australia 2013 - https://www.python.org/events/python-events/57/\n",
      "PyCon AU 2019 - https://www.python.org/events/python-events/776/\n",
      "PyCon Australia 2014 - https://www.python.org/events/python-events/10/\n",
      "PyCon Ireland 2012 - https://www.python.org/events/python-events/76/\n",
      "PyCon Ireland 2016 - https://www.python.org/events/python-events/429/\n",
      "PyCon Ireland 2022 - https://www.python.org/events/python-events/1320/\n",
      "PyCon Australia 2014 - https://www.python.org/events/python-events/1447/\n",
      "PyCon Ireland 2024 - https://www.python.org/events/python-events/1862/\n",
      "PyCon AU 2018 - https://www.python.org/events/python-events/696/\n",
      "PyCon APAC 2022 - https://www.python.org/events/python-events/1216/\n",
      "PyCon PH 2024 - https://www.python.org/events/python-events/1661/\n",
      "PyCon Ireland 2023 - https://www.python.org/events/python-events/1568/\n",
      "PyCon PL 2014 - https://www.python.org/events/python-events/191/\n",
      "PyCon MY 2015 - https://www.python.org/events/python-events/313/\n",
      "PyCon Ireland 2015 - https://www.python.org/events/python-events/333/\n",
      "PyCon AU 2015 - https://www.python.org/events/python-events/273/\n",
      "PyCon Australia 2016 - https://www.python.org/events/python-events/357/\n",
      "PyCon Ireland 2014 - https://www.python.org/events/python-events/149/\n"
     ]
    }
   ],
   "source": [
    "from bs4 import BeautifulSoup\n",
    "soup = BeautifulSoup(dv.page_source, \"html.parser\")\n",
    "result_list = soup.select('li > h3 > a')\n",
    "for result in result_list:\n",
    "    print(\"%s - %s\" % (result.text, \n",
    "                       #'http://python.org'\n",
    "                       domain+result.attrs['href']))"
   ]
  },
  {
   "cell_type": "code",
   "execution_count": 26,
   "id": "4be045db",
   "metadata": {},
   "outputs": [],
   "source": [
    "# 브라우저 종료\n",
    "dv.close()"
   ]
  },
  {
   "cell_type": "markdown",
   "id": "efe16314-a5d2-4a79-b98f-9376c448c711",
   "metadata": {},
   "source": [
    "## 3-2 동적웹크롤링 예1. 다음 뉴스 검색"
   ]
  },
  {
   "cell_type": "code",
   "execution_count": 1,
   "id": "a4025287-2914-42a2-a820-563d04c60348",
   "metadata": {},
   "outputs": [
    {
     "name": "stdout",
     "output_type": "stream",
     "text": [
      "검색할 단어는비트코인\n",
      "비트코인 10만달러 시대…\"비트코인 가격 추가 상승할 것\"-메리츠 http://v.daum.net/v/20241211084759570\n",
      "‘초미의 관심’ MS의 비트코인 투자 여부…주주들은 “반대” 이유는 http://v.daum.net/v/20241211091115348\n",
      "비트코인 조정 구간 돌입…MS 주주들, 비트코인 매입 반대[코인브리핑] http://v.daum.net/v/20241211110145033\n",
      "비트코인, 조정 이어져…1억3800만원대 http://v.daum.net/v/20241211093550195\n",
      "숨고르기 들어간 비트코인…부탄 정부, 비트코인 매도 시작[코인브리핑] http://v.daum.net/v/20241210110343588\n",
      "'트럼프 효과 다했나' 가상화폐 급락…비트코인 9만5천달러 하회 http://v.daum.net/v/20241211035608411\n",
      "\"800만 코인러 환호\" 가상자산 과세 2년 유예… 비트코인 2억원 가나 http://v.daum.net/v/20241211054405308\n",
      "마이크로소프트 주주들 비트코인 투자에 반대 http://v.daum.net/v/20241211064322197\n",
      "20만달러 가능?…비트코인 10만 달러 재돌파 http://v.daum.net/v/20241209130203846\n",
      "비트코인 전략 제안 거부한 마이크로소프트…주주 선택은 '안정' http://v.daum.net/v/20241211085553764\n"
     ]
    }
   ],
   "source": [
    "# 다음 뉴스 검색\n",
    "from selenium import webdriver\n",
    "from selenium.webdriver.common.by import By\n",
    "import time\n",
    "\n",
    "driver = webdriver.Chrome()\n",
    "# driver.get(\"https://www.selenium.dev/selenium/web/web-form.html\")\n",
    "\n",
    "url = 'https://www.daum.net'\n",
    "driver.implicitly_wait(0.5) # 요소를 찾을 때까지 대기시간 0.5초 주기\n",
    "driver.get(url)\n",
    "\n",
    "time.sleep(1)\n",
    "driver.find_element(By.CLASS_NAME, \"tf_keyword\").click()\n",
    "time.sleep(1)\n",
    "query = input('검색할 단어는')\n",
    "driver.find_element(By.CSS_SELECTOR, \"input[type='text']\").send_keys(query)\n",
    "time.sleep(1)\n",
    "\n",
    "driver.find_element(By.CSS_SELECTOR, \"button[type='submit']\").click()\n",
    "time.sleep(1)\n",
    "\n",
    "driver.find_elements(By.CSS_SELECTOR, \"ul.list_tab > li\")[1].click()\n",
    "time.sleep(1)\n",
    "news_list = []\n",
    "\n",
    "bodies = driver.find_elements(By.CSS_SELECTOR, 'div.item-title > strong.tit-g.clamp-g')\n",
    "bodies = driver.find_elements(By.CSS_SELECTOR, 'div[class=\"item-title\"] > strong.tit-g.clamp-g')\n",
    "# print(len(bodies))\n",
    "for body in bodies:\n",
    "    a = body.find_element(By.TAG_NAME, \"a\")\n",
    "    title = a.text\n",
    "    link  = a.get_attribute(\"href\")\n",
    "    print(title, link)\n",
    "    news_list.append([title, link])\n",
    "\n",
    "time.sleep(1)\n",
    "\n",
    "page_nav = driver.find_element(By.CSS_SELECTOR, \"div[class='inner_paging']\")\n",
    "next_page = page_nav.find_element(By.LINK_TEXT, \"2\")\n",
    "next_page.click()\n",
    "time.sleep(3)\n"
   ]
  },
  {
   "cell_type": "markdown",
   "id": "2588c261",
   "metadata": {},
   "source": [
    "## 3-2 페이징"
   ]
  },
  {
   "cell_type": "code",
   "execution_count": 28,
   "id": "b5d759ad",
   "metadata": {},
   "outputs": [
    {
     "name": "stdout",
     "output_type": "stream",
     "text": [
      "몇 페이지 크롤링 할까?3\n",
      "1 숨고르기 들어간 비트코인…부탄 정부, 비트코인 매도 시작[코인브리핑] http://v.daum.net/v/20241210110343588\n",
      "2 \"미국만 코인 보유하나\"…중러도 '비트코인 비축' 카드 만지작 http://v.daum.net/v/20241210194912818\n",
      "3 러시아·중국, 비트코인 전략자산 비축 나서나 http://v.daum.net/v/20241210085304785\n",
      "4 [블룸버그 칼럼]美 비트코인 비축, 나쁜 결과 가져올 것 http://v.daum.net/v/20241210095949338\n",
      "5 \"첫 조정인가\" 비트코인, 10만달러 돌파 후 3%↓ http://v.daum.net/v/20241210094257681\n",
      "6 마이크로스트래티지, 5주 연속 비트코인 매입 http://v.daum.net/v/20241210005906711\n",
      "7 비트코인 조정국면···다시 10만 달러 밑으로 http://v.daum.net/v/20241210080326695\n",
      "8 마이크로스트래티지, 비트코인 2만1,550개 추가 매입…\"21억 달러 규모\" http://v.daum.net/v/20241210104806727\n",
      "9 알트코인, 한때 20% 이상 폭락… 비트코인도 다시 10만 달러 밑으로 http://v.daum.net/v/20241210084214520\n",
      "10 20만 달러까지 상승? 비트코인 10만 달러 재돌파 http://v.daum.net/v/20241209080336301\n",
      "11 '비트코인 빚투' 마이크로스트래티지, 또 샀다…고점 우려에도 3조원어치 추가 매입 http://v.daum.net/v/20241210044203347\n",
      "12 '꿈의 10만달러' 찍은 비트코인…\"내년 20만달러 간다\" http://v.daum.net/v/20241209173805996\n",
      "13 비트코인, 채굴자 매도세에도 1억4100만원대 회복 http://v.daum.net/v/20241209094130683\n",
      "14 10만달러 돌파→재돌파…'트럼프 효과'에 고래도 춤췄다[비트코인 지금] http://v.daum.net/v/20241209004217086\n",
      "15 유재석 “비트코인! 비트코인!” 2011년 아닌 올초라도 말 들었어야 했나…‘$10만’ 안착 가능? [투자360] http://v.daum.net/v/20241207060020551\n",
      "16 [글로벌 비즈 브리핑] '비트코인 빚투' 마이크로스트래티지, 또 샀다 外 http://v.daum.net/v/20241210044809410\n",
      "17 비트코인 갑론을박...\"20만달러 vs 단기조정\" http://v.daum.net/v/20241206103251287\n",
      "18 '10만 달러' 넘어선 비트코인...\"고점 아직\"vs\"과열\" http://v.daum.net/v/20241206135550190\n",
      "19 엘살바도르 \"비트코인 목표가 3억에서 31억원으로 상향\"[코인브리핑] http://v.daum.net/v/20241209094403801\n",
      "20 세상에 나온 지 '15년'...비트코인, 10만 달러 시대 열었다 http://v.daum.net/v/20241208072202024\n",
      "21 머니 블랙홀 된 비트코인 ETF…\"트럼프 당선 후 100억달러 순유입\" http://v.daum.net/v/20241209183526579\n",
      "22 비트코인 10만달러 돌파…새 역사 썼다 http://v.daum.net/v/20241205115654658\n",
      "23 `디지털금`된 `피자코인`…비트코인 더 갈까? http://v.daum.net/v/20241205210812802\n",
      "24 업비트, 비트코인 보유량 빗썸 160배…엇갈린 비트코인 운용 전략 http://v.daum.net/v/20241202140803734\n",
      "25 비트코인, 구글 시총 따라잡는데 … 韓은 규제 장벽만 높여 http://v.daum.net/v/20241205180315891\n",
      "26 \"트럼프 다음엔 채굴?\"…비트코인 10만$에 주목받는 공약들 http://v.daum.net/v/20241206050801958\n",
      "27 10만달러선 횡보 길어지는 비트코인...업비트 주식은 한달새 88% 급등 [매일코인] http://v.daum.net/v/20241209150300961\n",
      "28 비트코인 10만불 찍은 다음날, 트럼프 ‘AI·가상화폐 차르’ 지명 http://v.daum.net/v/20241206114311743\n",
      "29 비트코인 10만 달러 ‘불장’에 업비트 점유율 21%P 뛰었다 http://v.daum.net/v/20241210050304582\n",
      "30 비트코인 '계엄빔', 역대 세 번째로 하락 컸다 http://v.daum.net/v/20241205135706402\n"
     ]
    }
   ],
   "source": [
    "# 다음 뉴스 검색\n",
    "from selenium import webdriver\n",
    "from selenium.webdriver.common.by import By\n",
    "import time\n",
    "\n",
    "driver = webdriver.Chrome()\n",
    "# driver.get(\"https://www.selenium.dev/selenium/web/web-form.html\")\n",
    "\n",
    "url = 'https://www.daum.net'\n",
    "driver.implicitly_wait(0.5) # 요소를 찾을 때까지 대기시간 0.5초 주기\n",
    "driver.get(url)\n",
    "\n",
    "time.sleep(1)\n",
    "driver.find_element(By.CLASS_NAME, \"tf_keyword\").click()\n",
    "time.sleep(1)\n",
    "driver.find_element(By.CSS_SELECTOR, \"input[type='text']\").send_keys(\"비트코인\")\n",
    "time.sleep(1)\n",
    "\n",
    "driver.find_element(By.CSS_SELECTOR, \"button[type='submit']\").click()\n",
    "time.sleep(1)\n",
    "\n",
    "driver.find_elements(By.CSS_SELECTOR, \"ul.list_tab > li\")[1].click()\n",
    "time.sleep(1)\n",
    "\n",
    "news_list = []\n",
    "\n",
    "page_numbers = int(input('몇 페이지 크롤링 할까?'))\n",
    "for page_number in range(1, page_numbers+1):    \n",
    "    bodies = driver.find_elements(By.CSS_SELECTOR, 'div.item-title > strong.tit-g.clamp-g')\n",
    "    bodies = driver.find_elements(By.CSS_SELECTOR, 'div[class=\"item-title\"] > strong.tit-g.clamp-g')\n",
    "\n",
    "    for idx, body in enumerate(bodies):\n",
    "        a = body.find_element(By.TAG_NAME, 'a')\n",
    "        title = a.text\n",
    "        link  = a.get_attribute('href')        \n",
    "        print((page_number-1)*10+idx+1, title, link)\n",
    "        news_list.append([(page_number-1)*10+idx+1, title, link])\n",
    "    time.sleep(1)\n",
    "    page_nav = driver.find_element(By.CSS_SELECTOR, 'div[class=\"inner_paging\"]')\n",
    "    pageNum_element = page_nav.find_element(By.LINK_TEXT, str(page_number+1))\n",
    "    pageNum_element.click()\n",
    "driver.close()"
   ]
  },
  {
   "cell_type": "code",
   "execution_count": 31,
   "id": "ceb15d78",
   "metadata": {},
   "outputs": [
    {
     "data": {
      "text/html": [
       "<div>\n",
       "<style scoped>\n",
       "    .dataframe tbody tr th:only-of-type {\n",
       "        vertical-align: middle;\n",
       "    }\n",
       "\n",
       "    .dataframe tbody tr th {\n",
       "        vertical-align: top;\n",
       "    }\n",
       "\n",
       "    .dataframe thead th {\n",
       "        text-align: right;\n",
       "    }\n",
       "</style>\n",
       "<table border=\"1\" class=\"dataframe\">\n",
       "  <thead>\n",
       "    <tr style=\"text-align: right;\">\n",
       "      <th></th>\n",
       "      <th>no</th>\n",
       "      <th>title</th>\n",
       "      <th>link</th>\n",
       "    </tr>\n",
       "  </thead>\n",
       "  <tbody>\n",
       "    <tr>\n",
       "      <th>0</th>\n",
       "      <td>1</td>\n",
       "      <td>숨고르기 들어간 비트코인…부탄 정부, 비트코인 매도 시작[코인브리핑]</td>\n",
       "      <td>http://v.daum.net/v/20241210110343588</td>\n",
       "    </tr>\n",
       "    <tr>\n",
       "      <th>1</th>\n",
       "      <td>2</td>\n",
       "      <td>\"미국만 코인 보유하나\"…중러도 '비트코인 비축' 카드 만지작</td>\n",
       "      <td>http://v.daum.net/v/20241210194912818</td>\n",
       "    </tr>\n",
       "    <tr>\n",
       "      <th>2</th>\n",
       "      <td>3</td>\n",
       "      <td>러시아·중국, 비트코인 전략자산 비축 나서나</td>\n",
       "      <td>http://v.daum.net/v/20241210085304785</td>\n",
       "    </tr>\n",
       "    <tr>\n",
       "      <th>3</th>\n",
       "      <td>4</td>\n",
       "      <td>[블룸버그 칼럼]美 비트코인 비축, 나쁜 결과 가져올 것</td>\n",
       "      <td>http://v.daum.net/v/20241210095949338</td>\n",
       "    </tr>\n",
       "    <tr>\n",
       "      <th>4</th>\n",
       "      <td>5</td>\n",
       "      <td>\"첫 조정인가\" 비트코인, 10만달러 돌파 후 3%↓</td>\n",
       "      <td>http://v.daum.net/v/20241210094257681</td>\n",
       "    </tr>\n",
       "  </tbody>\n",
       "</table>\n",
       "</div>"
      ],
      "text/plain": [
       "   no                                   title  \\\n",
       "0   1  숨고르기 들어간 비트코인…부탄 정부, 비트코인 매도 시작[코인브리핑]   \n",
       "1   2      \"미국만 코인 보유하나\"…중러도 '비트코인 비축' 카드 만지작   \n",
       "2   3                러시아·중국, 비트코인 전략자산 비축 나서나   \n",
       "3   4         [블룸버그 칼럼]美 비트코인 비축, 나쁜 결과 가져올 것   \n",
       "4   5           \"첫 조정인가\" 비트코인, 10만달러 돌파 후 3%↓   \n",
       "\n",
       "                                    link  \n",
       "0  http://v.daum.net/v/20241210110343588  \n",
       "1  http://v.daum.net/v/20241210194912818  \n",
       "2  http://v.daum.net/v/20241210085304785  \n",
       "3  http://v.daum.net/v/20241210095949338  \n",
       "4  http://v.daum.net/v/20241210094257681  "
      ]
     },
     "execution_count": 31,
     "metadata": {},
     "output_type": "execute_result"
    }
   ],
   "source": [
    "import pandas as pd\n",
    "pd.DataFrame(news_list, columns=['no','title','link']).head()"
   ]
  },
  {
   "cell_type": "markdown",
   "id": "2524432a-1796-4b88-bac7-ea772f2d4af6",
   "metadata": {},
   "source": [
    "## 3-3 네이버 로그인"
   ]
  },
  {
   "cell_type": "code",
   "execution_count": 14,
   "id": "fbd83a3f-2f89-4c0d-8fa8-22591d6700cd",
   "metadata": {},
   "outputs": [],
   "source": [
    "from selenium import webdriver\n",
    "from selenium.webdriver.common.by import By\n",
    "from selenium.webdriver.common.keys import Keys\n",
    "import time\n",
    "\n",
    "driver = webdriver.Chrome()\n",
    "driver.get(\"https://www.naver.com\")\n",
    "\n",
    "time.sleep(1)\n",
    "element = driver.find_element(By.CLASS_NAME, 'MyView-module__link_login___HpHMW')\n",
    "element.click()\n",
    "\n",
    "time.sleep(1)\n",
    "id_input = driver.find_element(By.ID, \"id\")\n",
    "id_input.send_keys(\"spacenyi\")\n",
    "\n",
    "pw = '비밀번호'\n",
    "pw_input = driver.find_element(By.ID, \"pw\")\n",
    "pw_input.send_keys(pw)\n",
    "time.sleep(1)\n",
    "\n",
    "login_btn = driver.find_element(By.ID, \"log.login\")\n",
    "login_btn.click()"
   ]
  },
  {
   "cell_type": "code",
   "execution_count": 26,
   "id": "315db2f3-fe39-4255-b23e-66a3e6d2caa1",
   "metadata": {},
   "outputs": [],
   "source": [
    "# 로그인이 될 수도 있게 우회하는 코드\n",
    "from selenium import webdriver\n",
    "from selenium.webdriver.common.by import By\n",
    "from selenium.webdriver.common.keys import Keys\n",
    "import time\n",
    "\n",
    "chrome_driver_path = 'chromedriver'\n",
    "driver = webdriver.Chrome()\n",
    "\n",
    "driver.get(\"https://nid.naver.com/nidlogin.login\")\n",
    "\n",
    "\n",
    "driver.execute_script(\"document.getElementById('id').value = 'spacenyi';\")\n",
    "time.sleep(1)\n",
    "driver.execute_script(\"document.getElementById('pw').value = '*BIGD2057n';\")\n",
    "time.sleep(1)\n",
    "\n",
    "driver.find_element(By.CLASS_NAME, \"btn_login\").click()"
   ]
  },
  {
   "cell_type": "code",
   "execution_count": null,
   "id": "814c939d-71aa-4d30-bc25-2bb0b264bbe6",
   "metadata": {},
   "outputs": [],
   "source": []
  },
  {
   "cell_type": "markdown",
   "id": "1d75b905",
   "metadata": {},
   "source": [
    "## 3-4 맞춤법 검사기\n",
    "    - (네이버 맞춤법 검사기 이용)"
   ]
  },
  {
   "cell_type": "code",
   "execution_count": 27,
   "id": "299ef1f3",
   "metadata": {},
   "outputs": [],
   "source": [
    "from selenium import webdriver\n",
    "from selenium.webdriver.common.keys import Keys\n",
    "from selenium.webdriver.common.by import By\n",
    "from bs4 import BeautifulSoup\n",
    "import time\n",
    "\n",
    "driver = webdriver.Chrome()\n",
    "driver.get('http://www.naver.com')\n",
    "elem = driver.find_element(By.NAME, 'query')\n",
    "elem.send_keys('맞춤법 검사기')\n",
    "elem.send_keys(Keys.RETURN)"
   ]
  },
  {
   "cell_type": "code",
   "execution_count": 28,
   "id": "54d2f5d4",
   "metadata": {},
   "outputs": [],
   "source": [
    "textarea = driver.find_element(By.CLASS_NAME, 'txt_gray')\n",
    "textarea.send_keys('한녕하세요. 반갑숩니다')"
   ]
  },
  {
   "cell_type": "code",
   "execution_count": 29,
   "id": "83451177",
   "metadata": {},
   "outputs": [],
   "source": [
    "button = driver.find_element(By.CLASS_NAME, 'btn_check')\n",
    "button.click()"
   ]
  },
  {
   "cell_type": "code",
   "execution_count": 30,
   "id": "1122105d",
   "metadata": {},
   "outputs": [
    {
     "data": {
      "text/plain": [
       "'안녕하세요. 반갑습니다'"
      ]
     },
     "execution_count": 30,
     "metadata": {},
     "output_type": "execute_result"
    }
   ],
   "source": [
    "soup = BeautifulSoup(driver.page_source, \"html.parser\")\n",
    "result = soup.select_one('p._result_text.stand_txt').text\n",
    "result"
   ]
  },
  {
   "cell_type": "code",
   "execution_count": 31,
   "id": "f413ba53",
   "metadata": {},
   "outputs": [],
   "source": [
    "driver.close()"
   ]
  },
  {
   "cell_type": "code",
   "execution_count": 33,
   "id": "2f2ec936",
   "metadata": {},
   "outputs": [
    {
     "name": "stdout",
     "output_type": "stream",
     "text": [
      "안녕하세요. 반갑습니다\n"
     ]
    }
   ],
   "source": [
    "from selenium import webdriver\n",
    "from selenium.webdriver.common.keys import Keys\n",
    "from bs4 import BeautifulSoup\n",
    "import time\n",
    "driver = webdriver.Chrome()\n",
    "driver.get('http://www.naver.com')\n",
    "elem = driver.find_element(By.NAME, 'query')\n",
    "elem.send_keys('맞춤법 검사기')\n",
    "elem.send_keys(Keys.RETURN)\n",
    "time.sleep(1)\n",
    "# driver.implicitly_wait(1) 1초동안 잠깐 멈춤 위랑 같은 의미\n",
    "textarea = driver.find_element(By.CLASS_NAME, 'txt_gray')\n",
    "\n",
    "textarea.send_keys('한녕하세요. 반갑숩니다')\n",
    "button = driver.find_element(By.CLASS_NAME, 'btn_check')\n",
    "button.click()\n",
    "time.sleep(1)\n",
    "# driver.implicitly_wait(1) 1초동안 잠깐 멈춤 위랑 같은 의미\n",
    "soup = BeautifulSoup(driver.page_source, \"html.parser\")\n",
    "result = soup.select_one('p._result_text.stand_txt').text\n",
    "print(result)"
   ]
  },
  {
   "cell_type": "markdown",
   "id": "a918d7ae",
   "metadata": {},
   "source": [
    "- 맞춤법 검사가 안 된 text파일을 맞춤법 검사가 완료된 text파일로 output"
   ]
  },
  {
   "cell_type": "code",
   "execution_count": 34,
   "id": "e7491a6e",
   "metadata": {
    "scrolled": true
   },
   "outputs": [
    {
     "name": "stdout",
     "output_type": "stream",
     "text": [
      "안녕하세요. 반갑습니다.국내 신종 코로나바이러스 감염증(코로나19) 신규 확진자 수가 처음으로 2천 명을 넘으면서 신속한 백신 접종이 더욱 중요해지고 있다.최고 수준의 '사회적 거리 두기'(수도권 4단계, 비수도권 3단계)와 사적 모임 금지 조치 등 정부의 고강도 방역대책에도 불구하고 4차 대유행의 확산세가 꺾이지 않으면서 결국 백신이 유일한 해결책인 상황으로 흐르고 있다.정부가 백신 접종을 통한 '집단면역'에 사활을 걸고 있는 것도 이 때문이다.전문가들도 백신 접종의 중요성을 강조하고 있다.정재훈 가천대 의대 예방의학과교수는 \"접종률을 빠르게 올리는 게 최고의 방역 정책이라고 생각한다. 2차 접종 비율을 늘리는 것이 가장 중요하다\"라고 단언했다.이처럼 신속한 접종이 시급하지만 현실은 녹록지 않다.당장 이달 중 공급될 예정이던 모더나 백신 물량이 절반 이하로 줄어든 데다 노바백스 백신의 경우 미국 현지의 승인 절차가 늦어지면서 아직 국내 도입 계획은 윤곽조차 나오지 않는 등 집단면역 목표 달성까지는 여전히 변수가 산적해있다.11일 코로나19 예방접종 대응 추진단(추진단)에 따르면 이날 0시 기준 국내 1차 누적 접종 자는2천163만 5천106명으로, 전체 인구(작년 12월 기준 5천134만 9천116명)의 42.1%가 1차 접종을 마쳤다.백신별 권고 접종 횟수대로 모두 맞은 사람은 총 806만 2천980명으로, 인구 대비 15.7% 수준이다.정부는 오는 9월까지 전체 국민의 70%인 3천600만 명에 대한 1차 접종을 마치고, 11월까지 2차 접종을 완료해 집단면역을 달성하겠다는 목표를 세워 놓은 상태다.이를 위해서는 일단 내달까지 약 1천500만 명이 더 1차 접종을 받아야 하는 셈이다.정부는 지금 계획대로 접종이 차질 없이 진행된다면목표 달성이 충분히 가능하다는 입장이다.국내 한 전문가는 백신의 감염예방 효과보다는 변이 바이러스에 감염되더라도 입원하거나 사망하는 비율이 높게 낮아진다는 접종 효과에 더 주목해야 한다고 강조했다.설 대우 중앙대 약학과 교수는 \"백신 자체의 기본 기능이 위중증으로 인한 입원율·사망률을 큰 폭으로 떨어뜨리는 것\"이라며 \"델타 변이와 관련해서도 백신으로 아예 손을 쓸 수 없는 것이 아니라 백신은 델타 변이 감염자의 상태가 위중증으로 악화해 입원·사망하는 사례를 줄이는 역할을 할 수 있다\"라고 설명했다.설 교수는 델타변이가 전체 확진자의 95%가량을 차지하는 영국의 사례를 예로 들면서 \"영국 상황만 봐도 백신 접종 전 일일 확진자가 6만 7천 명에 달한 뒤 그 영향으로 하루 사망자가 1천800명까지 나왔었다\"라며 \"그러나 접종 이후부터 확진자는 절반 정도로 줄고, 사망자는 이보다 더 감소해 100명 안팎까지 떨어졌다\"라고 부연했다.그는 \"국내 일정에 맞춰 백신 접종을 진행하되 가능한 속도를 높여야 한다\"면서 \"할 수만 있다면 백신 물량을 효율적으로 배정해 '부스터 샷'(3차 추가접종)도 시행해야 한다\"라고 덧붙였다.국내 신종 코로나바이러스감염증(코로나19) 신규 확진자 수가 처음으로 2천 명을 넘으면서 신속한 백신 접종이 더욱 중요해지고 있다.최고 수준의 '사회적 거리 두기'(수도권 4단계, 비수도권 3단계)와 사적 모임 금지 조치 등 정부의 고강도 방역대책에도 불구하고 4차 대유행의 확산세가 꺾이지 않으면서 결국 백신이 유일한 해결책인 상황으로 흐르고 있다.정부가 백신 접종을 통한 '집단면역'에 사활을 걸고 있는 것도 이 때문이다.전문가들도 백신 접종의 중요성을 강조하고 있다.정재훈 가천대 의대 예방의학과 교수는 \"접종률을 빠르게 올리는 게 최고의 방역정책이라고 생각한다. 2차 접종 비율을 늘리는 것이 가장 중요하다\"라고 단언했다.이처럼 신속한 접종이 시급하지만 현실은 녹록지 않다.당장 이달 중 공급될 예정이던 모더나 백신 물량이 절반 이하로 줄어든 데다 노바백스 백신의 경우 미국 현지의 승인 절차가 늦어지면서 아직 국내 도입 계획은 윤곽조차 나오지 않는 등 집단면역 목표 달성까지는 여전히 변수가 산적해있다.11일 코로나19 예방접종 대응 추진단(추진단)에 따르면 이날 0시 기준 국내 1차 누적 접종 자는 2천163만 5천106명으로, 전체 인구(작년 12월 기준5천134만 9천116명)의 42.1%가 1차 접종을 마쳤다.백신별 권고 접종 횟수대로 모두 맞은 사람은 총 806만 2천980명으로, 인구 대비 15.7% 수준이다.정부는 오는 9월까지 전체 국민의 70%인 3천600만 명에 대한 1차 접종을 마치고, 11월까지 2차 접종을 완료해 집단면역을 달성하겠다는 목표를 세워 놓은 상태다.이를 위해서는 일단 내달까지 약 1천500만 명이 더 1차 접종을 받아야 하는 셈이다.정부는 지금 계획대로 접종이 차질 없이 진행된다면 목표 달성이 충분히 가능하다는 입장이다.손영래중앙사고 수습본부(중수본) 사회전략 반장은 앞선 브리핑에서 \"9월 말까지 전 국민의 70%까지 1차 접종을 완료한다는 그 계획대로 예방 접종을 진행 중\"이라면서 \"대부분이 화이자와 모더나 접종자인 만큼 4주의 접종 주기를 고려하면 10월 말에서 11월 초에 대부분이 2차 접종까지 완료하게 될 것\"이라고 전망했다.예진표 작성(서울=연합뉴스) 임헌정 기자 = 11일 오전 서울 서대문구 북아현 문화 체육센터에 마련된 예방접종 센터에서 시민들이 예진표를 작성하고 있다. 2021.8.11 kane@yna.co.kr하지만 제조사의생산 차질 문제로 모더나 백신의 국내 공급 일정이 늦춰지면서 모더나는 물론 같은 mRNA(메신저 리보핵산) 계열인 화이자 백신마저 1·2차 접종 간 격이 4주에서 6주로 2주 늘어난 상태다.더욱이 3분기까지 최대 2천만 회분을 들여오기로 했던 노바백스 백신 공급 일정은 오리무중인 상황이다.정부는 모더나 백신 공급 차질에도 11월 집단면역 형성이 가능하고, 심지어 노바백스 백신이 연내에 공급되지 않더라도 이미 확보한 물량으로 4분기 접종까지는 문제가 없다는 입장이다.그러나 백신 수급 불안이 해소되지 않으면 앞으로도 접종 일정은순차적으로 더 지연될 가능성을 배제할 수 없다.정부가 지금까지 확보한 백신은 5개 종류, 약 1억 9천300만 회(1억 명) 분이다.백신 공동구매 국제 프로젝트인 '코팩스 퍼실러티'로부터 2천만 회(1천만 명) 분을 확보했고, 각 제약사와는 직접 구매 계약을 맺어 1억 7천200만 회(8천900만 명) 분의 물량을 받기로 했다. 제약사별 구체적인 물량은 화이자 6천600만 회(3천300만 명) 분, 모더나 와 노바백스 각 4천만 회(2천만 명) 분, 아스트라제네카 2천만 회(1천만 명) 분, 얀센 700만 회분 등이다.이런 가운데 해외에서는 백신 효능을떨어뜨리는 변이 바이러스의 출현으로 집단면역을 달성하는 것 자체가 불가능하다고 보는 의견도 나온다.외신에 따르면 아스트라제네카(AZ) 백신 임상시험을 이끈 앤드루 폴 러드 영국 옥스퍼드대 교수는 10일(현지시간) 영국 의회 내 코로나19에 관한 초당파 모임에서 \"집단면역이 가능하지 않은 상황\"이라며 \"백신 접종자를 전보다 더 잘 감염시키는 새로운 변이가 나올 것으로 보인다\"라고 예상했다.그러면서 \"앞으로는 상태가 좋지 않은 사람들을 검사하고 중증 입원환자 치료를 개선하는 데 집중해야 한다\"라고 주장했다.국내 한 전문가는백신의 감염예방 효과보다는 변이 바이러스에 감염되더라도 입원하거나 사망하는 비율이 높게 낮아진다는 접종 효과에 더 주목해야 한다고 강조했다.설 대우 중앙대 약학과 교수는 \"백신 자체의 기본 기능이 위중증으로 인한 입원율·사망률을 큰 폭으로 떨어뜨리는 것\"이라며 \"델타 변이와 관련해서도 백신으로 아예 손을 쓸 수 없는 것이 아니라 백신은 델타 변이 감염자의 상태가 위중증으로 악화해 입원·사망하는 사례를 줄이는 역할을 할 수 있다\"라고 설명했다.설 교수는 델타 변이가 전체 확진자의 95%가량을 차지하는 영국의 사례를 예로 들면서\"영국 상황만 봐도 백신 접종 전 일일 확진자가 6만 7천 명에 달한 뒤 그 영향으로 하루 사망자가 1천800명까지 나왔었다\"라며 \"그러나 접종 이후부터 확진자는 절반 정도로 줄고, 사망자는 이보다 더 감소해 100명 안팎까지 떨어졌다\"라고 부연했다.그는 \"국내 일정에 맞춰 백신 접종을 진행하되 가능한 속도를 높여야 한다\"면서 \"할 수만 있다면 백신 물량을 효율적으로 배정해 '부스터 샷'(3차 추가접종)도 시행해야 한다\"라고 덧붙였다.안녕하세요. 반갑습니다.\n"
     ]
    }
   ],
   "source": [
    "from selenium import webdriver\n",
    "from selenium.webdriver.common.keys import Keys\n",
    "from bs4 import BeautifulSoup\n",
    "from selenium.webdriver.common.by import By\n",
    "import time\n",
    "with open('data/ch14_맞춤법수정전.txt', 'r', encoding='utf-8') as f:\n",
    "    text = f.read()\n",
    "ready_list = []\n",
    "while len(text) > 300 :\n",
    "    temp_str = text[:300]\n",
    "    last_space_idx = temp_str.rfind('\\n')\n",
    "    ready_list.append(text[:last_space_idx+1])\n",
    "    text = text[last_space_idx:] # ready_list에 append된 앞부분 날림\n",
    "ready_list.append(text)\n",
    "[len(r) for r in ready_list]\n",
    "\n",
    "driver = webdriver.Chrome()\n",
    "driver.get('http://www.naver.com')\n",
    "elem = driver.find_element(By.NAME, 'query')\n",
    "elem.send_keys('맞춤법 검사기')\n",
    "elem.send_keys(Keys.RETURN)\n",
    "time.sleep(1)\n",
    "# driver.implicitly_wait(1) 1초동안 잠깐 대기랑 비슷한 의미\n",
    "textarea = driver.find_element(By.CLASS_NAME, 'txt_gray')\n",
    "results = \"\"\n",
    "for ready in ready_list:\n",
    "    textarea.send_keys(Keys.CONTROL, \"a\") # Ctrol+a의 의미\n",
    "    textarea.send_keys(ready)\n",
    "    button = driver.find_element(By.CLASS_NAME, 'btn_check')\n",
    "    button.click()\n",
    "    time.sleep(1)\n",
    "    # driver.implicitly_wait(1) 1초동안 잠깐 멈춤 위랑 같은 의미\n",
    "    soup = BeautifulSoup(driver.page_source, \"html.parser\")\n",
    "    result = soup.select_one('p._result_text.stand_txt').text\n",
    "    #results += result.replace('.','.\\n')\n",
    "    results += result + '\\n'\n",
    "print(results)\n",
    "driver.close()\n",
    "\n",
    "with open('data/ch14_맞춤법수정후.txt','w', encoding='utf-8') as f:\n",
    "    f.write(results)"
   ]
  },
  {
   "cell_type": "markdown",
   "id": "7cb3c1b0",
   "metadata": {},
   "source": [
    "# 4절. 기타"
   ]
  },
  {
   "cell_type": "markdown",
   "id": "4295aea3-12e0-4da2-984d-5a0f58b8104a",
   "metadata": {},
   "source": [
    "## 4-1 bit 정보 Json으로받기\n",
    "API 난이도 - upbit -> 공공데이터포털 -> 카카오톡 API"
   ]
  },
  {
   "cell_type": "code",
   "execution_count": 33,
   "id": "e29cc063",
   "metadata": {},
   "outputs": [
    {
     "name": "stdout",
     "output_type": "stream",
     "text": [
      "200\n",
      "[{\"market\":\"KRW-BTC\",\"candle_date_time_utc\":\"2024-07-05T08:59:00\",\"candle_date_time_kst\":\"2024-07-05T17:59:00\",\"opening_price\":77770000.00000000,\"high_price\":77781000.00000000,\"low_price\":77685000.00000000,\"trade_price\":77688000.00000000,\"timestamp\":1720169999799,\"candle_acc_trade_price\":532656630.01359000,\"candle_acc_trade_volume\":6.85242532,\"unit\":1}]\n"
     ]
    }
   ],
   "source": [
    "import requests\n",
    "\n",
    "url = 'https://api.upbit.com/v1/candles/minutes/1?market=KRW-BTC&to='\n",
    "date = '2024-07-05T09:00:00'\n",
    "\n",
    "req = requests.get(url + date)\n",
    "print(req.status_code)\n",
    "print(req.text)"
   ]
  },
  {
   "cell_type": "code",
   "execution_count": 35,
   "id": "3d4228cc",
   "metadata": {},
   "outputs": [
    {
     "name": "stdout",
     "output_type": "stream",
     "text": [
      "<class 'str'>\n",
      "[{\"market\":\"KRW-BTC\",\"candle_date_time_utc\":\"2024-07-05T08:59:00\",\"candle_date_time_kst\":\"2024-07-05T17:59:00\",\"opening_price\":77770000.00000000,\"high_price\":77781000.00000000,\"low_price\":77685000.00000000,\"trade_price\":77688000.00000000,\"timestamp\":1720169999799,\"candle_acc_trade_price\":532656630.01359000,\"candle_acc_trade_volume\":6.85242532,\"unit\":1}]\n"
     ]
    }
   ],
   "source": [
    "data = req.text\n",
    "print(type(data))\n",
    "print(data)"
   ]
  },
  {
   "cell_type": "code",
   "execution_count": 41,
   "id": "5b8cacad-b7ec-4d12-9e00-bb430fdc2717",
   "metadata": {},
   "outputs": [
    {
     "name": "stdout",
     "output_type": "stream",
     "text": [
      "{'market': 'KRW-BTC', 'candle_date_time_utc': '2024-07-05T08:59:00', 'candle_date_time_kst': '2024-07-05T17:59:00', 'opening_price': 77770000.0, 'high_price': 77781000.0, 'low_price': 77685000.0, 'trade_price': 77688000.0, 'timestamp': 1720169999799, 'candle_acc_trade_price': 532656630.01359, 'candle_acc_trade_volume': 6.85242532, 'unit': 1}\n",
      "<class 'dict'>\n",
      "77685000.0\n"
     ]
    }
   ],
   "source": [
    "import json\n",
    "\n",
    "data = req.text\n",
    "python_data = json.loads(data)\n",
    "print(python_data[0])\n",
    "print(type(python_data[0]))\n",
    "print(python_data[0]['low_price'])"
   ]
  },
  {
   "cell_type": "markdown",
   "id": "49142bef-4e97-4833-b192-ac63d09cce6e",
   "metadata": {},
   "source": [
    "## 4-2 데이터베이스 활용\n",
    "! pip install pymysql\n",
    "```\n",
    "show databases;\n",
    "create database crawl;\n",
    "use crawl;\n",
    "create table news_data (\n",
    "\tid int primary key auto_increment,\n",
    "    date date,\n",
    "    text varchar(1000),\n",
    "    count numeric(5)\n",
    ");\n",
    "show tables;\n",
    "select * from news_data;\n",
    "```"
   ]
  },
  {
   "cell_type": "code",
   "execution_count": 49,
   "id": "b30b0562-41c2-4980-9701-a75b7a59c56f",
   "metadata": {},
   "outputs": [],
   "source": [
    "# 값 넣기!\n",
    "import pymysql\n",
    "config = {\n",
    "    'host': '127.0.0.1',               # MySQL 호스트 주소\n",
    "    'user': 'root',           # MySQL 사용자 이름\n",
    "    'password': 'mysql',       # MySQL 비밀번호\n",
    "    'database': 'crawl',  # 사용할 데이터베이스 이름\n",
    "    'port': 3306                       # MySQL 포트 (기본값은 3306)\n",
    "}\n",
    "\n",
    "conn = pymysql.connect(**config)\n",
    "cursor = conn.cursor()\n",
    "# 삽입할 데이터\n",
    "date = '2023-06-21'\n",
    "text = '새로운 데이터'\n",
    "count = 1\n",
    "\n",
    "# INSERT SQL 쿼리\n",
    "sql = \"INSERT INTO news_data (date, text, count) VALUES (%s, %s, %s)\"  # 테이블 컬럼 값들 넣기\n",
    "cursor.execute(sql, (date, text, count))\n",
    "\n",
    "# 변경사항 커밋\n",
    "conn.commit()\n",
    "\n",
    "cursor.close()\n",
    "conn.close()"
   ]
  },
  {
   "cell_type": "code",
   "execution_count": 53,
   "id": "0bc14182-daee-4c78-8da8-b97fbda97ea3",
   "metadata": {},
   "outputs": [
    {
     "name": "stdout",
     "output_type": "stream",
     "text": [
      "((1, datetime.date(2023, 6, 21), '새로운 데이터', Decimal('1')),)\n"
     ]
    }
   ],
   "source": [
    "# 값 조회하기\n",
    "conn = pymysql.connect(**config)\n",
    "cursor = conn.cursor()\n",
    "cursor.execute('SELECT * FROM news_data')\n",
    "rows = cursor.fetchall()\n",
    "\n",
    "print(rows)\n",
    "cursor.close()\n",
    "conn.close()"
   ]
  },
  {
   "cell_type": "code",
   "execution_count": null,
   "id": "8c18356a-833f-4d61-827d-0a19f8d620f9",
   "metadata": {},
   "outputs": [],
   "source": [
    "```\n",
    "create table market_data(\n",
    "\tid int primary key auto_increment,\n",
    "    market varchar(100),\n",
    "    opening_price numeric(10),\n",
    "    trade_price numeric(10),\n",
    "    date datetime\n",
    ");\n",
    "```"
   ]
  },
  {
   "cell_type": "code",
   "execution_count": 71,
   "id": "777f2348-7e69-47a7-924a-2531ce1801cc",
   "metadata": {},
   "outputs": [
    {
     "name": "stdout",
     "output_type": "stream",
     "text": [
      "{'market': 'KRW-BTC', 'candle_date_time_utc': '2024-07-05T08:59:00', 'candle_date_time_kst': '2024-07-05T17:59:00', 'opening_price': 77770000.0, 'high_price': 77781000.0, 'low_price': 77685000.0, 'trade_price': 77688000.0, 'timestamp': 1720169999799, 'candle_acc_trade_price': 532656630.01359, 'candle_acc_trade_volume': 6.85242532, 'unit': 1}\n",
      "KRW-BTC 77770000.0 77688000.0 2024-07-05T17:59:00\n"
     ]
    }
   ],
   "source": [
    "# 실습\n",
    "# upbit API를 통해 가져온 시계열(가격) 데이터를 MySQL 데이터베이스에 넣기\n",
    "\n",
    "import requests\n",
    "import time\n",
    "import pymysql\n",
    "\n",
    "config = {\n",
    "    'host': '127.0.0.1',               # MySQL 호스트 주소\n",
    "    'user': 'root',           # MySQL 사용자 이름\n",
    "    'password': 'mysql',       # MySQL 비밀번호\n",
    "    'database': 'crawl',  # 사용할 데이터베이스 이름\n",
    "    'port': 3306                       # MySQL 포트 (기본값은 3306)\n",
    "}\n",
    "\n",
    "conn = pymysql.connect(**config)\n",
    "cursor = conn.cursor()\n",
    "\n",
    "# 삽입할 데이터 읽어오기\n",
    "url = 'https://api.upbit.com/v1/candles/minutes/1?market=KRW-BTC&to='\n",
    "date = '2024-07-05T09:00:00'\n",
    "\n",
    "req = requests.get(url + date)\n",
    "data = req.json()[0]\n",
    "print(data)\n",
    "# 삽입할 데이터\n",
    "market = data['market']\n",
    "opening_price = data['opening_price']\n",
    "trade_price = data['trade_price']\n",
    "date = data['candle_date_time_kst']\n",
    "print(market, opening_price, trade_price, date)\n",
    "# INSERT SQL 쿼리\n",
    "sql = \"INSERT INTO market_data (market, opening_price, trade_price, date) VALUES (%s, %s, %s, %s)\"  # 테이블 컬럼 값들 넣기\n",
    "cursor.execute(sql, (market, opening_price, trade_price,date))\n",
    "\n",
    "# 변경사항 커밋\n",
    "conn.commit()\n",
    "\n",
    "cursor.close()\n",
    "conn.close()"
   ]
  },
  {
   "cell_type": "markdown",
   "id": "b08a2258-3149-40e2-830d-f20af30ed7c4",
   "metadata": {},
   "source": [
    "```\n",
    "워크밴치에서 실행한 SQL문\n",
    "show databases;\n",
    "create database crawl;\n",
    "use crawl;\n",
    "create table news_data (\n",
    "\tid int primary key auto_increment,\n",
    "    date date,\n",
    "    text varchar(1000),\n",
    "    count numeric(5)\n",
    ");\n",
    "show tables;\n",
    "select * from news_data;\n",
    "create table market_data(\n",
    "\tid int primary key auto_increment,\n",
    "    market varchar(100),\n",
    "    opening_price numeric(10),\n",
    "    trade_price numeric(10),\n",
    "    date datetime\n",
    ");\n",
    "select * from market_data;\n",
    "delete from market_data;\n",
    "```"
   ]
  },
  {
   "cell_type": "markdown",
   "id": "60e19994-f256-4db8-afc2-6760e2befd16",
   "metadata": {},
   "source": [
    "## 4-3 자동화\n",
    "### (1) 컴퓨터가 파이썬을 실행\n",
    "    - OS에 따라 실행 방법이 다릅니다.\n",
    "        - Unix : cron\n",
    "        - win : 작업 스케쥴러\n",
    "            * win키+R : taskschd.msc \n",
    "            * 기본작업만들기 -> 트리거 ...            \n",
    "\n",
    "### (2) 파이썬이 계속 실행되다가 그때그때만 원하는 코드를 실행 (수업시간엔 이거 실행)\n",
    "    - 어느 OS든 똑같이 실행가능하다\n",
    "    - 단점 : 처음 코드의 수정이 필요하다\n",
    "    - ! pip install schedule"
   ]
  },
  {
   "cell_type": "code",
   "execution_count": 32,
   "id": "b6ba34a8-6f3a-4c44-a550-860767568468",
   "metadata": {},
   "outputs": [
    {
     "name": "stdout",
     "output_type": "stream",
     "text": [
      "작업이 실행되었습니다!\n"
     ]
    },
    {
     "ename": "KeyboardInterrupt",
     "evalue": "",
     "output_type": "error",
     "traceback": [
      "\u001b[1;31m--------------------------------------------------------------\u001b[0m",
      "\u001b[1;31mKeyboardInterrupt\u001b[0m            Traceback (most recent call last)",
      "Cell \u001b[1;32mIn[32], line 16\u001b[0m\n\u001b[0;32m     14\u001b[0m \u001b[38;5;28;01mwhile\u001b[39;00m \u001b[38;5;28;01mTrue\u001b[39;00m:\n\u001b[0;32m     15\u001b[0m     schedule\u001b[38;5;241m.\u001b[39mrun_pending()\n\u001b[1;32m---> 16\u001b[0m     \u001b[43mtime\u001b[49m\u001b[38;5;241;43m.\u001b[39;49m\u001b[43msleep\u001b[49m\u001b[43m(\u001b[49m\u001b[38;5;241;43m1\u001b[39;49m\u001b[43m)\u001b[49m\n",
      "\u001b[1;31mKeyboardInterrupt\u001b[0m: "
     ]
    }
   ],
   "source": [
    "import schedule\n",
    "import time\n",
    "\n",
    "def job():\n",
    "    print(\"작업이 실행되었습니다!\")\n",
    "\n",
    "# 매 1분마다 job 함수를 실행\n",
    "schedule.every(1).minutes.do(job)\n",
    "\n",
    "# 매일 특정 시간에 job 함수를 실행 (예: 오전 10:30)\n",
    "# schedule.every().day.at(\"10:30\").do(job)\n",
    "\n",
    "# 무한 루프를 돌며 스케줄된 작업이 있는지 확인\n",
    "while True:\n",
    "    schedule.run_pending()\n",
    "    time.sleep(1)"
   ]
  },
  {
   "cell_type": "code",
   "execution_count": null,
   "id": "f44546f4-f581-4788-9726-60222ad2a390",
   "metadata": {},
   "outputs": [],
   "source": [
    "schedule.every().day.at(\"14:00\").do(job)\n",
    "\n",
    "schedule.every().monday.do(job)       # 매주 월요일\n",
    "schedule.every().wednesday.at(\"13:15\").do(job)  # 매주 수요일 13:15\n",
    "schedule.every().hour.do(job)         # 매시간\n",
    "schedule.every().minute.do(job)       # 매분\n",
    "schedule.every().second.do(job)       # 매초\n",
    "schedule.every(10).seconds.do(job)    # 10초마다"
   ]
  },
  {
   "cell_type": "code",
   "execution_count": 34,
   "id": "56bfed02",
   "metadata": {},
   "outputs": [
    {
     "name": "stdout",
     "output_type": "stream",
     "text": [
      "data/ch14_맞춤법수정후241210_23_12_11.txt\n"
     ]
    }
   ],
   "source": [
    "from datetime import datetime\n",
    "now = datetime.now()\n",
    "filename = 'data/ch14_맞춤법수정후' + now.strftime('%y%m%d_%H_%M_%S')+'.txt'\n",
    "print(filename)"
   ]
  },
  {
   "cell_type": "code",
   "execution_count": null,
   "id": "32de6a3e",
   "metadata": {},
   "outputs": [],
   "source": [
    "from selenium import webdriver\n",
    "from selenium.webdriver.common.by import By\n",
    "from selenium.webdriver.common.keys import Keys\n",
    "import time\n",
    "from bs4 import BeautifulSoup\n",
    "import schedule\n",
    "import time\n",
    "def test():\n",
    "    with open('data/ch14_맞춤법수정전.txt', 'r', encoding='utf-8') as f:\n",
    "        text = f.read()\n",
    "    ready_list = []\n",
    "    while len(text) > 300 :\n",
    "        temp_str = text[:300]\n",
    "        last_space_idx = temp_str.rfind('\\n')\n",
    "        ready_list.append(text[:last_space_idx+1])\n",
    "        text = text[last_space_idx:] # ready_list에 append된 앞부분 날림\n",
    "    ready_list.append(text)\n",
    "    [len(r) for r in ready_list]\n",
    "\n",
    "    driver = webdriver.Chrome()\n",
    "    driver.get('http://www.naver.com')\n",
    "    elem = driver.find_element(By.NAME, 'query')\n",
    "    elem.send_keys('맞춤법 검사기')\n",
    "    elem.send_keys(Keys.RETURN)\n",
    "    time.sleep(1)\n",
    "    # driver.implicitly_wait(1) 1초동안 잠깐 대기랑 비슷한 의미\n",
    "    textarea = driver.find_element(By.CLASS_NAME, 'txt_gray')\n",
    "\n",
    "    results = \"\"\n",
    "    for ready in ready_list:\n",
    "        textarea.send_keys(Keys.CONTROL, \"a\")\n",
    "        textarea.send_keys(ready)\n",
    "        button = driver.find_element(By.CLASS_NAME, 'btn_check')\n",
    "        button.click()\n",
    "        time.sleep(1)\n",
    "        soup = BeautifulSoup(driver.page_source, \"html.parser\")\n",
    "        result = soup.select_one('p._result_text.stand_txt').text\n",
    "        results += result + '\\n'\n",
    "    # print(results)\n",
    "\n",
    "    driver.close()\n",
    "    from datetime import datetime\n",
    "    now = datetime.now()\n",
    "    filename = 'data/ch14_맞춤법수정후' + now.strftime('%y%m%d_%H_%M_%S')+'.txt'\n",
    "\n",
    "    with open(filename,'w', encoding='utf-8') as f:\n",
    "        f.write(results)\n",
    "schedule.every(10).seconds.do(test)\n",
    "while True:\n",
    "    schedule.run_pending()\n",
    "    time.sleep(1)"
   ]
  },
  {
   "cell_type": "code",
   "execution_count": null,
   "id": "3182eb65",
   "metadata": {},
   "outputs": [],
   "source": []
  },
  {
   "cell_type": "code",
   "execution_count": null,
   "id": "e29ac51b",
   "metadata": {},
   "outputs": [],
   "source": []
  },
  {
   "cell_type": "code",
   "execution_count": null,
   "id": "ee88dafe",
   "metadata": {},
   "outputs": [],
   "source": []
  },
  {
   "cell_type": "code",
   "execution_count": 78,
   "id": "821ce71f-376f-4e90-aad7-93fdb098e810",
   "metadata": {},
   "outputs": [
    {
     "name": "stdout",
     "output_type": "stream",
     "text": [
      "작업이 실행되었습니다!\n"
     ]
    },
    {
     "ename": "KeyboardInterrupt",
     "evalue": "",
     "output_type": "error",
     "traceback": [
      "\u001b[1;31m----------------------------------------\u001b[0m",
      "\u001b[1;31mKeyboardInterrupt\u001b[0mTraceback (most recent call last)",
      "Cell \u001b[1;32mIn[78], line 50\u001b[0m\n\u001b[0;32m     48\u001b[0m \u001b[38;5;28;01mwhile\u001b[39;00m \u001b[38;5;28;01mTrue\u001b[39;00m:\n\u001b[0;32m     49\u001b[0m     schedule\u001b[38;5;241m.\u001b[39mrun_pending()\n\u001b[1;32m---> 50\u001b[0m     time\u001b[38;5;241m.\u001b[39msleep(\u001b[38;5;241m1\u001b[39m)\n",
      "\u001b[1;31mKeyboardInterrupt\u001b[0m: "
     ]
    }
   ],
   "source": [
    "import requests\n",
    "import time\n",
    "import pymysql\n",
    "\n",
    "config = {\n",
    "    'host': '127.0.0.1',               # MySQL 호스트 주소\n",
    "    'user': 'root',           # MySQL 사용자 이름\n",
    "    'password': 'mysql',       # MySQL 비밀번호\n",
    "    'database': 'crawl',  # 사용할 데이터베이스 이름\n",
    "    'port': 3306                       # MySQL 포트 (기본값은 3306)\n",
    "}\n",
    "\n",
    "def job():\n",
    "    print(\"작업이 실행되었습니다!\")\n",
    "    conn = pymysql.connect(**config)\n",
    "    cursor = conn.cursor()\n",
    "    \n",
    "    # 삽입할 데이터 읽어오기\n",
    "    url = 'https://api.upbit.com/v1/candles/minutes/1?market=KRW-BTC&to='\n",
    "    date = '2024-07-05T09:00:00'\n",
    "    \n",
    "    req = requests.get(url + date)\n",
    "    data = req.json()[0]\n",
    "    print(data)\n",
    "    # 삽입할 데이터\n",
    "    market = data['market']\n",
    "    opening_price = data['opening_price']\n",
    "    trade_price = data['trade_price']\n",
    "    date = data['candle_date_time_kst']\n",
    "    print(market, opening_price, trade_price, date)\n",
    "    # INSERT SQL 쿼리\n",
    "    sql = \"INSERT INTO market_data (market, opening_price, trade_price, date) VALUES (%s, %s, %s, %s)\"  # 테이블 컬럼 값들 넣기\n",
    "    cursor.execute(sql, (market, opening_price, trade_price,date))\n",
    "    \n",
    "    # 변경사항 커밋\n",
    "    conn.commit()\n",
    "    \n",
    "    cursor.close()\n",
    "    conn.close()\n",
    "\n",
    "# 매 1분마다 job 함수를 실행\n",
    "schedule.every(1).minutes.do(job)\n",
    "\n",
    "# 매일 특정 시간에 job 함수를 실행 (예: 오전 10:30)\n",
    "# schedule.every().day.at(\"10:30\").do(job)\n",
    "\n",
    "# 무한 루프를 돌며 스케줄된 작업이 있는지 확인\n",
    "while True:\n",
    "    schedule.run_pending()\n",
    "    time.sleep(1)"
   ]
  },
  {
   "cell_type": "code",
   "execution_count": 80,
   "id": "cade9139-9aee-4835-bfc6-a6e127d41d34",
   "metadata": {},
   "outputs": [
    {
     "name": "stdout",
     "output_type": "stream",
     "text": [
      "작업이 실행되었습니다!\n",
      "작업이 실행되었습니다!\n",
      "{'market': 'KRW-BTC', 'candle_date_time_utc': '2024-07-05T08:59:00', 'candle_date_time_kst': '2024-07-05T17:59:00', 'opening_price': 77770000.0, 'high_price': 77781000.0, 'low_price': 77685000.0, 'trade_price': 77688000.0, 'timestamp': 1720169999799, 'candle_acc_trade_price': 532656630.01359, 'candle_acc_trade_volume': 6.85242532, 'unit': 1}\n",
      "KRW-BTC 77770000.0 77688000.0 2024-07-05T17:59:00\n"
     ]
    },
    {
     "ename": "KeyboardInterrupt",
     "evalue": "",
     "output_type": "error",
     "traceback": [
      "\u001b[1;31m----------------------------------------\u001b[0m",
      "\u001b[1;31mKeyboardInterrupt\u001b[0mTraceback (most recent call last)",
      "Cell \u001b[1;32mIn[80], line 50\u001b[0m\n\u001b[0;32m     48\u001b[0m \u001b[38;5;28;01mwhile\u001b[39;00m \u001b[38;5;28;01mTrue\u001b[39;00m:\n\u001b[0;32m     49\u001b[0m     schedule\u001b[38;5;241m.\u001b[39mrun_pending()\n\u001b[1;32m---> 50\u001b[0m     time\u001b[38;5;241m.\u001b[39msleep(\u001b[38;5;241m1\u001b[39m)\n",
      "\u001b[1;31mKeyboardInterrupt\u001b[0m: "
     ]
    }
   ],
   "source": [
    "import requests\n",
    "import time\n",
    "import pymysql\n",
    "\n",
    "config = {\n",
    "    'host': '127.0.0.1',               # MySQL 호스트 주소\n",
    "    'user': 'root',           # MySQL 사용자 이름\n",
    "    'password': 'mysql',       # MySQL 비밀번호\n",
    "    'database': 'crawl',  # 사용할 데이터베이스 이름\n",
    "    'port': 3306                       # MySQL 포트 (기본값은 3306)\n",
    "}\n",
    "\n",
    "def job(date):\n",
    "    print(\"작업이 실행되었습니다!\")\n",
    "    conn = pymysql.connect(**config)\n",
    "    cursor = conn.cursor()\n",
    "    \n",
    "    # 삽입할 데이터 읽어오기\n",
    "    url = 'https://api.upbit.com/v1/candles/minutes/1?market=KRW-BTC&to='\n",
    "    #date = '2024-07-05T09:00:00'\n",
    "    \n",
    "    req = requests.get(url + date)\n",
    "    data = req.json()[0]\n",
    "    # print(data)\n",
    "    # 삽입할 데이터\n",
    "    market = data['market']\n",
    "    opening_price = data['opening_price']\n",
    "    trade_price = data['trade_price']\n",
    "    date = data['candle_date_time_kst']\n",
    "    # print(market, opening_price, trade_price, date)\n",
    "    # INSERT SQL 쿼리\n",
    "    sql = \"INSERT INTO market_data (market, opening_price, trade_price, date) VALUES (%s, %s, %s, %s)\"  # 테이블 컬럼 값들 넣기\n",
    "    cursor.execute(sql, (market, opening_price, trade_price,date))\n",
    "    \n",
    "    # 변경사항 커밋\n",
    "    conn.commit()\n",
    "    \n",
    "    cursor.close()\n",
    "    conn.close()\n",
    "\n",
    "# 매 1분마다 job 함수를 실행\n",
    "schedule.every(1).minutes.do(job, '2024-07-04T10:02:00')\n",
    "\n",
    "# 매일 특정 시간에 job 함수를 실행 (예: 오전 10:30)\n",
    "# schedule.every().day.at(\"10:30\").do(job)\n",
    "\n",
    "# 무한 루프를 돌며 스케줄된 작업이 있는지 확인\n",
    "while True:\n",
    "    schedule.run_pending()\n",
    "    time.sleep(1)"
   ]
  },
  {
   "cell_type": "code",
   "execution_count": 33,
   "id": "9bf71a2a-1af6-4aaa-916d-b874ce94f71f",
   "metadata": {},
   "outputs": [
    {
     "name": "stdout",
     "output_type": "stream",
     "text": [
      "문자열 변환 :  2024-12-10T23:05:07\n"
     ]
    }
   ],
   "source": [
    "from datetime import datetime\n",
    "\n",
    "now = datetime.now()\n",
    "print(\"문자열 변환 : \", now.strftime('%Y-%m-%dT%H:%M:%S'))"
   ]
  },
  {
   "cell_type": "code",
   "execution_count": 3,
   "id": "57e98c19-ad6d-4513-ac6c-0524cba0e439",
   "metadata": {},
   "outputs": [
    {
     "name": "stdout",
     "output_type": "stream",
     "text": [
      "작업이 실행되었습니다!\n",
      "2024-07-05T20:46:14\n"
     ]
    },
    {
     "ename": "KeyboardInterrupt",
     "evalue": "",
     "output_type": "error",
     "traceback": [
      "\u001b[1;31m----------------------------------------\u001b[0m",
      "\u001b[1;31mKeyboardInterrupt\u001b[0mTraceback (most recent call last)",
      "Cell \u001b[1;32mIn[3], line 54\u001b[0m\n\u001b[0;32m     52\u001b[0m \u001b[38;5;28;01mwhile\u001b[39;00m \u001b[38;5;28;01mTrue\u001b[39;00m:\n\u001b[0;32m     53\u001b[0m     schedule\u001b[38;5;241m.\u001b[39mrun_pending()\n\u001b[1;32m---> 54\u001b[0m     time\u001b[38;5;241m.\u001b[39msleep(\u001b[38;5;241m1\u001b[39m)\n",
      "\u001b[1;31mKeyboardInterrupt\u001b[0m: "
     ]
    }
   ],
   "source": [
    "import schedule\n",
    "import requests\n",
    "import time\n",
    "import pymysql\n",
    "from datetime import datetime\n",
    "\n",
    "config = {\n",
    "    'host': '127.0.0.1',               # MySQL 호스트 주소\n",
    "    'user': 'root',           # MySQL 사용자 이름\n",
    "    'password': 'mysql',       # MySQL 비밀번호\n",
    "    'database': 'crawl',  # 사용할 데이터베이스 이름\n",
    "    'port': 3306                       # MySQL 포트 (기본값은 3306)\n",
    "}\n",
    "\n",
    "def job():\n",
    "    print(\"작업이 실행되었습니다!\")\n",
    "    conn = pymysql.connect(**config)\n",
    "    cursor = conn.cursor()\n",
    "    \n",
    "    # 삽입할 데이터 읽어오기\n",
    "    url = 'https://api.upbit.com/v1/candles/minutes/1?market=KRW-BTC&to='\n",
    "\n",
    "    now = datetime.now()\n",
    "    date = now.strftime('%Y-%m-%dT%H:%M:%S');\n",
    "    # date = '2024-07-05T09:00:00'\n",
    "    print(date)\n",
    "    req = requests.get(url + date)\n",
    "    data = req.json()[0]\n",
    "    \n",
    "    # 삽입할 데이터\n",
    "    market = data['market']\n",
    "    opening_price = data['opening_price']\n",
    "    trade_price = data['trade_price']\n",
    "    date = data['candle_date_time_kst']\n",
    "    # INSERT SQL 쿼리\n",
    "    sql = \"INSERT INTO market_data (market, opening_price, trade_price, date) VALUES (%s, %s, %s, %s)\"  # 테이블 컬럼 값들 넣기\n",
    "    cursor.execute(sql, (market, opening_price, trade_price,date))\n",
    "    \n",
    "    # 변경사항 커밋\n",
    "    conn.commit()\n",
    "    \n",
    "    cursor.close()\n",
    "    conn.close()\n",
    "\n",
    "# 매 1분마다 job 함수를 실행\n",
    "schedule.every(1).minutes.do(job)\n",
    "\n",
    "# 매일 특정 시간에 job 함수를 실행 (예: 오전 10:30)\n",
    "# schedule.every().day.at(\"10:30\").do(job)\n",
    "\n",
    "# 무한 루프를 돌며 스케줄된 작업이 있는지 확인\n",
    "while True:\n",
    "    schedule.run_pending()\n",
    "    time.sleep(1)"
   ]
  },
  {
   "cell_type": "code",
   "execution_count": null,
   "id": "a46ebdd3-a093-4e3c-b387-c3b0df1d8852",
   "metadata": {},
   "outputs": [],
   "source": []
  }
 ],
 "metadata": {
  "kernelspec": {
   "display_name": "Python 3 (ipykernel)",
   "language": "python",
   "name": "python3"
  },
  "language_info": {
   "codemirror_mode": {
    "name": "ipython",
    "version": 3
   },
   "file_extension": ".py",
   "mimetype": "text/x-python",
   "name": "python",
   "nbconvert_exporter": "python",
   "pygments_lexer": "ipython3",
   "version": "3.10.9"
  },
  "toc": {
   "base_numbering": 1,
   "nav_menu": {},
   "number_sections": false,
   "sideBar": true,
   "skip_h1_title": false,
   "title_cell": "Table of Contents",
   "title_sidebar": "Contents",
   "toc_cell": false,
   "toc_position": {
    "height": "calc(100% - 180px)",
    "left": "10px",
    "top": "150px",
    "width": "197px"
   },
   "toc_section_display": true,
   "toc_window_display": true
  },
  "varInspector": {
   "cols": {
    "lenName": 16,
    "lenType": 16,
    "lenVar": 40
   },
   "kernels_config": {
    "python": {
     "delete_cmd_postfix": "",
     "delete_cmd_prefix": "del ",
     "library": "var_list.py",
     "varRefreshCmd": "print(var_dic_list())"
    },
    "r": {
     "delete_cmd_postfix": ") ",
     "delete_cmd_prefix": "rm(",
     "library": "var_list.r",
     "varRefreshCmd": "cat(var_dic_list()) "
    }
   },
   "types_to_exclude": [
    "module",
    "function",
    "builtin_function_or_method",
    "instance",
    "_Feature"
   ],
   "window_display": false
  }
 },
 "nbformat": 4,
 "nbformat_minor": 5
}
