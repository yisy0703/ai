{
 "cells": [
  {
   "cell_type": "code",
   "execution_count": 1,
   "id": "018696d9",
   "metadata": {},
   "outputs": [
    {
     "data": {
      "text/html": [
       "\n",
       "<style>\n",
       "div.container{width:99% !important;}\n",
       "div.cell.code_cell.rendered{width:95%;}\n",
       "div.CodeMirror {font-family:Consolas; font-size:19pt;}\n",
       "div.output {font-size:19pt; font-weight:bold;}\n",
       "div.input {font-family:Consolas; font-size:19pt;}\n",
       "div.prompt {min-width:70px;}\n",
       "div#toc-wrapper{padding-top:120px;}\n",
       "span.toc-item-num{display:none;}\n",
       "div.text_cell_render ul li{font-size:18pt;padding:5px;}\n",
       "div.CodeMirror-lines > div {padding-left:10px;}\n",
       "</style>\n"
      ],
      "text/plain": [
       "<IPython.core.display.HTML object>"
      ]
     },
     "metadata": {},
     "output_type": "display_data"
    }
   ],
   "source": [
    "from IPython.display import display, HTML\n",
    "display(HTML(\"\"\"\n",
    "<style>\n",
    "div.container{width:99% !important;}\n",
    "div.cell.code_cell.rendered{width:95%;}\n",
    "div.CodeMirror {font-family:Consolas; font-size:19pt;}\n",
    "div.output {font-size:19pt; font-weight:bold;}\n",
    "div.input {font-family:Consolas; font-size:19pt;}\n",
    "div.prompt {min-width:70px;}\n",
    "div#toc-wrapper{padding-top:120px;}\n",
    "span.toc-item-num{display:none;}\n",
    "div.text_cell_render ul li{font-size:18pt;padding:5px;}\n",
    "div.CodeMirror-lines > div {padding-left:10px;}\n",
    "</style>\n",
    "\"\"\"))"
   ]
  },
  {
   "cell_type": "markdown",
   "id": "2a2bd430",
   "metadata": {},
   "source": [
    "<b><font color=\"red\" size=\"6\">ch07. 객체지향 프로그래밍</font></b>"
   ]
  },
  {
   "cell_type": "markdown",
   "id": "beda668c",
   "metadata": {},
   "source": [
    "# 1절. 객체와 클래스\n",
    "```\n",
    "class 클래스명(상속받을 클래스명):\n",
    "    변수나 함수들\n",
    "```"
   ]
  },
  {
   "cell_type": "code",
   "execution_count": 2,
   "id": "67cbe2f3",
   "metadata": {},
   "outputs": [],
   "source": [
    "class Person:\n",
    "    '''\n",
    "    Person 어쩌구 저쩌구 설명하는 독스트링\n",
    "    class Person{\n",
    "        //public String toString(){}\n",
    "    }\n",
    "    p = new Person()\n",
    "    sysout(p)\n",
    "    '''\n",
    "    pass\n",
    "p = Person()"
   ]
  },
  {
   "cell_type": "code",
   "execution_count": 3,
   "id": "523397bb",
   "metadata": {},
   "outputs": [
    {
     "data": {
      "text/plain": [
       "__main__.Person"
      ]
     },
     "execution_count": 3,
     "metadata": {},
     "output_type": "execute_result"
    }
   ],
   "source": [
    "type(p)"
   ]
  },
  {
   "cell_type": "code",
   "execution_count": 4,
   "id": "2963533f",
   "metadata": {},
   "outputs": [
    {
     "name": "stdout",
     "output_type": "stream",
     "text": [
      "<__main__.Person object at 0x000002126772E110>\n"
     ]
    }
   ],
   "source": [
    "print(p)"
   ]
  },
  {
   "cell_type": "code",
   "execution_count": 5,
   "id": "f645c512",
   "metadata": {},
   "outputs": [
    {
     "data": {
      "text/plain": [
       "True"
      ]
     },
     "execution_count": 5,
     "metadata": {},
     "output_type": "execute_result"
    }
   ],
   "source": [
    "isinstance(p, Person)"
   ]
  },
  {
   "cell_type": "code",
   "execution_count": 6,
   "id": "34b0c2fd",
   "metadata": {},
   "outputs": [
    {
     "name": "stdout",
     "output_type": "stream",
     "text": [
      "\n",
      "    Person 어쩌구 저쩌구 설명하는 독스트링\n",
      "    class Person{\n",
      "        //public String toString(){}\n",
      "    }\n",
      "    p = new Person()\n",
      "    sysout(p)\n",
      "    \n"
     ]
    }
   ],
   "source": [
    "print(p.__doc__) # 독스트링"
   ]
  },
  {
   "cell_type": "markdown",
   "id": "a582a1e3",
   "metadata": {},
   "source": [
    "# 2절. 변수와 메소드(함수)\n",
    "- 클래스변수 vs. 인스턴스변수 vs. static 변수\n",
    "- 인스턴스메소드 vs static메소드 vs 클래스메소드"
   ]
  },
  {
   "cell_type": "code",
   "execution_count": 7,
   "id": "7d86c790",
   "metadata": {},
   "outputs": [
    {
     "name": "stdout",
     "output_type": "stream",
     "text": [
      "홍길동 남자\n",
      "<class '__main__.Person'>\n"
     ]
    }
   ],
   "source": [
    "# 클래스 변수 추가 :클래스 내부에 선언되며, \n",
    "# 생성된 모든 인스턴스에서 동일한 값 가진다.\n",
    "# 클래스명.클래스변수를 수정하면 모든 인스턴스에 반영될 수 있음\n",
    "# 인스턴스.클래스변수로 수정하면 해당 인스턴스에만 반영됨\n",
    "class Person:\n",
    "    name = '홍길동'\n",
    "    gender = '남자'\n",
    "print(Person.name, Person.gender)\n",
    "print(Person)"
   ]
  },
  {
   "cell_type": "code",
   "execution_count": 8,
   "id": "b6673d33",
   "metadata": {},
   "outputs": [
    {
     "name": "stdout",
     "output_type": "stream",
     "text": [
      "클래스 영역 변수 :  홍길동 남자\n",
      "p1객체의 변수 : 홍길동 남자\n",
      "p2객체의 변수 : 홍길동 남자\n"
     ]
    }
   ],
   "source": [
    "p1 = Person()\n",
    "p2 = Person()\n",
    "print('클래스 영역 변수 : ', Person.name, Person.gender)\n",
    "print('p1객체의 변수 :', p1.name, p1.gender)\n",
    "print('p2객체의 변수 :', p2.name, p2.gender)"
   ]
  },
  {
   "cell_type": "code",
   "execution_count": 9,
   "id": "ab89b867",
   "metadata": {},
   "outputs": [
    {
     "name": "stdout",
     "output_type": "stream",
     "text": [
      "클래스 영역 변수 :  홍길동 남자\n",
      "p1객체의 변수 : 이순신 남자\n",
      "p2객체의 변수 : 홍길동 남자\n"
     ]
    }
   ],
   "source": [
    "p1.name = '이순신'\n",
    "print('클래스 영역 변수 : ', Person.name, Person.gender)\n",
    "print('p1객체의 변수 :', p1.name, p1.gender)\n",
    "print('p2객체의 변수 :', p2.name, p2.gender)"
   ]
  },
  {
   "cell_type": "code",
   "execution_count": 10,
   "id": "b81f1bef",
   "metadata": {},
   "outputs": [
    {
     "name": "stdout",
     "output_type": "stream",
     "text": [
      "클래스 영역 변수 :  유관순 여자\n",
      "p1객체의 변수 : 이순신 여자\n",
      "p2객체의 변수 : 유관순 여자\n"
     ]
    }
   ],
   "source": [
    "Person.name = '유관순'\n",
    "Person.gender = '여자'\n",
    "print('클래스 영역 변수 : ', Person.name, Person.gender)\n",
    "print('p1객체의 변수 :', p1.name, p1.gender)\n",
    "print('p2객체의 변수 :', p2.name, p2.gender)"
   ]
  },
  {
   "cell_type": "code",
   "execution_count": 11,
   "id": "85271585",
   "metadata": {},
   "outputs": [],
   "source": [
    "# 메소드 추가\n",
    "class Person:\n",
    "    name = '홍길동'\n",
    "    gender = '남자'\n",
    "    def print_info():\n",
    "        print('Person 메소드')\n",
    "        print(\"{}은 {}입니다\".format(Person.name, Person.gender))"
   ]
  },
  {
   "cell_type": "code",
   "execution_count": 12,
   "id": "7e4ff86b",
   "metadata": {},
   "outputs": [
    {
     "name": "stdout",
     "output_type": "stream",
     "text": [
      "홍길동 남자\n",
      "Person 메소드\n",
      "홍길동은 남자입니다\n"
     ]
    }
   ],
   "source": [
    "print(Person.name, Person.gender)\n",
    "Person.print_info()"
   ]
  },
  {
   "cell_type": "code",
   "execution_count": 13,
   "id": "8bcbf60a",
   "metadata": {},
   "outputs": [
    {
     "name": "stdout",
     "output_type": "stream",
     "text": [
      "클래스 영역 : 홍길동 남자\n",
      "객체 영역 : 유관순 여자\n"
     ]
    },
    {
     "ename": "TypeError",
     "evalue": "Person.print_info() takes 0 positional arguments but 1 was given",
     "output_type": "error",
     "traceback": [
      "\u001b[1;31m-----------------------------------------------------------------\u001b[0m",
      "\u001b[1;31mTypeError\u001b[0m                       Traceback (most recent call last)",
      "Cell \u001b[1;32mIn[13], line 6\u001b[0m\n\u001b[0;32m      4\u001b[0m \u001b[38;5;28mprint\u001b[39m(\u001b[38;5;124m'\u001b[39m\u001b[38;5;124m클래스 영역 :\u001b[39m\u001b[38;5;124m'\u001b[39m,Person\u001b[38;5;241m.\u001b[39mname, Person\u001b[38;5;241m.\u001b[39mgender)\n\u001b[0;32m      5\u001b[0m \u001b[38;5;28mprint\u001b[39m(\u001b[38;5;124m'\u001b[39m\u001b[38;5;124m객체 영역 :\u001b[39m\u001b[38;5;124m'\u001b[39m, p1\u001b[38;5;241m.\u001b[39mname, p1\u001b[38;5;241m.\u001b[39mgender)\n\u001b[1;32m----> 6\u001b[0m \u001b[43mp1\u001b[49m\u001b[38;5;241;43m.\u001b[39;49m\u001b[43mprint_info\u001b[49m\u001b[43m(\u001b[49m\u001b[43m)\u001b[49m\n",
      "\u001b[1;31mTypeError\u001b[0m: Person.print_info() takes 0 positional arguments but 1 was given"
     ]
    }
   ],
   "source": [
    "p1 = Person()\n",
    "p1.name = '유관순'\n",
    "p1.gender = '여자'\n",
    "print('클래스 영역 :',Person.name, Person.gender)\n",
    "print('객체 영역 :', p1.name, p1.gender)\n",
    "p1.print_info()"
   ]
  },
  {
   "cell_type": "code",
   "execution_count": null,
   "id": "5a37c3cd",
   "metadata": {},
   "outputs": [],
   "source": [
    "# 에러나는 이유는 인스턴스 메소드도 아니고, 클래스 메소드도 아니고 staticmethod도 아님\n",
    "# staticmethod처럼 실행은 가능"
   ]
  },
  {
   "cell_type": "markdown",
   "id": "25f43595",
   "metadata": {},
   "source": [
    "※ 인스턴스 메소드 & 클래스 메소드 & static 메소드\n",
    "- 인스턴스 메소드 : 첫번째 인자에 self를 꼭 명시. 객체를 통해서만 호출할 메소드\n",
    "- 클래스 메소드 : 메소드 위에 @classmethod 선언한 메소드. 첫번째 인자에 cls(clz) 꼭 명시\n",
    "- static 메소드 : 메소드 위에 @staticmethod 선언한 메소드. 디폴트 인자를 넣지 않음"
   ]
  },
  {
   "cell_type": "code",
   "execution_count": null,
   "id": "efdc2e97",
   "metadata": {},
   "outputs": [],
   "source": [
    "# 인스턴스 메소드(객체가 호출할 수 있는 함수)\n",
    "class Person:\n",
    "    name = \"홍길동\"\n",
    "    gender = \"남자\"\n",
    "    age = 30\n",
    "    # 인스턴스 메소드 선언시 첫번째 인자에 self넣고 선언.\n",
    "    # 실제 호출시에는 매개변수 self 이용 안함. self의 의미는 자바에서의 this\n",
    "    def print_info(self):\n",
    "        print('인스턴스 정보 : {}는 {}살이고, {}입니다'.format(self.name,\n",
    "                                                self.age, self.gender))\n",
    "        print('클래스 정보 : {}는 {}살이고, {}입니다'.format(Person.name,\n",
    "                                                Person.age, Person.gender))"
   ]
  },
  {
   "cell_type": "code",
   "execution_count": null,
   "id": "56fa4601",
   "metadata": {},
   "outputs": [],
   "source": [
    "print(Person.name, Person.gender, Person.age)\n",
    "p1 = Person()\n",
    "p2 = Person()\n",
    "p1.name = \"신사임당\"\n",
    "p1.print_info()"
   ]
  },
  {
   "cell_type": "code",
   "execution_count": null,
   "id": "52c3abc4",
   "metadata": {},
   "outputs": [],
   "source": [
    "Person.print_info(p1) # 이렇게는 거의 안 써요"
   ]
  },
  {
   "cell_type": "code",
   "execution_count": null,
   "id": "92229874",
   "metadata": {},
   "outputs": [],
   "source": [
    "p2.print_info()"
   ]
  },
  {
   "cell_type": "code",
   "execution_count": null,
   "id": "705d982f",
   "metadata": {},
   "outputs": [],
   "source": [
    "# 객체의 변수를 추가\n",
    "p1.address = \"서울시\"\n",
    "p1.nickname = \"곰돌이 푸\""
   ]
  },
  {
   "cell_type": "code",
   "execution_count": null,
   "id": "e3906862",
   "metadata": {},
   "outputs": [],
   "source": [
    "print(p1.name, p1.gender, p1.age, p1.address, p1.nickname)\n",
    "print(p2.name, p2.gender, p2.age)"
   ]
  },
  {
   "cell_type": "code",
   "execution_count": null,
   "id": "3ff14883",
   "metadata": {},
   "outputs": [],
   "source": [
    "p1.print_info()"
   ]
  },
  {
   "cell_type": "code",
   "execution_count": null,
   "id": "ff1d6a1f",
   "metadata": {},
   "outputs": [],
   "source": [
    "# 3가지 메소드를 다 사용\n",
    "class Person:\n",
    "    name = \"홍길동\"\n",
    "    gender = \"남자\"\n",
    "    def print_info(self): # 변수.print_info()로 호출\n",
    "        print(\"일반(인스턴스=객체) 메소드 - {}는 {}입니다\".format(self.name, \n",
    "                                                   self.gender))\n",
    "    def change_info(self, name, gender=\"남자\"): # 변수.change_info(\"신길숙\",\"여자\")로 호출\n",
    "        self.name = name\n",
    "        self.gender = gender\n",
    "        print(\"일반(인스턴드) 메소드를 통해 {}로 이름 변경 완료\".format(self.name))\n",
    "    @classmethod\n",
    "    def do_(clz): # clz == Person. 클래스 변수를 이용한 로직\n",
    "        clz.name = '신사임당' # 클래스영역의 클래스 변수 수정\n",
    "        clz.gender = '여자'\n",
    "        print(\"클래스 메소드 - {}는 {}로 클래스 변수 변경\".format(clz.name, clz.gender))\n",
    "    @staticmethod\n",
    "    def that_(): # 클래스 변수를 이용하는 경우보다는 로직이 우선일 경우\n",
    "        Person.name = \"신길동\"\n",
    "        Person.gender = \"남자\"\n",
    "        print(\"static 메소드 - {}는 {}입니다\".format(Person.name, Person.gender))"
   ]
  },
  {
   "cell_type": "code",
   "execution_count": null,
   "id": "f0c0907d",
   "metadata": {},
   "outputs": [],
   "source": [
    "p1 = Person()\n",
    "p1.print_info()\n",
    "p1.change_info(\"이순신\", \"남자\")\n",
    "p1.print_info()"
   ]
  },
  {
   "cell_type": "code",
   "execution_count": null,
   "id": "e16ced7e",
   "metadata": {},
   "outputs": [],
   "source": [
    "Person.do_() # 클래스 변수 수정\n",
    "p1.print_info()"
   ]
  },
  {
   "cell_type": "code",
   "execution_count": null,
   "id": "8a56260c",
   "metadata": {},
   "outputs": [],
   "source": [
    "p2 = Person()\n",
    "p2.print_info()"
   ]
  },
  {
   "cell_type": "code",
   "execution_count": null,
   "id": "6f6805f8",
   "metadata": {},
   "outputs": [],
   "source": [
    "Person.that_() # 클래스 변수 수정"
   ]
  },
  {
   "cell_type": "code",
   "execution_count": null,
   "id": "3a24841c",
   "metadata": {},
   "outputs": [],
   "source": [
    "p2.print_info()"
   ]
  },
  {
   "cell_type": "code",
   "execution_count": null,
   "id": "e3d3abb5",
   "metadata": {},
   "outputs": [],
   "source": [
    "Person.do_()\n",
    "p2.print_info()"
   ]
  },
  {
   "cell_type": "code",
   "execution_count": null,
   "id": "d68a9e06",
   "metadata": {},
   "outputs": [],
   "source": [
    "p2.age = 30"
   ]
  },
  {
   "cell_type": "code",
   "execution_count": null,
   "id": "9f2cd194",
   "metadata": {},
   "outputs": [],
   "source": [
    "p1.print_info()\n",
    "p2.print_info()"
   ]
  },
  {
   "cell_type": "markdown",
   "id": "c0e2d124",
   "metadata": {},
   "source": [
    "# 3절. 생성자(__init__)와 소멸자(__del__)\n",
    "```\n",
    "생성자 : __init__(self, 매개변수...) 객체가 생성될 때 자동 실행\n",
    "        생성시 필요한 코드(인스턴스 변수 초기화)를 포함\n",
    "소멸자 : __del__(self) : 객체가 소멸될 때 자동 실행\n",
    "        소멸시 필요한 코드를 포함\n",
    "        인스턴스 객체의 레퍼런스 카운트가 0이 될 때 실행\n",
    "```"
   ]
  },
  {
   "cell_type": "code",
   "execution_count": null,
   "id": "d9712c65",
   "metadata": {},
   "outputs": [],
   "source": [
    "class Person:\n",
    "    # 생성자를 이용한 인스턴스 변수 초기화\n",
    "    def __init__(self, name=\"홍길동\", gender=\"남자\"):\n",
    "        self.name = name # 인스턴스 변수\n",
    "        self.gender = gender\n",
    "        print('Person 객체를 생성합니다')\n",
    "        \n",
    "    def __del__(self):\n",
    "        print('Person 객체를 소멸합니다')\n",
    "        \n",
    "    def print_info(self):\n",
    "        print(\"{}는 {}입니다\".format(self.name, self.gender))\n",
    "        \n",
    "    def __str__(self):\n",
    "        return \"%s는 %s\" % (self.name, self.gender)"
   ]
  },
  {
   "cell_type": "code",
   "execution_count": null,
   "id": "6f6eb160",
   "metadata": {},
   "outputs": [],
   "source": [
    "p1 = Person(\"홍길동\",\"남자\")\n",
    "p2 = Person(gender=\"여자\", name=\"홍길숙\")\n",
    "p3 = Person(\"신길동\") # 성별은 기본값 '남자'로 생성\n",
    "p4 = Person(gender=\"여자\") # 이름은 기본값 '홍길동'으로 생성\n",
    "p5 = Person()"
   ]
  },
  {
   "cell_type": "code",
   "execution_count": null,
   "id": "010a9480",
   "metadata": {},
   "outputs": [],
   "source": [
    "id(p1), id(p2), id(p3), id(p4), id(p5)"
   ]
  },
  {
   "cell_type": "code",
   "execution_count": null,
   "id": "21f89144",
   "metadata": {},
   "outputs": [],
   "source": [
    "p1.print_info()\n",
    "p2.print_info()\n",
    "p3.print_info()\n",
    "p4.print_info()\n",
    "p5.print_info()"
   ]
  },
  {
   "cell_type": "code",
   "execution_count": null,
   "id": "6426d4d1",
   "metadata": {},
   "outputs": [],
   "source": [
    "print('p1 =', p1) # p1.__str__() 자동 호출\n",
    "print('p2 =', p2)\n",
    "print('p3 =', p3)\n",
    "print('p4 =', p4)\n",
    "print('p5 =', p5)"
   ]
  },
  {
   "cell_type": "code",
   "execution_count": null,
   "id": "c2204ec3",
   "metadata": {},
   "outputs": [],
   "source": [
    "del p5"
   ]
  },
  {
   "cell_type": "code",
   "execution_count": null,
   "id": "40ad1278",
   "metadata": {},
   "outputs": [],
   "source": [
    "del p2, p3, p4"
   ]
  },
  {
   "cell_type": "code",
   "execution_count": null,
   "id": "d7358338",
   "metadata": {},
   "outputs": [],
   "source": [
    "print(p1)"
   ]
  },
  {
   "cell_type": "code",
   "execution_count": null,
   "id": "d0d8b004",
   "metadata": {},
   "outputs": [],
   "source": [
    "p2 = p1"
   ]
  },
  {
   "cell_type": "code",
   "execution_count": null,
   "id": "e2fe93c9",
   "metadata": {},
   "outputs": [],
   "source": [
    "id(p1), id(p2) # 한객체를 두 인스턴스 변수가 참조(객체의 레퍼런스 카운트가 2)"
   ]
  },
  {
   "cell_type": "code",
   "execution_count": null,
   "id": "33b59321",
   "metadata": {},
   "outputs": [],
   "source": [
    "del p1 # 객체 레퍼런스 카운트가 1이여서 소멸자 생성 안 함"
   ]
  },
  {
   "cell_type": "code",
   "execution_count": null,
   "id": "95ee0754",
   "metadata": {},
   "outputs": [],
   "source": [
    "del p2"
   ]
  },
  {
   "cell_type": "markdown",
   "id": "3223d8a4",
   "metadata": {},
   "source": [
    "# 4절. static 변수\n",
    "- 변수종류 : \n",
    "    * 인스턴스변수 : 생성자를 통함\n",
    "    * 클래스변수 : 클래스내선언\n",
    "    * static 변수 : 클래스 내에 선언한 변수 중 변수명앞에 __(under score 2개)를 붙임\n",
    "```\n",
    "        변수명앞에 __을 붙이면, 클래스명._클래스명__static변수명으로 참조함\n",
    "        클래스 변수는 클래스나 인스턴스에서 바로 접근 가능.\n",
    "        반면, __로 시작하는 변수는 바로 접근 불가하고 클래스명._클래스명__static변수명으로 \n",
    "        접근해야 하므로 외부에서 실수로 접근하거나 변경하는 것을 방지\n",
    "        static 변수는 클래스 내부에서만 접근하도록 하려는 의도를 전달하는 용도로 씀\n",
    "```"
   ]
  },
  {
   "cell_type": "code",
   "execution_count": null,
   "id": "73d9966b",
   "metadata": {},
   "outputs": [],
   "source": [
    "class Person:\n",
    "    name = \"홍길동\"\n",
    "    __count = 0\n",
    "p = Person()\n",
    "p.name"
   ]
  },
  {
   "cell_type": "code",
   "execution_count": null,
   "id": "40926f14",
   "metadata": {},
   "outputs": [],
   "source": [
    "Person._Person__count"
   ]
  },
  {
   "cell_type": "markdown",
   "id": "96e402c1",
   "metadata": {},
   "source": [
    "# 5절. 상속과 재정의"
   ]
  },
  {
   "cell_type": "code",
   "execution_count": null,
   "id": "db1a008a",
   "metadata": {},
   "outputs": [],
   "source": [
    "class Cal:\n",
    "    def __init__(self, num1=1, num2=2):\n",
    "        print('두수를 초기화')\n",
    "        self.num1 = num1\n",
    "        self.num2 = num2\n",
    "    def add(self):\n",
    "        return self.num1+self.num2\n",
    "    def sub(self):\n",
    "        return self.num1-self.num2 if self.num1>self.num2 else self.num2-self.num1\n",
    "#         if self.num1>self.num2:\n",
    "#             return self.num1-self.num2\n",
    "#         else:\n",
    "#             return self.num2-self.num1\n",
    "    def __str__(self):\n",
    "        return 'num1은 %d, num2는 %d' % (self.num1, self.num2)\n",
    "\n",
    "class Cal_inherit(Cal):\n",
    "    def mul(self):\n",
    "        return self.num1*self.num2\n",
    "obj = Cal_inherit(2, 2)\n",
    "print(obj)"
   ]
  },
  {
   "cell_type": "code",
   "execution_count": null,
   "id": "9cd1e17a",
   "metadata": {},
   "outputs": [],
   "source": [
    "print(obj.add())\n",
    "print(obj.sub())\n",
    "print(obj.mul())"
   ]
  },
  {
   "cell_type": "code",
   "execution_count": null,
   "id": "ad8824c5",
   "metadata": {},
   "outputs": [],
   "source": [
    "class Person:\n",
    "    'Person은 이름과 성별 멤버변수가 있고, 어쩌구 저쩌구....'\n",
    "    def __init__(self, name, gender):\n",
    "        print('Person 객체 생성합니다')\n",
    "        self.name = name\n",
    "        self.gender = gender\n",
    "    def __del__(self):\n",
    "        print('Person 객체 소멸됩니다')\n",
    "    def print_info(self):\n",
    "        '객체 이름과 성별을 출력합니다'\n",
    "        print('{}님은 {}입니다'.format(self.name, self.gender))\n",
    "    def __str__(self):\n",
    "        return '{}님은 {}입니다'.format(self.name, self.gender)"
   ]
  },
  {
   "cell_type": "markdown",
   "id": "dcbb7001",
   "metadata": {},
   "source": [
    "## super() 이용"
   ]
  },
  {
   "cell_type": "code",
   "execution_count": null,
   "id": "e82702c0",
   "metadata": {},
   "outputs": [],
   "source": [
    "class Student(Person):\n",
    "    'name과 gender(상속받음)에 major변수를 갖는 Student 타입'\n",
    "    def __init__(self, name, gender, major):\n",
    "        # 부모클래스의 생성자를 호출해서 name과 gender초기화\n",
    "        # Person.__init__(self, name, gender)\n",
    "        super().__init__(name, gender)\n",
    "        self.major = major\n",
    "    def __del__(self):\n",
    "        pass\n",
    "    def print_info(self): # 재정의(override)\n",
    "#         print(\"{}는 {}입니다\\n 전공은 {}입니다\".format(self.name, \n",
    "#                                              self.gender, self.major)\n",
    "        super().print_info() # 상위 클래스 Person의 print_info()\n",
    "        print(\"전공은 {}입니다\".format(self.major))\n",
    "    def __str__(self):\n",
    "        return super().__str__() + \" 그리고 전공은 {}입니다\".format(self.major)\n",
    "        # return Person.__str__(self) + \"그리고 전공은 {}입니다\".format(self.major)"
   ]
  },
  {
   "cell_type": "code",
   "execution_count": null,
   "id": "fbf27348",
   "metadata": {},
   "outputs": [],
   "source": [
    "s1 = Student(\"홍길동\", \"남자\", \"AI 빅데이터\")\n",
    "print(s1)"
   ]
  },
  {
   "cell_type": "code",
   "execution_count": null,
   "id": "343d208b",
   "metadata": {},
   "outputs": [],
   "source": [
    "s1.print_info()"
   ]
  },
  {
   "cell_type": "code",
   "execution_count": null,
   "id": "8db8256a",
   "metadata": {},
   "outputs": [],
   "source": [
    "print(isinstance(s1, Student))\n",
    "print(isinstance(s1, Person))"
   ]
  },
  {
   "cell_type": "markdown",
   "id": "fe355ddf",
   "metadata": {},
   "source": [
    "## 상속과 static 변수 활용"
   ]
  },
  {
   "cell_type": "code",
   "execution_count": 11,
   "id": "7a5ce40f",
   "metadata": {},
   "outputs": [],
   "source": [
    "class Person:\n",
    "    'Person = name, gender'\n",
    "    def __init__(self, name, gender):\n",
    "        self.name = name\n",
    "        self.gender = gender\n",
    "    def print_info(self): # 추상메소드 흉내\n",
    "        raise Exception('이 메소드는 반드시 구현되어야 합니다')\n",
    "    def __str__(self):\n",
    "        return '{}님은 {}'.format(self.name, self.gender)\n",
    "class Student(Person):\n",
    "    '''\n",
    "    name과 gender(상속)에 major변수는 갖는 Student 타입\n",
    "    객체 생성마다 몇번째 객체인지 저장(static 변수)\n",
    "    '''\n",
    "    __count = 0 # static 변수(객체 갯수가 저장될 변수)\n",
    "    # 변수명앞에 __붙으면, \"클래스명._클래스명__static변수\"로 사용\n",
    "    def __init__(self, name, gender, major):\n",
    "        Student._Student__count += 1 # __count += 1 은 불가\n",
    "        # Person.__init__(self, name, gender)\n",
    "        super().__init__(name, gender)\n",
    "        self.major = major\n",
    "    def __del__(self):\n",
    "        Student._Student__count -= 1\n",
    "        # 객체가 생성될 때마다 __count 1 증가\n",
    "        # 객체가 소멸될 때마다 __count 1 감소\n",
    "    def print_info(self):\n",
    "        print(\"{}님은 {}, 전공은 {}입니다 - 이상 {}번째 인스턴스입니다\".format(self.name,\n",
    "                   self.gender, self.major, Student._Student__count))\n",
    "    def __str__(self):\n",
    "        # return Person.__str__(self)\n",
    "        return super().__str__() + ', 전공은 {}입니다'.format(self.major)\n",
    "    @classmethod\n",
    "    def get_count(cls):\n",
    "        return Student._Student__count\n",
    "#         return cls._Student__count"
   ]
  },
  {
   "cell_type": "code",
   "execution_count": 12,
   "id": "4dff988d",
   "metadata": {},
   "outputs": [
    {
     "name": "stdout",
     "output_type": "stream",
     "text": [
      "홍길동님은 남자\n"
     ]
    }
   ],
   "source": [
    "p = Person(\"홍길동\",\"남자\")\n",
    "print(p)"
   ]
  },
  {
   "cell_type": "code",
   "execution_count": 13,
   "id": "b0307585",
   "metadata": {},
   "outputs": [],
   "source": [
    "# p.print_info() 강제 예외 발생"
   ]
  },
  {
   "cell_type": "code",
   "execution_count": 14,
   "id": "11297f33",
   "metadata": {},
   "outputs": [
    {
     "name": "stdout",
     "output_type": "stream",
     "text": [
      "홍학생님은 남자, 전공은 AI 빅데이터입니다\n",
      "객체의 갯수 : 1\n",
      "객체의 갯수 : 1\n"
     ]
    }
   ],
   "source": [
    "s1 = Student(\"홍학생\",\"남자\",\"AI 빅데이터\")\n",
    "print(s1)\n",
    "print('객체의 갯수 :', Student.get_count())\n",
    "print('객체의 갯수 :', Student._Student__count)"
   ]
  },
  {
   "cell_type": "code",
   "execution_count": 15,
   "id": "6b5c512f",
   "metadata": {},
   "outputs": [
    {
     "name": "stdout",
     "output_type": "stream",
     "text": [
      "홍학생님은 남자, 전공은 AI 빅데이터입니다 - 이상 1번째 인스턴스입니다\n"
     ]
    }
   ],
   "source": [
    "s1.print_info()"
   ]
  },
  {
   "cell_type": "code",
   "execution_count": 16,
   "id": "e9e6d482",
   "metadata": {},
   "outputs": [
    {
     "name": "stdout",
     "output_type": "stream",
     "text": [
      "신길숙님은 여자, 전공은 통계학입니다 - 이상 2번째 인스턴스입니다\n",
      "객체 갯수 : 2\n"
     ]
    }
   ],
   "source": [
    "s2 = Student(\"신길숙\",\"여자\",\"통계학\")\n",
    "s2.print_info()\n",
    "print('객체 갯수 :', Student.get_count())"
   ]
  },
  {
   "cell_type": "code",
   "execution_count": 17,
   "id": "be6531b2",
   "metadata": {},
   "outputs": [
    {
     "data": {
      "text/plain": [
       "{'name': '신길숙', 'gender': '여자', 'major': '통계학'}"
      ]
     },
     "execution_count": 17,
     "metadata": {},
     "output_type": "execute_result"
    }
   ],
   "source": [
    "s2.__dict__ # 클래스의 멤버 변수들을 딕셔너리 형태로 출력"
   ]
  },
  {
   "cell_type": "code",
   "execution_count": 18,
   "id": "636bc249",
   "metadata": {},
   "outputs": [
    {
     "name": "stdout",
     "output_type": "stream",
     "text": [
      "객체 갯수 :  1\n"
     ]
    }
   ],
   "source": [
    "del s1\n",
    "print('객체 갯수 : ', Student.get_count())"
   ]
  },
  {
   "cell_type": "code",
   "execution_count": 24,
   "id": "5f2cf8bd",
   "metadata": {},
   "outputs": [
    {
     "data": {
      "text/plain": [
       "(True, True)"
      ]
     },
     "execution_count": 24,
     "metadata": {},
     "output_type": "execute_result"
    }
   ],
   "source": [
    "isinstance(s2, Student), isinstance(s2, Person)"
   ]
  },
  {
   "cell_type": "code",
   "execution_count": 19,
   "id": "70d55fb3",
   "metadata": {},
   "outputs": [],
   "source": [
    "class Product:\n",
    "    __count = 100\n",
    "    def __init__(self, name, price):\n",
    "        Product._Product__count += 1\n",
    "        self.serialno = Product._Product__count\n",
    "        self.name = name\n",
    "        self.price = price\n",
    "    def __str__(self):\n",
    "        return 'serialNo : {}\\n상품명 : {}\\n가격 : {}'.format(self.serialno,\n",
    "                                                        self.name, self.price)"
   ]
  },
  {
   "cell_type": "code",
   "execution_count": 20,
   "id": "d66eca40",
   "metadata": {},
   "outputs": [],
   "source": [
    "p1 = Product('새우깡', 1600)\n",
    "p2 = Product('양파깡', 1800)\n",
    "p3 = Product('페르로쉐', 10000)"
   ]
  },
  {
   "cell_type": "code",
   "execution_count": 21,
   "id": "bdab9135",
   "metadata": {},
   "outputs": [
    {
     "name": "stdout",
     "output_type": "stream",
     "text": [
      "serialNo : 101\n",
      "상품명 : 새우깡\n",
      "가격 : 1600\n",
      "serialNo : 102\n",
      "상품명 : 양파깡\n",
      "가격 : 1800\n",
      "serialNo : 103\n",
      "상품명 : 페르로쉐\n",
      "가격 : 10000\n"
     ]
    }
   ],
   "source": [
    "print(p1)\n",
    "print(p2)\n",
    "print(p3)"
   ]
  },
  {
   "cell_type": "code",
   "execution_count": 22,
   "id": "54006c3e",
   "metadata": {},
   "outputs": [
    {
     "name": "stdout",
     "output_type": "stream",
     "text": [
      "생성된 최종 시리얼 번호 : 103\n"
     ]
    }
   ],
   "source": [
    "print('생성된 최종 시리얼 번호 :', Product._Product__count)"
   ]
  },
  {
   "cell_type": "markdown",
   "id": "8df70d58",
   "metadata": {},
   "source": [
    "# 6절. 연습문제"
   ]
  },
  {
   "cell_type": "markdown",
   "id": "96cf328c",
   "metadata": {},
   "source": [
    "## 실습형"
   ]
  },
  {
   "cell_type": "code",
   "execution_count": 3,
   "id": "9eb05adf",
   "metadata": {},
   "outputs": [],
   "source": [
    "# 1.\n",
    "class Shape:\n",
    "    def __init__(self, x=0, y=0):\n",
    "        self.x = x\n",
    "        self.y = y\n",
    "    def __str__(self):\n",
    "        return \"x좌표값:{}, y좌표값:{}\".format(self.x, self.y)\n",
    "    def move(self, x, y):\n",
    "        self.x += x\n",
    "        self.y += y\n",
    "    def calc_area(self): # 추상메소드 흉내(파이썬에서는 추상메소드는 없음)\n",
    "        raise Exception(\"이 메소드는 반드시 구현되어야 합니다\")\n",
    "    @staticmethod\n",
    "    def staticmethod_():\n",
    "        print(\"도형 클래스 staticmethod 호출\")"
   ]
  },
  {
   "cell_type": "code",
   "execution_count": 4,
   "id": "2d952699",
   "metadata": {},
   "outputs": [
    {
     "name": "stdout",
     "output_type": "stream",
     "text": [
      "x좌표값:2, y좌표값:2\n",
      "x좌표값:12, y좌표값:7\n"
     ]
    }
   ],
   "source": [
    "s = Shape(2,2)\n",
    "print(s)\n",
    "s.move(10,5)\n",
    "print(s)\n",
    "# s.calc_area() # 추상메소드역할을 하도록 하여 에러남"
   ]
  },
  {
   "cell_type": "code",
   "execution_count": 5,
   "id": "d65229c9",
   "metadata": {},
   "outputs": [
    {
     "name": "stdout",
     "output_type": "stream",
     "text": [
      "도형 클래스 staticmethod 호출\n",
      "도형 클래스 staticmethod 호출\n"
     ]
    }
   ],
   "source": [
    "Shape.staticmethod_()\n",
    "s.staticmethod_()"
   ]
  },
  {
   "cell_type": "code",
   "execution_count": 7,
   "id": "0b0fc7ae",
   "metadata": {},
   "outputs": [],
   "source": [
    "class Triangle(Shape):\n",
    "    __count = 0\n",
    "    def __init__(self, width, height, x=0, y=0):\n",
    "        Triangle._Triangle__count += 1\n",
    "        # Shape.__init__(self, x, y)\n",
    "        super().__init__(x, y)\n",
    "        self.width = width\n",
    "        self.height = height    \n",
    "    def __del__(self):\n",
    "        Triangle._Triangle__count -= 1        \n",
    "    def __str__(self):\n",
    "        return super().__str__() + \\\n",
    "            \", width:{}, height:{}, area:{}\".\\\n",
    "            format(self.width, self.height, self.calc_area())    \n",
    "    def calc_area(self):\n",
    "        return (self.width*self.height)/2    \n",
    "    @classmethod\n",
    "    def get_count(cls):\n",
    "        # return cls._Triangle__count\n",
    "        # return cls.__count\n",
    "        return Triangle._Triangle__count"
   ]
  },
  {
   "cell_type": "code",
   "execution_count": 8,
   "id": "4cb2a808",
   "metadata": {},
   "outputs": [
    {
     "name": "stdout",
     "output_type": "stream",
     "text": [
      "x좌표값:0, y좌표값:10, width:4, height:3, area:6.0\n",
      "x좌표값:0, y좌표값:0, width:10, height:20, area:100.0\n",
      "x좌표값:1, y좌표값:2, width:3, height:4, area:6.0\n",
      "x좌표값:12, y좌표값:11, width:3, height:4, area:6.0\n",
      "x좌표값:5, y좌표값:0, width:10, height:5, area:25.0\n"
     ]
    }
   ],
   "source": [
    "t1 = Triangle(4, 3, y=10)\n",
    "t2 = Triangle(10, 20)\n",
    "t3 = Triangle(3, 4, 1, 2)\n",
    "t4 = Triangle(3, 4, y=11, x=12)\n",
    "t5 = Triangle(10, 5, 5)\n",
    "print(t1)\n",
    "print(t2)\n",
    "print(t3)\n",
    "print(t4)\n",
    "print(t5)"
   ]
  },
  {
   "cell_type": "code",
   "execution_count": 9,
   "id": "cba39804",
   "metadata": {},
   "outputs": [
    {
     "name": "stdout",
     "output_type": "stream",
     "text": [
      "Triangle 객체 갯수 : 5\n"
     ]
    }
   ],
   "source": [
    "print('Triangle 객체 갯수 :', Triangle.get_count())"
   ]
  },
  {
   "cell_type": "code",
   "execution_count": 10,
   "id": "0619c333",
   "metadata": {},
   "outputs": [
    {
     "name": "stdout",
     "output_type": "stream",
     "text": [
      "이동 전 t1 : x좌표값:0, y좌표값:10, width:4, height:3, area:6.0\n",
      "이동 후 t1 : x좌표값:50, y좌표값:60, width:4, height:3, area:6.0\n"
     ]
    }
   ],
   "source": [
    "print('이동 전 t1 :', t1)\n",
    "t1.move(50,50)\n",
    "print('이동 후 t1 :', t1)"
   ]
  },
  {
   "cell_type": "code",
   "execution_count": 11,
   "id": "e20cc4ec",
   "metadata": {},
   "outputs": [
    {
     "data": {
      "text/plain": [
       "2"
      ]
     },
     "execution_count": 11,
     "metadata": {},
     "output_type": "execute_result"
    }
   ],
   "source": [
    "del t2, t3, t4\n",
    "Triangle.get_count()"
   ]
  },
  {
   "cell_type": "markdown",
   "id": "f0f4de85",
   "metadata": {},
   "source": [
    "## 서술형"
   ]
  },
  {
   "cell_type": "code",
   "execution_count": 11,
   "id": "3622db6e",
   "metadata": {},
   "outputs": [],
   "source": [
    "# 1 클래스 정의 방법 (1) class Person:\n",
    "# 2 객체생성방법 (2) p1 = Person()\n",
    "# 3 메소드 선언중 바른 것 (4) def print_info(self)\n",
    "# 4 잘못된 것 (1) 생성자는 중복(overloading) 정의해서 사용할 수 있다\n",
    "# 5 Student is a Person은 (2) class Student(Person)\n",
    "# 6 잘못된 것 (3) 재정의는 메소드의 이름은 같고, 매개변수의 수는 다르게 정의해야 한다"
   ]
  },
  {
   "cell_type": "code",
   "execution_count": 17,
   "id": "7eca8b49",
   "metadata": {},
   "outputs": [
    {
     "name": "stdout",
     "output_type": "stream",
     "text": [
      "method_a\n",
      "method_b\n",
      "method_b\n"
     ]
    }
   ],
   "source": [
    "# 7 잘못된 것 (3)\n",
    "class SomeClass:\n",
    "    def method_a(self):\n",
    "        print(\"method_a\")\n",
    "    @classmethod\n",
    "    def method_b(cls):\n",
    "        print(\"method_b\")\n",
    "obj = SomeClass()\n",
    "obj.method_a() # 1\n",
    "obj.method_b() # 2\n",
    "# SomeClass.method_a() # 3\n",
    "SomeClass.method_b() # 4"
   ]
  },
  {
   "cell_type": "code",
   "execution_count": 9,
   "id": "c5291e80",
   "metadata": {},
   "outputs": [],
   "source": [
    "# 쓸 수 없는 것 8 (3)super.do_(a)\n",
    "class Super:\n",
    "    def do_(self, a):\n",
    "        print(\"super.do_\")\n",
    "class Sub(Super):\n",
    "    def do_(self, a):\n",
    "        #Super.do_(self, a)\n",
    "        super().do_(a)\n",
    "        print(\"sub.do_\")"
   ]
  },
  {
   "cell_type": "code",
   "execution_count": 10,
   "id": "8a137a57",
   "metadata": {},
   "outputs": [
    {
     "name": "stdout",
     "output_type": "stream",
     "text": [
      "super.do_\n",
      "sub.do_\n"
     ]
    }
   ],
   "source": [
    "s1 = Sub()\n",
    "s1.do_(10)"
   ]
  },
  {
   "cell_type": "code",
   "execution_count": 5,
   "id": "383415fc",
   "metadata": {},
   "outputs": [],
   "source": [
    "# 9 잘못된 것 (2)__str__()메소드는 print()함수의 인자로 객체를 전달할 때 호출되는 메소드이다. \n",
    "                # 이 메소드는 매개변수를 가질 수 없다 (->self 매개변수를 가져야 함)\n",
    "class Person:\n",
    "    '테스트 클래스입니다'\n",
    "    def __init__(self, name=\"홍길동\", gender=\"남\"):\n",
    "        self.name = name\n",
    "        self.gender = gender\n",
    "    def __del__(self):\n",
    "        pass\n",
    "    def __str__(self):\n",
    "        return \"이름은 \"+self.name\n",
    "    def print_info(self):\n",
    "        print(self.name)"
   ]
  },
  {
   "cell_type": "code",
   "execution_count": 6,
   "id": "7a92b142",
   "metadata": {},
   "outputs": [
    {
     "name": "stdout",
     "output_type": "stream",
     "text": [
      "이름은 홍길동\n"
     ]
    }
   ],
   "source": [
    "p = Person()\n",
    "print(p)"
   ]
  },
  {
   "cell_type": "code",
   "execution_count": 7,
   "id": "3716ee88",
   "metadata": {},
   "outputs": [
    {
     "data": {
      "text/plain": [
       "{'name': '홍길동', 'gender': '남'}"
      ]
     },
     "execution_count": 7,
     "metadata": {},
     "output_type": "execute_result"
    }
   ],
   "source": [
    "p.__dict__"
   ]
  },
  {
   "cell_type": "code",
   "execution_count": 8,
   "id": "9f11d439",
   "metadata": {},
   "outputs": [
    {
     "data": {
      "text/plain": [
       "'테스트 클래스입니다'"
      ]
     },
     "execution_count": 8,
     "metadata": {},
     "output_type": "execute_result"
    }
   ],
   "source": [
    "p.__doc__"
   ]
  },
  {
   "cell_type": "code",
   "execution_count": null,
   "id": "750149cc",
   "metadata": {},
   "outputs": [],
   "source": []
  }
 ],
 "metadata": {
  "kernelspec": {
   "display_name": "Python 3 (ipykernel)",
   "language": "python",
   "name": "python3"
  },
  "language_info": {
   "codemirror_mode": {
    "name": "ipython",
    "version": 3
   },
   "file_extension": ".py",
   "mimetype": "text/x-python",
   "name": "python",
   "nbconvert_exporter": "python",
   "pygments_lexer": "ipython3",
   "version": "3.10.9"
  },
  "toc": {
   "base_numbering": 1,
   "nav_menu": {},
   "number_sections": true,
   "sideBar": true,
   "skip_h1_title": false,
   "title_cell": "Table of Contents",
   "title_sidebar": "Contents",
   "toc_cell": false,
   "toc_position": {
    "height": "calc(100% - 180px)",
    "left": "10px",
    "top": "150px",
    "width": "165px"
   },
   "toc_section_display": true,
   "toc_window_display": true
  }
 },
 "nbformat": 4,
 "nbformat_minor": 5
}
