{
 "cells": [
  {
   "cell_type": "code",
   "execution_count": 92,
   "id": "de7e8f8d",
   "metadata": {},
   "outputs": [
    {
     "data": {
      "text/html": [
       "\n",
       "<style>\n",
       "div.container{width:99% !important;}\n",
       "div.cell.code_cell.rendered{width:99%;}\n",
       "div.CodeMirror {font-family:Consolas; font-size:18pt;}\n",
       "div.output {font-size:19pt; font-weight:bold;}\n",
       "div.input {font-family:Consolas; font-size:19pt;}\n",
       "div.prompt {min-width:70px;}\n",
       "div#toc-wrapper{padding-top:120px;}\n",
       "span.toc-item-num{display:none;}\n",
       "div.text_cell_render ul li{font-size:16pt;padding:5px;}\n",
       "div.CodeMirror-lines > div {padding-left:10px;}\n",
       "table.dataframe{font-size:18px;}\n",
       "</style>\n"
      ],
      "text/plain": [
       "<IPython.core.display.HTML object>"
      ]
     },
     "metadata": {},
     "output_type": "display_data"
    }
   ],
   "source": [
    "from IPython.display import display, HTML\n",
    "display(HTML(\"\"\"\n",
    "<style>\n",
    "div.container{width:99% !important;}\n",
    "div.cell.code_cell.rendered{width:99%;}\n",
    "div.CodeMirror {font-family:Consolas; font-size:18pt;}\n",
    "div.output {font-size:19pt; font-weight:bold;}\n",
    "div.input {font-family:Consolas; font-size:19pt;}\n",
    "div.prompt {min-width:70px;}\n",
    "div#toc-wrapper{padding-top:120px;}\n",
    "span.toc-item-num{display:none;}\n",
    "div.text_cell_render ul li{font-size:16pt;padding:5px;}\n",
    "div.CodeMirror-lines > div {padding-left:10px;}\n",
    "table.dataframe{font-size:18px;}\n",
    "</style>\n",
    "\"\"\"))"
   ]
  },
  {
   "cell_type": "markdown",
   "id": "0b7a50a3",
   "metadata": {},
   "source": [
    "<b><font color=\"red\" size=\"6\">ch14. 웹데이터 수집</font></b>\n",
    "# 1절. BeautifulSoup과 parser\n",
    "\n",
    "` pip install bs4` 아나콘다를 설치하면 자동 설치되는 패키지 7500개에 포함\n",
    "\n",
    "- 공식 사이트 ▪ https://www.crummy.com/software/BeautifulSoup/\n",
    "- Documentation ▪ https://www.crummy.com/software/BeautifulSoup/bs4/doc/"
   ]
  },
  {
   "cell_type": "code",
   "execution_count": 2,
   "id": "92aa6999",
   "metadata": {},
   "outputs": [],
   "source": [
    "import requests\n",
    "from requests_file import FileAdapter"
   ]
  },
  {
   "cell_type": "code",
   "execution_count": 3,
   "id": "f1e98f8d",
   "metadata": {},
   "outputs": [
    {
     "data": {
      "text/plain": [
       "<Response [200]>"
      ]
     },
     "execution_count": 3,
     "metadata": {},
     "output_type": "execute_result"
    }
   ],
   "source": [
    "s = requests.Session() # HTTP 요청관리를 위한 세션 객체\n",
    "s.mount(\"file://\", FileAdapter())\n",
    "response = s.get('file:///ai/source/07_python/ch14_sample.html')\n",
    "response"
   ]
  },
  {
   "cell_type": "code",
   "execution_count": 4,
   "id": "1cf45a17",
   "metadata": {},
   "outputs": [
    {
     "data": {
      "text/plain": [
       "b'<!DOCTYPE html>\\r\\n<html lang=\"en\">\\r\\n<head>\\r\\n  <meta charset=\"UTF-8\">\\r\\n</head>\\r\\n<body>\\r\\n  <h1 class=\"greeting css\" id=\"text\">Hello, CSS</h1>\\r\\n  <h1 class=\"css\">Hi, CSS</h1>\\r\\n  <div id=\"subject\">subject \\xec\\x84\\xa0\\xed\\x83\\x9d\\xec\\x9e\\x90 \\xec\\x95\\x88\\xec\\x9d\\x98 \\xeb\\x82\\xb4\\xec\\x9a\\xa9</div>\\r\\n  <p>CSS \\xec\\x84\\xa0\\xed\\x83\\x9d\\xec\\x9e\\x90\\xeb\\x8a\\x94 \\xeb\\x8b\\xa4\\xec\\x96\\x91\\xed\\x95\\x9c \\xea\\xb3\\xb3\\xec\\x97\\x90\\xec\\x84\\x9c \\xed\\x99\\x9c\\xec\\x9a\\xa9\\xeb\\x90\\xa9\\xeb\\x8b\\x88\\xeb\\x8b\\xa4</p>\\r\\n  <div class=\"contents\">\\r\\n    \\xec\\x84\\xa0\\xed\\x83\\x9d\\xec\\x9e\\x90\\xeb\\xa5\\xbc \\xec\\x96\\xb4\\xeb\\x96\\xbb\\xea\\xb2\\x8c \\xec\\x9e\\x91\\xec\\x84\\xb1\\xed\\x95\\x98\\xeb\\x8a\\x90\\xeb\\x83\\x90\\xec\\x97\\x90 \\xeb\\x94\\xb0\\xeb\\x9d\\xbc\\r\\n    <span>\\xeb\\x8b\\xa4\\xeb\\xa5\\xb8<b>\\xec\\x9a\\x94\\xec\\x86\\x8c\\xea\\xb0\\x80 \\xeb\\xb0\\x98\\xed\\x99\\x98</b></span>\\xeb\\x90\\xa9\\xeb\\x8b\\x88\\xeb\\x8b\\xa4\\r\\n  </div>\\r\\n  <div>CSS \\xec\\x84\\xa0\\xed\\x83\\x9d\\xec\\x9e\\x90\\xeb\\x8a\\x94 \\xeb\\x8b\\xa4\\xec\\x96\\x91\\xed\\x95\\x9c \\xea\\xb3\\xb3\\xec\\x97\\x90 <b>\\xed\\x99\\x9c\\xec\\x9a\\xa9</b>\\xeb\\x90\\xa9\\xeb\\x8b\\x88\\xeb\\x8b\\xa4</div>\\r\\n</body>\\r\\n</html>'"
      ]
     },
     "execution_count": 4,
     "metadata": {},
     "output_type": "execute_result"
    }
   ],
   "source": [
    "ex = response.content\n",
    "ex"
   ]
  },
  {
   "cell_type": "code",
   "execution_count": 6,
   "id": "db525edd",
   "metadata": {},
   "outputs": [
    {
     "data": {
      "text/plain": [
       "'<!DOCTYPE html>\\r\\n<html lang=\"en\">\\r\\n<head>\\r\\n  <meta charset=\"UTF-8\">\\r\\n</head>\\r\\n<body>\\r\\n  <h1 class=\"greeting css\" id=\"text\">Hello, CSS</h1>\\r\\n  <h1 class=\"css\">Hi, CSS</h1>\\r\\n  <div id=\"subject\">subject 선택자 안의 내용</div>\\r\\n  <p>CSS 선택자는 다양한 곳에서 활용됩니다</p>\\r\\n  <div class=\"contents\">\\r\\n    선택자를 어떻게 작성하느냐에 따라\\r\\n    <span>다른<b>요소가 반환</b></span>됩니다\\r\\n  </div>\\r\\n  <div>CSS 선택자는 다양한 곳에 <b>활용</b>됩니다</div>\\r\\n</body>\\r\\n</html>'"
      ]
     },
     "execution_count": 6,
     "metadata": {},
     "output_type": "execute_result"
    }
   ],
   "source": [
    "response.content.decode('UTF-8')"
   ]
  },
  {
   "cell_type": "code",
   "execution_count": 7,
   "id": "5fb7c659",
   "metadata": {},
   "outputs": [
    {
     "data": {
      "text/plain": [
       "'<!DOCTYPE html>\\r\\n<html lang=\"en\">\\r\\n<head>\\r\\n  <meta charset=\"UTF-8\">\\r\\n</head>\\r\\n<body>\\r\\n  <h1 class=\"greeting css\" id=\"text\">Hello, CSS</h1>\\r\\n  <h1 class=\"css\">Hi, CSS</h1>\\r\\n  <div id=\"subject\">subject 선택자 안의 내용</div>\\r\\n  <p>CSS 선택자는 다양한 곳에서 활용됩니다</p>\\r\\n  <div class=\"contents\">\\r\\n    선택자를 어떻게 작성하느냐에 따라\\r\\n    <span>다른<b>요소가 반환</b></span>됩니다\\r\\n  </div>\\r\\n  <div>CSS 선택자는 다양한 곳에 <b>활용</b>됩니다</div>\\r\\n</body>\\r\\n</html>'"
      ]
     },
     "execution_count": 7,
     "metadata": {},
     "output_type": "execute_result"
    }
   ],
   "source": [
    "response.text"
   ]
  },
  {
   "cell_type": "code",
   "execution_count": 9,
   "id": "03376916",
   "metadata": {},
   "outputs": [],
   "source": [
    "# html 파싱\n",
    "from bs4 import BeautifulSoup\n",
    "soup = BeautifulSoup(response.content, # response.text\n",
    "                    \"html.parser\")\n",
    "# soup"
   ]
  },
  {
   "cell_type": "code",
   "execution_count": 15,
   "id": "f073a934",
   "metadata": {},
   "outputs": [
    {
     "name": "stdout",
     "output_type": "stream",
     "text": [
      "el : <h1 class=\"greeting css\" id=\"text\">Hello, CSS</h1>\n",
      "el.text : Hello, CSS\n",
      "el.string : Hello, CSS\n",
      "el의 속성들 : {'class': ['greeting', 'css'], 'id': 'text'}\n",
      "el의 class 속성 : ['greeting', 'css']\n",
      "el의 name : h1\n"
     ]
    }
   ],
   "source": [
    "# soup.select_one('선택자') : 해당 선택자 처음 하나만\n",
    "el = soup.select_one('h1') # 처음 나오는 h1태그 하나만\n",
    "print('el :', el)\n",
    "print('el.text :', el.text)\n",
    "print('el.string :', el.string)\n",
    "print('el의 속성들 :', el.attrs)\n",
    "print('el의 class 속성 :', el.attrs['class']) #class 속성은 하나라도 list로 생성\n",
    "print('el의 name :', el.name)"
   ]
  },
  {
   "cell_type": "code",
   "execution_count": 22,
   "id": "e1bbe2f5",
   "metadata": {},
   "outputs": [
    {
     "name": "stdout",
     "output_type": "stream",
     "text": [
      "el : [<h1 class=\"greeting css\" id=\"text\">Hello, CSS</h1>, <h1 class=\"css\">Hi, CSS</h1>]\n",
      "el들의 text : ['Hello, CSS', 'Hi, CSS']\n",
      "el들의 string : ['Hello, CSS', 'Hi, CSS']\n",
      "el들의 속성들 : [{'class': ['greeting', 'css'], 'id': 'text'}, {'class': ['css']}]\n",
      "el들의 class속성 : [['greeting', 'css'], ['css']]\n"
     ]
    }
   ],
   "source": [
    "# soup.select('선택자') : 해당 선택자 모든 엘리먼트를 리스트로\n",
    "el = soup.select('h1')\n",
    "print('el :', el)\n",
    "print('el들의 text :', [e.text for e in el])\n",
    "print('el들의 string :', [e.string for e in el])\n",
    "print('el들의 속성들 :', [e.attrs for e in el])\n",
    "print('el들의 class속성 :', [e.attrs['class'] for e in el])"
   ]
  },
  {
   "cell_type": "code",
   "execution_count": 33,
   "id": "b39d619f",
   "metadata": {},
   "outputs": [
    {
     "name": "stdout",
     "output_type": "stream",
     "text": [
      "모든 h1, span태그(select) : \n",
      "[<h1 class=\"greeting css\" id=\"text\">Hello, CSS</h1>, <h1 class=\"css\">Hi, CSS</h1>, <span>다른<b>요소가 반환</b></span>]\n",
      "모든 h1, span태그(find_all) :\n",
      "[<h1 class=\"greeting css\" id=\"text\">Hello, CSS</h1>, <h1 class=\"css\">Hi, CSS</h1>]\n",
      "select_one :\n",
      "<h1 class=\"greeting css\" id=\"text\">Hello, CSS</h1>\n",
      "find : \n",
      "<h1 class=\"greeting css\" id=\"text\">Hello, CSS</h1>\n",
      "find : \n",
      "[]\n",
      "find : \n",
      "None\n"
     ]
    }
   ],
   "source": [
    "# select(선택자)와 find_all(태그)\n",
    "print('모든 h1, span태그(select) : ', soup.select('h1.css, span'), sep='\\n')\n",
    "print('모든 h1, span태그(find_all) :', soup.find_all(['h1', 'span'],\n",
    "                                                    class_=['css']), sep='\\n')\n",
    "# select_one(선택자)와 find(태그, 속성)\n",
    "print('select_one :', soup.select_one('h1.css'), sep='\\n')\n",
    "print('find : ', soup.find('h1', class_='css'), sep='\\n')\n",
    "\n",
    "print('find : ', soup.find_all('a', class_='css'), sep='\\n')\n",
    "print('find : ', soup.find('a', class_='css'), sep='\\n')"
   ]
  },
  {
   "cell_type": "markdown",
   "id": "e667aeed",
   "metadata": {},
   "source": [
    "# 2절. 정적 웹 데이터 수집(정적 웹크롤링)\n",
    "\n",
    "## 2.1 JSON파일 - request모듈(get) / urllib.request 모듈(urlopen)"
   ]
  },
  {
   "cell_type": "code",
   "execution_count": 8,
   "id": "19fdd4ae",
   "metadata": {},
   "outputs": [],
   "source": [
    "# 크롤링 허용범위는 사이트마다 ~/robots.txt에서 확인할 수 있습니다\n",
    "    # User-agent: 모든 크롤링을 허용(*), 지침을 적용할 크롤러를 지정\n",
    "    # Allow, Disallow: 크롤링을 제한할 경로 "
   ]
  },
  {
   "cell_type": "code",
   "execution_count": 7,
   "id": "27b10213",
   "metadata": {},
   "outputs": [
    {
     "data": {
      "text/plain": [
       "(<Response [200]>, 200)"
      ]
     },
     "execution_count": 7,
     "metadata": {},
     "output_type": "execute_result"
    }
   ],
   "source": [
    "# 방법1\n",
    "import requests\n",
    "response = requests.get('http://api.github.com')\n",
    "response, response.status_code"
   ]
  },
  {
   "cell_type": "code",
   "execution_count": 9,
   "id": "a898dcb1",
   "metadata": {},
   "outputs": [
    {
     "data": {
      "text/plain": [
       "b'{\"current_user_url\":\"https://api.github.com/user\",\"current_user_authorizations_html_url\":\"https://github.com/settings/connections/applications{/client_id}\",\"authorizations_url\":\"https://api.github.com/authorizations\",\"code_search_url\":\"https://api.github.com/search/code?q={query}{&page,per_page,sort,order}\",\"commit_search_url\":\"https://api.github.com/search/commits?q={query}{&page,per_page,sort,order}\",\"emails_url\":\"https://api.github.com/user/emails\",\"emojis_url\":\"https://api.github.com/emojis\",\"events_url\":\"https://api.github.com/events\",\"feeds_url\":\"https://api.github.com/feeds\",\"followers_url\":\"https://api.github.com/user/followers\",\"following_url\":\"https://api.github.com/user/following{/target}\",\"gists_url\":\"https://api.github.com/gists{/gist_id}\",\"hub_url\":\"https://api.github.com/hub\",\"issue_search_url\":\"https://api.github.com/search/issues?q={query}{&page,per_page,sort,order}\",\"issues_url\":\"https://api.github.com/issues\",\"keys_url\":\"https://api.github.com/user/keys\",\"label_search_url\":\"https://api.github.com/search/labels?q={query}&repository_id={repository_id}{&page,per_page}\",\"notifications_url\":\"https://api.github.com/notifications\",\"organization_url\":\"https://api.github.com/orgs/{org}\",\"organization_repositories_url\":\"https://api.github.com/orgs/{org}/repos{?type,page,per_page,sort}\",\"organization_teams_url\":\"https://api.github.com/orgs/{org}/teams\",\"public_gists_url\":\"https://api.github.com/gists/public\",\"rate_limit_url\":\"https://api.github.com/rate_limit\",\"repository_url\":\"https://api.github.com/repos/{owner}/{repo}\",\"repository_search_url\":\"https://api.github.com/search/repositories?q={query}{&page,per_page,sort,order}\",\"current_user_repositories_url\":\"https://api.github.com/user/repos{?type,page,per_page,sort}\",\"starred_url\":\"https://api.github.com/user/starred{/owner}{/repo}\",\"starred_gists_url\":\"https://api.github.com/gists/starred\",\"topic_search_url\":\"https://api.github.com/search/topics?q={query}{&page,per_page}\",\"user_url\":\"https://api.github.com/users/{user}\",\"user_organizations_url\":\"https://api.github.com/user/orgs\",\"user_repositories_url\":\"https://api.github.com/users/{user}/repos{?type,page,per_page,sort}\",\"user_search_url\":\"https://api.github.com/search/users?q={query}{&page,per_page,sort,order}\"}'"
      ]
     },
     "execution_count": 9,
     "metadata": {},
     "output_type": "execute_result"
    }
   ],
   "source": [
    "response.content # response.text"
   ]
  },
  {
   "cell_type": "code",
   "execution_count": 11,
   "id": "73fecf1e",
   "metadata": {},
   "outputs": [
    {
     "data": {
      "text/plain": [
       "dict"
      ]
     },
     "execution_count": 11,
     "metadata": {},
     "output_type": "execute_result"
    }
   ],
   "source": [
    "jsondata = response.json()\n",
    "type(jsondata)"
   ]
  },
  {
   "cell_type": "code",
   "execution_count": 12,
   "id": "f1938569",
   "metadata": {},
   "outputs": [
    {
     "data": {
      "text/plain": [
       "200"
      ]
     },
     "execution_count": 12,
     "metadata": {},
     "output_type": "execute_result"
    }
   ],
   "source": [
    "# 방법2\n",
    "from urllib.request import urlopen\n",
    "response = urlopen('http://api.github.com')\n",
    "response.status"
   ]
  },
  {
   "cell_type": "markdown",
   "id": "701e3571",
   "metadata": {},
   "source": [
    "## 2.2 BeautifulSoup 모듈을 활용 html 웹 데이터 수집\n",
    "### 1) 환율정보 가져오기 (네이버증권 > 시장지표)\n",
    "- https://finance.naver.com/marketindex/"
   ]
  },
  {
   "cell_type": "code",
   "execution_count": 31,
   "id": "ea8a1686",
   "metadata": {},
   "outputs": [],
   "source": [
    "# 방법1\n",
    "import requests\n",
    "from bs4 import BeautifulSoup\n",
    "url = 'https://finance.naver.com/marketindex/'\n",
    "response = requests.get(url)\n",
    "soup = BeautifulSoup(response.text, 'html.parser')"
   ]
  },
  {
   "cell_type": "code",
   "execution_count": 32,
   "id": "6236f710",
   "metadata": {},
   "outputs": [],
   "source": [
    "# 방법2\n",
    "from urllib.request import urlopen\n",
    "url = 'https://finance.naver.com/marketindex/'\n",
    "response = urlopen(url)\n",
    "soup = BeautifulSoup(response, 'html.parser')"
   ]
  },
  {
   "cell_type": "code",
   "execution_count": 36,
   "id": "62255b77",
   "metadata": {},
   "outputs": [],
   "source": [
    "price = soup.select('div.head_info > span.value')\n",
    "# [round(float(''.join(p.text.split(','))), 2) for p in price]\n",
    "# [round(float(p.text.replace(',','')), 2) for p in price]"
   ]
  },
  {
   "cell_type": "code",
   "execution_count": 37,
   "id": "1b3882ce",
   "metadata": {},
   "outputs": [
    {
     "name": "stdout",
     "output_type": "stream",
     "text": [
      "미국 USD\t일본 JPY(100엔)\t유럽연합 EUR\t중국 CNY\t달러/일본 엔\t유로/달러\t영국 파운드/달러\t달러인덱스\tWTI\t휘발유\t국제 금\t국내 금\t"
     ]
    }
   ],
   "source": [
    "title = soup.select('h3.h_lst > span.blind')\n",
    "for t in title:\n",
    "    print(t.text, end='\\t')"
   ]
  },
  {
   "cell_type": "code",
   "execution_count": 40,
   "id": "7d0e401c",
   "metadata": {
    "scrolled": true
   },
   "outputs": [
    {
     "data": {
      "text/plain": [
       "['원', '원', '원', '원', '엔', '달러', '달러', '', '달러', '원', '달러', '원']"
      ]
     },
     "execution_count": 40,
     "metadata": {},
     "output_type": "execute_result"
    }
   ],
   "source": [
    "unit = soup.select('div.head_info > span > span.blind')\n",
    "unit = [u.text for u in unit]\n",
    "unit.insert(7, '')\n",
    "unit"
   ]
  },
  {
   "cell_type": "code",
   "execution_count": 41,
   "id": "f569a957",
   "metadata": {},
   "outputs": [
    {
     "name": "stdout",
     "output_type": "stream",
     "text": [
      "상승\t상승\t상승\t상승\t하락\t상승\t상승\t하락\t하락\t상승\t하락\t상승\t"
     ]
    }
   ],
   "source": [
    "status = soup.select('div.head_info > span.blind')\n",
    "for idx in range(len(status)):\n",
    "    print(status[idx].text, end='\\t')"
   ]
  },
  {
   "cell_type": "code",
   "execution_count": 42,
   "id": "72669793",
   "metadata": {},
   "outputs": [
    {
     "data": {
      "text/plain": [
       "(12, 12, 12, 12)"
      ]
     },
     "execution_count": 42,
     "metadata": {},
     "output_type": "execute_result"
    }
   ],
   "source": [
    "len(title), len(price), len(unit), len(status)"
   ]
  },
  {
   "cell_type": "code",
   "execution_count": 43,
   "id": "43d8719b",
   "metadata": {},
   "outputs": [
    {
     "name": "stdout",
     "output_type": "stream",
     "text": [
      "미국 USD : 1,419.00 원 - 상승\n",
      "일본 JPY(100엔) : 946.41 원 - 상승\n",
      "유럽연합 EUR : 1,500.17 원 - 상승\n",
      "중국 CNY : 195.36 원 - 상승\n",
      "달러/일본 엔 : 150.4400 엔 - 하락\n",
      "유로/달러 : 1.0575 달러 - 상승\n",
      "영국 파운드/달러 : 1.2758 달러 - 상승\n",
      "달러인덱스 : 105.7000  - 하락\n",
      "WTI : 68.3 달러 - 하락\n",
      "휘발유 : 1644.05 원 - 상승\n",
      "국제 금 : 2648.4 달러 - 하락\n",
      "국내 금 : 120302.62 원 - 상승\n"
     ]
    }
   ],
   "source": [
    "for idx in range(len(title)):\n",
    "    print(\"{} : {} {} - {}\".format(title[idx].text, \n",
    "                                   price[idx].text,\n",
    "                                   unit[idx],\n",
    "                                   status[idx].text))"
   ]
  },
  {
   "cell_type": "code",
   "execution_count": 45,
   "id": "d54b4409",
   "metadata": {},
   "outputs": [
    {
     "name": "stdout",
     "output_type": "stream",
     "text": [
      "미국 USD : 1,419.00원 - 상승\n",
      "일본 JPY(100엔) : 946.41원 - 상승\n",
      "유럽연합 EUR : 1,500.17원 - 상승\n",
      "중국 CNY : 195.36원 - 상승\n",
      "달러/일본 엔 : 150.4400엔 - 하락\n",
      "유로/달러 : 1.0575달러 - 상승\n",
      "영국 파운드/달러 : 1.2758달러 - 상승\n",
      "달러인덱스 : 105.7000 - 하락\n",
      "WTI : 68.3달러 - 하락\n",
      "휘발유 : 1644.05원 - 상승\n",
      "국제 금 : 2648.4달러 - 하락\n",
      "국내 금 : 120302.62원 - 상승\n"
     ]
    }
   ],
   "source": [
    "for t, p, u, s in zip(title, price, unit, status):\n",
    "    print(\"{} : {}{} - {}\".format(t.text, p.text, u, s.text))"
   ]
  },
  {
   "cell_type": "markdown",
   "id": "d21e3f67",
   "metadata": {},
   "source": [
    "### 2) 이번주 로또 번호 출력\n",
    "- https://dhlottery.co.kr/gameResult.do?method=byWin\n",
    "```\n",
    "1148회 (2024년11월30일 추첨)\n",
    "당첨번호 : [3, 6, 13, 15, 16, 22]\n",
    "보너스번호 : 32\n",
    "```"
   ]
  },
  {
   "cell_type": "code",
   "execution_count": 47,
   "id": "4d8c93e7",
   "metadata": {},
   "outputs": [],
   "source": [
    "# 방법1\n",
    "import requests\n",
    "from bs4 import BeautifulSoup\n",
    "url = 'https://dhlottery.co.kr/gameResult.do?method=byWin'\n",
    "response = requests.get(url)\n",
    "soup = BeautifulSoup(response.text, 'html.parser')"
   ]
  },
  {
   "cell_type": "code",
   "execution_count": 48,
   "id": "50be7d2c",
   "metadata": {},
   "outputs": [],
   "source": [
    "# 방법2\n",
    "from urllib.request import urlopen\n",
    "url = 'https://dhlottery.co.kr/gameResult.do?method=byWin'\n",
    "response = urlopen(url)\n",
    "soup = BeautifulSoup(response, 'html.parser')"
   ]
  },
  {
   "cell_type": "code",
   "execution_count": 83,
   "id": "a0fda08d",
   "metadata": {},
   "outputs": [
    {
     "name": "stdout",
     "output_type": "stream",
     "text": [
      "1148회 (2024년 11월 30일 추첨)\n",
      "로또 번호 : [3, 6, 13, 15, 16, 22]\n",
      "보너스 번호 : 32\n"
     ]
    }
   ],
   "source": [
    "times = soup.select_one('div.win_result strong').text # '1148회'\n",
    "date  = soup.select_one('div.win_result p.desc').text # '(2024년 11월 30일 추첨)'\n",
    "print(times, date)\n",
    "lotto_numbers = soup.select('div.num.win span')\n",
    "print('로또 번호 :', [int(lotto.text) for lotto in lotto_numbers])\n",
    "bonus_number = soup.select_one('div.num.bonus span').text\n",
    "print('보너스 번호 :', bonus_number)"
   ]
  },
  {
   "cell_type": "code",
   "execution_count": 88,
   "id": "75c0bb8d",
   "metadata": {},
   "outputs": [
    {
     "name": "stdout",
     "output_type": "stream",
     "text": [
      "1148회 (2024년 11월 30일 추첨)\n",
      "로또 번호 : [3, 6, 13, 15, 16, 22]\n",
      "보너스 번호 : 32\n"
     ]
    }
   ],
   "source": [
    "#times = soup.select_one('div.win_result strong').text\n",
    "#date  = soup.select_one('div.win_result p.desc').text\n",
    "winresult = soup.find('div', class_='win_result')\n",
    "times     = winresult.find('strong').text\n",
    "date      = winresult.find('p', class_='desc').text\n",
    "print(times, date)\n",
    "#lotto_numbers = soup.select('div.num.win span')\n",
    "win = soup.find('div', class_=['win'])\n",
    "lotto_numbers = win.find_all('span')\n",
    "print('로또 번호 :', [int(lotto.text) for lotto in lotto_numbers])\n",
    "\n",
    "#bonus_number = soup.select_one('div.num.bonus span').text\n",
    "bonus = soup.find('div', class_='bonus')\n",
    "bonus_numbers = bonus.find('span').text\n",
    "print('보너스 번호 :', bonus_number)"
   ]
  },
  {
   "cell_type": "markdown",
   "id": "9fec5098",
   "metadata": {},
   "source": [
    "### 3) 다음 검색 리스트\n",
    "```\n",
    "no title                                                          href\n",
    "0 \"비트코인 8800만원에 주운 사람이 승자\"…한밤 불태운 코인 투자자들 https://v.daum.~\n",
    "1 [속보] 비상계엄 선포에 비트코인 '쇼크'…30% 급락                 https://~\n",
    "2 10만 달러 찍은 비트코인… 더 오를까, 내릴까                      https://~\n",
    "```"
   ]
  },
  {
   "cell_type": "code",
   "execution_count": 100,
   "id": "4613a254",
   "metadata": {},
   "outputs": [
    {
     "data": {
      "text/html": [
       "<div>\n",
       "<style scoped>\n",
       "    .dataframe tbody tr th:only-of-type {\n",
       "        vertical-align: middle;\n",
       "    }\n",
       "\n",
       "    .dataframe tbody tr th {\n",
       "        vertical-align: top;\n",
       "    }\n",
       "\n",
       "    .dataframe thead th {\n",
       "        text-align: right;\n",
       "    }\n",
       "</style>\n",
       "<table border=\"1\" class=\"dataframe\">\n",
       "  <thead>\n",
       "    <tr style=\"text-align: right;\">\n",
       "      <th></th>\n",
       "      <th>no</th>\n",
       "      <th>title</th>\n",
       "      <th>link</th>\n",
       "    </tr>\n",
       "  </thead>\n",
       "  <tbody>\n",
       "    <tr>\n",
       "      <th>0</th>\n",
       "      <td>0</td>\n",
       "      <td>\"비트코인 8800만원에 주운 사람이 승자\"…한밤 불태운 코인 투자자들</td>\n",
       "      <td>http://v.daum.net/v/20241204113454203</td>\n",
       "    </tr>\n",
       "    <tr>\n",
       "      <th>1</th>\n",
       "      <td>1</td>\n",
       "      <td>[속보] 비상계엄 선포에 비트코인 '쇼크'…30% 급락</td>\n",
       "      <td>http://v.daum.net/v/20241203231205730</td>\n",
       "    </tr>\n",
       "    <tr>\n",
       "      <th>2</th>\n",
       "      <td>2</td>\n",
       "      <td>10만 달러 찍은 비트코인… 더 오를까, 내릴까</td>\n",
       "      <td>http://v.daum.net/v/20241206151520972</td>\n",
       "    </tr>\n",
       "    <tr>\n",
       "      <th>3</th>\n",
       "      <td>3</td>\n",
       "      <td>비트코인 갑론을박...\"20만달러 vs 단기조정\"</td>\n",
       "      <td>http://v.daum.net/v/20241206103251287</td>\n",
       "    </tr>\n",
       "    <tr>\n",
       "      <th>4</th>\n",
       "      <td>4</td>\n",
       "      <td>'10만 달러' 넘어선 비트코인...\"고점 아직\"vs\"과열\"</td>\n",
       "      <td>http://v.daum.net/v/20241206135550190</td>\n",
       "    </tr>\n",
       "    <tr>\n",
       "      <th>5</th>\n",
       "      <td>5</td>\n",
       "      <td>비트코인, 다시 10만 달러 붕괴…향후 전망은?</td>\n",
       "      <td>http://v.daum.net/v/20241206090709632</td>\n",
       "    </tr>\n",
       "    <tr>\n",
       "      <th>6</th>\n",
       "      <td>6</td>\n",
       "      <td>'10만 달러' 넘은 비트코인, 어디까지 갈까 [글로벌 뉴스픽]</td>\n",
       "      <td>http://v.daum.net/v/20241206062101852</td>\n",
       "    </tr>\n",
       "    <tr>\n",
       "      <th>7</th>\n",
       "      <td>7</td>\n",
       "      <td>‘10만 돌파’ 비트코인, 금 대체한다...번스타인 주장</td>\n",
       "      <td>http://v.daum.net/v/20241206163907954</td>\n",
       "    </tr>\n",
       "    <tr>\n",
       "      <th>8</th>\n",
       "      <td>8</td>\n",
       "      <td>비트코인, 세계 7위 자산 등극[엠블록레터]</td>\n",
       "      <td>http://v.daum.net/v/20241206161800233</td>\n",
       "    </tr>\n",
       "    <tr>\n",
       "      <th>9</th>\n",
       "      <td>9</td>\n",
       "      <td>꿈의 '10만달러' 넘긴 비트코인…얼마나 더 오를까</td>\n",
       "      <td>http://v.daum.net/v/20241206070009297</td>\n",
       "    </tr>\n",
       "  </tbody>\n",
       "</table>\n",
       "</div>"
      ],
      "text/plain": [
       "   no                                      title  \\\n",
       "0   0   \"비트코인 8800만원에 주운 사람이 승자\"…한밤 불태운 코인 투자자들    \n",
       "1   1            [속보] 비상계엄 선포에 비트코인 '쇼크'…30% 급락    \n",
       "2   2                10만 달러 찍은 비트코인… 더 오를까, 내릴까    \n",
       "3   3               비트코인 갑론을박...\"20만달러 vs 단기조정\"    \n",
       "4   4         '10만 달러' 넘어선 비트코인...\"고점 아직\"vs\"과열\"    \n",
       "5   5                비트코인, 다시 10만 달러 붕괴…향후 전망은?    \n",
       "6   6       '10만 달러' 넘은 비트코인, 어디까지 갈까 [글로벌 뉴스픽]    \n",
       "7   7           ‘10만 돌파’ 비트코인, 금 대체한다...번스타인 주장    \n",
       "8   8                  비트코인, 세계 7위 자산 등극[엠블록레터]    \n",
       "9   9              꿈의 '10만달러' 넘긴 비트코인…얼마나 더 오를까    \n",
       "\n",
       "                                    link  \n",
       "0  http://v.daum.net/v/20241204113454203  \n",
       "1  http://v.daum.net/v/20241203231205730  \n",
       "2  http://v.daum.net/v/20241206151520972  \n",
       "3  http://v.daum.net/v/20241206103251287  \n",
       "4  http://v.daum.net/v/20241206135550190  \n",
       "5  http://v.daum.net/v/20241206090709632  \n",
       "6  http://v.daum.net/v/20241206062101852  \n",
       "7  http://v.daum.net/v/20241206163907954  \n",
       "8  http://v.daum.net/v/20241206161800233  \n",
       "9  http://v.daum.net/v/20241206070009297  "
      ]
     },
     "execution_count": 100,
     "metadata": {},
     "output_type": "execute_result"
    }
   ],
   "source": [
    "import requests\n",
    "from bs4 import BeautifulSoup\n",
    "url = 'https://search.daum.net/search?w=news&nil_search=btn&DA=PGD&enc=utf8&cluster=y&cluster_page=1&q=비트코인'\n",
    "response = requests.get(url)\n",
    "soup = BeautifulSoup(response.text, \"html.parser\")\n",
    "items_find_list = [] # 검색한 결과를 담을 dict 리스트\n",
    "items_el = soup.select('div.item-title > strong.tit-g > a')\n",
    "for idx, item in enumerate(items_el):\n",
    "    items_find_list.append({'no':idx, \n",
    "                            'title':item.text,\n",
    "                            'link':item.attrs['href']\n",
    "                           })\n",
    "import pandas as pd\n",
    "pd.DataFrame(items_find_list)"
   ]
  },
  {
   "cell_type": "code",
   "execution_count": 103,
   "id": "8629b08b",
   "metadata": {},
   "outputs": [
    {
     "data": {
      "text/html": [
       "<div>\n",
       "<style scoped>\n",
       "    .dataframe tbody tr th:only-of-type {\n",
       "        vertical-align: middle;\n",
       "    }\n",
       "\n",
       "    .dataframe tbody tr th {\n",
       "        vertical-align: top;\n",
       "    }\n",
       "\n",
       "    .dataframe thead th {\n",
       "        text-align: right;\n",
       "    }\n",
       "</style>\n",
       "<table border=\"1\" class=\"dataframe\">\n",
       "  <thead>\n",
       "    <tr style=\"text-align: right;\">\n",
       "      <th></th>\n",
       "      <th>no</th>\n",
       "      <th>title</th>\n",
       "      <th>link</th>\n",
       "    </tr>\n",
       "  </thead>\n",
       "  <tbody>\n",
       "    <tr>\n",
       "      <th>0</th>\n",
       "      <td>0</td>\n",
       "      <td>'10만 달러' 넘어선 비트코인...\"고점 아직\"vs\"과열\"</td>\n",
       "      <td>http://v.daum.net/v/20241206135550190</td>\n",
       "    </tr>\n",
       "    <tr>\n",
       "      <th>1</th>\n",
       "      <td>1</td>\n",
       "      <td>트럼프 “비트코인 10만 달러, 천만에요”</td>\n",
       "      <td>http://v.daum.net/v/20241205230018960</td>\n",
       "    </tr>\n",
       "    <tr>\n",
       "      <th>2</th>\n",
       "      <td>2</td>\n",
       "      <td>비트코인, 차익 실현 매물에 5% 급락…1억3700만원대</td>\n",
       "      <td>http://v.daum.net/v/20241206092917378</td>\n",
       "    </tr>\n",
       "    <tr>\n",
       "      <th>3</th>\n",
       "      <td>3</td>\n",
       "      <td>비트코인 5%↑ 10만달러 돌파…급등 이유 2가지(종합2)</td>\n",
       "      <td>http://v.daum.net/v/20241205122727799</td>\n",
       "    </tr>\n",
       "    <tr>\n",
       "      <th>4</th>\n",
       "      <td>4</td>\n",
       "      <td>10만 달러 찍은 비트코인… 더 오를까, 내릴까</td>\n",
       "      <td>http://v.daum.net/v/20241206151520972</td>\n",
       "    </tr>\n",
       "    <tr>\n",
       "      <th>5</th>\n",
       "      <td>5</td>\n",
       "      <td>비트코인 갑론을박...\"20만달러 vs 단기조정\"</td>\n",
       "      <td>http://v.daum.net/v/20241206103251287</td>\n",
       "    </tr>\n",
       "    <tr>\n",
       "      <th>6</th>\n",
       "      <td>6</td>\n",
       "      <td>비트코인, 다시 10만 달러 붕괴…향후 전망은?</td>\n",
       "      <td>http://v.daum.net/v/20241206090709632</td>\n",
       "    </tr>\n",
       "    <tr>\n",
       "      <th>7</th>\n",
       "      <td>7</td>\n",
       "      <td>'10만 달러' 넘은 비트코인, 어디까지 갈까 [글로벌 뉴스픽]</td>\n",
       "      <td>http://v.daum.net/v/20241206062101852</td>\n",
       "    </tr>\n",
       "    <tr>\n",
       "      <th>8</th>\n",
       "      <td>8</td>\n",
       "      <td>‘10만 돌파’ 비트코인, 금 대체한다...번스타인 주장</td>\n",
       "      <td>http://v.daum.net/v/20241206163907954</td>\n",
       "    </tr>\n",
       "    <tr>\n",
       "      <th>9</th>\n",
       "      <td>9</td>\n",
       "      <td>비트코인, 세계 7위 자산 등극[엠블록레터]</td>\n",
       "      <td>http://v.daum.net/v/20241206161800233</td>\n",
       "    </tr>\n",
       "  </tbody>\n",
       "</table>\n",
       "</div>"
      ],
      "text/plain": [
       "   no                                  title  \\\n",
       "0   0     '10만 달러' 넘어선 비트코인...\"고점 아직\"vs\"과열\"    \n",
       "1   1               트럼프 “비트코인 10만 달러, 천만에요”    \n",
       "2   2       비트코인, 차익 실현 매물에 5% 급락…1억3700만원대    \n",
       "3   3      비트코인 5%↑ 10만달러 돌파…급등 이유 2가지(종합2)    \n",
       "4   4            10만 달러 찍은 비트코인… 더 오를까, 내릴까    \n",
       "5   5           비트코인 갑론을박...\"20만달러 vs 단기조정\"    \n",
       "6   6            비트코인, 다시 10만 달러 붕괴…향후 전망은?    \n",
       "7   7   '10만 달러' 넘은 비트코인, 어디까지 갈까 [글로벌 뉴스픽]    \n",
       "8   8       ‘10만 돌파’ 비트코인, 금 대체한다...번스타인 주장    \n",
       "9   9              비트코인, 세계 7위 자산 등극[엠블록레터]    \n",
       "\n",
       "                                    link  \n",
       "0  http://v.daum.net/v/20241206135550190  \n",
       "1  http://v.daum.net/v/20241205230018960  \n",
       "2  http://v.daum.net/v/20241206092917378  \n",
       "3  http://v.daum.net/v/20241205122727799  \n",
       "4  http://v.daum.net/v/20241206151520972  \n",
       "5  http://v.daum.net/v/20241206103251287  \n",
       "6  http://v.daum.net/v/20241206090709632  \n",
       "7  http://v.daum.net/v/20241206062101852  \n",
       "8  http://v.daum.net/v/20241206163907954  \n",
       "9  http://v.daum.net/v/20241206161800233  "
      ]
     },
     "execution_count": 103,
     "metadata": {},
     "output_type": "execute_result"
    }
   ],
   "source": [
    "import requests\n",
    "from bs4 import BeautifulSoup\n",
    "url = 'https://search.daum.net/search?w=news&nil_search=btn&DA=PGD&enc=utf8&cluster=y&cluster_page=1&q=비트코인'\n",
    "response = requests.get(url)\n",
    "soup = BeautifulSoup(response.text, \"html.parser\")\n",
    "items_find_list = [] # 검색한 결과를 담을 2차원 리스트\n",
    "items_el = soup.select('div.item-title > strong.tit-g > a')\n",
    "for idx, item in enumerate(items_el):\n",
    "    items_find_list.append([idx, item.text, item.attrs['href']])\n",
    "#print(items_find_list)\n",
    "import pandas as pd\n",
    "pd.DataFrame(items_find_list, columns=['no','title','link'])"
   ]
  },
  {
   "cell_type": "code",
   "execution_count": 124,
   "id": "77016ee3",
   "metadata": {},
   "outputs": [
    {
     "data": {
      "text/html": [
       "<div>\n",
       "<style scoped>\n",
       "    .dataframe tbody tr th:only-of-type {\n",
       "        vertical-align: middle;\n",
       "    }\n",
       "\n",
       "    .dataframe tbody tr th {\n",
       "        vertical-align: top;\n",
       "    }\n",
       "\n",
       "    .dataframe thead th {\n",
       "        text-align: right;\n",
       "    }\n",
       "</style>\n",
       "<table border=\"1\" class=\"dataframe\">\n",
       "  <thead>\n",
       "    <tr style=\"text-align: right;\">\n",
       "      <th></th>\n",
       "      <th>no</th>\n",
       "      <th>title</th>\n",
       "      <th>link</th>\n",
       "    </tr>\n",
       "  </thead>\n",
       "  <tbody>\n",
       "    <tr>\n",
       "      <th>0</th>\n",
       "      <td>0</td>\n",
       "      <td>'10만 달러' 넘어선 비트코인...\"고점 아직\"vs\"과열\"</td>\n",
       "      <td>http://v.daum.net/v/20241206135550190</td>\n",
       "    </tr>\n",
       "    <tr>\n",
       "      <th>1</th>\n",
       "      <td>1</td>\n",
       "      <td>트럼프 “비트코인 10만 달러, 천만에요”</td>\n",
       "      <td>http://v.daum.net/v/20241205230018960</td>\n",
       "    </tr>\n",
       "    <tr>\n",
       "      <th>2</th>\n",
       "      <td>2</td>\n",
       "      <td>비트코인, 차익 실현 매물에 5% 급락…1억3700만원대</td>\n",
       "      <td>http://v.daum.net/v/20241206092917378</td>\n",
       "    </tr>\n",
       "    <tr>\n",
       "      <th>3</th>\n",
       "      <td>3</td>\n",
       "      <td>비트코인 5%↑ 10만달러 돌파…급등 이유 2가지(종합2)</td>\n",
       "      <td>http://v.daum.net/v/20241205122727799</td>\n",
       "    </tr>\n",
       "    <tr>\n",
       "      <th>4</th>\n",
       "      <td>4</td>\n",
       "      <td>10만 달러 찍은 비트코인… 더 오를까, 내릴까</td>\n",
       "      <td>http://v.daum.net/v/20241206151520972</td>\n",
       "    </tr>\n",
       "    <tr>\n",
       "      <th>5</th>\n",
       "      <td>5</td>\n",
       "      <td>비트코인 갑론을박...\"20만달러 vs 단기조정\"</td>\n",
       "      <td>http://v.daum.net/v/20241206103251287</td>\n",
       "    </tr>\n",
       "    <tr>\n",
       "      <th>6</th>\n",
       "      <td>6</td>\n",
       "      <td>비트코인, 다시 10만 달러 붕괴…향후 전망은?</td>\n",
       "      <td>http://v.daum.net/v/20241206090709632</td>\n",
       "    </tr>\n",
       "    <tr>\n",
       "      <th>7</th>\n",
       "      <td>7</td>\n",
       "      <td>'10만 달러' 넘은 비트코인, 어디까지 갈까 [글로벌 뉴스픽]</td>\n",
       "      <td>http://v.daum.net/v/20241206062101852</td>\n",
       "    </tr>\n",
       "    <tr>\n",
       "      <th>8</th>\n",
       "      <td>8</td>\n",
       "      <td>‘10만 돌파’ 비트코인, 금 대체한다...번스타인 주장</td>\n",
       "      <td>http://v.daum.net/v/20241206163907954</td>\n",
       "    </tr>\n",
       "    <tr>\n",
       "      <th>9</th>\n",
       "      <td>9</td>\n",
       "      <td>비트코인, 세계 7위 자산 등극[엠블록레터]</td>\n",
       "      <td>http://v.daum.net/v/20241206161800233</td>\n",
       "    </tr>\n",
       "  </tbody>\n",
       "</table>\n",
       "</div>"
      ],
      "text/plain": [
       "   no                                  title  \\\n",
       "0   0     '10만 달러' 넘어선 비트코인...\"고점 아직\"vs\"과열\"    \n",
       "1   1               트럼프 “비트코인 10만 달러, 천만에요”    \n",
       "2   2       비트코인, 차익 실현 매물에 5% 급락…1억3700만원대    \n",
       "3   3      비트코인 5%↑ 10만달러 돌파…급등 이유 2가지(종합2)    \n",
       "4   4            10만 달러 찍은 비트코인… 더 오를까, 내릴까    \n",
       "5   5           비트코인 갑론을박...\"20만달러 vs 단기조정\"    \n",
       "6   6            비트코인, 다시 10만 달러 붕괴…향후 전망은?    \n",
       "7   7   '10만 달러' 넘은 비트코인, 어디까지 갈까 [글로벌 뉴스픽]    \n",
       "8   8       ‘10만 돌파’ 비트코인, 금 대체한다...번스타인 주장    \n",
       "9   9              비트코인, 세계 7위 자산 등극[엠블록레터]    \n",
       "\n",
       "                                    link  \n",
       "0  http://v.daum.net/v/20241206135550190  \n",
       "1  http://v.daum.net/v/20241205230018960  \n",
       "2  http://v.daum.net/v/20241206092917378  \n",
       "3  http://v.daum.net/v/20241205122727799  \n",
       "4  http://v.daum.net/v/20241206151520972  \n",
       "5  http://v.daum.net/v/20241206103251287  \n",
       "6  http://v.daum.net/v/20241206090709632  \n",
       "7  http://v.daum.net/v/20241206062101852  \n",
       "8  http://v.daum.net/v/20241206163907954  \n",
       "9  http://v.daum.net/v/20241206161800233  "
      ]
     },
     "execution_count": 124,
     "metadata": {},
     "output_type": "execute_result"
    }
   ],
   "source": [
    "items_find_list = [] # 검색한 결과를 담을 2차원 리스트(div.item-title > strong.tit-g > a)\n",
    "item_titles = soup.find_all('div', class_='item-title')\n",
    "\n",
    "for idx, item in enumerate(item_titles):\n",
    "    strong = item.find('strong')\n",
    "    if strong:\n",
    "        a = strong.find('a')\n",
    "        items_find_list.append([idx, a.text, a.attrs['href']])\n",
    "pd.DataFrame(items_find_list, columns=['no', 'title', 'link'])"
   ]
  },
  {
   "cell_type": "code",
   "execution_count": 138,
   "id": "e524e71e",
   "metadata": {},
   "outputs": [],
   "source": [
    "# 다음검색(원하는 키워드를 원하는 페이지 수)\n",
    "import requests\n",
    "from bs4 import BeautifulSoup\n",
    "import time\n",
    "import pandas as pd\n",
    "# print하는 함수\n",
    "def collect_list(keyword, page):\n",
    "    'keyword로 page에 다음검색한 결과를 출력 '\n",
    "#     url = 'https://search.daum.net/search?w=news&nil_search=btn&DA=PGD&enc=utf8&cluster=y&q={}&p={}'.format(keyword, \n",
    "#                                                                                                            page)\n",
    "#     response = requests.get(url)\n",
    "    url = 'https://search.daum.net/search?w=news&nil_search=btn&DA=PGD&enc=utf8&cluster=y'\n",
    "    params = {'q':keyword, 'p':page}\n",
    "    response = requests.get(url, params=params)\n",
    "    soup = BeautifulSoup(response.text, \"html.parser\")\n",
    "    items_find_list = [] # 검색한 결과를 담을 2차원 리스트(div.item-title > strong.tit-g > a)\n",
    "    item_titles = soup.find_all('div', class_='item-title')\n",
    "\n",
    "    for idx, item in enumerate(item_titles):\n",
    "        strong = item.find('strong')\n",
    "        if strong:\n",
    "            a = strong.find('a')\n",
    "            items_find_list.append([(page-1)*10+idx, a.text, a.attrs['href']])\n",
    "    return items_find_list"
   ]
  },
  {
   "cell_type": "code",
   "execution_count": 141,
   "id": "a8a2124d",
   "metadata": {},
   "outputs": [
    {
     "data": {
      "text/plain": [
       "[[10,\n",
       "  ' 제주서 청바지에 오리발 낀 시신 발견돼…실종 모터보트 선장 추정 \"확인 중\" ',\n",
       "  'http://v.daum.net/v/20241124142017794'],\n",
       " [11,\n",
       "  ' 대구시행복진흥원, 2024 청바지(청년이 바라는 지금 가족) 아카데미 발대식 개최 ',\n",
       "  'http://v.daum.net/v/20241109214942252'],\n",
       " [12,\n",
       "  ' 김태리, 흰티+청바지 입은 정년이‥시크해도 예쁘네 ',\n",
       "  'http://v.daum.net/v/20241106084401512'],\n",
       " [13, ' 김고은, 파격 숏컷에 청바지 [포토엔HD] ', 'http://v.daum.net/v/20241202102806409'],\n",
       " [14,\n",
       "  ' [美대선 D-1] 청바지 입은 해리스, 미화원 조끼 걸친 트럼프…패션 필살기는 ',\n",
       "  'http://v.daum.net/v/20241104162858090'],\n",
       " [15,\n",
       "  ' 해리스는 청바지·트럼프는 미화원 조끼…패션으로 읽는 美 대선 ',\n",
       "  'http://v.daum.net/v/20241105233634359'],\n",
       " [16,\n",
       "  ' 서주경, 원조 섹시스타? 청바지 골반에 걸치고 당돌했던 패션(퍼펙트 라이프) ',\n",
       "  'http://v.daum.net/v/20241127153650717'],\n",
       " [17,\n",
       "  ' ‘美 언더아머’ 가방에 청바지 입은 北학생… 러시아 유튜버가 포착한 평양의 모습 ',\n",
       "  'http://v.daum.net/v/20241129115100297'],\n",
       " [18,\n",
       "  ' 트럼프의 앞치마 vs 해리스의 청바지…‘서민 소통 상징’으로 패션정치 대결 [박영실의 이미지 브랜딩] ',\n",
       "  'http://v.daum.net/v/20241103060502246'],\n",
       " [19,\n",
       "  ' 김지원, 청바지에 숏패딩만 입어도 청순‥입술 쭉 애교는 덤 ',\n",
       "  'http://v.daum.net/v/20241120155408078']]"
      ]
     },
     "execution_count": 141,
     "metadata": {},
     "output_type": "execute_result"
    }
   ],
   "source": [
    "collect_list('청바지', 2)"
   ]
  },
  {
   "cell_type": "code",
   "execution_count": null,
   "id": "4c0d5712",
   "metadata": {},
   "outputs": [],
   "source": []
  },
  {
   "cell_type": "code",
   "execution_count": null,
   "id": "7e646702",
   "metadata": {},
   "outputs": [],
   "source": []
  },
  {
   "cell_type": "code",
   "execution_count": null,
   "id": "41838c4c",
   "metadata": {},
   "outputs": [],
   "source": []
  },
  {
   "cell_type": "code",
   "execution_count": null,
   "id": "a4acb876",
   "metadata": {},
   "outputs": [],
   "source": []
  },
  {
   "cell_type": "code",
   "execution_count": null,
   "id": "b6cf4ce8",
   "metadata": {},
   "outputs": [],
   "source": []
  }
 ],
 "metadata": {
  "kernelspec": {
   "display_name": "Python 3 (ipykernel)",
   "language": "python",
   "name": "python3"
  },
  "language_info": {
   "codemirror_mode": {
    "name": "ipython",
    "version": 3
   },
   "file_extension": ".py",
   "mimetype": "text/x-python",
   "name": "python",
   "nbconvert_exporter": "python",
   "pygments_lexer": "ipython3",
   "version": "3.10.9"
  },
  "toc": {
   "base_numbering": 1,
   "nav_menu": {},
   "number_sections": false,
   "sideBar": true,
   "skip_h1_title": false,
   "title_cell": "Table of Contents",
   "title_sidebar": "Contents",
   "toc_cell": false,
   "toc_position": {
    "height": "calc(100% - 180px)",
    "left": "10px",
    "top": "150px",
    "width": "165px"
   },
   "toc_section_display": true,
   "toc_window_display": false
  }
 },
 "nbformat": 4,
 "nbformat_minor": 5
}
