{
 "cells": [
  {
   "cell_type": "code",
   "execution_count": 1,
   "id": "de7e8f8d",
   "metadata": {},
   "outputs": [
    {
     "data": {
      "text/html": [
       "\n",
       "<style>\n",
       "div.container{width:99% !important;}\n",
       "div.cell.code_cell.rendered{width:99%;}\n",
       "div.CodeMirror {font-family:Consolas; font-size:18pt;}\n",
       "div.output {font-size:19pt; font-weight:bold;}\n",
       "div.input {font-family:Consolas; font-size:19pt;}\n",
       "div.prompt {min-width:70px;}\n",
       "div#toc-wrapper{padding-top:120px;}\n",
       "span.toc-item-num{display:none;}\n",
       "div.text_cell_render ul li{font-size:16pt;padding:5px;}\n",
       "div.CodeMirror-lines > div {padding-left:10px;}\n",
       "table.dataframe{font-size:18px;}\n",
       "</style>\n"
      ],
      "text/plain": [
       "<IPython.core.display.HTML object>"
      ]
     },
     "metadata": {},
     "output_type": "display_data"
    }
   ],
   "source": [
    "from IPython.display import display, HTML\n",
    "display(HTML(\"\"\"\n",
    "<style>\n",
    "div.container{width:99% !important;}\n",
    "div.cell.code_cell.rendered{width:99%;}\n",
    "div.CodeMirror {font-family:Consolas; font-size:18pt;}\n",
    "div.output {font-size:19pt; font-weight:bold;}\n",
    "div.input {font-family:Consolas; font-size:19pt;}\n",
    "div.prompt {min-width:70px;}\n",
    "div#toc-wrapper{padding-top:120px;}\n",
    "span.toc-item-num{display:none;}\n",
    "div.text_cell_render ul li{font-size:16pt;padding:5px;}\n",
    "div.CodeMirror-lines > div {padding-left:10px;}\n",
    "table.dataframe{font-size:18px;}\n",
    "</style>\n",
    "\"\"\"))"
   ]
  },
  {
   "cell_type": "markdown",
   "id": "0b7a50a3",
   "metadata": {},
   "source": [
    "<b><font color=\"red\" size=\"6\">ch14. 웹데이터 수집</font></b>\n",
    "# 1절. BeautifulSoup과 parser\n",
    "\n",
    "` pip install bs4` 아나콘다를 설치하면 자동 설치되는 패키지 7500개에 포함\n",
    "\n",
    "- 공식 사이트 ▪ https://www.crummy.com/software/BeautifulSoup/\n",
    "- Documentation ▪ https://www.crummy.com/software/BeautifulSoup/bs4/doc/"
   ]
  },
  {
   "cell_type": "code",
   "execution_count": 2,
   "id": "92aa6999",
   "metadata": {},
   "outputs": [],
   "source": [
    "import requests\n",
    "from requests_file import FileAdapter"
   ]
  },
  {
   "cell_type": "code",
   "execution_count": 3,
   "id": "f1e98f8d",
   "metadata": {},
   "outputs": [
    {
     "data": {
      "text/plain": [
       "<Response [200]>"
      ]
     },
     "execution_count": 3,
     "metadata": {},
     "output_type": "execute_result"
    }
   ],
   "source": [
    "s = requests.Session() # HTTP 요청관리를 위한 세션 객체\n",
    "s.mount(\"file://\", FileAdapter())\n",
    "response = s.get('file:///ai/source/07_python/ch14_sample.html')\n",
    "response"
   ]
  },
  {
   "cell_type": "code",
   "execution_count": 4,
   "id": "1cf45a17",
   "metadata": {},
   "outputs": [
    {
     "data": {
      "text/plain": [
       "b'<!DOCTYPE html>\\r\\n<html lang=\"en\">\\r\\n<head>\\r\\n  <meta charset=\"UTF-8\">\\r\\n</head>\\r\\n<body>\\r\\n  <h1 class=\"greeting css\" id=\"text\">Hello, CSS</h1>\\r\\n  <h1 class=\"css\">Hi, CSS</h1>\\r\\n  <div id=\"subject\">subject \\xec\\x84\\xa0\\xed\\x83\\x9d\\xec\\x9e\\x90 \\xec\\x95\\x88\\xec\\x9d\\x98 \\xeb\\x82\\xb4\\xec\\x9a\\xa9</div>\\r\\n  <p>CSS \\xec\\x84\\xa0\\xed\\x83\\x9d\\xec\\x9e\\x90\\xeb\\x8a\\x94 \\xeb\\x8b\\xa4\\xec\\x96\\x91\\xed\\x95\\x9c \\xea\\xb3\\xb3\\xec\\x97\\x90\\xec\\x84\\x9c \\xed\\x99\\x9c\\xec\\x9a\\xa9\\xeb\\x90\\xa9\\xeb\\x8b\\x88\\xeb\\x8b\\xa4</p>\\r\\n  <div class=\"contents\">\\r\\n    \\xec\\x84\\xa0\\xed\\x83\\x9d\\xec\\x9e\\x90\\xeb\\xa5\\xbc \\xec\\x96\\xb4\\xeb\\x96\\xbb\\xea\\xb2\\x8c \\xec\\x9e\\x91\\xec\\x84\\xb1\\xed\\x95\\x98\\xeb\\x8a\\x90\\xeb\\x83\\x90\\xec\\x97\\x90 \\xeb\\x94\\xb0\\xeb\\x9d\\xbc\\r\\n    <span>\\xeb\\x8b\\xa4\\xeb\\xa5\\xb8<b>\\xec\\x9a\\x94\\xec\\x86\\x8c\\xea\\xb0\\x80 \\xeb\\xb0\\x98\\xed\\x99\\x98</b></span>\\xeb\\x90\\xa9\\xeb\\x8b\\x88\\xeb\\x8b\\xa4\\r\\n  </div>\\r\\n  <div>CSS \\xec\\x84\\xa0\\xed\\x83\\x9d\\xec\\x9e\\x90\\xeb\\x8a\\x94 \\xeb\\x8b\\xa4\\xec\\x96\\x91\\xed\\x95\\x9c \\xea\\xb3\\xb3\\xec\\x97\\x90 <b>\\xed\\x99\\x9c\\xec\\x9a\\xa9</b>\\xeb\\x90\\xa9\\xeb\\x8b\\x88\\xeb\\x8b\\xa4</div>\\r\\n</body>\\r\\n</html>'"
      ]
     },
     "execution_count": 4,
     "metadata": {},
     "output_type": "execute_result"
    }
   ],
   "source": [
    "ex = response.content\n",
    "ex"
   ]
  },
  {
   "cell_type": "code",
   "execution_count": 6,
   "id": "db525edd",
   "metadata": {},
   "outputs": [
    {
     "data": {
      "text/plain": [
       "'<!DOCTYPE html>\\r\\n<html lang=\"en\">\\r\\n<head>\\r\\n  <meta charset=\"UTF-8\">\\r\\n</head>\\r\\n<body>\\r\\n  <h1 class=\"greeting css\" id=\"text\">Hello, CSS</h1>\\r\\n  <h1 class=\"css\">Hi, CSS</h1>\\r\\n  <div id=\"subject\">subject 선택자 안의 내용</div>\\r\\n  <p>CSS 선택자는 다양한 곳에서 활용됩니다</p>\\r\\n  <div class=\"contents\">\\r\\n    선택자를 어떻게 작성하느냐에 따라\\r\\n    <span>다른<b>요소가 반환</b></span>됩니다\\r\\n  </div>\\r\\n  <div>CSS 선택자는 다양한 곳에 <b>활용</b>됩니다</div>\\r\\n</body>\\r\\n</html>'"
      ]
     },
     "execution_count": 6,
     "metadata": {},
     "output_type": "execute_result"
    }
   ],
   "source": [
    "response.content.decode('UTF-8')"
   ]
  },
  {
   "cell_type": "code",
   "execution_count": 7,
   "id": "5fb7c659",
   "metadata": {},
   "outputs": [
    {
     "data": {
      "text/plain": [
       "'<!DOCTYPE html>\\r\\n<html lang=\"en\">\\r\\n<head>\\r\\n  <meta charset=\"UTF-8\">\\r\\n</head>\\r\\n<body>\\r\\n  <h1 class=\"greeting css\" id=\"text\">Hello, CSS</h1>\\r\\n  <h1 class=\"css\">Hi, CSS</h1>\\r\\n  <div id=\"subject\">subject 선택자 안의 내용</div>\\r\\n  <p>CSS 선택자는 다양한 곳에서 활용됩니다</p>\\r\\n  <div class=\"contents\">\\r\\n    선택자를 어떻게 작성하느냐에 따라\\r\\n    <span>다른<b>요소가 반환</b></span>됩니다\\r\\n  </div>\\r\\n  <div>CSS 선택자는 다양한 곳에 <b>활용</b>됩니다</div>\\r\\n</body>\\r\\n</html>'"
      ]
     },
     "execution_count": 7,
     "metadata": {},
     "output_type": "execute_result"
    }
   ],
   "source": [
    "response.text"
   ]
  },
  {
   "cell_type": "code",
   "execution_count": 9,
   "id": "03376916",
   "metadata": {},
   "outputs": [],
   "source": [
    "# html 파싱\n",
    "from bs4 import BeautifulSoup\n",
    "soup = BeautifulSoup(response.content, # response.text\n",
    "                    \"html.parser\")\n",
    "# soup"
   ]
  },
  {
   "cell_type": "code",
   "execution_count": 15,
   "id": "f073a934",
   "metadata": {},
   "outputs": [
    {
     "name": "stdout",
     "output_type": "stream",
     "text": [
      "el : <h1 class=\"greeting css\" id=\"text\">Hello, CSS</h1>\n",
      "el.text : Hello, CSS\n",
      "el.string : Hello, CSS\n",
      "el의 속성들 : {'class': ['greeting', 'css'], 'id': 'text'}\n",
      "el의 class 속성 : ['greeting', 'css']\n",
      "el의 name : h1\n"
     ]
    }
   ],
   "source": [
    "# soup.select_one('선택자') : 해당 선택자 처음 하나만\n",
    "el = soup.select_one('h1') # 처음 나오는 h1태그 하나만\n",
    "print('el :', el)\n",
    "print('el.text :', el.text)\n",
    "print('el.string :', el.string)\n",
    "print('el의 속성들 :', el.attrs)\n",
    "print('el의 class 속성 :', el.attrs['class']) #class 속성은 하나라도 list로 생성\n",
    "print('el의 name :', el.name)"
   ]
  },
  {
   "cell_type": "code",
   "execution_count": 22,
   "id": "e1bbe2f5",
   "metadata": {},
   "outputs": [
    {
     "name": "stdout",
     "output_type": "stream",
     "text": [
      "el : [<h1 class=\"greeting css\" id=\"text\">Hello, CSS</h1>, <h1 class=\"css\">Hi, CSS</h1>]\n",
      "el들의 text : ['Hello, CSS', 'Hi, CSS']\n",
      "el들의 string : ['Hello, CSS', 'Hi, CSS']\n",
      "el들의 속성들 : [{'class': ['greeting', 'css'], 'id': 'text'}, {'class': ['css']}]\n",
      "el들의 class속성 : [['greeting', 'css'], ['css']]\n"
     ]
    }
   ],
   "source": [
    "# soup.select('선택자') : 해당 선택자 모든 엘리먼트를 리스트로\n",
    "el = soup.select('h1')\n",
    "print('el :', el)\n",
    "print('el들의 text :', [e.text for e in el])\n",
    "print('el들의 string :', [e.string for e in el])\n",
    "print('el들의 속성들 :', [e.attrs for e in el])\n",
    "print('el들의 class속성 :', [e.attrs['class'] for e in el])"
   ]
  },
  {
   "cell_type": "code",
   "execution_count": 33,
   "id": "b39d619f",
   "metadata": {},
   "outputs": [
    {
     "name": "stdout",
     "output_type": "stream",
     "text": [
      "모든 h1, span태그(select) : \n",
      "[<h1 class=\"greeting css\" id=\"text\">Hello, CSS</h1>, <h1 class=\"css\">Hi, CSS</h1>, <span>다른<b>요소가 반환</b></span>]\n",
      "모든 h1, span태그(find_all) :\n",
      "[<h1 class=\"greeting css\" id=\"text\">Hello, CSS</h1>, <h1 class=\"css\">Hi, CSS</h1>]\n",
      "select_one :\n",
      "<h1 class=\"greeting css\" id=\"text\">Hello, CSS</h1>\n",
      "find : \n",
      "<h1 class=\"greeting css\" id=\"text\">Hello, CSS</h1>\n",
      "find : \n",
      "[]\n",
      "find : \n",
      "None\n"
     ]
    }
   ],
   "source": [
    "# select(선택자)와 find_all(태그)\n",
    "print('모든 h1, span태그(select) : ', soup.select('h1.css, span'), sep='\\n')\n",
    "print('모든 h1, span태그(find_all) :', soup.find_all(['h1', 'span'],\n",
    "                                                    class_=['css']), sep='\\n')\n",
    "# select_one(선택자)와 find(태그, 속성)\n",
    "print('select_one :', soup.select_one('h1.css'), sep='\\n')\n",
    "print('find : ', soup.find('h1', class_='css'), sep='\\n')\n",
    "\n",
    "print('find : ', soup.find_all('a', class_='css'), sep='\\n')\n",
    "print('find : ', soup.find('a', class_='css'), sep='\\n')"
   ]
  },
  {
   "cell_type": "markdown",
   "id": "8274f51f",
   "metadata": {},
   "source": [
    "# 2절. 정적 웹 데이터 수집(정적 웹크롤링)\n",
    "\n",
    "## 2.1 JSON파일 - request모듈(get) / urllib.request 모듈(urlopen)"
   ]
  },
  {
   "cell_type": "code",
   "execution_count": 8,
   "id": "af4cecc1",
   "metadata": {},
   "outputs": [],
   "source": [
    "# 크롤링 허용범위는 사이트마다 ~/robots.txt에서 확인할 수 있습니다\n",
    "    # User-agent: 모든 크롤링을 허용(*), 지침을 적용할 크롤러를 지정\n",
    "    # Allow, Disallow: 크롤링을 제한할 경로 "
   ]
  },
  {
   "cell_type": "code",
   "execution_count": 7,
   "id": "27b10213",
   "metadata": {},
   "outputs": [
    {
     "data": {
      "text/plain": [
       "(<Response [200]>, 200)"
      ]
     },
     "execution_count": 7,
     "metadata": {},
     "output_type": "execute_result"
    }
   ],
   "source": [
    "# 방법1\n",
    "import requests\n",
    "response = requests.get('http://api.github.com')\n",
    "response, response.status_code"
   ]
  },
  {
   "cell_type": "code",
   "execution_count": 9,
   "id": "a898dcb1",
   "metadata": {},
   "outputs": [
    {
     "data": {
      "text/plain": [
       "b'{\"current_user_url\":\"https://api.github.com/user\",\"current_user_authorizations_html_url\":\"https://github.com/settings/connections/applications{/client_id}\",\"authorizations_url\":\"https://api.github.com/authorizations\",\"code_search_url\":\"https://api.github.com/search/code?q={query}{&page,per_page,sort,order}\",\"commit_search_url\":\"https://api.github.com/search/commits?q={query}{&page,per_page,sort,order}\",\"emails_url\":\"https://api.github.com/user/emails\",\"emojis_url\":\"https://api.github.com/emojis\",\"events_url\":\"https://api.github.com/events\",\"feeds_url\":\"https://api.github.com/feeds\",\"followers_url\":\"https://api.github.com/user/followers\",\"following_url\":\"https://api.github.com/user/following{/target}\",\"gists_url\":\"https://api.github.com/gists{/gist_id}\",\"hub_url\":\"https://api.github.com/hub\",\"issue_search_url\":\"https://api.github.com/search/issues?q={query}{&page,per_page,sort,order}\",\"issues_url\":\"https://api.github.com/issues\",\"keys_url\":\"https://api.github.com/user/keys\",\"label_search_url\":\"https://api.github.com/search/labels?q={query}&repository_id={repository_id}{&page,per_page}\",\"notifications_url\":\"https://api.github.com/notifications\",\"organization_url\":\"https://api.github.com/orgs/{org}\",\"organization_repositories_url\":\"https://api.github.com/orgs/{org}/repos{?type,page,per_page,sort}\",\"organization_teams_url\":\"https://api.github.com/orgs/{org}/teams\",\"public_gists_url\":\"https://api.github.com/gists/public\",\"rate_limit_url\":\"https://api.github.com/rate_limit\",\"repository_url\":\"https://api.github.com/repos/{owner}/{repo}\",\"repository_search_url\":\"https://api.github.com/search/repositories?q={query}{&page,per_page,sort,order}\",\"current_user_repositories_url\":\"https://api.github.com/user/repos{?type,page,per_page,sort}\",\"starred_url\":\"https://api.github.com/user/starred{/owner}{/repo}\",\"starred_gists_url\":\"https://api.github.com/gists/starred\",\"topic_search_url\":\"https://api.github.com/search/topics?q={query}{&page,per_page}\",\"user_url\":\"https://api.github.com/users/{user}\",\"user_organizations_url\":\"https://api.github.com/user/orgs\",\"user_repositories_url\":\"https://api.github.com/users/{user}/repos{?type,page,per_page,sort}\",\"user_search_url\":\"https://api.github.com/search/users?q={query}{&page,per_page,sort,order}\"}'"
      ]
     },
     "execution_count": 9,
     "metadata": {},
     "output_type": "execute_result"
    }
   ],
   "source": [
    "response.content # response.text"
   ]
  },
  {
   "cell_type": "code",
   "execution_count": 11,
   "id": "73fecf1e",
   "metadata": {},
   "outputs": [
    {
     "data": {
      "text/plain": [
       "dict"
      ]
     },
     "execution_count": 11,
     "metadata": {},
     "output_type": "execute_result"
    }
   ],
   "source": [
    "jsondata = response.json()\n",
    "type(jsondata)"
   ]
  },
  {
   "cell_type": "code",
   "execution_count": 12,
   "id": "f1938569",
   "metadata": {},
   "outputs": [
    {
     "data": {
      "text/plain": [
       "200"
      ]
     },
     "execution_count": 12,
     "metadata": {},
     "output_type": "execute_result"
    }
   ],
   "source": [
    "# 방법2\n",
    "from urllib.request import urlopen\n",
    "response = urlopen('http://api.github.com')\n",
    "response.status"
   ]
  },
  {
   "cell_type": "markdown",
   "id": "b2151538",
   "metadata": {},
   "source": [
    "## 2.2 BeautifulSoup 모듈을 활용 html 웹 데이터 수집\n",
    "### 1) 환율정보 가져오기 (네이버증권 > 시장지표)\n",
    "- https://finance.naver.com/marketindex/"
   ]
  },
  {
   "cell_type": "code",
   "execution_count": 31,
   "id": "193fc334",
   "metadata": {},
   "outputs": [],
   "source": [
    "# 방법1\n",
    "import requests\n",
    "from bs4 import BeautifulSoup\n",
    "url = 'https://finance.naver.com/marketindex/'\n",
    "response = requests.get(url)\n",
    "soup = BeautifulSoup(response.text, 'html.parser')"
   ]
  },
  {
   "cell_type": "code",
   "execution_count": 32,
   "id": "f47548a5",
   "metadata": {},
   "outputs": [],
   "source": [
    "# 방법2\n",
    "from urllib.request import urlopen\n",
    "url = 'https://finance.naver.com/marketindex/'\n",
    "response = urlopen(url)\n",
    "soup = BeautifulSoup(response, 'html.parser')"
   ]
  },
  {
   "cell_type": "code",
   "execution_count": 36,
   "id": "cff49d13",
   "metadata": {},
   "outputs": [],
   "source": [
    "price = soup.select('div.head_info > span.value')\n",
    "# [round(float(''.join(p.text.split(','))), 2) for p in price]\n",
    "# [round(float(p.text.replace(',','')), 2) for p in price]"
   ]
  },
  {
   "cell_type": "code",
   "execution_count": 37,
   "id": "885f5022",
   "metadata": {},
   "outputs": [
    {
     "name": "stdout",
     "output_type": "stream",
     "text": [
      "미국 USD\t일본 JPY(100엔)\t유럽연합 EUR\t중국 CNY\t달러/일본 엔\t유로/달러\t영국 파운드/달러\t달러인덱스\tWTI\t휘발유\t국제 금\t국내 금\t"
     ]
    }
   ],
   "source": [
    "title = soup.select('h3.h_lst > span.blind')\n",
    "for t in title:\n",
    "    print(t.text, end='\\t')"
   ]
  },
  {
   "cell_type": "code",
   "execution_count": 40,
   "id": "5b174c00",
   "metadata": {
    "scrolled": true
   },
   "outputs": [
    {
     "data": {
      "text/plain": [
       "['원', '원', '원', '원', '엔', '달러', '달러', '', '달러', '원', '달러', '원']"
      ]
     },
     "execution_count": 40,
     "metadata": {},
     "output_type": "execute_result"
    }
   ],
   "source": [
    "unit = soup.select('div.head_info > span > span.blind')\n",
    "unit = [u.text for u in unit]\n",
    "unit.insert(7, '')\n",
    "unit"
   ]
  },
  {
   "cell_type": "code",
   "execution_count": 41,
   "id": "f2c04667",
   "metadata": {},
   "outputs": [
    {
     "name": "stdout",
     "output_type": "stream",
     "text": [
      "상승\t상승\t상승\t상승\t하락\t상승\t상승\t하락\t하락\t상승\t하락\t상승\t"
     ]
    }
   ],
   "source": [
    "status = soup.select('div.head_info > span.blind')\n",
    "for idx in range(len(status)):\n",
    "    print(status[idx].text, end='\\t')"
   ]
  },
  {
   "cell_type": "code",
   "execution_count": 42,
   "id": "98f1739d",
   "metadata": {},
   "outputs": [
    {
     "data": {
      "text/plain": [
       "(12, 12, 12, 12)"
      ]
     },
     "execution_count": 42,
     "metadata": {},
     "output_type": "execute_result"
    }
   ],
   "source": [
    "len(title), len(price), len(unit), len(status)"
   ]
  },
  {
   "cell_type": "code",
   "execution_count": 43,
   "id": "34a19c75",
   "metadata": {},
   "outputs": [
    {
     "name": "stdout",
     "output_type": "stream",
     "text": [
      "미국 USD : 1,419.00 원 - 상승\n",
      "일본 JPY(100엔) : 946.41 원 - 상승\n",
      "유럽연합 EUR : 1,500.17 원 - 상승\n",
      "중국 CNY : 195.36 원 - 상승\n",
      "달러/일본 엔 : 150.4400 엔 - 하락\n",
      "유로/달러 : 1.0575 달러 - 상승\n",
      "영국 파운드/달러 : 1.2758 달러 - 상승\n",
      "달러인덱스 : 105.7000  - 하락\n",
      "WTI : 68.3 달러 - 하락\n",
      "휘발유 : 1644.05 원 - 상승\n",
      "국제 금 : 2648.4 달러 - 하락\n",
      "국내 금 : 120302.62 원 - 상승\n"
     ]
    }
   ],
   "source": [
    "for idx in range(len(title)):\n",
    "    print(\"{} : {} {} - {}\".format(title[idx].text, \n",
    "                                   price[idx].text,\n",
    "                                   unit[idx],\n",
    "                                   status[idx].text))"
   ]
  },
  {
   "cell_type": "code",
   "execution_count": 45,
   "id": "948e0467",
   "metadata": {},
   "outputs": [
    {
     "name": "stdout",
     "output_type": "stream",
     "text": [
      "미국 USD : 1,419.00원 - 상승\n",
      "일본 JPY(100엔) : 946.41원 - 상승\n",
      "유럽연합 EUR : 1,500.17원 - 상승\n",
      "중국 CNY : 195.36원 - 상승\n",
      "달러/일본 엔 : 150.4400엔 - 하락\n",
      "유로/달러 : 1.0575달러 - 상승\n",
      "영국 파운드/달러 : 1.2758달러 - 상승\n",
      "달러인덱스 : 105.7000 - 하락\n",
      "WTI : 68.3달러 - 하락\n",
      "휘발유 : 1644.05원 - 상승\n",
      "국제 금 : 2648.4달러 - 하락\n",
      "국내 금 : 120302.62원 - 상승\n"
     ]
    }
   ],
   "source": [
    "for t, p, u, s in zip(title, price, unit, status):\n",
    "    print(\"{} : {}{} - {}\".format(t.text, p.text, u, s.text))"
   ]
  },
  {
   "cell_type": "markdown",
   "id": "d0a72465",
   "metadata": {},
   "source": [
    "### 2) 이번주 로또 번호 출력\n",
    "- https://dhlottery.co.kr/gameResult.do?method=byWin\n",
    "```\n",
    "1148회 (2024년11월30일 추첨)\n",
    "당첨번호 : [3, 6, 13, 15, 16, 22]\n",
    "보너스번호 : 32\n",
    "```"
   ]
  },
  {
   "cell_type": "code",
   "execution_count": 47,
   "id": "a9c34f72",
   "metadata": {},
   "outputs": [],
   "source": [
    "# 방법1\n",
    "import requests\n",
    "from bs4 import BeautifulSoup\n",
    "url = 'https://dhlottery.co.kr/gameResult.do?method=byWin'\n",
    "response = requests.get(url)\n",
    "soup = BeautifulSoup(response.text, 'html.parser')"
   ]
  },
  {
   "cell_type": "code",
   "execution_count": 48,
   "id": "867b798e",
   "metadata": {},
   "outputs": [],
   "source": [
    "# 방법2\n",
    "from urllib.request import urlopen\n",
    "url = 'https://dhlottery.co.kr/gameResult.do?method=byWin'\n",
    "response = urlopen(url)\n",
    "soup = BeautifulSoup(response, 'html.parser')"
   ]
  },
  {
   "cell_type": "code",
   "execution_count": 83,
   "id": "bddb46ee",
   "metadata": {},
   "outputs": [
    {
     "name": "stdout",
     "output_type": "stream",
     "text": [
      "1148회 (2024년 11월 30일 추첨)\n",
      "로또 번호 : [3, 6, 13, 15, 16, 22]\n",
      "보너스 번호 : 32\n"
     ]
    }
   ],
   "source": [
    "times = soup.select_one('div.win_result strong').text # '1148회'\n",
    "date  = soup.select_one('div.win_result p.desc').text # '(2024년 11월 30일 추첨)'\n",
    "print(times, date)\n",
    "lotto_numbers = soup.select('div.num.win span')\n",
    "print('로또 번호 :', [int(lotto.text) for lotto in lotto_numbers])\n",
    "bonus_number = soup.select_one('div.num.bonus span').text\n",
    "print('보너스 번호 :', bonus_number)"
   ]
  },
  {
   "cell_type": "code",
   "execution_count": 88,
   "id": "5eb93fd2",
   "metadata": {},
   "outputs": [
    {
     "name": "stdout",
     "output_type": "stream",
     "text": [
      "1148회 (2024년 11월 30일 추첨)\n",
      "로또 번호 : [3, 6, 13, 15, 16, 22]\n",
      "보너스 번호 : 32\n"
     ]
    }
   ],
   "source": [
    "#times = soup.select_one('div.win_result strong').text\n",
    "#date  = soup.select_one('div.win_result p.desc').text\n",
    "winresult = soup.find('div', class_='win_result')\n",
    "times     = winresult.find('strong').text\n",
    "date      = winresult.find('p', class_='desc').text\n",
    "print(times, date)\n",
    "#lotto_numbers = soup.select('div.num.win span')\n",
    "win = soup.find('div', class_=['win'])\n",
    "lotto_numbers = win.find_all('span')\n",
    "print('로또 번호 :', [int(lotto.text) for lotto in lotto_numbers])\n",
    "\n",
    "#bonus_number = soup.select_one('div.num.bonus span').text\n",
    "bonus = soup.find('div', class_='bonus')\n",
    "bonus_numbers = bonus.find('span').text\n",
    "print('보너스 번호 :', bonus_number)"
   ]
  },
  {
   "cell_type": "markdown",
   "id": "c1e98443",
   "metadata": {},
   "source": [
    "### 3) 다음 검색 리스트\n",
    "```\n",
    "no title                                                          href\n",
    "0 \"비트코인 8800만원에 주운 사람이 승자\"…한밤 불태운 코인 투자자들 https://v.daum.~\n",
    "1 [속보] 비트코인 '쇼크'…30% 급락                                https://~\n",
    "2 10만 달러 찍은 비트코인… 더 오를까, 내릴까                      https://~\n",
    "```"
   ]
  },
  {
   "cell_type": "code",
   "execution_count": 2,
   "id": "72c5626b",
   "metadata": {},
   "outputs": [
    {
     "data": {
      "text/html": [
       "<div>\n",
       "<style scoped>\n",
       "    .dataframe tbody tr th:only-of-type {\n",
       "        vertical-align: middle;\n",
       "    }\n",
       "\n",
       "    .dataframe tbody tr th {\n",
       "        vertical-align: top;\n",
       "    }\n",
       "\n",
       "    .dataframe thead th {\n",
       "        text-align: right;\n",
       "    }\n",
       "</style>\n",
       "<table border=\"1\" class=\"dataframe\">\n",
       "  <thead>\n",
       "    <tr style=\"text-align: right;\">\n",
       "      <th></th>\n",
       "      <th>no</th>\n",
       "      <th>title</th>\n",
       "      <th>link</th>\n",
       "    </tr>\n",
       "  </thead>\n",
       "  <tbody>\n",
       "    <tr>\n",
       "      <th>0</th>\n",
       "      <td>0</td>\n",
       "      <td>10만 달러 찍은 비트코인 '금' 대체할까···\"내년 20만 달러 가능\"</td>\n",
       "      <td>http://v.daum.net/v/20241209060905864</td>\n",
       "    </tr>\n",
       "    <tr>\n",
       "      <th>1</th>\n",
       "      <td>1</td>\n",
       "      <td>10만달러 돌파한 비트코인 내년 말까지 20만달러 돌파한다</td>\n",
       "      <td>http://v.daum.net/v/20241209071337645</td>\n",
       "    </tr>\n",
       "    <tr>\n",
       "      <th>2</th>\n",
       "      <td>2</td>\n",
       "      <td>[탄핵 부결] 2차 탄핵 가능성에 놀란 투심… \"비트코인 15만 달러 전망\"</td>\n",
       "      <td>http://v.daum.net/v/20241208112020269</td>\n",
       "    </tr>\n",
       "    <tr>\n",
       "      <th>3</th>\n",
       "      <td>3</td>\n",
       "      <td>[굿모닝 마켓] 비트코인, 새 수장 지명에 탄력…다시 10만 달러로</td>\n",
       "      <td>http://v.daum.net/v/20241209081212491</td>\n",
       "    </tr>\n",
       "    <tr>\n",
       "      <th>4</th>\n",
       "      <td>4</td>\n",
       "      <td>20만 달러까지 상승? 비트코인 10만 달러 재돌파</td>\n",
       "      <td>http://v.daum.net/v/20241209080336301</td>\n",
       "    </tr>\n",
       "    <tr>\n",
       "      <th>5</th>\n",
       "      <td>5</td>\n",
       "      <td>비트코인, 채굴자 매도세에도 1억4100만원대 회복</td>\n",
       "      <td>http://v.daum.net/v/20241209094130683</td>\n",
       "    </tr>\n",
       "    <tr>\n",
       "      <th>6</th>\n",
       "      <td>6</td>\n",
       "      <td>10만달러 돌파→재돌파…'트럼프 효과'에 고래도 춤췄다[비트코인 지금]</td>\n",
       "      <td>http://v.daum.net/v/20241209004217086</td>\n",
       "    </tr>\n",
       "    <tr>\n",
       "      <th>7</th>\n",
       "      <td>7</td>\n",
       "      <td>엘살바도르 \"비트코인 목표가 3억에서 31억원으로 상향\"[코인브리핑]</td>\n",
       "      <td>http://v.daum.net/v/20241209094403801</td>\n",
       "    </tr>\n",
       "    <tr>\n",
       "      <th>8</th>\n",
       "      <td>8</td>\n",
       "      <td>\"이번엔 비트코인이다\"…미·러 패권 전쟁의 시작</td>\n",
       "      <td>http://v.daum.net/v/20241208171901266</td>\n",
       "    </tr>\n",
       "    <tr>\n",
       "      <th>9</th>\n",
       "      <td>9</td>\n",
       "      <td>파월 “비트코인은 금의 경쟁자” 비트코인 9.9만달러 돌파(종합)</td>\n",
       "      <td>http://v.daum.net/v/20241205083815879</td>\n",
       "    </tr>\n",
       "  </tbody>\n",
       "</table>\n",
       "</div>"
      ],
      "text/plain": [
       "   no                                         title  \\\n",
       "0   0     10만 달러 찍은 비트코인 '금' 대체할까···\"내년 20만 달러 가능\"    \n",
       "1   1             10만달러 돌파한 비트코인 내년 말까지 20만달러 돌파한다    \n",
       "2   2   [탄핵 부결] 2차 탄핵 가능성에 놀란 투심… \"비트코인 15만 달러 전망\"    \n",
       "3   3        [굿모닝 마켓] 비트코인, 새 수장 지명에 탄력…다시 10만 달러로    \n",
       "4   4                 20만 달러까지 상승? 비트코인 10만 달러 재돌파    \n",
       "5   5                 비트코인, 채굴자 매도세에도 1억4100만원대 회복    \n",
       "6   6      10만달러 돌파→재돌파…'트럼프 효과'에 고래도 춤췄다[비트코인 지금]    \n",
       "7   7       엘살바도르 \"비트코인 목표가 3억에서 31억원으로 상향\"[코인브리핑]    \n",
       "8   8                   \"이번엔 비트코인이다\"…미·러 패권 전쟁의 시작    \n",
       "9   9         파월 “비트코인은 금의 경쟁자” 비트코인 9.9만달러 돌파(종합)    \n",
       "\n",
       "                                    link  \n",
       "0  http://v.daum.net/v/20241209060905864  \n",
       "1  http://v.daum.net/v/20241209071337645  \n",
       "2  http://v.daum.net/v/20241208112020269  \n",
       "3  http://v.daum.net/v/20241209081212491  \n",
       "4  http://v.daum.net/v/20241209080336301  \n",
       "5  http://v.daum.net/v/20241209094130683  \n",
       "6  http://v.daum.net/v/20241209004217086  \n",
       "7  http://v.daum.net/v/20241209094403801  \n",
       "8  http://v.daum.net/v/20241208171901266  \n",
       "9  http://v.daum.net/v/20241205083815879  "
      ]
     },
     "execution_count": 2,
     "metadata": {},
     "output_type": "execute_result"
    }
   ],
   "source": [
    "import requests\n",
    "from bs4 import BeautifulSoup\n",
    "url = 'https://search.daum.net/search?w=news&nil_search=btn&DA=PGD&enc=utf8&cluster=y&cluster_page=1&q=비트코인'\n",
    "response = requests.get(url)\n",
    "soup = BeautifulSoup(response.text, \"html.parser\")\n",
    "items_find_list = [] # 검색한 결과를 담을 dict 리스트\n",
    "items_el = soup.select('div.item-title > strong.tit-g > a')\n",
    "for idx, item in enumerate(items_el):\n",
    "    items_find_list.append({'no':idx, \n",
    "                            'title':item.text,\n",
    "                            'link':item.attrs['href']\n",
    "                           })\n",
    "import pandas as pd\n",
    "pd.DataFrame(items_find_list)"
   ]
  },
  {
   "cell_type": "code",
   "execution_count": 103,
   "id": "cc643dc7",
   "metadata": {},
   "outputs": [
    {
     "data": {
      "text/html": [
       "<div>\n",
       "<style scoped>\n",
       "    .dataframe tbody tr th:only-of-type {\n",
       "        vertical-align: middle;\n",
       "    }\n",
       "\n",
       "    .dataframe tbody tr th {\n",
       "        vertical-align: top;\n",
       "    }\n",
       "\n",
       "    .dataframe thead th {\n",
       "        text-align: right;\n",
       "    }\n",
       "</style>\n",
       "<table border=\"1\" class=\"dataframe\">\n",
       "  <thead>\n",
       "    <tr style=\"text-align: right;\">\n",
       "      <th></th>\n",
       "      <th>no</th>\n",
       "      <th>title</th>\n",
       "      <th>link</th>\n",
       "    </tr>\n",
       "  </thead>\n",
       "  <tbody>\n",
       "    <tr>\n",
       "      <th>0</th>\n",
       "      <td>0</td>\n",
       "      <td>'10만 달러' 넘어선 비트코인...\"고점 아직\"vs\"과열\"</td>\n",
       "      <td>http://v.daum.net/v/20241206135550190</td>\n",
       "    </tr>\n",
       "    <tr>\n",
       "      <th>1</th>\n",
       "      <td>1</td>\n",
       "      <td>트럼프 “비트코인 10만 달러, 천만에요”</td>\n",
       "      <td>http://v.daum.net/v/20241205230018960</td>\n",
       "    </tr>\n",
       "    <tr>\n",
       "      <th>2</th>\n",
       "      <td>2</td>\n",
       "      <td>비트코인, 차익 실현 매물에 5% 급락…1억3700만원대</td>\n",
       "      <td>http://v.daum.net/v/20241206092917378</td>\n",
       "    </tr>\n",
       "    <tr>\n",
       "      <th>3</th>\n",
       "      <td>3</td>\n",
       "      <td>비트코인 5%↑ 10만달러 돌파…급등 이유 2가지(종합2)</td>\n",
       "      <td>http://v.daum.net/v/20241205122727799</td>\n",
       "    </tr>\n",
       "    <tr>\n",
       "      <th>4</th>\n",
       "      <td>4</td>\n",
       "      <td>10만 달러 찍은 비트코인… 더 오를까, 내릴까</td>\n",
       "      <td>http://v.daum.net/v/20241206151520972</td>\n",
       "    </tr>\n",
       "    <tr>\n",
       "      <th>5</th>\n",
       "      <td>5</td>\n",
       "      <td>비트코인 갑론을박...\"20만달러 vs 단기조정\"</td>\n",
       "      <td>http://v.daum.net/v/20241206103251287</td>\n",
       "    </tr>\n",
       "    <tr>\n",
       "      <th>6</th>\n",
       "      <td>6</td>\n",
       "      <td>비트코인, 다시 10만 달러 붕괴…향후 전망은?</td>\n",
       "      <td>http://v.daum.net/v/20241206090709632</td>\n",
       "    </tr>\n",
       "    <tr>\n",
       "      <th>7</th>\n",
       "      <td>7</td>\n",
       "      <td>'10만 달러' 넘은 비트코인, 어디까지 갈까 [글로벌 뉴스픽]</td>\n",
       "      <td>http://v.daum.net/v/20241206062101852</td>\n",
       "    </tr>\n",
       "    <tr>\n",
       "      <th>8</th>\n",
       "      <td>8</td>\n",
       "      <td>‘10만 돌파’ 비트코인, 금 대체한다...번스타인 주장</td>\n",
       "      <td>http://v.daum.net/v/20241206163907954</td>\n",
       "    </tr>\n",
       "    <tr>\n",
       "      <th>9</th>\n",
       "      <td>9</td>\n",
       "      <td>비트코인, 세계 7위 자산 등극[엠블록레터]</td>\n",
       "      <td>http://v.daum.net/v/20241206161800233</td>\n",
       "    </tr>\n",
       "  </tbody>\n",
       "</table>\n",
       "</div>"
      ],
      "text/plain": [
       "   no                                  title  \\\n",
       "0   0     '10만 달러' 넘어선 비트코인...\"고점 아직\"vs\"과열\"    \n",
       "1   1               트럼프 “비트코인 10만 달러, 천만에요”    \n",
       "2   2       비트코인, 차익 실현 매물에 5% 급락…1억3700만원대    \n",
       "3   3      비트코인 5%↑ 10만달러 돌파…급등 이유 2가지(종합2)    \n",
       "4   4            10만 달러 찍은 비트코인… 더 오를까, 내릴까    \n",
       "5   5           비트코인 갑론을박...\"20만달러 vs 단기조정\"    \n",
       "6   6            비트코인, 다시 10만 달러 붕괴…향후 전망은?    \n",
       "7   7   '10만 달러' 넘은 비트코인, 어디까지 갈까 [글로벌 뉴스픽]    \n",
       "8   8       ‘10만 돌파’ 비트코인, 금 대체한다...번스타인 주장    \n",
       "9   9              비트코인, 세계 7위 자산 등극[엠블록레터]    \n",
       "\n",
       "                                    link  \n",
       "0  http://v.daum.net/v/20241206135550190  \n",
       "1  http://v.daum.net/v/20241205230018960  \n",
       "2  http://v.daum.net/v/20241206092917378  \n",
       "3  http://v.daum.net/v/20241205122727799  \n",
       "4  http://v.daum.net/v/20241206151520972  \n",
       "5  http://v.daum.net/v/20241206103251287  \n",
       "6  http://v.daum.net/v/20241206090709632  \n",
       "7  http://v.daum.net/v/20241206062101852  \n",
       "8  http://v.daum.net/v/20241206163907954  \n",
       "9  http://v.daum.net/v/20241206161800233  "
      ]
     },
     "execution_count": 103,
     "metadata": {},
     "output_type": "execute_result"
    }
   ],
   "source": [
    "import requests\n",
    "from bs4 import BeautifulSoup\n",
    "url = 'https://search.daum.net/search?w=news&nil_search=btn&DA=PGD&enc=utf8&cluster=y&cluster_page=1&q=비트코인'\n",
    "response = requests.get(url)\n",
    "soup = BeautifulSoup(response.text, \"html.parser\")\n",
    "items_find_list = [] # 검색한 결과를 담을 2차원 리스트\n",
    "items_el = soup.select('div.item-title > strong.tit-g > a')\n",
    "for idx, item in enumerate(items_el):\n",
    "    items_find_list.append([idx, item.text, item.attrs['href']])\n",
    "#print(items_find_list)\n",
    "import pandas as pd\n",
    "pd.DataFrame(items_find_list, columns=['no','title','link'])"
   ]
  },
  {
   "cell_type": "code",
   "execution_count": 124,
   "id": "72327943",
   "metadata": {},
   "outputs": [
    {
     "data": {
      "text/html": [
       "<div>\n",
       "<style scoped>\n",
       "    .dataframe tbody tr th:only-of-type {\n",
       "        vertical-align: middle;\n",
       "    }\n",
       "\n",
       "    .dataframe tbody tr th {\n",
       "        vertical-align: top;\n",
       "    }\n",
       "\n",
       "    .dataframe thead th {\n",
       "        text-align: right;\n",
       "    }\n",
       "</style>\n",
       "<table border=\"1\" class=\"dataframe\">\n",
       "  <thead>\n",
       "    <tr style=\"text-align: right;\">\n",
       "      <th></th>\n",
       "      <th>no</th>\n",
       "      <th>title</th>\n",
       "      <th>link</th>\n",
       "    </tr>\n",
       "  </thead>\n",
       "  <tbody>\n",
       "    <tr>\n",
       "      <th>0</th>\n",
       "      <td>0</td>\n",
       "      <td>'10만 달러' 넘어선 비트코인...\"고점 아직\"vs\"과열\"</td>\n",
       "      <td>http://v.daum.net/v/20241206135550190</td>\n",
       "    </tr>\n",
       "    <tr>\n",
       "      <th>1</th>\n",
       "      <td>1</td>\n",
       "      <td>트럼프 “비트코인 10만 달러, 천만에요”</td>\n",
       "      <td>http://v.daum.net/v/20241205230018960</td>\n",
       "    </tr>\n",
       "    <tr>\n",
       "      <th>2</th>\n",
       "      <td>2</td>\n",
       "      <td>비트코인, 차익 실현 매물에 5% 급락…1억3700만원대</td>\n",
       "      <td>http://v.daum.net/v/20241206092917378</td>\n",
       "    </tr>\n",
       "    <tr>\n",
       "      <th>3</th>\n",
       "      <td>3</td>\n",
       "      <td>비트코인 5%↑ 10만달러 돌파…급등 이유 2가지(종합2)</td>\n",
       "      <td>http://v.daum.net/v/20241205122727799</td>\n",
       "    </tr>\n",
       "    <tr>\n",
       "      <th>4</th>\n",
       "      <td>4</td>\n",
       "      <td>10만 달러 찍은 비트코인… 더 오를까, 내릴까</td>\n",
       "      <td>http://v.daum.net/v/20241206151520972</td>\n",
       "    </tr>\n",
       "    <tr>\n",
       "      <th>5</th>\n",
       "      <td>5</td>\n",
       "      <td>비트코인 갑론을박...\"20만달러 vs 단기조정\"</td>\n",
       "      <td>http://v.daum.net/v/20241206103251287</td>\n",
       "    </tr>\n",
       "    <tr>\n",
       "      <th>6</th>\n",
       "      <td>6</td>\n",
       "      <td>비트코인, 다시 10만 달러 붕괴…향후 전망은?</td>\n",
       "      <td>http://v.daum.net/v/20241206090709632</td>\n",
       "    </tr>\n",
       "    <tr>\n",
       "      <th>7</th>\n",
       "      <td>7</td>\n",
       "      <td>'10만 달러' 넘은 비트코인, 어디까지 갈까 [글로벌 뉴스픽]</td>\n",
       "      <td>http://v.daum.net/v/20241206062101852</td>\n",
       "    </tr>\n",
       "    <tr>\n",
       "      <th>8</th>\n",
       "      <td>8</td>\n",
       "      <td>‘10만 돌파’ 비트코인, 금 대체한다...번스타인 주장</td>\n",
       "      <td>http://v.daum.net/v/20241206163907954</td>\n",
       "    </tr>\n",
       "    <tr>\n",
       "      <th>9</th>\n",
       "      <td>9</td>\n",
       "      <td>비트코인, 세계 7위 자산 등극[엠블록레터]</td>\n",
       "      <td>http://v.daum.net/v/20241206161800233</td>\n",
       "    </tr>\n",
       "  </tbody>\n",
       "</table>\n",
       "</div>"
      ],
      "text/plain": [
       "   no                                  title  \\\n",
       "0   0     '10만 달러' 넘어선 비트코인...\"고점 아직\"vs\"과열\"    \n",
       "1   1               트럼프 “비트코인 10만 달러, 천만에요”    \n",
       "2   2       비트코인, 차익 실현 매물에 5% 급락…1억3700만원대    \n",
       "3   3      비트코인 5%↑ 10만달러 돌파…급등 이유 2가지(종합2)    \n",
       "4   4            10만 달러 찍은 비트코인… 더 오를까, 내릴까    \n",
       "5   5           비트코인 갑론을박...\"20만달러 vs 단기조정\"    \n",
       "6   6            비트코인, 다시 10만 달러 붕괴…향후 전망은?    \n",
       "7   7   '10만 달러' 넘은 비트코인, 어디까지 갈까 [글로벌 뉴스픽]    \n",
       "8   8       ‘10만 돌파’ 비트코인, 금 대체한다...번스타인 주장    \n",
       "9   9              비트코인, 세계 7위 자산 등극[엠블록레터]    \n",
       "\n",
       "                                    link  \n",
       "0  http://v.daum.net/v/20241206135550190  \n",
       "1  http://v.daum.net/v/20241205230018960  \n",
       "2  http://v.daum.net/v/20241206092917378  \n",
       "3  http://v.daum.net/v/20241205122727799  \n",
       "4  http://v.daum.net/v/20241206151520972  \n",
       "5  http://v.daum.net/v/20241206103251287  \n",
       "6  http://v.daum.net/v/20241206090709632  \n",
       "7  http://v.daum.net/v/20241206062101852  \n",
       "8  http://v.daum.net/v/20241206163907954  \n",
       "9  http://v.daum.net/v/20241206161800233  "
      ]
     },
     "execution_count": 124,
     "metadata": {},
     "output_type": "execute_result"
    }
   ],
   "source": [
    "items_find_list = [] # 검색한 결과를 담을 2차원 리스트(div.item-title > strong.tit-g > a)\n",
    "item_titles = soup.find_all('div', class_='item-title')\n",
    "\n",
    "for idx, item in enumerate(item_titles):\n",
    "    strong = item.find('strong')\n",
    "    if strong:\n",
    "        a = strong.find('a')\n",
    "        items_find_list.append([idx, a.text, a.attrs['href']])\n",
    "pd.DataFrame(items_find_list, columns=['no', 'title', 'link'])"
   ]
  },
  {
   "cell_type": "code",
   "execution_count": 3,
   "id": "014fe087",
   "metadata": {},
   "outputs": [],
   "source": [
    "# 다음검색(원하는 키워드를 원하는 페이지 수)\n",
    "import requests\n",
    "from bs4 import BeautifulSoup\n",
    "import time\n",
    "import pandas as pd\n",
    "# print하는 함수\n",
    "def collect_list(keyword, page):\n",
    "    'keyword로 page에 다음검색한 결과를 출력 '\n",
    "#     url = 'https://search.daum.net/search?w=news&nil_search=btn&DA=PGD&enc=utf8&cluster=y&q={}&p={}'.format(keyword, \n",
    "#                                                                                                            page)\n",
    "#     response = requests.get(url)\n",
    "    url = 'https://search.daum.net/search?w=news&nil_search=btn&DA=PGD&enc=utf8&cluster=y'\n",
    "    params = {'q':keyword, 'p':page}\n",
    "    response = requests.get(url, params=params)\n",
    "    soup = BeautifulSoup(response.text, \"html.parser\")\n",
    "    items_find_list = [] # 검색한 결과를 담을 2차원 리스트(div.item-title > strong.tit-g > a)\n",
    "    item_titles = soup.find_all('div', class_='item-title')\n",
    "\n",
    "    for idx, item in enumerate(item_titles):\n",
    "        strong = item.find('strong')\n",
    "        if strong:\n",
    "            a = strong.find('a')\n",
    "            items_find_list.append([(page-1)*10+idx, a.text, a.attrs['href']])\n",
    "            print((page-1)*10+idx, a.text, a['href'])\n",
    "    #return items_find_list"
   ]
  },
  {
   "cell_type": "code",
   "execution_count": 5,
   "id": "6029d246",
   "metadata": {},
   "outputs": [
    {
     "name": "stdout",
     "output_type": "stream",
     "text": [
      "0  에스파 닝닝, 워너비 청바지 핏..연일 리즈 찍는 비주얼 [스타IN★]  http://v.daum.net/v/20241208001414598\n",
      "1  56세 채시라, 흰티+청바지핏 20대 뺨쳐‥평생이 예쁘네  http://v.daum.net/v/20241205102113139\n",
      "2  힙라인 美쳤다...'골프 여신' 유현주, 청바지 입고 뽐낸 '공격적 뒤태'  http://v.daum.net/v/20241208200005828\n",
      "3  이시영, 얼어죽어도 美! 폭설 속 찢어진 청바지에 돼지코 신발로 시선 강탈!  http://v.daum.net/v/20241127170304793\n",
      "4  56세 채시라, 흰 티에 청바지만 입어도 완벽… '데님 여신' 귀환  http://v.daum.net/v/20241206205810264\n",
      "5  ‘미스쓰리랑’ 김소연, 박상민과 ‘청바지 아가씨’ 즉석 화음  http://v.daum.net/v/20241129012015847\n",
      "6  50대의 흰티·청바지, 채시라 걸그룹 몸매 인증  http://v.daum.net/v/20241206020014186\n",
      "7  서주경, 전성기 파격 패션 “몸매 예뻐 청바지 오픈” (퍼펙트)[결정적장면]  http://v.daum.net/v/20241128060836398\n",
      "8  채시라, 흰티+청바지 완벽 소화…50대 나이 안 믿기는 몸매 [MD★스타]  http://v.daum.net/v/20241206162024306\n",
      "9  크리스탈 ‘청바지에 가디건만 툭 걸쳐도 예쁨 완성’[포토엔HD]  http://v.daum.net/v/20241203100807187\n"
     ]
    }
   ],
   "source": [
    "collect_list('청바지', 1)"
   ]
  },
  {
   "cell_type": "code",
   "execution_count": 9,
   "id": "daa9d199",
   "metadata": {},
   "outputs": [
    {
     "name": "stdout",
     "output_type": "stream",
     "text": [
      "\n",
      "▒▒▒▒▒▒▒▒▒▒▒ 청바지 검색 결과 입니다 ▒▒▒▒▒▒▒▒▒▒▒\n",
      "\n",
      "0  에스파 닝닝, 워너비 청바지 핏..연일 리즈 찍는 비주얼 [스타IN★]  http://v.daum.net/v/20241208001414598\n",
      "1  56세 채시라, 흰티+청바지핏 20대 뺨쳐‥평생이 예쁘네  http://v.daum.net/v/20241205102113139\n",
      "2  힙라인 美쳤다...'골프 여신' 유현주, 청바지 입고 뽐낸 '공격적 뒤태'  http://v.daum.net/v/20241208200005828\n",
      "3  이시영, 얼어죽어도 美! 폭설 속 찢어진 청바지에 돼지코 신발로 시선 강탈!  http://v.daum.net/v/20241127170304793\n",
      "4  56세 채시라, 흰 티에 청바지만 입어도 완벽… '데님 여신' 귀환  http://v.daum.net/v/20241206205810264\n",
      "5  ‘미스쓰리랑’ 김소연, 박상민과 ‘청바지 아가씨’ 즉석 화음  http://v.daum.net/v/20241129012015847\n",
      "6  50대의 흰티·청바지, 채시라 걸그룹 몸매 인증  http://v.daum.net/v/20241206020014186\n",
      "7  서주경, 전성기 파격 패션 “몸매 예뻐 청바지 오픈” (퍼펙트)[결정적장면]  http://v.daum.net/v/20241128060836398\n",
      "8  채시라, 흰티+청바지 완벽 소화…50대 나이 안 믿기는 몸매 [MD★스타]  http://v.daum.net/v/20241206162024306\n",
      "9  크리스탈 ‘청바지에 가디건만 툭 걸쳐도 예쁨 완성’[포토엔HD]  http://v.daum.net/v/20241203100807187\n",
      "10  집에 굴러다니는 청바지 하나로 리사처럼 멋 내는 법  http://v.daum.net/v/20241127172605719\n",
      "11  서주경, 원조 섹시스타? 청바지 골반에 걸치고 당돌했던 패션(퍼펙트 라이프)  http://v.daum.net/v/20241127153650717\n",
      "12  고우리 ‘청바지가 잘 어울려’ [MK포토]  http://v.daum.net/v/20241205164814052\n",
      "13  [ET포토] 베이비몬스터 아현, '셔츠에 청바지면 완벽'  http://v.daum.net/v/20241204153708872\n",
      "14  제주서 청바지에 오리발 낀 시신 발견돼…실종 모터보트 선장 추정 \"확인 중\"  http://v.daum.net/v/20241124142017794\n",
      "15  대구시행복진흥원, 2024 청바지(청년이 바라는 지금 가족) 아카데미 발대식 개최  http://v.daum.net/v/20241109214942252\n",
      "16  미스전남 진 이하정 '청바지가 잘 어울리는 여자' [포토]  http://v.daum.net/v/20241205173202831\n",
      "17  ‘美 언더아머’ 가방에 청바지 입은 北학생… 러시아 유튜버가 포착한 평양의 모습  http://v.daum.net/v/20241129115100297\n",
      "18  김태리, 흰티+청바지 입은 정년이‥시크해도 예쁘네  http://v.daum.net/v/20241106084401512\n",
      "19  [美대선 D-1] 청바지 입은 해리스, 미화원 조끼 걸친 트럼프…패션 필살기는  http://v.daum.net/v/20241104162858090\n",
      "20  해리스는 청바지·트럼프는 미화원 조끼…패션으로 읽는 美 대선  http://v.daum.net/v/20241105233634359\n",
      "21  트럼프의 앞치마 vs 해리스의 청바지…‘서민 소통 상징’으로 패션정치 대결 [박영실의 이미지 브랜딩]  http://v.daum.net/v/20241103060502246\n",
      "22  김지원, 청바지에 숏패딩만 입어도 청순‥입술 쭉 애교는 덤  http://v.daum.net/v/20241120155408078\n",
      "23  가죽재킷·청바지 입은 '힙한' 비올레타가 온다…'라 트라비아타'  http://v.daum.net/v/20241111092157682\n",
      "24  ‘마이큐♥’ 김나영, 애들 없이 청바지만? ‘수영복 벗고 드러난 완벽 핏’  http://v.daum.net/v/20241105104509753\n",
      "25  홍주연 아나 슬리퍼+청바지 출근룩에 엄지인 경악 “업무 방해 돼”(당나귀 귀)  http://v.daum.net/v/20241110175438302\n",
      "26  강지영 ‘청바지 위에 청치마, 유일무이한 청청패션으로 극장 나들이’ [틀린그림찾기]  http://v.daum.net/v/20241115055701333\n",
      "27  ‘청바지 입은 내가 주인공’···순천시 해룡면 청바지 축제 개최  http://v.daum.net/v/20241016164702070\n",
      "28  수영강습 갔던 화성 여대생 주검으로…'정액 묻은 청바지'가 사라졌다  http://v.daum.net/v/20241027053149482\n",
      "29  효민의 패션은 거꾸로 간다! 코트는 ‘이불’, 청바지는 ‘방석’… 빈티지의 반란  http://v.daum.net/v/20241031081804118\n",
      "\n",
      "▒▒▒▒▒▒▒▒▒▒▒ 닭가슴살 검색 결과 입니다 ▒▒▒▒▒▒▒▒▒▒▒\n",
      "\n",
      "0  닭가슴살 전문 굽네몰, '연말결산' 프로모션…최대 72% 할인  http://v.daum.net/v/20241209081510567\n",
      "1  ‘대장이 반찬’ 김대호, 이장우 닭가슴살 반찬에 “천재”  http://v.daum.net/v/20241201144503186\n",
      "2  \"닭가슴살 '단백질' 믿고 주문했는데…\" 배신 당한 다이어터들  http://v.daum.net/v/20240926092302756\n",
      "3  허경환, 27억 사기 피해…\"닭가슴살 사업 때, 이후로 사람 안 믿어\"  http://v.daum.net/v/20241126055714368\n",
      "4  허닭, 프로야구 전준우 선수 닭가슴살 협찬  http://v.daum.net/v/20241118114700286\n",
      "5  아들조차 외면한 정지선 셰프의 닭가슴살 요리…백종원 “엄마가 정지선인데!” 경악  http://v.daum.net/v/20241108222401781\n",
      "6  사조대림, 촉촉한 양념 닭가슴살 ‘소스에 퐁닭’ 3종 출시  http://v.daum.net/v/20241129091231041\n",
      "7  굽네몰, ‘2024년 연말결산 특가’ 통해 최대 72% 할인  http://v.daum.net/v/20241209090017767\n",
      "8  고소영, 직접 만든 '이 음식' 공개… 살 뺄 땐 먹지 말아야?  http://v.daum.net/v/20241208070329929\n",
      "9  동원홈푸드, 저당 닭가슴살 브리또·쌈장소스 등 4종 출시  http://v.daum.net/v/20241101160017021\n",
      "10  배다해, '이 시술'로 체중 많이 늘어...\"4kg 살 빼야 한다\", 왜?  http://v.daum.net/v/20241208161854863\n",
      "11  “이번엔 닭가슴살 레시피?” 최화정, 고기쌈에 ‘이것’ 곁들인다… 뭐길래?  http://v.daum.net/v/20241015000329588\n",
      "12  닭 가슴살에 매운 ‘이것’ 곁들이면, 다이어트 효과 상승!  http://v.daum.net/v/20241012220729064\n",
      "13  국내 최초 `꼬기다` 스틱 닭가슴살, 출시 두 달 만에 200만 개 완판! 건강한 간편식 시장의 새로운 강자  http://v.daum.net/v/20241025111217129\n",
      "14  “다이어트 위해” 혜리, 시상식 앞두고 ‘이 음식’만 먹어… 뭔가 보니?  http://v.daum.net/v/20241209101611345\n",
      "15  한소희, 42kg 가녀린 몸 비결?…닭가슴살 ‘이렇게’ 먹는다  http://v.daum.net/v/20241001200057813\n",
      "16  소유 “살 찐 내 몸 더럽다 느껴”→화사 “약 먹고 허벅지살 빼”..걸그룹 고충[Oh!쎈 이슈]  http://v.daum.net/v/20241130151717861\n",
      "17  “‘이렇게’ 먹으면 살 빠진다” 전효성, 다이어트 식단 대공개… 뭐 먹나 보니?  http://v.daum.net/v/20241122000130881\n",
      "18  “닭도 부위별로 즐긴다” 홈플러스,닭고기 부분육 매출 최대30% 껑충  http://v.daum.net/v/20241126082933710\n",
      "19  \"많이 먹어서 살쪘다\"…제이제이, 속옷 입고 62㎏ 몸매 인증  http://v.daum.net/v/20241203040018342\n",
      "20  \"닭가슴살보다 높은 단백질 함량\" 빙그레, '프로틴 치즈' 신제품 공개  http://v.daum.net/v/20241017091812646\n",
      "21  달걀, 삶은 닭고기 꾸준히 먹었더니... 뇌 신경-인지 기능에 변화가?  http://v.daum.net/v/20241119190128434\n",
      "22  다시 살찐 스윙스, \"다이어트 시작\" 밝혀… 직접 공개한 식단 보니?  http://v.daum.net/v/20241120141048522\n",
      "23  미 육류회사, 리스테리아균 발견 닭가슴살 등 무려 5천톤 리콜(종합)  http://v.daum.net/v/20241011065535513\n",
      "24  닭가슴살 들기름 메밀김밥 1위... 편의점 식재료 활용한 건강 레시피  http://v.daum.net/v/20241015085320023\n",
      "25  닭고기 부분육 수요↑…홈플러스, '순살 닭다리살' 구이 제품 출시  http://v.daum.net/v/20241126090420693\n",
      "26  ‘실내 공기 오염 최소’ 조리 기구, 실험으로 찾아보니… [건강한겨레]  http://v.daum.net/v/20241206090519564\n",
      "27  [Y터뷰] 배현성 \"'조립식 가족' 위해 사투리·농구 연습…여운 많이 남아요\"  http://v.daum.net/v/20241207080421527\n",
      "28  ‘대장이 반찬’ 김대호X이장우, 도파민 터지는 반찬기행  http://v.daum.net/v/20241202091502205\n",
      "29  “한 달에 평균 3kg 감량… 혈당만 관리해도 살은 저절로 빠져”[허진석의 톡톡 스타트업]  http://v.daum.net/v/20241207030403803\n"
     ]
    }
   ],
   "source": [
    "import time\n",
    "keywords = ['청바지', '닭가슴살']\n",
    "pages = 3\n",
    "for keyword in keywords:\n",
    "    print(f\"\\n▒▒▒▒▒▒▒▒▒▒▒ {keyword} 검색 결과 입니다 ▒▒▒▒▒▒▒▒▒▒▒\\n\")\n",
    "    for page in range(1, pages+1):\n",
    "        collect_list(keyword, page)\n",
    "        time.sleep(2) # 2초 잠시 쉼"
   ]
  },
  {
   "cell_type": "code",
   "execution_count": 20,
   "id": "f40f0465",
   "metadata": {},
   "outputs": [],
   "source": [
    "# 다음검색(원하는 키워드를 원하는 페이지 수)\n",
    "import requests\n",
    "from bs4 import BeautifulSoup\n",
    "import time\n",
    "import pandas as pd\n",
    "# 검색한 결과를 list로 받아 return 하는 함수\n",
    "def collect_list_return(keyword, page):\n",
    "    'keyword로 page에 다음검색한 결과를 출력 '\n",
    "#     url = 'https://search.daum.net/search?w=news&nil_search=btn&DA=PGD&enc=utf8&cluster=y&q={}&p={}'.format(keyword, \n",
    "#                                                                                                            page)\n",
    "#     response = requests.get(url)\n",
    "    url = 'https://search.daum.net/search?w=news&nil_search=btn&DA=PGD&enc=utf8&cluster=y'\n",
    "    params = {'q':keyword, 'p':page}\n",
    "    response = requests.get(url, params=params)\n",
    "    soup = BeautifulSoup(response.text, \"html.parser\")\n",
    "    items_find_list = [] # 검색한 결과를 담을 2차원 리스트(div.item-title > strong.tit-g > a)\n",
    "    item_titles = soup.find_all('div', class_='item-title')\n",
    "\n",
    "    for idx, item in enumerate(item_titles):\n",
    "        strong = item.find('strong')\n",
    "        if strong:\n",
    "            a = strong.find('a')\n",
    "            items_find_list.append([(page-1)*10+idx, a.text, a.attrs['href']])\n",
    "#             items_find_list.append({\n",
    "#                 'no':(page-1)*10+idx,\n",
    "#                 'title': a.text,\n",
    "#                 'link': a['href']\n",
    "#             })\n",
    "            #print((page-1)*10+idx, a.text, a['href'])\n",
    "    return items_find_list"
   ]
  },
  {
   "cell_type": "code",
   "execution_count": 21,
   "id": "c0e67950",
   "metadata": {},
   "outputs": [
    {
     "data": {
      "text/html": [
       "<div>\n",
       "<style scoped>\n",
       "    .dataframe tbody tr th:only-of-type {\n",
       "        vertical-align: middle;\n",
       "    }\n",
       "\n",
       "    .dataframe tbody tr th {\n",
       "        vertical-align: top;\n",
       "    }\n",
       "\n",
       "    .dataframe thead th {\n",
       "        text-align: right;\n",
       "    }\n",
       "</style>\n",
       "<table border=\"1\" class=\"dataframe\">\n",
       "  <thead>\n",
       "    <tr style=\"text-align: right;\">\n",
       "      <th></th>\n",
       "      <th>no</th>\n",
       "      <th>title</th>\n",
       "      <th>link</th>\n",
       "    </tr>\n",
       "  </thead>\n",
       "  <tbody>\n",
       "    <tr>\n",
       "      <th>0</th>\n",
       "      <td>10</td>\n",
       "      <td>집에 굴러다니는 청바지 하나로 리사처럼 멋 내는 법</td>\n",
       "      <td>http://v.daum.net/v/20241127172605719</td>\n",
       "    </tr>\n",
       "    <tr>\n",
       "      <th>1</th>\n",
       "      <td>11</td>\n",
       "      <td>서주경, 원조 섹시스타? 청바지 골반에 걸치고 당돌했던 패션(퍼펙트 라이프)</td>\n",
       "      <td>http://v.daum.net/v/20241127153650717</td>\n",
       "    </tr>\n",
       "    <tr>\n",
       "      <th>2</th>\n",
       "      <td>12</td>\n",
       "      <td>고우리 ‘청바지가 잘 어울려’ [MK포토]</td>\n",
       "      <td>http://v.daum.net/v/20241205164814052</td>\n",
       "    </tr>\n",
       "    <tr>\n",
       "      <th>3</th>\n",
       "      <td>13</td>\n",
       "      <td>[ET포토] 베이비몬스터 아현, '셔츠에 청바지면 완벽'</td>\n",
       "      <td>http://v.daum.net/v/20241204153708872</td>\n",
       "    </tr>\n",
       "    <tr>\n",
       "      <th>4</th>\n",
       "      <td>14</td>\n",
       "      <td>제주서 청바지에 오리발 낀 시신 발견돼…실종 모터보트 선장 추정 \"확인 중\"</td>\n",
       "      <td>http://v.daum.net/v/20241124142017794</td>\n",
       "    </tr>\n",
       "    <tr>\n",
       "      <th>5</th>\n",
       "      <td>15</td>\n",
       "      <td>대구시행복진흥원, 2024 청바지(청년이 바라는 지금 가족) 아카데미 발대식 개최</td>\n",
       "      <td>http://v.daum.net/v/20241109214942252</td>\n",
       "    </tr>\n",
       "    <tr>\n",
       "      <th>6</th>\n",
       "      <td>16</td>\n",
       "      <td>미스전남 진 이하정 '청바지가 잘 어울리는 여자' [포토]</td>\n",
       "      <td>http://v.daum.net/v/20241205173202831</td>\n",
       "    </tr>\n",
       "    <tr>\n",
       "      <th>7</th>\n",
       "      <td>17</td>\n",
       "      <td>‘美 언더아머’ 가방에 청바지 입은 北학생… 러시아 유튜버가 포착한 평양의 모습</td>\n",
       "      <td>http://v.daum.net/v/20241129115100297</td>\n",
       "    </tr>\n",
       "    <tr>\n",
       "      <th>8</th>\n",
       "      <td>18</td>\n",
       "      <td>김태리, 흰티+청바지 입은 정년이‥시크해도 예쁘네</td>\n",
       "      <td>http://v.daum.net/v/20241106084401512</td>\n",
       "    </tr>\n",
       "    <tr>\n",
       "      <th>9</th>\n",
       "      <td>19</td>\n",
       "      <td>[美대선 D-1] 청바지 입은 해리스, 미화원 조끼 걸친 트럼프…패션 필살기는</td>\n",
       "      <td>http://v.daum.net/v/20241104162858090</td>\n",
       "    </tr>\n",
       "  </tbody>\n",
       "</table>\n",
       "</div>"
      ],
      "text/plain": [
       "   no                                            title  \\\n",
       "0  10                    집에 굴러다니는 청바지 하나로 리사처럼 멋 내는 법    \n",
       "1  11      서주경, 원조 섹시스타? 청바지 골반에 걸치고 당돌했던 패션(퍼펙트 라이프)    \n",
       "2  12                         고우리 ‘청바지가 잘 어울려’ [MK포토]    \n",
       "3  13                 [ET포토] 베이비몬스터 아현, '셔츠에 청바지면 완벽'    \n",
       "4  14      제주서 청바지에 오리발 낀 시신 발견돼…실종 모터보트 선장 추정 \"확인 중\"    \n",
       "5  15   대구시행복진흥원, 2024 청바지(청년이 바라는 지금 가족) 아카데미 발대식 개최    \n",
       "6  16                미스전남 진 이하정 '청바지가 잘 어울리는 여자' [포토]    \n",
       "7  17    ‘美 언더아머’ 가방에 청바지 입은 北학생… 러시아 유튜버가 포착한 평양의 모습    \n",
       "8  18                     김태리, 흰티+청바지 입은 정년이‥시크해도 예쁘네    \n",
       "9  19     [美대선 D-1] 청바지 입은 해리스, 미화원 조끼 걸친 트럼프…패션 필살기는    \n",
       "\n",
       "                                    link  \n",
       "0  http://v.daum.net/v/20241127172605719  \n",
       "1  http://v.daum.net/v/20241127153650717  \n",
       "2  http://v.daum.net/v/20241205164814052  \n",
       "3  http://v.daum.net/v/20241204153708872  \n",
       "4  http://v.daum.net/v/20241124142017794  \n",
       "5  http://v.daum.net/v/20241109214942252  \n",
       "6  http://v.daum.net/v/20241205173202831  \n",
       "7  http://v.daum.net/v/20241129115100297  \n",
       "8  http://v.daum.net/v/20241106084401512  \n",
       "9  http://v.daum.net/v/20241104162858090  "
      ]
     },
     "execution_count": 21,
     "metadata": {},
     "output_type": "execute_result"
    }
   ],
   "source": [
    "import pandas as pd\n",
    "pd.DataFrame(collect_list_return('청바지', 2),\n",
    "             columns=['no','title','link']\n",
    "            )"
   ]
  },
  {
   "cell_type": "code",
   "execution_count": 33,
   "id": "fed1b98e",
   "metadata": {},
   "outputs": [
    {
     "name": "stdout",
     "output_type": "stream",
     "text": [
      "========== 1번째 검색어 청바지 검색 결과 수집 중 입니다 ==========\n",
      "========== 2번째 검색어 닭가슴살 검색 결과 수집 중 입니다 ==========\n"
     ]
    }
   ],
   "source": [
    "keywords = ['청바지','닭가슴살']\n",
    "result0 = [] # 청바지 1~pages 페이지까지 검색 결과를 담을 list\n",
    "result1 = [] # 닭가슴살 1~pages 페이지까지 검색 결과를 담을 list\n",
    "pages = 3\n",
    "for i, keyword in enumerate(keywords):\n",
    "    print(f'========== {i+1}번째 검색어 {keyword} 검색 결과 수집 중 입니다 ==========')\n",
    "    for page in range(1, pages+1):\n",
    "        if i==0:\n",
    "            result0.extend(collect_list_return(keyword, page))\n",
    "        elif i==1:\n",
    "            result1.extend(collect_list_return(keyword, page))"
   ]
  },
  {
   "cell_type": "code",
   "execution_count": 34,
   "id": "dc6cb7d8",
   "metadata": {},
   "outputs": [
    {
     "data": {
      "text/html": [
       "<div>\n",
       "<style scoped>\n",
       "    .dataframe tbody tr th:only-of-type {\n",
       "        vertical-align: middle;\n",
       "    }\n",
       "\n",
       "    .dataframe tbody tr th {\n",
       "        vertical-align: top;\n",
       "    }\n",
       "\n",
       "    .dataframe thead th {\n",
       "        text-align: right;\n",
       "    }\n",
       "</style>\n",
       "<table border=\"1\" class=\"dataframe\">\n",
       "  <thead>\n",
       "    <tr style=\"text-align: right;\">\n",
       "      <th></th>\n",
       "      <th>no</th>\n",
       "      <th>title</th>\n",
       "      <th>link</th>\n",
       "    </tr>\n",
       "  </thead>\n",
       "  <tbody>\n",
       "    <tr>\n",
       "      <th>0</th>\n",
       "      <td>0</td>\n",
       "      <td>에스파 닝닝, 워너비 청바지 핏..연일 리즈 찍는 비주얼 [스타IN★]</td>\n",
       "      <td>http://v.daum.net/v/20241208001414598</td>\n",
       "    </tr>\n",
       "    <tr>\n",
       "      <th>1</th>\n",
       "      <td>1</td>\n",
       "      <td>56세 채시라, 흰티+청바지핏 20대 뺨쳐‥평생이 예쁘네</td>\n",
       "      <td>http://v.daum.net/v/20241205102113139</td>\n",
       "    </tr>\n",
       "    <tr>\n",
       "      <th>2</th>\n",
       "      <td>2</td>\n",
       "      <td>힙라인 美쳤다...'골프 여신' 유현주, 청바지 입고 뽐낸 '공격적 뒤태'</td>\n",
       "      <td>http://v.daum.net/v/20241208200005828</td>\n",
       "    </tr>\n",
       "    <tr>\n",
       "      <th>3</th>\n",
       "      <td>3</td>\n",
       "      <td>이시영, 얼어죽어도 美! 폭설 속 찢어진 청바지에 돼지코 신발로 시선 강탈!</td>\n",
       "      <td>http://v.daum.net/v/20241127170304793</td>\n",
       "    </tr>\n",
       "    <tr>\n",
       "      <th>4</th>\n",
       "      <td>4</td>\n",
       "      <td>56세 채시라, 흰 티에 청바지만 입어도 완벽… '데님 여신' 귀환</td>\n",
       "      <td>http://v.daum.net/v/20241206205810264</td>\n",
       "    </tr>\n",
       "  </tbody>\n",
       "</table>\n",
       "</div>"
      ],
      "text/plain": [
       "   no                                         title  \\\n",
       "0   0      에스파 닝닝, 워너비 청바지 핏..연일 리즈 찍는 비주얼 [스타IN★]    \n",
       "1   1              56세 채시라, 흰티+청바지핏 20대 뺨쳐‥평생이 예쁘네    \n",
       "2   2    힙라인 美쳤다...'골프 여신' 유현주, 청바지 입고 뽐낸 '공격적 뒤태'    \n",
       "3   3   이시영, 얼어죽어도 美! 폭설 속 찢어진 청바지에 돼지코 신발로 시선 강탈!    \n",
       "4   4        56세 채시라, 흰 티에 청바지만 입어도 완벽… '데님 여신' 귀환    \n",
       "\n",
       "                                    link  \n",
       "0  http://v.daum.net/v/20241208001414598  \n",
       "1  http://v.daum.net/v/20241205102113139  \n",
       "2  http://v.daum.net/v/20241208200005828  \n",
       "3  http://v.daum.net/v/20241127170304793  \n",
       "4  http://v.daum.net/v/20241206205810264  "
      ]
     },
     "execution_count": 34,
     "metadata": {},
     "output_type": "execute_result"
    }
   ],
   "source": [
    "result0_df = pd.DataFrame(result0, columns=['no','title','link'])\n",
    "result1_df = pd.DataFrame(result1, columns=['번호', '제목','링크'])\n",
    "result0_df.head()"
   ]
  },
  {
   "cell_type": "code",
   "execution_count": 35,
   "id": "fb859dec",
   "metadata": {},
   "outputs": [],
   "source": [
    "result0_df.to_csv('data/ch14_'+keywords[0]+'.csv', index=False)\n",
    "result1_df.to_csv('data/ch14_'+keywords[1]+'.csv', index=False)"
   ]
  },
  {
   "cell_type": "markdown",
   "id": "f80b59ab",
   "metadata": {},
   "source": [
    "### 4) User-Agent를 추가하여 크롤링\n",
    "- 크롤링을 막는 사이트\n",
    "- https://www.melon.com/robots.txt에서 일부 경로에서 User-Agent에 봇이 지정"
   ]
  },
  {
   "cell_type": "code",
   "execution_count": 37,
   "id": "5e267df4",
   "metadata": {},
   "outputs": [],
   "source": [
    "# 방법1\n",
    "from urllib.request import urlopen\n",
    "from bs4 import BeautifulSoup\n",
    "url = \"https://www.melon.com/chart/\"\n",
    "# melonpage = urlopen(url) 에러남"
   ]
  },
  {
   "cell_type": "code",
   "execution_count": 42,
   "id": "67aa7966",
   "metadata": {},
   "outputs": [
    {
     "data": {
      "text/plain": [
       "<Response [406]>"
      ]
     },
     "execution_count": 42,
     "metadata": {},
     "output_type": "execute_result"
    }
   ],
   "source": [
    "# 방법2\n",
    "import requests\n",
    "from bs4 import BeautifulSoup\n",
    "url = \"https://www.melon.com/chart/\"\n",
    "melonpage = requests.get(url)\n",
    "melonpage\n",
    "# soup = BeautifulSoup(melonpage.text, \"html.parser\")\n",
    "# soup"
   ]
  },
  {
   "cell_type": "code",
   "execution_count": 61,
   "id": "83e83efc",
   "metadata": {},
   "outputs": [
    {
     "name": "stdout",
     "output_type": "stream",
     "text": [
      "1위 | HOME SWEET HOME (feat. 태양, 대성) - G-DRAGON\n",
      "2위 | APT. - 로제 (ROSÉ), Bruno Mars\n",
      "3위 | Whiplash - aespa\n",
      "4위 | POWER - G-DRAGON\n",
      "5위 | 나는 반딧불 - 황가람\n",
      "6위 | HAPPY - DAY6 (데이식스)\n",
      "7위 | 첫 눈 - EXO\n",
      "8위 | UP (KARINA Solo) - aespa\n",
      "9위 | 내 이름 맑음 - QWER\n",
      "10위 | 내게 사랑이 뭐냐고 물어본다면 - 로이킴\n",
      "11위 | toxic till the end - 로제 (ROSÉ)\n",
      "12위 | Welcome to the Show - DAY6 (데이식스)\n",
      "13위 | Mantra - 제니 (JENNIE)\n",
      "14위 | 사랑은 늘 도망가 - 임영웅\n",
      "15위 | Supernova - aespa\n",
      "16위 | 소나기 - 이클립스 (ECLIPSE)\n",
      "17위 | Pump Up The Volume! - PLAVE\n",
      "18위 | WAY 4 LUV - PLAVE\n",
      "19위 | 너와의 모든 지금 - 재쓰비 (JAESSBEE)\n",
      "20위 | 한 페이지가 될 수 있게 - DAY6 (데이식스)\n",
      "21위 | 우리들의 블루스 - 임영웅\n",
      "22위 | 어떻게 이별까지 사랑하겠어, 널 사랑하는 거지 - AKMU (악뮤)\n",
      "23위 | 온기 - 임영웅\n",
      "24위 | 천상연 - 이창섭\n",
      "25위 | Home - 임영웅\n",
      "26위 | 슬픈 초대장 - 순순희(지환)\n",
      "27위 | Drowning - WOODZ\n",
      "28위 | 모래 알갱이 - 임영웅\n",
      "29위 | 고민중독 - QWER\n",
      "30위 | 우리 영화 - PLAVE\n",
      "31위 | 예뻤어 - DAY6 (데이식스)\n",
      "32위 | 다시 만날 수 있을까 - 임영웅\n",
      "33위 | number one girl - 로제 (ROSÉ)\n",
      "34위 | From - PLAVE\n",
      "35위 | Supersonic - 프로미스나인\n",
      "36위 | Love wins all - 아이유\n",
      "37위 | How Sweet - NewJeans\n",
      "38위 | 이제 나만 믿어요 - 임영웅\n",
      "39위 | Do or Die - 임영웅\n",
      "40위 | Small girl (feat. 도경수(D.O.)) - 이영지\n",
      "41위 | All I Want for Christmas Is You - Mariah Carey\n",
      "42위 | 무지개 - 임영웅\n",
      "43위 | 첫 만남은 계획대로 되지 않아 - TWS (투어스)\n",
      "44위 | London Boy - 임영웅\n",
      "45위 | Watch Me Woo! - PLAVE\n",
      "46위 | Polaroid - 임영웅\n",
      "47위 | 나는 아픈 건 딱 질색이니까 - (여자)아이들\n",
      "48위 | 녹아내려요 - DAY6 (데이식스)\n",
      "49위 | 인생찬가 - 임영웅\n",
      "50위 | 버추얼 아이돌 - PLAVE\n",
      "51위 | Merry PLLIstmas - PLAVE\n",
      "52위 | 너의 모든 순간 - 성시경\n",
      "53위 | 그대만 있다면 (여름날 우리 X 너드커넥션 (Nerd Connection)) - 너드커넥션 (Nerd Connection)\n",
      "54위 | 연애편지 - 임영웅\n",
      "55위 | Ditto - NewJeans\n",
      "56위 | Igloo - KISS OF LIFE\n",
      "57위 | 에피소드 - 이무진\n",
      "58위 | 클락션 (Klaxon) - (여자)아이들\n",
      "59위 | Santa Tell Me - Ariana Grande\n",
      "60위 | 비의 랩소디 - 임재현\n",
      "61위 | Magnetic - 아일릿(ILLIT)\n",
      "62위 | 눈이 오잖아(Feat.헤이즈) - 이무진\n",
      "63위 | 헤어지자 말해요 - 박재정\n",
      "64위 | Armageddon - aespa\n",
      "65위 | 보금자리 - 임영웅\n",
      "66위 | 미안해 미워해 사랑해 - Crush\n",
      "67위 | 주저하는 연인들을 위해 - 잔나비\n",
      "68위 | Seven (feat. Latto) - Clean Ver. - 정국\n",
      "69위 | Supernatural - NewJeans\n",
      "70위 | 청춘만화 - 이무진\n",
      "71위 | 무제(無題) (Untitled, 2014) - G-DRAGON\n",
      "72위 | Sticky - KISS OF LIFE\n",
      "73위 | Love 119 - RIIZE\n",
      "74위 | 모든 날, 모든 순간 (Every day, Every Moment) - 폴킴\n",
      "75위 | 미리 메리 크리스마스 (Feat. 천둥 Of MBLAQ) - 아이유\n",
      "76위 | 인사 - 범진\n",
      "77위 | 다정히 내 이름을 부르면 - 경서예지, 전건호\n",
      "78위 | DRIP - BABYMONSTER\n",
      "79위 | Snowman - Sia\n",
      "80위 | 청혼하지 않을 이유를 못 찾았어 - 이무진\n",
      "81위 | Hype Boy - NewJeans\n",
      "82위 | SPOT! (feat. JENNIE) - 지코 (ZICO)\n",
      "83위 | I AM - IVE (아이브)\n",
      "84위 | 해야 (HEYA) - IVE (아이브)\n",
      "85위 | 네모네모 - YENA (최예나)\n",
      "86위 | 사랑인가 봐 - 멜로망스\n",
      "87위 | Cherish (My Love) - 아일릿(ILLIT)\n",
      "88위 | Congratulations - DAY6 (데이식스)\n",
      "89위 | To. X - 태연 (TAEYEON)\n",
      "90위 | 봄날 - 방탄소년단\n",
      "91위 | Bubble Gum - NewJeans\n",
      "92위 | 취중고백 - 김민석\n",
      "93위 | Dynamite - 방탄소년단\n",
      "94위 | 사건의 지평선 - 윤하 (YOUNHA)\n",
      "95위 | Boom Boom Bass - RIIZE\n",
      "96위 | 크리스마스니까 - 성시경, 박효신, 이석훈, 서인국, VIXX (빅스)\n",
      "97위 | 사막에서 꽃을 피우듯 - 우디 (Woody)\n",
      "98위 | Drama - aespa\n",
      "99위 | Letter To Myself - 태연 (TAEYEON)\n",
      "100위 | LOVE, MONEY, FAME (feat. DJ Khaled) - 세븐틴 (SEVENTEEN)\n"
     ]
    }
   ],
   "source": [
    "# User-Agent를 추가\n",
    "import requests\n",
    "from bs4 import BeautifulSoup\n",
    "url = \"https://www.melon.com/chart/\"\n",
    "headers = {'user-agent':\n",
    "           'Mozilla/5.0 (Windows NT 10.0; Win64; x64) AppleWebKit/537.36 (KHTML, like Gecko) Chrome/131.0.0.0 Safari/537.36'}  \n",
    "melonpage = requests.get(url, headers=headers)\n",
    "# melonpage\n",
    "soup = BeautifulSoup(melonpage.text,  # melonpage.content\n",
    "                    \"html.parser\")\n",
    "title_els = soup.select('div.ellipsis.rank01 > span')\n",
    "singer_els = soup.select('div.ellipsis.rank02 > span.checkEllipsis')\n",
    "# [s.text for s in singer_els]\n",
    "# [t.text.strip() for t in title_els]\n",
    "# 1위 : HOME SWEET HOME (feat. 태양, 대성) | 지드레곤\n",
    "# for idx in range(len(title_els)):\n",
    "#     print(\"{}위 | {} - {}\".format(idx+1, \n",
    "#                                 title_els[idx].text.strip(),\n",
    "#                                 singer_els[idx].text))\n",
    "for idx, (title_el, singer_el) in enumerate(zip(title_els, singer_els)):\n",
    "    print('{}위 | {} - {}'.format(idx+1,\n",
    "                                 title_el.text.strip(),\n",
    "                                 singer_el.text))"
   ]
  },
  {
   "cell_type": "markdown",
   "id": "cccd599f",
   "metadata": {},
   "source": [
    "### 5) 네이버 지식인으로 검색(open API 사용 X) \n",
    "- 특정 keyword를 특정페이지 수(3)만큼"
   ]
  },
  {
   "cell_type": "code",
   "execution_count": 69,
   "id": "d845304a",
   "metadata": {},
   "outputs": [
    {
     "name": "stdout",
     "output_type": "stream",
     "text": [
      "https://kin.naver.com/search/list.naver?query=%EC%B3%87%EC%A7%80%ED%94%BC%ED%8B%B0\n",
      "200\n"
     ]
    }
   ],
   "source": [
    "# 방법1\n",
    "from urllib.request import urlopen\n",
    "from urllib.parse import quote \n",
    "keyword = quote('쳇지피티')\n",
    "# 쳇지피티 => %EC%B3%87%EC%A7%80%ED%94%BC%ED%8B%B0 (url 인코딩 방식으로 전환)\n",
    "url = f'https://kin.naver.com/search/list.naver?query={keyword}'\n",
    "print(url)\n",
    "response = urlopen(url)\n",
    "print(response.status)"
   ]
  },
  {
   "cell_type": "code",
   "execution_count": 68,
   "id": "fa7b4ab1",
   "metadata": {},
   "outputs": [
    {
     "name": "stdout",
     "output_type": "stream",
     "text": [
      "https://kin.naver.com/search/list.naver?query=쳇지피티\n",
      "200\n"
     ]
    }
   ],
   "source": [
    "# 방법2\n",
    "from requests import get\n",
    "keyword = '쳇지피티'\n",
    "url = f'https://kin.naver.com/search/list.naver?query={keyword}'\n",
    "print(url)\n",
    "response = get(url)\n",
    "print(response.status_code)"
   ]
  },
  {
   "cell_type": "code",
   "execution_count": 35,
   "id": "45d6e012",
   "metadata": {},
   "outputs": [
    {
     "name": "stdout",
     "output_type": "stream",
     "text": [
      "(30, 2)\n"
     ]
    },
    {
     "data": {
      "text/html": [
       "<div>\n",
       "<style scoped>\n",
       "    .dataframe tbody tr th:only-of-type {\n",
       "        vertical-align: middle;\n",
       "    }\n",
       "\n",
       "    .dataframe tbody tr th {\n",
       "        vertical-align: top;\n",
       "    }\n",
       "\n",
       "    .dataframe thead th {\n",
       "        text-align: right;\n",
       "    }\n",
       "</style>\n",
       "<table border=\"1\" class=\"dataframe\">\n",
       "  <thead>\n",
       "    <tr style=\"text-align: right;\">\n",
       "      <th></th>\n",
       "      <th>title</th>\n",
       "      <th>link</th>\n",
       "    </tr>\n",
       "  </thead>\n",
       "  <tbody>\n",
       "    <tr>\n",
       "      <th>0</th>\n",
       "      <td>쳇지피티 이거 뭐예요?해킹 뭐그런거...</td>\n",
       "      <td>https://kin.naver.com/qna/detail.naver?d1id=1&amp;...</td>\n",
       "    </tr>\n",
       "    <tr>\n",
       "      <th>1</th>\n",
       "      <td>제가 직접 쓴 자소서 쳇지피티</td>\n",
       "      <td>https://kin.naver.com/qna/detail.naver?d1id=4&amp;...</td>\n",
       "    </tr>\n",
       "    <tr>\n",
       "      <th>2</th>\n",
       "      <td>쳇지피티 수식답변 오류</td>\n",
       "      <td>https://kin.naver.com/qna/detail.naver?d1id=1&amp;...</td>\n",
       "    </tr>\n",
       "    <tr>\n",
       "      <th>3</th>\n",
       "      <td>쳇지피티 화면 이상</td>\n",
       "      <td>https://kin.naver.com/qna/detail.naver?d1id=1&amp;...</td>\n",
       "    </tr>\n",
       "    <tr>\n",
       "      <th>4</th>\n",
       "      <td>쳇지피티 뤼튼</td>\n",
       "      <td>https://kin.naver.com/qna/detail.naver?d1id=8&amp;...</td>\n",
       "    </tr>\n",
       "  </tbody>\n",
       "</table>\n",
       "</div>"
      ],
      "text/plain": [
       "                     title                                               link\n",
       "0  쳇지피티 이거 뭐예요?해킹 뭐그런거...   https://kin.naver.com/qna/detail.naver?d1id=1&...\n",
       "1         제가 직접 쓴 자소서 쳇지피티  https://kin.naver.com/qna/detail.naver?d1id=4&...\n",
       "2             쳇지피티 수식답변 오류  https://kin.naver.com/qna/detail.naver?d1id=1&...\n",
       "3               쳇지피티 화면 이상  https://kin.naver.com/qna/detail.naver?d1id=1&...\n",
       "4                  쳇지피티 뤼튼  https://kin.naver.com/qna/detail.naver?d1id=8&..."
      ]
     },
     "execution_count": 35,
     "metadata": {},
     "output_type": "execute_result"
    }
   ],
   "source": [
    "# 페이징 포함\n",
    "import requests\n",
    "from bs4 import BeautifulSoup\n",
    "import pandas as pd\n",
    "keyword = '쳇지피티'\n",
    "pages = 3\n",
    "items_list = [] # 크롤링한 데이터를 담을 list\n",
    "for page in range(1, pages+1):\n",
    "    url = f'https://kin.naver.com/search/list.naver?query={keyword}&page={page}'\n",
    "    # 글 제목과 link를 가져와서 items_list에 append\n",
    "    response = requests.get(url)\n",
    "    # print(response)\n",
    "    soup = BeautifulSoup(response.text, 'html.parser')\n",
    "    items = soup.select('dt > a')\n",
    "    for item in items:\n",
    "        items_list.append({'title':item.text, \n",
    "                           'link':item.attrs['href']})\n",
    "df = pd.DataFrame(items_list)\n",
    "print(df.shape)\n",
    "df.head()"
   ]
  },
  {
   "cell_type": "code",
   "execution_count": 28,
   "id": "234ed552",
   "metadata": {},
   "outputs": [
    {
     "name": "stdout",
     "output_type": "stream",
     "text": [
      "https://kin.naver.com/qna/detail.naver?d1id=1&dirId=11001&docId=476675623&qb=7LOH7KeA7ZS87Yuw&enc=utf8§ion=kin.qna_ency&rank=1&search_sort=0&spq=0\n"
     ]
    }
   ],
   "source": [
    "print(df.loc[0,'link'])"
   ]
  },
  {
   "cell_type": "code",
   "execution_count": 36,
   "id": "f0b49b40",
   "metadata": {},
   "outputs": [
    {
     "name": "stdout",
     "output_type": "stream",
     "text": [
      "(30, 2)\n"
     ]
    },
    {
     "data": {
      "text/html": [
       "<div>\n",
       "<style scoped>\n",
       "    .dataframe tbody tr th:only-of-type {\n",
       "        vertical-align: middle;\n",
       "    }\n",
       "\n",
       "    .dataframe tbody tr th {\n",
       "        vertical-align: top;\n",
       "    }\n",
       "\n",
       "    .dataframe thead th {\n",
       "        text-align: right;\n",
       "    }\n",
       "</style>\n",
       "<table border=\"1\" class=\"dataframe\">\n",
       "  <thead>\n",
       "    <tr style=\"text-align: right;\">\n",
       "      <th></th>\n",
       "      <th>title</th>\n",
       "      <th>link</th>\n",
       "    </tr>\n",
       "  </thead>\n",
       "  <tbody>\n",
       "    <tr>\n",
       "      <th>0</th>\n",
       "      <td>쳇지피티 이거 뭐예요?해킹 뭐그런거...</td>\n",
       "      <td>https://kin.naver.com/qna/detail.naver?d1id=1&amp;...</td>\n",
       "    </tr>\n",
       "    <tr>\n",
       "      <th>1</th>\n",
       "      <td>제가 직접 쓴 자소서 쳇지피티</td>\n",
       "      <td>https://kin.naver.com/qna/detail.naver?d1id=4&amp;...</td>\n",
       "    </tr>\n",
       "    <tr>\n",
       "      <th>2</th>\n",
       "      <td>쳇지피티 수식답변 오류</td>\n",
       "      <td>https://kin.naver.com/qna/detail.naver?d1id=1&amp;...</td>\n",
       "    </tr>\n",
       "    <tr>\n",
       "      <th>3</th>\n",
       "      <td>쳇지피티 화면 이상</td>\n",
       "      <td>https://kin.naver.com/qna/detail.naver?d1id=1&amp;...</td>\n",
       "    </tr>\n",
       "    <tr>\n",
       "      <th>4</th>\n",
       "      <td>쳇지피티 뤼튼</td>\n",
       "      <td>https://kin.naver.com/qna/detail.naver?d1id=8&amp;...</td>\n",
       "    </tr>\n",
       "  </tbody>\n",
       "</table>\n",
       "</div>"
      ],
      "text/plain": [
       "                     title                                               link\n",
       "0  쳇지피티 이거 뭐예요?해킹 뭐그런거...   https://kin.naver.com/qna/detail.naver?d1id=1&...\n",
       "1         제가 직접 쓴 자소서 쳇지피티  https://kin.naver.com/qna/detail.naver?d1id=4&...\n",
       "2             쳇지피티 수식답변 오류  https://kin.naver.com/qna/detail.naver?d1id=1&...\n",
       "3               쳇지피티 화면 이상  https://kin.naver.com/qna/detail.naver?d1id=1&...\n",
       "4                  쳇지피티 뤼튼  https://kin.naver.com/qna/detail.naver?d1id=8&..."
      ]
     },
     "execution_count": 36,
     "metadata": {},
     "output_type": "execute_result"
    }
   ],
   "source": [
    "# 페이징 포함\n",
    "import requests\n",
    "from bs4 import BeautifulSoup\n",
    "import pandas as pd\n",
    "keyword = '쳇지피티'\n",
    "pages = 3\n",
    "items_list = [] # 크롤링한 데이터를 담을 list\n",
    "for page in range(1, pages+1):\n",
    "    url = f'https://kin.naver.com/search/list.naver?query={keyword}&page={page}'\n",
    "    # 글 제목과 link를 가져와서 items_list에 append\n",
    "    response = requests.get(url)\n",
    "    # print(response)\n",
    "    soup = BeautifulSoup(response.text, 'html.parser')\n",
    "    dt_els = soup.find_all('dt')\n",
    "    for dt_el in dt_els:\n",
    "        item = dt_el.find('a')\n",
    "        items_list.append({'title':item.text, \n",
    "                           'link':item.attrs['href']})\n",
    "df = pd.DataFrame(items_list)\n",
    "print(df.shape)\n",
    "df.head()"
   ]
  },
  {
   "cell_type": "markdown",
   "id": "1be4ff1e",
   "metadata": {},
   "source": [
    "### 6) 네이버 지식인으로 검색(open API 사용 O)\n",
    "- 특정 keyword를 특정여러 데이터(30)만큼"
   ]
  },
  {
   "cell_type": "code",
   "execution_count": null,
   "id": "935b0995",
   "metadata": {},
   "outputs": [],
   "source": [
    "import os\n",
    "import sys\n",
    "import urllib.request\n",
    "client_id = \"YOUR_CLIENT_ID\"\n",
    "client_secret = \"YOUR_CLIENT_SECRET\"\n",
    "encText = urllib.parse.quote(\"쳇지피티\")\n",
    "url = \"https://openapi.naver.com/v1/search/blog?query=\" + encText # JSON 결과\n",
    "# url = \"https://openapi.naver.com/v1/search/blog.xml?query=\" + encText # XML 결과\n",
    "request = urllib.request.Request(url)\n",
    "request.add_header(\"X-Naver-Client-Id\",client_id)\n",
    "request.add_header(\"X-Naver-Client-Secret\",client_secret)\n",
    "response = urllib.request.urlopen(request)\n",
    "rescode = response.getcode()\n",
    "if(rescode==200):\n",
    "    response_body = response.read()\n",
    "    print(response_body.decode('utf-8'))\n",
    "else:\n",
    "    print(\"Error Code:\" + rescode)"
   ]
  },
  {
   "cell_type": "code",
   "execution_count": null,
   "id": "a80cfe88",
   "metadata": {},
   "outputs": [],
   "source": []
  },
  {
   "cell_type": "code",
   "execution_count": null,
   "id": "372b9d06",
   "metadata": {},
   "outputs": [],
   "source": []
  },
  {
   "cell_type": "code",
   "execution_count": null,
   "id": "8e99e728",
   "metadata": {},
   "outputs": [],
   "source": []
  },
  {
   "cell_type": "code",
   "execution_count": null,
   "id": "26d0b02a",
   "metadata": {},
   "outputs": [],
   "source": []
  },
  {
   "cell_type": "code",
   "execution_count": null,
   "id": "bbaadbd2",
   "metadata": {},
   "outputs": [],
   "source": []
  },
  {
   "cell_type": "code",
   "execution_count": null,
   "id": "07c0df1a",
   "metadata": {},
   "outputs": [],
   "source": []
  },
  {
   "cell_type": "code",
   "execution_count": null,
   "id": "47b9c4c1",
   "metadata": {},
   "outputs": [],
   "source": []
  },
  {
   "cell_type": "code",
   "execution_count": null,
   "id": "4c1f7b36",
   "metadata": {},
   "outputs": [],
   "source": []
  }
 ],
 "metadata": {
  "kernelspec": {
   "display_name": "Python 3 (ipykernel)",
   "language": "python",
   "name": "python3"
  },
  "language_info": {
   "codemirror_mode": {
    "name": "ipython",
    "version": 3
   },
   "file_extension": ".py",
   "mimetype": "text/x-python",
   "name": "python",
   "nbconvert_exporter": "python",
   "pygments_lexer": "ipython3",
   "version": "3.10.9"
  },
  "toc": {
   "base_numbering": 1,
   "nav_menu": {},
   "number_sections": false,
   "sideBar": true,
   "skip_h1_title": false,
   "title_cell": "Table of Contents",
   "title_sidebar": "Contents",
   "toc_cell": false,
   "toc_position": {
    "height": "calc(100% - 180px)",
    "left": "10px",
    "top": "150px",
    "width": "165px"
   },
   "toc_section_display": true,
   "toc_window_display": true
  }
 },
 "nbformat": 4,
 "nbformat_minor": 5
}
