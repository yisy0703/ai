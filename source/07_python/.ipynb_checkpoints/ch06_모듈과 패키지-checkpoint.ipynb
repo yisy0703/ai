{
 "cells": [
  {
   "cell_type": "code",
   "execution_count": 1,
   "id": "c32ad728",
   "metadata": {},
   "outputs": [
    {
     "data": {
      "text/html": [
       "\n",
       "<style>\n",
       "div.container{width:99% !important;}\n",
       "div.cell.code_cell.rendered{width:95%;}\n",
       "div.CodeMirror {font-family:Consolas; font-size:19pt;}\n",
       "div.output {font-size:19pt; font-weight:bold;}\n",
       "div.input {font-family:Consolas; font-size:19pt;}\n",
       "div.prompt {min-width:70px;}\n",
       "div#toc-wrapper{padding-top:120px;}\n",
       "span.toc-item-num{display:none;}\n",
       "div.text_cell_render ul li{font-size:18pt;padding:5px;}\n",
       "div.CodeMirror-lines > div {padding-left:10px;}\n",
       "</style>\n"
      ],
      "text/plain": [
       "<IPython.core.display.HTML object>"
      ]
     },
     "metadata": {},
     "output_type": "display_data"
    }
   ],
   "source": [
    "from IPython.display import display, HTML\n",
    "display(HTML(\"\"\"\n",
    "<style>\n",
    "div.container{width:99% !important;}\n",
    "div.cell.code_cell.rendered{width:95%;}\n",
    "div.CodeMirror {font-family:Consolas; font-size:19pt;}\n",
    "div.output {font-size:19pt; font-weight:bold;}\n",
    "div.input {font-family:Consolas; font-size:19pt;}\n",
    "div.prompt {min-width:70px;}\n",
    "div#toc-wrapper{padding-top:120px;}\n",
    "span.toc-item-num{display:none;}\n",
    "div.text_cell_render ul li{font-size:18pt;padding:5px;}\n",
    "div.CodeMirror-lines > div {padding-left:10px;}\n",
    "</style>\n",
    "\"\"\"))"
   ]
  },
  {
   "cell_type": "markdown",
   "id": "bcf46cc9",
   "metadata": {},
   "source": [
    "<b><font size=\"6\" color=\"red\">ch06. 모듈과 패키지</font></b>\n",
    "# 1절. 파이썬 표준 모듈 사용\n",
    "- 모듈 : 함수, 변수, 클래스 등을 담고 있는 파이썬 코드 파일(*.py)\n",
    "- 파이썬 표준 모듈 200여개는 파이썬 인터프리터와 함께 install 됨\n",
    "- anaconda는 1500개 이상의 패키지 install(정확한 갯수는 버전마다 상이)"
   ]
  },
  {
   "cell_type": "code",
   "execution_count": 6,
   "id": "0c2202b0",
   "metadata": {},
   "outputs": [
    {
     "data": {
      "text/plain": [
       "'Tue Nov 12 12:51:08 2024'"
      ]
     },
     "execution_count": 6,
     "metadata": {},
     "output_type": "execute_result"
    }
   ],
   "source": [
    "# 1. import 모듈명 : 모듈안의 함수, 클래스, 변수를 모듈명.함수명(), .. 사용\n",
    "import time # time모듈안의 함수, 변수, 클래스가 모두 메모리 로드\n",
    "time.ctime()"
   ]
  },
  {
   "cell_type": "code",
   "execution_count": 7,
   "id": "6b401ce4",
   "metadata": {},
   "outputs": [
    {
     "data": {
      "text/plain": [
       "1731383468.7808795"
      ]
     },
     "execution_count": 7,
     "metadata": {},
     "output_type": "execute_result"
    }
   ],
   "source": [
    "time.time() # 1970.1.1부터의 밀리세컨"
   ]
  },
  {
   "cell_type": "code",
   "execution_count": 8,
   "id": "3c75a5fd",
   "metadata": {},
   "outputs": [],
   "source": [
    "del time # time 모듈을 메모리에서 unload"
   ]
  },
  {
   "cell_type": "code",
   "execution_count": 14,
   "id": "0ccc1cfd",
   "metadata": {},
   "outputs": [
    {
     "data": {
      "text/plain": [
       "'Tue Nov 12 12:56:50 2024'"
      ]
     },
     "execution_count": 14,
     "metadata": {},
     "output_type": "execute_result"
    }
   ],
   "source": [
    "# 2. from 모듈(A) import 함수|클래스|변수(B) : A모듈안의 B만 로드\n",
    "#    from 패키지(A) import 모듈(B) : A패키지안의 B모듈을 로드\n",
    "#    from 패키지(A).모듈명(B) import 함수명(C) : A안의 B안의 C함수만 로드\n",
    "from time import ctime, time\n",
    "ctime()"
   ]
  },
  {
   "cell_type": "code",
   "execution_count": 15,
   "id": "1de7b32c",
   "metadata": {},
   "outputs": [
    {
     "data": {
      "text/plain": [
       "1731383811.3325694"
      ]
     },
     "execution_count": 15,
     "metadata": {},
     "output_type": "execute_result"
    }
   ],
   "source": [
    "time()"
   ]
  },
  {
   "cell_type": "code",
   "execution_count": 16,
   "id": "64a913c5",
   "metadata": {},
   "outputs": [],
   "source": [
    "del ctime\n",
    "del time"
   ]
  },
  {
   "cell_type": "code",
   "execution_count": 17,
   "id": "e7aec9a6",
   "metadata": {},
   "outputs": [
    {
     "data": {
      "text/plain": [
       "'Tue Nov 12 12:59:03 2024'"
      ]
     },
     "execution_count": 17,
     "metadata": {},
     "output_type": "execute_result"
    }
   ],
   "source": [
    "# 3. import 모듈명 as 별칭 : 모듈을 메모리에서 로드하고 별칭으로 사용\n",
    "import time as t\n",
    "t.ctime()"
   ]
  },
  {
   "cell_type": "code",
   "execution_count": 18,
   "id": "adf74cda",
   "metadata": {},
   "outputs": [
    {
     "data": {
      "text/plain": [
       "1731383960.1249743"
      ]
     },
     "execution_count": 18,
     "metadata": {},
     "output_type": "execute_result"
    }
   ],
   "source": [
    "t.time()"
   ]
  },
  {
   "cell_type": "code",
   "execution_count": 19,
   "id": "65077331",
   "metadata": {},
   "outputs": [],
   "source": [
    "del t"
   ]
  },
  {
   "cell_type": "code",
   "execution_count": 21,
   "id": "c6c1d589",
   "metadata": {},
   "outputs": [
    {
     "data": {
      "text/plain": [
       "'Tue Nov 12 13:03:07 2024'"
      ]
     },
     "execution_count": 21,
     "metadata": {},
     "output_type": "execute_result"
    }
   ],
   "source": [
    "# 4.from 모듈명 import 함수명 as 별칭\n",
    "#   from 패키지명 import 모듈명 as 별칭\n",
    "#   from 패키지명.모듈명 import 함수명 as 별칭\n",
    "from time import ctime as ct, time as t\n",
    "ct()"
   ]
  },
  {
   "cell_type": "code",
   "execution_count": 22,
   "id": "e8f89983",
   "metadata": {},
   "outputs": [
    {
     "data": {
      "text/plain": [
       "1731384201.0837836"
      ]
     },
     "execution_count": 22,
     "metadata": {},
     "output_type": "execute_result"
    }
   ],
   "source": [
    "t()"
   ]
  },
  {
   "cell_type": "markdown",
   "id": "cdffa632",
   "metadata": {},
   "source": [
    "```\n",
    "import A             - A 모듈을 가져옴\n",
    "import A as B        - A 모듈을 B이름으로 가져옴\n",
    "from A import B      - A 모듈안의 B함수(클래스|변수)를 가져옴\n",
    "from A import B as C - A모듈안의 B함수를 C이름으로 가져옴\n",
    "\n",
    "from A import B        - A패키지안의 B모듈을 가져옴\n",
    "from A.B import C      - A패키지안의 B모듈안의 C함수를 가져옴\n",
    "from A import B as C   - A패키지안의 B모듈을 C이름으로 가져옴\n",
    "from A.B import C as D - A패키지안의 B모듈안의 C함수를 D이름으로 가져옴\n",
    "```"
   ]
  },
  {
   "cell_type": "code",
   "execution_count": 23,
   "id": "61c9227f",
   "metadata": {},
   "outputs": [
    {
     "data": {
      "text/plain": [
       "['_STRUCT_TM_ITEMS',\n",
       " '__doc__',\n",
       " '__loader__',\n",
       " '__name__',\n",
       " '__package__',\n",
       " '__spec__',\n",
       " 'altzone',\n",
       " 'asctime',\n",
       " 'ctime',\n",
       " 'daylight',\n",
       " 'get_clock_info',\n",
       " 'gmtime',\n",
       " 'localtime',\n",
       " 'mktime',\n",
       " 'monotonic',\n",
       " 'monotonic_ns',\n",
       " 'perf_counter',\n",
       " 'perf_counter_ns',\n",
       " 'process_time',\n",
       " 'process_time_ns',\n",
       " 'sleep',\n",
       " 'strftime',\n",
       " 'strptime',\n",
       " 'struct_time',\n",
       " 'thread_time',\n",
       " 'thread_time_ns',\n",
       " 'time',\n",
       " 'time_ns',\n",
       " 'timezone',\n",
       " 'tzname']"
      ]
     },
     "execution_count": 23,
     "metadata": {},
     "output_type": "execute_result"
    }
   ],
   "source": [
    "import time\n",
    "dir(time) # time내의 변수, 함수, 클래스 등이 list로 출력"
   ]
  },
  {
   "cell_type": "markdown",
   "id": "63799b05",
   "metadata": {},
   "source": [
    "# 2절. 사용자 정의 모듈\n",
    "- 함수나 클래스등을 파이썬 파일에 저장해서 모듈을 만들고 재사용할 수 있음\n",
    "- 모듈을 가져오는 순서 (1)표준모듈 (2)sys.path 변수에 저장된 경로"
   ]
  },
  {
   "cell_type": "code",
   "execution_count": 3,
   "id": "376b7c54",
   "metadata": {},
   "outputs": [
    {
     "data": {
      "text/plain": [
       "['D:\\\\ai\\\\source\\\\07_python',\n",
       " 'C:\\\\Users\\\\pc\\\\anaconda3\\\\python310.zip',\n",
       " 'C:\\\\Users\\\\pc\\\\anaconda3\\\\DLLs',\n",
       " 'C:\\\\Users\\\\pc\\\\anaconda3\\\\lib',\n",
       " 'C:\\\\Users\\\\pc\\\\anaconda3',\n",
       " '',\n",
       " 'C:\\\\Users\\\\pc\\\\anaconda3\\\\lib\\\\site-packages',\n",
       " 'C:\\\\Users\\\\pc\\\\anaconda3\\\\lib\\\\site-packages\\\\win32',\n",
       " 'C:\\\\Users\\\\pc\\\\anaconda3\\\\lib\\\\site-packages\\\\win32\\\\lib',\n",
       " 'C:\\\\Users\\\\pc\\\\anaconda3\\\\lib\\\\site-packages\\\\Pythonwin']"
      ]
     },
     "execution_count": 3,
     "metadata": {},
     "output_type": "execute_result"
    }
   ],
   "source": [
    "import sys\n",
    "# dir(sys)\n",
    "sys.path"
   ]
  },
  {
   "cell_type": "code",
   "execution_count": 5,
   "id": "ca970ae6",
   "metadata": {},
   "outputs": [
    {
     "data": {
      "text/plain": [
       "True"
      ]
     },
     "execution_count": 5,
     "metadata": {},
     "output_type": "execute_result"
    }
   ],
   "source": [
    "'D:/ai/source/pylib'\n",
    "r'D:\\ai\\source\\pylib' == 'D:\\\\ai\\\\source\\\\pylib'"
   ]
  },
  {
   "cell_type": "code",
   "execution_count": 1,
   "id": "f440c695",
   "metadata": {},
   "outputs": [
    {
     "data": {
      "text/plain": [
       "['D:\\\\ai\\\\source\\\\07_python',\n",
       " 'C:\\\\Users\\\\pc\\\\anaconda3\\\\python310.zip',\n",
       " 'C:\\\\Users\\\\pc\\\\anaconda3\\\\DLLs',\n",
       " 'C:\\\\Users\\\\pc\\\\anaconda3\\\\lib',\n",
       " 'C:\\\\Users\\\\pc\\\\anaconda3',\n",
       " '',\n",
       " 'C:\\\\Users\\\\pc\\\\anaconda3\\\\lib\\\\site-packages',\n",
       " 'C:\\\\Users\\\\pc\\\\anaconda3\\\\lib\\\\site-packages\\\\win32',\n",
       " 'C:\\\\Users\\\\pc\\\\anaconda3\\\\lib\\\\site-packages\\\\win32\\\\lib',\n",
       " 'C:\\\\Users\\\\pc\\\\anaconda3\\\\lib\\\\site-packages\\\\Pythonwin',\n",
       " 'D:\\\\ai\\\\source\\\\pylib']"
      ]
     },
     "execution_count": 1,
     "metadata": {},
     "output_type": "execute_result"
    }
   ],
   "source": [
    "# 사용자 정의 모듈을 저장할 폴더 : \n",
    "import sys\n",
    "sys.path.append(r'D:\\ai\\source\\pylib')\n",
    "sys.path"
   ]
  },
  {
   "cell_type": "code",
   "execution_count": 2,
   "id": "abdef8a8",
   "metadata": {},
   "outputs": [],
   "source": [
    "# 1. import 모듈명\n",
    "import fibonacci"
   ]
  },
  {
   "cell_type": "code",
   "execution_count": 3,
   "id": "c9ef4d21",
   "metadata": {},
   "outputs": [
    {
     "name": "stdout",
     "output_type": "stream",
     "text": [
      "0 1 1 2 3 5 8 13 21 34 55 89 \n"
     ]
    }
   ],
   "source": [
    "fibonacci.fibo_print(100)"
   ]
  },
  {
   "cell_type": "code",
   "execution_count": 4,
   "id": "8957a856",
   "metadata": {},
   "outputs": [
    {
     "data": {
      "text/plain": [
       "[0, 1, 1, 2, 3, 5, 8, 13, 21, 34, 55, 89]"
      ]
     },
     "execution_count": 4,
     "metadata": {},
     "output_type": "execute_result"
    }
   ],
   "source": [
    "fibonacci.fibo_return(100)"
   ]
  },
  {
   "cell_type": "code",
   "execution_count": 6,
   "id": "1e1d6b75",
   "metadata": {},
   "outputs": [
    {
     "name": "stdout",
     "output_type": "stream",
     "text": [
      "1. print test : 0 1 1 2 3 5 8 13 21 34 55 89 144 \n",
      "2. return된 list test : [0, 1, 1, 2, 3, 5, 8, 13, 21, 34, 55, 89, 144]\n"
     ]
    }
   ],
   "source": [
    "! python d:/ai/source/pylib/fibonacci.py 200"
   ]
  },
  {
   "cell_type": "code",
   "execution_count": 7,
   "id": "dc29da1b",
   "metadata": {},
   "outputs": [],
   "source": [
    "del fibonacci"
   ]
  },
  {
   "cell_type": "code",
   "execution_count": 18,
   "id": "047785b7",
   "metadata": {},
   "outputs": [
    {
     "name": "stdout",
     "output_type": "stream",
     "text": [
      "0 1 1 2 3 5 8 13 21 34 55 89 \n"
     ]
    }
   ],
   "source": [
    "# 2. from A import B\n",
    "from fibonacci import fibo_print, fibo_return\n",
    "fibo_print(100)"
   ]
  },
  {
   "cell_type": "code",
   "execution_count": 19,
   "id": "ab223980",
   "metadata": {},
   "outputs": [
    {
     "data": {
      "text/plain": [
       "[0, 1, 1, 2, 3, 5, 8, 13, 21, 34, 55, 89, 144]"
      ]
     },
     "execution_count": 19,
     "metadata": {},
     "output_type": "execute_result"
    }
   ],
   "source": [
    "fibo_return(200)"
   ]
  },
  {
   "cell_type": "code",
   "execution_count": 20,
   "id": "a8ac0429",
   "metadata": {},
   "outputs": [],
   "source": [
    "del fibo_print\n",
    "del fibo_return"
   ]
  },
  {
   "cell_type": "code",
   "execution_count": 21,
   "id": "35c53e2b",
   "metadata": {},
   "outputs": [
    {
     "name": "stdout",
     "output_type": "stream",
     "text": [
      "0 1 1 2 3 5 8 13 21 34 55 89 \n"
     ]
    }
   ],
   "source": [
    "# 3. import 모듈명 as 별칭\n",
    "import fibonacci as f\n",
    "f.fibo_print(100)"
   ]
  },
  {
   "cell_type": "code",
   "execution_count": 22,
   "id": "dbcc256e",
   "metadata": {},
   "outputs": [
    {
     "data": {
      "text/plain": [
       "[0, 1, 1, 2, 3, 5, 8, 13, 21, 34, 55, 89]"
      ]
     },
     "execution_count": 22,
     "metadata": {},
     "output_type": "execute_result"
    }
   ],
   "source": [
    "f.fibo_return(100)"
   ]
  },
  {
   "cell_type": "code",
   "execution_count": 23,
   "id": "f2ecf509",
   "metadata": {},
   "outputs": [],
   "source": [
    "del f # import된 모듈을 unload"
   ]
  },
  {
   "cell_type": "code",
   "execution_count": 25,
   "id": "7cc2d35c",
   "metadata": {},
   "outputs": [],
   "source": [
    "# 4. from 모듈명 import 함수명 as 별칭\n",
    "from fibonacci import fibo_print as fibo_p"
   ]
  },
  {
   "cell_type": "code",
   "execution_count": 26,
   "id": "969e6409",
   "metadata": {},
   "outputs": [
    {
     "name": "stdout",
     "output_type": "stream",
     "text": [
      "0 1 1 2 3 5 8 13 21 34 55 89 \n"
     ]
    }
   ],
   "source": [
    "fibo_p(100)"
   ]
  },
  {
   "cell_type": "code",
   "execution_count": 1,
   "id": "50153c6a",
   "metadata": {},
   "outputs": [],
   "source": [
    "import sys\n",
    "sys.path.append(r'D:\\ai\\source\\pylib')"
   ]
  },
  {
   "cell_type": "code",
   "execution_count": 2,
   "id": "d1eb46be",
   "metadata": {},
   "outputs": [],
   "source": [
    "import info"
   ]
  },
  {
   "cell_type": "code",
   "execution_count": 3,
   "id": "752530b6",
   "metadata": {},
   "outputs": [
    {
     "name": "stdout",
     "output_type": "stream",
     "text": [
      "3.141592\n"
     ]
    }
   ],
   "source": [
    "print(info.PI)"
   ]
  },
  {
   "cell_type": "code",
   "execution_count": 4,
   "id": "dffe0b50",
   "metadata": {},
   "outputs": [],
   "source": [
    "obj = info.Cal(10, 5)"
   ]
  },
  {
   "cell_type": "code",
   "execution_count": 6,
   "id": "cb0bb74c",
   "metadata": {},
   "outputs": [
    {
     "name": "stdout",
     "output_type": "stream",
     "text": [
      "True\n",
      "add test : 15\n",
      "sub test : 5\n"
     ]
    }
   ],
   "source": [
    "print(isinstance(obj, info.Cal))\n",
    "print('add test :', obj.add())\n",
    "print('sub test :', obj.sub())"
   ]
  },
  {
   "cell_type": "code",
   "execution_count": 7,
   "id": "d37dd50c",
   "metadata": {},
   "outputs": [],
   "source": [
    "del info"
   ]
  },
  {
   "cell_type": "code",
   "execution_count": 8,
   "id": "0bff6392",
   "metadata": {},
   "outputs": [],
   "source": [
    "import info as i\n",
    "obj = i.Cal(10, 5)"
   ]
  },
  {
   "cell_type": "code",
   "execution_count": 9,
   "id": "48f84163",
   "metadata": {},
   "outputs": [],
   "source": [
    "del i"
   ]
  },
  {
   "cell_type": "code",
   "execution_count": 10,
   "id": "48624a9d",
   "metadata": {},
   "outputs": [],
   "source": [
    "from info import Cal"
   ]
  },
  {
   "cell_type": "code",
   "execution_count": 11,
   "id": "68c8bf03",
   "metadata": {},
   "outputs": [
    {
     "name": "stdout",
     "output_type": "stream",
     "text": [
      "obj.num1 : 10\n",
      "obj.num2 : 5\n",
      "add test : 15\n",
      "sub test : 5\n"
     ]
    }
   ],
   "source": [
    "obj = Cal(10,5)\n",
    "print('obj.num1 :', obj.num1)\n",
    "print('obj.num2 :', obj.num2)\n",
    "print('add test :', obj.add())\n",
    "print('sub test :', obj.sub())"
   ]
  },
  {
   "cell_type": "code",
   "execution_count": 13,
   "id": "d53fac6a",
   "metadata": {},
   "outputs": [
    {
     "name": "stdout",
     "output_type": "stream",
     "text": [
      "obj.num1 : 10\n",
      "obj.num2 : 5\n",
      "add test : 15\n",
      "sub test : 5\n"
     ]
    }
   ],
   "source": [
    "from info import Cal as Calculate\n",
    "obj = Calculate(10,5)\n",
    "print('obj.num1 :', obj.num1)\n",
    "print('obj.num2 :', obj.num2)\n",
    "print('add test :', obj.add())\n",
    "print('sub test :', obj.sub())"
   ]
  },
  {
   "cell_type": "markdown",
   "id": "a96a5bb5",
   "metadata": {},
   "source": [
    "# 3절. 패키지\n",
    "- 모듈들이 들어있는 폴더"
   ]
  },
  {
   "cell_type": "code",
   "execution_count": 1,
   "id": "218f81a6",
   "metadata": {},
   "outputs": [],
   "source": [
    "import sys\n",
    "sys.path.append(r'D:\\ai\\source\\pylib')"
   ]
  },
  {
   "cell_type": "code",
   "execution_count": 2,
   "id": "f6c67ac0",
   "metadata": {},
   "outputs": [
    {
     "name": "stdout",
     "output_type": "stream",
     "text": [
      "sample_pac 패키지를 로드했는데 확인하는 print입니다\n"
     ]
    }
   ],
   "source": [
    "# 상위 패키지를 import 한다고 하위 패키지가 import 되지 않습니다\n",
    "import sample_pac"
   ]
  },
  {
   "cell_type": "code",
   "execution_count": 3,
   "id": "65b594fd",
   "metadata": {},
   "outputs": [
    {
     "name": "stdout",
     "output_type": "stream",
     "text": [
      "sample_pac 패키지 안의 ab 패키지가 로드되었습니다\n"
     ]
    }
   ],
   "source": [
    "import sample_pac.ab"
   ]
  },
  {
   "cell_type": "code",
   "execution_count": 4,
   "id": "aa8a28a0",
   "metadata": {},
   "outputs": [
    {
     "name": "stdout",
     "output_type": "stream",
     "text": [
      "sample_pac 패키지 안의 cd 패키지 로드\n"
     ]
    }
   ],
   "source": [
    "from sample_pac import cd"
   ]
  },
  {
   "cell_type": "code",
   "execution_count": 5,
   "id": "77550445",
   "metadata": {},
   "outputs": [
    {
     "name": "stdout",
     "output_type": "stream",
     "text": [
      "D:\\ai\\source\\pylib\\sample_pac\\__init__.py\n"
     ]
    }
   ],
   "source": [
    "print(sample_pac.__file__)"
   ]
  },
  {
   "cell_type": "code",
   "execution_count": 6,
   "id": "7fa3237c",
   "metadata": {},
   "outputs": [
    {
     "name": "stdout",
     "output_type": "stream",
     "text": [
      "['D:\\\\ai\\\\source\\\\pylib\\\\sample_pac']\n"
     ]
    }
   ],
   "source": [
    "print(sample_pac.__path__)"
   ]
  },
  {
   "cell_type": "code",
   "execution_count": 7,
   "id": "b2fcab35",
   "metadata": {},
   "outputs": [],
   "source": [
    "del sample_pac.ab\n",
    "del cd"
   ]
  },
  {
   "cell_type": "code",
   "execution_count": 1,
   "id": "01ecdeaf",
   "metadata": {},
   "outputs": [],
   "source": [
    "import sys\n",
    "sys.path.append(r'D:\\ai\\source\\pylib')"
   ]
  },
  {
   "cell_type": "code",
   "execution_count": 2,
   "id": "654d17e3",
   "metadata": {},
   "outputs": [
    {
     "name": "stdout",
     "output_type": "stream",
     "text": [
      "sample_pac 패키지를 로드했는데 확인하는 print입니다\n",
      "sample_pac 패키지 안의 ab 패키지가 로드되었습니다\n"
     ]
    }
   ],
   "source": [
    "from sample_pac.ab import * # __init__.py안의 __all__속성인 a.py만 로드"
   ]
  },
  {
   "cell_type": "code",
   "execution_count": 3,
   "id": "01e6f5a8",
   "metadata": {},
   "outputs": [
    {
     "name": "stdout",
     "output_type": "stream",
     "text": [
      "sample_pac/ab/a모듈의 Hello\n"
     ]
    }
   ],
   "source": [
    "a.hello()"
   ]
  },
  {
   "cell_type": "code",
   "execution_count": 4,
   "id": "6bac6ee2",
   "metadata": {},
   "outputs": [
    {
     "ename": "NameError",
     "evalue": "name 'b' is not defined",
     "output_type": "error",
     "traceback": [
      "\u001b[1;31m---------------------------------------------------------\u001b[0m",
      "\u001b[1;31mNameError\u001b[0m               Traceback (most recent call last)",
      "Cell \u001b[1;32mIn[4], line 1\u001b[0m\n\u001b[1;32m----> 1\u001b[0m \u001b[43mb\u001b[49m\u001b[38;5;241m.\u001b[39mworld()\n",
      "\u001b[1;31mNameError\u001b[0m: name 'b' is not defined"
     ]
    }
   ],
   "source": [
    "b.world()"
   ]
  },
  {
   "cell_type": "code",
   "execution_count": 5,
   "id": "41cbff62",
   "metadata": {},
   "outputs": [
    {
     "name": "stdout",
     "output_type": "stream",
     "text": [
      "sample_pac/ab/b모듈안의 world\n"
     ]
    }
   ],
   "source": [
    "from sample_pac.ab import b\n",
    "b.world()"
   ]
  },
  {
   "cell_type": "code",
   "execution_count": 6,
   "id": "1b5ee098",
   "metadata": {},
   "outputs": [
    {
     "name": "stdout",
     "output_type": "stream",
     "text": [
      "sample_pac/ab/b모듈안의 world\n"
     ]
    }
   ],
   "source": [
    "from sample_pac.ab.b import world\n",
    "world()"
   ]
  },
  {
   "cell_type": "code",
   "execution_count": 7,
   "id": "fed68987",
   "metadata": {},
   "outputs": [],
   "source": [
    "del a"
   ]
  },
  {
   "cell_type": "code",
   "execution_count": 1,
   "id": "1123c5d7",
   "metadata": {},
   "outputs": [],
   "source": [
    "import sys\n",
    "sys.path.append(r'D:\\ai\\source\\pylib')"
   ]
  },
  {
   "cell_type": "code",
   "execution_count": 2,
   "id": "c52cd42e",
   "metadata": {},
   "outputs": [
    {
     "name": "stdout",
     "output_type": "stream",
     "text": [
      "sample_pac 패키지를 로드했는데 확인하는 print입니다\n",
      "sample_pac 패키지 안의 cd 패키지 로드\n",
      "sample_pac 패키지 안의 ab 패키지가 로드되었습니다\n"
     ]
    }
   ],
   "source": [
    "import sample_pac.cd.c as c\n",
    "# from sample_pac.cd import c\n",
    "# cd패키지는 ab패키지 일부를 참조"
   ]
  },
  {
   "cell_type": "code",
   "execution_count": 3,
   "id": "777f7b47",
   "metadata": {},
   "outputs": [
    {
     "name": "stdout",
     "output_type": "stream",
     "text": [
      "sample_pac/cd안의 C모듈안의 nice\n",
      "sample_pac/ab/a모듈의 Hello\n"
     ]
    }
   ],
   "source": [
    "c.nice()"
   ]
  },
  {
   "cell_type": "code",
   "execution_count": 5,
   "id": "a04a1d5a",
   "metadata": {},
   "outputs": [
    {
     "name": "stdout",
     "output_type": "stream",
     "text": [
      "sample_pac/ab/a모듈의 Hello\n"
     ]
    }
   ],
   "source": [
    "c.a.hello()"
   ]
  },
  {
   "cell_type": "markdown",
   "id": "26b8af86",
   "metadata": {},
   "source": [
    "# 4절. 패키지 설치 및 삭제\n",
    "```\n",
    "- 패키지 설치 : pip install 패키지명[==버전] / conda install 패키지명[==버전]\n",
    "- 패키지 확인 : pip show 패키지명            / conda list 패키지명\n",
    "- 패키지 삭제 : pip uninstall 패키지명       / conda remove 패키지명\n",
    "```"
   ]
  },
  {
   "cell_type": "code",
   "execution_count": null,
   "id": "87cab3d9",
   "metadata": {},
   "outputs": [],
   "source": []
  },
  {
   "cell_type": "code",
   "execution_count": null,
   "id": "6e6da933",
   "metadata": {},
   "outputs": [],
   "source": []
  },
  {
   "cell_type": "code",
   "execution_count": null,
   "id": "f7cd03e4",
   "metadata": {},
   "outputs": [],
   "source": []
  },
  {
   "cell_type": "code",
   "execution_count": null,
   "id": "72e19dac",
   "metadata": {},
   "outputs": [],
   "source": []
  },
  {
   "cell_type": "code",
   "execution_count": null,
   "id": "78cc503c",
   "metadata": {},
   "outputs": [],
   "source": []
  },
  {
   "cell_type": "code",
   "execution_count": null,
   "id": "c97d58ce",
   "metadata": {},
   "outputs": [],
   "source": []
  },
  {
   "cell_type": "code",
   "execution_count": null,
   "id": "f06cc033",
   "metadata": {},
   "outputs": [],
   "source": []
  }
 ],
 "metadata": {
  "kernelspec": {
   "display_name": "Python 3 (ipykernel)",
   "language": "python",
   "name": "python3"
  },
  "language_info": {
   "codemirror_mode": {
    "name": "ipython",
    "version": 3
   },
   "file_extension": ".py",
   "mimetype": "text/x-python",
   "name": "python",
   "nbconvert_exporter": "python",
   "pygments_lexer": "ipython3",
   "version": "3.10.9"
  },
  "toc": {
   "base_numbering": 1,
   "nav_menu": {},
   "number_sections": true,
   "sideBar": true,
   "skip_h1_title": false,
   "title_cell": "Table of Contents",
   "title_sidebar": "Contents",
   "toc_cell": false,
   "toc_position": {
    "height": "calc(100% - 180px)",
    "left": "10px",
    "top": "150px",
    "width": "165px"
   },
   "toc_section_display": true,
   "toc_window_display": true
  }
 },
 "nbformat": 4,
 "nbformat_minor": 5
}
