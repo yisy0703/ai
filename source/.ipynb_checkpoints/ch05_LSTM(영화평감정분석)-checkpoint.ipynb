{
 "cells": [
  {
   "cell_type": "code",
   "execution_count": 1,
   "id": "861c5cdb",
   "metadata": {
    "ExecuteTime": {
     "end_time": "2025-01-03T02:00:34.641194Z",
     "start_time": "2025-01-03T02:00:34.631194Z"
    }
   },
   "outputs": [
    {
     "data": {
      "text/html": [
       "\n",
       "<style>\n",
       "div.container{width:80% !important;}\n",
       "div.prompt {min-width:70px;}\n",
       "div#toc-header{margin-top:150px;}\n",
       "span.toc-item-num{display:none;}\n",
       "div.CodeMirror {font-family:Consolas}\n",
       "div.input {font-family:Consolas}\n",
       "</style>\n"
      ],
      "text/plain": [
       "<IPython.core.display.HTML object>"
      ]
     },
     "metadata": {},
     "output_type": "display_data"
    }
   ],
   "source": [
    "from IPython.display import display, HTML\n",
    "\n",
    "display(\n",
    "    HTML(\"\"\"\n",
    "<style>\n",
    "div.container{width:80% !important;}\n",
    "div.prompt {min-width:70px;}\n",
    "div#toc-header{margin-top:150px;}\n",
    "span.toc-item-num{display:none;}\n",
    "div.CodeMirror {font-family:Consolas}\n",
    "div.input {font-family:Consolas}\n",
    "</style>\n",
    "\"\"\"))"
   ]
  },
  {
   "cell_type": "markdown",
   "id": "0b4f687d",
   "metadata": {},
   "source": [
    "<font size='5' color='red'>ch05. LSTM(RNN)으로 영화평 구분하기</font>\n",
    "- 5만개 영화 감상평 : 타겟변수(종속변수)로 긍정/부정 구분하기"
   ]
  },
  {
   "cell_type": "code",
   "execution_count": 2,
   "id": "3af46283",
   "metadata": {
    "ExecuteTime": {
     "end_time": "2025-01-03T02:00:40.852282Z",
     "start_time": "2025-01-03T02:00:34.645565Z"
    }
   },
   "outputs": [],
   "source": [
    "# 1. 패키지 수입\n",
    "import numpy as np\n",
    "from tensorflow.keras.datasets import imdb\n",
    "from tensorflow.keras.preprocessing.sequence import pad_sequences\n",
    "from time import time  # time()  # 70.1.1부터 현재까지 몇 초 지났는지\n",
    "\n",
    "from tensorflow.keras.models import Sequential\n",
    "from tensorflow.keras.layers import Embedding, LSTM, Dense\n",
    "\n",
    "from sklearn.metrics import confusion_matrix, f1_score"
   ]
  },
  {
   "cell_type": "code",
   "execution_count": 3,
   "id": "7a446c7e",
   "metadata": {
    "ExecuteTime": {
     "end_time": "2025-01-03T02:00:40.862454Z",
     "start_time": "2025-01-03T02:00:40.852282Z"
    }
   },
   "outputs": [],
   "source": [
    "# 2. 하이퍼 파라미터 설정(이 파라미터를 바꾸면 정확도나 속도에 차이가 남)\n",
    "MY_WORDS = 10000  # imdb 데이터 안의 단어 수\n",
    "MY_LENGTH = 80    # 영화평 단어 수 80개만 독립변수로 설정\n",
    "MY_EMBED = 32     # Embedding 결과 차원\n",
    "MY_HIDDEN = 64    # LSTM의 units\n",
    "\n",
    "MY_EPOCH = 10     # 반복할 학습 수(fit)\n",
    "MY_BATCH = 200    # 배치사이즈(fit)"
   ]
  },
  {
   "cell_type": "code",
   "execution_count": 4,
   "id": "54216a01",
   "metadata": {
    "ExecuteTime": {
     "end_time": "2025-01-03T02:00:45.547708Z",
     "start_time": "2025-01-03T02:00:40.865433Z"
    }
   },
   "outputs": [],
   "source": [
    "# 3. 데이터 불러오기\n",
    "(X_train, y_train), (X_test, y_test) = imdb.load_data(num_words=MY_WORDS)"
   ]
  },
  {
   "cell_type": "code",
   "execution_count": 5,
   "id": "8aa261d1",
   "metadata": {
    "ExecuteTime": {
     "end_time": "2025-01-03T02:00:45.562769Z",
     "start_time": "2025-01-03T02:00:45.550347Z"
    }
   },
   "outputs": [
    {
     "name": "stdout",
     "output_type": "stream",
     "text": [
      "학습용 입력데이터(독립변수) 모양 :  (25000,)\n",
      "학습용 입력데이터(종속변수) 모양 :  (25000,)\n",
      "학습용 입력데이터 샘플 :  218 - [1, 14, 22, 16, 43, 530, 973, 1622, 1385, 65, 458, 4468, 66, 3941, 4, 173, 36, 256, 5, 25, 100, 43, 838, 112, 50, 670, 2, 9, 35, 480, 284, 5, 150, 4, 172, 112, 167, 2, 336, 385, 39, 4, 172, 4536, 1111, 17, 546, 38, 13, 447, 4, 192, 50, 16, 6, 147, 2025, 19, 14, 22, 4, 1920, 4613, 469, 4, 22, 71, 87, 12, 16, 43, 530, 38, 76, 15, 13, 1247, 4, 22, 17, 515, 17, 12, 16, 626, 18, 2, 5, 62, 386, 12, 8, 316, 8, 106, 5, 4, 2223, 5244, 16, 480, 66, 3785, 33, 4, 130, 12, 16, 38, 619, 5, 25, 124, 51, 36, 135, 48, 25, 1415, 33, 6, 22, 12, 215, 28, 77, 52, 5, 14, 407, 16, 82, 2, 8, 4, 107, 117, 5952, 15, 256, 4, 2, 7, 3766, 5, 723, 36, 71, 43, 530, 476, 26, 400, 317, 46, 7, 4, 2, 1029, 13, 104, 88, 4, 381, 15, 297, 98, 32, 2071, 56, 26, 141, 6, 194, 7486, 18, 4, 226, 22, 21, 134, 476, 26, 480, 5, 144, 30, 5535, 18, 51, 36, 28, 224, 92, 25, 104, 4, 226, 65, 16, 38, 1334, 88, 12, 16, 283, 5, 16, 4472, 113, 103, 32, 15, 16, 5345, 19, 178, 32]\n",
      "학습용 출력데이터 샘풀(0:부정/1:긍정) :  1\n",
      "테스트용 입력데이터(독립변수) 모양 :  (25000,)\n",
      "테스트용 입력데이터(종속변수) 모양 :  (25000,)\n",
      "테스트용 입력데이터 샘플 :  68 - [1, 591, 202, 14, 31, 6, 717, 10, 10, 2, 2, 5, 4, 360, 7, 4, 177, 5760, 394, 354, 4, 123, 9, 1035, 1035, 1035, 10, 10, 13, 92, 124, 89, 488, 7944, 100, 28, 1668, 14, 31, 23, 27, 7479, 29, 220, 468, 8, 124, 14, 286, 170, 8, 157, 46, 5, 27, 239, 16, 179, 2, 38, 32, 25, 7944, 451, 202, 14, 6, 717]\n",
      "테스트용 출력데이터 샘풀(0:부정/1:긍정) :  0\n"
     ]
    }
   ],
   "source": [
    "print('학습용 입력데이터(독립변수) 모양 : ', X_train.shape)\n",
    "print('학습용 입력데이터(종속변수) 모양 : ', y_train.shape)\n",
    "print('학습용 입력데이터 샘플 : ', len(X_train[0]), '-', X_train[0])\n",
    "print('학습용 출력데이터 샘풀(0:부정/1:긍정) : ', y_train[0])\n",
    "\n",
    "print('테스트용 입력데이터(독립변수) 모양 : ', X_test.shape)\n",
    "print('테스트용 입력데이터(종속변수) 모양 : ', y_test.shape)\n",
    "print('테스트용 입력데이터 샘플 : ', len(X_test[0]), '-', X_test[0])\n",
    "print('테스트용 출력데이터 샘풀(0:부정/1:긍정) : ', y_test[0])"
   ]
  },
  {
   "cell_type": "code",
   "execution_count": 6,
   "id": "3b1415b1",
   "metadata": {
    "ExecuteTime": {
     "end_time": "2025-01-03T02:00:45.578950Z",
     "start_time": "2025-01-03T02:00:45.566768Z"
    }
   },
   "outputs": [
    {
     "name": "stdout",
     "output_type": "stream",
     "text": [
      "학습용 데이터의 긍정 갯수 :  12500\n",
      "테스트용 데이터의 긍정 갯수 :  12500\n"
     ]
    }
   ],
   "source": [
    "# 긍정 갯수\n",
    "print('학습용 데이터의 긍정 갯수 : ', y_train.sum())\n",
    "print('테스트용 데이터의 긍정 갯수 : ', y_test.sum())"
   ]
  },
  {
   "cell_type": "code",
   "execution_count": 7,
   "id": "2511a5ee",
   "metadata": {
    "ExecuteTime": {
     "end_time": "2025-01-03T02:00:45.587952Z",
     "start_time": "2025-01-03T02:00:45.581948Z"
    }
   },
   "outputs": [
    {
     "name": "stdout",
     "output_type": "stream",
     "text": [
      "첫 10개 영화평의 길이 : \n",
      "1번째 218\n",
      "2번째 189\n",
      "3번째 141\n",
      "4번째 550\n",
      "5번째 147\n",
      "6번째 43\n",
      "7번째 123\n",
      "8번째 562\n",
      "9번째 233\n",
      "10번째 130\n"
     ]
    }
   ],
   "source": [
    "# 4. 영화평 학습용 데이터 처음 10개 길이 출력 함수\n",
    "def show_length():\n",
    "    print('첫 10개 영화평의 길이 : ')\n",
    "    for i in range(10):\n",
    "        print(f'{i+1}번째 {len(X_train[i])}')\n",
    "show_length()"
   ]
  },
  {
   "cell_type": "code",
   "execution_count": 8,
   "id": "776289aa",
   "metadata": {
    "ExecuteTime": {
     "end_time": "2025-01-03T02:00:45.597772Z",
     "start_time": "2025-01-03T02:00:45.591477Z"
    }
   },
   "outputs": [],
   "source": [
    "# [f'{i+1}번째 {len(X_train[i])}' for i in range(10)]"
   ]
  },
  {
   "cell_type": "code",
   "execution_count": 9,
   "id": "6189ccb6",
   "metadata": {
    "ExecuteTime": {
     "end_time": "2025-01-03T02:00:45.716465Z",
     "start_time": "2025-01-03T02:00:45.600769Z"
    }
   },
   "outputs": [
    {
     "name": "stdout",
     "output_type": "stream",
     "text": [
      "17\n",
      "19\n",
      "movie\n",
      "film\n"
     ]
    }
   ],
   "source": [
    "# 5. 문자 단어 -> 정수\n",
    "word_to_id = imdb.get_word_index()  # 딕셔너리{'문자 단어:key' : 정수:id}\n",
    "print(word_to_id['movie'])\n",
    "print(word_to_id['film'])\n",
    "\n",
    "# 5. 정수 -> 문자 단어\n",
    "id_to_word = {}  # 딕셔너리{정수:id : '문자 단어:value'}\n",
    "for key, val in word_to_id.items():\n",
    "    id_to_word[val] = key\n",
    "print(id_to_word[17])\n",
    "print(id_to_word[19])"
   ]
  },
  {
   "cell_type": "code",
   "execution_count": 10,
   "id": "eacf5e87",
   "metadata": {
    "ExecuteTime": {
     "end_time": "2025-01-03T02:00:45.746695Z",
     "start_time": "2025-01-03T02:00:45.718801Z"
    }
   },
   "outputs": [
    {
     "name": "stdout",
     "output_type": "stream",
     "text": [
      "[48, 3, 386, None]\n",
      "[48, 3, 386, -1]\n",
      "원 후기 내용 :  ['what', 'a', 'wonderful', 'movi']\n",
      "encoded data :  [1, 51, 6, 389, 2]\n",
      "data 추정 :  ?? what a wonderful ??\n"
     ]
    }
   ],
   "source": [
    "msg = 'What a wonderful movi'\n",
    "msg = msg.lower().split()\n",
    "print([word_to_id.get(m) for m in msg])\n",
    "print([word_to_id.get(m, -1) for m in msg])\n",
    "# 1:리뷰시작을 알리는 숫자, 2:문자가 잘려서 잘못 읽어옴\n",
    "data = [1] + [word_to_id.get(m, -1)+3 for m in msg]\n",
    "print('원 후기 내용 : ', msg)\n",
    "print('encoded data : ', data)\n",
    "print('data 추정 : ', ' '.join([id_to_word.get(d-3, '??') for d in data]))"
   ]
  },
  {
   "cell_type": "code",
   "execution_count": 11,
   "id": "725f26db",
   "metadata": {
    "ExecuteTime": {
     "end_time": "2025-01-03T02:00:45.762529Z",
     "start_time": "2025-01-03T02:00:45.749692Z"
    }
   },
   "outputs": [
    {
     "name": "stdout",
     "output_type": "stream",
     "text": [
      "[1, 14, 22, 16, 43, 530, 973, 1622, 1385, 65, 458, 4468, 66, 3941, 4, 173, 36, 256, 5, 25, 100, 43, 838, 112, 50, 670, 2, 9, 35, 480, 284, 5, 150, 4, 172, 112, 167, 2, 336, 385, 39, 4, 172, 4536, 1111, 17, 546, 38, 13, 447, 4, 192, 50, 16, 6, 147, 2025, 19, 14, 22, 4, 1920, 4613, 469, 4, 22, 71, 87, 12, 16, 43, 530, 38, 76, 15, 13, 1247, 4, 22, 17, 515, 17, 12, 16, 626, 18, 2, 5, 62, 386, 12, 8, 316, 8, 106, 5, 4, 2223, 5244, 16, 480, 66, 3785, 33, 4, 130, 12, 16, 38, 619, 5, 25, 124, 51, 36, 135, 48, 25, 1415, 33, 6, 22, 12, 215, 28, 77, 52, 5, 14, 407, 16, 82, 2, 8, 4, 107, 117, 5952, 15, 256, 4, 2, 7, 3766, 5, 723, 36, 71, 43, 530, 476, 26, 400, 317, 46, 7, 4, 2, 1029, 13, 104, 88, 4, 381, 15, 297, 98, 32, 2071, 56, 26, 141, 6, 194, 7486, 18, 4, 226, 22, 21, 134, 476, 26, 480, 5, 144, 30, 5535, 18, 51, 36, 28, 224, 92, 25, 104, 4, 226, 65, 16, 38, 1334, 88, 12, 16, 283, 5, 16, 4472, 113, 103, 32, 15, 16, 5345, 19, 178, 32]\n",
      "??? this film was just brilliant casting location scenery story direction everyone's really suited the part they played and you could just imagine being there robert ??? is an amazing actor and now the same being director ??? father came from the same scottish island as myself so i loved the fact there was a real connection with this film the witty remarks throughout the film were great it was just brilliant so much that i bought the film as soon as it was released for ??? and would recommend it to everyone to watch and the fly fishing was amazing really cried at the end it was so sad and you know what they say if you cry at a film it must have been good and this definitely was also ??? to the two little boy's that played the ??? of norman and paul they were just brilliant children are often left out of the ??? list i think because the stars that play them all grown up are such a big profile for the whole film but these children are amazing and should be praised for what they have done don't you think the whole story was so lovely because it was true and was someone's life after all that was shared with us all\n",
      "None 1\n"
     ]
    }
   ],
   "source": [
    "# 6. 숫자 영화평 -> 자연어 영화평\n",
    "def decoding(review_num):\n",
    "    decoded = []\n",
    "    for num in review_num:\n",
    "        word = id_to_word.get(num-3, '???')\n",
    "        decoded.append(word)\n",
    "    print(' '.join(decoded))\n",
    "print(X_train[0])\n",
    "print(decoding(X_train[0]), y_train[0])"
   ]
  },
  {
   "cell_type": "code",
   "execution_count": 12,
   "id": "2fb71057",
   "metadata": {
    "ExecuteTime": {
     "end_time": "2025-01-03T02:00:45.779249Z",
     "start_time": "2025-01-03T02:00:45.768392Z"
    }
   },
   "outputs": [
    {
     "name": "stdout",
     "output_type": "stream",
     "text": [
      "pad_sequence 작업 전\n",
      "첫 10개 영화평의 길이 : \n",
      "1번째 218\n",
      "2번째 189\n",
      "3번째 141\n",
      "4번째 550\n",
      "5번째 147\n",
      "6번째 43\n",
      "7번째 123\n",
      "8번째 562\n",
      "9번째 233\n",
      "10번째 130\n"
     ]
    }
   ],
   "source": [
    "print('pad_sequence 작업 전')\n",
    "show_length()"
   ]
  },
  {
   "cell_type": "code",
   "execution_count": 13,
   "id": "e9562ce1",
   "metadata": {
    "ExecuteTime": {
     "end_time": "2025-01-03T02:00:45.811437Z",
     "start_time": "2025-01-03T02:00:45.783245Z"
    }
   },
   "outputs": [
    {
     "data": {
      "text/plain": [
       "(2494, 11)"
      ]
     },
     "execution_count": 13,
     "metadata": {},
     "output_type": "execute_result"
    }
   ],
   "source": [
    "max([len(x) for x in X_train]), min([len(x) for x in X_train])"
   ]
  },
  {
   "cell_type": "code",
   "execution_count": 14,
   "id": "33188145",
   "metadata": {
    "ExecuteTime": {
     "end_time": "2025-01-03T02:00:46.394853Z",
     "start_time": "2025-01-03T02:00:45.813435Z"
    }
   },
   "outputs": [
    {
     "name": "stdout",
     "output_type": "stream",
     "text": [
      "첫 10개 영화평의 길이 : \n",
      "1번째 80\n",
      "2번째 80\n",
      "3번째 80\n",
      "4번째 80\n",
      "5번째 80\n",
      "6번째 80\n",
      "7번째 80\n",
      "8번째 80\n",
      "9번째 80\n",
      "10번째 80\n"
     ]
    }
   ],
   "source": [
    "# 7. 모든 영화평의 길이를 동일하게 만들기(score : 75.2%)\n",
    "X_train = pad_sequences(X_train,  # 2차원\n",
    "                        padding='post',\n",
    "                        truncating='post',  # 뒷부분을 자르고 앞부분을 남김\n",
    "                        maxlen=MY_LENGTH)\n",
    "X_test = pad_sequences(X_test,\n",
    "                       padding='post',\n",
    "                       truncating='post',\n",
    "                       maxlen=MY_LENGTH)\n",
    "show_length()"
   ]
  },
  {
   "cell_type": "code",
   "execution_count": 15,
   "id": "c21b3ce2",
   "metadata": {
    "ExecuteTime": {
     "end_time": "2025-01-03T02:00:46.411505Z",
     "start_time": "2025-01-03T02:00:46.397258Z"
    }
   },
   "outputs": [],
   "source": [
    "# 7. 모든 영화평의 길이를 동일하게 만들기(score : _%)\n",
    "# X_train = pad_sequences(X_train,  # 2차원\n",
    "#                         padding='pre',\n",
    "#                         truncating='pre',  # 뒷부분을 자르고 앞부분을 남김\n",
    "#                         maxlen=MY_LENGTH)\n",
    "# X_test = pad_sequences(X_test,\n",
    "#                        padding='pre',\n",
    "#                        truncating='pre',\n",
    "#                        maxlen=MY_LENGTH)\n",
    "# show_length()"
   ]
  },
  {
   "cell_type": "code",
   "execution_count": 16,
   "id": "f6ec9b0b",
   "metadata": {
    "ExecuteTime": {
     "end_time": "2025-01-03T02:00:46.428144Z",
     "start_time": "2025-01-03T02:00:46.414503Z"
    }
   },
   "outputs": [
    {
     "data": {
      "text/plain": [
       "((25000, 80), (25000,), (25000, 80), (25000,))"
      ]
     },
     "execution_count": 16,
     "metadata": {},
     "output_type": "execute_result"
    }
   ],
   "source": [
    "# 8. 모델 생성 전 최종 데이터 shape 확인\n",
    "X_train.shape, y_train.shape, X_test.shape, y_test.shape"
   ]
  },
  {
   "cell_type": "code",
   "execution_count": 17,
   "id": "3fdefd2f",
   "metadata": {
    "ExecuteTime": {
     "end_time": "2025-01-03T02:00:47.079153Z",
     "start_time": "2025-01-03T02:00:46.431142Z"
    }
   },
   "outputs": [
    {
     "name": "stdout",
     "output_type": "stream",
     "text": [
      "Model: \"sequential\"\n",
      "_________________________________________________________________\n",
      " Layer (type)                Output Shape              Param #   \n",
      "=================================================================\n",
      " embedding (Embedding)       (None, 80, 32)            320000    \n",
      "                                                                 \n",
      " lstm (LSTM)                 (None, 64)                24832     \n",
      "                                                                 \n",
      " dense (Dense)               (None, 1)                 65        \n",
      "                                                                 \n",
      "=================================================================\n",
      "Total params: 344,897\n",
      "Trainable params: 344,897\n",
      "Non-trainable params: 0\n",
      "_________________________________________________________________\n"
     ]
    }
   ],
   "source": [
    "# 9. 모델 생성 및 구현\n",
    "model = Sequential()\n",
    "model.add(Embedding(input_dim=MY_WORDS,\n",
    "                    output_dim=MY_EMBED, \n",
    "                    input_length=MY_LENGTH))\n",
    "model.add(LSTM(units=MY_HIDDEN,\n",
    "               input_shape=(MY_LENGTH, MY_EMBED)))\n",
    "model.add(Dense(units=1, activation='sigmoid'))  # 2진분류\n",
    "model.summary()"
   ]
  },
  {
   "cell_type": "code",
   "execution_count": 18,
   "id": "fd90592d",
   "metadata": {
    "ExecuteTime": {
     "end_time": "2025-01-03T02:02:18.562316Z",
     "start_time": "2025-01-03T02:00:47.083151Z"
    }
   },
   "outputs": [
    {
     "name": "stdout",
     "output_type": "stream",
     "text": [
      "Epoch 1/10\n",
      "100/100 [==============================] - 5s 14ms/step - loss: 0.5796 - accuracy: 0.6704 - val_loss: 0.4345 - val_accuracy: 0.7956\n",
      "Epoch 2/10\n",
      "100/100 [==============================] - 1s 9ms/step - loss: 0.3594 - accuracy: 0.8491 - val_loss: 0.4037 - val_accuracy: 0.8166\n",
      "Epoch 3/10\n",
      "100/100 [==============================] - 1s 9ms/step - loss: 0.2738 - accuracy: 0.8913 - val_loss: 0.4190 - val_accuracy: 0.8106\n",
      "Epoch 4/10\n",
      "100/100 [==============================] - 1s 9ms/step - loss: 0.2306 - accuracy: 0.9130 - val_loss: 0.5109 - val_accuracy: 0.7976\n",
      "Epoch 5/10\n",
      "100/100 [==============================] - 1s 10ms/step - loss: 0.1962 - accuracy: 0.9277 - val_loss: 0.5293 - val_accuracy: 0.8032\n",
      "Epoch 6/10\n",
      "100/100 [==============================] - 1s 11ms/step - loss: 0.1680 - accuracy: 0.9416 - val_loss: 0.5492 - val_accuracy: 0.7962\n",
      "Epoch 7/10\n",
      "100/100 [==============================] - 1s 9ms/step - loss: 0.1462 - accuracy: 0.9495 - val_loss: 0.6427 - val_accuracy: 0.7920\n",
      "Epoch 8/10\n",
      "100/100 [==============================] - 1s 9ms/step - loss: 0.1231 - accuracy: 0.9600 - val_loss: 0.6037 - val_accuracy: 0.7920\n",
      "Epoch 9/10\n",
      "100/100 [==============================] - 1s 9ms/step - loss: 0.1163 - accuracy: 0.9614 - val_loss: 0.6519 - val_accuracy: 0.7882\n",
      "Epoch 10/10\n",
      "100/100 [==============================] - 1s 9ms/step - loss: 0.0923 - accuracy: 0.9710 - val_loss: 0.7674 - val_accuracy: 0.7872\n",
      "총 학습 시간 : 13.66\n"
     ]
    }
   ],
   "source": [
    "# 10. 학습 환경 설정 및 학습하기\n",
    "model.compile(loss='binary_crossentropy',  # 이중분류 시 손실함수\n",
    "              optimizer='adam', metrics=['accuracy'])\n",
    "begin = time()  # 70.1.1 ~ 현재시점까지의 초\n",
    "model.fit(x=X_train, y=y_train, epochs=MY_EPOCH, batch_size=MY_BATCH, verbose=1, validation_split=0.2)\n",
    "end = time()  # 70.1.1 ~ 현재시점까지의 초\n",
    "print('총 학습 시간 : {:.2f}'.format(end-begin))"
   ]
  },
  {
   "cell_type": "code",
   "execution_count": 19,
   "id": "ba7bfc6b",
   "metadata": {
    "ExecuteTime": {
     "end_time": "2025-01-03T02:02:28.395734Z",
     "start_time": "2025-01-03T02:02:18.564314Z"
    }
   },
   "outputs": [
    {
     "name": "stdout",
     "output_type": "stream",
     "text": [
      "782/782 [==============================] - 3s 3ms/step - loss: 0.9015 - accuracy: 0.7588\n",
      "test 데이터의 정확도(acc) :  0.758840024471283\n"
     ]
    }
   ],
   "source": [
    "# 11. 모델 평가\n",
    "loss, acc = model.evaluate(x=X_test, y=y_test, verbose=1)\n",
    "print('test 데이터의 정확도(acc) : ', acc)"
   ]
  },
  {
   "cell_type": "code",
   "execution_count": 20,
   "id": "849560e5",
   "metadata": {
    "ExecuteTime": {
     "end_time": "2025-01-03T02:02:38.343714Z",
     "start_time": "2025-01-03T02:02:28.398732Z"
    }
   },
   "outputs": [
    {
     "name": "stdout",
     "output_type": "stream",
     "text": [
      "782/782 [==============================] - 2s 2ms/step\n"
     ]
    },
    {
     "data": {
      "text/plain": [
       "array([0, 1, 1, ..., 0, 0, 1])"
      ]
     },
     "execution_count": 20,
     "metadata": {},
     "output_type": "execute_result"
    }
   ],
   "source": [
    "# 혼돈행렬\n",
    "pred = model.predict(X_test)\n",
    "y_hat = (pred > 0.5).astype(int).reshape(-1)\n",
    "y_hat"
   ]
  },
  {
   "cell_type": "code",
   "execution_count": 21,
   "id": "3d16d1d5",
   "metadata": {
    "ExecuteTime": {
     "end_time": "2025-01-03T02:02:38.362600Z",
     "start_time": "2025-01-03T02:02:38.347032Z"
    }
   },
   "outputs": [
    {
     "data": {
      "text/plain": [
       "((25000,), (25000,))"
      ]
     },
     "execution_count": 21,
     "metadata": {},
     "output_type": "execute_result"
    }
   ],
   "source": [
    "y_test.shape, y_hat.shape"
   ]
  },
  {
   "cell_type": "code",
   "execution_count": 22,
   "id": "f94d6f8f",
   "metadata": {
    "ExecuteTime": {
     "end_time": "2025-01-03T02:02:38.379184Z",
     "start_time": "2025-01-03T02:02:38.365601Z"
    }
   },
   "outputs": [
    {
     "data": {
      "text/plain": [
       "array([[9905, 2595],\n",
       "       [3434, 9066]], dtype=int64)"
      ]
     },
     "execution_count": 22,
     "metadata": {},
     "output_type": "execute_result"
    }
   ],
   "source": [
    "confusion_matrix(y_test, y_hat)"
   ]
  },
  {
   "cell_type": "code",
   "execution_count": 23,
   "id": "ad061335",
   "metadata": {
    "ExecuteTime": {
     "end_time": "2025-01-03T02:02:38.412509Z",
     "start_time": "2025-01-03T02:02:38.382183Z"
    }
   },
   "outputs": [
    {
     "data": {
      "text/html": [
       "<div>\n",
       "<style scoped>\n",
       "    .dataframe tbody tr th:only-of-type {\n",
       "        vertical-align: middle;\n",
       "    }\n",
       "\n",
       "    .dataframe tbody tr th {\n",
       "        vertical-align: top;\n",
       "    }\n",
       "\n",
       "    .dataframe thead th {\n",
       "        text-align: right;\n",
       "    }\n",
       "</style>\n",
       "<table border=\"1\" class=\"dataframe\">\n",
       "  <thead>\n",
       "    <tr style=\"text-align: right;\">\n",
       "      <th>col_0</th>\n",
       "      <th>0</th>\n",
       "      <th>1</th>\n",
       "    </tr>\n",
       "    <tr>\n",
       "      <th>row_0</th>\n",
       "      <th></th>\n",
       "      <th></th>\n",
       "    </tr>\n",
       "  </thead>\n",
       "  <tbody>\n",
       "    <tr>\n",
       "      <th>0</th>\n",
       "      <td>9905</td>\n",
       "      <td>2595</td>\n",
       "    </tr>\n",
       "    <tr>\n",
       "      <th>1</th>\n",
       "      <td>3434</td>\n",
       "      <td>9066</td>\n",
       "    </tr>\n",
       "  </tbody>\n",
       "</table>\n",
       "</div>"
      ],
      "text/plain": [
       "col_0     0     1\n",
       "row_0            \n",
       "0      9905  2595\n",
       "1      3434  9066"
      ]
     },
     "execution_count": 23,
     "metadata": {},
     "output_type": "execute_result"
    }
   ],
   "source": [
    "import pandas as pd\n",
    "pd.crosstab(y_test, y_hat)"
   ]
  },
  {
   "cell_type": "code",
   "execution_count": 24,
   "id": "8bc40220",
   "metadata": {
    "ExecuteTime": {
     "end_time": "2025-01-03T02:02:38.420505Z",
     "start_time": "2025-01-03T02:02:38.415508Z"
    }
   },
   "outputs": [],
   "source": [
    "# accuracy(전체 중 정답을 맞힌 비율) : = (TN+TP) / (TN+FP+FN+TP)\n",
    "# precision(정밀도, 민감도 - True로 예측한 것 중 맞힌 비율) : = TP / (FP+TP)\n",
    "# recall(재현율 - 실제값이 True인 것 중 True로 맞힌 비율) : = TP / (FN+TP)"
   ]
  },
  {
   "cell_type": "code",
   "execution_count": 24,
   "id": "df589f79",
   "metadata": {
    "ExecuteTime": {
     "end_time": "2025-01-03T02:02:38.434118Z",
     "start_time": "2025-01-03T02:02:38.423506Z"
    }
   },
   "outputs": [
    {
     "name": "stdout",
     "output_type": "stream",
     "text": [
      "63 [1, 51, 6, 389, 20, 4, 217, 16, 52, 4, 1500, 16, 52, 5, 4, 481, 16, 52, 50, 16, 6, 23667, 15, 13, 473, 8, 140, 8, 4, 3868, 11, 4, 655, 88, 4, 620, 58, 16, 196, 4, 14802, 967, 9, 24, 312, 38, 13, 122, 73, 19, 3964, 13, 545, 386, 12, 25, 528, 2598, 12, 48, 25, 106, 12]\n"
     ]
    },
    {
     "data": {
      "text/plain": [
       "(1, 63)"
      ]
     },
     "execution_count": 24,
     "metadata": {},
     "output_type": "execute_result"
    }
   ],
   "source": [
    "# 12. 모델 사용하기\n",
    "review = '''What a wonderful movie The role was good the content was good and the sound was good \n",
    "There was a disadvantage that I wanted to go to the bathroom in the middle because the running time was long \n",
    "The reservation rate is not high so I did well with ease I highly recommend it You won't regret it if you watch it'''\n",
    "review = review.lower().split()\n",
    "review = [1] + [word_to_id.get(r, -1)+3 for r in review]  # [1] : 모든 데이터 앞에 1이 존재했으므로 통일시키기 위함\n",
    "print(len(review), review)\n",
    "review = np.array(review).reshape(-1, len(review))  # 2차원\n",
    "review.shape"
   ]
  },
  {
   "cell_type": "code",
   "execution_count": 25,
   "id": "db66a38a",
   "metadata": {
    "ExecuteTime": {
     "end_time": "2025-01-03T02:02:38.445818Z",
     "start_time": "2025-01-03T02:02:38.436507Z"
    }
   },
   "outputs": [
    {
     "data": {
      "text/plain": [
       "array([[    1,    51,     6,   389,    20,     4,   217,    16,    52,\n",
       "            4,  1500,    16,    52,     5,     4,   481,    16,    52,\n",
       "           50,    16,     6, 23667,    15,    13,   473,     8,   140,\n",
       "            8,     4,  3868,    11,     4,   655,    88,     4,   620,\n",
       "           58,    16,   196,     4, 14802,   967,     9,    24,   312,\n",
       "           38,    13,   122,    73,    19,  3964,    13,   545,   386,\n",
       "           12,    25,   528,  2598,    12,    48,    25,   106,    12,\n",
       "            0,     0,     0,     0,     0,     0,     0,     0,     0,\n",
       "            0,     0,     0,     0,     0,     0,     0,     0]])"
      ]
     },
     "execution_count": 25,
     "metadata": {},
     "output_type": "execute_result"
    }
   ],
   "source": [
    "input_data = pad_sequences(review,\n",
    "                           padding='post',\n",
    "                           maxlen=MY_LENGTH,\n",
    "                           truncating='post')  # 80개 단어 이상일 경우 뒤부터 자르기\n",
    "input_data"
   ]
  },
  {
   "cell_type": "code",
   "execution_count": 26,
   "id": "fdb9533a",
   "metadata": {
    "ExecuteTime": {
     "end_time": "2025-01-03T02:04:36.943809Z",
     "start_time": "2025-01-03T02:04:36.797086Z"
    }
   },
   "outputs": [
    {
     "name": "stdout",
     "output_type": "stream",
     "text": [
      "1/1 [==============================] - 0s 23ms/step\n"
     ]
    },
    {
     "data": {
      "text/plain": [
       "array([[1]], dtype=int8)"
      ]
     },
     "execution_count": 26,
     "metadata": {},
     "output_type": "execute_result"
    }
   ],
   "source": [
    "(model.predict(input_data)> 0.5).astype('int8')"
   ]
  },
  {
   "cell_type": "code",
   "execution_count": null,
   "id": "f623dc5e",
   "metadata": {},
   "outputs": [],
   "source": []
  },
  {
   "cell_type": "code",
   "execution_count": null,
   "id": "e6393cfe",
   "metadata": {},
   "outputs": [],
   "source": []
  },
  {
   "cell_type": "code",
   "execution_count": null,
   "id": "46446211",
   "metadata": {},
   "outputs": [],
   "source": []
  },
  {
   "cell_type": "code",
   "execution_count": null,
   "id": "a0aff36c",
   "metadata": {},
   "outputs": [],
   "source": []
  },
  {
   "cell_type": "code",
   "execution_count": null,
   "id": "b8846b58",
   "metadata": {},
   "outputs": [],
   "source": []
  },
  {
   "cell_type": "code",
   "execution_count": null,
   "id": "6806862b",
   "metadata": {},
   "outputs": [],
   "source": []
  },
  {
   "cell_type": "code",
   "execution_count": null,
   "id": "2cd1cf75",
   "metadata": {},
   "outputs": [],
   "source": []
  },
  {
   "cell_type": "code",
   "execution_count": null,
   "id": "787636ba",
   "metadata": {},
   "outputs": [],
   "source": []
  },
  {
   "cell_type": "code",
   "execution_count": null,
   "id": "f668e0c9",
   "metadata": {},
   "outputs": [],
   "source": []
  }
 ],
 "metadata": {
  "kernelspec": {
   "display_name": "Python 3 (ipykernel)",
   "language": "python",
   "name": "python3"
  },
  "language_info": {
   "codemirror_mode": {
    "name": "ipython",
    "version": 3
   },
   "file_extension": ".py",
   "mimetype": "text/x-python",
   "name": "python",
   "nbconvert_exporter": "python",
   "pygments_lexer": "ipython3",
   "version": "3.10.9"
  },
  "toc": {
   "base_numbering": 1,
   "nav_menu": {},
   "number_sections": true,
   "sideBar": true,
   "skip_h1_title": false,
   "title_cell": "Table of Contents",
   "title_sidebar": "Contents",
   "toc_cell": false,
   "toc_position": {
    "height": "calc(100% - 180px)",
    "left": "10px",
    "top": "150px",
    "width": "165px"
   },
   "toc_section_display": true,
   "toc_window_display": true
  }
 },
 "nbformat": 4,
 "nbformat_minor": 5
}
