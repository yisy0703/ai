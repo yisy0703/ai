{
 "cells": [
  {
   "cell_type": "code",
   "execution_count": 2,
   "id": "b350334d",
   "metadata": {},
   "outputs": [],
   "source": [
    "import librosa\n",
    "import os\n",
    "import numpy as np\n",
    "import librosa"
   ]
  },
  {
   "cell_type": "code",
   "execution_count": 3,
   "id": "8ddc0b1c",
   "metadata": {},
   "outputs": [],
   "source": [
    "def make_vector_wav(filename):\n",
    "    # Load the example clip\n",
    "    y, sr = librosa.load(filename)\n",
    "    print(1)\n",
    "    # Set the hop length; at 22050 Hz, 512 samples ~= 23ms\n",
    "    hop_length = 512\n",
    "    \n",
    "    # Separate harmonics and percussives into two waveforms\n",
    "    y_harmonic, y_percussive = librosa.effects.hpss(y)\n",
    "    print(2)\n",
    "    # Beat track on the percussive signal\n",
    "    tempo, beat_frames = librosa.beat.beat_track(y=y_percussive,\n",
    "                                                 sr=sr)\n",
    "    print(3)\n",
    "    # Compute MFCC features from the raw signal\n",
    "    mfcc = librosa.feature.mfcc(y=y, sr=sr, hop_length=hop_length, n_mfcc=13)\n",
    "    print(4)\n",
    "    # And the first-order differences (delta features)\n",
    "    mfcc_delta = librosa.feature.delta(mfcc)\n",
    "    print(5)\n",
    "    # Stack and synchronize between beat events\n",
    "    # This time, we'll use the mean value (default) instead of median\n",
    "    beat_mfcc_delta = librosa.util.sync(np.vstack([mfcc, mfcc_delta]),\n",
    "                                        beat_frames)\n",
    "    print(6)\n",
    "    # Compute chroma features from the harmonic signal\n",
    "    chromagram = librosa.feature.chroma_cqt(y=y_harmonic,\n",
    "                                            sr=sr)\n",
    "    print(7)\n",
    "    # Aggregate chroma features between beat events\n",
    "    # We'll use the median value of each feature between beat frames\n",
    "    beat_chroma = librosa.util.sync(chromagram,\n",
    "                                    beat_frames,\n",
    "                                    aggregate=np.median)\n",
    "    print(8)\n",
    "    # Finally, stack all beat-synchronous features together\n",
    "    return np.vstack([beat_chroma, beat_mfcc_delta])"
   ]
  },
  {
   "cell_type": "code",
   "execution_count": 4,
   "id": "2e7c5b94",
   "metadata": {},
   "outputs": [],
   "source": [
    "def make_three_demension(X_data):\n",
    "    max_beats = max(X.shape[1] for X in X_data)\n",
    "    feature_dim = X_data[0].shape[0]\n",
    "    num_songs = len(X_data)\n",
    "    X_data_array = np.zeros((num_songs, feature_dim, max_beats))\n",
    "\n",
    "    for i, X in enumerate(X_data):\n",
    "        X_data_array[i, :, :X.shape[1]] = X\n",
    "    return X_data_array"
   ]
  },
  {
   "cell_type": "code",
   "execution_count": 6,
   "id": "aa0f2bf7",
   "metadata": {},
   "outputs": [
    {
     "data": {
      "text/plain": [
       "['aespa - Drama.wav']"
      ]
     },
     "execution_count": 6,
     "metadata": {},
     "output_type": "execute_result"
    }
   ],
   "source": [
    "filepath='D:/ai/source/music'\n",
    "filelist=os.listdir(filepath)\n",
    "filelist"
   ]
  },
  {
   "cell_type": "code",
   "execution_count": 7,
   "id": "b6999c88",
   "metadata": {
    "scrolled": true
   },
   "outputs": [],
   "source": [
    "filepath='D:/ai/source/music'\n",
    "filelist=os.listdir(filepath)\n",
    "false_data = []\n",
    "for filename in filelist:\n",
    "    false_data.append(make_vector_wav(filepath+'/'+filename))\n",
    "false_data_array=make_three_demension(false_data)\n",
    "np.save('d:/ai/source/alse.npy',false_data_array)"
   ]
  },
  {
   "cell_type": "code",
   "execution_count": 45,
   "id": "d8ec4c0c",
   "metadata": {},
   "outputs": [],
   "source": [
    "filepath=r'd:/ai/Downloads/Data/music/음악'\n",
    "filelist=os.listdir(filepath)\n",
    "X_data = []\n",
    "for filename in filelist:\n",
    "    X_data.append(make_vector_wav(filepath+'/'+filename))\n",
    "X_data_array=make_three_demension(X_data)\n",
    "np.save(r'd:/ai/Downloads/Data/music/음악.npy',X_data_array)"
   ]
  },
  {
   "cell_type": "code",
   "execution_count": 4,
   "id": "1b1ce69a",
   "metadata": {
    "scrolled": true
   },
   "outputs": [
    {
     "data": {
      "text/plain": [
       "array([[[ 0.88494962,  0.47914609,  0.1352085 , ...,  0.09452026,\n",
       "          0.04756797,  0.36899889],\n",
       "        [ 0.75104749,  0.55889046,  0.20881483, ...,  0.10362257,\n",
       "          0.03076831,  0.24651632],\n",
       "        [ 0.71074259,  0.64105523,  0.12796347, ...,  0.03161889,\n",
       "          0.04967717,  0.13682453],\n",
       "        ...,\n",
       "        [-0.06936034, -0.35840881,  0.22369024, ..., -0.10109594,\n",
       "          0.77484214, -0.01138526],\n",
       "        [ 0.01799304, -0.77639371,  0.58816689, ..., -0.34006029,\n",
       "          0.84082985, -0.04691944],\n",
       "        [ 0.02241683, -0.16039898, -0.00748134, ..., -0.92549455,\n",
       "         -0.29715592,  0.05316927]]])"
      ]
     },
     "execution_count": 4,
     "metadata": {},
     "output_type": "execute_result"
    }
   ],
   "source": [
    "filepath=r'd:/ai/Downloads/Data/music/음악'\n",
    "filelist=os.listdir(filepath)\n",
    "X_data = []\n",
    "X_data.append(make_vector_wav(filepath+'/'+filelist[0]))\n",
    "X_data_array=make_three_demension(X_data)\n",
    "X_data_array"
   ]
  },
  {
   "cell_type": "code",
   "execution_count": 74,
   "id": "0731a593",
   "metadata": {},
   "outputs": [],
   "source": [
    "filepath=r'd:/ai/Downloads/Data/music/Melon Daily Top 100 _ 멜론 일간차트/'\n",
    "filelist=os.listdir(filepath)\n",
    "false_data = []\n",
    "for filename in filelist:\n",
    "    false_data.append(make_vector_wav(filepath+'/'+filename))\n",
    "false_data_array=make_three_demension(false_data)\n",
    "np.save(r'd:/ai/Downloads/Data/music/melon.npy',false_data_array)"
   ]
  },
  {
   "cell_type": "code",
   "execution_count": 8,
   "id": "5cb0b618",
   "metadata": {},
   "outputs": [],
   "source": [
    "false_data = np.load(r'd:/ai/Downloads/Data/music/false.npy')\n",
    "true_data=np.load(r'd:/ai/Downloads/Data/music/음악.npy')"
   ]
  },
  {
   "cell_type": "code",
   "execution_count": 77,
   "id": "c8c94343",
   "metadata": {
    "scrolled": true
   },
   "outputs": [
    {
     "data": {
      "text/plain": [
       "((88, 38, 888), (171, 38, 1138))"
      ]
     },
     "execution_count": 77,
     "metadata": {},
     "output_type": "execute_result"
    }
   ],
   "source": [
    "false_data_array.shape, true_data.shape"
   ]
  },
  {
   "cell_type": "code",
   "execution_count": 79,
   "id": "1ffde5a7",
   "metadata": {},
   "outputs": [],
   "source": [
    "temp=np.zeros((false_data_array.shape[0],false_data_array.shape[1],true_data.shape[2]))\n",
    "temp[:,:,:false_data_array.shape[2]] = false_data_array\n",
    "false_data_array = temp\n",
    "np.save(r'd:/ai/Downloads/Data/music/melon.npy',false_data_array)"
   ]
  },
  {
   "cell_type": "code",
   "execution_count": 16,
   "id": "f8613143",
   "metadata": {},
   "outputs": [],
   "source": [
    "X_data=np.concatenate((false_data,true_data), axis=0)"
   ]
  },
  {
   "cell_type": "code",
   "execution_count": 17,
   "id": "85c8745b",
   "metadata": {},
   "outputs": [],
   "source": [
    "np.save(r'd:/ai/Downloads/Data/music/종속변수.npy',X_data)"
   ]
  },
  {
   "cell_type": "code",
   "execution_count": 18,
   "id": "cf880bfc",
   "metadata": {},
   "outputs": [
    {
     "data": {
      "text/plain": [
       "(291, 38, 1138)"
      ]
     },
     "execution_count": 18,
     "metadata": {},
     "output_type": "execute_result"
    }
   ],
   "source": [
    "X_data.shape"
   ]
  }
 ],
 "metadata": {
  "kernelspec": {
   "display_name": "Python 3 (ipykernel)",
   "language": "python",
   "name": "python3"
  },
  "language_info": {
   "codemirror_mode": {
    "name": "ipython",
    "version": 3
   },
   "file_extension": ".py",
   "mimetype": "text/x-python",
   "name": "python",
   "nbconvert_exporter": "python",
   "pygments_lexer": "ipython3",
   "version": "3.10.9"
  },
  "toc": {
   "base_numbering": 1,
   "nav_menu": {},
   "number_sections": true,
   "sideBar": true,
   "skip_h1_title": false,
   "title_cell": "Table of Contents",
   "title_sidebar": "Contents",
   "toc_cell": false,
   "toc_position": {},
   "toc_section_display": true,
   "toc_window_display": false
  }
 },
 "nbformat": 4,
 "nbformat_minor": 5
}
