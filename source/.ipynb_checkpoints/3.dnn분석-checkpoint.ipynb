{
 "cells": [
  {
   "cell_type": "code",
   "execution_count": 1,
   "id": "bc8d7871",
   "metadata": {},
   "outputs": [
    {
     "data": {
      "text/html": [
       "\n",
       "<style>\n",
       "div.container{width:99% !important;}\n",
       "div.cell.code_cell.rendered{width:99%;}\n",
       "div.CodeMirror {font-family:Consolas; font-size:20pt;}\n",
       "div.output {font-size:18pt; font-weight:bold;}\n",
       "div.input {font-family:Consolas; font-size:19pt;}\n",
       "div.prompt {min-width:70px;}\n",
       "div#toc-wrapper{padding-top:120px;}\n",
       "span.toc-item-num{display:none;}\n",
       "div.text_cell_render ul li{font-size:16pt;padding:5px;}\n",
       "div.CodeMirror-lines > div {padding-left:10px;}\n",
       "table.dataframe, table.simpletable{font-size:19px;}\n",
       "</style>\n"
      ],
      "text/plain": [
       "<IPython.core.display.HTML object>"
      ]
     },
     "metadata": {},
     "output_type": "display_data"
    }
   ],
   "source": [
    "from IPython.display import display, HTML\n",
    "display(HTML(\"\"\"\n",
    "<style>\n",
    "div.container{width:99% !important;}\n",
    "div.cell.code_cell.rendered{width:99%;}\n",
    "div.CodeMirror {font-family:Consolas; font-size:20pt;}\n",
    "div.output {font-size:18pt; font-weight:bold;}\n",
    "div.input {font-family:Consolas; font-size:19pt;}\n",
    "div.prompt {min-width:70px;}\n",
    "div#toc-wrapper{padding-top:120px;}\n",
    "span.toc-item-num{display:none;}\n",
    "div.text_cell_render ul li{font-size:16pt;padding:5px;}\n",
    "div.CodeMirror-lines > div {padding-left:10px;}\n",
    "table.dataframe, table.simpletable{font-size:19px;}\n",
    "</style>\n",
    "\"\"\"))"
   ]
  },
  {
   "cell_type": "code",
   "execution_count": null,
   "id": "90bd1720-779a-453f-aad0-1f4d19467033",
   "metadata": {},
   "outputs": [],
   "source": [
    "# 시각화 한글 폰트 설정\n",
    "plt.rc(\"font\", family=\"Malgun Gothic\") \n",
    "plt.rc(\"axes\", unicode_minus = False)\n",
    "\n",
    "# 레티나 디스플레이로 폰트가 선명하게 표시되도록 합니다.\n",
    "# %config InlineBackend.figure_format='retina'\n",
    "from matplotlib_inline.backend_inline import set_matplotlib_formats\n",
    "set_matplotlib_formats('retina')\n",
    "\n",
    "# 경고 메세지 안 보이게\n",
    "import warnings\n",
    "warnings.filterwarnings(action='ignore')\n",
    "# warnigns.filterwarnings(action='default')"
   ]
  },
  {
   "cell_type": "markdown",
   "id": "c641e221-f5b2-430c-8df1-05bd68db2392",
   "metadata": {},
   "source": [
    "# 5. 머신러닝 알고리즘을 활용한 내년 집값 예측 (시간나면 전세값도 예측하고 전세가격지수도 비교 예측)\n",
    "## (1) 국토교통부 실거래가 공개 시스템자료에서 동적 웹크롤링을 통한 데이터 다운받기\n",
    "- 출처 : https://rtmobile.molit.go.kr/pt/xls/xls.do?mobileAt="
   ]
  },
  {
   "cell_type": "code",
   "execution_count": null,
   "id": "b6f3b46f-dc4b-45d6-83db-a4391981483d",
   "metadata": {},
   "outputs": [],
   "source": [
    "# (1) 2013년12월부터 2023년06월"
   ]
  },
  {
   "cell_type": "code",
   "execution_count": 19,
   "id": "048e2b16-0e5b-43a9-8224-6eccc10a58e7",
   "metadata": {},
   "outputs": [],
   "source": [
    "from selenium import webdriver\n",
    "from selenium.webdriver.common.by import By\n",
    "from selenium.webdriver.common.keys import Keys\n",
    "import time\n",
    "from bs4 import BeautifulSoup\n",
    "import pandas as pd\n",
    "import random"
   ]
  },
  {
   "cell_type": "code",
   "execution_count": 50,
   "id": "74332dea-2174-4270-8ab3-8b508e01c854",
   "metadata": {},
   "outputs": [],
   "source": [
    "driver = webdriver.Chrome()\n",
    "\n",
    "driver.get(\"https://rtmobile.molit.go.kr/pt/xls/xls.do?mobileAt=\")\n",
    "time.sleep(1)"
   ]
  },
  {
   "cell_type": "code",
   "execution_count": 118,
   "id": "4bd86d85-b962-44bb-8926-02f9915c650c",
   "metadata": {},
   "outputs": [],
   "source": [
    "parse_year = lambda x : int(x.split('년')[0])\n",
    "parse_month = lambda x : int(x.split('년')[-1][:-1])\n",
    "def download_csv(year, month, last):\n",
    "    fromdate = driver.find_element(By.ID, \"srhFromDt\")\n",
    "    todate = driver.find_element(By.ID, \"srhToDt\")\n",
    "    fromdate.click()\n",
    "    time.sleep(0.5)\n",
    "    fromdate.send_keys(year)\n",
    "    time.sleep(0.5)\n",
    "    fromdate.send_keys(\"{:02}\".format(month))\n",
    "    time.sleep(0.5)\n",
    "    fromdate.send_keys(\"01\")\n",
    "    time.sleep(0.5)\n",
    "    todate.send_keys(year)\n",
    "    time.sleep(0.5)\n",
    "    todate.send_keys(\"{:02}\".format(month))\n",
    "    time.sleep(0.5)\n",
    "    todate.send_keys(last)\n",
    "    driver.find_elements(By.CSS_SELECTOR, \"button.ifdata-search-result\")[1].click()\n",
    "    time.sleep(0.5)\n",
    "def data_down(fromstr, tostr):\n",
    "    lastday=[31,28,31,30,31,30,31,31,30,31,30,31]\n",
    "    from_year = parse_year(fromstr)\n",
    "    from_month = parse_month(fromstr)\n",
    "    to_year = parse_year(tostr)\n",
    "    to_month = parse_month(tostr)\n",
    "    print(\"{}-{}-{:02}부터 {}-{:02}-{}까지 동적크롤링으로 csv다운로드 진행 예정\".format(from_year, from_month, 1, to_year, to_month, lastday[to_month-1]))\n",
    "    for year in range(from_year, to_year+1):\n",
    "        if year == from_year:\n",
    "            for month in range(from_month, 12+1):\n",
    "                download_csv(year, month, lastday[month-1])\n",
    "        elif year == to_year:\n",
    "            for month in range(1, to_month+1):\n",
    "                download_csv(year, month, lastday[month-1])\n",
    "        else:\n",
    "            for month in range(1, 12+1):\n",
    "                download_csv(year, month, lastday[month-1])\n",
    "        print(\"■ ■ ■ {}년도 데이터 다운로드 완성 ■ ■ ■\".format(year))"
   ]
  },
  {
   "cell_type": "code",
   "execution_count": 123,
   "id": "76010869-40f8-4319-8d30-b6c76df4eda2",
   "metadata": {},
   "outputs": [],
   "source": [
    "data_down('2013년12월', '2023년06월') # 1일 100개 파일만 다운 받을 수 있음 test를 30번 해서 70개 파일만 이용"
   ]
  },
  {
   "cell_type": "code",
   "execution_count": 1,
   "id": "0f4405fa-6305-4073-9c82-c68e707823f9",
   "metadata": {},
   "outputs": [
    {
     "data": {
      "text/plain": [
       "['아파트(매매)_실거래가_20240628105206.csv',\n",
       " '아파트(매매)_실거래가_20240628105210.csv',\n",
       " '아파트(매매)_실거래가_20240628105214.csv',\n",
       " '아파트(매매)_실거래가_20240628105218.csv',\n",
       " '아파트(매매)_실거래가_20240628105222.csv']"
      ]
     },
     "execution_count": 1,
     "metadata": {},
     "output_type": "execute_result"
    }
   ],
   "source": [
    "import pandas as pd\n",
    "import os\n",
    "file_list = os.listdir('data_mldl')\n",
    "file_list[:5]"
   ]
  },
  {
   "cell_type": "code",
   "execution_count": 2,
   "id": "12d4b440-9382-4d52-96ac-95e8714086ea",
   "metadata": {},
   "outputs": [
    {
     "data": {
      "text/plain": [
       "['data_mldl/아파트(매매)_실거래가_20240628105206.csv',\n",
       " 'data_mldl/아파트(매매)_실거래가_20240628105210.csv',\n",
       " 'data_mldl/아파트(매매)_실거래가_20240628105214.csv',\n",
       " 'data_mldl/아파트(매매)_실거래가_20240628105218.csv',\n",
       " 'data_mldl/아파트(매매)_실거래가_20240628105222.csv',\n",
       " 'data_mldl/아파트(매매)_실거래가_20240628105226.csv',\n",
       " 'data_mldl/아파트(매매)_실거래가_20240628105230.csv',\n",
       " 'data_mldl/아파트(매매)_실거래가_20240628105235.csv',\n",
       " 'data_mldl/아파트(매매)_실거래가_20240628105239.csv',\n",
       " 'data_mldl/아파트(매매)_실거래가_20240628105243.csv',\n",
       " 'data_mldl/아파트(매매)_실거래가_20240628105247.csv',\n",
       " 'data_mldl/아파트(매매)_실거래가_20240628105251.csv',\n",
       " 'data_mldl/아파트(매매)_실거래가_20240628105255.csv',\n",
       " 'data_mldl/아파트(매매)_실거래가_20240628105300.csv',\n",
       " 'data_mldl/아파트(매매)_실거래가_20240628105304.csv',\n",
       " 'data_mldl/아파트(매매)_실거래가_20240628105310.csv',\n",
       " 'data_mldl/아파트(매매)_실거래가_20240628105313.csv',\n",
       " 'data_mldl/아파트(매매)_실거래가_20240628105317.csv',\n",
       " 'data_mldl/아파트(매매)_실거래가_20240628105321.csv',\n",
       " 'data_mldl/아파트(매매)_실거래가_20240628105326.csv',\n",
       " 'data_mldl/아파트(매매)_실거래가_20240628105330.csv',\n",
       " 'data_mldl/아파트(매매)_실거래가_20240628105334.csv',\n",
       " 'data_mldl/아파트(매매)_실거래가_20240628105338.csv',\n",
       " 'data_mldl/아파트(매매)_실거래가_20240628105342.csv',\n",
       " 'data_mldl/아파트(매매)_실거래가_20240628105346.csv',\n",
       " 'data_mldl/아파트(매매)_실거래가_20240628105350.csv',\n",
       " 'data_mldl/아파트(매매)_실거래가_20240628105354.csv',\n",
       " 'data_mldl/아파트(매매)_실거래가_20240628105359.csv',\n",
       " 'data_mldl/아파트(매매)_실거래가_20240628105404.csv',\n",
       " 'data_mldl/아파트(매매)_실거래가_20240628105408.csv',\n",
       " 'data_mldl/아파트(매매)_실거래가_20240628105412.csv',\n",
       " 'data_mldl/아파트(매매)_실거래가_20240628105416.csv',\n",
       " 'data_mldl/아파트(매매)_실거래가_20240628105420.csv',\n",
       " 'data_mldl/아파트(매매)_실거래가_20240628105425.csv',\n",
       " 'data_mldl/아파트(매매)_실거래가_20240628105429.csv',\n",
       " 'data_mldl/아파트(매매)_실거래가_20240628105433.csv',\n",
       " 'data_mldl/아파트(매매)_실거래가_20240628105437.csv',\n",
       " 'data_mldl/아파트(매매)_실거래가_20240628105441.csv',\n",
       " 'data_mldl/아파트(매매)_실거래가_20240628105446.csv',\n",
       " 'data_mldl/아파트(매매)_실거래가_20240628105450.csv',\n",
       " 'data_mldl/아파트(매매)_실거래가_20240628105454.csv',\n",
       " 'data_mldl/아파트(매매)_실거래가_20240628105459.csv',\n",
       " 'data_mldl/아파트(매매)_실거래가_20240628105503.csv',\n",
       " 'data_mldl/아파트(매매)_실거래가_20240628105508.csv',\n",
       " 'data_mldl/아파트(매매)_실거래가_20240628105511.csv',\n",
       " 'data_mldl/아파트(매매)_실거래가_20240628105516.csv',\n",
       " 'data_mldl/아파트(매매)_실거래가_20240628105520.csv',\n",
       " 'data_mldl/아파트(매매)_실거래가_20240628105524.csv',\n",
       " 'data_mldl/아파트(매매)_실거래가_20240628105528.csv',\n",
       " 'data_mldl/아파트(매매)_실거래가_20240628105532.csv',\n",
       " 'data_mldl/아파트(매매)_실거래가_20240628105537.csv',\n",
       " 'data_mldl/아파트(매매)_실거래가_20240628105542.csv',\n",
       " 'data_mldl/아파트(매매)_실거래가_20240628105545.csv',\n",
       " 'data_mldl/아파트(매매)_실거래가_20240628105549.csv',\n",
       " 'data_mldl/아파트(매매)_실거래가_20240628105554.csv',\n",
       " 'data_mldl/아파트(매매)_실거래가_20240628105558.csv',\n",
       " 'data_mldl/아파트(매매)_실거래가_20240628105603.csv',\n",
       " 'data_mldl/아파트(매매)_실거래가_20240628105607.csv',\n",
       " 'data_mldl/아파트(매매)_실거래가_20240628105611.csv',\n",
       " 'data_mldl/아파트(매매)_실거래가_20240628105615.csv',\n",
       " 'data_mldl/아파트(매매)_실거래가_20240628105619.csv',\n",
       " 'data_mldl/아파트(매매)_실거래가_20240628105623.csv',\n",
       " 'data_mldl/아파트(매매)_실거래가_20240628105628.csv',\n",
       " 'data_mldl/아파트(매매)_실거래가_20240628105632.csv',\n",
       " 'data_mldl/아파트(매매)_실거래가_20240628105636.csv',\n",
       " 'data_mldl/아파트(매매)_실거래가_20240628105641.csv',\n",
       " 'data_mldl/아파트(매매)_실거래가_20240628105645.csv',\n",
       " 'data_mldl/아파트(매매)_실거래가_20240628105649.csv',\n",
       " 'data_mldl/아파트(매매)_실거래가_20240628105654.csv',\n",
       " 'data_mldl/아파트(매매)_실거래가_20240628105658.csv']"
      ]
     },
     "execution_count": 2,
     "metadata": {},
     "output_type": "execute_result"
    }
   ],
   "source": [
    "file_list = ['data_mldl/'+filename for filename in file_list]\n",
    "file_list"
   ]
  },
  {
   "cell_type": "code",
   "execution_count": null,
   "id": "c6dc5747-5adc-4ab7-95e9-a6451a1a0da1",
   "metadata": {},
   "outputs": [],
   "source": []
  }
 ],
 "metadata": {
  "kernelspec": {
   "display_name": "Python 3 (ipykernel)",
   "language": "python",
   "name": "python3"
  },
  "language_info": {
   "codemirror_mode": {
    "name": "ipython",
    "version": 3
   },
   "file_extension": ".py",
   "mimetype": "text/x-python",
   "name": "python",
   "nbconvert_exporter": "python",
   "pygments_lexer": "ipython3",
   "version": "3.10.9"
  },
  "toc": {
   "base_numbering": 1,
   "nav_menu": {},
   "number_sections": false,
   "sideBar": true,
   "skip_h1_title": false,
   "title_cell": "Table of Contents",
   "title_sidebar": "Contents",
   "toc_cell": false,
   "toc_position": {},
   "toc_section_display": true,
   "toc_window_display": false
  }
 },
 "nbformat": 4,
 "nbformat_minor": 5
}
