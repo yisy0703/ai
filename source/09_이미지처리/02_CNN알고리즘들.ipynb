{
 "cells": [
  {
   "cell_type": "code",
   "execution_count": 6,
   "id": "fce93d0c",
   "metadata": {},
   "outputs": [
    {
     "data": {
      "text/html": [
       "\n",
       "<style>\n",
       "div.container{width:99% !important;}\n",
       "div.cell.code_cell.rendered{width:99%;}\n",
       "div.CodeMirror {font-family:Consolas; font-size:20pt;}\n",
       "div.output {font-size:18pt; font-weight:bold;}\n",
       "div.input {font-family:Consolas; font-size:19pt;}\n",
       "div.prompt {min-width:70px;}\n",
       "div#toc-wrapper{padding-top:120px;}\n",
       "span.toc-item-num{display:none;}\n",
       "div.text_cell_render ul li{font-size:16pt;padding:5px;}\n",
       "div.CodeMirror-lines > div {padding-left:10px;}\n",
       "table.dataframe{font-size:19px;}\n",
       "</style>\n"
      ],
      "text/plain": [
       "<IPython.core.display.HTML object>"
      ]
     },
     "metadata": {},
     "output_type": "display_data"
    }
   ],
   "source": [
    "from IPython.display import display, HTML\n",
    "display(HTML(\"\"\"\n",
    "<style>\n",
    "div.container{width:99% !important;}\n",
    "div.cell.code_cell.rendered{width:99%;}\n",
    "div.CodeMirror {font-family:Consolas; font-size:20pt;}\n",
    "div.output {font-size:18pt; font-weight:bold;}\n",
    "div.input {font-family:Consolas; font-size:19pt;}\n",
    "div.prompt {min-width:70px;}\n",
    "div#toc-wrapper{padding-top:120px;}\n",
    "span.toc-item-num{display:none;}\n",
    "div.text_cell_render ul li{font-size:16pt;padding:5px;}\n",
    "div.CodeMirror-lines > div {padding-left:10px;}\n",
    "table.dataframe{font-size:19px;}\n",
    "</style>\n",
    "\"\"\"))"
   ]
  },
  {
   "cell_type": "markdown",
   "id": "7d21801e",
   "metadata": {},
   "source": [
    "# 1. LeNet : 최초의 CNN\n",
    "```\n",
    "<img src='image/LeNet.png' alt='LeNet'>\n",
    "```\n",
    "![LeNet](image/LeNet.png)\n",
    "\n",
    "FC(120) : 120개 출력층의 뉴런을 가진 Fully Connected 레이어"
   ]
  },
  {
   "cell_type": "code",
   "execution_count": 2,
   "id": "4847cae3",
   "metadata": {},
   "outputs": [],
   "source": [
    "from tensorflow.keras import Sequential\n",
    "from tensorflow.keras.layers import Input, Conv2D, AvgPool2D, Flatten, Dense\n",
    "                                            # AveragePooling2D 동일\n",
    "from tensorflow.keras.callbacks import EarlyStopping, Callback\n",
    "import pandas as pd # crosstab\n",
    "from sklearn.metrics import confusion_matrix"
   ]
  },
  {
   "cell_type": "code",
   "execution_count": 3,
   "id": "65bd95a9",
   "metadata": {},
   "outputs": [],
   "source": [
    "class CustomHistory(Callback): # on_epoch_end()는 각 에포크 종료시 자동 호출\n",
    "    def __init__(self, times=5): # 생성자 함수\n",
    "        self.epoch = 0\n",
    "        self.times = times\n",
    "    def on_epoch_end(self, batch, logs={}):\n",
    "        self.epoch += 1\n",
    "        if self.epoch%self.times == 0:\n",
    "            print('epoch:{}, loss:{}, acc:{}, val_loss:{}, val_acc:{}'.\\\n",
    "                 format(self.epoch, \n",
    "                        logs.get('loss'), \n",
    "                        logs.get('accuracy'),\n",
    "                        logs.get('val_loss'),\n",
    "                        logs.get('val_accuracy')\n",
    "                       ))"
   ]
  },
  {
   "cell_type": "code",
   "execution_count": 5,
   "id": "b76d8442",
   "metadata": {},
   "outputs": [],
   "source": [
    "# 출력사이즈 = (입력사이즈 - 커널사이즈)/스트라이드 + 1\n",
    "class LeNet:\n",
    "    @staticmethod\n",
    "    def build(input_shape=(32,32,1), activation='relu'):\n",
    "        model = Sequential()\n",
    "        model.add(Input(shape=input_shape))\n",
    "        model.add(Conv2D(6, # 커널 갯수\n",
    "                        kernel_size=(5,5),\n",
    "                        activation=activation,\n",
    "                        kernel_initializer='he_normal',\n",
    "                        padding='valid'\n",
    "                        )) # C1층\n",
    "        model.add(AvgPool2D(pool_size=(2,2),\n",
    "                           strides=2, # 스트라이드 사이즈는 기본이 pool_size\n",
    "                           # strides=(2,2)\n",
    "                           )) # P2층\n",
    "        model.add(Conv2D(16, kernel_size=(5,5),\n",
    "                        activation=activation,\n",
    "                        kernel_initializer='he_normal')) # C3층\n",
    "        model.add(AvgPool2D(pool_size=(2,2), strides=2)) # P4층\n",
    "        model.add(Flatten())\n",
    "        model.add(Dense(120, activation='relu', kernel_initializer='he_normal')) #F5층\n",
    "        model.add(Dense(84, activation='relu', kernel_initializer='he_normal')) # F6층\n",
    "        model.add(Dense(10, activation='softmax')) # 출력층\n",
    "        return model"
   ]
  },
  {
   "cell_type": "code",
   "execution_count": 7,
   "id": "2b9f9a7e",
   "metadata": {},
   "outputs": [],
   "source": [
    "class LeNet:\n",
    "    @staticmethod\n",
    "    def build(input_shape=(32,32,1), activation='relu'):\n",
    "        model = Sequential([\n",
    "            Input(shape=input_shape),\n",
    "            Conv2D(6, kernel_size=(5,5), activation=activation, \n",
    "                   kernel_initializer='he_normal'),\n",
    "            AvgPool2D(pool_size=(2,2), strides=2),\n",
    "            Conv2D(16, kernel_size=(5,5), activation=activation, \n",
    "                   kernel_initializer='he_normal'),\n",
    "            AvgPool2D(pool_size=(2,2), strides=2),\n",
    "            Flatten(),\n",
    "            Dense(120, activation='relu', kernel_initializer='he_normal'),\n",
    "            Dense(84, activation='relu', kernel_initializer='he_normal'),\n",
    "            Dense(10, activation='softmax') # 출력층\n",
    "        ])\n",
    "        return model"
   ]
  },
  {
   "cell_type": "code",
   "execution_count": 8,
   "id": "c2e38874",
   "metadata": {},
   "outputs": [
    {
     "name": "stdout",
     "output_type": "stream",
     "text": [
      "Model: \"sequential\"\n",
      "_________________________________________________________________\n",
      " Layer (type)                Output Shape              Param #   \n",
      "=================================================================\n",
      " conv2d (Conv2D)             (None, 24, 24, 6)         156       \n",
      "                                                                 \n",
      " average_pooling2d (AverageP  (None, 12, 12, 6)        0         \n",
      " ooling2D)                                                       \n",
      "                                                                 \n",
      " conv2d_1 (Conv2D)           (None, 8, 8, 16)          2416      \n",
      "                                                                 \n",
      " average_pooling2d_1 (Averag  (None, 4, 4, 16)         0         \n",
      " ePooling2D)                                                     \n",
      "                                                                 \n",
      " flatten (Flatten)           (None, 256)               0         \n",
      "                                                                 \n",
      " dense (Dense)               (None, 120)               30840     \n",
      "                                                                 \n",
      " dense_1 (Dense)             (None, 84)                10164     \n",
      "                                                                 \n",
      " dense_2 (Dense)             (None, 10)                850       \n",
      "                                                                 \n",
      "=================================================================\n",
      "Total params: 44,426\n",
      "Trainable params: 44,426\n",
      "Non-trainable params: 0\n",
      "_________________________________________________________________\n",
      "None\n"
     ]
    }
   ],
   "source": [
    "model = LeNet.build(input_shape=(28,28,1), activation='relu')\n",
    "print(model.summary())"
   ]
  },
  {
   "cell_type": "code",
   "execution_count": null,
   "id": "50261a44",
   "metadata": {},
   "outputs": [],
   "source": []
  },
  {
   "cell_type": "code",
   "execution_count": null,
   "id": "bbb5fee4",
   "metadata": {},
   "outputs": [],
   "source": []
  },
  {
   "cell_type": "code",
   "execution_count": null,
   "id": "5024538c",
   "metadata": {},
   "outputs": [],
   "source": []
  },
  {
   "cell_type": "code",
   "execution_count": null,
   "id": "f18be191",
   "metadata": {},
   "outputs": [],
   "source": []
  },
  {
   "cell_type": "code",
   "execution_count": null,
   "id": "90f11cc3",
   "metadata": {},
   "outputs": [],
   "source": []
  },
  {
   "cell_type": "code",
   "execution_count": null,
   "id": "35774797",
   "metadata": {},
   "outputs": [],
   "source": []
  },
  {
   "cell_type": "markdown",
   "id": "d13cdb04",
   "metadata": {},
   "source": [
    "# 2. AlexNet"
   ]
  },
  {
   "cell_type": "code",
   "execution_count": null,
   "id": "fcd4b884",
   "metadata": {},
   "outputs": [],
   "source": []
  },
  {
   "cell_type": "markdown",
   "id": "387e4b2c",
   "metadata": {},
   "source": [
    "# 3. VGG"
   ]
  },
  {
   "cell_type": "code",
   "execution_count": null,
   "id": "68133598",
   "metadata": {},
   "outputs": [],
   "source": []
  },
  {
   "cell_type": "code",
   "execution_count": null,
   "id": "4178fd91",
   "metadata": {},
   "outputs": [],
   "source": []
  },
  {
   "cell_type": "code",
   "execution_count": null,
   "id": "2d34a017",
   "metadata": {},
   "outputs": [],
   "source": []
  },
  {
   "cell_type": "code",
   "execution_count": null,
   "id": "7f4c2215",
   "metadata": {},
   "outputs": [],
   "source": []
  },
  {
   "cell_type": "code",
   "execution_count": null,
   "id": "dbf10b5e",
   "metadata": {},
   "outputs": [],
   "source": []
  },
  {
   "cell_type": "code",
   "execution_count": null,
   "id": "a18584c5",
   "metadata": {},
   "outputs": [],
   "source": []
  }
 ],
 "metadata": {
  "kernelspec": {
   "display_name": "Python 3 (ipykernel)",
   "language": "python",
   "name": "python3"
  },
  "language_info": {
   "codemirror_mode": {
    "name": "ipython",
    "version": 3
   },
   "file_extension": ".py",
   "mimetype": "text/x-python",
   "name": "python",
   "nbconvert_exporter": "python",
   "pygments_lexer": "ipython3",
   "version": "3.10.9"
  },
  "toc": {
   "base_numbering": 1,
   "nav_menu": {},
   "number_sections": false,
   "sideBar": true,
   "skip_h1_title": false,
   "title_cell": "Table of Contents",
   "title_sidebar": "Contents",
   "toc_cell": false,
   "toc_position": {},
   "toc_section_display": true,
   "toc_window_display": false
  }
 },
 "nbformat": 4,
 "nbformat_minor": 5
}
