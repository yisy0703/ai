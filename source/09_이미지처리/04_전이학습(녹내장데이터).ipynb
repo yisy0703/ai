{
 "cells": [
  {
   "cell_type": "code",
   "execution_count": 1,
   "id": "28bebc4f",
   "metadata": {},
   "outputs": [
    {
     "data": {
      "text/html": [
       "\n",
       "<style>\n",
       "div.container{width:99% !important;}\n",
       "div.cell.code_cell.rendered{width:99%;}\n",
       "div.CodeMirror {font-family:Consolas; font-size:20pt;}\n",
       "div.output {font-size:18pt; font-weight:bold;}\n",
       "div.input {font-family:Consolas; font-size:19pt;}\n",
       "div.prompt {min-width:70px;}\n",
       "div#toc-wrapper{padding-top:120px;}\n",
       "span.toc-item-num{display:none;}\n",
       "div.text_cell_render ul li{font-size:16pt;padding:5px;}\n",
       "div.CodeMirror-lines > div {padding-left:10px;}\n",
       "table.dataframe{font-size:19px;}\n",
       "</style>\n"
      ],
      "text/plain": [
       "<IPython.core.display.HTML object>"
      ]
     },
     "metadata": {},
     "output_type": "display_data"
    }
   ],
   "source": [
    "from IPython.display import display, HTML\n",
    "display(HTML(\"\"\"\n",
    "<style>\n",
    "div.container{width:99% !important;}\n",
    "div.cell.code_cell.rendered{width:99%;}\n",
    "div.CodeMirror {font-family:Consolas; font-size:20pt;}\n",
    "div.output {font-size:18pt; font-weight:bold;}\n",
    "div.input {font-family:Consolas; font-size:19pt;}\n",
    "div.prompt {min-width:70px;}\n",
    "div#toc-wrapper{padding-top:120px;}\n",
    "span.toc-item-num{display:none;}\n",
    "div.text_cell_render ul li{font-size:16pt;padding:5px;}\n",
    "div.CodeMirror-lines > div {padding-left:10px;}\n",
    "table.dataframe{font-size:19px;}\n",
    "</style>\n",
    "\"\"\"))"
   ]
  },
  {
   "cell_type": "code",
   "execution_count": 10,
   "id": "58b19025",
   "metadata": {},
   "outputs": [],
   "source": [
    "# 1. 데이터 확보\n",
    "import zipfile\n",
    "filepath = 'data/glaucoma.zip'\n",
    "with zipfile.ZipFile(filepath, 'r') as f:\n",
    "    f.extractall('data/')"
   ]
  },
  {
   "cell_type": "code",
   "execution_count": 2,
   "id": "74c4d478",
   "metadata": {},
   "outputs": [
    {
     "name": "stdout",
     "output_type": "stream",
     "text": [
      "Found 828 images belonging to 3 classes.\n",
      "Found 320 images belonging to 3 classes.\n"
     ]
    }
   ],
   "source": [
    "from tensorflow.keras.preprocessing.image import ImageDataGenerator\n",
    "train_generator = ImageDataGenerator(\n",
    "                    rotation_range=20, # 최대 회전 각도\n",
    "                    width_shift_range=0.2, # 가로 방향 -20%~20% 이동 정도\n",
    "                    height_shift_range=0.2, # 상하 방향 이동 정도\n",
    "                    horizontal_flip=True, # 수평 뒤집기\n",
    "                    vertical_flip=True) # 수직 뒤집기\n",
    "train_data = train_generator.flow_from_directory(\n",
    "        'data/glaucoma/train',\n",
    "        target_size=(224,224),\n",
    "        batch_size=4,\n",
    "        class_mode='sparse' # 종속변수에 원핫인코딩 안 함\n",
    ")\n",
    "test_generator = ImageDataGenerator()\n",
    "test_data = test_generator.flow_from_directory(\n",
    "    'data/glaucoma/test',\n",
    "    target_size=(224,224),\n",
    "    batch_size=4,\n",
    "    class_mode='sparse'\n",
    ")"
   ]
  },
  {
   "cell_type": "code",
   "execution_count": 4,
   "id": "507712f2",
   "metadata": {},
   "outputs": [
    {
     "data": {
      "text/plain": [
       "(240, 240, 3)"
      ]
     },
     "execution_count": 4,
     "metadata": {},
     "output_type": "execute_result"
    }
   ],
   "source": [
    "# 학습데이터와 테스트 데이터가 될 이미지의 채널 확인\n",
    "from tensorflow.keras.preprocessing import image # 이미지를 읽어오기\n",
    "img = image.load_img('data/glaucoma/test/normal_control/1.png')\n",
    "img_data = image.img_to_array(img)\n",
    "img_data.shape"
   ]
  },
  {
   "cell_type": "code",
   "execution_count": 5,
   "id": "3828af66",
   "metadata": {},
   "outputs": [
    {
     "name": "stdout",
     "output_type": "stream",
     "text": [
      "Model: \"sequential\"\n",
      "_________________________________________________________________\n",
      " Layer (type)                Output Shape              Param #   \n",
      "=================================================================\n",
      " resnet50 (Functional)       (None, 7, 7, 2048)        23587712  \n",
      "                                                                 \n",
      " flatten (Flatten)           (None, 100352)            0         \n",
      "                                                                 \n",
      " dense (Dense)               (None, 64)                6422592   \n",
      "                                                                 \n",
      " dense_1 (Dense)             (None, 3)                 195       \n",
      "                                                                 \n",
      "=================================================================\n",
      "Total params: 30,010,499\n",
      "Trainable params: 29,957,379\n",
      "Non-trainable params: 53,120\n",
      "_________________________________________________________________\n"
     ]
    }
   ],
   "source": [
    "# 2. 모델 구성\n",
    "from tensorflow.keras.applications import ResNet50\n",
    "from tensorflow.keras.applications.resnet50 import decode_predictions\n",
    "import numpy as np\n",
    "from tensorflow.keras.models import Sequential # ResNet50의 Dense 층을 사용자 추가\n",
    "from tensorflow.keras.layers import Flatten, Dense\n",
    "from tensorflow.keras.preprocessing import image # 이미지를 읽어오기\n",
    "\n",
    "resnet_model = ResNet50(input_shape=(224,224,3), \n",
    "                        include_top=False) # 컨볼루션과 폴링 레이어만 구조와 가중치를 가져옴\n",
    "resnet_model.trainable = True # RestNet의 가중치도 업데이트 가능\n",
    "# model = Sequential()\n",
    "# model.add(resnet_model)\n",
    "# model.add(Flatten())\n",
    "# model.add(Dense(units=1024, activation='relu'))\n",
    "# model.add(Dense(units=3, activation='softmax'))\n",
    "model = Sequential([\n",
    "    resnet_model,\n",
    "    Flatten(),\n",
    "    Dense(64, activation='relu'),\n",
    "    Dense(3, activation='softmax')\n",
    "])\n",
    "model.summary()\n",
    "# 학습 시 필요한 용량\n",
    " # 1. 파라미터 사용 메모리 사용량 : 파라미터수(126,352,259)*4byte / 1024의 제곱 = 482MB\n",
    " # 2. 배치사이즈=3일 경우 3* (224*224*3) * 4byte / 1024의 제곱 = 19MB\n",
    " # 각 layer층 마다 활성화 값"
   ]
  },
  {
   "cell_type": "code",
   "execution_count": 6,
   "id": "e6e2596b",
   "metadata": {},
   "outputs": [
    {
     "name": "stdout",
     "output_type": "stream",
     "text": [
      "Epoch 1/20\n",
      "207/207 [==============================] - 33s 128ms/step - loss: 2.9395 - accuracy: 0.4070 - val_loss: 11.6601 - val_accuracy: 0.2719\n",
      "Epoch 2/20\n",
      "207/207 [==============================] - 25s 123ms/step - loss: 0.8809 - accuracy: 0.6014 - val_loss: 1.6353 - val_accuracy: 0.6812\n",
      "Epoch 3/20\n",
      "207/207 [==============================] - 25s 123ms/step - loss: 0.6637 - accuracy: 0.7017 - val_loss: 7.0896 - val_accuracy: 0.3406\n",
      "Epoch 4/20\n",
      "207/207 [==============================] - 26s 123ms/step - loss: 0.6949 - accuracy: 0.7053 - val_loss: 5.7797 - val_accuracy: 0.6625\n",
      "Epoch 5/20\n",
      "207/207 [==============================] - 26s 123ms/step - loss: 0.6520 - accuracy: 0.6981 - val_loss: 1.0038 - val_accuracy: 0.6938\n",
      "Epoch 6/20\n",
      "207/207 [==============================] - 26s 124ms/step - loss: 0.5622 - accuracy: 0.7415 - val_loss: 2.2093 - val_accuracy: 0.6844\n",
      "Epoch 7/20\n",
      "207/207 [==============================] - 27s 128ms/step - loss: 0.5611 - accuracy: 0.7572 - val_loss: 1.1655 - val_accuracy: 0.6875\n",
      "Epoch 8/20\n",
      "207/207 [==============================] - 26s 126ms/step - loss: 0.6578 - accuracy: 0.7307 - val_loss: 0.8261 - val_accuracy: 0.6938\n",
      "Epoch 9/20\n",
      "207/207 [==============================] - 26s 124ms/step - loss: 0.5326 - accuracy: 0.7572 - val_loss: 1.4480 - val_accuracy: 0.6969\n",
      "Epoch 10/20\n",
      "207/207 [==============================] - 26s 123ms/step - loss: 0.5501 - accuracy: 0.7621 - val_loss: 3.6343 - val_accuracy: 0.6750\n",
      "Epoch 11/20\n",
      "207/207 [==============================] - 26s 124ms/step - loss: 0.6728 - accuracy: 0.7029 - val_loss: 7.0649 - val_accuracy: 0.7063\n",
      "Epoch 12/20\n",
      "207/207 [==============================] - 26s 126ms/step - loss: 0.5270 - accuracy: 0.7512 - val_loss: 1.1539 - val_accuracy: 0.6750\n",
      "Epoch 13/20\n",
      "207/207 [==============================] - 26s 124ms/step - loss: 0.6325 - accuracy: 0.7283 - val_loss: 2.9985 - val_accuracy: 0.6844\n",
      "Epoch 14/20\n",
      "207/207 [==============================] - 26s 124ms/step - loss: 0.5518 - accuracy: 0.7391 - val_loss: 1.0302 - val_accuracy: 0.7125\n",
      "Epoch 15/20\n",
      "207/207 [==============================] - 26s 124ms/step - loss: 0.5226 - accuracy: 0.7464 - val_loss: 1.3960 - val_accuracy: 0.6812\n",
      "Epoch 16/20\n",
      "207/207 [==============================] - 26s 126ms/step - loss: 0.5257 - accuracy: 0.7548 - val_loss: 7.4877 - val_accuracy: 0.6656\n",
      "Epoch 17/20\n",
      "207/207 [==============================] - 27s 128ms/step - loss: 0.5532 - accuracy: 0.7524 - val_loss: 2.0128 - val_accuracy: 0.6969\n",
      "Epoch 18/20\n",
      "207/207 [==============================] - 26s 123ms/step - loss: 0.5709 - accuracy: 0.7379 - val_loss: 2.8061 - val_accuracy: 0.6812\n",
      "Epoch 19/20\n",
      "207/207 [==============================] - 26s 123ms/step - loss: 0.5663 - accuracy: 0.7524 - val_loss: 2.0240 - val_accuracy: 0.6906\n",
      "Epoch 20/20\n",
      "207/207 [==============================] - 26s 123ms/step - loss: 0.7128 - accuracy: 0.7476 - val_loss: 52.8118 - val_accuracy: 0.6719\n"
     ]
    },
    {
     "data": {
      "text/plain": [
       "<keras.callbacks.History at 0x204097449a0>"
      ]
     },
     "execution_count": 6,
     "metadata": {},
     "output_type": "execute_result"
    }
   ],
   "source": [
    "# 3. 학습 설정\n",
    "model.compile(loss='sparse_categorical_crossentropy', optimizer='adam', metrics=['accuracy'])\n",
    "# 4. 학습 시키기\n",
    "model.fit(train_data, validation_data=test_data,\n",
    "         epochs=20, batch_size=3)"
   ]
  },
  {
   "cell_type": "code",
   "execution_count": 9,
   "id": "836c33c8",
   "metadata": {},
   "outputs": [
    {
     "name": "stdout",
     "output_type": "stream",
     "text": [
      "80/80 [==============================] - 3s 33ms/step - loss: 52.8118 - accuracy: 0.6719\n"
     ]
    },
    {
     "data": {
      "text/plain": [
       "[52.81177520751953, 0.671875]"
      ]
     },
     "execution_count": 9,
     "metadata": {},
     "output_type": "execute_result"
    }
   ],
   "source": [
    "# 평가하기\n",
    "model.evaluate(test_data)"
   ]
  },
  {
   "cell_type": "code",
   "execution_count": 7,
   "id": "0be502e4",
   "metadata": {},
   "outputs": [
    {
     "name": "stdout",
     "output_type": "stream",
     "text": [
      "1/1 [==============================] - 1s 1s/step\n",
      "[[1.0000000e+00 2.2561232e-38 0.0000000e+00]]\n",
      "0\n"
     ]
    },
    {
     "data": {
      "image/png": "[encoded data removed]",
      "text/plain": [
       "<Figure size 100x100 with 1 Axes>"
      ]
     },
     "metadata": {},
     "output_type": "display_data"
    }
   ],
   "source": [
    "# 예측하기 (keras.preprocessing.image 이용)\n",
    "img = image.load_img('data/test.png', target_size=(224,224)) # Image 객체로 가져옴\n",
    "x = image.img_to_array(img) # (224,224,3)\n",
    "x = x.reshape(-1, 224, 224, 3)\n",
    "pred = model.predict(x)\n",
    "print(pred)\n",
    "\n",
    "print(pred.argmax())\n",
    "import matplotlib.pyplot as plt\n",
    "plt.figure(figsize=(1,1))\n",
    "plt.imshow(img)\n",
    "plt.show()"
   ]
  },
  {
   "cell_type": "code",
   "execution_count": 8,
   "id": "51478062",
   "metadata": {},
   "outputs": [
    {
     "name": "stdout",
     "output_type": "stream",
     "text": [
      "1/1 [==============================] - 0s 31ms/step\n",
      "[[1.0000000e+00 2.2561232e-38 0.0000000e+00]]\n",
      "0\n"
     ]
    },
    {
     "data": {
      "image/png": "[encoded data removed]",
      "text/plain": [
       "<Figure size 100x100 with 1 Axes>"
      ]
     },
     "metadata": {},
     "output_type": "display_data"
    }
   ],
   "source": [
    "# 예측하기 (openCV 이용)\n",
    "import cv2\n",
    "img = cv2.imread('data/test.png', cv2.IMREAD_ANYCOLOR) # BGR포맷 넘파이\n",
    "img = cv2.cvtColor(img, cv2.COLOR_BGR2RGB) # 240*240*3\n",
    "img = cv2.resize(img, dsize=(224,224), interpolation=cv2.INTER_AREA) # 224*224*3\n",
    "\n",
    "x = x.reshape(-1, 224, 224, 3)\n",
    "pred = model.predict(x)\n",
    "print(pred)\n",
    "\n",
    "print(pred.argmax())\n",
    "import matplotlib.pyplot as plt\n",
    "plt.figure(figsize=(1,1))\n",
    "plt.imshow(img)\n",
    "plt.show()"
   ]
  },
  {
   "cell_type": "code",
   "execution_count": null,
   "id": "11c010d9",
   "metadata": {},
   "outputs": [],
   "source": []
  },
  {
   "cell_type": "code",
   "execution_count": null,
   "id": "b2014d10",
   "metadata": {},
   "outputs": [],
   "source": []
  },
  {
   "cell_type": "code",
   "execution_count": null,
   "id": "c59c6223",
   "metadata": {},
   "outputs": [],
   "source": []
  },
  {
   "cell_type": "code",
   "execution_count": null,
   "id": "f6f766f2",
   "metadata": {},
   "outputs": [],
   "source": []
  },
  {
   "cell_type": "code",
   "execution_count": null,
   "id": "24eb9ae3",
   "metadata": {},
   "outputs": [],
   "source": []
  },
  {
   "cell_type": "code",
   "execution_count": null,
   "id": "e2d2decc",
   "metadata": {},
   "outputs": [],
   "source": []
  },
  {
   "cell_type": "code",
   "execution_count": null,
   "id": "c0b794c5",
   "metadata": {},
   "outputs": [],
   "source": []
  },
  {
   "cell_type": "code",
   "execution_count": null,
   "id": "968b8ecf",
   "metadata": {},
   "outputs": [],
   "source": []
  },
  {
   "cell_type": "code",
   "execution_count": null,
   "id": "b0a32efc",
   "metadata": {},
   "outputs": [],
   "source": []
  }
 ],
 "metadata": {
  "kernelspec": {
   "display_name": "Python 3 (ipykernel)",
   "language": "python",
   "name": "python3"
  },
  "language_info": {
   "codemirror_mode": {
    "name": "ipython",
    "version": 3
   },
   "file_extension": ".py",
   "mimetype": "text/x-python",
   "name": "python",
   "nbconvert_exporter": "python",
   "pygments_lexer": "ipython3",
   "version": "3.10.9"
  },
  "toc": {
   "base_numbering": 1,
   "nav_menu": {},
   "number_sections": false,
   "sideBar": true,
   "skip_h1_title": false,
   "title_cell": "Table of Contents",
   "title_sidebar": "Contents",
   "toc_cell": false,
   "toc_position": {},
   "toc_section_display": true,
   "toc_window_display": false
  }
 },
 "nbformat": 4,
 "nbformat_minor": 5
}
