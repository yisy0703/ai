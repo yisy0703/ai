{
 "cells": [
  {
   "cell_type": "markdown",
   "id": "4474f9b1",
   "metadata": {},
   "source": [
    "- pip install pydub\n",
    "- pip install librosa\n",
    "- pip install ffmpeg"
   ]
  },
  {
   "cell_type": "code",
   "execution_count": 16,
   "id": "3b66b484",
   "metadata": {},
   "outputs": [
    {
     "name": "stdout",
     "output_type": "stream",
     "text": [
      "['./music\\\\유키구라모토_Lake Louise.mp3', './music\\\\유키구라모토_Romance.mp3', './music\\\\이루마-River Flows in You.mp3', './music\\\\로제_브루노마스-APT.mp3', './music\\\\악뮤-Love Lee.mp3']\n"
     ]
    }
   ],
   "source": [
    "import os\n",
    "import glob\n",
    "from pydub import AudioSegment\n",
    "import librosa\n",
    "\n",
    "folder_path = './music'\n",
    "mp3_files = os.listdir(folder_path)\n",
    "mp3_files = [os.path.join(folder_path, file) for file in os.listdir(folder_path) if file.endswith(\".mp3\")]\n",
    "print(mp3_files)"
   ]
  },
  {
   "cell_type": "code",
   "execution_count": 17,
   "id": "020dc602",
   "metadata": {},
   "outputs": [
    {
     "name": "stdout",
     "output_type": "stream",
     "text": [
      "['./music\\\\유키구라모토_Lake Louise.mp3', './music\\\\유키구라모토_Romance.mp3', './music\\\\이루마-River Flows in You.mp3', './music\\\\로제_브루노마스-APT.mp3', './music\\\\악뮤-Love Lee.mp3']\n",
      "['./music\\\\유키구라모토_Lake Louise.mp3', './music\\\\유키구라모토_Romance.mp3', './music\\\\이루마-River Flows in You.mp3', './music\\\\로제_브루노마스-APT.mp3', './music\\\\악뮤-Love Lee.mp3']\n"
     ]
    }
   ],
   "source": [
    "mp3_files = glob.glob(f\"{folder_path}/*.mp3\")\n",
    "print(mp3_files)\n",
    "mp3_files = [os.path.join(folder_path, file) for file in os.listdir(folder_path) if file.endswith(\".mp3\")]\n",
    "print(mp3_files)"
   ]
  },
  {
   "cell_type": "code",
   "execution_count": 18,
   "id": "43cb3445",
   "metadata": {},
   "outputs": [
    {
     "name": "stdout",
     "output_type": "stream",
     "text": [
      "./music\\유키구라모토_Lake Louise.mp3\n",
      "파일을 찾을 수 없습니다: ./music\\유키구라모토_Lake Louise.mp3\n",
      "./music\\유키구라모토_Romance.mp3\n",
      "파일을 찾을 수 없습니다: ./music\\유키구라모토_Romance.mp3\n",
      "./music\\이루마-River Flows in You.mp3\n",
      "파일을 찾을 수 없습니다: ./music\\이루마-River Flows in You.mp3\n",
      "./music\\로제_브루노마스-APT.mp3\n",
      "파일을 찾을 수 없습니다: ./music\\로제_브루노마스-APT.mp3\n",
      "./music\\악뮤-Love Lee.mp3\n",
      "파일을 찾을 수 없습니다: ./music\\악뮤-Love Lee.mp3\n"
     ]
    }
   ],
   "source": [
    "for mp3_file in mp3_files:\n",
    "    try:\n",
    "        # pydub으로 MP3 파일 로드\n",
    "        audio = AudioSegment.from_file(mp3_file)\n",
    "        print(f\"{mp3_file}: {audio.duration_seconds:.2f}초\")\n",
    "    except FileNotFoundError as e:\n",
    "        print(f\"파일을 찾을 수 없습니다: {mp3_file}\")\n",
    "    except Exception as e:\n",
    "        print(f\"오류 발생: {e}\")"
   ]
  },
  {
   "cell_type": "code",
   "execution_count": null,
   "id": "a3324577",
   "metadata": {},
   "outputs": [],
   "source": []
  }
 ],
 "metadata": {
  "kernelspec": {
   "display_name": "Python 3 (ipykernel)",
   "language": "python",
   "name": "python3"
  },
  "language_info": {
   "codemirror_mode": {
    "name": "ipython",
    "version": 3
   },
   "file_extension": ".py",
   "mimetype": "text/x-python",
   "name": "python",
   "nbconvert_exporter": "python",
   "pygments_lexer": "ipython3",
   "version": "3.10.9"
  },
  "toc": {
   "base_numbering": 1,
   "nav_menu": {},
   "number_sections": false,
   "sideBar": true,
   "skip_h1_title": false,
   "title_cell": "Table of Contents",
   "title_sidebar": "Contents",
   "toc_cell": false,
   "toc_position": {},
   "toc_section_display": true,
   "toc_window_display": false
  }
 },
 "nbformat": 4,
 "nbformat_minor": 5
}
