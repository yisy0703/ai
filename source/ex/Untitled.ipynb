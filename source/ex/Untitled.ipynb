{
 "cells": [
  {
   "cell_type": "markdown",
   "id": "7b59a48c",
   "metadata": {},
   "source": [
    "- pip install librosa"
   ]
  },
  {
   "cell_type": "code",
   "execution_count": 28,
   "id": "cf34e332",
   "metadata": {},
   "outputs": [
    {
     "name": "stdout",
     "output_type": "stream",
     "text": [
      "Audio Data: [0.0000000e+00 0.0000000e+00 0.0000000e+00 ... 2.4907404e-05 2.2824606e-05\n",
      " 2.0739471e-05]\n",
      "Sampling Rate: 48000\n",
      "Numpy Array Shape: (9834301,)\n"
     ]
    }
   ],
   "source": [
    "import os\n",
    "import glob\n",
    "from pydub import AudioSegment\n",
    "import librosa\n",
    "\n",
    "folder_path = './music/로제_브루노마스-APT.mp3'\n",
    "mp3_files = os.listdir(folder_path)\n",
    "mp3_files = [os.path.join(folder_path, file) for file in os.listdir(folder_path) if file.endswith(\".mp3\")]\n",
    "print(mp3_files)"
   ]
  },
  {
   "cell_type": "code",
   "execution_count": null,
   "id": "7e6b1282",
   "metadata": {},
   "outputs": [],
   "source": []
  }
 ],
 "metadata": {
  "kernelspec": {
   "display_name": "Python 3 (ipykernel)",
   "language": "python",
   "name": "python3"
  },
  "language_info": {
   "codemirror_mode": {
    "name": "ipython",
    "version": 3
   },
   "file_extension": ".py",
   "mimetype": "text/x-python",
   "name": "python",
   "nbconvert_exporter": "python",
   "pygments_lexer": "ipython3",
   "version": "3.10.9"
  },
  "toc": {
   "base_numbering": 1,
   "nav_menu": {},
   "number_sections": false,
   "sideBar": true,
   "skip_h1_title": false,
   "title_cell": "Table of Contents",
   "title_sidebar": "Contents",
   "toc_cell": false,
   "toc_position": {},
   "toc_section_display": true,
   "toc_window_display": false
  }
 },
 "nbformat": 4,
 "nbformat_minor": 5
}
