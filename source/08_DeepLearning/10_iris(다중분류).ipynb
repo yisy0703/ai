{
 "cells": [
  {
   "cell_type": "code",
   "execution_count": 3,
   "id": "c8299b6a",
   "metadata": {},
   "outputs": [
    {
     "data": {
      "text/html": [
       "\n",
       "<style>\n",
       "div.container{width:99% !important;}\n",
       "div.cell.code_cell.rendered{width:90%;}\n",
       "div.CodeMirror {font-family:Consolas; font-size:20pt;}\n",
       "div.output {font-size:18pt; font-weight:bold;}\n",
       "div.input {font-family:Consolas; font-size:19pt;}\n",
       "div.prompt {min-width:70px;}\n",
       "div#toc-wrapper{padding-top:120px;}\n",
       "span.toc-item-num{display:none;}\n",
       "div.text_cell_render ul li{font-size:16pt;padding:5px;}\n",
       "div.CodeMirror-lines > div {padding-left:10px;}\n",
       "table.dataframe{font-size:19px;}\n",
       "</style>\n"
      ],
      "text/plain": [
       "<IPython.core.display.HTML object>"
      ]
     },
     "metadata": {},
     "output_type": "display_data"
    }
   ],
   "source": [
    "from IPython.display import display, HTML\n",
    "display(HTML(\"\"\"\n",
    "<style>\n",
    "div.container{width:99% !important;}\n",
    "div.cell.code_cell.rendered{width:90%;}\n",
    "div.CodeMirror {font-family:Consolas; font-size:20pt;}\n",
    "div.output {font-size:18pt; font-weight:bold;}\n",
    "div.input {font-family:Consolas; font-size:19pt;}\n",
    "div.prompt {min-width:70px;}\n",
    "div#toc-wrapper{padding-top:120px;}\n",
    "span.toc-item-num{display:none;}\n",
    "div.text_cell_render ul li{font-size:16pt;padding:5px;}\n",
    "div.CodeMirror-lines > div {padding-left:10px;}\n",
    "table.dataframe{font-size:19px;}\n",
    "</style>\n",
    "\"\"\"))"
   ]
  },
  {
   "cell_type": "markdown",
   "id": "c1f87ba4",
   "metadata": {},
   "source": [
    "- iris 데이터 종 예측"
   ]
  },
  {
   "cell_type": "code",
   "execution_count": 2,
   "id": "fd398d10",
   "metadata": {},
   "outputs": [],
   "source": [
    "import seaborn as sns # iris 데이터\n",
    "import pandas as pd # 원핫인코딩\n",
    "import numpy as np\n",
    "from sklearn.model_selection import train_test_split\n",
    "from tensorflow.keras.models import Sequential\n",
    "from tensorflow.keras.layers import Dense, Dropout, Input\n",
    "from tensorflow.keras.callbacks import ModelCheckpoint, EarlyStopping\n",
    "import matplotlib.pyplot as plt"
   ]
  },
  {
   "cell_type": "code",
   "execution_count": 15,
   "id": "78900a68",
   "metadata": {},
   "outputs": [
    {
     "data": {
      "text/plain": [
       "((120, 4), (120, 3), (30, 4), (30, 3))"
      ]
     },
     "execution_count": 15,
     "metadata": {},
     "output_type": "execute_result"
    }
   ],
   "source": [
    "# 1. 데이터 생성 및 전처리\n",
    "iris = sns.load_dataset('iris')\n",
    "# 독립변수와 종속변수 분리\n",
    "iris_X = iris.iloc[:, :-1].to_numpy()\n",
    "iris_y = iris.iloc[:, -1]\n",
    "iris_Y = pd.get_dummies(iris_y).values\n",
    "# iris_Y[::50]\n",
    "# 훈련셋 : 테스트셋 = 8 : 2\n",
    "X_train, X_test, Y_train, Y_test = train_test_split(iris_X, iris_Y,\n",
    "                                                   test_size=0.2,\n",
    "                                                   stratify=iris_Y, # 층화추출\n",
    "                                                   random_state=4) \n",
    "X_train.shape, Y_train.shape, X_test.shape, Y_test.shape"
   ]
  },
  {
   "cell_type": "code",
   "execution_count": 19,
   "id": "23646773",
   "metadata": {},
   "outputs": [
    {
     "data": {
      "text/plain": [
       "0    40\n",
       "1    40\n",
       "2    40\n",
       "dtype: int64"
      ]
     },
     "execution_count": 19,
     "metadata": {},
     "output_type": "execute_result"
    }
   ],
   "source": [
    "# 층화 추출했는지 확인 \n",
    "pd.Series(np.argmax(Y_train, axis=1)).value_counts()"
   ]
  },
  {
   "cell_type": "code",
   "execution_count": 20,
   "id": "61da7b70",
   "metadata": {},
   "outputs": [
    {
     "data": {
      "text/plain": [
       "1    10\n",
       "2    10\n",
       "0    10\n",
       "dtype: int64"
      ]
     },
     "execution_count": 20,
     "metadata": {},
     "output_type": "execute_result"
    }
   ],
   "source": [
    "pd.Series(np.argmax(Y_test, axis=1)).value_counts()"
   ]
  },
  {
   "cell_type": "code",
   "execution_count": 22,
   "id": "566965a6",
   "metadata": {},
   "outputs": [],
   "source": [
    "# 2. 모델 구성 (입력4 - 출력3)\n",
    "model = Sequential()\n",
    "model.add(Dense(units=60, input_dim=4, activation='relu'))\n",
    "model.add(Dense(units=50, activation='relu'))\n",
    "model.add(Dense(units=30, activation='relu'))\n",
    "model.add(Dense(units=3, activation='softmax'))"
   ]
  },
  {
   "cell_type": "code",
   "execution_count": 56,
   "id": "4be687a2",
   "metadata": {},
   "outputs": [
    {
     "name": "stdout",
     "output_type": "stream",
     "text": [
      "Model: \"sequential_4\"\n",
      "_________________________________________________________________\n",
      " Layer (type)                Output Shape              Param #   \n",
      "=================================================================\n",
      " dense_21 (Dense)            (None, 64)                320       \n",
      "                                                                 \n",
      " dense_22 (Dense)            (None, 128)               8320      \n",
      "                                                                 \n",
      " dropout (Dropout)           (None, 128)               0         \n",
      "                                                                 \n",
      " dense_23 (Dense)            (None, 32)                4128      \n",
      "                                                                 \n",
      " dense_24 (Dense)            (None, 16)                528       \n",
      "                                                                 \n",
      " dropout_1 (Dropout)         (None, 16)                0         \n",
      "                                                                 \n",
      " dense_25 (Dense)            (None, 3)                 51        \n",
      "                                                                 \n",
      "=================================================================\n",
      "Total params: 13,347\n",
      "Trainable params: 13,347\n",
      "Non-trainable params: 0\n",
      "_________________________________________________________________\n"
     ]
    }
   ],
   "source": [
    "# 2. 모델 구성 (입력4 - 출력3)\n",
    "model = Sequential([\n",
    "    Input(4,),\n",
    "    Dense(units=64, activation='relu'),\n",
    "    Dense(units=128, activation='relu'),\n",
    "    Dropout(0.2),\n",
    "    Dense(units=32, activation='relu'),\n",
    "    Dense(units=16, activation='relu'),\n",
    "    Dropout(0.1),\n",
    "    Dense(units=3, activation='softmax'),\n",
    "])\n",
    "model.summary()"
   ]
  },
  {
   "cell_type": "code",
   "execution_count": 57,
   "id": "68da9e88",
   "metadata": {},
   "outputs": [],
   "source": [
    "# 3. 모델학습과정\n",
    "model.compile(loss='categorical_crossentropy',\n",
    "             optimizer='adam',\n",
    "             metrics=['accuracy'])"
   ]
  },
  {
   "cell_type": "code",
   "execution_count": 72,
   "id": "d6746fd1",
   "metadata": {},
   "outputs": [
    {
     "name": "stdout",
     "output_type": "stream",
     "text": [
      "Epoch 1/500\n",
      "1/3 [=========>....................] - ETA: 0s - loss: 0.0219 - accuracy: 1.0000\n",
      "Epoch 1: val_loss improved from inf to 0.04006, saving model to ./model\\iris-001-val1.0000.h5\n",
      "3/3 [==============================] - 0s 41ms/step - loss: 0.0381 - accuracy: 0.9896 - val_loss: 0.0401 - val_accuracy: 1.0000\n",
      "Epoch 2/500\n",
      "1/3 [=========>....................] - ETA: 0s - loss: 0.0136 - accuracy: 1.0000\n",
      "Epoch 2: val_loss improved from 0.04006 to 0.02618, saving model to ./model\\iris-002-val1.0000.h5\n",
      "3/3 [==============================] - 0s 25ms/step - loss: 0.0405 - accuracy: 0.9896 - val_loss: 0.0262 - val_accuracy: 1.0000\n",
      "Epoch 3/500\n",
      "1/3 [=========>....................] - ETA: 0s - loss: 0.0087 - accuracy: 1.0000\n",
      "Epoch 3: val_loss improved from 0.02618 to 0.01384, saving model to ./model\\iris-003-val1.0000.h5\n",
      "3/3 [==============================] - 0s 25ms/step - loss: 0.0396 - accuracy: 0.9896 - val_loss: 0.0138 - val_accuracy: 1.0000\n",
      "Epoch 4/500\n",
      "1/3 [=========>....................] - ETA: 0s - loss: 0.0807 - accuracy: 0.9688\n",
      "Epoch 4: val_loss improved from 0.01384 to 0.01222, saving model to ./model\\iris-004-val1.0000.h5\n",
      "3/3 [==============================] - 0s 33ms/step - loss: 0.0335 - accuracy: 0.9896 - val_loss: 0.0122 - val_accuracy: 1.0000\n",
      "Epoch 5/500\n",
      "1/3 [=========>....................] - ETA: 0s - loss: 0.0055 - accuracy: 1.0000\n",
      "Epoch 5: val_loss did not improve from 0.01222\n",
      "3/3 [==============================] - 0s 17ms/step - loss: 0.0378 - accuracy: 0.9896 - val_loss: 0.0156 - val_accuracy: 1.0000\n",
      "Epoch 6/500\n",
      "1/3 [=========>....................] - ETA: 0s - loss: 0.0505 - accuracy: 0.9688\n",
      "Epoch 6: val_loss did not improve from 0.01222\n",
      "3/3 [==============================] - 0s 17ms/step - loss: 0.0255 - accuracy: 0.9896 - val_loss: 0.0220 - val_accuracy: 1.0000\n",
      "Epoch 7/500\n",
      "1/3 [=========>....................] - ETA: 0s - loss: 0.0084 - accuracy: 1.0000\n",
      "Epoch 7: val_loss did not improve from 0.01222\n",
      "3/3 [==============================] - 0s 16ms/step - loss: 0.0417 - accuracy: 0.9896 - val_loss: 0.0127 - val_accuracy: 1.0000\n",
      "Epoch 8/500\n",
      "1/3 [=========>....................] - ETA: 0s - loss: 0.0142 - accuracy: 1.0000\n",
      "Epoch 8: val_loss improved from 0.01222 to 0.00906, saving model to ./model\\iris-008-val1.0000.h5\n",
      "3/3 [==============================] - 0s 28ms/step - loss: 0.0263 - accuracy: 0.9896 - val_loss: 0.0091 - val_accuracy: 1.0000\n",
      "Epoch 9/500\n",
      "1/3 [=========>....................] - ETA: 0s - loss: 0.0119 - accuracy: 1.0000\n",
      "Epoch 9: val_loss did not improve from 0.00906\n",
      "3/3 [==============================] - 0s 21ms/step - loss: 0.0423 - accuracy: 0.9792 - val_loss: 0.0097 - val_accuracy: 1.0000\n",
      "Epoch 10/500\n",
      "1/3 [=========>....................] - ETA: 0s - loss: 0.0979 - accuracy: 0.9688\n",
      "Epoch 10: val_loss did not improve from 0.00906\n",
      "3/3 [==============================] - 0s 18ms/step - loss: 0.0390 - accuracy: 0.9896 - val_loss: 0.0769 - val_accuracy: 0.9583\n",
      "Epoch 11/500\n",
      "1/3 [=========>....................] - ETA: 0s - loss: 0.1484 - accuracy: 0.9375\n",
      "Epoch 11: val_loss did not improve from 0.00906\n",
      "3/3 [==============================] - 0s 16ms/step - loss: 0.0526 - accuracy: 0.9792 - val_loss: 0.0105 - val_accuracy: 1.0000\n",
      "Epoch 12/500\n",
      "1/3 [=========>....................] - ETA: 0s - loss: 0.0904 - accuracy: 0.9688\n",
      "Epoch 12: val_loss improved from 0.00906 to 0.00858, saving model to ./model\\iris-012-val1.0000.h5\n",
      "3/3 [==============================] - 0s 26ms/step - loss: 0.0345 - accuracy: 0.9896 - val_loss: 0.0086 - val_accuracy: 1.0000\n",
      "Epoch 13/500\n",
      "1/3 [=========>....................] - ETA: 0s - loss: 0.0109 - accuracy: 1.0000\n",
      "Epoch 13: val_loss did not improve from 0.00858\n",
      "3/3 [==============================] - 0s 17ms/step - loss: 0.0704 - accuracy: 0.9688 - val_loss: 0.0110 - val_accuracy: 1.0000\n",
      "Epoch 14/500\n",
      "1/3 [=========>....................] - ETA: 0s - loss: 0.0852 - accuracy: 0.9688\n",
      "Epoch 14: val_loss did not improve from 0.00858\n",
      "3/3 [==============================] - 0s 16ms/step - loss: 0.0412 - accuracy: 0.9896 - val_loss: 0.1195 - val_accuracy: 0.9583\n",
      "Epoch 15/500\n",
      "1/3 [=========>....................] - ETA: 0s - loss: 0.0775 - accuracy: 0.9688\n",
      "Epoch 15: val_loss did not improve from 0.00858\n",
      "3/3 [==============================] - 0s 12ms/step - loss: 0.0617 - accuracy: 0.9792 - val_loss: 0.0190 - val_accuracy: 1.0000\n",
      "Epoch 16/500\n",
      "1/3 [=========>....................] - ETA: 0s - loss: 0.0058 - accuracy: 1.0000\n",
      "Epoch 16: val_loss did not improve from 0.00858\n",
      "3/3 [==============================] - 0s 16ms/step - loss: 0.0386 - accuracy: 0.9896 - val_loss: 0.0139 - val_accuracy: 1.0000\n",
      "Epoch 17/500\n",
      "1/3 [=========>....................] - ETA: 0s - loss: 0.0269 - accuracy: 1.0000\n",
      "Epoch 17: val_loss did not improve from 0.00858\n",
      "3/3 [==============================] - 0s 12ms/step - loss: 0.0443 - accuracy: 0.9896 - val_loss: 0.0174 - val_accuracy: 1.0000\n",
      "Epoch 18/500\n",
      "1/3 [=========>....................] - ETA: 0s - loss: 0.0741 - accuracy: 0.9688\n",
      "Epoch 18: val_loss did not improve from 0.00858\n",
      "3/3 [==============================] - 0s 17ms/step - loss: 0.0501 - accuracy: 0.9792 - val_loss: 0.0330 - val_accuracy: 1.0000\n",
      "Epoch 19/500\n",
      "1/3 [=========>....................] - ETA: 0s - loss: 0.1040 - accuracy: 0.9688\n",
      "Epoch 19: val_loss did not improve from 0.00858\n",
      "3/3 [==============================] - 0s 19ms/step - loss: 0.0690 - accuracy: 0.9792 - val_loss: 0.0411 - val_accuracy: 1.0000\n",
      "Epoch 20/500\n",
      "1/3 [=========>....................] - ETA: 0s - loss: 0.0140 - accuracy: 1.0000\n",
      "Epoch 20: val_loss did not improve from 0.00858\n",
      "3/3 [==============================] - 0s 16ms/step - loss: 0.0477 - accuracy: 0.9792 - val_loss: 0.0169 - val_accuracy: 1.0000\n",
      "Epoch 21/500\n",
      "1/3 [=========>....................] - ETA: 0s - loss: 0.0032 - accuracy: 1.0000\n",
      "Epoch 21: val_loss did not improve from 0.00858\n",
      "3/3 [==============================] - 0s 16ms/step - loss: 0.0366 - accuracy: 0.9896 - val_loss: 0.0124 - val_accuracy: 1.0000\n",
      "Epoch 22/500\n",
      "1/3 [=========>....................] - ETA: 0s - loss: 0.0422 - accuracy: 0.9688\n",
      "Epoch 22: val_loss did not improve from 0.00858\n",
      "3/3 [==============================] - 0s 11ms/step - loss: 0.0485 - accuracy: 0.9792 - val_loss: 0.0307 - val_accuracy: 1.0000\n",
      "Epoch 23/500\n",
      "1/3 [=========>....................] - ETA: 0s - loss: 0.0590 - accuracy: 0.9688\n",
      "Epoch 23: val_loss did not improve from 0.00858\n",
      "3/3 [==============================] - 0s 16ms/step - loss: 0.0342 - accuracy: 0.9896 - val_loss: 0.0360 - val_accuracy: 1.0000\n",
      "Epoch 24/500\n",
      "1/3 [=========>....................] - ETA: 0s - loss: 0.0839 - accuracy: 0.9688\n",
      "Epoch 24: val_loss did not improve from 0.00858\n",
      "3/3 [==============================] - 0s 15ms/step - loss: 0.0375 - accuracy: 0.9896 - val_loss: 0.0146 - val_accuracy: 1.0000\n",
      "Epoch 25/500\n",
      "1/3 [=========>....................] - ETA: 0s - loss: 0.0412 - accuracy: 0.9688\n",
      "Epoch 25: val_loss did not improve from 0.00858\n",
      "3/3 [==============================] - 0s 12ms/step - loss: 0.0467 - accuracy: 0.9792 - val_loss: 0.0246 - val_accuracy: 1.0000\n",
      "Epoch 26/500\n",
      "1/3 [=========>....................] - ETA: 0s - loss: 0.0188 - accuracy: 1.0000\n",
      "Epoch 26: val_loss did not improve from 0.00858\n",
      "3/3 [==============================] - 0s 16ms/step - loss: 0.0426 - accuracy: 0.9896 - val_loss: 0.0154 - val_accuracy: 1.0000\n",
      "Epoch 27/500\n",
      "1/3 [=========>....................] - ETA: 0s - loss: 0.0067 - accuracy: 1.0000\n",
      "Epoch 27: val_loss did not improve from 0.00858\n",
      "3/3 [==============================] - 0s 15ms/step - loss: 0.0391 - accuracy: 0.9896 - val_loss: 0.0134 - val_accuracy: 1.0000\n",
      "Epoch 28/500\n",
      "1/3 [=========>....................] - ETA: 0s - loss: 0.0249 - accuracy: 1.0000\n",
      "Epoch 28: val_loss did not improve from 0.00858\n",
      "3/3 [==============================] - 0s 12ms/step - loss: 0.0404 - accuracy: 0.9896 - val_loss: 0.0250 - val_accuracy: 1.0000\n",
      "Epoch 29/500\n",
      "1/3 [=========>....................] - ETA: 0s - loss: 0.0841 - accuracy: 0.9688\n",
      "Epoch 29: val_loss did not improve from 0.00858\n",
      "3/3 [==============================] - 0s 16ms/step - loss: 0.0409 - accuracy: 0.9896 - val_loss: 0.0169 - val_accuracy: 1.0000\n",
      "Epoch 30/500\n",
      "1/3 [=========>....................] - ETA: 0s - loss: 0.0857 - accuracy: 0.9688\n",
      "Epoch 30: val_loss did not improve from 0.00858\n",
      "3/3 [==============================] - 0s 16ms/step - loss: 0.0411 - accuracy: 0.9896 - val_loss: 0.0165 - val_accuracy: 1.0000\n",
      "Epoch 31/500\n",
      "1/3 [=========>....................] - ETA: 0s - loss: 0.0944 - accuracy: 0.9688\n",
      "Epoch 31: val_loss did not improve from 0.00858\n",
      "3/3 [==============================] - 0s 9ms/step - loss: 0.0414 - accuracy: 0.9896 - val_loss: 0.0182 - val_accuracy: 1.0000\n",
      "Epoch 32/500\n",
      "1/3 [=========>....................] - ETA: 0s - loss: 0.0767 - accuracy: 0.9688\n",
      "Epoch 32: val_loss did not improve from 0.00858\n",
      "3/3 [==============================] - 0s 17ms/step - loss: 0.0393 - accuracy: 0.9896 - val_loss: 0.0193 - val_accuracy: 1.0000\n",
      "Epoch 33/500\n",
      "1/3 [=========>....................] - ETA: 0s - loss: 0.0682 - accuracy: 0.9688\n",
      "Epoch 33: val_loss did not improve from 0.00858\n",
      "3/3 [==============================] - 0s 17ms/step - loss: 0.0361 - accuracy: 0.9896 - val_loss: 0.0212 - val_accuracy: 1.0000\n",
      "Epoch 34/500\n",
      "1/3 [=========>....................] - ETA: 0s - loss: 0.0948 - accuracy: 0.9688\n",
      "Epoch 34: val_loss did not improve from 0.00858\n",
      "3/3 [==============================] - 0s 9ms/step - loss: 0.0427 - accuracy: 0.9896 - val_loss: 0.0233 - val_accuracy: 1.0000\n",
      "Epoch 35/500\n",
      "1/3 [=========>....................] - ETA: 0s - loss: 0.0178 - accuracy: 1.0000\n",
      "Epoch 35: val_loss did not improve from 0.00858\n",
      "3/3 [==============================] - 0s 17ms/step - loss: 0.0312 - accuracy: 0.9896 - val_loss: 0.0187 - val_accuracy: 1.0000\n",
      "Epoch 36/500\n",
      "1/3 [=========>....................] - ETA: 0s - loss: 0.0889 - accuracy: 0.9688\n",
      "Epoch 36: val_loss did not improve from 0.00858\n",
      "3/3 [==============================] - 0s 17ms/step - loss: 0.0365 - accuracy: 0.9896 - val_loss: 0.0147 - val_accuracy: 1.0000\n",
      "Epoch 37/500\n",
      "1/3 [=========>....................] - ETA: 0s - loss: 0.0178 - accuracy: 1.0000\n",
      "Epoch 37: val_loss did not improve from 0.00858\n",
      "3/3 [==============================] - 0s 16ms/step - loss: 0.0423 - accuracy: 0.9896 - val_loss: 0.0112 - val_accuracy: 1.0000\n",
      "Epoch 38/500\n",
      "1/3 [=========>....................] - ETA: 0s - loss: 0.0047 - accuracy: 1.0000\n",
      "Epoch 38: val_loss did not improve from 0.00858\n",
      "3/3 [==============================] - 0s 16ms/step - loss: 0.0445 - accuracy: 0.9896 - val_loss: 0.0112 - val_accuracy: 1.0000\n",
      "Epoch 39/500\n",
      "1/3 [=========>....................] - ETA: 0s - loss: 0.0074 - accuracy: 1.0000\n",
      "Epoch 39: val_loss did not improve from 0.00858\n",
      "3/3 [==============================] - 0s 16ms/step - loss: 0.0244 - accuracy: 0.9896 - val_loss: 0.0142 - val_accuracy: 1.0000\n",
      "Epoch 40/500\n",
      "1/3 [=========>....................] - ETA: 0s - loss: 0.0668 - accuracy: 0.9688\n",
      "Epoch 40: val_loss did not improve from 0.00858\n",
      "3/3 [==============================] - 0s 11ms/step - loss: 0.0263 - accuracy: 0.9896 - val_loss: 0.0162 - val_accuracy: 1.0000\n",
      "Epoch 41/500\n",
      "1/3 [=========>....................] - ETA: 0s - loss: 0.0131 - accuracy: 1.0000\n",
      "Epoch 41: val_loss did not improve from 0.00858\n",
      "3/3 [==============================] - 0s 16ms/step - loss: 0.0414 - accuracy: 0.9896 - val_loss: 0.0152 - val_accuracy: 1.0000\n",
      "Epoch 42/500\n",
      "1/3 [=========>....................] - ETA: 0s - loss: 0.0181 - accuracy: 1.0000\n",
      "Epoch 42: val_loss did not improve from 0.00858\n",
      "3/3 [==============================] - 0s 18ms/step - loss: 0.0372 - accuracy: 0.9896 - val_loss: 0.0139 - val_accuracy: 1.0000\n",
      "Epoch 43/500\n",
      "1/3 [=========>....................] - ETA: 0s - loss: 0.0086 - accuracy: 1.0000\n",
      "Epoch 43: val_loss did not improve from 0.00858\n",
      "3/3 [==============================] - 0s 9ms/step - loss: 0.0322 - accuracy: 0.9896 - val_loss: 0.0148 - val_accuracy: 1.0000\n",
      "Epoch 44/500\n",
      "1/3 [=========>....................] - ETA: 0s - loss: 0.0183 - accuracy: 1.0000\n",
      "Epoch 44: val_loss did not improve from 0.00858\n",
      "3/3 [==============================] - 0s 17ms/step - loss: 0.0404 - accuracy: 0.9896 - val_loss: 0.0223 - val_accuracy: 1.0000\n",
      "Epoch 45/500\n",
      "1/3 [=========>....................] - ETA: 0s - loss: 0.0157 - accuracy: 1.0000\n",
      "Epoch 45: val_loss did not improve from 0.00858\n",
      "3/3 [==============================] - 0s 16ms/step - loss: 0.0364 - accuracy: 0.9896 - val_loss: 0.0183 - val_accuracy: 1.0000\n",
      "Epoch 46/500\n",
      "1/3 [=========>....................] - ETA: 0s - loss: 0.0245 - accuracy: 1.0000\n",
      "Epoch 46: val_loss did not improve from 0.00858\n",
      "3/3 [==============================] - 0s 15ms/step - loss: 0.0393 - accuracy: 0.9896 - val_loss: 0.0142 - val_accuracy: 1.0000\n",
      "Epoch 47/500\n",
      "1/3 [=========>....................] - ETA: 0s - loss: 0.0054 - accuracy: 1.0000\n",
      "Epoch 47: val_loss did not improve from 0.00858\n",
      "3/3 [==============================] - 0s 22ms/step - loss: 0.0427 - accuracy: 0.9896 - val_loss: 0.0241 - val_accuracy: 1.0000\n",
      "Epoch 48/500\n",
      "1/3 [=========>....................] - ETA: 0s - loss: 0.0050 - accuracy: 1.0000\n",
      "Epoch 48: val_loss did not improve from 0.00858\n",
      "3/3 [==============================] - 0s 15ms/step - loss: 0.0307 - accuracy: 0.9896 - val_loss: 0.0337 - val_accuracy: 1.0000\n",
      "Epoch 49/500\n",
      "1/3 [=========>....................] - ETA: 0s - loss: 0.0860 - accuracy: 0.9688\n",
      "Epoch 49: val_loss did not improve from 0.00858\n",
      "3/3 [==============================] - 0s 16ms/step - loss: 0.0335 - accuracy: 0.9896 - val_loss: 0.0166 - val_accuracy: 1.0000\n",
      "Epoch 50/500\n",
      "1/3 [=========>....................] - ETA: 0s - loss: 0.0123 - accuracy: 1.0000\n",
      "Epoch 50: val_loss did not improve from 0.00858\n",
      "3/3 [==============================] - 0s 17ms/step - loss: 0.0307 - accuracy: 0.9896 - val_loss: 0.0141 - val_accuracy: 1.0000\n",
      "Epoch 51/500\n",
      "1/3 [=========>....................] - ETA: 0s - loss: 0.0833 - accuracy: 0.9688\n",
      "Epoch 51: val_loss did not improve from 0.00858\n",
      "3/3 [==============================] - 0s 16ms/step - loss: 0.0368 - accuracy: 0.9896 - val_loss: 0.0129 - val_accuracy: 1.0000\n",
      "Epoch 52/500\n",
      "1/3 [=========>....................] - ETA: 0s - loss: 0.0184 - accuracy: 1.0000\n",
      "Epoch 52: val_loss did not improve from 0.00858\n",
      "3/3 [==============================] - 0s 16ms/step - loss: 0.0369 - accuracy: 0.9896 - val_loss: 0.0130 - val_accuracy: 1.0000\n",
      "Epoch 53/500\n",
      "1/3 [=========>....................] - ETA: 0s - loss: 0.0082 - accuracy: 1.0000\n",
      "Epoch 53: val_loss did not improve from 0.00858\n",
      "3/3 [==============================] - 0s 16ms/step - loss: 0.0622 - accuracy: 0.9792 - val_loss: 0.0260 - val_accuracy: 1.0000\n",
      "Epoch 54/500\n",
      "1/3 [=========>....................] - ETA: 0s - loss: 0.0174 - accuracy: 1.0000\n",
      "Epoch 54: val_loss did not improve from 0.00858\n",
      "3/3 [==============================] - 0s 16ms/step - loss: 0.0432 - accuracy: 0.9896 - val_loss: 0.0698 - val_accuracy: 0.9583\n",
      "Epoch 55/500\n",
      "1/3 [=========>....................] - ETA: 0s - loss: 0.0110 - accuracy: 1.0000\n",
      "Epoch 55: val_loss did not improve from 0.00858\n",
      "3/3 [==============================] - 0s 10ms/step - loss: 0.0281 - accuracy: 0.9896 - val_loss: 0.0305 - val_accuracy: 1.0000\n",
      "Epoch 56/500\n",
      "1/3 [=========>....................] - ETA: 0s - loss: 0.0949 - accuracy: 0.9688\n",
      "Epoch 56: val_loss did not improve from 0.00858\n",
      "3/3 [==============================] - 0s 16ms/step - loss: 0.0429 - accuracy: 0.9896 - val_loss: 0.0143 - val_accuracy: 1.0000\n",
      "Epoch 57/500\n",
      "1/3 [=========>....................] - ETA: 0s - loss: 0.0777 - accuracy: 0.9688\n",
      "Epoch 57: val_loss did not improve from 0.00858\n",
      "3/3 [==============================] - 0s 16ms/step - loss: 0.0334 - accuracy: 0.9896 - val_loss: 0.0128 - val_accuracy: 1.0000\n",
      "Epoch 58/500\n",
      "1/3 [=========>....................] - ETA: 0s - loss: 0.0695 - accuracy: 0.9688\n",
      "Epoch 58: val_loss did not improve from 0.00858\n",
      "3/3 [==============================] - 0s 16ms/step - loss: 0.0352 - accuracy: 0.9896 - val_loss: 0.0169 - val_accuracy: 1.0000\n",
      "Epoch 59/500\n",
      "1/3 [=========>....................] - ETA: 0s - loss: 0.0875 - accuracy: 0.9688\n",
      "Epoch 59: val_loss did not improve from 0.00858\n",
      "3/3 [==============================] - 0s 14ms/step - loss: 0.0348 - accuracy: 0.9896 - val_loss: 0.0282 - val_accuracy: 1.0000\n",
      "Epoch 60/500\n",
      "1/3 [=========>....................] - ETA: 0s - loss: 0.0153 - accuracy: 1.0000\n",
      "Epoch 60: val_loss did not improve from 0.00858\n"
     ]
    },
    {
     "name": "stdout",
     "output_type": "stream",
     "text": [
      "3/3 [==============================] - 0s 16ms/step - loss: 0.0313 - accuracy: 0.9896 - val_loss: 0.0202 - val_accuracy: 1.0000\n",
      "Epoch 61/500\n",
      "1/3 [=========>....................] - ETA: 0s - loss: 0.0758 - accuracy: 0.9688\n",
      "Epoch 61: val_loss did not improve from 0.00858\n",
      "3/3 [==============================] - 0s 17ms/step - loss: 0.0302 - accuracy: 0.9896 - val_loss: 0.0156 - val_accuracy: 1.0000\n",
      "Epoch 62/500\n",
      "1/3 [=========>....................] - ETA: 0s - loss: 0.0691 - accuracy: 0.9688\n",
      "Epoch 62: val_loss did not improve from 0.00858\n",
      "3/3 [==============================] - 0s 12ms/step - loss: 0.0437 - accuracy: 0.9792 - val_loss: 0.0087 - val_accuracy: 1.0000\n"
     ]
    }
   ],
   "source": [
    "# 4. 학습 : epoch마다 val_accuracy(val_loss, accuracy, loss)값이 좋을 때 모델을 자동 저장 콜백 추가\n",
    "          # 모델을 저장할 경로 : ./model/iris-100-val0.6521.h5\n",
    "import os\n",
    "model_save_folder = './model/'\n",
    "if not os.path.exists(model_save_folder):\n",
    "    os.mkdir(model_save_folder) # model_save_folder가 없으면 폴더 생성\n",
    "# 조기 종료 콜백     \n",
    "earlystopping = EarlyStopping(patience=50) # monitor='val_loss' 기본값\n",
    "# 모델 자동 저장 콜백\n",
    "file = model_save_folder + 'iris-{epoch:03d}-val{val_accuracy:.4f}.h5'\n",
    "checkpoint = ModelCheckpoint(filepath= file, # 저장경로\n",
    "                        monitor = 'val_loss', # 모니터링할 지표 \n",
    "                        save_best_only=True, # 지표가 개성된 경우만 저장. False면 매번 저장\n",
    "                        mode = 'auto', # 값이 클수록 저장. 'min'은 값이 작을수록 저장. auto도 있음\n",
    "                        verbose = 1) # 저장 여부 로그 출력 (0:출력안함)\n",
    "hist = model.fit(X_train, Y_train,\n",
    "                # batch_size=50, # 한 배치사이즈마다 w, b 조정\n",
    "                epochs=500,\n",
    "                validation_split=0.2,\n",
    "                callbacks=[checkpoint, earlystopping]\n",
    "                )"
   ]
  },
  {
   "cell_type": "code",
   "execution_count": 74,
   "id": "5740cab1",
   "metadata": {},
   "outputs": [
    {
     "data": {
      "image/png": "[encoded data removed]",
      "text/plain": [
       "<Figure size 1000x500 with 2 Axes>"
      ]
     },
     "metadata": {},
     "output_type": "display_data"
    }
   ],
   "source": [
    "# 학습과정 표시하기(validation dataset 있는 경우)\n",
    "fig, loss_ax = plt.subplots(figsize=(10,5))\n",
    "loss_ax.plot(hist.history['loss'], 'r', label='train loss')\n",
    "loss_ax.plot(hist.history['val_loss'], 'y', label='validation loss')\n",
    "loss_ax.set_xlabel('epoch')\n",
    "loss_ax.set_ylabel('loss')\n",
    "acc_ax = loss_ax.twinx()\n",
    "acc_ax.plot(hist.history['accuracy'], 'b', label='train accuracy')\n",
    "acc_ax.plot(hist.history['val_accuracy'], 'g', label='validation accuracy')\n",
    "acc_ax.set_ylabel('accuracy')\n",
    "loss_ax.legend(loc='center right')\n",
    "acc_ax.legend(bbox_to_anchor=(0.999, 0.7))\n",
    "plt.show()"
   ]
  },
  {
   "cell_type": "code",
   "execution_count": 75,
   "id": "c1b66671",
   "metadata": {},
   "outputs": [
    {
     "name": "stdout",
     "output_type": "stream",
     "text": [
      "1/1 [==============================] - 0s 35ms/step - loss: 0.1729 - accuracy: 0.9333\n"
     ]
    },
    {
     "data": {
      "text/plain": [
       "[0.17289979755878448, 0.9333333373069763]"
      ]
     },
     "execution_count": 75,
     "metadata": {},
     "output_type": "execute_result"
    }
   ],
   "source": [
    "# 모델 평가\n",
    "model.evaluate(X_test, Y_test)"
   ]
  },
  {
   "cell_type": "code",
   "execution_count": 76,
   "id": "c6a3610d",
   "metadata": {},
   "outputs": [
    {
     "name": "stdout",
     "output_type": "stream",
     "text": [
      "1/1 [==============================] - 0s 32ms/step\n"
     ]
    },
    {
     "data": {
      "text/html": [
       "<div>\n",
       "<style scoped>\n",
       "    .dataframe tbody tr th:only-of-type {\n",
       "        vertical-align: middle;\n",
       "    }\n",
       "\n",
       "    .dataframe tbody tr th {\n",
       "        vertical-align: top;\n",
       "    }\n",
       "\n",
       "    .dataframe thead th {\n",
       "        text-align: right;\n",
       "    }\n",
       "</style>\n",
       "<table border=\"1\" class=\"dataframe\">\n",
       "  <thead>\n",
       "    <tr style=\"text-align: right;\">\n",
       "      <th>predict</th>\n",
       "      <th>setosa</th>\n",
       "      <th>versicolor</th>\n",
       "      <th>virginica</th>\n",
       "    </tr>\n",
       "    <tr>\n",
       "      <th>real</th>\n",
       "      <th></th>\n",
       "      <th></th>\n",
       "      <th></th>\n",
       "    </tr>\n",
       "  </thead>\n",
       "  <tbody>\n",
       "    <tr>\n",
       "      <th>setosa</th>\n",
       "      <td>10</td>\n",
       "      <td>0</td>\n",
       "      <td>0</td>\n",
       "    </tr>\n",
       "    <tr>\n",
       "      <th>versicolor</th>\n",
       "      <td>0</td>\n",
       "      <td>8</td>\n",
       "      <td>2</td>\n",
       "    </tr>\n",
       "    <tr>\n",
       "      <th>virginica</th>\n",
       "      <td>0</td>\n",
       "      <td>0</td>\n",
       "      <td>10</td>\n",
       "    </tr>\n",
       "  </tbody>\n",
       "</table>\n",
       "</div>"
      ],
      "text/plain": [
       "predict     setosa  ...  virginica\n",
       "real                ...           \n",
       "setosa          10  ...          0\n",
       "versicolor       0  ...          2\n",
       "virginica        0  ...         10\n",
       "\n",
       "[3 rows x 3 columns]"
      ]
     },
     "execution_count": 76,
     "metadata": {},
     "output_type": "execute_result"
    }
   ],
   "source": [
    "# 교차표\n",
    "real = np.argmax(Y_test, axis=1)\n",
    "pred = np.argmax(model.predict(X_test), axis=1)\n",
    "ctab = pd.crosstab(real, pred)\n",
    "ctab.columns = iris['species'][::50] #['setosa', 'versicolor', 'virginica']\n",
    "ctab.columns.name = 'predict'\n",
    "ctab.index = iris['species'][::50] \n",
    "ctab.index.name = 'real'\n",
    "ctab"
   ]
  },
  {
   "cell_type": "code",
   "execution_count": 44,
   "id": "7e392551",
   "metadata": {},
   "outputs": [
    {
     "data": {
      "text/plain": [
       "['setosa', 'versicolor', 'virginica']"
      ]
     },
     "execution_count": 44,
     "metadata": {},
     "output_type": "execute_result"
    }
   ],
   "source": [
    "list(iris['species'][::50])"
   ]
  },
  {
   "cell_type": "code",
   "execution_count": 78,
   "id": "07e63c9a",
   "metadata": {},
   "outputs": [
    {
     "name": "stdout",
     "output_type": "stream",
     "text": [
      "1/1 [==============================] - 0s 125ms/step - loss: 0.2137 - accuracy: 0.9333\n"
     ]
    },
    {
     "data": {
      "text/plain": [
       "[0.21374207735061646, 0.9333333373069763]"
      ]
     },
     "execution_count": 78,
     "metadata": {},
     "output_type": "execute_result"
    }
   ],
   "source": [
    "# 저장된 모델 중 성능이 제일 좋아 보이는 것 load\n",
    "from tensorflow.keras.models import load_model\n",
    "model2 = load_model('model/iris-141-val1.0000.h5')\n",
    "model2.evaluate(X_test, Y_test)"
   ]
  },
  {
   "cell_type": "code",
   "execution_count": 79,
   "id": "6537e10a",
   "metadata": {},
   "outputs": [
    {
     "name": "stdout",
     "output_type": "stream",
     "text": [
      "1/1 [==============================] - 0s 51ms/step\n"
     ]
    },
    {
     "data": {
      "text/html": [
       "<div>\n",
       "<style scoped>\n",
       "    .dataframe tbody tr th:only-of-type {\n",
       "        vertical-align: middle;\n",
       "    }\n",
       "\n",
       "    .dataframe tbody tr th {\n",
       "        vertical-align: top;\n",
       "    }\n",
       "\n",
       "    .dataframe thead th {\n",
       "        text-align: right;\n",
       "    }\n",
       "</style>\n",
       "<table border=\"1\" class=\"dataframe\">\n",
       "  <thead>\n",
       "    <tr style=\"text-align: right;\">\n",
       "      <th>predict</th>\n",
       "      <th>setosa</th>\n",
       "      <th>versicolor</th>\n",
       "      <th>virginica</th>\n",
       "    </tr>\n",
       "    <tr>\n",
       "      <th>real</th>\n",
       "      <th></th>\n",
       "      <th></th>\n",
       "      <th></th>\n",
       "    </tr>\n",
       "  </thead>\n",
       "  <tbody>\n",
       "    <tr>\n",
       "      <th>setosa</th>\n",
       "      <td>10</td>\n",
       "      <td>0</td>\n",
       "      <td>0</td>\n",
       "    </tr>\n",
       "    <tr>\n",
       "      <th>versicolor</th>\n",
       "      <td>0</td>\n",
       "      <td>8</td>\n",
       "      <td>2</td>\n",
       "    </tr>\n",
       "    <tr>\n",
       "      <th>virginica</th>\n",
       "      <td>0</td>\n",
       "      <td>0</td>\n",
       "      <td>10</td>\n",
       "    </tr>\n",
       "  </tbody>\n",
       "</table>\n",
       "</div>"
      ],
      "text/plain": [
       "predict     setosa  ...  virginica\n",
       "real                ...           \n",
       "setosa          10  ...          0\n",
       "versicolor       0  ...          2\n",
       "virginica        0  ...         10\n",
       "\n",
       "[3 rows x 3 columns]"
      ]
     },
     "execution_count": 79,
     "metadata": {},
     "output_type": "execute_result"
    }
   ],
   "source": [
    "# 저장된 모델의 교차표\n",
    "real = np.argmax(Y_test, axis=1)\n",
    "pred = np.argmax(model2.predict(X_test), axis=1)\n",
    "ctab = pd.crosstab(real, pred)\n",
    "ctab.columns = iris['species'][::50] #['setosa', 'versicolor', 'virginica']\n",
    "ctab.columns.name = 'predict'\n",
    "ctab.index = iris['species'][::50] \n",
    "ctab.index.name = 'real'\n",
    "ctab"
   ]
  },
  {
   "cell_type": "code",
   "execution_count": 85,
   "id": "86a28300",
   "metadata": {},
   "outputs": [
    {
     "data": {
      "text/html": [
       "<div>\n",
       "<style scoped>\n",
       "    .dataframe tbody tr th:only-of-type {\n",
       "        vertical-align: middle;\n",
       "    }\n",
       "\n",
       "    .dataframe tbody tr th {\n",
       "        vertical-align: top;\n",
       "    }\n",
       "\n",
       "    .dataframe thead th {\n",
       "        text-align: right;\n",
       "    }\n",
       "</style>\n",
       "<table border=\"1\" class=\"dataframe\">\n",
       "  <thead>\n",
       "    <tr style=\"text-align: right;\">\n",
       "      <th></th>\n",
       "      <th>sepal_length</th>\n",
       "      <th>sepal_width</th>\n",
       "      <th>petal_length</th>\n",
       "      <th>petal_width</th>\n",
       "      <th>species</th>\n",
       "    </tr>\n",
       "  </thead>\n",
       "  <tbody>\n",
       "    <tr>\n",
       "      <th>100</th>\n",
       "      <td>6.3</td>\n",
       "      <td>3.3</td>\n",
       "      <td>6.0</td>\n",
       "      <td>2.5</td>\n",
       "      <td>virginica</td>\n",
       "    </tr>\n",
       "  </tbody>\n",
       "</table>\n",
       "</div>"
      ],
      "text/plain": [
       "     sepal_length  ...    species\n",
       "100           6.3  ...  virginica\n",
       "\n",
       "[1 rows x 5 columns]"
      ]
     },
     "execution_count": 85,
     "metadata": {},
     "output_type": "execute_result"
    }
   ],
   "source": [
    "# 모델 사용하기(예측하기)\n",
    "iris[100:101]"
   ]
  },
  {
   "cell_type": "code",
   "execution_count": 86,
   "id": "bedbcbf7",
   "metadata": {},
   "outputs": [
    {
     "name": "stdout",
     "output_type": "stream",
     "text": [
      "1/1 [==============================] - 0s 18ms/step\n"
     ]
    },
    {
     "data": {
      "text/plain": [
       "array([[8.3991182e-11, 1.9221265e-04, 9.9980778e-01]], dtype=float32)"
      ]
     },
     "execution_count": 86,
     "metadata": {},
     "output_type": "execute_result"
    }
   ],
   "source": [
    "model.predict(np.array([[6.3, 3.4, 6.1, 2.5]]))"
   ]
  },
  {
   "cell_type": "code",
   "execution_count": null,
   "id": "bb37c401",
   "metadata": {},
   "outputs": [],
   "source": []
  },
  {
   "cell_type": "code",
   "execution_count": null,
   "id": "b0ccff51",
   "metadata": {},
   "outputs": [],
   "source": []
  },
  {
   "cell_type": "code",
   "execution_count": null,
   "id": "788dd42d",
   "metadata": {},
   "outputs": [],
   "source": []
  },
  {
   "cell_type": "code",
   "execution_count": null,
   "id": "53ea293c",
   "metadata": {},
   "outputs": [],
   "source": []
  },
  {
   "cell_type": "code",
   "execution_count": null,
   "id": "fb42f532",
   "metadata": {},
   "outputs": [],
   "source": []
  }
 ],
 "metadata": {
  "kernelspec": {
   "display_name": "Python 3 (ipykernel)",
   "language": "python",
   "name": "python3"
  },
  "language_info": {
   "codemirror_mode": {
    "name": "ipython",
    "version": 3
   },
   "file_extension": ".py",
   "mimetype": "text/x-python",
   "name": "python",
   "nbconvert_exporter": "python",
   "pygments_lexer": "ipython3",
   "version": "3.10.9"
  },
  "toc": {
   "base_numbering": 1,
   "nav_menu": {},
   "number_sections": false,
   "sideBar": true,
   "skip_h1_title": false,
   "title_cell": "Table of Contents",
   "title_sidebar": "Contents",
   "toc_cell": false,
   "toc_position": {},
   "toc_section_display": true,
   "toc_window_display": false
  }
 },
 "nbformat": 4,
 "nbformat_minor": 5
}
