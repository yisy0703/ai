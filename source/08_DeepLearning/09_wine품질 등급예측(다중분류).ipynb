{
 "cells": [
  {
   "cell_type": "code",
   "execution_count": 1,
   "id": "498bab3f",
   "metadata": {},
   "outputs": [
    {
     "data": {
      "text/html": [
       "\n",
       "<style>\n",
       "div.container{width:99% !important;}\n",
       "div.cell.code_cell.rendered{width:90%;}\n",
       "div.CodeMirror {font-family:Consolas; font-size:20pt;}\n",
       "div.output {font-size:18pt; font-weight:bold;}\n",
       "div.input {font-family:Consolas; font-size:19pt;}\n",
       "div.prompt {min-width:70px;}\n",
       "div#toc-wrapper{padding-top:120px;}\n",
       "span.toc-item-num{display:none;}\n",
       "div.text_cell_render ul li{font-size:16pt;padding:5px;}\n",
       "div.CodeMirror-lines > div {padding-left:10px;}\n",
       "table.dataframe{font-size:19px;}\n",
       "</style>\n"
      ],
      "text/plain": [
       "<IPython.core.display.HTML object>"
      ]
     },
     "metadata": {},
     "output_type": "display_data"
    }
   ],
   "source": [
    "from IPython.display import display, HTML\n",
    "display(HTML(\"\"\"\n",
    "<style>\n",
    "div.container{width:99% !important;}\n",
    "div.cell.code_cell.rendered{width:90%;}\n",
    "div.CodeMirror {font-family:Consolas; font-size:20pt;}\n",
    "div.output {font-size:18pt; font-weight:bold;}\n",
    "div.input {font-family:Consolas; font-size:19pt;}\n",
    "div.prompt {min-width:70px;}\n",
    "div#toc-wrapper{padding-top:120px;}\n",
    "span.toc-item-num{display:none;}\n",
    "div.text_cell_render ul li{font-size:16pt;padding:5px;}\n",
    "div.CodeMirror-lines > div {padding-left:10px;}\n",
    "table.dataframe{font-size:19px;}\n",
    "</style>\n",
    "\"\"\"))"
   ]
  },
  {
   "cell_type": "code",
   "execution_count": 2,
   "id": "4b7cd1a5",
   "metadata": {},
   "outputs": [],
   "source": [
    "import numpy as np\n",
    "import pandas as pd # read_csv, get_dumies(원핫인코딩)\n",
    "from sklearn.preprocessing import StandardScaler\n",
    "from sklearn.model_selection import train_test_split # 훈련셋과 시험셋 나누기\n",
    "from tensorflow.keras.models import Sequential\n",
    "from tensorflow.keras.layers import Dense, Input, Dropout\n",
    "from tensorflow.keras.callbacks import EarlyStopping, Callback\n",
    "from tensorflow.keras.activations import relu, softmax # activation='relu' 대신 사용\n",
    "import matplotlib.pyplot as plt"
   ]
  },
  {
   "cell_type": "markdown",
   "id": "9bae4ef7",
   "metadata": {},
   "source": [
    "- Red Wine 품질 등급 예측\n",
    "\n",
    "```\n",
    "1. 데이터 셋 확보 & 전처리\n",
    "    독립변수, 종속변수 분리 -> 독립변수 스케일조정(StandardScaler), 종속변수 원핫인코딩(get_dummies), \n",
    "     훈련셋과 테스트셋 분리(train_test_split)\n",
    "2. 모델 구성(입력11, 출력6) layer층 4\n",
    "3. 모델 학습 과정 설정(다중분류에 맞는 설정)\n",
    "4. 학습시키기 (callbacks이용)\n",
    "5. 모델 평가 - 그래프, 평가(테스트셋), 교차표(crosstab)\n",
    "6. 모델 저장 및 모델사용하기\n",
    "```"
   ]
  },
  {
   "cell_type": "markdown",
   "id": "2dda8702",
   "metadata": {},
   "source": [
    "## 1. 데이터 셋 확보 & 전처리\n",
    "    독립변수, 종속변수 분리 -> 독립변수 스케일조정(StandardScaler), 종속변수 원핫인코딩(get_dummies) ->\n",
    "     훈련셋과 테스트셋 분리(train_test_split)"
   ]
  },
  {
   "cell_type": "code",
   "execution_count": 3,
   "id": "8f604e36",
   "metadata": {},
   "outputs": [
    {
     "data": {
      "text/html": [
       "<div>\n",
       "<style scoped>\n",
       "    .dataframe tbody tr th:only-of-type {\n",
       "        vertical-align: middle;\n",
       "    }\n",
       "\n",
       "    .dataframe tbody tr th {\n",
       "        vertical-align: top;\n",
       "    }\n",
       "\n",
       "    .dataframe thead th {\n",
       "        text-align: right;\n",
       "    }\n",
       "</style>\n",
       "<table border=\"1\" class=\"dataframe\">\n",
       "  <thead>\n",
       "    <tr style=\"text-align: right;\">\n",
       "      <th></th>\n",
       "      <th>fixed acidity</th>\n",
       "      <th>volatile acidity</th>\n",
       "      <th>citric acid</th>\n",
       "      <th>residual sugar</th>\n",
       "      <th>chlorides</th>\n",
       "      <th>free sulfur dioxide</th>\n",
       "      <th>total sulfur dioxide</th>\n",
       "      <th>density</th>\n",
       "      <th>pH</th>\n",
       "      <th>sulphates</th>\n",
       "      <th>alcohol</th>\n",
       "      <th>quality</th>\n",
       "    </tr>\n",
       "  </thead>\n",
       "  <tbody>\n",
       "    <tr>\n",
       "      <th>0</th>\n",
       "      <td>7.4</td>\n",
       "      <td>0.70</td>\n",
       "      <td>0.00</td>\n",
       "      <td>1.9</td>\n",
       "      <td>0.076</td>\n",
       "      <td>11.0</td>\n",
       "      <td>34.0</td>\n",
       "      <td>0.9978</td>\n",
       "      <td>3.51</td>\n",
       "      <td>0.56</td>\n",
       "      <td>9.4</td>\n",
       "      <td>5</td>\n",
       "    </tr>\n",
       "    <tr>\n",
       "      <th>1</th>\n",
       "      <td>7.8</td>\n",
       "      <td>0.88</td>\n",
       "      <td>0.00</td>\n",
       "      <td>2.6</td>\n",
       "      <td>0.098</td>\n",
       "      <td>25.0</td>\n",
       "      <td>67.0</td>\n",
       "      <td>0.9968</td>\n",
       "      <td>3.20</td>\n",
       "      <td>0.68</td>\n",
       "      <td>9.8</td>\n",
       "      <td>5</td>\n",
       "    </tr>\n",
       "    <tr>\n",
       "      <th>2</th>\n",
       "      <td>7.8</td>\n",
       "      <td>0.76</td>\n",
       "      <td>0.04</td>\n",
       "      <td>2.3</td>\n",
       "      <td>0.092</td>\n",
       "      <td>15.0</td>\n",
       "      <td>54.0</td>\n",
       "      <td>0.9970</td>\n",
       "      <td>3.26</td>\n",
       "      <td>0.65</td>\n",
       "      <td>9.8</td>\n",
       "      <td>5</td>\n",
       "    </tr>\n",
       "    <tr>\n",
       "      <th>3</th>\n",
       "      <td>11.2</td>\n",
       "      <td>0.28</td>\n",
       "      <td>0.56</td>\n",
       "      <td>1.9</td>\n",
       "      <td>0.075</td>\n",
       "      <td>17.0</td>\n",
       "      <td>60.0</td>\n",
       "      <td>0.9980</td>\n",
       "      <td>3.16</td>\n",
       "      <td>0.58</td>\n",
       "      <td>9.8</td>\n",
       "      <td>6</td>\n",
       "    </tr>\n",
       "    <tr>\n",
       "      <th>4</th>\n",
       "      <td>7.4</td>\n",
       "      <td>0.70</td>\n",
       "      <td>0.00</td>\n",
       "      <td>1.9</td>\n",
       "      <td>0.076</td>\n",
       "      <td>11.0</td>\n",
       "      <td>34.0</td>\n",
       "      <td>0.9978</td>\n",
       "      <td>3.51</td>\n",
       "      <td>0.56</td>\n",
       "      <td>9.4</td>\n",
       "      <td>5</td>\n",
       "    </tr>\n",
       "  </tbody>\n",
       "</table>\n",
       "</div>"
      ],
      "text/plain": [
       "   fixed acidity  volatile acidity  citric acid  residual sugar  chlorides  \\\n",
       "0            7.4              0.70         0.00             1.9      0.076   \n",
       "1            7.8              0.88         0.00             2.6      0.098   \n",
       "2            7.8              0.76         0.04             2.3      0.092   \n",
       "3           11.2              0.28         0.56             1.9      0.075   \n",
       "4            7.4              0.70         0.00             1.9      0.076   \n",
       "\n",
       "   free sulfur dioxide  total sulfur dioxide  density    pH  sulphates  \\\n",
       "0                 11.0                  34.0   0.9978  3.51       0.56   \n",
       "1                 25.0                  67.0   0.9968  3.20       0.68   \n",
       "2                 15.0                  54.0   0.9970  3.26       0.65   \n",
       "3                 17.0                  60.0   0.9980  3.16       0.58   \n",
       "4                 11.0                  34.0   0.9978  3.51       0.56   \n",
       "\n",
       "   alcohol  quality  \n",
       "0      9.4        5  \n",
       "1      9.8        5  \n",
       "2      9.8        5  \n",
       "3      9.8        6  \n",
       "4      9.4        5  "
      ]
     },
     "execution_count": 3,
     "metadata": {},
     "output_type": "execute_result"
    }
   ],
   "source": [
    "# 데이터 읽어오기\n",
    "\n",
    "# np.loadtxt('data/winequality-red.csv', delimiter=';', skiprows=1)\n",
    "# np.genfromtxt('data/winequality-red.csv', delimiter=';', skip_header=1)\n",
    "\n",
    "redwine = pd.read_csv('./data/winequality-red.csv', sep=';')\n",
    "\n",
    "redwine.head()\n",
    "# fixed acidity : 고정 산도\n",
    "# volatile acidity : 휘발성 산도\n",
    "# citric acid : 시트르산\n",
    "# residual sugar : 잔류 당분\n",
    "# chlorides : 염화물\n",
    "# free sulfur dioxide : 자유 이산화황\n",
    "# total sulfur dioxide : 총 이산화황\n",
    "# density : 밀도\n",
    "# pH\n",
    "# sulphates : 황산염\n",
    "# alcohol\n",
    "# quality : 0 ~ 10(높을 수록 좋은 품질)"
   ]
  },
  {
   "cell_type": "code",
   "execution_count": 19,
   "id": "f31d8ef6",
   "metadata": {},
   "outputs": [
    {
     "data": {
      "text/plain": [
       "((1599, 11), (1599,))"
      ]
     },
     "execution_count": 19,
     "metadata": {},
     "output_type": "execute_result"
    }
   ],
   "source": [
    "# 독립변수, 종속변수 분리\n",
    "X_redwine = redwine.iloc[:,:-1]\n",
    "y_redwine = redwine.iloc[:,-1]\n",
    "X_redwine.shape, y_redwine.shape"
   ]
  },
  {
   "cell_type": "code",
   "execution_count": 5,
   "id": "f15fe1fa",
   "metadata": {},
   "outputs": [
    {
     "data": {
      "text/html": [
       "<div>\n",
       "<style scoped>\n",
       "    .dataframe tbody tr th:only-of-type {\n",
       "        vertical-align: middle;\n",
       "    }\n",
       "\n",
       "    .dataframe tbody tr th {\n",
       "        vertical-align: top;\n",
       "    }\n",
       "\n",
       "    .dataframe thead th {\n",
       "        text-align: right;\n",
       "    }\n",
       "</style>\n",
       "<table border=\"1\" class=\"dataframe\">\n",
       "  <thead>\n",
       "    <tr style=\"text-align: right;\">\n",
       "      <th></th>\n",
       "      <th>fixed acidity</th>\n",
       "      <th>volatile acidity</th>\n",
       "      <th>citric acid</th>\n",
       "      <th>residual sugar</th>\n",
       "      <th>chlorides</th>\n",
       "      <th>free sulfur dioxide</th>\n",
       "      <th>total sulfur dioxide</th>\n",
       "      <th>density</th>\n",
       "      <th>pH</th>\n",
       "      <th>sulphates</th>\n",
       "      <th>alcohol</th>\n",
       "    </tr>\n",
       "  </thead>\n",
       "  <tbody>\n",
       "    <tr>\n",
       "      <th>707</th>\n",
       "      <td>7.4</td>\n",
       "      <td>0.49</td>\n",
       "      <td>0.19</td>\n",
       "      <td>3.0</td>\n",
       "      <td>0.077</td>\n",
       "      <td>16.0</td>\n",
       "      <td>37.0</td>\n",
       "      <td>0.9966</td>\n",
       "      <td>3.37</td>\n",
       "      <td>0.51</td>\n",
       "      <td>10.5</td>\n",
       "    </tr>\n",
       "  </tbody>\n",
       "</table>\n",
       "</div>"
      ],
      "text/plain": [
       "     fixed acidity  volatile acidity  citric acid  residual sugar  chlorides  \\\n",
       "707            7.4              0.49         0.19             3.0      0.077   \n",
       "\n",
       "     free sulfur dioxide  total sulfur dioxide  density    pH  sulphates  \\\n",
       "707                 16.0                  37.0   0.9966  3.37       0.51   \n",
       "\n",
       "     alcohol  \n",
       "707     10.5  "
      ]
     },
     "execution_count": 5,
     "metadata": {},
     "output_type": "execute_result"
    }
   ],
   "source": [
    "X_redwine.sample()"
   ]
  },
  {
   "cell_type": "code",
   "execution_count": 6,
   "id": "89beb41e",
   "metadata": {},
   "outputs": [
    {
     "data": {
      "text/plain": [
       "0       5\n",
       "1       5\n",
       "2       5\n",
       "3       6\n",
       "4       5\n",
       "       ..\n",
       "1594    5\n",
       "1595    6\n",
       "1596    6\n",
       "1597    5\n",
       "1598    6\n",
       "Name: quality, Length: 1599, dtype: int64"
      ]
     },
     "execution_count": 6,
     "metadata": {},
     "output_type": "execute_result"
    }
   ],
   "source": [
    "y_redwine"
   ]
  },
  {
   "cell_type": "code",
   "execution_count": 20,
   "id": "3c7c6d2e",
   "metadata": {},
   "outputs": [
    {
     "data": {
      "text/plain": [
       "array([[-0.52835961,  0.96187667, -1.39147228, -0.45321841, -0.24370669,\n",
       "        -0.46619252, -0.37913269,  0.55827446,  1.28864292, -0.57920652,\n",
       "        -0.96024611],\n",
       "       [-0.29854743,  1.96744245, -1.39147228,  0.04341614,  0.2238752 ,\n",
       "         0.87263823,  0.62436323,  0.02826077, -0.7199333 ,  0.1289504 ,\n",
       "        -0.58477711]])"
      ]
     },
     "execution_count": 20,
     "metadata": {},
     "output_type": "execute_result"
    }
   ],
   "source": [
    "# 독립변수 스케일조정(StandardScaler)\n",
    "scaler = StandardScaler()\n",
    "scaler.fit(X_redwine.to_numpy()) # values와 to_numpy() 동일\n",
    "scaled_X_redwine = scaler.transform(X_redwine.values)\n",
    "scaled_X_redwine[:2]"
   ]
  },
  {
   "cell_type": "code",
   "execution_count": 8,
   "id": "7ec20cab",
   "metadata": {},
   "outputs": [
    {
     "data": {
      "text/plain": [
       "array([[0, 0, 1, 0, 0, 0],\n",
       "       [0, 0, 1, 0, 0, 0]], dtype=uint8)"
      ]
     },
     "execution_count": 8,
     "metadata": {},
     "output_type": "execute_result"
    }
   ],
   "source": [
    "# 종속변수 원핫인코딩(get_dummies)\n",
    "Y_redwine = pd.get_dummies(y_redwine).to_numpy() \n",
    "Y_redwine[:2]"
   ]
  },
  {
   "cell_type": "code",
   "execution_count": 31,
   "id": "c8614356",
   "metadata": {},
   "outputs": [
    {
     "name": "stdout",
     "output_type": "stream",
     "text": [
      "(1119, 11) (1119, 6) (480, 11) (480, 6)\n"
     ]
    }
   ],
   "source": [
    "# 훈련셋과 테스트셋 분리(train_test_split) - 7:3분리\n",
    "X_train, X_test, Y_train, Y_test = train_test_split(scaled_X_redwine, \n",
    "                                Y_redwine,\n",
    "                                test_size=0.3, \n",
    "                                random_state=1,\n",
    "                                stratify=Y_redwine) # 층화추출(등급별 7:3으로 추출)\n",
    "print(X_train.shape, Y_train.shape, X_test.shape, Y_test.shape)"
   ]
  },
  {
   "cell_type": "code",
   "execution_count": 32,
   "id": "efc561c0",
   "metadata": {},
   "outputs": [
    {
     "data": {
      "text/plain": [
       "array([[477, 204],\n",
       "       [446, 192],\n",
       "       [139,  60],\n",
       "       [ 37,  16],\n",
       "       [ 13,   5],\n",
       "       [  7,   3]], dtype=int64)"
      ]
     },
     "execution_count": 32,
     "metadata": {},
     "output_type": "execute_result"
    }
   ],
   "source": [
    "# 층화추출을 하면 등급별 7:3으로  shuffle 되서 추출\n",
    "np.c_[pd.Series(Y_train.argmax(axis=1)).value_counts(),\n",
    "      pd.Series(Y_test.argmax(axis=1)).value_counts()]"
   ]
  },
  {
   "cell_type": "markdown",
   "id": "c7b5abfc",
   "metadata": {},
   "source": [
    "## 2. 모델 구성(입력11, 출력6) layer층 4"
   ]
  },
  {
   "cell_type": "code",
   "execution_count": 11,
   "id": "438272e5",
   "metadata": {},
   "outputs": [
    {
     "name": "stdout",
     "output_type": "stream",
     "text": [
      "Model: \"sequential\"\n",
      "_________________________________________________________________\n",
      " Layer (type)                Output Shape              Param #   \n",
      "=================================================================\n",
      " dense (Dense)               (None, 32)                384       \n",
      "                                                                 \n",
      " dense_1 (Dense)             (None, 64)                2112      \n",
      "                                                                 \n",
      " dropout (Dropout)           (None, 64)                0         \n",
      "                                                                 \n",
      " dense_2 (Dense)             (None, 16)                1040      \n",
      "                                                                 \n",
      " dense_3 (Dense)             (None, 6)                 102       \n",
      "                                                                 \n",
      "=================================================================\n",
      "Total params: 3,638\n",
      "Trainable params: 3,638\n",
      "Non-trainable params: 0\n",
      "_________________________________________________________________\n"
     ]
    }
   ],
   "source": [
    "model = Sequential()\n",
    "model.add(Input(11)) # 의미있는 레이어가 아니고 input_dim만 지정\n",
    "model.add(Dense(units=32, activation='relu'))\n",
    "model.add(Dense(units=64, activation=relu))\n",
    "model.add(Dropout(0.2))\n",
    "model.add(Dense(units=16, activation=relu))\n",
    "model.add(Dense(units=6, activation=softmax)) # 3 4 5 6 7 8 등급의 결과 합이 1\n",
    "model.summary()"
   ]
  },
  {
   "cell_type": "markdown",
   "id": "8ea86b13",
   "metadata": {},
   "source": [
    "## 3. 모델 학습 과정 설정(다중분류에 맞는 설정)\n",
    "## 4. 학습시키기(callbacks 이용)"
   ]
  },
  {
   "cell_type": "code",
   "execution_count": 12,
   "id": "807d4472",
   "metadata": {},
   "outputs": [
    {
     "name": "stdout",
     "output_type": "stream",
     "text": [
      "epoch:5, loss:1.265730381011963, acc:0.5720670223236084, val_loss:1.25290048122406, val_acc:0.5714285969734192\n",
      "epoch:10, loss:1.0360674858093262, acc:0.5776536464691162, val_loss:1.077201008796692, val_acc:0.5803571343421936\n",
      "epoch:15, loss:0.9709530472755432, acc:0.6134078502655029, val_loss:1.0284041166305542, val_acc:0.6026785969734192\n",
      "epoch:20, loss:0.9415230751037598, acc:0.6134078502655029, val_loss:1.0196982622146606, val_acc:0.6116071343421936\n",
      "epoch:25, loss:0.9286341667175293, acc:0.6167597770690918, val_loss:1.020064115524292, val_acc:0.6071428656578064\n",
      "epoch:30, loss:0.9070735573768616, acc:0.6346368789672852, val_loss:1.0174192190170288, val_acc:0.6116071343421936\n",
      "epoch:35, loss:0.8865436315536499, acc:0.6435754299163818, val_loss:1.0205719470977783, val_acc:0.6116071343421936\n",
      "epoch:40, loss:0.8725653290748596, acc:0.6391061544418335, val_loss:1.014724612236023, val_acc:0.6160714030265808\n",
      "epoch:45, loss:0.8508867621421814, acc:0.645810067653656, val_loss:1.0125997066497803, val_acc:0.6294642686843872\n",
      "epoch:50, loss:0.8358803987503052, acc:0.6502793431282043, val_loss:1.0150965452194214, val_acc:0.6294642686843872\n",
      "epoch:55, loss:0.8276111483573914, acc:0.6569832563400269, val_loss:1.0063897371292114, val_acc:0.625\n",
      "epoch:60, loss:0.8138062953948975, acc:0.6670390963554382, val_loss:1.0094457864761353, val_acc:0.6383928656578064\n",
      "epoch:65, loss:0.802192211151123, acc:0.6681564450263977, val_loss:1.0090055465698242, val_acc:0.6205357313156128\n",
      "epoch:70, loss:0.7847597599029541, acc:0.672625720500946, val_loss:1.00703763961792, val_acc:0.6339285969734192\n",
      "epoch:75, loss:0.7700337767601013, acc:0.6782122850418091, val_loss:1.0124614238739014, val_acc:0.6294642686843872\n",
      "epoch:80, loss:0.7519684433937073, acc:0.6994413137435913, val_loss:1.0097031593322754, val_acc:0.6339285969734192\n",
      "epoch:85, loss:0.744140088558197, acc:0.6916201114654541, val_loss:1.007153868675232, val_acc:0.6294642686843872\n",
      "epoch:90, loss:0.7356964945793152, acc:0.6826815605163574, val_loss:1.0099561214447021, val_acc:0.6160714030265808\n"
     ]
    }
   ],
   "source": [
    "model.compile(loss=\"categorical_crossentropy\", optimizer=\"adam\", metrics=['accuracy'])\n",
    "\n",
    "class CustomHistory(Callback): # on_epoch_end()는 각 에포크 종료시 자동 호출\n",
    "    def __init__(self): # 생성자 함수\n",
    "        self.epoch = 0\n",
    "    def on_epoch_end(self, batch, logs={}):\n",
    "        self.epoch += 1\n",
    "        if self.epoch%5 ==0:\n",
    "            print('epoch:{}, loss:{}, acc:{}, val_loss:{}, val_acc:{}'.\\\n",
    "                 format(self.epoch, \n",
    "                        logs.get('loss'), \n",
    "                        logs.get('accuracy'),\n",
    "                        logs.get('val_loss'),\n",
    "                        logs.get('val_accuracy')\n",
    "                       ))\n",
    "customHistory = CustomHistory()\n",
    "earlyStropping = EarlyStopping(patience=20)\n",
    "hist = model.fit(X_train, Y_train, epochs=100, batch_size=200, \n",
    "                 validation_split=0.2, \n",
    "                 callbacks=[earlyStropping, \n",
    "                           customHistory\n",
    "                           ],\n",
    "                verbose=0)"
   ]
  },
  {
   "cell_type": "markdown",
   "id": "aaffca96",
   "metadata": {},
   "source": [
    "## 5. 모델 평가 - 그래프, 평가(테스트셋), 교차표(crosstab)"
   ]
  },
  {
   "cell_type": "code",
   "execution_count": 13,
   "id": "2863a850",
   "metadata": {},
   "outputs": [
    {
     "data": {
      "image/png": "[encoded data removed]",
      "text/plain": [
       "<Figure size 1000x500 with 2 Axes>"
      ]
     },
     "metadata": {},
     "output_type": "display_data"
    }
   ],
   "source": [
    "# 학습과정 표시하기(validation dataset 있는 경우)\n",
    "fig, loss_ax = plt.subplots(figsize=(10,5))\n",
    "loss_ax.plot(hist.history['loss'], 'r', label='train loss')\n",
    "loss_ax.plot(hist.history['val_loss'], 'y', label='validation loss')\n",
    "loss_ax.set_xlabel('epoch')\n",
    "loss_ax.set_ylabel('loss')\n",
    "acc_ax = loss_ax.twinx()\n",
    "acc_ax.plot(hist.history['accuracy'], 'b', label='train accuracy')\n",
    "acc_ax.plot(hist.history['val_accuracy'], 'g', label='validation accuracy')\n",
    "acc_ax.set_ylabel('accuracy')\n",
    "loss_ax.legend(loc='center right')\n",
    "acc_ax.legend(bbox_to_anchor=(0.999, 0.7))\n",
    "plt.show()"
   ]
  },
  {
   "cell_type": "code",
   "execution_count": 14,
   "id": "1a2b94fe",
   "metadata": {},
   "outputs": [
    {
     "name": "stdout",
     "output_type": "stream",
     "text": [
      "15/15 [==============================] - 0s 3ms/step - loss: 0.9655 - accuracy: 0.5896\n",
      "loss :  0.9655091762542725\n",
      "accuracy :  0.5895833373069763\n"
     ]
    }
   ],
   "source": [
    "# 모델 평가하기\n",
    "loss_and_acc = model.evaluate(X_test, Y_test, batch_size=32)\n",
    "print('loss : ', loss_and_acc[0])\n",
    "print('accuracy : ', loss_and_acc[1])"
   ]
  },
  {
   "cell_type": "code",
   "execution_count": 15,
   "id": "87aa2376",
   "metadata": {},
   "outputs": [
    {
     "name": "stdout",
     "output_type": "stream",
     "text": [
      "15/15 [==============================] - 0s 1ms/step\n"
     ]
    },
    {
     "data": {
      "text/html": [
       "<div>\n",
       "<style scoped>\n",
       "    .dataframe tbody tr th:only-of-type {\n",
       "        vertical-align: middle;\n",
       "    }\n",
       "\n",
       "    .dataframe tbody tr th {\n",
       "        vertical-align: top;\n",
       "    }\n",
       "\n",
       "    .dataframe thead th {\n",
       "        text-align: right;\n",
       "    }\n",
       "</style>\n",
       "<table border=\"1\" class=\"dataframe\">\n",
       "  <thead>\n",
       "    <tr style=\"text-align: right;\">\n",
       "      <th>predict</th>\n",
       "      <th>4</th>\n",
       "      <th>5</th>\n",
       "      <th>6</th>\n",
       "      <th>7</th>\n",
       "    </tr>\n",
       "    <tr>\n",
       "      <th>real</th>\n",
       "      <th></th>\n",
       "      <th></th>\n",
       "      <th></th>\n",
       "      <th></th>\n",
       "    </tr>\n",
       "  </thead>\n",
       "  <tbody>\n",
       "    <tr>\n",
       "      <th>3</th>\n",
       "      <td>1</td>\n",
       "      <td>2</td>\n",
       "      <td>0</td>\n",
       "      <td>0</td>\n",
       "    </tr>\n",
       "    <tr>\n",
       "      <th>4</th>\n",
       "      <td>1</td>\n",
       "      <td>9</td>\n",
       "      <td>6</td>\n",
       "      <td>0</td>\n",
       "    </tr>\n",
       "    <tr>\n",
       "      <th>5</th>\n",
       "      <td>0</td>\n",
       "      <td>144</td>\n",
       "      <td>59</td>\n",
       "      <td>1</td>\n",
       "    </tr>\n",
       "    <tr>\n",
       "      <th>6</th>\n",
       "      <td>0</td>\n",
       "      <td>60</td>\n",
       "      <td>120</td>\n",
       "      <td>12</td>\n",
       "    </tr>\n",
       "    <tr>\n",
       "      <th>7</th>\n",
       "      <td>0</td>\n",
       "      <td>2</td>\n",
       "      <td>40</td>\n",
       "      <td>18</td>\n",
       "    </tr>\n",
       "    <tr>\n",
       "      <th>8</th>\n",
       "      <td>0</td>\n",
       "      <td>0</td>\n",
       "      <td>3</td>\n",
       "      <td>2</td>\n",
       "    </tr>\n",
       "  </tbody>\n",
       "</table>\n",
       "</div>"
      ],
      "text/plain": [
       "predict  4    5    6   7\n",
       "real                    \n",
       "3        1    2    0   0\n",
       "4        1    9    6   0\n",
       "5        0  144   59   1\n",
       "6        0   60  120  12\n",
       "7        0    2   40  18\n",
       "8        0    0    3   2"
      ]
     },
     "execution_count": 15,
     "metadata": {},
     "output_type": "execute_result"
    }
   ],
   "source": [
    "# 7. 성능 지표(crosstab)\n",
    "# pred = model.predict(X_test).argmax(axis=1)+3\n",
    "pred = np.argmax(model.predict(X_test), axis=1)+3\n",
    "# real = Y_test.argmax(axis=1) + 3\n",
    "real = np.argmax(Y_test, axis=1) +3\n",
    "cross_tab = pd.crosstab(real, pred)\n",
    "cross_tab.index.name = \"real\"\n",
    "cross_tab.columns.name = 'predict'\n",
    "cross_tab"
   ]
  },
  {
   "cell_type": "markdown",
   "id": "ab41d6fc",
   "metadata": {},
   "source": [
    "## 6. 모델 저장 및 모델사용하기"
   ]
  },
  {
   "cell_type": "code",
   "execution_count": 16,
   "id": "d335c5b2",
   "metadata": {},
   "outputs": [],
   "source": [
    "model.save('model/winequality.h5')"
   ]
  },
  {
   "cell_type": "code",
   "execution_count": 17,
   "id": "fb9a7316",
   "metadata": {},
   "outputs": [
    {
     "data": {
      "text/html": [
       "<div>\n",
       "<style scoped>\n",
       "    .dataframe tbody tr th:only-of-type {\n",
       "        vertical-align: middle;\n",
       "    }\n",
       "\n",
       "    .dataframe tbody tr th {\n",
       "        vertical-align: top;\n",
       "    }\n",
       "\n",
       "    .dataframe thead th {\n",
       "        text-align: right;\n",
       "    }\n",
       "</style>\n",
       "<table border=\"1\" class=\"dataframe\">\n",
       "  <thead>\n",
       "    <tr style=\"text-align: right;\">\n",
       "      <th></th>\n",
       "      <th>fixed acidity</th>\n",
       "      <th>volatile acidity</th>\n",
       "      <th>citric acid</th>\n",
       "      <th>residual sugar</th>\n",
       "      <th>chlorides</th>\n",
       "      <th>free sulfur dioxide</th>\n",
       "      <th>total sulfur dioxide</th>\n",
       "      <th>density</th>\n",
       "      <th>pH</th>\n",
       "      <th>sulphates</th>\n",
       "      <th>alcohol</th>\n",
       "      <th>quality</th>\n",
       "    </tr>\n",
       "  </thead>\n",
       "  <tbody>\n",
       "    <tr>\n",
       "      <th>888</th>\n",
       "      <td>6.8</td>\n",
       "      <td>0.57</td>\n",
       "      <td>0.0</td>\n",
       "      <td>2.5</td>\n",
       "      <td>0.072</td>\n",
       "      <td>32.0</td>\n",
       "      <td>64.0</td>\n",
       "      <td>0.99491</td>\n",
       "      <td>3.43</td>\n",
       "      <td>0.56</td>\n",
       "      <td>11.2</td>\n",
       "      <td>6</td>\n",
       "    </tr>\n",
       "  </tbody>\n",
       "</table>\n",
       "</div>"
      ],
      "text/plain": [
       "     fixed acidity  volatile acidity  citric acid  residual sugar  chlorides  \\\n",
       "888            6.8              0.57          0.0             2.5      0.072   \n",
       "\n",
       "     free sulfur dioxide  total sulfur dioxide  density    pH  sulphates  \\\n",
       "888                 32.0                  64.0  0.99491  3.43       0.56   \n",
       "\n",
       "     alcohol  quality  \n",
       "888     11.2        6  "
      ]
     },
     "execution_count": 17,
     "metadata": {},
     "output_type": "execute_result"
    }
   ],
   "source": [
    "redwine.sample()"
   ]
  },
  {
   "cell_type": "code",
   "execution_count": 18,
   "id": "b734b40e",
   "metadata": {},
   "outputs": [
    {
     "name": "stdout",
     "output_type": "stream",
     "text": [
      "1/1 [==============================] - 0s 46ms/step\n"
     ]
    },
    {
     "data": {
      "text/plain": [
       "array([7], dtype=int64)"
      ]
     },
     "execution_count": 18,
     "metadata": {},
     "output_type": "execute_result"
    }
   ],
   "source": [
    "input_data = np.array([[10.5, 0.39, 0.46, 2.2, 0.075, 14.0, 27.0, 0.99598, 3.06, 0.84,11.4]])\n",
    "scaled_input_data = scaler.transform(input_data)\n",
    "np.argmax(model.predict(scaled_input_data), axis=1) + 3"
   ]
  },
  {
   "cell_type": "code",
   "execution_count": null,
   "id": "b4180c3c",
   "metadata": {},
   "outputs": [],
   "source": []
  }
 ],
 "metadata": {
  "kernelspec": {
   "display_name": "Python 3 (ipykernel)",
   "language": "python",
   "name": "python3"
  },
  "language_info": {
   "codemirror_mode": {
    "name": "ipython",
    "version": 3
   },
   "file_extension": ".py",
   "mimetype": "text/x-python",
   "name": "python",
   "nbconvert_exporter": "python",
   "pygments_lexer": "ipython3",
   "version": "3.10.9"
  },
  "toc": {
   "base_numbering": 1,
   "nav_menu": {},
   "number_sections": false,
   "sideBar": true,
   "skip_h1_title": false,
   "title_cell": "Table of Contents",
   "title_sidebar": "Contents",
   "toc_cell": false,
   "toc_position": {},
   "toc_section_display": true,
   "toc_window_display": false
  }
 },
 "nbformat": 4,
 "nbformat_minor": 5
}
