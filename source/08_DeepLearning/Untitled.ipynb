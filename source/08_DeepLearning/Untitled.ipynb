{
 "cells": [
  {
   "cell_type": "code",
   "execution_count": 1,
   "id": "6460bc00",
   "metadata": {},
   "outputs": [
    {
     "data": {
      "text/html": [
       "\n",
       "<style>\n",
       "div.container{width:99% !important;}\n",
       "div.cell.code_cell.rendered{width:90%;}\n",
       "div.CodeMirror {font-family:Consolas; font-size:18pt;}\n",
       "div.output {font-size:19pt; font-weight:bold;}\n",
       "div.input {font-family:Consolas; font-size:19pt;}\n",
       "div.prompt {min-width:70px;}\n",
       "div#toc-wrapper{padding-top:120px;}\n",
       "span.toc-item-num{display:none;}\n",
       "div.text_cell_render ul li{font-size:16pt;padding:5px;}\n",
       "div.CodeMirror-lines > div {padding-left:10px;}\n",
       "table.dataframe{font-size:13px;}\n",
       "</style>\n"
      ],
      "text/plain": [
       "<IPython.core.display.HTML object>"
      ]
     },
     "metadata": {},
     "output_type": "display_data"
    }
   ],
   "source": [
    "from IPython.display import display, HTML\n",
    "display(HTML(\"\"\"\n",
    "<style>\n",
    "div.container{width:99% !important;}\n",
    "div.cell.code_cell.rendered{width:90%;}\n",
    "div.CodeMirror {font-family:Consolas; font-size:18pt;}\n",
    "div.output {font-size:19pt; font-weight:bold;}\n",
    "div.input {font-family:Consolas; font-size:19pt;}\n",
    "div.prompt {min-width:70px;}\n",
    "div#toc-wrapper{padding-top:120px;}\n",
    "span.toc-item-num{display:none;}\n",
    "div.text_cell_render ul li{font-size:16pt;padding:5px;}\n",
    "div.CodeMirror-lines > div {padding-left:10px;}\n",
    "table.dataframe{font-size:13px;}\n",
    "</style>\n",
    "\"\"\"))"
   ]
  },
  {
   "cell_type": "markdown",
   "id": "bb95224c",
   "metadata": {},
   "source": [
    "# 1. 기존의 프로그램 방식\n",
    "\n",
    "- 회귀분석(linear regression) 설명 사이트 : https://gbhat.com/machine_learning/linear_regression.html\n",
    "- 오차함수 : MSE(오차제곱평균), RMSE(루트를 취하기 때문에 MSE의 단점이 어느정도 해소. 이상치에 덜 민감), MAE(mean absolute erro error ; 절대값평균)  \n",
    "-\n",
    "https://jysden.medium.com/%EC%96%B8%EC%A0%9C-mse-mae-rmse%EB%A5%BC-%EC%82%AC%EC%9A%A9%ED%95%98%EB%8A%94%EA%B0%80-c473bd831c62\n",
    "\n",
    "![image](https://miro.medium.com/v2/resize:fit:720/format:webp/1*XRXgMqrr5rq-V1rW7SkrtA.png)\n",
    "\n",
    "- 경사하강법 설명\n",
    "    - https://www.mql5.com/ko/articles/11200\n"
   ]
  },
  {
   "cell_type": "code",
   "execution_count": 2,
   "id": "763f25cb",
   "metadata": {},
   "outputs": [],
   "source": [
    "import numpy as np\n",
    "import matplotlib.pyplot as plt"
   ]
  },
  {
   "cell_type": "code",
   "execution_count": 3,
   "id": "8b376d88",
   "metadata": {},
   "outputs": [],
   "source": [
    "# 섭씨온도(input_data)를 받아 화씨온도로 출력\n",
    "def celsisu_to_faherenheit(c):\n",
    "    return c * 1.8 + 32"
   ]
  },
  {
   "cell_type": "code",
   "execution_count": 4,
   "id": "d00ff675",
   "metadata": {},
   "outputs": [
    {
     "name": "stdout",
     "output_type": "stream",
     "text": [
      "섭씨온도는 ?0\n",
      "화씨 온도는 32.0\n"
     ]
    }
   ],
   "source": [
    "input_c = int(input('섭씨온도는 ?'))\n",
    "print('화씨 온도는', celsisu_to_faherenheit(input_c))"
   ]
  },
  {
   "cell_type": "markdown",
   "id": "9b5d2e51",
   "metadata": {},
   "source": [
    "# 2. 머신러닝 프로그램 방식\n",
    "- 1. 데이터 확보 및 생성(inputdata, outputdata)\n",
    "- 2. 데이터 전처리 (결측치, 스케일조정, 훈련데이터셋과 검증데이터셋, 시험데이터셋으로 분류....)\n",
    "- 3. 모델 구성\n",
    "- 4. 모델 학습 과정 설정(손실함수, 옵티마이저, 평가지표)\n",
    "- 5. 모델 학습시키기\n",
    "- 6. 모델 평가(시험데이터셋으로)\n",
    "- 7. 모델 사용(모델 저장 후, 저장된 모델을 이용하여, 입력값이 주어지면 예측값 받기)\n",
    "\n",
    "## 2.1 노이즈가 없는 데이터로 실습"
   ]
  },
  {
   "cell_type": "code",
   "execution_count": 5,
   "id": "304f213a",
   "metadata": {},
   "outputs": [
    {
     "data": {
      "text/plain": [
       "array([ 0,  1,  2,  3,  4,  5,  6,  7,  8,  9, 10, 11, 12, 13, 14, 15, 16,\n",
       "       17, 18, 19, 20, 21, 22, 23, 24, 25, 26, 27, 28, 29, 30, 31, 32, 33,\n",
       "       34, 35, 36, 37, 38, 39, 40, 41, 42, 43, 44, 45, 46, 47, 48, 49, 50,\n",
       "       51, 52, 53, 54, 55, 56, 57, 58, 59, 60, 61, 62, 63, 64, 65, 66, 67,\n",
       "       68, 69, 70, 71, 72, 73, 74, 75, 76, 77, 78, 79, 80, 81, 82, 83, 84,\n",
       "       85, 86, 87, 88, 89, 90, 91, 92, 93, 94, 95, 96, 97, 98, 99])"
      ]
     },
     "execution_count": 5,
     "metadata": {},
     "output_type": "execute_result"
    }
   ],
   "source": [
    "# 1. 데이터 생성\n",
    "data_c = np.arange(100)\n",
    "data_c # 독립변수 (input_data)"
   ]
  },
  {
   "cell_type": "code",
   "execution_count": 6,
   "id": "e01b2d22",
   "metadata": {},
   "outputs": [
    {
     "data": {
      "text/plain": [
       "array([ 32. ,  33.8,  35.6,  37.4,  39.2,  41. ,  42.8,  44.6,  46.4,\n",
       "        48.2,  50. ,  51.8,  53.6,  55.4,  57.2,  59. ,  60.8,  62.6,\n",
       "        64.4,  66.2,  68. ,  69.8,  71.6,  73.4,  75.2,  77. ,  78.8,\n",
       "        80.6,  82.4,  84.2,  86. ,  87.8,  89.6,  91.4,  93.2,  95. ,\n",
       "        96.8,  98.6, 100.4, 102.2, 104. , 105.8, 107.6, 109.4, 111.2,\n",
       "       113. , 114.8, 116.6, 118.4, 120.2, 122. , 123.8, 125.6, 127.4,\n",
       "       129.2, 131. , 132.8, 134.6, 136.4, 138.2, 140. , 141.8, 143.6,\n",
       "       145.4, 147.2, 149. , 150.8, 152.6, 154.4, 156.2, 158. , 159.8,\n",
       "       161.6, 163.4, 165.2, 167. , 168.8, 170.6, 172.4, 174.2, 176. ,\n",
       "       177.8, 179.6, 181.4, 183.2, 185. , 186.8, 188.6, 190.4, 192.2,\n",
       "       194. , 195.8, 197.6, 199.4, 201.2, 203. , 204.8, 206.6, 208.4,\n",
       "       210.2])"
      ]
     },
     "execution_count": 6,
     "metadata": {},
     "output_type": "execute_result"
    }
   ],
   "source": [
    "data_f = celsisu_to_faherenheit(data_c)\n",
    "data_f # 종속변수(타겟변수, output_data)"
   ]
  },
  {
   "cell_type": "code",
   "execution_count": 9,
   "id": "a10fafb1",
   "metadata": {},
   "outputs": [],
   "source": [
    "# 2. 데이터 전처리 : 컴퓨터에게 학습시키기 위해서 스케일을 맞춤(전체의 편차를 비슷하게)\n",
    "scaled_data_c = data_c/100\n",
    "scaled_data_f = data_f/100"
   ]
  },
  {
   "cell_type": "code",
   "execution_count": 10,
   "id": "6378290f",
   "metadata": {},
   "outputs": [
    {
     "name": "stdout",
     "output_type": "stream",
     "text": [
      "2.10.0\n"
     ]
    },
    {
     "data": {
      "text/plain": [
       "[PhysicalDevice(name='/physical_device:GPU:0', device_type='GPU')]"
      ]
     },
     "execution_count": 10,
     "metadata": {},
     "output_type": "execute_result"
    }
   ],
   "source": [
    "# GPU 사용 여부 확인\n",
    "import tensorflow as tf\n",
    "print(tf.__version__)\n",
    "tf.config.list_physical_devices('GPU')"
   ]
  },
  {
   "cell_type": "code",
   "execution_count": 11,
   "id": "1dd7e78b",
   "metadata": {},
   "outputs": [],
   "source": [
    "# 3. 모델 구성\n",
    "# pip install tensorflow==2.10\n",
    "from tensorflow.keras.models import Sequential # 모델 생성\n",
    "from tensorflow.keras.layers import Dense      # 입력값과 출력값으로 layer 층 지정\n",
    "\n",
    "model = Sequential()\n",
    "# model.add(Input(shape=1))\n",
    "model.add(Dense(1,   # 종속(타켓, 출력)변수의 갯수\n",
    "               input_shape=(1,) # 독립(입력)변수의 shape\n",
    "               )) # 모델에 layer를 추가"
   ]
  },
  {
   "cell_type": "code",
   "execution_count": null,
   "id": "9bea8dc3",
   "metadata": {},
   "outputs": [],
   "source": [
    "# 4. 모델 학습과정 설정(손실함수, 옵티마이저, 평가지표)"
   ]
  },
  {
   "cell_type": "code",
   "execution_count": null,
   "id": "dc1232cb",
   "metadata": {},
   "outputs": [],
   "source": []
  },
  {
   "cell_type": "code",
   "execution_count": null,
   "id": "8f0155e1",
   "metadata": {},
   "outputs": [],
   "source": []
  },
  {
   "cell_type": "code",
   "execution_count": null,
   "id": "e50b3fe0",
   "metadata": {},
   "outputs": [],
   "source": []
  },
  {
   "cell_type": "code",
   "execution_count": null,
   "id": "216fd520",
   "metadata": {},
   "outputs": [],
   "source": []
  },
  {
   "cell_type": "code",
   "execution_count": null,
   "id": "c82efe94",
   "metadata": {},
   "outputs": [],
   "source": []
  }
 ],
 "metadata": {
  "kernelspec": {
   "display_name": "Python 3 (ipykernel)",
   "language": "python",
   "name": "python3"
  },
  "language_info": {
   "codemirror_mode": {
    "name": "ipython",
    "version": 3
   },
   "file_extension": ".py",
   "mimetype": "text/x-python",
   "name": "python",
   "nbconvert_exporter": "python",
   "pygments_lexer": "ipython3",
   "version": "3.10.9"
  },
  "toc": {
   "base_numbering": 1,
   "nav_menu": {},
   "number_sections": false,
   "sideBar": true,
   "skip_h1_title": false,
   "title_cell": "Table of Contents",
   "title_sidebar": "Contents",
   "toc_cell": false,
   "toc_position": {
    "height": "calc(100% - 180px)",
    "left": "10px",
    "top": "150px",
    "width": "165px"
   },
   "toc_section_display": true,
   "toc_window_display": true
  }
 },
 "nbformat": 4,
 "nbformat_minor": 5
}
