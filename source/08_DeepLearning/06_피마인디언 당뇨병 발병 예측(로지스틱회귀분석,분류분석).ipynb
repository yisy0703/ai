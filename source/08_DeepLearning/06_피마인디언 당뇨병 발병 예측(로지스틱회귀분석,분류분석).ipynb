{
 "cells": [
  {
   "cell_type": "code",
   "execution_count": 1,
   "id": "9c59b414",
   "metadata": {},
   "outputs": [
    {
     "data": {
      "text/html": [
       "\n",
       "<style>\n",
       "div.container{width:99% !important;}\n",
       "div.cell.code_cell.rendered{width:90%;}\n",
       "div.CodeMirror {font-family:Consolas; font-size:20pt;}\n",
       "div.output {font-size:20pt; font-weight:bold;}\n",
       "div.input {font-family:Consolas; font-size:19pt;}\n",
       "div.prompt {min-width:70px;}\n",
       "div#toc-wrapper{padding-top:120px;}\n",
       "span.toc-item-num{display:none;}\n",
       "div.text_cell_render ul li{font-size:16pt;padding:5px;}\n",
       "div.CodeMirror-lines > div {padding-left:10px;}\n",
       "table.dataframe{font-size:19px;}\n",
       "</style>\n"
      ],
      "text/plain": [
       "<IPython.core.display.HTML object>"
      ]
     },
     "metadata": {},
     "output_type": "display_data"
    }
   ],
   "source": [
    "from IPython.display import display, HTML\n",
    "display(HTML(\"\"\"\n",
    "<style>\n",
    "div.container{width:99% !important;}\n",
    "div.cell.code_cell.rendered{width:90%;}\n",
    "div.CodeMirror {font-family:Consolas; font-size:20pt;}\n",
    "div.output {font-size:20pt; font-weight:bold;}\n",
    "div.input {font-family:Consolas; font-size:19pt;}\n",
    "div.prompt {min-width:70px;}\n",
    "div#toc-wrapper{padding-top:120px;}\n",
    "span.toc-item-num{display:none;}\n",
    "div.text_cell_render ul li{font-size:16pt;padding:5px;}\n",
    "div.CodeMirror-lines > div {padding-left:10px;}\n",
    "table.dataframe{font-size:19px;}\n",
    "</style>\n",
    "\"\"\"))"
   ]
  },
  {
   "cell_type": "code",
   "execution_count": 1,
   "id": "4619c606",
   "metadata": {},
   "outputs": [],
   "source": [
    "import numpy as np\n",
    "import pandas as pd\n",
    "import sys\n",
    "from tensorflow.keras import utils # utils.to_categorical\n",
    "from tensorflow.keras.models import Sequential # 모델생성\n",
    "from tensorflow.keras.layers import Dense, Input\n",
    "import matplotlib.pyplot as plt"
   ]
  },
  {
   "cell_type": "markdown",
   "id": "b67d6983",
   "metadata": {},
   "source": [
    "# 로지스틱회귀분석(이진분류)\n",
    "## 1. 데이터셋 생성 & 전처리"
   ]
  },
  {
   "cell_type": "code",
   "execution_count": 11,
   "id": "32dfa46b",
   "metadata": {},
   "outputs": [
    {
     "data": {
      "text/plain": [
       "array([[  6.   , 148.   ,  72.   ,  35.   ,   0.   ,  33.6  ,   0.627,\n",
       "         50.   ,   1.   ],\n",
       "       [  1.   ,  85.   ,  66.   ,  29.   ,   0.   ,  26.6  ,   0.351,\n",
       "         31.   ,   0.   ]])"
      ]
     },
     "execution_count": 11,
     "metadata": {},
     "output_type": "execute_result"
    }
   ],
   "source": [
    "df = pd.read_csv('data/pima-indians-diabetes.csv', comment='#', header=None)\n",
    "df.values[:2]\n",
    "# 결측치 없으므로, csv파일을 바로 넘파이 배열로 읽어올 예정"
   ]
  },
  {
   "cell_type": "code",
   "execution_count": 9,
   "id": "0e6beae6",
   "metadata": {},
   "outputs": [],
   "source": [
    "# np.set_printoptions(threshold=sys.maxsize)"
   ]
  },
  {
   "cell_type": "code",
   "execution_count": null,
   "id": "fc0151d9",
   "metadata": {},
   "outputs": [],
   "source": [
    "# 1. 임신횟수\n",
    "# 2. 2시간내 포도당 농도\n",
    "# 3. 혈압\n",
    "# 4. 피부접힘 두께\n",
    "# 5. 인슐린수치\n",
    "# 6. BMI체질량지수\n",
    "# 7. 가족력\n",
    "# 8. 나이\n",
    "# 9. 당뇨병발병여부"
   ]
  },
  {
   "cell_type": "code",
   "execution_count": 2,
   "id": "3b070ff6",
   "metadata": {},
   "outputs": [
    {
     "data": {
      "text/plain": [
       "(768, 9)"
      ]
     },
     "execution_count": 2,
     "metadata": {},
     "output_type": "execute_result"
    }
   ],
   "source": [
    "# csv파일을 numpy 배열로 읽어오기 np.loadtxt(), np.genfromtxt() #이 있는 행은 제외하여 읽어옴\n",
    "dataset = np.loadtxt('data/pima-indians-diabetes.csv', delimiter=',')\n",
    "dataset.shape"
   ]
  },
  {
   "cell_type": "code",
   "execution_count": 7,
   "id": "0c6e5e28",
   "metadata": {},
   "outputs": [
    {
     "data": {
      "text/plain": [
       "((700, 8), (700,), (68, 8), (68,))"
      ]
     },
     "execution_count": 7,
     "metadata": {},
     "output_type": "execute_result"
    }
   ],
   "source": [
    "# 학습데이터셋(학습용 데이터:train dataset) : 모델 학습시 사용\n",
    "X_train = dataset[:700, :-1]\n",
    "y_train = dataset[:700, -1]\n",
    "# 테스트데이터셋(시험용 데이터:test dataset) : 모델 평가시 사용\n",
    "X_test = dataset[700:, :-1]\n",
    "y_test = dataset[700:, -1]\n",
    "X_train.shape, y_train.shape, X_test.shape, y_test.shape"
   ]
  },
  {
   "cell_type": "markdown",
   "id": "99e7ebaa",
   "metadata": {},
   "source": [
    "## 2. 모델 구성"
   ]
  },
  {
   "cell_type": "code",
   "execution_count": 30,
   "id": "b09fb69e",
   "metadata": {},
   "outputs": [
    {
     "name": "stdout",
     "output_type": "stream",
     "text": [
      "Model: \"sequential_6\"\n",
      "_________________________________________________________________\n",
      " Layer (type)                Output Shape              Param #   \n",
      "=================================================================\n",
      " dense_19 (Dense)            (None, 12)                108       \n",
      "                                                                 \n",
      " dense_20 (Dense)            (None, 8)                 104       \n",
      "                                                                 \n",
      " dense_21 (Dense)            (None, 1)                 9         \n",
      "                                                                 \n",
      "=================================================================\n",
      "Total params: 221\n",
      "Trainable params: 221\n",
      "Non-trainable params: 0\n",
      "_________________________________________________________________\n"
     ]
    }
   ],
   "source": [
    "model = Sequential()\n",
    "model.add(Input(shape=(8,)))\n",
    "model.add(Dense(units=12, activation='relu'))\n",
    "model.add(Dense(units=8, activation='relu'))\n",
    "model.add(Dense(units=1, activation='sigmoid'))\n",
    "model.summary()"
   ]
  },
  {
   "cell_type": "markdown",
   "id": "1f1906b1",
   "metadata": {},
   "source": [
    "## 3. 학습과정 설정"
   ]
  },
  {
   "cell_type": "code",
   "execution_count": 31,
   "id": "a12ddc79",
   "metadata": {},
   "outputs": [],
   "source": [
    "# model.compile(loss='binary_crossentropy', optimizer='adam', metrics=['accuracy'])\n",
    "model.compile(loss='binary_crossentropy', optimizer='adam', metrics=['binary_accuracy'])"
   ]
  },
  {
   "cell_type": "markdown",
   "id": "48c20d40",
   "metadata": {},
   "source": [
    "## 4. 학습"
   ]
  },
  {
   "cell_type": "code",
   "execution_count": 32,
   "id": "ceb9bdac",
   "metadata": {},
   "outputs": [],
   "source": [
    "hist = model.fit(X_train, y_train, # 훈련데이터\n",
    "                 epochs=200,\n",
    "                 # batch_size=350,\n",
    "                 # validation_split=0.2 # 검증 데이터 비율(훈련데이터셋 중 20%를 검증용 데이터로)\n",
    "                 verbose=0\n",
    "                )"
   ]
  },
  {
   "cell_type": "markdown",
   "id": "28a8da35",
   "metadata": {},
   "source": [
    "## 5. 모델 평가하기(학습과정보기, 평가)"
   ]
  },
  {
   "cell_type": "code",
   "execution_count": 22,
   "id": "61284084",
   "metadata": {},
   "outputs": [
    {
     "data": {
      "text/plain": [
       "dict_keys(['loss', 'binary_accuracy'])"
      ]
     },
     "execution_count": 22,
     "metadata": {},
     "output_type": "execute_result"
    }
   ],
   "source": [
    "hist.history.keys()"
   ]
  },
  {
   "cell_type": "code",
   "execution_count": 33,
   "id": "ac5c1c06",
   "metadata": {},
   "outputs": [
    {
     "data": {
      "image/png": "[encoded data removed]",
      "text/plain": [
       "<Figure size 1000x500 with 2 Axes>"
      ]
     },
     "metadata": {},
     "output_type": "display_data"
    }
   ],
   "source": [
    "# 학습과정 표시하기(validation dataset 없는 경우)\n",
    "fig, loss_ax = plt.subplots(figsize=(10,5))\n",
    "loss_ax.plot(hist.history['loss'], 'r', label='train loss')\n",
    "loss_ax.set_xlabel('epoch')\n",
    "loss_ax.set_ylabel('loss')\n",
    "acc_ax = loss_ax.twinx()\n",
    "acc_ax.plot(hist.history['binary_accuracy'], 'b', label='train accuracy')\n",
    "acc_ax.set_ylabel('accuracy')\n",
    "loss_ax.legend(loc='center right')\n",
    "acc_ax.legend(bbox_to_anchor=(0.999, 0.65))\n",
    "plt.show()"
   ]
  },
  {
   "cell_type": "code",
   "execution_count": 34,
   "id": "8006ec56",
   "metadata": {},
   "outputs": [
    {
     "name": "stdout",
     "output_type": "stream",
     "text": [
      "22/22 [==============================] - 0s 3ms/step - loss: 0.4889 - binary_accuracy: 0.7771\n"
     ]
    },
    {
     "data": {
      "text/plain": [
       "[0.4889054596424103, 0.7771428823471069]"
      ]
     },
     "execution_count": 34,
     "metadata": {},
     "output_type": "execute_result"
    }
   ],
   "source": [
    "# 모델 평가(X)\n",
    "model.evaluate(X_train, y_train)"
   ]
  },
  {
   "cell_type": "code",
   "execution_count": 35,
   "id": "35210744",
   "metadata": {},
   "outputs": [
    {
     "name": "stdout",
     "output_type": "stream",
     "text": [
      "3/3 [==============================] - 0s 3ms/step - loss: 0.6064 - binary_accuracy: 0.7941\n",
      "loss : 0.6064150929450989, 정확도 : 79.41176295280457%\n"
     ]
    }
   ],
   "source": [
    "# 모델 평가(o)\n",
    "score = model.evaluate(X_test, y_test)\n",
    "print(\"loss : {}, 정확도 : {}%\".format(score[0], score[1]*100))"
   ]
  },
  {
   "cell_type": "markdown",
   "id": "43b9f69e",
   "metadata": {},
   "source": [
    "## 6. 모델 사용하기"
   ]
  },
  {
   "cell_type": "code",
   "execution_count": 45,
   "id": "db0a04ab",
   "metadata": {},
   "outputs": [
    {
     "data": {
      "text/plain": [
       "(array([  4.   , 110.   ,  92.   ,   0.   ,   0.   ,  37.6  ,   0.191,\n",
       "         30.   ]),\n",
       " 0.0)"
      ]
     },
     "execution_count": 45,
     "metadata": {},
     "output_type": "execute_result"
    }
   ],
   "source": [
    "X_train[10], y_train[10]"
   ]
  },
  {
   "cell_type": "code",
   "execution_count": 39,
   "id": "1dbd949e",
   "metadata": {},
   "outputs": [
    {
     "name": "stdout",
     "output_type": "stream",
     "text": [
      "1/1 [==============================] - 0s 31ms/step\n"
     ]
    },
    {
     "data": {
      "text/plain": [
       "array([[0.76793426]], dtype=float32)"
      ]
     },
     "execution_count": 39,
     "metadata": {},
     "output_type": "execute_result"
    }
   ],
   "source": [
    "model.predict([[6, 148, 72, 35, 0, 33.6, 0.6, 50]])"
   ]
  },
  {
   "cell_type": "code",
   "execution_count": 46,
   "id": "188a8a0f",
   "metadata": {},
   "outputs": [
    {
     "name": "stdout",
     "output_type": "stream",
     "text": [
      "1/1 [==============================] - 0s 31ms/step\n"
     ]
    },
    {
     "data": {
      "text/plain": [
       "array([[0],\n",
       "       [1]])"
      ]
     },
     "execution_count": 46,
     "metadata": {},
     "output_type": "execute_result"
    }
   ],
   "source": [
    "(model.predict([[4, 110, 92, 0, 0, 37.6, 0.191, 30],\n",
    "                   [6, 148, 72, 35, 0, 33.6, 0.6, 45]]) > 0.5).astype(int)"
   ]
  },
  {
   "cell_type": "markdown",
   "id": "044d5ecf",
   "metadata": {},
   "source": [
    "## 7. 교차표\n",
    "- 테스트 데이터셋의 실제값(y_test)과 예측값"
   ]
  },
  {
   "cell_type": "code",
   "execution_count": 54,
   "id": "667b91fe",
   "metadata": {},
   "outputs": [
    {
     "name": "stdout",
     "output_type": "stream",
     "text": [
      "3/3 [==============================] - 0s 2ms/step\n",
      "17 10\n",
      "4 37\n"
     ]
    }
   ],
   "source": [
    "y_hat = (model.predict(X_test)>0.5).astype(float)\n",
    "cnt1=0; cnt2=0; cnt3=0; cnt4=0\n",
    "# y_hat.shape, y_test.shape\n",
    "for h, y in zip(y_hat.reshape(-1), y_test.reshape(-1)):\n",
    "    if h==1.0 and y==1.0:\n",
    "        cnt1 += 1\n",
    "    elif y==1.0 and h==0.0:\n",
    "        cnt2 += 1\n",
    "    elif y==0.0 and h==1.0:\n",
    "        cnt3 += 1\n",
    "    else:\n",
    "        cnt4 += 1\n",
    "print(cnt1, cnt2)\n",
    "print(cnt3, cnt4)"
   ]
  },
  {
   "cell_type": "code",
   "execution_count": 60,
   "id": "685801a7",
   "metadata": {},
   "outputs": [
    {
     "data": {
      "text/html": [
       "<div>\n",
       "<style scoped>\n",
       "    .dataframe tbody tr th:only-of-type {\n",
       "        vertical-align: middle;\n",
       "    }\n",
       "\n",
       "    .dataframe tbody tr th {\n",
       "        vertical-align: top;\n",
       "    }\n",
       "\n",
       "    .dataframe thead th {\n",
       "        text-align: right;\n",
       "    }\n",
       "</style>\n",
       "<table border=\"1\" class=\"dataframe\">\n",
       "  <thead>\n",
       "    <tr style=\"text-align: right;\">\n",
       "      <th>예측값</th>\n",
       "      <th>0.0</th>\n",
       "      <th>1.0</th>\n",
       "    </tr>\n",
       "    <tr>\n",
       "      <th>실제값</th>\n",
       "      <th></th>\n",
       "      <th></th>\n",
       "    </tr>\n",
       "  </thead>\n",
       "  <tbody>\n",
       "    <tr>\n",
       "      <th>0.0</th>\n",
       "      <td>37</td>\n",
       "      <td>4</td>\n",
       "    </tr>\n",
       "    <tr>\n",
       "      <th>1.0</th>\n",
       "      <td>10</td>\n",
       "      <td>17</td>\n",
       "    </tr>\n",
       "  </tbody>\n",
       "</table>\n",
       "</div>"
      ],
      "text/plain": [
       "예측값  0.0  1.0\n",
       "실제값          \n",
       "0.0   37    4\n",
       "1.0   10   17"
      ]
     },
     "execution_count": 60,
     "metadata": {},
     "output_type": "execute_result"
    }
   ],
   "source": [
    "ctab = pd.crosstab(y_test, y_hat.reshape(-1))\n",
    "ctab.index.name = '실제값'\n",
    "ctab.columns.name='예측값'\n",
    "ctab"
   ]
  },
  {
   "cell_type": "markdown",
   "id": "58813e3e",
   "metadata": {},
   "source": [
    "# 분류분석\n",
    "```\n",
    "1. 데이터셋 생성 및 전처리 : 훈련셋600, 검증셋100, 테스트셋68으로 분리, 종속변수의 원핫인코딩\n",
    "2. 모델생성(input 8, target 2) : 출력층에서의 활성화함수 'softmax'\n",
    "    * model.summary()에서 파라미터 수 확인\n",
    "3. 모델학습과정 설정 : loss='categorical_crossentropy' metrics=['accuracy']\n",
    "4. 모델 학습 : validation_data=[X_val, Y_val] 추가해서 학습\n",
    "5. 모델 학습 평가 : 그래프(hist.history.keys()를 확인후 4가지)\n",
    "             평가(X_test, Y_test)\n",
    "             교차표(pd.crosstab 이용)\n",
    "6. 모델 사용하기 - 예측\n",
    "              0      1\n",
    "             0.9912  0.00124\n",
    "```"
   ]
  },
  {
   "cell_type": "code",
   "execution_count": 2,
   "id": "7fe7078d",
   "metadata": {},
   "outputs": [],
   "source": [
    "import numpy as np\n",
    "import pandas as pd\n",
    "import sys\n",
    "from tensorflow.keras import utils # utils.to_categorical\n",
    "from tensorflow.keras.models import Sequential # 모델생성\n",
    "from tensorflow.keras.layers import Dense, Input\n",
    "import matplotlib.pyplot as plt"
   ]
  },
  {
   "cell_type": "markdown",
   "id": "76ab5870",
   "metadata": {},
   "source": [
    "## 1. 데이터셋 생성 및 전처리"
   ]
  },
  {
   "cell_type": "code",
   "execution_count": 3,
   "id": "90524e3d",
   "metadata": {},
   "outputs": [
    {
     "data": {
      "text/plain": [
       "(768, 9)"
      ]
     },
     "execution_count": 3,
     "metadata": {},
     "output_type": "execute_result"
    }
   ],
   "source": [
    "dataset = np.loadtxt('data/pima-indians-diabetes.csv', delimiter=',')\n",
    "dataset.shape"
   ]
  },
  {
   "cell_type": "code",
   "execution_count": 4,
   "id": "0e4f5672",
   "metadata": {},
   "outputs": [
    {
     "data": {
      "text/plain": [
       "((600, 8), (600,), (100, 8), (100,), (68, 8), (68,))"
      ]
     },
     "execution_count": 4,
     "metadata": {},
     "output_type": "execute_result"
    }
   ],
   "source": [
    "# 훈련셋600, 검증셋100, 테스트셋68으로 분리\n",
    "X_train = dataset[:600, :-1]\n",
    "y_train = dataset[:600, -1]\n",
    "X_val = dataset[600:700, :-1]\n",
    "y_val = dataset[600:700, -1]\n",
    "X_test = dataset[700:, :-1]\n",
    "y_test = dataset[700:, -1]\n",
    "X_train.shape, y_train.shape, X_val.shape, y_val.shape, X_test.shape, y_test.shape"
   ]
  },
  {
   "cell_type": "code",
   "execution_count": 5,
   "id": "292707b3",
   "metadata": {},
   "outputs": [
    {
     "data": {
      "text/plain": [
       "((600, 8), (600, 2), (100, 8), (100,), (68, 8), (68, 2))"
      ]
     },
     "execution_count": 5,
     "metadata": {},
     "output_type": "execute_result"
    }
   ],
   "source": [
    "# 종속변수의 원핫인코딩\n",
    "Y_train = utils.to_categorical(y_train, 2)\n",
    "Y_val = utils.to_categorical(y_val, 2)\n",
    "Y_test = utils.to_categorical(y_test, 2)\n",
    "X_train.shape, Y_train.shape, X_val.shape, y_val.shape, X_test.shape, Y_test.shape"
   ]
  },
  {
   "cell_type": "code",
   "execution_count": 6,
   "id": "d2328cb2",
   "metadata": {},
   "outputs": [
    {
     "data": {
      "text/plain": [
       "(array([1., 0.]),\n",
       " array([[0., 1.],\n",
       "        [1., 0.]], dtype=float32))"
      ]
     },
     "execution_count": 6,
     "metadata": {},
     "output_type": "execute_result"
    }
   ],
   "source": [
    "y_train[:2], Y_train[:2]"
   ]
  },
  {
   "cell_type": "code",
   "execution_count": 8,
   "id": "e35d6423",
   "metadata": {},
   "outputs": [
    {
     "data": {
      "text/plain": [
       "array([[1., 0., 1.],\n",
       "       [0., 1., 0.]])"
      ]
     },
     "execution_count": 8,
     "metadata": {},
     "output_type": "execute_result"
    }
   ],
   "source": [
    "np.c_[y_train[:2], Y_train[:2]]"
   ]
  },
  {
   "cell_type": "markdown",
   "id": "3e775b68",
   "metadata": {},
   "source": [
    "## 2. 모델생성(input 8, target 2) "
   ]
  },
  {
   "cell_type": "code",
   "execution_count": 7,
   "id": "da132fd7",
   "metadata": {},
   "outputs": [
    {
     "name": "stdout",
     "output_type": "stream",
     "text": [
      "Model: \"sequential\"\n",
      "_________________________________________________________________\n",
      " Layer (type)                Output Shape              Param #   \n",
      "=================================================================\n",
      " dense (Dense)               (None, 12)                108       \n",
      "                                                                 \n",
      " dense_1 (Dense)             (None, 8)                 104       \n",
      "                                                                 \n",
      " dense_2 (Dense)             (None, 2)                 18        \n",
      "                                                                 \n",
      "=================================================================\n",
      "Total params: 230\n",
      "Trainable params: 230\n",
      "Non-trainable params: 0\n",
      "_________________________________________________________________\n"
     ]
    }
   ],
   "source": [
    "model = Sequential()\n",
    "model.add(Input(shape=(8,)))\n",
    "model.add(Dense(units=12, activation='relu'))\n",
    "model.add(Dense(units=8, activation='relu'))\n",
    "model.add(Dense(units=2, activation='softmax'))\n",
    "model.summary()"
   ]
  },
  {
   "cell_type": "markdown",
   "id": "697ea70a",
   "metadata": {},
   "source": [
    "## 3. 학습과정 설정"
   ]
  },
  {
   "cell_type": "code",
   "execution_count": 8,
   "id": "dd54d027",
   "metadata": {},
   "outputs": [],
   "source": [
    "model.compile(loss='categorical_crossentropy', optimizer='nadam', metrics=['accuracy'])"
   ]
  },
  {
   "cell_type": "markdown",
   "id": "7617dc93",
   "metadata": {},
   "source": [
    "## 4. 모델 학습"
   ]
  },
  {
   "cell_type": "code",
   "execution_count": 9,
   "id": "294f956e",
   "metadata": {},
   "outputs": [
    {
     "name": "stdout",
     "output_type": "stream",
     "text": [
      "Epoch 1/300\n",
      "19/19 [==============================] - 1s 17ms/step - loss: 3.1904 - accuracy: 0.5350 - val_loss: 2.0029 - val_accuracy: 0.6300\n",
      "Epoch 2/300\n",
      "19/19 [==============================] - 0s 9ms/step - loss: 1.9557 - accuracy: 0.6367 - val_loss: 1.6056 - val_accuracy: 0.7000\n",
      "Epoch 3/300\n",
      "19/19 [==============================] - 0s 9ms/step - loss: 1.6539 - accuracy: 0.6400 - val_loss: 1.4215 - val_accuracy: 0.7300\n",
      "Epoch 4/300\n",
      "19/19 [==============================] - 0s 8ms/step - loss: 1.5212 - accuracy: 0.6400 - val_loss: 1.2917 - val_accuracy: 0.7200\n",
      "Epoch 5/300\n",
      "19/19 [==============================] - 0s 9ms/step - loss: 1.4619 - accuracy: 0.6517 - val_loss: 1.1931 - val_accuracy: 0.7200\n",
      "Epoch 6/300\n",
      "19/19 [==============================] - 0s 8ms/step - loss: 1.3512 - accuracy: 0.6650 - val_loss: 1.1388 - val_accuracy: 0.7100\n",
      "Epoch 7/300\n",
      "19/19 [==============================] - 0s 8ms/step - loss: 1.2871 - accuracy: 0.6483 - val_loss: 1.0940 - val_accuracy: 0.7100\n",
      "Epoch 8/300\n",
      "19/19 [==============================] - 0s 8ms/step - loss: 1.2268 - accuracy: 0.6500 - val_loss: 1.0655 - val_accuracy: 0.7100\n",
      "Epoch 9/300\n",
      "19/19 [==============================] - 0s 8ms/step - loss: 1.1723 - accuracy: 0.6767 - val_loss: 1.0663 - val_accuracy: 0.7000\n",
      "Epoch 10/300\n",
      "19/19 [==============================] - 0s 8ms/step - loss: 1.1183 - accuracy: 0.6650 - val_loss: 1.0061 - val_accuracy: 0.7000\n",
      "Epoch 11/300\n",
      "19/19 [==============================] - 0s 8ms/step - loss: 1.0935 - accuracy: 0.6717 - val_loss: 0.9714 - val_accuracy: 0.6800\n",
      "Epoch 12/300\n",
      "19/19 [==============================] - 0s 8ms/step - loss: 1.0603 - accuracy: 0.6733 - val_loss: 1.0031 - val_accuracy: 0.7100\n",
      "Epoch 13/300\n",
      "19/19 [==============================] - 0s 8ms/step - loss: 1.0398 - accuracy: 0.6750 - val_loss: 0.9430 - val_accuracy: 0.7100\n",
      "Epoch 14/300\n",
      "19/19 [==============================] - 0s 8ms/step - loss: 1.0014 - accuracy: 0.6667 - val_loss: 0.9081 - val_accuracy: 0.6900\n",
      "Epoch 15/300\n",
      "19/19 [==============================] - 0s 8ms/step - loss: 0.9754 - accuracy: 0.6650 - val_loss: 0.9269 - val_accuracy: 0.7000\n",
      "Epoch 16/300\n",
      "19/19 [==============================] - 0s 8ms/step - loss: 0.9568 - accuracy: 0.6500 - val_loss: 0.9577 - val_accuracy: 0.7200\n",
      "Epoch 17/300\n",
      "19/19 [==============================] - 0s 8ms/step - loss: 0.9349 - accuracy: 0.6667 - val_loss: 0.9339 - val_accuracy: 0.7200\n",
      "Epoch 18/300\n",
      "19/19 [==============================] - 0s 8ms/step - loss: 0.9045 - accuracy: 0.6733 - val_loss: 0.8753 - val_accuracy: 0.7000\n",
      "Epoch 19/300\n",
      "19/19 [==============================] - 0s 8ms/step - loss: 0.8814 - accuracy: 0.6817 - val_loss: 0.8641 - val_accuracy: 0.6900\n",
      "Epoch 20/300\n",
      "19/19 [==============================] - 0s 9ms/step - loss: 0.8769 - accuracy: 0.6700 - val_loss: 0.8203 - val_accuracy: 0.6900\n",
      "Epoch 21/300\n",
      "19/19 [==============================] - 0s 9ms/step - loss: 0.8454 - accuracy: 0.6683 - val_loss: 0.8186 - val_accuracy: 0.7000\n",
      "Epoch 22/300\n",
      "19/19 [==============================] - 0s 9ms/step - loss: 0.8342 - accuracy: 0.6700 - val_loss: 0.8638 - val_accuracy: 0.7100\n",
      "Epoch 23/300\n",
      "19/19 [==============================] - 0s 8ms/step - loss: 0.8145 - accuracy: 0.6550 - val_loss: 0.7852 - val_accuracy: 0.6800\n",
      "Epoch 24/300\n",
      "19/19 [==============================] - 0s 9ms/step - loss: 0.8267 - accuracy: 0.6617 - val_loss: 0.7769 - val_accuracy: 0.7000\n",
      "Epoch 25/300\n",
      "19/19 [==============================] - 0s 8ms/step - loss: 0.7848 - accuracy: 0.6667 - val_loss: 0.7840 - val_accuracy: 0.7000\n",
      "Epoch 26/300\n",
      "19/19 [==============================] - 0s 8ms/step - loss: 0.7777 - accuracy: 0.6717 - val_loss: 0.7830 - val_accuracy: 0.6900\n",
      "Epoch 27/300\n",
      "19/19 [==============================] - 0s 8ms/step - loss: 0.7660 - accuracy: 0.6683 - val_loss: 0.7686 - val_accuracy: 0.7000\n",
      "Epoch 28/300\n",
      "19/19 [==============================] - 0s 8ms/step - loss: 0.7645 - accuracy: 0.6767 - val_loss: 0.7287 - val_accuracy: 0.7200\n",
      "Epoch 29/300\n",
      "19/19 [==============================] - 0s 8ms/step - loss: 0.7476 - accuracy: 0.6817 - val_loss: 0.7172 - val_accuracy: 0.6900\n",
      "Epoch 30/300\n",
      "19/19 [==============================] - 0s 8ms/step - loss: 0.7395 - accuracy: 0.6750 - val_loss: 0.7060 - val_accuracy: 0.7200\n",
      "Epoch 31/300\n",
      "19/19 [==============================] - 0s 8ms/step - loss: 0.7170 - accuracy: 0.6750 - val_loss: 0.7478 - val_accuracy: 0.7100\n",
      "Epoch 32/300\n",
      "19/19 [==============================] - 0s 7ms/step - loss: 0.7233 - accuracy: 0.6633 - val_loss: 0.6965 - val_accuracy: 0.7100\n",
      "Epoch 33/300\n",
      "19/19 [==============================] - 0s 8ms/step - loss: 0.7055 - accuracy: 0.6667 - val_loss: 0.6758 - val_accuracy: 0.7100\n",
      "Epoch 34/300\n",
      "19/19 [==============================] - 0s 8ms/step - loss: 0.6847 - accuracy: 0.6783 - val_loss: 0.6698 - val_accuracy: 0.7100\n",
      "Epoch 35/300\n",
      "19/19 [==============================] - 0s 8ms/step - loss: 0.6753 - accuracy: 0.6833 - val_loss: 0.6634 - val_accuracy: 0.7100\n",
      "Epoch 36/300\n",
      "19/19 [==============================] - 0s 7ms/step - loss: 0.6686 - accuracy: 0.6883 - val_loss: 0.6576 - val_accuracy: 0.7100\n",
      "Epoch 37/300\n",
      "19/19 [==============================] - 0s 8ms/step - loss: 0.6630 - accuracy: 0.6817 - val_loss: 0.6860 - val_accuracy: 0.7200\n",
      "Epoch 38/300\n",
      "19/19 [==============================] - 0s 9ms/step - loss: 0.6826 - accuracy: 0.6717 - val_loss: 0.6511 - val_accuracy: 0.7200\n",
      "Epoch 39/300\n",
      "19/19 [==============================] - 0s 8ms/step - loss: 0.6466 - accuracy: 0.6833 - val_loss: 0.6855 - val_accuracy: 0.6700\n",
      "Epoch 40/300\n",
      "19/19 [==============================] - 0s 8ms/step - loss: 0.6426 - accuracy: 0.6950 - val_loss: 0.6474 - val_accuracy: 0.7000\n",
      "Epoch 41/300\n",
      "19/19 [==============================] - 0s 8ms/step - loss: 0.6338 - accuracy: 0.6917 - val_loss: 0.6498 - val_accuracy: 0.7400\n",
      "Epoch 42/300\n",
      "19/19 [==============================] - 0s 8ms/step - loss: 0.6367 - accuracy: 0.6783 - val_loss: 0.6394 - val_accuracy: 0.6900\n",
      "Epoch 43/300\n",
      "19/19 [==============================] - 0s 8ms/step - loss: 0.6304 - accuracy: 0.6817 - val_loss: 0.6414 - val_accuracy: 0.6900\n",
      "Epoch 44/300\n",
      "19/19 [==============================] - 0s 8ms/step - loss: 0.6206 - accuracy: 0.6833 - val_loss: 0.6830 - val_accuracy: 0.7000\n",
      "Epoch 45/300\n",
      "19/19 [==============================] - 0s 8ms/step - loss: 0.6328 - accuracy: 0.6850 - val_loss: 0.6271 - val_accuracy: 0.7100\n",
      "Epoch 46/300\n",
      "19/19 [==============================] - 0s 8ms/step - loss: 0.6053 - accuracy: 0.7017 - val_loss: 0.6459 - val_accuracy: 0.7300\n",
      "Epoch 47/300\n",
      "19/19 [==============================] - 0s 9ms/step - loss: 0.6165 - accuracy: 0.6983 - val_loss: 0.6637 - val_accuracy: 0.7100\n",
      "Epoch 48/300\n",
      "19/19 [==============================] - 0s 9ms/step - loss: 0.6197 - accuracy: 0.7000 - val_loss: 0.6252 - val_accuracy: 0.7300\n",
      "Epoch 49/300\n",
      "19/19 [==============================] - 0s 8ms/step - loss: 0.6079 - accuracy: 0.7050 - val_loss: 0.6181 - val_accuracy: 0.7200\n",
      "Epoch 50/300\n",
      "19/19 [==============================] - 0s 8ms/step - loss: 0.5977 - accuracy: 0.7150 - val_loss: 0.6190 - val_accuracy: 0.7300\n",
      "Epoch 51/300\n",
      "19/19 [==============================] - 0s 9ms/step - loss: 0.6012 - accuracy: 0.7100 - val_loss: 0.6315 - val_accuracy: 0.6700\n",
      "Epoch 52/300\n",
      "19/19 [==============================] - 0s 8ms/step - loss: 0.5985 - accuracy: 0.7017 - val_loss: 0.6483 - val_accuracy: 0.6700\n",
      "Epoch 53/300\n",
      "19/19 [==============================] - 0s 8ms/step - loss: 0.5892 - accuracy: 0.7050 - val_loss: 0.6773 - val_accuracy: 0.6800\n",
      "Epoch 54/300\n",
      "19/19 [==============================] - 0s 8ms/step - loss: 0.5851 - accuracy: 0.7000 - val_loss: 0.6281 - val_accuracy: 0.7100\n",
      "Epoch 55/300\n",
      "19/19 [==============================] - 0s 8ms/step - loss: 0.5920 - accuracy: 0.7033 - val_loss: 0.6804 - val_accuracy: 0.6800\n",
      "Epoch 56/300\n",
      "19/19 [==============================] - 0s 8ms/step - loss: 0.5934 - accuracy: 0.7050 - val_loss: 0.6188 - val_accuracy: 0.6800\n",
      "Epoch 57/300\n",
      "19/19 [==============================] - 0s 8ms/step - loss: 0.5901 - accuracy: 0.7033 - val_loss: 0.6188 - val_accuracy: 0.7100\n",
      "Epoch 58/300\n",
      "19/19 [==============================] - 0s 8ms/step - loss: 0.5813 - accuracy: 0.7217 - val_loss: 0.6056 - val_accuracy: 0.6800\n"
     ]
    },
    {
     "name": "stdout",
     "output_type": "stream",
     "text": [
      "Epoch 59/300\n",
      "19/19 [==============================] - 0s 8ms/step - loss: 0.5837 - accuracy: 0.7033 - val_loss: 0.6045 - val_accuracy: 0.6700\n",
      "Epoch 60/300\n",
      "19/19 [==============================] - 0s 8ms/step - loss: 0.5833 - accuracy: 0.7150 - val_loss: 0.6324 - val_accuracy: 0.6700\n",
      "Epoch 61/300\n",
      "19/19 [==============================] - 0s 8ms/step - loss: 0.5883 - accuracy: 0.7117 - val_loss: 0.5969 - val_accuracy: 0.7300\n",
      "Epoch 62/300\n",
      "19/19 [==============================] - 0s 8ms/step - loss: 0.5755 - accuracy: 0.6983 - val_loss: 0.6386 - val_accuracy: 0.6800\n",
      "Epoch 63/300\n",
      "19/19 [==============================] - 0s 8ms/step - loss: 0.5719 - accuracy: 0.7117 - val_loss: 0.6174 - val_accuracy: 0.6700\n",
      "Epoch 64/300\n",
      "19/19 [==============================] - 0s 8ms/step - loss: 0.5846 - accuracy: 0.7150 - val_loss: 0.5876 - val_accuracy: 0.6900\n",
      "Epoch 65/300\n",
      "19/19 [==============================] - 0s 8ms/step - loss: 0.5845 - accuracy: 0.7233 - val_loss: 0.5953 - val_accuracy: 0.6800\n",
      "Epoch 66/300\n",
      "19/19 [==============================] - 0s 8ms/step - loss: 0.5678 - accuracy: 0.7200 - val_loss: 0.6021 - val_accuracy: 0.7200\n",
      "Epoch 67/300\n",
      "19/19 [==============================] - 0s 8ms/step - loss: 0.5666 - accuracy: 0.7117 - val_loss: 0.6022 - val_accuracy: 0.7200\n",
      "Epoch 68/300\n",
      "19/19 [==============================] - 0s 8ms/step - loss: 0.5683 - accuracy: 0.7200 - val_loss: 0.5923 - val_accuracy: 0.6700\n",
      "Epoch 69/300\n",
      "19/19 [==============================] - 0s 8ms/step - loss: 0.5663 - accuracy: 0.7133 - val_loss: 0.5825 - val_accuracy: 0.6800\n",
      "Epoch 70/300\n",
      "19/19 [==============================] - 0s 8ms/step - loss: 0.5641 - accuracy: 0.7233 - val_loss: 0.6129 - val_accuracy: 0.6800\n",
      "Epoch 71/300\n",
      "19/19 [==============================] - 0s 8ms/step - loss: 0.5706 - accuracy: 0.7250 - val_loss: 0.5817 - val_accuracy: 0.6900\n",
      "Epoch 72/300\n",
      "19/19 [==============================] - 0s 8ms/step - loss: 0.5575 - accuracy: 0.7367 - val_loss: 0.5834 - val_accuracy: 0.7100\n",
      "Epoch 73/300\n",
      "19/19 [==============================] - 0s 8ms/step - loss: 0.5638 - accuracy: 0.7217 - val_loss: 0.5784 - val_accuracy: 0.7100\n",
      "Epoch 74/300\n",
      "19/19 [==============================] - 0s 8ms/step - loss: 0.5519 - accuracy: 0.7367 - val_loss: 0.6023 - val_accuracy: 0.7000\n",
      "Epoch 75/300\n",
      "19/19 [==============================] - 0s 8ms/step - loss: 0.5595 - accuracy: 0.7200 - val_loss: 0.5786 - val_accuracy: 0.7500\n",
      "Epoch 76/300\n",
      "19/19 [==============================] - 0s 8ms/step - loss: 0.5650 - accuracy: 0.7433 - val_loss: 0.5759 - val_accuracy: 0.7000\n",
      "Epoch 77/300\n",
      "19/19 [==============================] - 0s 8ms/step - loss: 0.5569 - accuracy: 0.7383 - val_loss: 0.5738 - val_accuracy: 0.7200\n",
      "Epoch 78/300\n",
      "19/19 [==============================] - 0s 8ms/step - loss: 0.5614 - accuracy: 0.7333 - val_loss: 0.5750 - val_accuracy: 0.7400\n",
      "Epoch 79/300\n",
      "19/19 [==============================] - 0s 8ms/step - loss: 0.5698 - accuracy: 0.7267 - val_loss: 0.5742 - val_accuracy: 0.7100\n",
      "Epoch 80/300\n",
      "19/19 [==============================] - 0s 7ms/step - loss: 0.5575 - accuracy: 0.7250 - val_loss: 0.5806 - val_accuracy: 0.6900\n",
      "Epoch 81/300\n",
      "19/19 [==============================] - 0s 8ms/step - loss: 0.5540 - accuracy: 0.7200 - val_loss: 0.5747 - val_accuracy: 0.7200\n",
      "Epoch 82/300\n",
      "19/19 [==============================] - 0s 8ms/step - loss: 0.5678 - accuracy: 0.7167 - val_loss: 0.5795 - val_accuracy: 0.7000\n",
      "Epoch 83/300\n",
      "19/19 [==============================] - 0s 7ms/step - loss: 0.5614 - accuracy: 0.7317 - val_loss: 0.5691 - val_accuracy: 0.7000\n",
      "Epoch 84/300\n",
      "19/19 [==============================] - 0s 8ms/step - loss: 0.5540 - accuracy: 0.7300 - val_loss: 0.5912 - val_accuracy: 0.7800\n",
      "Epoch 85/300\n",
      "19/19 [==============================] - 0s 8ms/step - loss: 0.5520 - accuracy: 0.7267 - val_loss: 0.5700 - val_accuracy: 0.7100\n",
      "Epoch 86/300\n",
      "19/19 [==============================] - 0s 8ms/step - loss: 0.5583 - accuracy: 0.7217 - val_loss: 0.5738 - val_accuracy: 0.7000\n",
      "Epoch 87/300\n",
      "19/19 [==============================] - 0s 8ms/step - loss: 0.5517 - accuracy: 0.7467 - val_loss: 0.5759 - val_accuracy: 0.7000\n",
      "Epoch 88/300\n",
      "19/19 [==============================] - 0s 8ms/step - loss: 0.5486 - accuracy: 0.7300 - val_loss: 0.5960 - val_accuracy: 0.7000\n",
      "Epoch 89/300\n",
      "19/19 [==============================] - 0s 8ms/step - loss: 0.5530 - accuracy: 0.7367 - val_loss: 0.5651 - val_accuracy: 0.7000\n",
      "Epoch 90/300\n",
      "19/19 [==============================] - 0s 8ms/step - loss: 0.5465 - accuracy: 0.7283 - val_loss: 0.5664 - val_accuracy: 0.7100\n",
      "Epoch 91/300\n",
      "19/19 [==============================] - 0s 8ms/step - loss: 0.5555 - accuracy: 0.7333 - val_loss: 0.5666 - val_accuracy: 0.7500\n",
      "Epoch 92/300\n",
      "19/19 [==============================] - 0s 7ms/step - loss: 0.5518 - accuracy: 0.7317 - val_loss: 0.5647 - val_accuracy: 0.7700\n",
      "Epoch 93/300\n",
      "19/19 [==============================] - 0s 8ms/step - loss: 0.5491 - accuracy: 0.7350 - val_loss: 0.5951 - val_accuracy: 0.7400\n",
      "Epoch 94/300\n",
      "19/19 [==============================] - 0s 8ms/step - loss: 0.5578 - accuracy: 0.7217 - val_loss: 0.5634 - val_accuracy: 0.7300\n",
      "Epoch 95/300\n",
      "19/19 [==============================] - 0s 7ms/step - loss: 0.5532 - accuracy: 0.7500 - val_loss: 0.5738 - val_accuracy: 0.7900\n",
      "Epoch 96/300\n",
      "19/19 [==============================] - 0s 8ms/step - loss: 0.5444 - accuracy: 0.7500 - val_loss: 0.5650 - val_accuracy: 0.7200\n",
      "Epoch 97/300\n",
      "19/19 [==============================] - 0s 9ms/step - loss: 0.5462 - accuracy: 0.7117 - val_loss: 0.5607 - val_accuracy: 0.7500\n",
      "Epoch 98/300\n",
      "19/19 [==============================] - 0s 8ms/step - loss: 0.5428 - accuracy: 0.7283 - val_loss: 0.5659 - val_accuracy: 0.7500\n",
      "Epoch 99/300\n",
      "19/19 [==============================] - 0s 8ms/step - loss: 0.5428 - accuracy: 0.7333 - val_loss: 0.5679 - val_accuracy: 0.7100\n",
      "Epoch 100/300\n",
      "19/19 [==============================] - 0s 7ms/step - loss: 0.5479 - accuracy: 0.7383 - val_loss: 0.5560 - val_accuracy: 0.7400\n",
      "Epoch 101/300\n",
      "19/19 [==============================] - 0s 8ms/step - loss: 0.5458 - accuracy: 0.7367 - val_loss: 0.5786 - val_accuracy: 0.7200\n",
      "Epoch 102/300\n",
      "19/19 [==============================] - 0s 8ms/step - loss: 0.5404 - accuracy: 0.7550 - val_loss: 0.5686 - val_accuracy: 0.7200\n",
      "Epoch 103/300\n",
      "19/19 [==============================] - 0s 7ms/step - loss: 0.5442 - accuracy: 0.7483 - val_loss: 0.5731 - val_accuracy: 0.7100\n",
      "Epoch 104/300\n",
      "19/19 [==============================] - 0s 8ms/step - loss: 0.5417 - accuracy: 0.7367 - val_loss: 0.5575 - val_accuracy: 0.7300\n",
      "Epoch 105/300\n",
      "19/19 [==============================] - 0s 8ms/step - loss: 0.5415 - accuracy: 0.7400 - val_loss: 0.5729 - val_accuracy: 0.7800\n",
      "Epoch 106/300\n",
      "19/19 [==============================] - 0s 8ms/step - loss: 0.5460 - accuracy: 0.7383 - val_loss: 0.5654 - val_accuracy: 0.7100\n",
      "Epoch 107/300\n",
      "19/19 [==============================] - 0s 8ms/step - loss: 0.5428 - accuracy: 0.7467 - val_loss: 0.5541 - val_accuracy: 0.7400\n",
      "Epoch 108/300\n",
      "19/19 [==============================] - 0s 8ms/step - loss: 0.5465 - accuracy: 0.7367 - val_loss: 0.5844 - val_accuracy: 0.7300\n",
      "Epoch 109/300\n",
      "19/19 [==============================] - 0s 8ms/step - loss: 0.5368 - accuracy: 0.7350 - val_loss: 0.5571 - val_accuracy: 0.7900\n",
      "Epoch 110/300\n",
      "19/19 [==============================] - 0s 8ms/step - loss: 0.5390 - accuracy: 0.7400 - val_loss: 0.6216 - val_accuracy: 0.7100\n",
      "Epoch 111/300\n",
      "19/19 [==============================] - 0s 8ms/step - loss: 0.5413 - accuracy: 0.7333 - val_loss: 0.5539 - val_accuracy: 0.7700\n",
      "Epoch 112/300\n",
      "19/19 [==============================] - 0s 8ms/step - loss: 0.5329 - accuracy: 0.7450 - val_loss: 0.5514 - val_accuracy: 0.7800\n",
      "Epoch 113/300\n",
      "19/19 [==============================] - 0s 8ms/step - loss: 0.5457 - accuracy: 0.7283 - val_loss: 0.5653 - val_accuracy: 0.7800\n",
      "Epoch 114/300\n",
      "19/19 [==============================] - 0s 8ms/step - loss: 0.5463 - accuracy: 0.7400 - val_loss: 0.5633 - val_accuracy: 0.7900\n",
      "Epoch 115/300\n",
      "19/19 [==============================] - 0s 8ms/step - loss: 0.5350 - accuracy: 0.7400 - val_loss: 0.6139 - val_accuracy: 0.7200\n",
      "Epoch 116/300\n"
     ]
    },
    {
     "name": "stdout",
     "output_type": "stream",
     "text": [
      "19/19 [==============================] - 0s 8ms/step - loss: 0.5348 - accuracy: 0.7350 - val_loss: 0.5479 - val_accuracy: 0.7900\n",
      "Epoch 117/300\n",
      "19/19 [==============================] - 0s 9ms/step - loss: 0.5348 - accuracy: 0.7550 - val_loss: 0.5498 - val_accuracy: 0.7800\n",
      "Epoch 118/300\n",
      "19/19 [==============================] - 0s 8ms/step - loss: 0.5301 - accuracy: 0.7417 - val_loss: 0.5492 - val_accuracy: 0.7400\n",
      "Epoch 119/300\n",
      "19/19 [==============================] - 0s 8ms/step - loss: 0.5319 - accuracy: 0.7467 - val_loss: 0.5486 - val_accuracy: 0.7800\n",
      "Epoch 120/300\n",
      "19/19 [==============================] - 0s 8ms/step - loss: 0.5417 - accuracy: 0.7367 - val_loss: 0.5462 - val_accuracy: 0.7400\n",
      "Epoch 121/300\n",
      "19/19 [==============================] - 0s 8ms/step - loss: 0.5292 - accuracy: 0.7500 - val_loss: 0.5520 - val_accuracy: 0.7800\n",
      "Epoch 122/300\n",
      "19/19 [==============================] - 0s 8ms/step - loss: 0.5438 - accuracy: 0.7283 - val_loss: 0.5720 - val_accuracy: 0.7200\n",
      "Epoch 123/300\n",
      "19/19 [==============================] - 0s 8ms/step - loss: 0.5388 - accuracy: 0.7333 - val_loss: 0.5481 - val_accuracy: 0.7800\n",
      "Epoch 124/300\n",
      "19/19 [==============================] - 0s 8ms/step - loss: 0.5324 - accuracy: 0.7517 - val_loss: 0.5468 - val_accuracy: 0.7800\n",
      "Epoch 125/300\n",
      "19/19 [==============================] - 0s 7ms/step - loss: 0.5276 - accuracy: 0.7400 - val_loss: 0.5633 - val_accuracy: 0.7200\n",
      "Epoch 126/300\n",
      "19/19 [==============================] - 0s 8ms/step - loss: 0.5282 - accuracy: 0.7383 - val_loss: 0.5567 - val_accuracy: 0.7900\n",
      "Epoch 127/300\n",
      "19/19 [==============================] - 0s 8ms/step - loss: 0.5452 - accuracy: 0.7317 - val_loss: 0.5518 - val_accuracy: 0.7300\n",
      "Epoch 128/300\n",
      "19/19 [==============================] - 0s 8ms/step - loss: 0.5434 - accuracy: 0.7317 - val_loss: 0.5442 - val_accuracy: 0.7900\n",
      "Epoch 129/300\n",
      "19/19 [==============================] - 0s 8ms/step - loss: 0.5276 - accuracy: 0.7450 - val_loss: 0.5535 - val_accuracy: 0.7900\n",
      "Epoch 130/300\n",
      "19/19 [==============================] - 0s 8ms/step - loss: 0.5267 - accuracy: 0.7467 - val_loss: 0.5577 - val_accuracy: 0.7100\n",
      "Epoch 131/300\n",
      "19/19 [==============================] - 0s 8ms/step - loss: 0.5310 - accuracy: 0.7450 - val_loss: 0.5430 - val_accuracy: 0.7900\n",
      "Epoch 132/300\n",
      "19/19 [==============================] - 0s 8ms/step - loss: 0.5266 - accuracy: 0.7450 - val_loss: 0.5708 - val_accuracy: 0.7500\n",
      "Epoch 133/300\n",
      "19/19 [==============================] - 0s 8ms/step - loss: 0.5451 - accuracy: 0.7300 - val_loss: 0.5583 - val_accuracy: 0.7700\n",
      "Epoch 134/300\n",
      "19/19 [==============================] - 0s 8ms/step - loss: 0.5368 - accuracy: 0.7417 - val_loss: 0.5541 - val_accuracy: 0.7800\n",
      "Epoch 135/300\n",
      "19/19 [==============================] - 0s 8ms/step - loss: 0.5291 - accuracy: 0.7483 - val_loss: 0.5407 - val_accuracy: 0.7900\n",
      "Epoch 136/300\n",
      "19/19 [==============================] - 0s 7ms/step - loss: 0.5252 - accuracy: 0.7517 - val_loss: 0.5448 - val_accuracy: 0.8000\n",
      "Epoch 137/300\n",
      "19/19 [==============================] - 0s 8ms/step - loss: 0.5256 - accuracy: 0.7450 - val_loss: 0.5576 - val_accuracy: 0.7200\n",
      "Epoch 138/300\n",
      "19/19 [==============================] - 0s 7ms/step - loss: 0.5282 - accuracy: 0.7400 - val_loss: 0.5440 - val_accuracy: 0.7800\n",
      "Epoch 139/300\n",
      "19/19 [==============================] - 0s 8ms/step - loss: 0.5293 - accuracy: 0.7500 - val_loss: 0.5423 - val_accuracy: 0.7800\n",
      "Epoch 140/300\n",
      "19/19 [==============================] - 0s 8ms/step - loss: 0.5263 - accuracy: 0.7400 - val_loss: 0.5945 - val_accuracy: 0.7300\n",
      "Epoch 141/300\n",
      "19/19 [==============================] - 0s 8ms/step - loss: 0.5278 - accuracy: 0.7550 - val_loss: 0.5428 - val_accuracy: 0.7800\n",
      "Epoch 142/300\n",
      "19/19 [==============================] - 0s 7ms/step - loss: 0.5306 - accuracy: 0.7400 - val_loss: 0.5451 - val_accuracy: 0.7900\n",
      "Epoch 143/300\n",
      "19/19 [==============================] - 0s 8ms/step - loss: 0.5214 - accuracy: 0.7400 - val_loss: 0.5496 - val_accuracy: 0.7900\n",
      "Epoch 144/300\n",
      "19/19 [==============================] - 0s 8ms/step - loss: 0.5234 - accuracy: 0.7400 - val_loss: 0.5494 - val_accuracy: 0.7800\n",
      "Epoch 145/300\n",
      "19/19 [==============================] - 0s 8ms/step - loss: 0.5222 - accuracy: 0.7483 - val_loss: 0.5414 - val_accuracy: 0.7500\n",
      "Epoch 146/300\n",
      "19/19 [==============================] - 0s 8ms/step - loss: 0.5242 - accuracy: 0.7433 - val_loss: 0.5413 - val_accuracy: 0.7700\n",
      "Epoch 147/300\n",
      "19/19 [==============================] - 0s 7ms/step - loss: 0.5307 - accuracy: 0.7350 - val_loss: 0.5687 - val_accuracy: 0.7700\n",
      "Epoch 148/300\n",
      "19/19 [==============================] - 0s 7ms/step - loss: 0.5370 - accuracy: 0.7467 - val_loss: 0.5398 - val_accuracy: 0.7900\n",
      "Epoch 149/300\n",
      "19/19 [==============================] - 0s 8ms/step - loss: 0.5196 - accuracy: 0.7467 - val_loss: 0.5465 - val_accuracy: 0.7300\n",
      "Epoch 150/300\n",
      "19/19 [==============================] - 0s 8ms/step - loss: 0.5239 - accuracy: 0.7450 - val_loss: 0.5463 - val_accuracy: 0.8000\n",
      "Epoch 151/300\n",
      "19/19 [==============================] - 0s 8ms/step - loss: 0.5212 - accuracy: 0.7383 - val_loss: 0.5399 - val_accuracy: 0.7700\n",
      "Epoch 152/300\n",
      "19/19 [==============================] - 0s 7ms/step - loss: 0.5173 - accuracy: 0.7483 - val_loss: 0.5794 - val_accuracy: 0.7600\n",
      "Epoch 153/300\n",
      "19/19 [==============================] - 0s 8ms/step - loss: 0.5325 - accuracy: 0.7467 - val_loss: 0.5366 - val_accuracy: 0.7800\n",
      "Epoch 154/300\n",
      "19/19 [==============================] - 0s 8ms/step - loss: 0.5195 - accuracy: 0.7300 - val_loss: 0.5441 - val_accuracy: 0.7400\n",
      "Epoch 155/300\n",
      "19/19 [==============================] - 0s 8ms/step - loss: 0.5183 - accuracy: 0.7383 - val_loss: 0.5491 - val_accuracy: 0.7900\n",
      "Epoch 156/300\n",
      "19/19 [==============================] - 0s 8ms/step - loss: 0.5270 - accuracy: 0.7450 - val_loss: 0.5378 - val_accuracy: 0.7700\n",
      "Epoch 157/300\n",
      "19/19 [==============================] - 0s 8ms/step - loss: 0.5220 - accuracy: 0.7350 - val_loss: 0.5407 - val_accuracy: 0.7500\n",
      "Epoch 158/300\n",
      "19/19 [==============================] - 0s 7ms/step - loss: 0.5217 - accuracy: 0.7350 - val_loss: 0.5430 - val_accuracy: 0.7300\n",
      "Epoch 159/300\n",
      "19/19 [==============================] - 0s 8ms/step - loss: 0.5216 - accuracy: 0.7383 - val_loss: 0.5375 - val_accuracy: 0.7900\n",
      "Epoch 160/300\n",
      "19/19 [==============================] - 0s 6ms/step - loss: 0.5092 - accuracy: 0.7500 - val_loss: 0.5698 - val_accuracy: 0.7600\n",
      "Epoch 161/300\n",
      "19/19 [==============================] - 0s 8ms/step - loss: 0.5232 - accuracy: 0.7300 - val_loss: 0.5490 - val_accuracy: 0.7700\n",
      "Epoch 162/300\n",
      "19/19 [==============================] - 0s 7ms/step - loss: 0.5183 - accuracy: 0.7433 - val_loss: 0.5454 - val_accuracy: 0.7300\n",
      "Epoch 163/300\n",
      "19/19 [==============================] - 0s 7ms/step - loss: 0.5131 - accuracy: 0.7550 - val_loss: 0.5364 - val_accuracy: 0.8000\n",
      "Epoch 164/300\n",
      "19/19 [==============================] - 0s 8ms/step - loss: 0.5141 - accuracy: 0.7333 - val_loss: 0.5366 - val_accuracy: 0.8000\n",
      "Epoch 165/300\n",
      "19/19 [==============================] - 0s 8ms/step - loss: 0.5160 - accuracy: 0.7400 - val_loss: 0.5519 - val_accuracy: 0.7700\n",
      "Epoch 166/300\n",
      "19/19 [==============================] - 0s 8ms/step - loss: 0.5113 - accuracy: 0.7483 - val_loss: 0.5422 - val_accuracy: 0.7900\n",
      "Epoch 167/300\n",
      "19/19 [==============================] - 0s 8ms/step - loss: 0.5174 - accuracy: 0.7400 - val_loss: 0.5344 - val_accuracy: 0.7900\n",
      "Epoch 168/300\n",
      "19/19 [==============================] - 0s 8ms/step - loss: 0.5091 - accuracy: 0.7567 - val_loss: 0.5345 - val_accuracy: 0.7900\n",
      "Epoch 169/300\n",
      "19/19 [==============================] - 0s 8ms/step - loss: 0.5161 - accuracy: 0.7417 - val_loss: 0.5336 - val_accuracy: 0.7500\n",
      "Epoch 170/300\n",
      "19/19 [==============================] - 0s 7ms/step - loss: 0.5119 - accuracy: 0.7500 - val_loss: 0.5348 - val_accuracy: 0.7900\n",
      "Epoch 171/300\n",
      "19/19 [==============================] - 0s 7ms/step - loss: 0.5172 - accuracy: 0.7517 - val_loss: 0.5313 - val_accuracy: 0.8000\n",
      "Epoch 172/300\n",
      "19/19 [==============================] - 0s 7ms/step - loss: 0.5122 - accuracy: 0.7350 - val_loss: 0.5359 - val_accuracy: 0.7400\n",
      "Epoch 173/300\n"
     ]
    },
    {
     "name": "stdout",
     "output_type": "stream",
     "text": [
      "19/19 [==============================] - 0s 8ms/step - loss: 0.5126 - accuracy: 0.7483 - val_loss: 0.5592 - val_accuracy: 0.7600\n",
      "Epoch 174/300\n",
      "19/19 [==============================] - 0s 8ms/step - loss: 0.5055 - accuracy: 0.7533 - val_loss: 0.5344 - val_accuracy: 0.7800\n",
      "Epoch 175/300\n",
      "19/19 [==============================] - 0s 8ms/step - loss: 0.5255 - accuracy: 0.7367 - val_loss: 0.5399 - val_accuracy: 0.7700\n",
      "Epoch 176/300\n",
      "19/19 [==============================] - 0s 8ms/step - loss: 0.5145 - accuracy: 0.7550 - val_loss: 0.5344 - val_accuracy: 0.8000\n",
      "Epoch 177/300\n",
      "19/19 [==============================] - 0s 9ms/step - loss: 0.5165 - accuracy: 0.7483 - val_loss: 0.5397 - val_accuracy: 0.7400\n",
      "Epoch 178/300\n",
      "19/19 [==============================] - 0s 8ms/step - loss: 0.5084 - accuracy: 0.7550 - val_loss: 0.6148 - val_accuracy: 0.7200\n",
      "Epoch 179/300\n",
      "19/19 [==============================] - 0s 7ms/step - loss: 0.5150 - accuracy: 0.7500 - val_loss: 0.5349 - val_accuracy: 0.8000\n",
      "Epoch 180/300\n",
      "19/19 [==============================] - 0s 10ms/step - loss: 0.5078 - accuracy: 0.7400 - val_loss: 0.5516 - val_accuracy: 0.7400\n",
      "Epoch 181/300\n",
      "19/19 [==============================] - 0s 9ms/step - loss: 0.5057 - accuracy: 0.7533 - val_loss: 0.5335 - val_accuracy: 0.7700\n",
      "Epoch 182/300\n",
      "19/19 [==============================] - 0s 8ms/step - loss: 0.5205 - accuracy: 0.7433 - val_loss: 0.5317 - val_accuracy: 0.7800\n",
      "Epoch 183/300\n",
      "19/19 [==============================] - 0s 7ms/step - loss: 0.5257 - accuracy: 0.7467 - val_loss: 0.5407 - val_accuracy: 0.7900\n",
      "Epoch 184/300\n",
      "19/19 [==============================] - 0s 8ms/step - loss: 0.5054 - accuracy: 0.7433 - val_loss: 0.5339 - val_accuracy: 0.7700\n",
      "Epoch 185/300\n",
      "19/19 [==============================] - 0s 8ms/step - loss: 0.5084 - accuracy: 0.7483 - val_loss: 0.5346 - val_accuracy: 0.7500\n",
      "Epoch 186/300\n",
      "19/19 [==============================] - 0s 11ms/step - loss: 0.5131 - accuracy: 0.7400 - val_loss: 0.5313 - val_accuracy: 0.7800\n",
      "Epoch 187/300\n",
      "19/19 [==============================] - 0s 7ms/step - loss: 0.5053 - accuracy: 0.7550 - val_loss: 0.5331 - val_accuracy: 0.8000\n",
      "Epoch 188/300\n",
      "19/19 [==============================] - 0s 7ms/step - loss: 0.5108 - accuracy: 0.7550 - val_loss: 0.5455 - val_accuracy: 0.7400\n",
      "Epoch 189/300\n",
      "19/19 [==============================] - 0s 8ms/step - loss: 0.5036 - accuracy: 0.7450 - val_loss: 0.5389 - val_accuracy: 0.7400\n",
      "Epoch 190/300\n",
      "19/19 [==============================] - 0s 8ms/step - loss: 0.5063 - accuracy: 0.7467 - val_loss: 0.5281 - val_accuracy: 0.7800\n",
      "Epoch 191/300\n",
      "19/19 [==============================] - 0s 8ms/step - loss: 0.5092 - accuracy: 0.7700 - val_loss: 0.5388 - val_accuracy: 0.7600\n",
      "Epoch 192/300\n",
      "19/19 [==============================] - 0s 8ms/step - loss: 0.5014 - accuracy: 0.7450 - val_loss: 0.5286 - val_accuracy: 0.7900\n",
      "Epoch 193/300\n",
      "19/19 [==============================] - 0s 8ms/step - loss: 0.4999 - accuracy: 0.7567 - val_loss: 0.5333 - val_accuracy: 0.7500\n",
      "Epoch 194/300\n",
      "19/19 [==============================] - 0s 8ms/step - loss: 0.5093 - accuracy: 0.7450 - val_loss: 0.5385 - val_accuracy: 0.7500\n",
      "Epoch 195/300\n",
      "19/19 [==============================] - 0s 8ms/step - loss: 0.5149 - accuracy: 0.7550 - val_loss: 0.5265 - val_accuracy: 0.8000\n",
      "Epoch 196/300\n",
      "19/19 [==============================] - 0s 8ms/step - loss: 0.5013 - accuracy: 0.7583 - val_loss: 0.5308 - val_accuracy: 0.7500\n",
      "Epoch 197/300\n",
      "19/19 [==============================] - 0s 8ms/step - loss: 0.4968 - accuracy: 0.7483 - val_loss: 0.5277 - val_accuracy: 0.7800\n",
      "Epoch 198/300\n",
      "19/19 [==============================] - 0s 8ms/step - loss: 0.4982 - accuracy: 0.7583 - val_loss: 0.5324 - val_accuracy: 0.7400\n",
      "Epoch 199/300\n",
      "19/19 [==============================] - 0s 8ms/step - loss: 0.5045 - accuracy: 0.7467 - val_loss: 0.5278 - val_accuracy: 0.7700\n",
      "Epoch 200/300\n",
      "19/19 [==============================] - 0s 7ms/step - loss: 0.4983 - accuracy: 0.7617 - val_loss: 0.5518 - val_accuracy: 0.7400\n",
      "Epoch 201/300\n",
      "19/19 [==============================] - 0s 8ms/step - loss: 0.5069 - accuracy: 0.7433 - val_loss: 0.5282 - val_accuracy: 0.7800\n",
      "Epoch 202/300\n",
      "19/19 [==============================] - 0s 8ms/step - loss: 0.5055 - accuracy: 0.7500 - val_loss: 0.5288 - val_accuracy: 0.8000\n",
      "Epoch 203/300\n",
      "19/19 [==============================] - 0s 7ms/step - loss: 0.5006 - accuracy: 0.7567 - val_loss: 0.5519 - val_accuracy: 0.7500\n",
      "Epoch 204/300\n",
      "19/19 [==============================] - 0s 8ms/step - loss: 0.5093 - accuracy: 0.7433 - val_loss: 0.5645 - val_accuracy: 0.7600\n",
      "Epoch 205/300\n",
      "19/19 [==============================] - 0s 7ms/step - loss: 0.5034 - accuracy: 0.7533 - val_loss: 0.5250 - val_accuracy: 0.7800\n",
      "Epoch 206/300\n",
      "19/19 [==============================] - 0s 8ms/step - loss: 0.4953 - accuracy: 0.7600 - val_loss: 0.5282 - val_accuracy: 0.7600\n",
      "Epoch 207/300\n",
      "19/19 [==============================] - 0s 8ms/step - loss: 0.4969 - accuracy: 0.7483 - val_loss: 0.5678 - val_accuracy: 0.7700\n",
      "Epoch 208/300\n",
      "19/19 [==============================] - 0s 9ms/step - loss: 0.5017 - accuracy: 0.7517 - val_loss: 0.5258 - val_accuracy: 0.8000\n",
      "Epoch 209/300\n",
      "19/19 [==============================] - 0s 8ms/step - loss: 0.5007 - accuracy: 0.7467 - val_loss: 0.5520 - val_accuracy: 0.7400\n",
      "Epoch 210/300\n",
      "19/19 [==============================] - 0s 8ms/step - loss: 0.4984 - accuracy: 0.7550 - val_loss: 0.5236 - val_accuracy: 0.8100\n",
      "Epoch 211/300\n",
      "19/19 [==============================] - 0s 8ms/step - loss: 0.4970 - accuracy: 0.7467 - val_loss: 0.5229 - val_accuracy: 0.7900\n",
      "Epoch 212/300\n",
      "19/19 [==============================] - 0s 8ms/step - loss: 0.5071 - accuracy: 0.7417 - val_loss: 0.5489 - val_accuracy: 0.7500\n",
      "Epoch 213/300\n",
      "19/19 [==============================] - 0s 8ms/step - loss: 0.4929 - accuracy: 0.7617 - val_loss: 0.5248 - val_accuracy: 0.7800\n",
      "Epoch 214/300\n",
      "19/19 [==============================] - 0s 8ms/step - loss: 0.4946 - accuracy: 0.7650 - val_loss: 0.5199 - val_accuracy: 0.8000\n",
      "Epoch 215/300\n",
      "19/19 [==============================] - 0s 9ms/step - loss: 0.4985 - accuracy: 0.7650 - val_loss: 0.5210 - val_accuracy: 0.8000\n",
      "Epoch 216/300\n",
      "19/19 [==============================] - 0s 8ms/step - loss: 0.4915 - accuracy: 0.7550 - val_loss: 0.5491 - val_accuracy: 0.7800\n",
      "Epoch 217/300\n",
      "19/19 [==============================] - 0s 7ms/step - loss: 0.4981 - accuracy: 0.7550 - val_loss: 0.5243 - val_accuracy: 0.7900\n",
      "Epoch 218/300\n",
      "19/19 [==============================] - 0s 8ms/step - loss: 0.4961 - accuracy: 0.7550 - val_loss: 0.5335 - val_accuracy: 0.7700\n",
      "Epoch 219/300\n",
      "19/19 [==============================] - 0s 8ms/step - loss: 0.4974 - accuracy: 0.7500 - val_loss: 0.5269 - val_accuracy: 0.7500\n",
      "Epoch 220/300\n",
      "19/19 [==============================] - 0s 8ms/step - loss: 0.4847 - accuracy: 0.7617 - val_loss: 0.5868 - val_accuracy: 0.7200\n",
      "Epoch 221/300\n",
      "19/19 [==============================] - 0s 8ms/step - loss: 0.4954 - accuracy: 0.7533 - val_loss: 0.5263 - val_accuracy: 0.7800\n",
      "Epoch 222/300\n",
      "19/19 [==============================] - 0s 8ms/step - loss: 0.5049 - accuracy: 0.7500 - val_loss: 0.5200 - val_accuracy: 0.8100\n",
      "Epoch 223/300\n",
      "19/19 [==============================] - 0s 8ms/step - loss: 0.4891 - accuracy: 0.7600 - val_loss: 0.5349 - val_accuracy: 0.7700\n",
      "Epoch 224/300\n",
      "19/19 [==============================] - 0s 8ms/step - loss: 0.5002 - accuracy: 0.7550 - val_loss: 0.5216 - val_accuracy: 0.7900\n",
      "Epoch 225/300\n",
      "19/19 [==============================] - 0s 7ms/step - loss: 0.4913 - accuracy: 0.7567 - val_loss: 0.5531 - val_accuracy: 0.7500\n",
      "Epoch 226/300\n",
      "19/19 [==============================] - 0s 7ms/step - loss: 0.5010 - accuracy: 0.7617 - val_loss: 0.5218 - val_accuracy: 0.7900\n",
      "Epoch 227/300\n",
      "19/19 [==============================] - 0s 8ms/step - loss: 0.5007 - accuracy: 0.7633 - val_loss: 0.5225 - val_accuracy: 0.8000\n",
      "Epoch 228/300\n",
      "19/19 [==============================] - 0s 8ms/step - loss: 0.4930 - accuracy: 0.7533 - val_loss: 0.5279 - val_accuracy: 0.7500\n",
      "Epoch 229/300\n",
      "19/19 [==============================] - 0s 7ms/step - loss: 0.4950 - accuracy: 0.7500 - val_loss: 0.5245 - val_accuracy: 0.7800\n",
      "Epoch 230/300\n"
     ]
    },
    {
     "name": "stdout",
     "output_type": "stream",
     "text": [
      "19/19 [==============================] - 0s 8ms/step - loss: 0.5005 - accuracy: 0.7433 - val_loss: 0.5203 - val_accuracy: 0.7700\n",
      "Epoch 231/300\n",
      "19/19 [==============================] - 0s 8ms/step - loss: 0.4916 - accuracy: 0.7517 - val_loss: 0.5560 - val_accuracy: 0.7400\n",
      "Epoch 232/300\n",
      "19/19 [==============================] - 0s 8ms/step - loss: 0.4963 - accuracy: 0.7600 - val_loss: 0.5248 - val_accuracy: 0.8000\n",
      "Epoch 233/300\n",
      "19/19 [==============================] - 0s 8ms/step - loss: 0.4902 - accuracy: 0.7617 - val_loss: 0.5533 - val_accuracy: 0.7300\n",
      "Epoch 234/300\n",
      "19/19 [==============================] - 0s 8ms/step - loss: 0.5008 - accuracy: 0.7467 - val_loss: 0.5204 - val_accuracy: 0.7400\n",
      "Epoch 235/300\n",
      "19/19 [==============================] - 0s 9ms/step - loss: 0.4941 - accuracy: 0.7667 - val_loss: 0.5173 - val_accuracy: 0.8000\n",
      "Epoch 236/300\n",
      "19/19 [==============================] - 0s 8ms/step - loss: 0.4868 - accuracy: 0.7700 - val_loss: 0.5183 - val_accuracy: 0.7900\n",
      "Epoch 237/300\n",
      "19/19 [==============================] - 0s 8ms/step - loss: 0.4973 - accuracy: 0.7550 - val_loss: 0.5180 - val_accuracy: 0.8000\n",
      "Epoch 238/300\n",
      "19/19 [==============================] - 0s 8ms/step - loss: 0.5004 - accuracy: 0.7500 - val_loss: 0.5181 - val_accuracy: 0.7900\n",
      "Epoch 239/300\n",
      "19/19 [==============================] - 0s 9ms/step - loss: 0.4893 - accuracy: 0.7550 - val_loss: 0.5369 - val_accuracy: 0.7700\n",
      "Epoch 240/300\n",
      "19/19 [==============================] - 0s 8ms/step - loss: 0.4895 - accuracy: 0.7517 - val_loss: 0.5347 - val_accuracy: 0.7500\n",
      "Epoch 241/300\n",
      "19/19 [==============================] - 0s 8ms/step - loss: 0.4890 - accuracy: 0.7517 - val_loss: 0.5250 - val_accuracy: 0.7800\n",
      "Epoch 242/300\n",
      "19/19 [==============================] - 0s 8ms/step - loss: 0.4905 - accuracy: 0.7683 - val_loss: 0.5335 - val_accuracy: 0.7700\n",
      "Epoch 243/300\n",
      "19/19 [==============================] - 0s 8ms/step - loss: 0.4911 - accuracy: 0.7633 - val_loss: 0.5171 - val_accuracy: 0.7600\n",
      "Epoch 244/300\n",
      "19/19 [==============================] - 0s 8ms/step - loss: 0.4920 - accuracy: 0.7550 - val_loss: 0.5221 - val_accuracy: 0.7900\n",
      "Epoch 245/300\n",
      "19/19 [==============================] - 0s 8ms/step - loss: 0.4888 - accuracy: 0.7550 - val_loss: 0.5147 - val_accuracy: 0.7900\n",
      "Epoch 246/300\n",
      "19/19 [==============================] - 0s 8ms/step - loss: 0.4911 - accuracy: 0.7550 - val_loss: 0.5169 - val_accuracy: 0.7800\n",
      "Epoch 247/300\n",
      "19/19 [==============================] - 0s 8ms/step - loss: 0.4885 - accuracy: 0.7567 - val_loss: 0.5144 - val_accuracy: 0.7900\n",
      "Epoch 248/300\n",
      "19/19 [==============================] - 0s 8ms/step - loss: 0.4842 - accuracy: 0.7667 - val_loss: 0.5199 - val_accuracy: 0.7600\n",
      "Epoch 249/300\n",
      "19/19 [==============================] - 0s 8ms/step - loss: 0.4910 - accuracy: 0.7567 - val_loss: 0.5173 - val_accuracy: 0.7700\n",
      "Epoch 250/300\n",
      "19/19 [==============================] - 0s 8ms/step - loss: 0.4799 - accuracy: 0.7650 - val_loss: 0.5732 - val_accuracy: 0.7400\n",
      "Epoch 251/300\n",
      "19/19 [==============================] - 0s 8ms/step - loss: 0.4869 - accuracy: 0.7533 - val_loss: 0.5194 - val_accuracy: 0.7600\n",
      "Epoch 252/300\n",
      "19/19 [==============================] - 0s 7ms/step - loss: 0.4826 - accuracy: 0.7533 - val_loss: 0.5219 - val_accuracy: 0.7700\n",
      "Epoch 253/300\n",
      "19/19 [==============================] - 0s 8ms/step - loss: 0.4851 - accuracy: 0.7500 - val_loss: 0.5212 - val_accuracy: 0.7700\n",
      "Epoch 254/300\n",
      "19/19 [==============================] - 0s 8ms/step - loss: 0.4861 - accuracy: 0.7567 - val_loss: 0.5177 - val_accuracy: 0.7600\n",
      "Epoch 255/300\n",
      "19/19 [==============================] - 0s 8ms/step - loss: 0.4812 - accuracy: 0.7550 - val_loss: 0.5191 - val_accuracy: 0.7700\n",
      "Epoch 256/300\n",
      "19/19 [==============================] - 0s 8ms/step - loss: 0.4844 - accuracy: 0.7550 - val_loss: 0.5200 - val_accuracy: 0.7800\n",
      "Epoch 257/300\n",
      "19/19 [==============================] - 0s 7ms/step - loss: 0.4868 - accuracy: 0.7667 - val_loss: 0.5140 - val_accuracy: 0.7900\n",
      "Epoch 258/300\n",
      "19/19 [==============================] - 0s 8ms/step - loss: 0.4828 - accuracy: 0.7633 - val_loss: 0.5336 - val_accuracy: 0.7700\n",
      "Epoch 259/300\n",
      "19/19 [==============================] - 0s 7ms/step - loss: 0.4917 - accuracy: 0.7533 - val_loss: 0.5209 - val_accuracy: 0.7700\n",
      "Epoch 260/300\n",
      "19/19 [==============================] - 0s 8ms/step - loss: 0.4848 - accuracy: 0.7683 - val_loss: 0.5318 - val_accuracy: 0.7500\n",
      "Epoch 261/300\n",
      "19/19 [==============================] - 0s 7ms/step - loss: 0.4832 - accuracy: 0.7633 - val_loss: 0.5205 - val_accuracy: 0.7800\n",
      "Epoch 262/300\n",
      "19/19 [==============================] - 0s 8ms/step - loss: 0.4844 - accuracy: 0.7583 - val_loss: 0.5195 - val_accuracy: 0.7800\n",
      "Epoch 263/300\n",
      "19/19 [==============================] - 0s 8ms/step - loss: 0.4781 - accuracy: 0.7683 - val_loss: 0.5157 - val_accuracy: 0.7700\n",
      "Epoch 264/300\n",
      "19/19 [==============================] - 0s 8ms/step - loss: 0.4791 - accuracy: 0.7667 - val_loss: 0.5284 - val_accuracy: 0.7500\n",
      "Epoch 265/300\n",
      "19/19 [==============================] - 0s 8ms/step - loss: 0.4853 - accuracy: 0.7733 - val_loss: 0.5162 - val_accuracy: 0.7900\n",
      "Epoch 266/300\n",
      "19/19 [==============================] - 0s 8ms/step - loss: 0.4867 - accuracy: 0.7550 - val_loss: 0.5144 - val_accuracy: 0.7700\n",
      "Epoch 267/300\n",
      "19/19 [==============================] - 0s 8ms/step - loss: 0.4784 - accuracy: 0.7700 - val_loss: 0.5165 - val_accuracy: 0.7800\n",
      "Epoch 268/300\n",
      "19/19 [==============================] - 0s 8ms/step - loss: 0.4795 - accuracy: 0.7633 - val_loss: 0.5191 - val_accuracy: 0.7800\n",
      "Epoch 269/300\n",
      "19/19 [==============================] - 0s 8ms/step - loss: 0.4856 - accuracy: 0.7567 - val_loss: 0.5157 - val_accuracy: 0.7700\n",
      "Epoch 270/300\n",
      "19/19 [==============================] - 0s 8ms/step - loss: 0.4766 - accuracy: 0.7717 - val_loss: 0.5587 - val_accuracy: 0.7500\n",
      "Epoch 271/300\n",
      "19/19 [==============================] - 0s 8ms/step - loss: 0.4807 - accuracy: 0.7450 - val_loss: 0.5168 - val_accuracy: 0.7600\n",
      "Epoch 272/300\n",
      "19/19 [==============================] - 0s 7ms/step - loss: 0.4750 - accuracy: 0.7717 - val_loss: 0.5258 - val_accuracy: 0.7500\n",
      "Epoch 273/300\n",
      "19/19 [==============================] - 0s 8ms/step - loss: 0.4771 - accuracy: 0.7633 - val_loss: 0.5276 - val_accuracy: 0.7700\n",
      "Epoch 274/300\n",
      "19/19 [==============================] - 0s 8ms/step - loss: 0.4887 - accuracy: 0.7483 - val_loss: 0.5132 - val_accuracy: 0.7700\n",
      "Epoch 275/300\n",
      "19/19 [==============================] - 0s 8ms/step - loss: 0.4768 - accuracy: 0.7700 - val_loss: 0.5186 - val_accuracy: 0.7800\n",
      "Epoch 276/300\n",
      "19/19 [==============================] - 0s 8ms/step - loss: 0.4770 - accuracy: 0.7750 - val_loss: 0.5185 - val_accuracy: 0.7700\n",
      "Epoch 277/300\n",
      "19/19 [==============================] - 0s 7ms/step - loss: 0.4778 - accuracy: 0.7733 - val_loss: 0.5151 - val_accuracy: 0.7600\n",
      "Epoch 278/300\n",
      "19/19 [==============================] - 0s 8ms/step - loss: 0.4822 - accuracy: 0.7700 - val_loss: 0.5196 - val_accuracy: 0.7700\n",
      "Epoch 279/300\n",
      "19/19 [==============================] - 0s 8ms/step - loss: 0.4798 - accuracy: 0.7700 - val_loss: 0.5183 - val_accuracy: 0.7600\n",
      "Epoch 280/300\n",
      "19/19 [==============================] - 0s 7ms/step - loss: 0.4812 - accuracy: 0.7633 - val_loss: 0.5507 - val_accuracy: 0.7400\n",
      "Epoch 281/300\n",
      "19/19 [==============================] - 0s 7ms/step - loss: 0.4871 - accuracy: 0.7550 - val_loss: 0.5673 - val_accuracy: 0.7300\n",
      "Epoch 282/300\n",
      "19/19 [==============================] - 0s 8ms/step - loss: 0.4844 - accuracy: 0.7533 - val_loss: 0.5344 - val_accuracy: 0.7600\n",
      "Epoch 283/300\n",
      "19/19 [==============================] - 0s 8ms/step - loss: 0.4727 - accuracy: 0.7767 - val_loss: 0.5191 - val_accuracy: 0.7700\n",
      "Epoch 284/300\n",
      "19/19 [==============================] - 0s 8ms/step - loss: 0.4765 - accuracy: 0.7600 - val_loss: 0.5113 - val_accuracy: 0.8000\n",
      "Epoch 285/300\n",
      "19/19 [==============================] - 0s 8ms/step - loss: 0.4759 - accuracy: 0.7600 - val_loss: 0.5207 - val_accuracy: 0.7700\n",
      "Epoch 286/300\n",
      "19/19 [==============================] - 0s 8ms/step - loss: 0.4756 - accuracy: 0.7700 - val_loss: 0.5333 - val_accuracy: 0.7500\n",
      "Epoch 287/300\n"
     ]
    },
    {
     "name": "stdout",
     "output_type": "stream",
     "text": [
      "19/19 [==============================] - 0s 8ms/step - loss: 0.4767 - accuracy: 0.7783 - val_loss: 0.5118 - val_accuracy: 0.7700\n",
      "Epoch 288/300\n",
      "19/19 [==============================] - 0s 8ms/step - loss: 0.4790 - accuracy: 0.7500 - val_loss: 0.5298 - val_accuracy: 0.7800\n",
      "Epoch 289/300\n",
      "19/19 [==============================] - 0s 7ms/step - loss: 0.4767 - accuracy: 0.7667 - val_loss: 0.5226 - val_accuracy: 0.7700\n",
      "Epoch 290/300\n",
      "19/19 [==============================] - 0s 8ms/step - loss: 0.4804 - accuracy: 0.7767 - val_loss: 0.5174 - val_accuracy: 0.7700\n",
      "Epoch 291/300\n",
      "19/19 [==============================] - 0s 8ms/step - loss: 0.4762 - accuracy: 0.7750 - val_loss: 0.5340 - val_accuracy: 0.7400\n",
      "Epoch 292/300\n",
      "19/19 [==============================] - 0s 8ms/step - loss: 0.4806 - accuracy: 0.7550 - val_loss: 0.5107 - val_accuracy: 0.7800\n",
      "Epoch 293/300\n",
      "19/19 [==============================] - 0s 8ms/step - loss: 0.4805 - accuracy: 0.7767 - val_loss: 0.5146 - val_accuracy: 0.7600\n",
      "Epoch 294/300\n",
      "19/19 [==============================] - 0s 7ms/step - loss: 0.4788 - accuracy: 0.7583 - val_loss: 0.5121 - val_accuracy: 0.7700\n",
      "Epoch 295/300\n",
      "19/19 [==============================] - 0s 8ms/step - loss: 0.4733 - accuracy: 0.7750 - val_loss: 0.5361 - val_accuracy: 0.7600\n",
      "Epoch 296/300\n",
      "19/19 [==============================] - 0s 8ms/step - loss: 0.4871 - accuracy: 0.7483 - val_loss: 0.5122 - val_accuracy: 0.7800\n",
      "Epoch 297/300\n",
      "19/19 [==============================] - 0s 8ms/step - loss: 0.4740 - accuracy: 0.7750 - val_loss: 0.5276 - val_accuracy: 0.7600\n",
      "Epoch 298/300\n",
      "19/19 [==============================] - 0s 8ms/step - loss: 0.4697 - accuracy: 0.7700 - val_loss: 0.5219 - val_accuracy: 0.7600\n",
      "Epoch 299/300\n",
      "19/19 [==============================] - 0s 8ms/step - loss: 0.4776 - accuracy: 0.7717 - val_loss: 0.5175 - val_accuracy: 0.7700\n",
      "Epoch 300/300\n",
      "19/19 [==============================] - 0s 8ms/step - loss: 0.4704 - accuracy: 0.7683 - val_loss: 0.5419 - val_accuracy: 0.7500\n"
     ]
    }
   ],
   "source": [
    "hist = model.fit(X_train, Y_train, \n",
    "                epochs=300,\n",
    "                validation_data=(X_val, Y_val),\n",
    "                verbose=1)"
   ]
  },
  {
   "cell_type": "markdown",
   "id": "04644914",
   "metadata": {},
   "source": [
    "## 5. 모델 학습 평가 "
   ]
  },
  {
   "cell_type": "code",
   "execution_count": 10,
   "id": "737cb3aa",
   "metadata": {},
   "outputs": [
    {
     "data": {
      "text/plain": [
       "dict_keys(['loss', 'accuracy', 'val_loss', 'val_accuracy'])"
      ]
     },
     "execution_count": 10,
     "metadata": {},
     "output_type": "execute_result"
    }
   ],
   "source": [
    "hist.history.keys()"
   ]
  },
  {
   "cell_type": "code",
   "execution_count": 12,
   "id": "6fe0976c",
   "metadata": {},
   "outputs": [
    {
     "data": {
      "image/png": "[encoded data removed]",
      "text/plain": [
       "<Figure size 1000x500 with 2 Axes>"
      ]
     },
     "metadata": {},
     "output_type": "display_data"
    }
   ],
   "source": [
    "# 학습과정 표시하기(validation dataset 있는 경우)\n",
    "fig, loss_ax = plt.subplots(figsize=(10,5))\n",
    "loss_ax.plot(hist.history['loss'], 'r', label='train loss')\n",
    "loss_ax.plot(hist.history['val_loss'], 'y', label='validation loss')\n",
    "loss_ax.set_xlabel('epoch')\n",
    "loss_ax.set_ylabel('loss')\n",
    "acc_ax = loss_ax.twinx()\n",
    "acc_ax.plot(hist.history['accuracy'], 'b', label='train accuracy')\n",
    "acc_ax.plot(hist.history['val_accuracy'], 'g', label='validation accuracy')\n",
    "acc_ax.set_ylabel('accuracy')\n",
    "loss_ax.legend(loc='center right')\n",
    "acc_ax.legend(bbox_to_anchor=(0.999, 0.7))\n",
    "plt.show()"
   ]
  },
  {
   "cell_type": "code",
   "execution_count": 13,
   "id": "3deb6caf",
   "metadata": {},
   "outputs": [
    {
     "name": "stdout",
     "output_type": "stream",
     "text": [
      "3/3 [==============================] - 0s 4ms/step - loss: 0.6755 - accuracy: 0.6176\n",
      "Test Dataset loss : 0.6755282878875732, accuracy(정확도) : 0.6176470518112183\n"
     ]
    }
   ],
   "source": [
    "# 모델 평가하기(test dataset으로)\n",
    "score = model.evaluate(X_test, Y_test)\n",
    "print(\"Test Dataset loss : {}, accuracy(정확도) : {}\".format(score[0], score[1]))"
   ]
  },
  {
   "cell_type": "code",
   "execution_count": 14,
   "id": "02731d3c",
   "metadata": {},
   "outputs": [
    {
     "data": {
      "text/plain": [
       "[0.6755282878875732, 0.6176470518112183]"
      ]
     },
     "execution_count": 14,
     "metadata": {},
     "output_type": "execute_result"
    }
   ],
   "source": [
    "score # loss와 compile에서 metrics=['accuracy']지정으로 accuracy가 저장"
   ]
  },
  {
   "cell_type": "code",
   "execution_count": 19,
   "id": "2b85ad63",
   "metadata": {},
   "outputs": [
    {
     "data": {
      "text/plain": [
       "True"
      ]
     },
     "execution_count": 19,
     "metadata": {},
     "output_type": "execute_result"
    }
   ],
   "source": [
    "# 교차표(원핫인코딩을 이용한 분류분석, 이진분류)\n",
    "# pd.crosstab(실제값을1차원, 예측값을1차원)\n",
    "all(Y_test.argmax(axis=1) == y_test) # crosstabl에 들어갈 실제값"
   ]
  },
  {
   "cell_type": "code",
   "execution_count": 25,
   "id": "4f6ddb5c",
   "metadata": {},
   "outputs": [
    {
     "name": "stdout",
     "output_type": "stream",
     "text": [
      "3/3 [==============================] - 0s 2ms/step\n"
     ]
    },
    {
     "data": {
      "text/plain": [
       "array([0, 0, 0, 1, 0, 0, 0, 0, 1, 0, 0, 0, 0, 0, 0, 0, 1, 0, 0, 0, 0, 0,\n",
       "       0, 0, 0, 0, 0, 0, 1, 0, 0, 0, 0, 0, 0, 0, 0, 0, 0, 0, 1, 0, 0, 0,\n",
       "       1, 0, 0, 0, 1, 0, 0, 0, 0, 0, 0, 0, 0, 0, 0, 1, 0, 0, 0, 1, 0, 0,\n",
       "       0, 0], dtype=int64)"
      ]
     },
     "execution_count": 25,
     "metadata": {},
     "output_type": "execute_result"
    }
   ],
   "source": [
    "# 예측값\n",
    "Y_hat = model.predict(X_test)\n",
    "y_hat = Y_hat.argmax(axis=1)\n",
    "y_hat = np.argmax(Y_hat, axis=1)\n",
    "y_hat\n",
    "# a = np.array([1,2,3])\n",
    "# a.mean()\n",
    "# np.mean(a)"
   ]
  },
  {
   "cell_type": "code",
   "execution_count": 27,
   "id": "a1590b01",
   "metadata": {},
   "outputs": [
    {
     "data": {
      "text/html": [
       "<div>\n",
       "<style scoped>\n",
       "    .dataframe tbody tr th:only-of-type {\n",
       "        vertical-align: middle;\n",
       "    }\n",
       "\n",
       "    .dataframe tbody tr th {\n",
       "        vertical-align: top;\n",
       "    }\n",
       "\n",
       "    .dataframe thead th {\n",
       "        text-align: right;\n",
       "    }\n",
       "</style>\n",
       "<table border=\"1\" class=\"dataframe\">\n",
       "  <thead>\n",
       "    <tr style=\"text-align: right;\">\n",
       "      <th>예측</th>\n",
       "      <th>0</th>\n",
       "      <th>1</th>\n",
       "    </tr>\n",
       "    <tr>\n",
       "      <th>실제</th>\n",
       "      <th></th>\n",
       "      <th></th>\n",
       "    </tr>\n",
       "  </thead>\n",
       "  <tbody>\n",
       "    <tr>\n",
       "      <th>0.0</th>\n",
       "      <td>37</td>\n",
       "      <td>4</td>\n",
       "    </tr>\n",
       "    <tr>\n",
       "      <th>1.0</th>\n",
       "      <td>22</td>\n",
       "      <td>5</td>\n",
       "    </tr>\n",
       "  </tbody>\n",
       "</table>\n",
       "</div>"
      ],
      "text/plain": [
       "예측    0  1\n",
       "실제        \n",
       "0.0  37  4\n",
       "1.0  22  5"
      ]
     },
     "execution_count": 27,
     "metadata": {},
     "output_type": "execute_result"
    }
   ],
   "source": [
    "ctab = pd.crosstab(y_test, y_hat)\n",
    "ctab.index.name = '실제'\n",
    "ctab.columns.name = '예측'\n",
    "ctab"
   ]
  },
  {
   "cell_type": "markdown",
   "id": "7a095c04",
   "metadata": {},
   "source": [
    "## 6. 모델사용하기"
   ]
  },
  {
   "cell_type": "code",
   "execution_count": 29,
   "id": "e076818c",
   "metadata": {},
   "outputs": [
    {
     "data": {
      "text/plain": [
       "(array([  2.   , 122.   ,  76.   ,  27.   , 200.   ,  35.9  ,   0.483,\n",
       "         26.   ]),\n",
       " 0.0)"
      ]
     },
     "execution_count": 29,
     "metadata": {},
     "output_type": "execute_result"
    }
   ],
   "source": [
    "X_test[0], y_test[0]"
   ]
  },
  {
   "cell_type": "code",
   "execution_count": 34,
   "id": "1d199cfe",
   "metadata": {},
   "outputs": [
    {
     "name": "stdout",
     "output_type": "stream",
     "text": [
      "1/1 [==============================] - 0s 25ms/step\n",
      "1/1 [==============================] - 0s 39ms/step\n"
     ]
    },
    {
     "data": {
      "text/plain": [
       "array([[0.8627979 , 0.13720202],\n",
       "       [0.8627979 , 0.13720202]], dtype=float32)"
      ]
     },
     "execution_count": 34,
     "metadata": {},
     "output_type": "execute_result"
    }
   ],
   "source": [
    "pred = model.predict(np.array([[2, 122,76,27,200,35.9,0.483,26]]))\n",
    "pred = model.predict([[2, 122,76,27,200,35.9,0.483,26],\n",
    "                      [2, 122,76,27,200,35.9,0.483,26],]) # predict에는 2차원 데이터로\n",
    "pred"
   ]
  },
  {
   "cell_type": "code",
   "execution_count": 36,
   "id": "dbdf4549",
   "metadata": {},
   "outputs": [
    {
     "data": {
      "text/plain": [
       "array([0, 0], dtype=int64)"
      ]
     },
     "execution_count": 36,
     "metadata": {},
     "output_type": "execute_result"
    }
   ],
   "source": [
    "pred.argmax(axis=1)\n",
    "np.argmax(pred, axis=1)"
   ]
  },
  {
   "cell_type": "code",
   "execution_count": null,
   "id": "50e9f357",
   "metadata": {},
   "outputs": [],
   "source": []
  }
 ],
 "metadata": {
  "kernelspec": {
   "display_name": "Python 3 (ipykernel)",
   "language": "python",
   "name": "python3"
  },
  "language_info": {
   "codemirror_mode": {
    "name": "ipython",
    "version": 3
   },
   "file_extension": ".py",
   "mimetype": "text/x-python",
   "name": "python",
   "nbconvert_exporter": "python",
   "pygments_lexer": "ipython3",
   "version": "3.10.9"
  },
  "toc": {
   "base_numbering": 1,
   "nav_menu": {},
   "number_sections": false,
   "sideBar": true,
   "skip_h1_title": false,
   "title_cell": "Table of Contents",
   "title_sidebar": "Contents",
   "toc_cell": false,
   "toc_position": {
    "height": "calc(100% - 180px)",
    "left": "10px",
    "top": "150px",
    "width": "165px"
   },
   "toc_section_display": true,
   "toc_window_display": true
  }
 },
 "nbformat": 4,
 "nbformat_minor": 5
}
