{
 "cells": [
  {
   "cell_type": "code",
   "execution_count": 1,
   "id": "58e437e2",
   "metadata": {},
   "outputs": [
    {
     "data": {
      "text/html": [
       "\n",
       "<style>\n",
       "div.container{width:99% !important;}\n",
       "div.cell.code_cell.rendered{width:90%;}\n",
       "div.CodeMirror {font-family:Consolas; font-size:20pt;}\n",
       "div.output {font-size:20pt; font-weight:bold;}\n",
       "div.input {font-family:Consolas; font-size:19pt;}\n",
       "div.prompt {min-width:70px;}\n",
       "div#toc-wrapper{padding-top:120px;}\n",
       "span.toc-item-num{display:none;}\n",
       "div.text_cell_render ul li{font-size:16pt;padding:5px;}\n",
       "div.CodeMirror-lines > div {padding-left:10px;}\n",
       "table.dataframe{font-size:19px;}\n",
       "</style>\n"
      ],
      "text/plain": [
       "<IPython.core.display.HTML object>"
      ]
     },
     "metadata": {},
     "output_type": "display_data"
    }
   ],
   "source": [
    "from IPython.display import display, HTML\n",
    "display(HTML(\"\"\"\n",
    "<style>\n",
    "div.container{width:99% !important;}\n",
    "div.cell.code_cell.rendered{width:90%;}\n",
    "div.CodeMirror {font-family:Consolas; font-size:20pt;}\n",
    "div.output {font-size:20pt; font-weight:bold;}\n",
    "div.input {font-family:Consolas; font-size:19pt;}\n",
    "div.prompt {min-width:70px;}\n",
    "div#toc-wrapper{padding-top:120px;}\n",
    "span.toc-item-num{display:none;}\n",
    "div.text_cell_render ul li{font-size:16pt;padding:5px;}\n",
    "div.CodeMirror-lines > div {padding-left:10px;}\n",
    "table.dataframe{font-size:19px;}\n",
    "</style>\n",
    "\"\"\"))"
   ]
  },
  {
   "cell_type": "code",
   "execution_count": 1,
   "id": "8916b6be",
   "metadata": {},
   "outputs": [],
   "source": [
    "import numpy as np\n",
    "import pandas as pd\n",
    "import sys\n",
    "from tensorflow.keras import utils # utils.to_categorical\n",
    "from tensorflow.keras.models import Sequential # 모델생성\n",
    "from tensorflow.keras.layers import Dense, Input\n",
    "import matplotlib.pyplot as plt"
   ]
  },
  {
   "cell_type": "markdown",
   "id": "bbf7a5ec",
   "metadata": {},
   "source": [
    "# 로지스틱회귀분석(이진분류)\n",
    "## 1. 데이터셋 생성 & 전처리"
   ]
  },
  {
   "cell_type": "code",
   "execution_count": 11,
   "id": "faac1a11",
   "metadata": {},
   "outputs": [
    {
     "data": {
      "text/plain": [
       "array([[  6.   , 148.   ,  72.   ,  35.   ,   0.   ,  33.6  ,   0.627,\n",
       "         50.   ,   1.   ],\n",
       "       [  1.   ,  85.   ,  66.   ,  29.   ,   0.   ,  26.6  ,   0.351,\n",
       "         31.   ,   0.   ]])"
      ]
     },
     "execution_count": 11,
     "metadata": {},
     "output_type": "execute_result"
    }
   ],
   "source": [
    "df = pd.read_csv('data/pima-indians-diabetes.csv', comment='#', header=None)\n",
    "df.values[:2]\n",
    "# 결측치 없으므로, csv파일을 바로 넘파이 배열로 읽어올 예정"
   ]
  },
  {
   "cell_type": "code",
   "execution_count": 9,
   "id": "b8f628f4",
   "metadata": {},
   "outputs": [],
   "source": [
    "# np.set_printoptions(threshold=sys.maxsize)"
   ]
  },
  {
   "cell_type": "code",
   "execution_count": null,
   "id": "eeb543f4",
   "metadata": {},
   "outputs": [],
   "source": [
    "# 1. 임신횟수\n",
    "# 2. 2시간내 포도당 농도\n",
    "# 3. 혈압\n",
    "# 4. 피부접힘 두께\n",
    "# 5. 인슐린수치\n",
    "# 6. BMI체질량지수\n",
    "# 7. 가족력\n",
    "# 8. 나이\n",
    "# 9. 당뇨병발병여부"
   ]
  },
  {
   "cell_type": "code",
   "execution_count": 2,
   "id": "c57d897a",
   "metadata": {},
   "outputs": [
    {
     "data": {
      "text/plain": [
       "(768, 9)"
      ]
     },
     "execution_count": 2,
     "metadata": {},
     "output_type": "execute_result"
    }
   ],
   "source": [
    "# csv파일을 numpy 배열로 읽어오기 np.loadtxt(), np.genfromtxt() #이 있는 행은 제외하여 읽어옴\n",
    "dataset = np.loadtxt('data/pima-indians-diabetes.csv', delimiter=',')\n",
    "dataset.shape"
   ]
  },
  {
   "cell_type": "code",
   "execution_count": 7,
   "id": "e6bdd33b",
   "metadata": {},
   "outputs": [
    {
     "data": {
      "text/plain": [
       "((700, 8), (700,), (68, 8), (68,))"
      ]
     },
     "execution_count": 7,
     "metadata": {},
     "output_type": "execute_result"
    }
   ],
   "source": [
    "# 학습데이터셋(학습용 데이터:train dataset) : 모델 학습시 사용\n",
    "X_train = dataset[:700, :-1]\n",
    "y_train = dataset[:700, -1]\n",
    "# 테스트데이터셋(시험용 데이터:test dataset) : 모델 평가시 사용\n",
    "X_test = dataset[700:, :-1]\n",
    "y_test = dataset[700:, -1]\n",
    "X_train.shape, y_train.shape, X_test.shape, y_test.shape"
   ]
  },
  {
   "cell_type": "markdown",
   "id": "b6f8ed79",
   "metadata": {},
   "source": [
    "## 2. 모델 구성"
   ]
  },
  {
   "cell_type": "code",
   "execution_count": 30,
   "id": "0d890934",
   "metadata": {},
   "outputs": [
    {
     "name": "stdout",
     "output_type": "stream",
     "text": [
      "Model: \"sequential_6\"\n",
      "_________________________________________________________________\n",
      " Layer (type)                Output Shape              Param #   \n",
      "=================================================================\n",
      " dense_19 (Dense)            (None, 12)                108       \n",
      "                                                                 \n",
      " dense_20 (Dense)            (None, 8)                 104       \n",
      "                                                                 \n",
      " dense_21 (Dense)            (None, 1)                 9         \n",
      "                                                                 \n",
      "=================================================================\n",
      "Total params: 221\n",
      "Trainable params: 221\n",
      "Non-trainable params: 0\n",
      "_________________________________________________________________\n"
     ]
    }
   ],
   "source": [
    "model = Sequential()\n",
    "model.add(Input(shape=(8,)))\n",
    "model.add(Dense(units=12, activation='relu'))\n",
    "model.add(Dense(units=8, activation='relu'))\n",
    "model.add(Dense(units=1, activation='sigmoid'))\n",
    "model.summary()"
   ]
  },
  {
   "cell_type": "markdown",
   "id": "147f8208",
   "metadata": {},
   "source": [
    "## 3. 학습과정 설정"
   ]
  },
  {
   "cell_type": "code",
   "execution_count": 31,
   "id": "92c942c8",
   "metadata": {},
   "outputs": [],
   "source": [
    "# model.compile(loss='binary_crossentropy', optimizer='adam', metrics=['accuracy'])\n",
    "model.compile(loss='binary_crossentropy', optimizer='adam', metrics=['binary_accuracy'])"
   ]
  },
  {
   "cell_type": "markdown",
   "id": "ae67db39",
   "metadata": {},
   "source": [
    "## 4. 학습"
   ]
  },
  {
   "cell_type": "code",
   "execution_count": 32,
   "id": "e8bcdd4d",
   "metadata": {},
   "outputs": [],
   "source": [
    "hist = model.fit(X_train, y_train, # 훈련데이터\n",
    "                 epochs=200,\n",
    "                 # batch_size=350,\n",
    "                 # validation_split=0.2 # 검증 데이터 비율(훈련데이터셋 중 20%를 검증용 데이터로)\n",
    "                 verbose=0\n",
    "                )"
   ]
  },
  {
   "cell_type": "markdown",
   "id": "26c09dc6",
   "metadata": {},
   "source": [
    "## 5. 모델 평가하기(학습과정보기, 평가)"
   ]
  },
  {
   "cell_type": "code",
   "execution_count": 22,
   "id": "1f861f08",
   "metadata": {},
   "outputs": [
    {
     "data": {
      "text/plain": [
       "dict_keys(['loss', 'binary_accuracy'])"
      ]
     },
     "execution_count": 22,
     "metadata": {},
     "output_type": "execute_result"
    }
   ],
   "source": [
    "hist.history.keys()"
   ]
  },
  {
   "cell_type": "code",
   "execution_count": 33,
   "id": "c87ba7ab",
   "metadata": {},
   "outputs": [
    {
     "data": {
      "image/png": "[encoded data removed]",
      "text/plain": [
       "<Figure size 1000x500 with 2 Axes>"
      ]
     },
     "metadata": {},
     "output_type": "display_data"
    }
   ],
   "source": [
    "# 학습과정 표시하기(validation dataset 없는 경우)\n",
    "fig, loss_ax = plt.subplots(figsize=(10,5))\n",
    "loss_ax.plot(hist.history['loss'], 'r', label='train loss')\n",
    "loss_ax.set_xlabel('epoch')\n",
    "loss_ax.set_ylabel('loss')\n",
    "acc_ax = loss_ax.twinx()\n",
    "acc_ax.plot(hist.history['binary_accuracy'], 'b', label='train accuracy')\n",
    "acc_ax.set_ylabel('accuracy')\n",
    "loss_ax.legend(loc='center right')\n",
    "acc_ax.legend(bbox_to_anchor=(0.999, 0.65))\n",
    "plt.show()"
   ]
  },
  {
   "cell_type": "code",
   "execution_count": 34,
   "id": "f6cc3bd5",
   "metadata": {},
   "outputs": [
    {
     "name": "stdout",
     "output_type": "stream",
     "text": [
      "22/22 [==============================] - 0s 3ms/step - loss: 0.4889 - binary_accuracy: 0.7771\n"
     ]
    },
    {
     "data": {
      "text/plain": [
       "[0.4889054596424103, 0.7771428823471069]"
      ]
     },
     "execution_count": 34,
     "metadata": {},
     "output_type": "execute_result"
    }
   ],
   "source": [
    "# 모델 평가(X)\n",
    "model.evaluate(X_train, y_train)"
   ]
  },
  {
   "cell_type": "code",
   "execution_count": 35,
   "id": "b03ab4ee",
   "metadata": {},
   "outputs": [
    {
     "name": "stdout",
     "output_type": "stream",
     "text": [
      "3/3 [==============================] - 0s 3ms/step - loss: 0.6064 - binary_accuracy: 0.7941\n",
      "loss : 0.6064150929450989, 정확도 : 79.41176295280457%\n"
     ]
    }
   ],
   "source": [
    "# 모델 평가(o)\n",
    "score = model.evaluate(X_test, y_test)\n",
    "print(\"loss : {}, 정확도 : {}%\".format(score[0], score[1]*100))"
   ]
  },
  {
   "cell_type": "markdown",
   "id": "c22f14b6",
   "metadata": {},
   "source": [
    "## 6. 모델 사용하기"
   ]
  },
  {
   "cell_type": "code",
   "execution_count": 45,
   "id": "117edb79",
   "metadata": {},
   "outputs": [
    {
     "data": {
      "text/plain": [
       "(array([  4.   , 110.   ,  92.   ,   0.   ,   0.   ,  37.6  ,   0.191,\n",
       "         30.   ]),\n",
       " 0.0)"
      ]
     },
     "execution_count": 45,
     "metadata": {},
     "output_type": "execute_result"
    }
   ],
   "source": [
    "X_train[10], y_train[10]"
   ]
  },
  {
   "cell_type": "code",
   "execution_count": 39,
   "id": "b165bbbc",
   "metadata": {},
   "outputs": [
    {
     "name": "stdout",
     "output_type": "stream",
     "text": [
      "1/1 [==============================] - 0s 31ms/step\n"
     ]
    },
    {
     "data": {
      "text/plain": [
       "array([[0.76793426]], dtype=float32)"
      ]
     },
     "execution_count": 39,
     "metadata": {},
     "output_type": "execute_result"
    }
   ],
   "source": [
    "model.predict([[6, 148, 72, 35, 0, 33.6, 0.6, 50]])"
   ]
  },
  {
   "cell_type": "code",
   "execution_count": 46,
   "id": "f7a31528",
   "metadata": {},
   "outputs": [
    {
     "name": "stdout",
     "output_type": "stream",
     "text": [
      "1/1 [==============================] - 0s 31ms/step\n"
     ]
    },
    {
     "data": {
      "text/plain": [
       "array([[0],\n",
       "       [1]])"
      ]
     },
     "execution_count": 46,
     "metadata": {},
     "output_type": "execute_result"
    }
   ],
   "source": [
    "(model.predict([[4, 110, 92, 0, 0, 37.6, 0.191, 30],\n",
    "                   [6, 148, 72, 35, 0, 33.6, 0.6, 45]]) > 0.5).astype(int)"
   ]
  },
  {
   "cell_type": "markdown",
   "id": "52dffed1",
   "metadata": {},
   "source": [
    "## 7. 교차표\n",
    "- 테스트 데이터셋의 실제값(y_test)과 예측값"
   ]
  },
  {
   "cell_type": "code",
   "execution_count": 54,
   "id": "b12d2eb0",
   "metadata": {},
   "outputs": [
    {
     "name": "stdout",
     "output_type": "stream",
     "text": [
      "3/3 [==============================] - 0s 2ms/step\n",
      "17 10\n",
      "4 37\n"
     ]
    }
   ],
   "source": [
    "y_hat = (model.predict(X_test)>0.5).astype(float)\n",
    "cnt1=0; cnt2=0; cnt3=0; cnt4=0\n",
    "# y_hat.shape, y_test.shape\n",
    "for h, y in zip(y_hat.reshape(-1), y_test.reshape(-1)):\n",
    "    if h==1.0 and y==1.0:\n",
    "        cnt1 += 1\n",
    "    elif y==1.0 and h==0.0:\n",
    "        cnt2 += 1\n",
    "    elif y==0.0 and h==1.0:\n",
    "        cnt3 += 1\n",
    "    else:\n",
    "        cnt4 += 1\n",
    "print(cnt1, cnt2)\n",
    "print(cnt3, cnt4)"
   ]
  },
  {
   "cell_type": "code",
   "execution_count": 60,
   "id": "42a42bab",
   "metadata": {},
   "outputs": [
    {
     "data": {
      "text/html": [
       "<div>\n",
       "<style scoped>\n",
       "    .dataframe tbody tr th:only-of-type {\n",
       "        vertical-align: middle;\n",
       "    }\n",
       "\n",
       "    .dataframe tbody tr th {\n",
       "        vertical-align: top;\n",
       "    }\n",
       "\n",
       "    .dataframe thead th {\n",
       "        text-align: right;\n",
       "    }\n",
       "</style>\n",
       "<table border=\"1\" class=\"dataframe\">\n",
       "  <thead>\n",
       "    <tr style=\"text-align: right;\">\n",
       "      <th>예측값</th>\n",
       "      <th>0.0</th>\n",
       "      <th>1.0</th>\n",
       "    </tr>\n",
       "    <tr>\n",
       "      <th>실제값</th>\n",
       "      <th></th>\n",
       "      <th></th>\n",
       "    </tr>\n",
       "  </thead>\n",
       "  <tbody>\n",
       "    <tr>\n",
       "      <th>0.0</th>\n",
       "      <td>37</td>\n",
       "      <td>4</td>\n",
       "    </tr>\n",
       "    <tr>\n",
       "      <th>1.0</th>\n",
       "      <td>10</td>\n",
       "      <td>17</td>\n",
       "    </tr>\n",
       "  </tbody>\n",
       "</table>\n",
       "</div>"
      ],
      "text/plain": [
       "예측값  0.0  1.0\n",
       "실제값          \n",
       "0.0   37    4\n",
       "1.0   10   17"
      ]
     },
     "execution_count": 60,
     "metadata": {},
     "output_type": "execute_result"
    }
   ],
   "source": [
    "ctab = pd.crosstab(y_test, y_hat.reshape(-1))\n",
    "ctab.index.name = '실제값'\n",
    "ctab.columns.name='예측값'\n",
    "ctab"
   ]
  },
  {
   "cell_type": "markdown",
   "id": "a81b2cb3",
   "metadata": {},
   "source": [
    "# 분류분석\n",
    "```\n",
    "1. 데이터셋 생성 및 전처리 : 훈련셋600, 검증셋100, 테스트셋68으로 분리, 종속변수의 원핫인코딩\n",
    "2. 모델생성(input 8, target 2) : 출력층에서의 활성화함수 'softmax'\n",
    "    * model.summary()에서 파라미터 수 확인\n",
    "3. 모델학습과정 설정 : loss='categorical_crossentropy' metrics=['accuracy']\n",
    "4. 모델 학습 : validation_data=[X_val, Y_val] 추가해서 학습\n",
    "5. 모델 학습 평가 : 그래프(hist.history.keys()를 확인후 4가지)\n",
    "             평가(X_test, Y_test)\n",
    "             교차표(pd.crosstab 이용)\n",
    "6. 모델 사용하기 - 예측\n",
    "              0      1\n",
    "             0.9912  0.00124\n",
    "```"
   ]
  },
  {
   "cell_type": "code",
   "execution_count": 2,
   "id": "619c901b",
   "metadata": {},
   "outputs": [],
   "source": [
    "import numpy as np\n",
    "import pandas as pd\n",
    "import sys\n",
    "from tensorflow.keras import utils # utils.to_categorical\n",
    "from tensorflow.keras.models import Sequential # 모델생성\n",
    "from tensorflow.keras.layers import Dense, Input\n",
    "import matplotlib.pyplot as plt"
   ]
  },
  {
   "cell_type": "markdown",
   "id": "520db280",
   "metadata": {},
   "source": [
    "## 1. 데이터셋 생성 및 전처리"
   ]
  },
  {
   "cell_type": "code",
   "execution_count": 3,
   "id": "4e9618b5",
   "metadata": {},
   "outputs": [
    {
     "data": {
      "text/plain": [
       "(768, 9)"
      ]
     },
     "execution_count": 3,
     "metadata": {},
     "output_type": "execute_result"
    }
   ],
   "source": [
    "dataset = np.loadtxt('data/pima-indians-diabetes.csv', delimiter=',')\n",
    "dataset.shape"
   ]
  },
  {
   "cell_type": "code",
   "execution_count": 4,
   "id": "66baa50a",
   "metadata": {},
   "outputs": [
    {
     "data": {
      "text/plain": [
       "((600, 8), (600,), (100, 8), (100,), (68, 8), (68,))"
      ]
     },
     "execution_count": 4,
     "metadata": {},
     "output_type": "execute_result"
    }
   ],
   "source": [
    "# 훈련셋600, 검증셋100, 테스트셋68으로 분리\n",
    "X_train = dataset[:600, :-1]\n",
    "y_train = dataset[:600, -1]\n",
    "X_val = dataset[600:700, :-1]\n",
    "y_val = dataset[600:700, -1]\n",
    "X_test = dataset[700:, :-1]\n",
    "y_test = dataset[700:, -1]\n",
    "X_train.shape, y_train.shape, X_val.shape, y_val.shape, X_test.shape, y_test.shape"
   ]
  },
  {
   "cell_type": "code",
   "execution_count": 5,
   "id": "e7b09965",
   "metadata": {},
   "outputs": [
    {
     "data": {
      "text/plain": [
       "((600, 8), (600, 2), (100, 8), (100,), (68, 8), (68, 2))"
      ]
     },
     "execution_count": 5,
     "metadata": {},
     "output_type": "execute_result"
    }
   ],
   "source": [
    "# 종속변수의 원핫인코딩\n",
    "Y_train = utils.to_categorical(y_train, 2)\n",
    "Y_val = utils.to_categorical(y_val, 2)\n",
    "Y_test = utils.to_categorical(y_test, 2)\n",
    "X_train.shape, Y_train.shape, X_val.shape, y_val.shape, X_test.shape, Y_test.shape"
   ]
  },
  {
   "cell_type": "code",
   "execution_count": 7,
   "id": "453fb3a4",
   "metadata": {},
   "outputs": [
    {
     "data": {
      "text/plain": [
       "(array([1., 0.]),\n",
       " array([[0., 1.],\n",
       "        [1., 0.]], dtype=float32))"
      ]
     },
     "execution_count": 7,
     "metadata": {},
     "output_type": "execute_result"
    }
   ],
   "source": [
    "y_train[:2], Y_train[:2]"
   ]
  },
  {
   "cell_type": "code",
   "execution_count": 8,
   "id": "7781aa07",
   "metadata": {},
   "outputs": [
    {
     "data": {
      "text/plain": [
       "array([[1., 0., 1.],\n",
       "       [0., 1., 0.]])"
      ]
     },
     "execution_count": 8,
     "metadata": {},
     "output_type": "execute_result"
    }
   ],
   "source": [
    "np.c_[y_train[:2], Y_train[:2]]"
   ]
  },
  {
   "cell_type": "markdown",
   "id": "fab630b0",
   "metadata": {},
   "source": [
    "## 2. 모델생성(input 8, target 2) "
   ]
  },
  {
   "cell_type": "code",
   "execution_count": 9,
   "id": "a2f99b93",
   "metadata": {},
   "outputs": [
    {
     "name": "stdout",
     "output_type": "stream",
     "text": [
      "Model: \"sequential\"\n",
      "_________________________________________________________________\n",
      " Layer (type)                Output Shape              Param #   \n",
      "=================================================================\n",
      " dense (Dense)               (None, 12)                108       \n",
      "                                                                 \n",
      " dense_1 (Dense)             (None, 8)                 104       \n",
      "                                                                 \n",
      " dense_2 (Dense)             (None, 2)                 18        \n",
      "                                                                 \n",
      "=================================================================\n",
      "Total params: 230\n",
      "Trainable params: 230\n",
      "Non-trainable params: 0\n",
      "_________________________________________________________________\n"
     ]
    }
   ],
   "source": [
    "model = Sequential()\n",
    "model.add(Input(shape=(8,)))\n",
    "model.add(Dense(units=12, activation='relu'))\n",
    "model.add(Dense(units=8, activation='relu'))\n",
    "model.add(Dense(units=2, activation='softmax'))\n",
    "model.summary()"
   ]
  },
  {
   "cell_type": "markdown",
   "id": "7f81e334",
   "metadata": {},
   "source": [
    "## 3. 학습과정 설정"
   ]
  },
  {
   "cell_type": "code",
   "execution_count": 10,
   "id": "af115c43",
   "metadata": {},
   "outputs": [],
   "source": [
    "model.compile(loss='categorical_crossentropy', optimizer='nadam', metrics=['accuracy'])"
   ]
  },
  {
   "cell_type": "markdown",
   "id": "13dd4547",
   "metadata": {},
   "source": [
    "## 4. 모델 학습"
   ]
  },
  {
   "cell_type": "code",
   "execution_count": 11,
   "id": "f5894507",
   "metadata": {},
   "outputs": [
    {
     "name": "stdout",
     "output_type": "stream",
     "text": [
      "Epoch 1/300\n",
      "19/19 [==============================] - 1s 15ms/step - loss: 13.3548 - accuracy: 0.6483 - val_loss: 9.7724 - val_accuracy: 0.6700\n",
      "Epoch 2/300\n",
      "19/19 [==============================] - 0s 7ms/step - loss: 8.3890 - accuracy: 0.5767 - val_loss: 5.3400 - val_accuracy: 0.6200\n",
      "Epoch 3/300\n",
      "19/19 [==============================] - 0s 7ms/step - loss: 4.3560 - accuracy: 0.5000 - val_loss: 2.4480 - val_accuracy: 0.6200\n",
      "Epoch 4/300\n",
      "19/19 [==============================] - 0s 7ms/step - loss: 3.0026 - accuracy: 0.4300 - val_loss: 1.8882 - val_accuracy: 0.5500\n",
      "Epoch 5/300\n",
      "19/19 [==============================] - 0s 6ms/step - loss: 2.3548 - accuracy: 0.4300 - val_loss: 1.4744 - val_accuracy: 0.5700\n",
      "Epoch 6/300\n",
      "19/19 [==============================] - 0s 6ms/step - loss: 1.7299 - accuracy: 0.4433 - val_loss: 1.2082 - val_accuracy: 0.5900\n",
      "Epoch 7/300\n",
      "19/19 [==============================] - 0s 6ms/step - loss: 1.4247 - accuracy: 0.4750 - val_loss: 1.0527 - val_accuracy: 0.5900\n",
      "Epoch 8/300\n",
      "19/19 [==============================] - 0s 6ms/step - loss: 1.2728 - accuracy: 0.4850 - val_loss: 0.9297 - val_accuracy: 0.6100\n",
      "Epoch 9/300\n",
      "19/19 [==============================] - 0s 6ms/step - loss: 1.1377 - accuracy: 0.4933 - val_loss: 0.8767 - val_accuracy: 0.5900\n",
      "Epoch 10/300\n",
      "19/19 [==============================] - 0s 6ms/step - loss: 1.0485 - accuracy: 0.5100 - val_loss: 0.8665 - val_accuracy: 0.6100\n",
      "Epoch 11/300\n",
      "19/19 [==============================] - 0s 6ms/step - loss: 0.9903 - accuracy: 0.5150 - val_loss: 0.8104 - val_accuracy: 0.6400\n",
      "Epoch 12/300\n",
      "19/19 [==============================] - 0s 6ms/step - loss: 0.9377 - accuracy: 0.5333 - val_loss: 0.7555 - val_accuracy: 0.6200\n",
      "Epoch 13/300\n",
      "19/19 [==============================] - 0s 6ms/step - loss: 0.8810 - accuracy: 0.5567 - val_loss: 0.7612 - val_accuracy: 0.6100\n",
      "Epoch 14/300\n",
      "19/19 [==============================] - 0s 6ms/step - loss: 0.8501 - accuracy: 0.5683 - val_loss: 0.7320 - val_accuracy: 0.6500\n",
      "Epoch 15/300\n",
      "19/19 [==============================] - 0s 6ms/step - loss: 0.8270 - accuracy: 0.5783 - val_loss: 0.7558 - val_accuracy: 0.6200\n",
      "Epoch 16/300\n",
      "19/19 [==============================] - 0s 6ms/step - loss: 0.8099 - accuracy: 0.5783 - val_loss: 0.7032 - val_accuracy: 0.6800\n",
      "Epoch 17/300\n",
      "19/19 [==============================] - 0s 6ms/step - loss: 0.7797 - accuracy: 0.6033 - val_loss: 0.6933 - val_accuracy: 0.7000\n",
      "Epoch 18/300\n",
      "19/19 [==============================] - 0s 6ms/step - loss: 0.7636 - accuracy: 0.6117 - val_loss: 0.6842 - val_accuracy: 0.6700\n",
      "Epoch 19/300\n",
      "19/19 [==============================] - 0s 6ms/step - loss: 0.7408 - accuracy: 0.6350 - val_loss: 0.6796 - val_accuracy: 0.6700\n",
      "Epoch 20/300\n",
      "19/19 [==============================] - 0s 6ms/step - loss: 0.7224 - accuracy: 0.6400 - val_loss: 0.6851 - val_accuracy: 0.6600\n",
      "Epoch 21/300\n",
      "19/19 [==============================] - 0s 6ms/step - loss: 0.7117 - accuracy: 0.6467 - val_loss: 0.6837 - val_accuracy: 0.6900\n",
      "Epoch 22/300\n",
      "19/19 [==============================] - 0s 6ms/step - loss: 0.7004 - accuracy: 0.6550 - val_loss: 0.6762 - val_accuracy: 0.7000\n",
      "Epoch 23/300\n",
      "19/19 [==============================] - 0s 7ms/step - loss: 0.6892 - accuracy: 0.6400 - val_loss: 0.6762 - val_accuracy: 0.6900\n",
      "Epoch 24/300\n",
      "19/19 [==============================] - 0s 6ms/step - loss: 0.6912 - accuracy: 0.6500 - val_loss: 0.6715 - val_accuracy: 0.6900\n",
      "Epoch 25/300\n",
      "19/19 [==============================] - 0s 7ms/step - loss: 0.6662 - accuracy: 0.6733 - val_loss: 0.6805 - val_accuracy: 0.6800\n",
      "Epoch 26/300\n",
      "19/19 [==============================] - 0s 7ms/step - loss: 0.6706 - accuracy: 0.6600 - val_loss: 0.6849 - val_accuracy: 0.6500\n",
      "Epoch 27/300\n",
      "19/19 [==============================] - 0s 6ms/step - loss: 0.6572 - accuracy: 0.6667 - val_loss: 0.6767 - val_accuracy: 0.7000\n",
      "Epoch 28/300\n",
      "19/19 [==============================] - 0s 6ms/step - loss: 0.6629 - accuracy: 0.6717 - val_loss: 0.6625 - val_accuracy: 0.6700\n",
      "Epoch 29/300\n",
      "19/19 [==============================] - 0s 6ms/step - loss: 0.6473 - accuracy: 0.6800 - val_loss: 0.6799 - val_accuracy: 0.6800\n",
      "Epoch 30/300\n",
      "19/19 [==============================] - 0s 8ms/step - loss: 0.6453 - accuracy: 0.6717 - val_loss: 0.6913 - val_accuracy: 0.7100\n",
      "Epoch 31/300\n",
      "19/19 [==============================] - 0s 6ms/step - loss: 0.6389 - accuracy: 0.6817 - val_loss: 0.6936 - val_accuracy: 0.7100\n",
      "Epoch 32/300\n",
      "19/19 [==============================] - 0s 6ms/step - loss: 0.6405 - accuracy: 0.6783 - val_loss: 0.6874 - val_accuracy: 0.7100\n",
      "Epoch 33/300\n",
      "19/19 [==============================] - 0s 6ms/step - loss: 0.6305 - accuracy: 0.6817 - val_loss: 0.6858 - val_accuracy: 0.7000\n",
      "Epoch 34/300\n",
      "19/19 [==============================] - 0s 6ms/step - loss: 0.6338 - accuracy: 0.6800 - val_loss: 0.6863 - val_accuracy: 0.6300\n",
      "Epoch 35/300\n",
      "19/19 [==============================] - 0s 6ms/step - loss: 0.6252 - accuracy: 0.6733 - val_loss: 0.6715 - val_accuracy: 0.6700\n",
      "Epoch 36/300\n",
      "19/19 [==============================] - 0s 6ms/step - loss: 0.6151 - accuracy: 0.6867 - val_loss: 0.6770 - val_accuracy: 0.6700\n",
      "Epoch 37/300\n",
      "19/19 [==============================] - 0s 6ms/step - loss: 0.6236 - accuracy: 0.6900 - val_loss: 0.6728 - val_accuracy: 0.6900\n",
      "Epoch 38/300\n",
      "19/19 [==============================] - 0s 6ms/step - loss: 0.6149 - accuracy: 0.6817 - val_loss: 0.6673 - val_accuracy: 0.6900\n",
      "Epoch 39/300\n",
      "19/19 [==============================] - 0s 6ms/step - loss: 0.6101 - accuracy: 0.6950 - val_loss: 0.6688 - val_accuracy: 0.6900\n",
      "Epoch 40/300\n",
      "19/19 [==============================] - 0s 6ms/step - loss: 0.6124 - accuracy: 0.6833 - val_loss: 0.6657 - val_accuracy: 0.6900\n",
      "Epoch 41/300\n",
      "19/19 [==============================] - 0s 6ms/step - loss: 0.6075 - accuracy: 0.6950 - val_loss: 0.6627 - val_accuracy: 0.7000\n",
      "Epoch 42/300\n",
      "19/19 [==============================] - 0s 6ms/step - loss: 0.6054 - accuracy: 0.7000 - val_loss: 0.6635 - val_accuracy: 0.6700\n",
      "Epoch 43/300\n",
      "19/19 [==============================] - 0s 6ms/step - loss: 0.6088 - accuracy: 0.6933 - val_loss: 0.6771 - val_accuracy: 0.7300\n",
      "Epoch 44/300\n",
      "19/19 [==============================] - 0s 6ms/step - loss: 0.5984 - accuracy: 0.7100 - val_loss: 0.6713 - val_accuracy: 0.6900\n",
      "Epoch 45/300\n",
      "19/19 [==============================] - 0s 7ms/step - loss: 0.5982 - accuracy: 0.6917 - val_loss: 0.6675 - val_accuracy: 0.7600\n",
      "Epoch 46/300\n",
      "19/19 [==============================] - 0s 6ms/step - loss: 0.6037 - accuracy: 0.6983 - val_loss: 0.6559 - val_accuracy: 0.7400\n",
      "Epoch 47/300\n",
      "19/19 [==============================] - 0s 6ms/step - loss: 0.5941 - accuracy: 0.6833 - val_loss: 0.6732 - val_accuracy: 0.7400\n",
      "Epoch 48/300\n",
      "19/19 [==============================] - 0s 6ms/step - loss: 0.6037 - accuracy: 0.7033 - val_loss: 0.6560 - val_accuracy: 0.6800\n",
      "Epoch 49/300\n",
      "19/19 [==============================] - 0s 6ms/step - loss: 0.5919 - accuracy: 0.7067 - val_loss: 0.6482 - val_accuracy: 0.7000\n",
      "Epoch 50/300\n",
      "19/19 [==============================] - 0s 6ms/step - loss: 0.5868 - accuracy: 0.7167 - val_loss: 0.6479 - val_accuracy: 0.6800\n",
      "Epoch 51/300\n",
      "19/19 [==============================] - 0s 10ms/step - loss: 0.5967 - accuracy: 0.7117 - val_loss: 0.6413 - val_accuracy: 0.7000\n",
      "Epoch 52/300\n",
      "19/19 [==============================] - 0s 9ms/step - loss: 0.5814 - accuracy: 0.6967 - val_loss: 0.6627 - val_accuracy: 0.6600\n",
      "Epoch 53/300\n",
      "19/19 [==============================] - 0s 7ms/step - loss: 0.5819 - accuracy: 0.7083 - val_loss: 0.6581 - val_accuracy: 0.7100\n",
      "Epoch 54/300\n",
      "19/19 [==============================] - 0s 6ms/step - loss: 0.5833 - accuracy: 0.7067 - val_loss: 0.6478 - val_accuracy: 0.6900\n",
      "Epoch 55/300\n",
      "19/19 [==============================] - 0s 6ms/step - loss: 0.5770 - accuracy: 0.7033 - val_loss: 0.6628 - val_accuracy: 0.7000\n",
      "Epoch 56/300\n",
      "19/19 [==============================] - 0s 6ms/step - loss: 0.5714 - accuracy: 0.7133 - val_loss: 0.6657 - val_accuracy: 0.7000\n",
      "Epoch 57/300\n",
      "19/19 [==============================] - 0s 6ms/step - loss: 0.5706 - accuracy: 0.7283 - val_loss: 0.6343 - val_accuracy: 0.7500\n",
      "Epoch 58/300\n",
      "19/19 [==============================] - 0s 6ms/step - loss: 0.5649 - accuracy: 0.7200 - val_loss: 0.6695 - val_accuracy: 0.6300\n"
     ]
    },
    {
     "name": "stdout",
     "output_type": "stream",
     "text": [
      "Epoch 59/300\n",
      "19/19 [==============================] - 0s 6ms/step - loss: 0.5685 - accuracy: 0.7333 - val_loss: 0.6282 - val_accuracy: 0.7200\n",
      "Epoch 60/300\n",
      "19/19 [==============================] - 0s 7ms/step - loss: 0.5707 - accuracy: 0.7150 - val_loss: 0.6257 - val_accuracy: 0.6700\n",
      "Epoch 61/300\n",
      "19/19 [==============================] - 0s 6ms/step - loss: 0.5573 - accuracy: 0.7233 - val_loss: 0.6354 - val_accuracy: 0.6600\n",
      "Epoch 62/300\n",
      "19/19 [==============================] - 0s 6ms/step - loss: 0.5589 - accuracy: 0.7183 - val_loss: 0.6578 - val_accuracy: 0.6600\n",
      "Epoch 63/300\n",
      "19/19 [==============================] - 0s 6ms/step - loss: 0.5607 - accuracy: 0.7317 - val_loss: 0.6409 - val_accuracy: 0.7100\n",
      "Epoch 64/300\n",
      "19/19 [==============================] - 0s 6ms/step - loss: 0.5491 - accuracy: 0.7300 - val_loss: 0.6263 - val_accuracy: 0.7400\n",
      "Epoch 65/300\n",
      "19/19 [==============================] - 0s 6ms/step - loss: 0.5495 - accuracy: 0.7233 - val_loss: 0.6354 - val_accuracy: 0.6500\n",
      "Epoch 66/300\n",
      "19/19 [==============================] - 0s 6ms/step - loss: 0.5520 - accuracy: 0.7333 - val_loss: 0.6515 - val_accuracy: 0.6900\n",
      "Epoch 67/300\n",
      "19/19 [==============================] - 0s 6ms/step - loss: 0.5530 - accuracy: 0.7333 - val_loss: 0.6467 - val_accuracy: 0.6900\n",
      "Epoch 68/300\n",
      "19/19 [==============================] - 0s 6ms/step - loss: 0.5578 - accuracy: 0.7183 - val_loss: 0.6253 - val_accuracy: 0.7000\n",
      "Epoch 69/300\n",
      "19/19 [==============================] - 0s 6ms/step - loss: 0.5481 - accuracy: 0.7250 - val_loss: 0.6282 - val_accuracy: 0.6600\n",
      "Epoch 70/300\n",
      "19/19 [==============================] - 0s 6ms/step - loss: 0.5512 - accuracy: 0.7217 - val_loss: 0.6209 - val_accuracy: 0.7300\n",
      "Epoch 71/300\n",
      "19/19 [==============================] - 0s 6ms/step - loss: 0.5502 - accuracy: 0.7183 - val_loss: 0.6246 - val_accuracy: 0.7200\n",
      "Epoch 72/300\n",
      "19/19 [==============================] - 0s 6ms/step - loss: 0.5408 - accuracy: 0.7250 - val_loss: 0.6420 - val_accuracy: 0.6900\n",
      "Epoch 73/300\n",
      "19/19 [==============================] - 0s 6ms/step - loss: 0.5532 - accuracy: 0.7217 - val_loss: 0.6279 - val_accuracy: 0.7200\n",
      "Epoch 74/300\n",
      "19/19 [==============================] - 0s 9ms/step - loss: 0.5500 - accuracy: 0.7233 - val_loss: 0.6277 - val_accuracy: 0.6500\n",
      "Epoch 75/300\n",
      "19/19 [==============================] - 0s 9ms/step - loss: 0.5415 - accuracy: 0.7250 - val_loss: 0.6244 - val_accuracy: 0.6400\n",
      "Epoch 76/300\n",
      "19/19 [==============================] - 0s 6ms/step - loss: 0.5455 - accuracy: 0.7233 - val_loss: 0.6527 - val_accuracy: 0.7000\n",
      "Epoch 77/300\n",
      "19/19 [==============================] - 0s 6ms/step - loss: 0.5427 - accuracy: 0.7333 - val_loss: 0.6221 - val_accuracy: 0.7600\n",
      "Epoch 78/300\n",
      "19/19 [==============================] - 0s 6ms/step - loss: 0.5453 - accuracy: 0.7167 - val_loss: 0.6191 - val_accuracy: 0.6900\n",
      "Epoch 79/300\n",
      "19/19 [==============================] - 0s 6ms/step - loss: 0.5352 - accuracy: 0.7300 - val_loss: 0.6059 - val_accuracy: 0.7300\n",
      "Epoch 80/300\n",
      "19/19 [==============================] - 0s 6ms/step - loss: 0.5390 - accuracy: 0.7367 - val_loss: 0.6126 - val_accuracy: 0.7200\n",
      "Epoch 81/300\n",
      "19/19 [==============================] - 0s 6ms/step - loss: 0.5363 - accuracy: 0.7350 - val_loss: 0.6341 - val_accuracy: 0.6200\n",
      "Epoch 82/300\n",
      "19/19 [==============================] - 0s 9ms/step - loss: 0.5370 - accuracy: 0.7183 - val_loss: 0.6104 - val_accuracy: 0.6400\n",
      "Epoch 83/300\n",
      "19/19 [==============================] - 0s 10ms/step - loss: 0.5415 - accuracy: 0.7200 - val_loss: 0.6021 - val_accuracy: 0.7300\n",
      "Epoch 84/300\n",
      "19/19 [==============================] - 0s 6ms/step - loss: 0.5474 - accuracy: 0.7283 - val_loss: 0.6058 - val_accuracy: 0.7500\n",
      "Epoch 85/300\n",
      "19/19 [==============================] - 0s 6ms/step - loss: 0.5380 - accuracy: 0.7333 - val_loss: 0.6080 - val_accuracy: 0.7100\n",
      "Epoch 86/300\n",
      "19/19 [==============================] - 0s 6ms/step - loss: 0.5318 - accuracy: 0.7483 - val_loss: 0.6215 - val_accuracy: 0.6900\n",
      "Epoch 87/300\n",
      "19/19 [==============================] - 0s 7ms/step - loss: 0.5356 - accuracy: 0.7300 - val_loss: 0.6298 - val_accuracy: 0.6800\n",
      "Epoch 88/300\n",
      "19/19 [==============================] - 0s 6ms/step - loss: 0.5330 - accuracy: 0.7383 - val_loss: 0.6077 - val_accuracy: 0.6900\n",
      "Epoch 89/300\n",
      "19/19 [==============================] - 0s 6ms/step - loss: 0.5347 - accuracy: 0.7383 - val_loss: 0.6019 - val_accuracy: 0.7200\n",
      "Epoch 90/300\n",
      "19/19 [==============================] - 0s 6ms/step - loss: 0.5272 - accuracy: 0.7317 - val_loss: 0.5963 - val_accuracy: 0.7400\n",
      "Epoch 91/300\n",
      "19/19 [==============================] - 0s 6ms/step - loss: 0.5349 - accuracy: 0.7333 - val_loss: 0.6026 - val_accuracy: 0.7300\n",
      "Epoch 92/300\n",
      "19/19 [==============================] - 0s 6ms/step - loss: 0.5359 - accuracy: 0.7467 - val_loss: 0.6070 - val_accuracy: 0.6700\n",
      "Epoch 93/300\n",
      "19/19 [==============================] - 0s 6ms/step - loss: 0.5288 - accuracy: 0.7417 - val_loss: 0.5886 - val_accuracy: 0.7400\n",
      "Epoch 94/300\n",
      "19/19 [==============================] - 0s 6ms/step - loss: 0.5344 - accuracy: 0.7517 - val_loss: 0.5880 - val_accuracy: 0.7100\n",
      "Epoch 95/300\n",
      "19/19 [==============================] - 0s 6ms/step - loss: 0.5257 - accuracy: 0.7383 - val_loss: 0.5989 - val_accuracy: 0.7400\n",
      "Epoch 96/300\n",
      "19/19 [==============================] - 0s 6ms/step - loss: 0.5281 - accuracy: 0.7200 - val_loss: 0.5895 - val_accuracy: 0.7400\n",
      "Epoch 97/300\n",
      "19/19 [==============================] - 0s 6ms/step - loss: 0.5224 - accuracy: 0.7400 - val_loss: 0.5819 - val_accuracy: 0.7300\n",
      "Epoch 98/300\n",
      "19/19 [==============================] - 0s 6ms/step - loss: 0.5197 - accuracy: 0.7433 - val_loss: 0.5983 - val_accuracy: 0.7300\n",
      "Epoch 99/300\n",
      "19/19 [==============================] - 0s 7ms/step - loss: 0.5257 - accuracy: 0.7417 - val_loss: 0.5714 - val_accuracy: 0.7200\n",
      "Epoch 100/300\n",
      "19/19 [==============================] - 0s 6ms/step - loss: 0.5257 - accuracy: 0.7383 - val_loss: 0.6039 - val_accuracy: 0.7000\n",
      "Epoch 101/300\n",
      "19/19 [==============================] - 0s 6ms/step - loss: 0.5305 - accuracy: 0.7483 - val_loss: 0.5869 - val_accuracy: 0.7000\n",
      "Epoch 102/300\n",
      "19/19 [==============================] - 0s 6ms/step - loss: 0.5201 - accuracy: 0.7517 - val_loss: 0.6079 - val_accuracy: 0.7400\n",
      "Epoch 103/300\n",
      "19/19 [==============================] - 0s 6ms/step - loss: 0.5227 - accuracy: 0.7517 - val_loss: 0.5810 - val_accuracy: 0.7400\n",
      "Epoch 104/300\n",
      "19/19 [==============================] - 0s 6ms/step - loss: 0.5161 - accuracy: 0.7517 - val_loss: 0.5828 - val_accuracy: 0.7500\n",
      "Epoch 105/300\n",
      "19/19 [==============================] - 0s 6ms/step - loss: 0.5293 - accuracy: 0.7233 - val_loss: 0.5823 - val_accuracy: 0.7300\n",
      "Epoch 106/300\n",
      "19/19 [==============================] - 0s 11ms/step - loss: 0.5194 - accuracy: 0.7417 - val_loss: 0.5883 - val_accuracy: 0.7500\n",
      "Epoch 107/300\n",
      "19/19 [==============================] - 0s 9ms/step - loss: 0.5156 - accuracy: 0.7400 - val_loss: 0.5764 - val_accuracy: 0.7400\n",
      "Epoch 108/300\n",
      "19/19 [==============================] - 0s 6ms/step - loss: 0.5239 - accuracy: 0.7400 - val_loss: 0.5765 - val_accuracy: 0.7500\n",
      "Epoch 109/300\n",
      "19/19 [==============================] - 0s 6ms/step - loss: 0.5125 - accuracy: 0.7550 - val_loss: 0.5895 - val_accuracy: 0.6700\n",
      "Epoch 110/300\n",
      "19/19 [==============================] - 0s 7ms/step - loss: 0.5229 - accuracy: 0.7383 - val_loss: 0.6029 - val_accuracy: 0.7300\n",
      "Epoch 111/300\n",
      "19/19 [==============================] - 0s 10ms/step - loss: 0.5190 - accuracy: 0.7233 - val_loss: 0.5775 - val_accuracy: 0.7400\n",
      "Epoch 112/300\n",
      "19/19 [==============================] - 0s 10ms/step - loss: 0.5200 - accuracy: 0.7417 - val_loss: 0.5950 - val_accuracy: 0.7100\n",
      "Epoch 113/300\n",
      "19/19 [==============================] - 0s 6ms/step - loss: 0.5142 - accuracy: 0.7650 - val_loss: 0.5844 - val_accuracy: 0.7300\n",
      "Epoch 114/300\n",
      "19/19 [==============================] - 0s 6ms/step - loss: 0.5144 - accuracy: 0.7450 - val_loss: 0.6020 - val_accuracy: 0.6700\n",
      "Epoch 115/300\n",
      "19/19 [==============================] - 0s 6ms/step - loss: 0.5219 - accuracy: 0.7367 - val_loss: 0.5820 - val_accuracy: 0.7200\n",
      "Epoch 116/300\n"
     ]
    },
    {
     "name": "stdout",
     "output_type": "stream",
     "text": [
      "19/19 [==============================] - 0s 6ms/step - loss: 0.5094 - accuracy: 0.7600 - val_loss: 0.5885 - val_accuracy: 0.7300\n",
      "Epoch 117/300\n",
      "19/19 [==============================] - 0s 6ms/step - loss: 0.5119 - accuracy: 0.7483 - val_loss: 0.5957 - val_accuracy: 0.7400\n",
      "Epoch 118/300\n",
      "19/19 [==============================] - 0s 6ms/step - loss: 0.5248 - accuracy: 0.7300 - val_loss: 0.5829 - val_accuracy: 0.7300\n",
      "Epoch 119/300\n",
      "19/19 [==============================] - 0s 6ms/step - loss: 0.5151 - accuracy: 0.7233 - val_loss: 0.5818 - val_accuracy: 0.7200\n",
      "Epoch 120/300\n",
      "19/19 [==============================] - 0s 6ms/step - loss: 0.5160 - accuracy: 0.7367 - val_loss: 0.5756 - val_accuracy: 0.7300\n",
      "Epoch 121/300\n",
      "19/19 [==============================] - 0s 6ms/step - loss: 0.5156 - accuracy: 0.7500 - val_loss: 0.5909 - val_accuracy: 0.7400\n",
      "Epoch 122/300\n",
      "19/19 [==============================] - 0s 6ms/step - loss: 0.5021 - accuracy: 0.7583 - val_loss: 0.6036 - val_accuracy: 0.7600\n",
      "Epoch 123/300\n",
      "19/19 [==============================] - 0s 6ms/step - loss: 0.5149 - accuracy: 0.7400 - val_loss: 0.5771 - val_accuracy: 0.7400\n",
      "Epoch 124/300\n",
      "19/19 [==============================] - 0s 8ms/step - loss: 0.5072 - accuracy: 0.7467 - val_loss: 0.5936 - val_accuracy: 0.7200\n",
      "Epoch 125/300\n",
      "19/19 [==============================] - 0s 10ms/step - loss: 0.5097 - accuracy: 0.7517 - val_loss: 0.5846 - val_accuracy: 0.7500\n",
      "Epoch 126/300\n",
      "19/19 [==============================] - 0s 8ms/step - loss: 0.5064 - accuracy: 0.7500 - val_loss: 0.5884 - val_accuracy: 0.7500\n",
      "Epoch 127/300\n",
      "19/19 [==============================] - 0s 6ms/step - loss: 0.5105 - accuracy: 0.7367 - val_loss: 0.5866 - val_accuracy: 0.7300\n",
      "Epoch 128/300\n",
      "19/19 [==============================] - 0s 6ms/step - loss: 0.5100 - accuracy: 0.7433 - val_loss: 0.5824 - val_accuracy: 0.7300\n",
      "Epoch 129/300\n",
      "19/19 [==============================] - 0s 6ms/step - loss: 0.5117 - accuracy: 0.7517 - val_loss: 0.6053 - val_accuracy: 0.7300\n",
      "Epoch 130/300\n",
      "19/19 [==============================] - 0s 6ms/step - loss: 0.5130 - accuracy: 0.7450 - val_loss: 0.5604 - val_accuracy: 0.7600\n",
      "Epoch 131/300\n",
      "19/19 [==============================] - 0s 6ms/step - loss: 0.5151 - accuracy: 0.7400 - val_loss: 0.5600 - val_accuracy: 0.7500\n",
      "Epoch 132/300\n",
      "19/19 [==============================] - 0s 6ms/step - loss: 0.5120 - accuracy: 0.7433 - val_loss: 0.5727 - val_accuracy: 0.7400\n",
      "Epoch 133/300\n",
      "19/19 [==============================] - 0s 6ms/step - loss: 0.5168 - accuracy: 0.7400 - val_loss: 0.5658 - val_accuracy: 0.7700\n",
      "Epoch 134/300\n",
      "19/19 [==============================] - 0s 6ms/step - loss: 0.5109 - accuracy: 0.7450 - val_loss: 0.5780 - val_accuracy: 0.7400\n",
      "Epoch 135/300\n",
      "19/19 [==============================] - 0s 6ms/step - loss: 0.5062 - accuracy: 0.7367 - val_loss: 0.5785 - val_accuracy: 0.7300\n",
      "Epoch 136/300\n",
      "19/19 [==============================] - 0s 6ms/step - loss: 0.5103 - accuracy: 0.7583 - val_loss: 0.5689 - val_accuracy: 0.7200\n",
      "Epoch 137/300\n",
      "19/19 [==============================] - 0s 6ms/step - loss: 0.5102 - accuracy: 0.7483 - val_loss: 0.5610 - val_accuracy: 0.7400\n",
      "Epoch 138/300\n",
      "19/19 [==============================] - 0s 6ms/step - loss: 0.5108 - accuracy: 0.7550 - val_loss: 0.5595 - val_accuracy: 0.7600\n",
      "Epoch 139/300\n",
      "19/19 [==============================] - 0s 6ms/step - loss: 0.5055 - accuracy: 0.7450 - val_loss: 0.5783 - val_accuracy: 0.7300\n",
      "Epoch 140/300\n",
      "19/19 [==============================] - 0s 6ms/step - loss: 0.5043 - accuracy: 0.7600 - val_loss: 0.5639 - val_accuracy: 0.7500\n",
      "Epoch 141/300\n",
      "19/19 [==============================] - 0s 6ms/step - loss: 0.5118 - accuracy: 0.7417 - val_loss: 0.5604 - val_accuracy: 0.7400\n",
      "Epoch 142/300\n",
      "19/19 [==============================] - 0s 6ms/step - loss: 0.5056 - accuracy: 0.7517 - val_loss: 0.5604 - val_accuracy: 0.7200\n",
      "Epoch 143/300\n",
      "19/19 [==============================] - 0s 6ms/step - loss: 0.4971 - accuracy: 0.7550 - val_loss: 0.5824 - val_accuracy: 0.7400\n",
      "Epoch 144/300\n",
      "19/19 [==============================] - 0s 6ms/step - loss: 0.4993 - accuracy: 0.7617 - val_loss: 0.5892 - val_accuracy: 0.7400\n",
      "Epoch 145/300\n",
      "19/19 [==============================] - 0s 6ms/step - loss: 0.4967 - accuracy: 0.7650 - val_loss: 0.5850 - val_accuracy: 0.7200\n",
      "Epoch 146/300\n",
      "19/19 [==============================] - 0s 6ms/step - loss: 0.5034 - accuracy: 0.7467 - val_loss: 0.5794 - val_accuracy: 0.7100\n",
      "Epoch 147/300\n",
      "19/19 [==============================] - 0s 6ms/step - loss: 0.5010 - accuracy: 0.7483 - val_loss: 0.5680 - val_accuracy: 0.7400\n",
      "Epoch 148/300\n",
      "19/19 [==============================] - 0s 6ms/step - loss: 0.5083 - accuracy: 0.7383 - val_loss: 0.5739 - val_accuracy: 0.7500\n",
      "Epoch 149/300\n",
      "19/19 [==============================] - 0s 6ms/step - loss: 0.5045 - accuracy: 0.7317 - val_loss: 0.5738 - val_accuracy: 0.7600\n",
      "Epoch 150/300\n",
      "19/19 [==============================] - 0s 6ms/step - loss: 0.5058 - accuracy: 0.7400 - val_loss: 0.5803 - val_accuracy: 0.7700\n",
      "Epoch 151/300\n",
      "19/19 [==============================] - 0s 6ms/step - loss: 0.5011 - accuracy: 0.7500 - val_loss: 0.5755 - val_accuracy: 0.7500\n",
      "Epoch 152/300\n",
      "19/19 [==============================] - 0s 7ms/step - loss: 0.5102 - accuracy: 0.7500 - val_loss: 0.5830 - val_accuracy: 0.7500\n",
      "Epoch 153/300\n",
      "19/19 [==============================] - 0s 7ms/step - loss: 0.5005 - accuracy: 0.7483 - val_loss: 0.5808 - val_accuracy: 0.7500\n",
      "Epoch 154/300\n",
      "19/19 [==============================] - 0s 6ms/step - loss: 0.4981 - accuracy: 0.7467 - val_loss: 0.5598 - val_accuracy: 0.7400\n",
      "Epoch 155/300\n",
      "19/19 [==============================] - 0s 6ms/step - loss: 0.4997 - accuracy: 0.7383 - val_loss: 0.5968 - val_accuracy: 0.7300\n",
      "Epoch 156/300\n",
      "19/19 [==============================] - 0s 6ms/step - loss: 0.5016 - accuracy: 0.7467 - val_loss: 0.5968 - val_accuracy: 0.7300\n",
      "Epoch 157/300\n",
      "19/19 [==============================] - 0s 6ms/step - loss: 0.5009 - accuracy: 0.7650 - val_loss: 0.5715 - val_accuracy: 0.7500\n",
      "Epoch 158/300\n",
      "19/19 [==============================] - 0s 6ms/step - loss: 0.4981 - accuracy: 0.7567 - val_loss: 0.5696 - val_accuracy: 0.7400\n",
      "Epoch 159/300\n",
      "19/19 [==============================] - 0s 6ms/step - loss: 0.4983 - accuracy: 0.7400 - val_loss: 0.5836 - val_accuracy: 0.7300\n",
      "Epoch 160/300\n",
      "19/19 [==============================] - 0s 6ms/step - loss: 0.5022 - accuracy: 0.7533 - val_loss: 0.5524 - val_accuracy: 0.7500\n",
      "Epoch 161/300\n",
      "19/19 [==============================] - 0s 6ms/step - loss: 0.4998 - accuracy: 0.7500 - val_loss: 0.5530 - val_accuracy: 0.7400\n",
      "Epoch 162/300\n",
      "19/19 [==============================] - 0s 6ms/step - loss: 0.4953 - accuracy: 0.7533 - val_loss: 0.5663 - val_accuracy: 0.7600\n",
      "Epoch 163/300\n",
      "19/19 [==============================] - 0s 6ms/step - loss: 0.4981 - accuracy: 0.7417 - val_loss: 0.5492 - val_accuracy: 0.7600\n",
      "Epoch 164/300\n",
      "19/19 [==============================] - 0s 6ms/step - loss: 0.4942 - accuracy: 0.7500 - val_loss: 0.5538 - val_accuracy: 0.7300\n",
      "Epoch 165/300\n",
      "19/19 [==============================] - 0s 6ms/step - loss: 0.4997 - accuracy: 0.7467 - val_loss: 0.5775 - val_accuracy: 0.7200\n",
      "Epoch 166/300\n",
      "19/19 [==============================] - 0s 6ms/step - loss: 0.5019 - accuracy: 0.7450 - val_loss: 0.5625 - val_accuracy: 0.7500\n",
      "Epoch 167/300\n",
      "19/19 [==============================] - 0s 6ms/step - loss: 0.4976 - accuracy: 0.7467 - val_loss: 0.5613 - val_accuracy: 0.7300\n",
      "Epoch 168/300\n",
      "19/19 [==============================] - 0s 6ms/step - loss: 0.4914 - accuracy: 0.7433 - val_loss: 0.5666 - val_accuracy: 0.7500\n",
      "Epoch 169/300\n",
      "19/19 [==============================] - 0s 8ms/step - loss: 0.4967 - accuracy: 0.7550 - val_loss: 0.5563 - val_accuracy: 0.7400\n",
      "Epoch 170/300\n",
      "19/19 [==============================] - 0s 6ms/step - loss: 0.4953 - accuracy: 0.7417 - val_loss: 0.5539 - val_accuracy: 0.7400\n",
      "Epoch 171/300\n",
      "19/19 [==============================] - 0s 6ms/step - loss: 0.4938 - accuracy: 0.7583 - val_loss: 0.5649 - val_accuracy: 0.7600\n",
      "Epoch 172/300\n",
      "19/19 [==============================] - 0s 6ms/step - loss: 0.4950 - accuracy: 0.7583 - val_loss: 0.5570 - val_accuracy: 0.7400\n",
      "Epoch 173/300\n"
     ]
    },
    {
     "name": "stdout",
     "output_type": "stream",
     "text": [
      "19/19 [==============================] - 0s 7ms/step - loss: 0.4953 - accuracy: 0.7383 - val_loss: 0.5677 - val_accuracy: 0.7800\n",
      "Epoch 174/300\n",
      "19/19 [==============================] - 0s 7ms/step - loss: 0.4931 - accuracy: 0.7567 - val_loss: 0.5593 - val_accuracy: 0.7700\n",
      "Epoch 175/300\n",
      "19/19 [==============================] - 0s 6ms/step - loss: 0.4917 - accuracy: 0.7583 - val_loss: 0.5452 - val_accuracy: 0.7300\n",
      "Epoch 176/300\n",
      "19/19 [==============================] - 0s 6ms/step - loss: 0.4910 - accuracy: 0.7450 - val_loss: 0.5787 - val_accuracy: 0.7500\n",
      "Epoch 177/300\n",
      "19/19 [==============================] - 0s 6ms/step - loss: 0.4916 - accuracy: 0.7467 - val_loss: 0.5612 - val_accuracy: 0.7500\n",
      "Epoch 178/300\n",
      "19/19 [==============================] - 0s 6ms/step - loss: 0.4898 - accuracy: 0.7683 - val_loss: 0.5468 - val_accuracy: 0.7400\n",
      "Epoch 179/300\n",
      "19/19 [==============================] - 0s 6ms/step - loss: 0.4886 - accuracy: 0.7517 - val_loss: 0.5617 - val_accuracy: 0.7500\n",
      "Epoch 180/300\n",
      "19/19 [==============================] - 0s 6ms/step - loss: 0.4913 - accuracy: 0.7567 - val_loss: 0.5684 - val_accuracy: 0.7800\n",
      "Epoch 181/300\n",
      "19/19 [==============================] - 0s 6ms/step - loss: 0.4938 - accuracy: 0.7483 - val_loss: 0.5549 - val_accuracy: 0.7400\n",
      "Epoch 182/300\n",
      "19/19 [==============================] - 0s 6ms/step - loss: 0.4972 - accuracy: 0.7467 - val_loss: 0.5589 - val_accuracy: 0.7400\n",
      "Epoch 183/300\n",
      "19/19 [==============================] - 0s 6ms/step - loss: 0.4900 - accuracy: 0.7567 - val_loss: 0.5714 - val_accuracy: 0.7400\n",
      "Epoch 184/300\n",
      "19/19 [==============================] - 0s 6ms/step - loss: 0.4921 - accuracy: 0.7533 - val_loss: 0.5526 - val_accuracy: 0.7400\n",
      "Epoch 185/300\n",
      "19/19 [==============================] - 0s 6ms/step - loss: 0.4925 - accuracy: 0.7483 - val_loss: 0.5527 - val_accuracy: 0.7500\n",
      "Epoch 186/300\n",
      "19/19 [==============================] - 0s 6ms/step - loss: 0.4955 - accuracy: 0.7550 - val_loss: 0.5459 - val_accuracy: 0.7300\n",
      "Epoch 187/300\n",
      "19/19 [==============================] - 0s 6ms/step - loss: 0.4917 - accuracy: 0.7567 - val_loss: 0.5549 - val_accuracy: 0.7300\n",
      "Epoch 188/300\n",
      "19/19 [==============================] - 0s 6ms/step - loss: 0.4940 - accuracy: 0.7650 - val_loss: 0.5393 - val_accuracy: 0.7700\n",
      "Epoch 189/300\n",
      "19/19 [==============================] - 0s 6ms/step - loss: 0.4874 - accuracy: 0.7600 - val_loss: 0.5540 - val_accuracy: 0.7500\n",
      "Epoch 190/300\n",
      "19/19 [==============================] - 0s 6ms/step - loss: 0.4883 - accuracy: 0.7567 - val_loss: 0.5515 - val_accuracy: 0.7700\n",
      "Epoch 191/300\n",
      "19/19 [==============================] - 0s 6ms/step - loss: 0.4902 - accuracy: 0.7400 - val_loss: 0.5487 - val_accuracy: 0.7600\n",
      "Epoch 192/300\n",
      "19/19 [==============================] - 0s 6ms/step - loss: 0.4919 - accuracy: 0.7450 - val_loss: 0.5432 - val_accuracy: 0.7500\n",
      "Epoch 193/300\n",
      "19/19 [==============================] - 0s 7ms/step - loss: 0.4863 - accuracy: 0.7500 - val_loss: 0.5473 - val_accuracy: 0.7800\n",
      "Epoch 194/300\n",
      "19/19 [==============================] - 0s 6ms/step - loss: 0.4930 - accuracy: 0.7567 - val_loss: 0.5433 - val_accuracy: 0.7400\n",
      "Epoch 195/300\n",
      "19/19 [==============================] - 0s 6ms/step - loss: 0.4922 - accuracy: 0.7483 - val_loss: 0.5565 - val_accuracy: 0.7700\n",
      "Epoch 196/300\n",
      "19/19 [==============================] - 0s 6ms/step - loss: 0.4922 - accuracy: 0.7500 - val_loss: 0.5456 - val_accuracy: 0.7500\n",
      "Epoch 197/300\n",
      "19/19 [==============================] - 0s 6ms/step - loss: 0.4893 - accuracy: 0.7600 - val_loss: 0.5628 - val_accuracy: 0.7700\n",
      "Epoch 198/300\n",
      "19/19 [==============================] - 0s 6ms/step - loss: 0.4887 - accuracy: 0.7583 - val_loss: 0.5451 - val_accuracy: 0.7500\n",
      "Epoch 199/300\n",
      "19/19 [==============================] - 0s 6ms/step - loss: 0.4889 - accuracy: 0.7550 - val_loss: 0.5557 - val_accuracy: 0.7400\n",
      "Epoch 200/300\n",
      "19/19 [==============================] - 0s 6ms/step - loss: 0.4854 - accuracy: 0.7600 - val_loss: 0.5480 - val_accuracy: 0.7400\n",
      "Epoch 201/300\n",
      "19/19 [==============================] - 0s 6ms/step - loss: 0.4887 - accuracy: 0.7517 - val_loss: 0.5487 - val_accuracy: 0.7500\n",
      "Epoch 202/300\n",
      "19/19 [==============================] - 0s 6ms/step - loss: 0.4837 - accuracy: 0.7633 - val_loss: 0.5402 - val_accuracy: 0.7300\n",
      "Epoch 203/300\n",
      "19/19 [==============================] - 0s 6ms/step - loss: 0.4937 - accuracy: 0.7483 - val_loss: 0.5407 - val_accuracy: 0.7600\n",
      "Epoch 204/300\n",
      "19/19 [==============================] - 0s 6ms/step - loss: 0.4869 - accuracy: 0.7583 - val_loss: 0.5389 - val_accuracy: 0.7400\n",
      "Epoch 205/300\n",
      "19/19 [==============================] - 0s 7ms/step - loss: 0.4869 - accuracy: 0.7533 - val_loss: 0.5431 - val_accuracy: 0.7400\n",
      "Epoch 206/300\n",
      "19/19 [==============================] - 0s 6ms/step - loss: 0.4844 - accuracy: 0.7567 - val_loss: 0.5694 - val_accuracy: 0.7400\n",
      "Epoch 207/300\n",
      "19/19 [==============================] - 0s 6ms/step - loss: 0.4872 - accuracy: 0.7467 - val_loss: 0.5473 - val_accuracy: 0.7400\n",
      "Epoch 208/300\n",
      "19/19 [==============================] - 0s 8ms/step - loss: 0.4787 - accuracy: 0.7600 - val_loss: 0.5650 - val_accuracy: 0.7400\n",
      "Epoch 209/300\n",
      "19/19 [==============================] - 0s 10ms/step - loss: 0.4842 - accuracy: 0.7567 - val_loss: 0.5541 - val_accuracy: 0.7400\n",
      "Epoch 210/300\n",
      "19/19 [==============================] - 0s 9ms/step - loss: 0.4870 - accuracy: 0.7583 - val_loss: 0.5423 - val_accuracy: 0.7600\n",
      "Epoch 211/300\n",
      "19/19 [==============================] - 0s 6ms/step - loss: 0.4838 - accuracy: 0.7650 - val_loss: 0.5358 - val_accuracy: 0.7800\n",
      "Epoch 212/300\n",
      "19/19 [==============================] - 0s 6ms/step - loss: 0.4943 - accuracy: 0.7450 - val_loss: 0.5362 - val_accuracy: 0.7400\n",
      "Epoch 213/300\n",
      "19/19 [==============================] - 0s 6ms/step - loss: 0.4842 - accuracy: 0.7533 - val_loss: 0.5365 - val_accuracy: 0.7500\n",
      "Epoch 214/300\n",
      "19/19 [==============================] - 0s 7ms/step - loss: 0.4834 - accuracy: 0.7550 - val_loss: 0.5426 - val_accuracy: 0.7500\n",
      "Epoch 215/300\n",
      "19/19 [==============================] - 0s 7ms/step - loss: 0.4788 - accuracy: 0.7517 - val_loss: 0.5909 - val_accuracy: 0.7300\n",
      "Epoch 216/300\n",
      "19/19 [==============================] - 0s 6ms/step - loss: 0.4846 - accuracy: 0.7433 - val_loss: 0.5421 - val_accuracy: 0.7300\n",
      "Epoch 217/300\n",
      "19/19 [==============================] - 0s 6ms/step - loss: 0.4806 - accuracy: 0.7750 - val_loss: 0.5353 - val_accuracy: 0.7700\n",
      "Epoch 218/300\n",
      "19/19 [==============================] - 0s 6ms/step - loss: 0.4832 - accuracy: 0.7383 - val_loss: 0.5379 - val_accuracy: 0.7600\n",
      "Epoch 219/300\n",
      "19/19 [==============================] - 0s 6ms/step - loss: 0.4794 - accuracy: 0.7600 - val_loss: 0.5350 - val_accuracy: 0.7500\n",
      "Epoch 220/300\n",
      "19/19 [==============================] - 0s 6ms/step - loss: 0.4842 - accuracy: 0.7600 - val_loss: 0.5403 - val_accuracy: 0.7700\n",
      "Epoch 221/300\n",
      "19/19 [==============================] - 0s 6ms/step - loss: 0.4866 - accuracy: 0.7567 - val_loss: 0.5369 - val_accuracy: 0.7700\n",
      "Epoch 222/300\n",
      "19/19 [==============================] - 0s 6ms/step - loss: 0.4905 - accuracy: 0.7467 - val_loss: 0.5596 - val_accuracy: 0.7800\n",
      "Epoch 223/300\n",
      "19/19 [==============================] - 0s 6ms/step - loss: 0.4851 - accuracy: 0.7633 - val_loss: 0.5534 - val_accuracy: 0.7600\n",
      "Epoch 224/300\n",
      "19/19 [==============================] - 0s 6ms/step - loss: 0.4844 - accuracy: 0.7617 - val_loss: 0.5430 - val_accuracy: 0.7500\n",
      "Epoch 225/300\n",
      "19/19 [==============================] - 0s 6ms/step - loss: 0.4790 - accuracy: 0.7517 - val_loss: 0.5329 - val_accuracy: 0.7600\n",
      "Epoch 226/300\n",
      "19/19 [==============================] - 0s 6ms/step - loss: 0.4852 - accuracy: 0.7600 - val_loss: 0.5386 - val_accuracy: 0.7600\n",
      "Epoch 227/300\n",
      "19/19 [==============================] - 0s 6ms/step - loss: 0.4849 - accuracy: 0.7617 - val_loss: 0.5457 - val_accuracy: 0.7500\n",
      "Epoch 228/300\n",
      "19/19 [==============================] - 0s 6ms/step - loss: 0.4836 - accuracy: 0.7617 - val_loss: 0.5465 - val_accuracy: 0.7700\n",
      "Epoch 229/300\n",
      "19/19 [==============================] - 0s 7ms/step - loss: 0.4820 - accuracy: 0.7750 - val_loss: 0.5478 - val_accuracy: 0.7600\n",
      "Epoch 230/300\n"
     ]
    },
    {
     "name": "stdout",
     "output_type": "stream",
     "text": [
      "19/19 [==============================] - 0s 6ms/step - loss: 0.4803 - accuracy: 0.7567 - val_loss: 0.5602 - val_accuracy: 0.7600\n",
      "Epoch 231/300\n",
      "19/19 [==============================] - 0s 6ms/step - loss: 0.4815 - accuracy: 0.7700 - val_loss: 0.5519 - val_accuracy: 0.7500\n",
      "Epoch 232/300\n",
      "19/19 [==============================] - 0s 7ms/step - loss: 0.4907 - accuracy: 0.7400 - val_loss: 0.5608 - val_accuracy: 0.7900\n",
      "Epoch 233/300\n",
      "19/19 [==============================] - 0s 6ms/step - loss: 0.4853 - accuracy: 0.7500 - val_loss: 0.5635 - val_accuracy: 0.7400\n",
      "Epoch 234/300\n",
      "19/19 [==============================] - 0s 6ms/step - loss: 0.4761 - accuracy: 0.7733 - val_loss: 0.5634 - val_accuracy: 0.7600\n",
      "Epoch 235/300\n",
      "19/19 [==============================] - 0s 6ms/step - loss: 0.4877 - accuracy: 0.7467 - val_loss: 0.5387 - val_accuracy: 0.7600\n",
      "Epoch 236/300\n",
      "19/19 [==============================] - 0s 7ms/step - loss: 0.4844 - accuracy: 0.7517 - val_loss: 0.5376 - val_accuracy: 0.7600\n",
      "Epoch 237/300\n",
      "19/19 [==============================] - 0s 6ms/step - loss: 0.4866 - accuracy: 0.7700 - val_loss: 0.5340 - val_accuracy: 0.7900\n",
      "Epoch 238/300\n",
      "19/19 [==============================] - 0s 6ms/step - loss: 0.4765 - accuracy: 0.7600 - val_loss: 0.5393 - val_accuracy: 0.7700\n",
      "Epoch 239/300\n",
      "19/19 [==============================] - 0s 6ms/step - loss: 0.4786 - accuracy: 0.7483 - val_loss: 0.5461 - val_accuracy: 0.7700\n",
      "Epoch 240/300\n",
      "19/19 [==============================] - 0s 6ms/step - loss: 0.4755 - accuracy: 0.7500 - val_loss: 0.5397 - val_accuracy: 0.7800\n",
      "Epoch 241/300\n",
      "19/19 [==============================] - 0s 6ms/step - loss: 0.4809 - accuracy: 0.7633 - val_loss: 0.5526 - val_accuracy: 0.7700\n",
      "Epoch 242/300\n",
      "19/19 [==============================] - 0s 6ms/step - loss: 0.4870 - accuracy: 0.7500 - val_loss: 0.5315 - val_accuracy: 0.7500\n",
      "Epoch 243/300\n",
      "19/19 [==============================] - 0s 6ms/step - loss: 0.4784 - accuracy: 0.7500 - val_loss: 0.5319 - val_accuracy: 0.7400\n",
      "Epoch 244/300\n",
      "19/19 [==============================] - 0s 6ms/step - loss: 0.4821 - accuracy: 0.7517 - val_loss: 0.5327 - val_accuracy: 0.7500\n",
      "Epoch 245/300\n",
      "19/19 [==============================] - 0s 6ms/step - loss: 0.4773 - accuracy: 0.7717 - val_loss: 0.5378 - val_accuracy: 0.7500\n",
      "Epoch 246/300\n",
      "19/19 [==============================] - 0s 9ms/step - loss: 0.4746 - accuracy: 0.7633 - val_loss: 0.5347 - val_accuracy: 0.7400\n",
      "Epoch 247/300\n",
      "19/19 [==============================] - 0s 9ms/step - loss: 0.4792 - accuracy: 0.7600 - val_loss: 0.5427 - val_accuracy: 0.7800\n",
      "Epoch 248/300\n",
      "19/19 [==============================] - 0s 8ms/step - loss: 0.4735 - accuracy: 0.7633 - val_loss: 0.5516 - val_accuracy: 0.7500\n",
      "Epoch 249/300\n",
      "19/19 [==============================] - 0s 6ms/step - loss: 0.4796 - accuracy: 0.7583 - val_loss: 0.5441 - val_accuracy: 0.7700\n",
      "Epoch 250/300\n",
      "19/19 [==============================] - 0s 6ms/step - loss: 0.4771 - accuracy: 0.7667 - val_loss: 0.5339 - val_accuracy: 0.7600\n",
      "Epoch 251/300\n",
      "19/19 [==============================] - 0s 6ms/step - loss: 0.4767 - accuracy: 0.7533 - val_loss: 0.5384 - val_accuracy: 0.7600\n",
      "Epoch 252/300\n",
      "19/19 [==============================] - 0s 6ms/step - loss: 0.4743 - accuracy: 0.7583 - val_loss: 0.5423 - val_accuracy: 0.7800\n",
      "Epoch 253/300\n",
      "19/19 [==============================] - 0s 7ms/step - loss: 0.4816 - accuracy: 0.7450 - val_loss: 0.5755 - val_accuracy: 0.7700\n",
      "Epoch 254/300\n",
      "19/19 [==============================] - 0s 7ms/step - loss: 0.4774 - accuracy: 0.7700 - val_loss: 0.5426 - val_accuracy: 0.7800\n",
      "Epoch 255/300\n",
      "19/19 [==============================] - 0s 6ms/step - loss: 0.4829 - accuracy: 0.7633 - val_loss: 0.5415 - val_accuracy: 0.7500\n",
      "Epoch 256/300\n",
      "19/19 [==============================] - 0s 6ms/step - loss: 0.4744 - accuracy: 0.7650 - val_loss: 0.5604 - val_accuracy: 0.7700\n",
      "Epoch 257/300\n",
      "19/19 [==============================] - 0s 6ms/step - loss: 0.4801 - accuracy: 0.7567 - val_loss: 0.5659 - val_accuracy: 0.7700\n",
      "Epoch 258/300\n",
      "19/19 [==============================] - 0s 6ms/step - loss: 0.4755 - accuracy: 0.7550 - val_loss: 0.5400 - val_accuracy: 0.7600\n",
      "Epoch 259/300\n",
      "19/19 [==============================] - 0s 6ms/step - loss: 0.4761 - accuracy: 0.7717 - val_loss: 0.5708 - val_accuracy: 0.7700\n",
      "Epoch 260/300\n",
      "19/19 [==============================] - 0s 6ms/step - loss: 0.4753 - accuracy: 0.7617 - val_loss: 0.5447 - val_accuracy: 0.7800\n",
      "Epoch 261/300\n",
      "19/19 [==============================] - 0s 7ms/step - loss: 0.4758 - accuracy: 0.7617 - val_loss: 0.5660 - val_accuracy: 0.7600\n",
      "Epoch 262/300\n",
      "19/19 [==============================] - 0s 6ms/step - loss: 0.4729 - accuracy: 0.7533 - val_loss: 0.5265 - val_accuracy: 0.7700\n",
      "Epoch 263/300\n",
      "19/19 [==============================] - 0s 6ms/step - loss: 0.4692 - accuracy: 0.7667 - val_loss: 0.5383 - val_accuracy: 0.7900\n",
      "Epoch 264/300\n",
      "19/19 [==============================] - 0s 10ms/step - loss: 0.4728 - accuracy: 0.7700 - val_loss: 0.5263 - val_accuracy: 0.7500\n",
      "Epoch 265/300\n",
      "19/19 [==============================] - 0s 9ms/step - loss: 0.4733 - accuracy: 0.7533 - val_loss: 0.5615 - val_accuracy: 0.7700\n",
      "Epoch 266/300\n",
      "19/19 [==============================] - 0s 7ms/step - loss: 0.4755 - accuracy: 0.7650 - val_loss: 0.5286 - val_accuracy: 0.7600\n",
      "Epoch 267/300\n",
      "19/19 [==============================] - 0s 6ms/step - loss: 0.4700 - accuracy: 0.7700 - val_loss: 0.5266 - val_accuracy: 0.7700\n",
      "Epoch 268/300\n",
      "19/19 [==============================] - 0s 6ms/step - loss: 0.4829 - accuracy: 0.7700 - val_loss: 0.5406 - val_accuracy: 0.7800\n",
      "Epoch 269/300\n",
      "19/19 [==============================] - 0s 6ms/step - loss: 0.4746 - accuracy: 0.7550 - val_loss: 0.5367 - val_accuracy: 0.7400\n",
      "Epoch 270/300\n",
      "19/19 [==============================] - 0s 6ms/step - loss: 0.4730 - accuracy: 0.7717 - val_loss: 0.5345 - val_accuracy: 0.7600\n",
      "Epoch 271/300\n",
      "19/19 [==============================] - 0s 6ms/step - loss: 0.4734 - accuracy: 0.7550 - val_loss: 0.5435 - val_accuracy: 0.7900\n",
      "Epoch 272/300\n",
      "19/19 [==============================] - 0s 7ms/step - loss: 0.4712 - accuracy: 0.7683 - val_loss: 0.5293 - val_accuracy: 0.7400\n",
      "Epoch 273/300\n",
      "19/19 [==============================] - 0s 6ms/step - loss: 0.4690 - accuracy: 0.7567 - val_loss: 0.5398 - val_accuracy: 0.7800\n",
      "Epoch 274/300\n",
      "19/19 [==============================] - 0s 7ms/step - loss: 0.4744 - accuracy: 0.7683 - val_loss: 0.5337 - val_accuracy: 0.7700\n",
      "Epoch 275/300\n",
      "19/19 [==============================] - 0s 6ms/step - loss: 0.4743 - accuracy: 0.7683 - val_loss: 0.5305 - val_accuracy: 0.7600\n",
      "Epoch 276/300\n",
      "19/19 [==============================] - 0s 7ms/step - loss: 0.4715 - accuracy: 0.7633 - val_loss: 0.5444 - val_accuracy: 0.7700\n",
      "Epoch 277/300\n",
      "19/19 [==============================] - 0s 6ms/step - loss: 0.4785 - accuracy: 0.7550 - val_loss: 0.5424 - val_accuracy: 0.7700\n",
      "Epoch 278/300\n",
      "19/19 [==============================] - 0s 6ms/step - loss: 0.4660 - accuracy: 0.7867 - val_loss: 0.5444 - val_accuracy: 0.7600\n",
      "Epoch 279/300\n",
      "19/19 [==============================] - 0s 11ms/step - loss: 0.4769 - accuracy: 0.7683 - val_loss: 0.5335 - val_accuracy: 0.7400\n",
      "Epoch 280/300\n",
      "19/19 [==============================] - 0s 9ms/step - loss: 0.4718 - accuracy: 0.7633 - val_loss: 0.5317 - val_accuracy: 0.7400\n",
      "Epoch 281/300\n",
      "19/19 [==============================] - 0s 7ms/step - loss: 0.4716 - accuracy: 0.7583 - val_loss: 0.5369 - val_accuracy: 0.7800\n",
      "Epoch 282/300\n",
      "19/19 [==============================] - 0s 6ms/step - loss: 0.4686 - accuracy: 0.7667 - val_loss: 0.5519 - val_accuracy: 0.7700\n",
      "Epoch 283/300\n",
      "19/19 [==============================] - 0s 7ms/step - loss: 0.4696 - accuracy: 0.7567 - val_loss: 0.5493 - val_accuracy: 0.7700\n",
      "Epoch 284/300\n",
      "19/19 [==============================] - 0s 6ms/step - loss: 0.4671 - accuracy: 0.7683 - val_loss: 0.5524 - val_accuracy: 0.7800\n",
      "Epoch 285/300\n",
      "19/19 [==============================] - 0s 6ms/step - loss: 0.4776 - accuracy: 0.7633 - val_loss: 0.5405 - val_accuracy: 0.7600\n",
      "Epoch 286/300\n",
      "19/19 [==============================] - 0s 7ms/step - loss: 0.4646 - accuracy: 0.7733 - val_loss: 0.5710 - val_accuracy: 0.7600\n",
      "Epoch 287/300\n"
     ]
    },
    {
     "name": "stdout",
     "output_type": "stream",
     "text": [
      "19/19 [==============================] - 0s 6ms/step - loss: 0.4674 - accuracy: 0.7717 - val_loss: 0.5414 - val_accuracy: 0.7500\n",
      "Epoch 288/300\n",
      "19/19 [==============================] - 0s 6ms/step - loss: 0.4742 - accuracy: 0.7633 - val_loss: 0.5401 - val_accuracy: 0.7400\n",
      "Epoch 289/300\n",
      "19/19 [==============================] - 0s 6ms/step - loss: 0.4678 - accuracy: 0.7517 - val_loss: 0.5323 - val_accuracy: 0.7700\n",
      "Epoch 290/300\n",
      "19/19 [==============================] - 0s 6ms/step - loss: 0.4730 - accuracy: 0.7617 - val_loss: 0.5368 - val_accuracy: 0.7700\n",
      "Epoch 291/300\n",
      "19/19 [==============================] - 0s 6ms/step - loss: 0.4681 - accuracy: 0.7700 - val_loss: 0.5463 - val_accuracy: 0.7600\n",
      "Epoch 292/300\n",
      "19/19 [==============================] - 0s 6ms/step - loss: 0.4726 - accuracy: 0.7583 - val_loss: 0.5303 - val_accuracy: 0.7800\n",
      "Epoch 293/300\n",
      "19/19 [==============================] - 0s 6ms/step - loss: 0.4716 - accuracy: 0.7700 - val_loss: 0.5366 - val_accuracy: 0.7400\n",
      "Epoch 294/300\n",
      "19/19 [==============================] - 0s 6ms/step - loss: 0.4694 - accuracy: 0.7717 - val_loss: 0.5243 - val_accuracy: 0.7700\n",
      "Epoch 295/300\n",
      "19/19 [==============================] - 0s 6ms/step - loss: 0.4675 - accuracy: 0.7667 - val_loss: 0.5662 - val_accuracy: 0.7500\n",
      "Epoch 296/300\n",
      "19/19 [==============================] - 0s 6ms/step - loss: 0.4734 - accuracy: 0.7633 - val_loss: 0.5320 - val_accuracy: 0.7700\n",
      "Epoch 297/300\n",
      "19/19 [==============================] - 0s 6ms/step - loss: 0.4707 - accuracy: 0.7617 - val_loss: 0.5426 - val_accuracy: 0.7600\n",
      "Epoch 298/300\n",
      "19/19 [==============================] - 0s 7ms/step - loss: 0.4705 - accuracy: 0.7617 - val_loss: 0.5249 - val_accuracy: 0.7600\n",
      "Epoch 299/300\n",
      "19/19 [==============================] - 0s 9ms/step - loss: 0.4659 - accuracy: 0.7667 - val_loss: 0.5359 - val_accuracy: 0.7500\n",
      "Epoch 300/300\n",
      "19/19 [==============================] - 0s 9ms/step - loss: 0.4686 - accuracy: 0.7650 - val_loss: 0.5323 - val_accuracy: 0.7700\n"
     ]
    }
   ],
   "source": [
    "hist = model.fit(X_train, Y_train, \n",
    "                epochs=300,\n",
    "                validation_data=(X_val, Y_val),\n",
    "                verbose=1)"
   ]
  },
  {
   "cell_type": "markdown",
   "id": "be04c9eb",
   "metadata": {},
   "source": [
    "## 5. 모델 학습 평가 "
   ]
  },
  {
   "cell_type": "code",
   "execution_count": 12,
   "id": "a231533c",
   "metadata": {},
   "outputs": [
    {
     "data": {
      "text/plain": [
       "dict_keys(['loss', 'accuracy', 'val_loss', 'val_accuracy'])"
      ]
     },
     "execution_count": 12,
     "metadata": {},
     "output_type": "execute_result"
    }
   ],
   "source": [
    "hist.history.keys()"
   ]
  },
  {
   "cell_type": "code",
   "execution_count": 15,
   "id": "e433df62",
   "metadata": {},
   "outputs": [
    {
     "data": {
      "image/png": "[encoded data removed]",
      "text/plain": [
       "<Figure size 1000x500 with 2 Axes>"
      ]
     },
     "metadata": {},
     "output_type": "display_data"
    }
   ],
   "source": [
    "# 학습과정 표시하기(validation dataset 있는 경우)\n",
    "fig, loss_ax = plt.subplots(figsize=(10,5))\n",
    "loss_ax.plot(hist.history['loss'], 'r', label='train loss')\n",
    "loss_ax.plot(hist.history['val_loss'], 'y', label='validation loss')\n",
    "loss_ax.set_xlabel('epoch')\n",
    "loss_ax.set_ylabel('loss')\n",
    "acc_ax = loss_ax.twinx()\n",
    "acc_ax.plot(hist.history['accuracy'], 'b', label='train accuracy')\n",
    "acc_ax.plot(hist.history['val_accuracy'], 'g', label='train accuracy')\n",
    "acc_ax.set_ylabel('accuracy')\n",
    "loss_ax.legend(loc='center right')\n",
    "acc_ax.legend(bbox_to_anchor=(0.999, 0.7))\n",
    "plt.show()"
   ]
  },
  {
   "cell_type": "code",
   "execution_count": null,
   "id": "d3011140",
   "metadata": {},
   "outputs": [],
   "source": []
  }
 ],
 "metadata": {
  "kernelspec": {
   "display_name": "Python 3 (ipykernel)",
   "language": "python",
   "name": "python3"
  },
  "language_info": {
   "codemirror_mode": {
    "name": "ipython",
    "version": 3
   },
   "file_extension": ".py",
   "mimetype": "text/x-python",
   "name": "python",
   "nbconvert_exporter": "python",
   "pygments_lexer": "ipython3",
   "version": "3.10.9"
  },
  "toc": {
   "base_numbering": 1,
   "nav_menu": {},
   "number_sections": false,
   "sideBar": true,
   "skip_h1_title": false,
   "title_cell": "Table of Contents",
   "title_sidebar": "Contents",
   "toc_cell": false,
   "toc_position": {
    "height": "calc(100% - 180px)",
    "left": "10px",
    "top": "150px",
    "width": "165px"
   },
   "toc_section_display": true,
   "toc_window_display": true
  }
 },
 "nbformat": 4,
 "nbformat_minor": 5
}
