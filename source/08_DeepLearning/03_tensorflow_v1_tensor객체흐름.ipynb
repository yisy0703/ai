{
 "cells": [
  {
   "cell_type": "code",
   "execution_count": 1,
   "id": "a4107cd4",
   "metadata": {},
   "outputs": [
    {
     "data": {
      "text/html": [
       "\n",
       "<style>\n",
       "div.container{width:99% !important;}\n",
       "div.cell.code_cell.rendered{width:90%;}\n",
       "div.CodeMirror {font-family:Consolas; font-size:18pt;}\n",
       "div.output {font-size:19pt; font-weight:bold;}\n",
       "div.input {font-family:Consolas; font-size:19pt;}\n",
       "div.prompt {min-width:70px;}\n",
       "div#toc-wrapper{padding-top:120px;}\n",
       "span.toc-item-num{display:none;}\n",
       "div.text_cell_render ul li{font-size:16pt;padding:5px;}\n",
       "div.CodeMirror-lines > div {padding-left:10px;}\n",
       "table.dataframe{font-size:19px;}\n",
       "</style>\n"
      ],
      "text/plain": [
       "<IPython.core.display.HTML object>"
      ]
     },
     "metadata": {},
     "output_type": "display_data"
    }
   ],
   "source": [
    "from IPython.display import display, HTML\n",
    "display(HTML(\"\"\"\n",
    "<style>\n",
    "div.container{width:99% !important;}\n",
    "div.cell.code_cell.rendered{width:90%;}\n",
    "div.CodeMirror {font-family:Consolas; font-size:18pt;}\n",
    "div.output {font-size:19pt; font-weight:bold;}\n",
    "div.input {font-family:Consolas; font-size:19pt;}\n",
    "div.prompt {min-width:70px;}\n",
    "div#toc-wrapper{padding-top:120px;}\n",
    "span.toc-item-num{display:none;}\n",
    "div.text_cell_render ul li{font-size:16pt;padding:5px;}\n",
    "div.CodeMirror-lines > div {padding-left:10px;}\n",
    "table.dataframe{font-size:19px;}\n",
    "</style>\n",
    "\"\"\"))"
   ]
  },
  {
   "cell_type": "markdown",
   "id": "01314c19",
   "metadata": {},
   "source": [
    "# 1. tensorflow v2.xx에서 v1 사용하기"
   ]
  },
  {
   "cell_type": "code",
   "execution_count": 3,
   "id": "1ca5ccc4",
   "metadata": {},
   "outputs": [],
   "source": [
    "import tensorflow.compat.v1 as tf\n",
    "tf.disable_v2_behavior() # v2비활성화하고 v1을 활성화"
   ]
  },
  {
   "cell_type": "markdown",
   "id": "9b85bddc",
   "metadata": {},
   "source": [
    "## Tensorflow\n",
    "- 그래프 정의 (tensor객체의 흐름)\n",
    "- sess = tf.Session()을 실행\n",
    "- sess.run()을 통해 변수값을 확인할 수 있음"
   ]
  },
  {
   "cell_type": "code",
   "execution_count": 7,
   "id": "9534df9d",
   "metadata": {},
   "outputs": [
    {
     "name": "stdout",
     "output_type": "stream",
     "text": [
      "b'Hello, Tensorflow'\n",
      "Hello, Tensorflow\n"
     ]
    }
   ],
   "source": [
    "# tensor = data(상수,변수)와 연산\n",
    "node1 = tf.constant('Hello, Tensorflow')\n",
    "sess = tf.Session()\n",
    "print(sess.run(node1))\n",
    "print(sess.run(node1).decode())"
   ]
  },
  {
   "cell_type": "code",
   "execution_count": 8,
   "id": "6532990f",
   "metadata": {},
   "outputs": [
    {
     "name": "stdout",
     "output_type": "stream",
     "text": [
      "[10.0, 20.0, 30.0]\n"
     ]
    }
   ],
   "source": [
    "# 간단한 수학 연산 tensor 그래프\n",
    "node1 = tf.constant(10, dtype=tf.float16)\n",
    "node2 = tf.constant(20, dtype=tf.float16)\n",
    "node3 = tf.add(node1, node2)\n",
    "sess = tf.Session()\n",
    "print(sess.run([node1, node2, node3]))"
   ]
  },
  {
   "cell_type": "code",
   "execution_count": 9,
   "id": "b48467b7",
   "metadata": {},
   "outputs": [
    {
     "data": {
      "text/plain": [
       "[array([1, 2, 3], dtype=int16), array([1., 2., 3.], dtype=float32)]"
      ]
     },
     "execution_count": 9,
     "metadata": {},
     "output_type": "execute_result"
    }
   ],
   "source": [
    "# 타입 변경\n",
    "import numpy as np\n",
    "node1 = tf.constant(np.array([1,2,3]),  dtype=tf.int16)\n",
    "node2 = tf.cast(node1, dtype=tf.float32)\n",
    "sess = tf.Session()\n",
    "sess.run([node1, node2])"
   ]
  },
  {
   "cell_type": "code",
   "execution_count": 11,
   "id": "3dba216d",
   "metadata": {},
   "outputs": [
    {
     "data": {
      "text/plain": [
       "2.5"
      ]
     },
     "execution_count": 11,
     "metadata": {},
     "output_type": "execute_result"
    }
   ],
   "source": [
    "# 평균값 계산 : tf.reduce_mean()\n",
    "data = np.array([1., 2., 3., 4.])\n",
    "m = tf.reduce_mean(data)\n",
    "sess = tf.Session()\n",
    "sess.run(m)"
   ]
  },
  {
   "cell_type": "code",
   "execution_count": 21,
   "id": "f00ad44a",
   "metadata": {},
   "outputs": [
    {
     "data": {
      "image/png": "[encoded data removed]",
      "text/plain": [
       "<Figure size 640x480 with 1 Axes>"
      ]
     },
     "metadata": {},
     "output_type": "display_data"
    }
   ],
   "source": [
    "# tf.random_normal([size]) : 평균0이고, 표준편차가 1인 난수 size 개 발생. 난수갯수:독립변수갯수\n",
    "import matplotlib.pyplot as plt\n",
    "tensor = tf.random_normal([1000]) # 평균0, 표준편차가 1인 난수 2(정규분포 난수)\n",
    "sess = tf.Session()\n",
    "plt.hist(sess.run(tensor))\n",
    "plt.show()"
   ]
  },
  {
   "cell_type": "markdown",
   "id": "bb292039",
   "metadata": {},
   "source": [
    "# 2. tensorflow v1을 이용한  linear regression을 구현\n",
    "## 2.1 독립변수 x가 1개, 종속변수 y가 1개"
   ]
  },
  {
   "cell_type": "code",
   "execution_count": 35,
   "id": "0517e23a",
   "metadata": {},
   "outputs": [
    {
     "name": "stdout",
     "output_type": "stream",
     "text": [
      "0번째 cost:0.9739561080932617, W:[0.81470054], b:[-0.60462695]\n",
      "300번째 cost:0.006502692122012377, W:[1.0936575], b:[-0.21290551]\n",
      "600번째 cost:0.0015343638369813561, W:[1.0454946], b:[-0.10342002]\n",
      "900번째 cost:0.00036204769276082516, W:[1.0220994], b:[-0.05023702]\n",
      "1200번째 cost:8.54278914630413e-05, W:[1.0107348], b:[-0.02440285]\n",
      "1500번째 cost:2.0158335246378556e-05, W:[1.0052147], b:[-0.01185405]\n",
      "1800번째 cost:4.756914677273016e-06, W:[1.0025332], b:[-0.00575839]\n",
      "2100번째 cost:1.1229629990339163e-06, W:[1.0012308], b:[-0.00279771]\n",
      "2400번째 cost:2.6545777132014337e-07, W:[1.0005988], b:[-0.00136024]\n",
      "2700번째 cost:6.296439636344076e-08, W:[1.0002917], b:[-0.00066249]\n",
      "3000번째 cost:1.4996633268538062e-08, W:[1.0001423], b:[-0.00032328]\n",
      "3300번째 cost:3.5581297908038323e-09, W:[1.0000694], b:[-0.00015744]\n",
      "3600번째 cost:8.453640010230856e-10, W:[1.0000336], b:[-7.6823686e-05]\n",
      "3900번째 cost:2.0402980693834394e-10, W:[1.0000167], b:[-3.7661277e-05]\n",
      "4200번째 cost:6.361376703178934e-11, W:[1.0000095], b:[-2.0799982e-05]\n",
      "4500번째 cost:2.8090918480216942e-11, W:[1.0000064], b:[-1.3556525e-05]\n",
      "4800번째 cost:1.7173205565934602e-11, W:[1.0000051], b:[-1.0457574e-05]\n",
      "5100번째 cost:1.3708557726477277e-11, W:[1.0000045], b:[-9.227958e-06]\n",
      "5400번째 cost:1.3323485544003422e-11, W:[1.0000044], b:[-8.865642e-06]\n",
      "5700번째 cost:1.332346472732171e-11, W:[1.0000044], b:[-8.861246e-06]\n",
      "6000번째 cost:1.332346472732171e-11, W:[1.0000044], b:[-8.861246e-06]\n"
     ]
    }
   ],
   "source": [
    "# tensor 그래프(객체 흐름) 정의\n",
    "#data set(x, y)\n",
    "x = np.array([1,2,3])\n",
    "y = np.array([1,2,3])\n",
    "# weight와 bias (처음에는 랜덤값으로 셋팅했다가, 학습과정에서 변경)\n",
    "W = tf.Variable(tf.random.normal([1]), name='weight')\n",
    "b = tf.Variable(tf.random.normal([1]), name='bias')\n",
    "# Hypothesis : 결과는 넘파이 배열\n",
    "H = W*x + b\n",
    "# cost function (손실함수 = mse : 최소제곱법)\n",
    "cost = tf.reduce_mean(tf.square(H-y))\n",
    "'''\n",
    "학습 목적 : cost가 최소가 되는 W, b를 찾는 것\n",
    "cost 함수는 2차함수이므로 곡선 그래프. 곡선위 미분값이 줄어드는 방향으로 학습(경사하강법)\n",
    "'''\n",
    "optimizer = tf.train.GradientDescentOptimizer(learning_rate=0.01)\n",
    "train = optimizer.minimize(cost)\n",
    "#Session 생성\n",
    "sess = tf.Session()\n",
    "# tf.Variable 변수 노드(W, b) 초기화\n",
    "sess.run(tf.global_variables_initializer())\n",
    "# 6000번 학습 (v2에서의 fit함수)\n",
    "for step in range(6001):\n",
    "    _, cost_val, W_val, b_val =sess.run([train, cost, W, b])\n",
    "    if step%300 == 0:\n",
    "        print(\"{}번째 cost:{}, W:{}, b:{}\".format(step, \n",
    "                                            cost_val,\n",
    "                                            W_val,\n",
    "                                            b_val))"
   ]
  },
  {
   "cell_type": "code",
   "execution_count": 36,
   "id": "960b3364",
   "metadata": {},
   "outputs": [
    {
     "data": {
      "text/plain": [
       "[array([1.0000044], dtype=float32), array([-8.861246e-06], dtype=float32)]"
      ]
     },
     "execution_count": 36,
     "metadata": {},
     "output_type": "execute_result"
    }
   ],
   "source": [
    "# 최종적으로 나온 회귀식 : H = W*x + b\n",
    "sess.run([W, b])"
   ]
  },
  {
   "cell_type": "code",
   "execution_count": 38,
   "id": "b01fd87e",
   "metadata": {},
   "outputs": [
    {
     "data": {
      "text/plain": [
       "(array([1.0000044], dtype=float32), array([-8.861246e-06], dtype=float32))"
      ]
     },
     "execution_count": 38,
     "metadata": {},
     "output_type": "execute_result"
    }
   ],
   "source": [
    "W_, b_ = sess.run([W, b])\n",
    "W_, b_"
   ]
  },
  {
   "cell_type": "code",
   "execution_count": 39,
   "id": "b609895e",
   "metadata": {},
   "outputs": [
    {
     "name": "stdout",
     "output_type": "stream",
     "text": [
      "최종 회귀식 : H = 1.0000044107437134*x + -8.861245987645816e-06\n"
     ]
    }
   ],
   "source": [
    "print('최종 회귀식 : H = {}*x + {}'.format(W_[0], b_[0]))"
   ]
  },
  {
   "cell_type": "code",
   "execution_count": 40,
   "id": "07ee3cd9",
   "metadata": {},
   "outputs": [],
   "source": [
    "def to_predict(x):\n",
    "    return W_[0]*x + b_[0]"
   ]
  },
  {
   "cell_type": "code",
   "execution_count": 41,
   "id": "b1e02e3f",
   "metadata": {},
   "outputs": [
    {
     "data": {
      "text/plain": [
       "3.0000043709851525"
      ]
     },
     "execution_count": 41,
     "metadata": {},
     "output_type": "execute_result"
    }
   ],
   "source": [
    "to_predict(3)"
   ]
  },
  {
   "cell_type": "markdown",
   "id": "ca2b0896",
   "metadata": {},
   "source": [
    "## 2.2 predict을 하기 위한 placeholder 이용\n",
    "- placeholder : 외부에서 데이터를 입력받을 수 있는 노드"
   ]
  },
  {
   "cell_type": "code",
   "execution_count": 45,
   "id": "1650b4f6",
   "metadata": {},
   "outputs": [
    {
     "data": {
      "text/plain": [
       "[array(10., dtype=float16), array(20., dtype=float16), 30.0]"
      ]
     },
     "execution_count": 45,
     "metadata": {},
     "output_type": "execute_result"
    }
   ],
   "source": [
    "a = tf.placeholder(tf.float16)\n",
    "b = tf.placeholder(tf.float16)\n",
    "ab = tf.add(a, b)\n",
    "sess = tf.Session()\n",
    "sess.run([a, b, ab], feed_dict={a : 10,\n",
    "                                b : 20})"
   ]
  },
  {
   "cell_type": "code",
   "execution_count": 47,
   "id": "03a000a0",
   "metadata": {},
   "outputs": [
    {
     "data": {
      "text/plain": [
       "array([2., 4., 6.], dtype=float16)"
      ]
     },
     "execution_count": 47,
     "metadata": {},
     "output_type": "execute_result"
    }
   ],
   "source": [
    "sess.run(ab, feed_dict={a:np.array([1,2,3]),\n",
    "                        b:np.array([1,2,3]) })"
   ]
  },
  {
   "cell_type": "code",
   "execution_count": null,
   "id": "caf288e8",
   "metadata": {},
   "outputs": [],
   "source": []
  },
  {
   "cell_type": "code",
   "execution_count": null,
   "id": "c833f740",
   "metadata": {},
   "outputs": [],
   "source": []
  },
  {
   "cell_type": "code",
   "execution_count": null,
   "id": "6f698f08",
   "metadata": {},
   "outputs": [],
   "source": []
  },
  {
   "cell_type": "code",
   "execution_count": null,
   "id": "3604e85a",
   "metadata": {},
   "outputs": [],
   "source": []
  },
  {
   "cell_type": "code",
   "execution_count": null,
   "id": "0958b502",
   "metadata": {},
   "outputs": [],
   "source": []
  },
  {
   "cell_type": "code",
   "execution_count": null,
   "id": "e36daecf",
   "metadata": {},
   "outputs": [],
   "source": []
  }
 ],
 "metadata": {
  "kernelspec": {
   "display_name": "Python 3 (ipykernel)",
   "language": "python",
   "name": "python3"
  },
  "language_info": {
   "codemirror_mode": {
    "name": "ipython",
    "version": 3
   },
   "file_extension": ".py",
   "mimetype": "text/x-python",
   "name": "python",
   "nbconvert_exporter": "python",
   "pygments_lexer": "ipython3",
   "version": "3.10.9"
  },
  "toc": {
   "base_numbering": 1,
   "nav_menu": {},
   "number_sections": false,
   "sideBar": true,
   "skip_h1_title": false,
   "title_cell": "Table of Contents",
   "title_sidebar": "Contents",
   "toc_cell": false,
   "toc_position": {},
   "toc_section_display": true,
   "toc_window_display": false
  }
 },
 "nbformat": 4,
 "nbformat_minor": 5
}
