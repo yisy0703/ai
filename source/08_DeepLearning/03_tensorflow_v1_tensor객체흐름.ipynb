{
 "cells": [
  {
   "cell_type": "code",
   "execution_count": 1,
   "id": "cfdf07c2",
   "metadata": {},
   "outputs": [
    {
     "data": {
      "text/html": [
       "\n",
       "<style>\n",
       "div.container{width:99% !important;}\n",
       "div.cell.code_cell.rendered{width:90%;}\n",
       "div.CodeMirror {font-family:Consolas; font-size:18pt;}\n",
       "div.output {font-size:19pt; font-weight:bold;}\n",
       "div.input {font-family:Consolas; font-size:19pt;}\n",
       "div.prompt {min-width:70px;}\n",
       "div#toc-wrapper{padding-top:120px;}\n",
       "span.toc-item-num{display:none;}\n",
       "div.text_cell_render ul li{font-size:16pt;padding:5px;}\n",
       "div.CodeMirror-lines > div {padding-left:10px;}\n",
       "table.dataframe{font-size:19px;}\n",
       "</style>\n"
      ],
      "text/plain": [
       "<IPython.core.display.HTML object>"
      ]
     },
     "metadata": {},
     "output_type": "display_data"
    }
   ],
   "source": [
    "from IPython.display import display, HTML\n",
    "display(HTML(\"\"\"\n",
    "<style>\n",
    "div.container{width:99% !important;}\n",
    "div.cell.code_cell.rendered{width:90%;}\n",
    "div.CodeMirror {font-family:Consolas; font-size:18pt;}\n",
    "div.output {font-size:19pt; font-weight:bold;}\n",
    "div.input {font-family:Consolas; font-size:19pt;}\n",
    "div.prompt {min-width:70px;}\n",
    "div#toc-wrapper{padding-top:120px;}\n",
    "span.toc-item-num{display:none;}\n",
    "div.text_cell_render ul li{font-size:16pt;padding:5px;}\n",
    "div.CodeMirror-lines > div {padding-left:10px;}\n",
    "table.dataframe{font-size:19px;}\n",
    "</style>\n",
    "\"\"\"))"
   ]
  },
  {
   "cell_type": "markdown",
   "id": "a5004e71",
   "metadata": {},
   "source": [
    "# 1. tensorflow v2.xx에서 v1 사용하기"
   ]
  },
  {
   "cell_type": "code",
   "execution_count": 2,
   "id": "8b89ec7f",
   "metadata": {},
   "outputs": [
    {
     "name": "stdout",
     "output_type": "stream",
     "text": [
      "WARNING:tensorflow:From C:\\Users\\pc\\anaconda3\\lib\\site-packages\\tensorflow\\python\\compat\\v2_compat.py:107: disable_resource_variables (from tensorflow.python.ops.variable_scope) is deprecated and will be removed in a future version.\n",
      "Instructions for updating:\n",
      "non-resource variables are not supported in the long term\n"
     ]
    }
   ],
   "source": [
    "import tensorflow.compat.v1 as tf\n",
    "tf.disable_v2_behavior() # v2비활성화하고 v1을 활성화\n",
    "import numpy as np\n",
    "import pandas as pd"
   ]
  },
  {
   "cell_type": "markdown",
   "id": "e1ae8612",
   "metadata": {},
   "source": [
    "## Tensorflow\n",
    "- 그래프 정의 (tensor객체의 흐름)\n",
    "- sess = tf.Session()을 실행\n",
    "- sess.run()을 통해 변수값을 확인할 수 있음"
   ]
  },
  {
   "cell_type": "code",
   "execution_count": 7,
   "id": "a2da62a1",
   "metadata": {},
   "outputs": [
    {
     "name": "stdout",
     "output_type": "stream",
     "text": [
      "b'Hello, Tensorflow'\n",
      "Hello, Tensorflow\n"
     ]
    }
   ],
   "source": [
    "# tensor = data(상수,변수)와 연산\n",
    "node1 = tf.constant('Hello, Tensorflow')\n",
    "sess = tf.Session()\n",
    "print(sess.run(node1))\n",
    "print(sess.run(node1).decode())"
   ]
  },
  {
   "cell_type": "code",
   "execution_count": 8,
   "id": "95ce7af9",
   "metadata": {},
   "outputs": [
    {
     "name": "stdout",
     "output_type": "stream",
     "text": [
      "[10.0, 20.0, 30.0]\n"
     ]
    }
   ],
   "source": [
    "# 간단한 수학 연산 tensor 그래프\n",
    "node1 = tf.constant(10, dtype=tf.float16)\n",
    "node2 = tf.constant(20, dtype=tf.float16)\n",
    "node3 = tf.add(node1, node2)\n",
    "sess = tf.Session()\n",
    "print(sess.run([node1, node2, node3]))"
   ]
  },
  {
   "cell_type": "code",
   "execution_count": 4,
   "id": "a2445316",
   "metadata": {},
   "outputs": [
    {
     "data": {
      "text/plain": [
       "[array([1, 2, 3], dtype=int16), array([1., 2., 3.], dtype=float32)]"
      ]
     },
     "execution_count": 4,
     "metadata": {},
     "output_type": "execute_result"
    }
   ],
   "source": [
    "# 타입 변경\n",
    "import numpy as np\n",
    "node1 = tf.constant(np.array([1,2,3]),  dtype=tf.int16)\n",
    "node2 = tf.cast(node1, dtype=tf.float32)\n",
    "sess = tf.Session()\n",
    "sess.run([node1, node2])"
   ]
  },
  {
   "cell_type": "code",
   "execution_count": 11,
   "id": "70f97df5",
   "metadata": {},
   "outputs": [
    {
     "data": {
      "text/plain": [
       "2.5"
      ]
     },
     "execution_count": 11,
     "metadata": {},
     "output_type": "execute_result"
    }
   ],
   "source": [
    "# 평균값 계산 : tf.reduce_mean()\n",
    "data = np.array([1., 2., 3., 4.])\n",
    "m = tf.reduce_mean(data)\n",
    "sess = tf.Session()\n",
    "sess.run(m)"
   ]
  },
  {
   "cell_type": "code",
   "execution_count": 21,
   "id": "f16d2e4f",
   "metadata": {},
   "outputs": [
    {
     "data": {
      "image/png": "[encoded data removed]",
      "text/plain": [
       "<Figure size 640x480 with 1 Axes>"
      ]
     },
     "metadata": {},
     "output_type": "display_data"
    }
   ],
   "source": [
    "# tf.random_normal([size]) : 평균0이고, 표준편차가 1인 난수 size 개 발생. 난수갯수:독립변수갯수\n",
    "import matplotlib.pyplot as plt\n",
    "tensor = tf.random_normal([1000]) # 평균0, 표준편차가 1인 난수 2(정규분포 난수)\n",
    "sess = tf.Session()\n",
    "plt.hist(sess.run(tensor))\n",
    "plt.show()"
   ]
  },
  {
   "cell_type": "markdown",
   "id": "759af379",
   "metadata": {},
   "source": [
    "# 2. tensorflow v1을 이용한  linear regression을 구현\n",
    "## 2.1 독립변수 x가 1개, 종속변수 y가 1개"
   ]
  },
  {
   "cell_type": "code",
   "execution_count": 35,
   "id": "b6b40411",
   "metadata": {},
   "outputs": [
    {
     "name": "stdout",
     "output_type": "stream",
     "text": [
      "0번째 cost:0.9739561080932617, W:[0.81470054], b:[-0.60462695]\n",
      "300번째 cost:0.006502692122012377, W:[1.0936575], b:[-0.21290551]\n",
      "600번째 cost:0.0015343638369813561, W:[1.0454946], b:[-0.10342002]\n",
      "900번째 cost:0.00036204769276082516, W:[1.0220994], b:[-0.05023702]\n",
      "1200번째 cost:8.54278914630413e-05, W:[1.0107348], b:[-0.02440285]\n",
      "1500번째 cost:2.0158335246378556e-05, W:[1.0052147], b:[-0.01185405]\n",
      "1800번째 cost:4.756914677273016e-06, W:[1.0025332], b:[-0.00575839]\n",
      "2100번째 cost:1.1229629990339163e-06, W:[1.0012308], b:[-0.00279771]\n",
      "2400번째 cost:2.6545777132014337e-07, W:[1.0005988], b:[-0.00136024]\n",
      "2700번째 cost:6.296439636344076e-08, W:[1.0002917], b:[-0.00066249]\n",
      "3000번째 cost:1.4996633268538062e-08, W:[1.0001423], b:[-0.00032328]\n",
      "3300번째 cost:3.5581297908038323e-09, W:[1.0000694], b:[-0.00015744]\n",
      "3600번째 cost:8.453640010230856e-10, W:[1.0000336], b:[-7.6823686e-05]\n",
      "3900번째 cost:2.0402980693834394e-10, W:[1.0000167], b:[-3.7661277e-05]\n",
      "4200번째 cost:6.361376703178934e-11, W:[1.0000095], b:[-2.0799982e-05]\n",
      "4500번째 cost:2.8090918480216942e-11, W:[1.0000064], b:[-1.3556525e-05]\n",
      "4800번째 cost:1.7173205565934602e-11, W:[1.0000051], b:[-1.0457574e-05]\n",
      "5100번째 cost:1.3708557726477277e-11, W:[1.0000045], b:[-9.227958e-06]\n",
      "5400번째 cost:1.3323485544003422e-11, W:[1.0000044], b:[-8.865642e-06]\n",
      "5700번째 cost:1.332346472732171e-11, W:[1.0000044], b:[-8.861246e-06]\n",
      "6000번째 cost:1.332346472732171e-11, W:[1.0000044], b:[-8.861246e-06]\n"
     ]
    }
   ],
   "source": [
    "# tensor 그래프(객체 흐름) 정의\n",
    "#data set(x, y)\n",
    "x = np.array([1,2,3])\n",
    "y = np.array([1,2,3])\n",
    "# weight와 bias (처음에는 랜덤값으로 셋팅했다가, 학습과정에서 변경)\n",
    "W = tf.Variable(tf.random.normal([1]), name='weight')\n",
    "b = tf.Variable(tf.random.normal([1]), name='bias')\n",
    "# Hypothesis : 결과는 넘파이 배열\n",
    "H = W*x + b\n",
    "# cost function (손실함수 = mse : 최소제곱법)\n",
    "cost = tf.reduce_mean(tf.square(H-y))\n",
    "'''\n",
    "학습 목적 : cost가 최소가 되는 W, b를 찾는 것\n",
    "cost 함수는 2차함수이므로 곡선 그래프. 곡선위 미분값이 줄어드는 방향으로 학습(경사하강법)\n",
    "'''\n",
    "optimizer = tf.train.GradientDescentOptimizer(learning_rate=0.01)\n",
    "train = optimizer.minimize(cost)\n",
    "#Session 생성\n",
    "sess = tf.Session()\n",
    "# tf.Variable 변수 노드(W, b) 초기화\n",
    "sess.run(tf.global_variables_initializer())\n",
    "# 6000번 학습 (v2에서의 fit함수)\n",
    "for step in range(6001):\n",
    "    _, cost_val, W_val, b_val =sess.run([train, cost, W, b])\n",
    "    if step%300 == 0:\n",
    "        print(\"{}번째 cost:{}, W:{}, b:{}\".format(step, \n",
    "                                            cost_val,\n",
    "                                            W_val,\n",
    "                                            b_val))"
   ]
  },
  {
   "cell_type": "code",
   "execution_count": 36,
   "id": "74454f84",
   "metadata": {},
   "outputs": [
    {
     "data": {
      "text/plain": [
       "[array([1.0000044], dtype=float32), array([-8.861246e-06], dtype=float32)]"
      ]
     },
     "execution_count": 36,
     "metadata": {},
     "output_type": "execute_result"
    }
   ],
   "source": [
    "# 최종적으로 나온 회귀식 : H = W*x + b\n",
    "sess.run([W, b])"
   ]
  },
  {
   "cell_type": "code",
   "execution_count": 38,
   "id": "497fd489",
   "metadata": {},
   "outputs": [
    {
     "data": {
      "text/plain": [
       "(array([1.0000044], dtype=float32), array([-8.861246e-06], dtype=float32))"
      ]
     },
     "execution_count": 38,
     "metadata": {},
     "output_type": "execute_result"
    }
   ],
   "source": [
    "W_, b_ = sess.run([W, b])\n",
    "W_, b_"
   ]
  },
  {
   "cell_type": "code",
   "execution_count": 39,
   "id": "18d3fa80",
   "metadata": {},
   "outputs": [
    {
     "name": "stdout",
     "output_type": "stream",
     "text": [
      "최종 회귀식 : H = 1.0000044107437134*x + -8.861245987645816e-06\n"
     ]
    }
   ],
   "source": [
    "print('최종 회귀식 : H = {}*x + {}'.format(W_[0], b_[0]))"
   ]
  },
  {
   "cell_type": "code",
   "execution_count": 40,
   "id": "422e0714",
   "metadata": {},
   "outputs": [],
   "source": [
    "def to_predict(x):\n",
    "    return W_[0]*x + b_[0]"
   ]
  },
  {
   "cell_type": "code",
   "execution_count": 41,
   "id": "0a5320d9",
   "metadata": {},
   "outputs": [
    {
     "data": {
      "text/plain": [
       "3.0000043709851525"
      ]
     },
     "execution_count": 41,
     "metadata": {},
     "output_type": "execute_result"
    }
   ],
   "source": [
    "to_predict(3)"
   ]
  },
  {
   "cell_type": "markdown",
   "id": "318b3e87",
   "metadata": {},
   "source": [
    "## 2.2 predict을 하기 위한 placeholder 이용\n",
    "- placeholder : 외부에서 데이터를 입력받을 수 있는 노드"
   ]
  },
  {
   "cell_type": "code",
   "execution_count": 45,
   "id": "a3c78e2b",
   "metadata": {},
   "outputs": [
    {
     "data": {
      "text/plain": [
       "[array(10., dtype=float16), array(20., dtype=float16), 30.0]"
      ]
     },
     "execution_count": 45,
     "metadata": {},
     "output_type": "execute_result"
    }
   ],
   "source": [
    "a = tf.placeholder(tf.float16)\n",
    "b = tf.placeholder(tf.float16)\n",
    "ab = tf.add(a, b)\n",
    "sess = tf.Session()\n",
    "sess.run([a, b, ab], feed_dict={a : 10,\n",
    "                                b : 20})"
   ]
  },
  {
   "cell_type": "code",
   "execution_count": 47,
   "id": "a1f72d8f",
   "metadata": {},
   "outputs": [
    {
     "data": {
      "text/plain": [
       "array([2., 4., 6.], dtype=float16)"
      ]
     },
     "execution_count": 47,
     "metadata": {},
     "output_type": "execute_result"
    }
   ],
   "source": [
    "sess.run(ab, feed_dict={a:np.array([1,2,3]),\n",
    "                        b:np.array([1,2,3]) })"
   ]
  },
  {
   "cell_type": "code",
   "execution_count": 64,
   "id": "44319a10",
   "metadata": {},
   "outputs": [
    {
     "name": "stdout",
     "output_type": "stream",
     "text": [
      "1/6000번째 cost:59.58295822143555, W:[0.6043779], b:[-0.5948063]\n",
      "301/6000번째 cost:0.015323905274271965, W:[2.0423427], b:[0.7736791]\n",
      "601/6000번째 cost:0.0004727148334495723, W:[2.007437], b:[0.9602501]\n",
      "901/6000번째 cost:1.458507358620409e-05, W:[2.0013063], b:[0.9930182]\n",
      "1201/6000번째 cost:4.5029361217530095e-07, W:[2.0002296], b:[0.99877334]\n",
      "1501/6000번째 cost:1.3988073810367041e-08, W:[2.0000405], b:[0.9997839]\n",
      "1801/6000번째 cost:4.49745130026713e-10, W:[2.0000074], b:[0.99996156]\n",
      "2101/6000번째 cost:2.1793766444289098e-11, W:[2.0000017], b:[0.99999195]\n",
      "2401/6000번째 cost:2.060005464821213e-11, W:[2.0000017], b:[0.99999213]\n",
      "2701/6000번째 cost:2.060005464821213e-11, W:[2.0000017], b:[0.99999213]\n",
      "3001/6000번째 cost:2.060005464821213e-11, W:[2.0000017], b:[0.99999213]\n",
      "3301/6000번째 cost:2.060005464821213e-11, W:[2.0000017], b:[0.99999213]\n",
      "3601/6000번째 cost:2.060005464821213e-11, W:[2.0000017], b:[0.99999213]\n",
      "3901/6000번째 cost:2.060005464821213e-11, W:[2.0000017], b:[0.99999213]\n",
      "4201/6000번째 cost:2.060005464821213e-11, W:[2.0000017], b:[0.99999213]\n",
      "4501/6000번째 cost:2.060005464821213e-11, W:[2.0000017], b:[0.99999213]\n",
      "4801/6000번째 cost:2.060005464821213e-11, W:[2.0000017], b:[0.99999213]\n",
      "5101/6000번째 cost:2.060005464821213e-11, W:[2.0000017], b:[0.99999213]\n",
      "5401/6000번째 cost:2.060005464821213e-11, W:[2.0000017], b:[0.99999213]\n",
      "5701/6000번째 cost:2.060005464821213e-11, W:[2.0000017], b:[0.99999213]\n",
      "6001/6000번째 cost:2.060005464821213e-11, W:[2.0000017], b:[0.99999213]\n",
      "6301/6000번째 cost:2.060005464821213e-11, W:[2.0000017], b:[0.99999213]\n",
      "6601/6000번째 cost:2.060005464821213e-11, W:[2.0000017], b:[0.99999213]\n",
      "6901/6000번째 cost:2.060005464821213e-11, W:[2.0000017], b:[0.99999213]\n",
      "7201/6000번째 cost:2.060005464821213e-11, W:[2.0000017], b:[0.99999213]\n",
      "7501/6000번째 cost:2.060005464821213e-11, W:[2.0000017], b:[0.99999213]\n",
      "7801/6000번째 cost:2.060005464821213e-11, W:[2.0000017], b:[0.99999213]\n",
      "8101/6000번째 cost:2.060005464821213e-11, W:[2.0000017], b:[0.99999213]\n",
      "8401/6000번째 cost:2.060005464821213e-11, W:[2.0000017], b:[0.99999213]\n",
      "8701/6000번째 cost:2.060005464821213e-11, W:[2.0000017], b:[0.99999213]\n",
      "9001/6000번째 cost:2.060005464821213e-11, W:[2.0000017], b:[0.99999213]\n",
      "9301/6000번째 cost:2.060005464821213e-11, W:[2.0000017], b:[0.99999213]\n",
      "9601/6000번째 cost:2.060005464821213e-11, W:[2.0000017], b:[0.99999213]\n",
      "9901/6000번째 cost:2.060005464821213e-11, W:[2.0000017], b:[0.99999213]\n"
     ]
    }
   ],
   "source": [
    "# data set (H = 2x + 1)\n",
    "x_data = np.array([1,2,3,5,8])\n",
    "y_data = np.array([3,5,7,11,17])\n",
    "\n",
    "# placeholder 설정(x, y)\n",
    "x = tf.placeholder(dtype=tf.float32)\n",
    "y = tf.placeholder(dtype=tf.float32)\n",
    "\n",
    "# weight & bias\n",
    "W = tf.Variable(tf.random.normal([1]), name='weight')\n",
    "b = tf.Variable(tf.random.normal([1]), name='bias')\n",
    "# Hypothesis\n",
    "H = W*x + b\n",
    "# cost function == loss function\n",
    "cost = tf.reduce_mean(tf.square(H-y))\n",
    "# 경사하강법\n",
    "train = tf.train.GradientDescentOptimizer(learning_rate=0.01).minimize(cost)\n",
    "\n",
    "# session 생성 & 변수 초기화\n",
    "sess = tf.Session()\n",
    "sess.run(tf.global_variables_initializer())\n",
    "# 학습 6000번\n",
    "for step in range(10000):\n",
    "    _, cost_val, W_val, b_val = sess.run([train, cost, W, b],\n",
    "                                        feed_dict={x:x_data,\n",
    "                                                   y:y_data})\n",
    "    if step % 300 == 0:\n",
    "        print(\"{}/6000번째 cost:{}, W:{}, b:{}\".format(step+1,\n",
    "                                                     cost_val, \n",
    "                                                     W_val,\n",
    "                                                     b_val))"
   ]
  },
  {
   "cell_type": "code",
   "execution_count": 65,
   "id": "65dd1995",
   "metadata": {},
   "outputs": [
    {
     "data": {
      "text/plain": [
       "[array([2.0000017], dtype=float32), array([0.99999213], dtype=float32)]"
      ]
     },
     "execution_count": 65,
     "metadata": {},
     "output_type": "execute_result"
    }
   ],
   "source": [
    "# 최종 W, b\n",
    "sess.run([W, b])"
   ]
  },
  {
   "cell_type": "code",
   "execution_count": 66,
   "id": "f6a4ce40",
   "metadata": {},
   "outputs": [
    {
     "data": {
      "text/plain": [
       "array([11.000001], dtype=float32)"
      ]
     },
     "execution_count": 66,
     "metadata": {},
     "output_type": "execute_result"
    }
   ],
   "source": [
    "# 예측하기\n",
    "sess.run(H, feed_dict={x:5})"
   ]
  },
  {
   "cell_type": "code",
   "execution_count": 67,
   "id": "1d78f957",
   "metadata": {},
   "outputs": [
    {
     "data": {
      "text/plain": [
       "array([11.000001, 13.000002, 15.000004], dtype=float32)"
      ]
     },
     "execution_count": 67,
     "metadata": {},
     "output_type": "execute_result"
    }
   ],
   "source": [
    "sess.run(H, feed_dict={x: np.array([5,6,7])})"
   ]
  },
  {
   "cell_type": "markdown",
   "id": "eb2c5296",
   "metadata": {},
   "source": [
    "## 2.3 scale 이 다른 데이터들의 linear regression 구현(scale 조정 X)"
   ]
  },
  {
   "cell_type": "code",
   "execution_count": 70,
   "id": "b62244c8",
   "metadata": {},
   "outputs": [
    {
     "name": "stdout",
     "output_type": "stream",
     "text": [
      "1/6000번째 cost:4450.2353515625, W:[-0.50166523], b:[0.12365787]\n",
      "301/6000번째 cost:117.51522064208984, W:[8.960878], b:[1.369863]\n",
      "601/6000번째 cost:80.33758544921875, W:[9.84079], b:[1.4574871]\n",
      "901/6000번째 cost:79.98835754394531, W:[9.925944], b:[1.438327]\n",
      "1201/6000번째 cost:79.95591735839844, W:[9.937448], b:[1.4097615]\n",
      "1501/6000번째 cost:79.9272689819336, W:[9.942055], b:[1.3807998]\n",
      "1801/6000번째 cost:79.8996353149414, W:[9.945975], b:[1.3522693]\n",
      "2101/6000번째 cost:79.87296295166016, W:[9.949732], b:[1.3242435]\n",
      "2401/6000번째 cost:79.84724426269531, W:[9.953451], b:[1.29672]\n",
      "2701/6000번째 cost:79.82240295410156, W:[9.957168], b:[1.2696729]\n",
      "3001/6000번째 cost:79.79840087890625, W:[9.96073], b:[1.2430979]\n",
      "3301/6000번째 cost:79.77529907226562, W:[9.964227], b:[1.2170018]\n",
      "3601/6000번째 cost:79.75300598144531, W:[9.9676695], b:[1.1913754]\n",
      "3901/6000번째 cost:79.73146057128906, W:[9.971103], b:[1.1662008]\n",
      "4201/6000번째 cost:79.71070098876953, W:[9.974474], b:[1.141457]\n",
      "4501/6000번째 cost:79.69066619873047, W:[9.977731], b:[1.1171544]\n",
      "4801/6000번째 cost:79.67133331298828, W:[9.98093], b:[1.0932901]\n",
      "5101/6000번째 cost:79.65266418457031, W:[9.984081], b:[1.0698547]\n",
      "5401/6000번째 cost:79.63462829589844, W:[9.987228], b:[1.0468315]\n",
      "5701/6000번째 cost:79.61727905273438, W:[9.990312], b:[1.0242006]\n"
     ]
    }
   ],
   "source": [
    "x_data = np.array([1,2,5,8,10])\n",
    "y_data = np.array([5,15,68,80,95])\n",
    "\n",
    "# placeholder 설정\n",
    "x = tf.placeholder(dtype=tf.float32)\n",
    "y = tf.placeholder(dtype=tf.float32)\n",
    "# weight & bias\n",
    "W = tf.Variable(tf.random.normal([1]), name='weight')\n",
    "b = tf.Variable(tf.random.normal([1]))\n",
    "# Hypothesis\n",
    "H = W*x + b\n",
    "# cost function(less function ; 손실함수)\n",
    "cost = tf.reduce_mean(tf.square(H - y))\n",
    "# 경사하강법\n",
    "optimizer = tf.train.GradientDescentOptimizer(learning_rate=0.0001)\n",
    "train = optimizer.minimize(cost)\n",
    "# Session & Variable 초기화\n",
    "sess = tf.Session()\n",
    "sess.run(tf.global_variables_initializer())\n",
    "# 학습\n",
    "for step in range(1, 6001):\n",
    "    _, cost_val, W_val, b_val = sess.run([train, cost, W, b],\n",
    "                                        feed_dict={x:x_data,\n",
    "                                                   y:y_data})\n",
    "    if step%300==1:\n",
    "        print(\"{}/6000번째 cost:{}, W:{}, b:{}\".format(step,\n",
    "                                                    cost_val,\n",
    "                                                    W_val,\n",
    "                                                    b_val))"
   ]
  },
  {
   "cell_type": "code",
   "execution_count": 71,
   "id": "878e2317",
   "metadata": {},
   "outputs": [
    {
     "data": {
      "text/plain": [
       "array([50.968426], dtype=float32)"
      ]
     },
     "execution_count": 71,
     "metadata": {},
     "output_type": "execute_result"
    }
   ],
   "source": [
    "# 예측\n",
    "sess.run(H, feed_dict={x:5})"
   ]
  },
  {
   "cell_type": "code",
   "execution_count": null,
   "id": "54f5aeee",
   "metadata": {},
   "outputs": [],
   "source": [
    "# cost값이 멈춤 : local 최소값"
   ]
  },
  {
   "cell_type": "markdown",
   "id": "4314ec9e",
   "metadata": {},
   "source": [
    "## 2.4 scale이 다른 데이터들의 linear regression을 구현(조정 O)\n",
    "### scale을 맞추기 : 모든 데이터를 일정 범위내로 조정\n",
    "- normalization(정규화) : 데이터의 최대값을 1, 최소값을 0으로 조정\n",
    "                      x - Xmin\n",
    "    normalization = ─────────────\n",
    "                     Xmax - Xmin\n",
    "        * 위의 식을 써도 되지만 라이브러리를 주로 씀(sklearn.preprocessing.MinMaxScaler이용)\n",
    "        \n",
    "- standardization(표준화) : 데이터의 평균을 0, 표준편차를 1로 조정\n",
    "                        x - Xmean(평균)\n",
    "    standardization = ───────────────\n",
    "                       Xstd(표준편차)\n",
    "          * 위의 식을 써도 되지만 라이브러리를 주로 씀(sklearn.preprocessing.StandardScaler이용)"
   ]
  },
  {
   "cell_type": "code",
   "execution_count": 10,
   "id": "7a45bb9d",
   "metadata": {},
   "outputs": [
    {
     "name": "stdout",
     "output_type": "stream",
     "text": [
      "[0.         0.11111111 0.44444444 0.77777778 1.        ]\n",
      "[0.         0.11111111 0.7        0.83333333 1.        ]\n"
     ]
    }
   ],
   "source": [
    "# 라이브러리를 쓰지 않고 정규화 : 예측할 경우 x데이터를 스케일변환, 스케일된 예측값을 변환이 번거로워\n",
    "x_data = np.array([1,2,5,8,10])\n",
    "y_data = np.array([5,15,68,80,95])\n",
    "\n",
    "scaled_x_data = (x_data - x_data.min()) / (x_data.max() - x_data.min())\n",
    "scaled_y_data = (y_data - y_data.min()) / (y_data.max() - y_data.min())\n",
    "print(scaled_x_data)\n",
    "print(scaled_y_data)"
   ]
  },
  {
   "cell_type": "code",
   "execution_count": 15,
   "id": "e65c3341",
   "metadata": {},
   "outputs": [
    {
     "data": {
      "text/plain": [
       "array([[ 1.        ,  0.        ,  5.        ,  0.        ],\n",
       "       [ 2.        ,  0.11111111, 15.        ,  0.11111111],\n",
       "       [ 5.        ,  0.44444444, 68.        ,  0.7       ],\n",
       "       [ 8.        ,  0.77777778, 80.        ,  0.83333333],\n",
       "       [10.        ,  1.        , 95.        ,  1.        ]])"
      ]
     },
     "execution_count": 15,
     "metadata": {},
     "output_type": "execute_result"
    }
   ],
   "source": [
    "# 라이브러리를 쓰고 정규화\n",
    "x_data = np.array([1,2,5,8,10]).reshape(-1,1)\n",
    "y_data = np.array([5,15,68,80,95]).reshape(-1,1)\n",
    "\n",
    "from sklearn.preprocessing import MinMaxScaler\n",
    "scaler_x = MinMaxScaler() # x_data를 표준화시킬 객체\n",
    "scaler_x.fit(x_data)\n",
    "scaled_x_data = scaler_x.transform(x_data)\n",
    "scaler_y = MinMaxScaler() # y_data를 표준화시킬 객체\n",
    "scaler_y.fit(y_data)\n",
    "scaled_y_data = scaler_y.transform(y_data)\n",
    "np.column_stack([x_data, scaled_x_data, y_data, scaled_y_data])"
   ]
  },
  {
   "cell_type": "code",
   "execution_count": 19,
   "id": "ff7bd439",
   "metadata": {},
   "outputs": [
    {
     "name": "stdout",
     "output_type": "stream",
     "text": [
      "1/10000번째 cost:1.524968147277832, W:[-0.9024801], b:[-0.04032834]\n",
      "301/10000번째 cost:0.5539530515670776, W:[-0.5626051], b:[0.36436835]\n",
      "601/10000번째 cost:0.30999842286109924, W:[-0.35655326], b:[0.53182155]\n",
      "901/10000번째 cost:0.23214776813983917, W:[-0.21684825], b:[0.5886936]\n",
      "1201/10000번째 cost:0.1944853961467743, W:[-0.11137301], b:[0.5947754]\n",
      "1501/10000번째 cost:0.16845306754112244, W:[-0.02474577], b:[0.5782428]\n",
      "1801/10000번째 cost:0.14731910824775696, W:[0.05048723], b:[0.5523263]\n",
      "2101/10000번째 cost:0.12927815318107605, W:[0.1180185], b:[0.52319294]\n",
      "2401/10000번째 cost:0.11366593837738037, W:[0.17975044], b:[0.4936778]\n",
      "2701/10000번째 cost:0.10010721534490585, W:[0.2367285], b:[0.4650445]\n",
      "3001/10000번째 cost:0.08832108974456787, W:[0.28958276], b:[0.43781894]\n",
      "3301/10000번째 cost:0.0780733972787857, W:[0.33873764], b:[0.41218296]\n",
      "3601/10000번째 cost:0.0691627711057663, W:[0.38451225], b:[0.38816008]\n",
      "3901/10000번째 cost:0.06141462177038193, W:[0.42716736], b:[0.36570323]\n",
      "4201/10000번째 cost:0.05467727780342102, W:[0.4669292], b:[0.3447362]\n",
      "4501/10000번째 cost:0.04881884902715683, W:[0.5040004], b:[0.3251722]\n",
      "4801/10000번째 cost:0.043724723160266876, W:[0.53856564], b:[0.30692282]\n",
      "5101/10000번째 cost:0.03929513692855835, W:[0.5707962], b:[0.28990254]\n",
      "5401/10000번째 cost:0.035443440079689026, W:[0.60085005], b:[0.27403015]\n",
      "5701/10000번째 cost:0.03209422901272774, W:[0.62887466], b:[0.2592286]\n",
      "6001/10000번째 cost:0.029181957244873047, W:[0.65500724], b:[0.24542604]\n",
      "6301/10000번째 cost:0.02664957381784916, W:[0.67937595], b:[0.23255505]\n",
      "6601/10000번째 cost:0.024447573348879814, W:[0.7020994], b:[0.22055294]\n",
      "6901/10000번째 cost:0.022532835602760315, W:[0.72328883], b:[0.209361]\n",
      "7201/10000번째 cost:0.02086789906024933, W:[0.74304765], b:[0.19892456]\n",
      "7501/10000번째 cost:0.019420146942138672, W:[0.7614728], b:[0.18919256]\n",
      "7801/10000번째 cost:0.018161261454224586, W:[0.7786543], b:[0.18011765]\n",
      "8101/10000번째 cost:0.017066603526473045, W:[0.7946759], b:[0.1716553]\n",
      "8401/10000번째 cost:0.016114743426442146, W:[0.80961615], b:[0.16376418]\n",
      "8701/10000번째 cost:0.01528706680983305, W:[0.8235475], b:[0.15640573]\n",
      "9001/10000번째 cost:0.014567367732524872, W:[0.83653855], b:[0.14954406]\n",
      "9301/10000번째 cost:0.013941553421318531, W:[0.84865254], b:[0.14314546]\n",
      "9601/10000번째 cost:0.013397382572293282, W:[0.8599488], b:[0.137179]\n",
      "9901/10000번째 cost:0.01292420458048582, W:[0.87048244], b:[0.13161528]\n"
     ]
    }
   ],
   "source": [
    "# placeholder 설정\n",
    "x = tf.placeholder(dtype=tf.float32)\n",
    "y = tf.placeholder(dtype=tf.float32)\n",
    "# weight & bias\n",
    "W = tf.Variable(tf.random.normal([1]), name='weight')\n",
    "b = tf.Variable(tf.random.normal([1]))\n",
    "# Hypothesis\n",
    "H = W*x + b\n",
    "# cost function(less function ; 손실함수)\n",
    "cost = tf.reduce_mean(tf.square(H - y))\n",
    "# 경사하강법\n",
    "optimizer = tf.train.GradientDescentOptimizer(learning_rate=0.001)\n",
    "train = optimizer.minimize(cost)\n",
    "# Session & Variable 초기화\n",
    "sess = tf.Session()\n",
    "sess.run(tf.global_variables_initializer())\n",
    "# 학습\n",
    "for step in range(1, 10001):\n",
    "    _, cost_val, W_val, b_val = sess.run([train, cost, W, b],\n",
    "                                        feed_dict={x:scaled_x_data,\n",
    "                                                   y:scaled_y_data})\n",
    "    if step%300==1:\n",
    "        print(\"{}/10000번째 cost:{}, W:{}, b:{}\".format(step,\n",
    "                                                    cost_val,\n",
    "                                                    W_val,\n",
    "                                                    b_val))"
   ]
  },
  {
   "cell_type": "code",
   "execution_count": 22,
   "id": "6983a6bf",
   "metadata": {},
   "outputs": [
    {
     "name": "stdout",
     "output_type": "stream",
     "text": [
      "2를 스케일 조정된 값 : [[0.11111111]]\n",
      "예측값 : [[25.424423]]\n"
     ]
    }
   ],
   "source": [
    "# 예측\n",
    "scaled_input = scaler_x.transform(np.array([[2]]))\n",
    "print(\"2를 스케일 조정된 값 :\",scaled_input)\n",
    "scaled_output = sess.run(H, feed_dict={x:scaled_input})\n",
    "print('예측값 :', scaler_y.inverse_transform(scaled_output))"
   ]
  },
  {
   "cell_type": "code",
   "execution_count": 31,
   "id": "1fdd000e",
   "metadata": {},
   "outputs": [
    {
     "data": {
      "text/plain": [
       "array([[ 5.        , 16.68609238],\n",
       "       [15.        , 25.42442322],\n",
       "       [68.        , 51.63942337],\n",
       "       [80.        , 77.85442352],\n",
       "       [95.        , 95.33108521]])"
      ]
     },
     "execution_count": 31,
     "metadata": {},
     "output_type": "execute_result"
    }
   ],
   "source": [
    "# x_data들의 예측값\n",
    "scaled_y_hat = sess.run(H, feed_dict={x:scaled_x_data})\n",
    "y_hat = scaler_y.inverse_transform(scaled_y_hat)\n",
    "np.column_stack([y_data, y_hat])"
   ]
  },
  {
   "cell_type": "code",
   "execution_count": 33,
   "id": "7189e48e",
   "metadata": {},
   "outputs": [
    {
     "data": {
      "image/png": "[encoded data removed]",
      "text/plain": [
       "<Figure size 640x480 with 1 Axes>"
      ]
     },
     "metadata": {},
     "output_type": "display_data"
    }
   ],
   "source": [
    "import matplotlib.pyplot as plt\n",
    "plt.plot(x_data, y_data)\n",
    "plt.plot(x_data, y_hat)\n",
    "plt.show()"
   ]
  },
  {
   "cell_type": "code",
   "execution_count": 42,
   "id": "bbb7bcfd",
   "metadata": {},
   "outputs": [
    {
     "data": {
      "text/plain": [
       "(array([[ 1],\n",
       "        [ 2],\n",
       "        [ 5],\n",
       "        [ 8],\n",
       "        [10]]),\n",
       " array([ 1,  2,  5,  8, 10]),\n",
       " array([ 1,  2,  5,  8, 10]),\n",
       " array([ 1,  2,  5,  8, 10]))"
      ]
     },
     "execution_count": 42,
     "metadata": {},
     "output_type": "execute_result"
    }
   ],
   "source": [
    "x_data, x_data.ravel(), x_data.flatten(), x_data[:,0]"
   ]
  },
  {
   "cell_type": "code",
   "execution_count": 43,
   "id": "3ab4a692",
   "metadata": {},
   "outputs": [
    {
     "data": {
      "image/png": "[encoded data removed]",
      "text/plain": [
       "<Figure size 640x480 with 1 Axes>"
      ]
     },
     "metadata": {},
     "output_type": "display_data"
    }
   ],
   "source": [
    "import seaborn as sns\n",
    "import pandas as pd\n",
    "df = pd.DataFrame({'x':x_data[:,0],\n",
    "                   'y':y_data[:,0]})\n",
    "sns.regplot(data=df, x='x', y='y')\n",
    "plt.show()"
   ]
  },
  {
   "cell_type": "code",
   "execution_count": 46,
   "id": "984c89c8",
   "metadata": {},
   "outputs": [
    {
     "name": "stdout",
     "output_type": "stream",
     "text": [
      "[-1.22474487 -0.93313895 -0.05832118  0.81649658  1.39970842] [-1.32373476 -1.04563922  0.42826713  0.76198177  1.17912508]\n"
     ]
    }
   ],
   "source": [
    "# 라이브러리를 쓰지 않고 표준화\n",
    "x_data = np.array([1,2,5,8,10])\n",
    "y_data = np.array([5,15,68,80,95])\n",
    "scaled_x_data = (x_data - x_data.mean()) / x_data.std()\n",
    "scaled_y_data = (y_data - y_data.mean()) / y_data.std()\n",
    "print(scaled_x_data, scaled_y_data)"
   ]
  },
  {
   "cell_type": "code",
   "execution_count": 55,
   "id": "f0045b41",
   "metadata": {},
   "outputs": [
    {
     "name": "stdout",
     "output_type": "stream",
     "text": [
      "[[ 1.         -1.22474487]\n",
      " [ 2.         -0.93313895]\n",
      " [ 5.         -0.05832118]\n",
      " [ 8.          0.81649658]\n",
      " [10.          1.39970842]]\n",
      "[[ 5.         -1.32373476]\n",
      " [15.         -1.04563922]\n",
      " [68.          0.42826713]\n",
      " [80.          0.76198177]\n",
      " [95.          1.17912508]]\n"
     ]
    }
   ],
   "source": [
    "# 라이브러리를 써서 표준화\n",
    "x_data = np.array([1,2,5,8,10]).reshape(-1, 1)\n",
    "y_data = np.array([5,15,68,80,95]).reshape(-1,1)\n",
    "\n",
    "from sklearn.preprocessing import StandardScaler\n",
    "scaler_x = StandardScaler() # x_data를 표준화할 객체\n",
    "scaler_x.fit(x_data)\n",
    "scaled_x_data = scaler_x.transform(x_data)\n",
    "scaler_y = StandardScaler() # y_data를 표준화할 객체\n",
    "scaler_y.fit(y_data)\n",
    "scaled_y_data = scaler_y.transform(y_data)\n",
    "print(np.column_stack([x_data, scaled_x_data]))\n",
    "print(np.column_stack([y_data, scaled_y_data]))"
   ]
  },
  {
   "cell_type": "code",
   "execution_count": 57,
   "id": "38d2c674",
   "metadata": {},
   "outputs": [
    {
     "name": "stdout",
     "output_type": "stream",
     "text": [
      "1/10000번째 cost:7.165692329406738, W:[0.0559654], b:[2.5041988]\n",
      "1001/10000번째 cost:0.19080738723278046, W:[0.84560764], b:[0.33822855]\n",
      "2001/10000번째 cost:0.06356845051050186, W:[0.9522603], b:[0.04568268]\n",
      "3001/10000번째 cost:0.061247318983078, W:[0.9666655], b:[0.0061701]\n",
      "4001/10000번째 cost:0.06120496988296509, W:[0.96861076], b:[0.00083336]\n",
      "5001/10000번째 cost:0.06120418757200241, W:[0.96887314], b:[0.00011256]\n",
      "6001/10000번째 cost:0.06120418384671211, W:[0.9688999], b:[1.5208694e-05]\n",
      "7001/10000번째 cost:0.06120417267084122, W:[0.9688999], b:[2.0613459e-06]\n",
      "8001/10000번째 cost:0.06120417267084122, W:[0.9688999], b:[2.8556698e-07]\n",
      "9001/10000번째 cost:0.061204176396131516, W:[0.9688999], b:[5.1848165e-08]\n"
     ]
    }
   ],
   "source": [
    "# placeholder 설정\n",
    "x = tf.placeholder(dtype=tf.float32)\n",
    "y = tf.placeholder(dtype=tf.float32)\n",
    "# weight & bias\n",
    "W = tf.Variable(tf.random.normal([1]), name='weight')\n",
    "b = tf.Variable(tf.random.normal([1]))\n",
    "# Hypothesis\n",
    "H = W*x + b\n",
    "# cost function(less function ; 손실함수)\n",
    "cost = tf.reduce_mean(tf.square(H - y))\n",
    "# 경사하강법\n",
    "optimizer = tf.train.GradientDescentOptimizer(learning_rate=0.001)\n",
    "train = optimizer.minimize(cost)\n",
    "# Session & Variable 초기화\n",
    "sess = tf.Session()\n",
    "sess.run(tf.global_variables_initializer())\n",
    "# 학습\n",
    "for step in range(1, 10001):\n",
    "    _, cost_val, W_val, b_val = sess.run([train, cost, W, b],\n",
    "                                        feed_dict={x:scaled_x_data,\n",
    "                                                   y:scaled_y_data})\n",
    "    if step%1000==1:\n",
    "        print(\"{}/10000번째 cost:{}, W:{}, b:{}\".format(step,\n",
    "                                                    cost_val,\n",
    "                                                    W_val,\n",
    "                                                    b_val))"
   ]
  },
  {
   "cell_type": "markdown",
   "id": "f1f48d01",
   "metadata": {},
   "source": [
    "## 2.5 독립변수 x가 여러개인 linear Regression"
   ]
  },
  {
   "cell_type": "code",
   "execution_count": 11,
   "id": "f3e5928e",
   "metadata": {},
   "outputs": [
    {
     "name": "stdout",
     "output_type": "stream",
     "text": [
      "1번째 cost:36082.21875\n",
      "5001번째 cost:0.5296040177345276\n",
      "10001번째 cost:0.1949850618839264\n",
      "15001번째 cost:0.16314084827899933\n",
      "20001번째 cost:0.15349125862121582\n",
      "25001번째 cost:0.1469595730304718\n",
      "30001번째 cost:0.14189696311950684\n",
      "35001번째 cost:0.13791409134864807\n",
      "최종 cost:0.13480018079280853\n"
     ]
    }
   ],
   "source": [
    "# data set\n",
    "x_data = np.array([[73,80,75],\n",
    "                   [93,88,93],\n",
    "                   [89,91,90],\n",
    "                   [96,98,100],\n",
    "                   [73,66,70]])\n",
    "y_data = np.array([[152], [185], [180],[196],[142]])\n",
    "# tensor graph 정의\n",
    "# shape=[None, 3] : x_data([5,3]도 받고, 예측할때는 [1,3]. 3열만 고정\n",
    "X = tf.placeholder(shape=[None, 3], dtype=tf.float32)\n",
    "Y = tf.placeholder(shape=[None,1], dtype=tf.float32)\n",
    "# weight & bias (weight 3개, bias 1개)\n",
    "W = tf.Variable(tf.random_normal([3, 1]), name='weight')\n",
    "b = tf.Variable(tf.random_normal([1]),    name='bias')\n",
    "# Hypothesis\n",
    "# H = X@W + b ; tf.matmul(X, W) - 행렬곱\n",
    "H = tf.matmul(X, W) + b\n",
    "# cost\n",
    "cost = tf.reduce_mean(tf.square(H-Y))\n",
    "#train\n",
    "train = tf.train.GradientDescentOptimizer(learning_rate=1e-5).minimize(cost)\n",
    "# session 생성과 Variable 초기화\n",
    "sess = tf.Session()\n",
    "sess.run(tf.global_variables_initializer())\n",
    "# 학습\n",
    "for step in range(1, 40001):\n",
    "    _, cost_val = sess.run([train, cost],\n",
    "                          feed_dict={X:x_data,\n",
    "                                     Y:y_data})\n",
    "    if step%5000==1:\n",
    "        print('{}번째 cost:{}'.format(step, cost_val))\n",
    "print('최종 cost:{}'.format(cost_val))"
   ]
  },
  {
   "cell_type": "code",
   "execution_count": 12,
   "id": "9a55cf37",
   "metadata": {},
   "outputs": [
    {
     "data": {
      "text/plain": [
       "array([[152.83125],\n",
       "       [149.5708 ]], dtype=float32)"
      ]
     },
     "execution_count": 12,
     "metadata": {},
     "output_type": "execute_result"
    }
   ],
   "source": [
    "#예측\n",
    "sess.run(H, feed_dict={X: np.array([[73,80,77],\n",
    "                                    [73,80,72]])})"
   ]
  },
  {
   "cell_type": "markdown",
   "id": "36fbbbfa",
   "metadata": {},
   "source": [
    "## csv를 array로 읽어오기"
   ]
  },
  {
   "cell_type": "code",
   "execution_count": 69,
   "id": "60f0d2ce",
   "metadata": {},
   "outputs": [
    {
     "data": {
      "text/plain": [
       "((111, 3), (111,))"
      ]
     },
     "execution_count": 69,
     "metadata": {},
     "output_type": "execute_result"
    }
   ],
   "source": [
    "# 방법1 : csv -> 데이터프레임 -> 넘파이배열\n",
    "# 1. csv를 dataFrame 읽어와\n",
    "data = pd.read_csv('data/ozone.csv')\n",
    "# 2. 결측치 대체 or 삭제\n",
    "#data.fillna(value=data.mean(), inplace=True)\n",
    "data.dropna(how='any', axis=0, inplace=True)\n",
    "X = data[['Solar.R','Wind','Temp']].values\n",
    "y = data['Ozone'].values\n",
    "X.shape, y.shape"
   ]
  },
  {
   "cell_type": "code",
   "execution_count": 14,
   "id": "9cbf4053",
   "metadata": {},
   "outputs": [
    {
     "data": {
      "text/plain": [
       "array([[ 41. , 190. ,   7.4,  67. ,   5. ,   1. ],\n",
       "       [ 36. , 118. ,   8. ,  72. ,   5. ,   2. ],\n",
       "       [ 12. , 149. ,  12.6,  74. ,   5. ,   3. ],\n",
       "       [ 18. , 313. ,  11.5,  62. ,   5. ,   4. ],\n",
       "       [  nan,   nan,  14.3,  56. ,   5. ,   5. ]])"
      ]
     },
     "execution_count": 14,
     "metadata": {},
     "output_type": "execute_result"
    }
   ],
   "source": [
    "# 방법2 : csv -> 넘파이배열\n",
    "# data = np.loadtxt('data/ozone_nonan.csv', delimiter=',') NAN이 없어야 함\n",
    "data = np.genfromtxt('data/ozone.csv', delimiter=',', skip_header=1,\n",
    "                    missing_values='NA', filling_values=np.nan)\n",
    "data[:5]"
   ]
  },
  {
   "cell_type": "code",
   "execution_count": 18,
   "id": "c196c699",
   "metadata": {},
   "outputs": [
    {
     "name": "stdout",
     "output_type": "stream",
     "text": [
      "<class 'pandas.core.frame.DataFrame'>\n",
      "RangeIndex: 153 entries, 0 to 152\n",
      "Data columns (total 6 columns):\n",
      " #   Column   Non-Null Count  Dtype  \n",
      "---  ------   --------------  -----  \n",
      " 0   Ozone    116 non-null    float64\n",
      " 1   Solar.R  146 non-null    float64\n",
      " 2   Wind     153 non-null    float64\n",
      " 3   Temp     153 non-null    int64  \n",
      " 4   Month    153 non-null    int64  \n",
      " 5   Day      153 non-null    int64  \n",
      "dtypes: float64(3), int64(3)\n",
      "memory usage: 7.3 KB\n"
     ]
    }
   ],
   "source": [
    "# csv파일 -> 데이터프레임 -> 결측치 -> 넘파이 배열 -> 머신러닝\n",
    "# import statsmodels.api as sm\n",
    "# sm.datasets.get_rdataset('airquality').data와 동일\n",
    "data = pd.read_csv('data/ozone.csv')\n",
    "data.info() # 결측치 처리 필수"
   ]
  },
  {
   "cell_type": "code",
   "execution_count": 24,
   "id": "2b256d65",
   "metadata": {},
   "outputs": [
    {
     "data": {
      "text/plain": [
       "Ozone       42.129310\n",
       "Solar.R    185.931507\n",
       "Wind         9.957516\n",
       "Temp        77.882353\n",
       "Month        6.993464\n",
       "Day         15.803922\n",
       "dtype: float64"
      ]
     },
     "execution_count": 24,
     "metadata": {},
     "output_type": "execute_result"
    }
   ],
   "source": [
    "data.mean() # 열별 평균"
   ]
  },
  {
   "cell_type": "code",
   "execution_count": 34,
   "id": "744f57cf",
   "metadata": {},
   "outputs": [
    {
     "data": {
      "text/plain": [
       "23.615384615384617"
      ]
     },
     "execution_count": 34,
     "metadata": {},
     "output_type": "execute_result"
    }
   ],
   "source": [
    "# 결측치 처리 방법 1 : 결측치 행을 제거\n",
    "# data.dropna(how='any', axis=0) #axis=0:기본값 생략가능. 결측치가 한열이라도 있는 행 삭제\n",
    "# 결측치 처리 방법 2 : 열별 평균값으로 대체\n",
    "# data.fillna(value=data.mean())\n",
    "# 결측치 처리방법 3 : 열별월별 평균값으로 대체\n",
    "mean_data = data.groupby('Month')[['Ozone','Solar.R']].mean()\n",
    "mean_data.loc[5, 'Ozone']"
   ]
  },
  {
   "cell_type": "code",
   "execution_count": 49,
   "id": "fdb73390",
   "metadata": {},
   "outputs": [
    {
     "data": {
      "text/html": [
       "<div>\n",
       "<style scoped>\n",
       "    .dataframe tbody tr th:only-of-type {\n",
       "        vertical-align: middle;\n",
       "    }\n",
       "\n",
       "    .dataframe tbody tr th {\n",
       "        vertical-align: top;\n",
       "    }\n",
       "\n",
       "    .dataframe thead th {\n",
       "        text-align: right;\n",
       "    }\n",
       "</style>\n",
       "<table border=\"1\" class=\"dataframe\">\n",
       "  <thead>\n",
       "    <tr style=\"text-align: right;\">\n",
       "      <th></th>\n",
       "      <th>Ozone</th>\n",
       "      <th>Solar.R</th>\n",
       "      <th>Wind</th>\n",
       "      <th>Temp</th>\n",
       "    </tr>\n",
       "  </thead>\n",
       "  <tbody>\n",
       "    <tr>\n",
       "      <th>0</th>\n",
       "      <td>41.000000</td>\n",
       "      <td>190.000000</td>\n",
       "      <td>7.4</td>\n",
       "      <td>67.0</td>\n",
       "    </tr>\n",
       "    <tr>\n",
       "      <th>1</th>\n",
       "      <td>36.000000</td>\n",
       "      <td>118.000000</td>\n",
       "      <td>8.0</td>\n",
       "      <td>72.0</td>\n",
       "    </tr>\n",
       "    <tr>\n",
       "      <th>2</th>\n",
       "      <td>12.000000</td>\n",
       "      <td>149.000000</td>\n",
       "      <td>12.6</td>\n",
       "      <td>74.0</td>\n",
       "    </tr>\n",
       "    <tr>\n",
       "      <th>3</th>\n",
       "      <td>18.000000</td>\n",
       "      <td>313.000000</td>\n",
       "      <td>11.5</td>\n",
       "      <td>62.0</td>\n",
       "    </tr>\n",
       "    <tr>\n",
       "      <th>4</th>\n",
       "      <td>23.615385</td>\n",
       "      <td>181.296296</td>\n",
       "      <td>14.3</td>\n",
       "      <td>56.0</td>\n",
       "    </tr>\n",
       "  </tbody>\n",
       "</table>\n",
       "</div>"
      ],
      "text/plain": [
       "       Ozone     Solar.R  Wind  Temp\n",
       "0  41.000000  190.000000   7.4  67.0\n",
       "1  36.000000  118.000000   8.0  72.0\n",
       "2  12.000000  149.000000  12.6  74.0\n",
       "3  18.000000  313.000000  11.5  62.0\n",
       "4  23.615385  181.296296  14.3  56.0"
      ]
     },
     "execution_count": 49,
     "metadata": {},
     "output_type": "execute_result"
    }
   ],
   "source": [
    "def fill_nan(row):\n",
    "    \"row['Ozone']과 row['Solar.R']값이 결측치면 mean_data.loc[월, 열이름]으로 대체\"\n",
    "    # pd.options.mode.copy_on_write = True\n",
    "    row = row.copy()\n",
    "    if row.isna()['Ozone'] :\n",
    "        row['Ozone'] = mean_data.loc[row['Month'], 'Ozone']\n",
    "    if row.isna()['Solar.R']:\n",
    "        row['Solar.R'] = mean_data.loc[row.Month, 'Solar.R']\n",
    "    return row\n",
    "# fill_nan(data.loc[4]), data.loc[4]\n",
    "data = data.apply(fill_nan, axis=1)\n",
    "data = data[['Ozone', 'Solar.R', 'Wind', 'Temp']]\n",
    "data.head()"
   ]
  },
  {
   "cell_type": "code",
   "execution_count": 71,
   "id": "9a088662",
   "metadata": {},
   "outputs": [
    {
     "name": "stdout",
     "output_type": "stream",
     "text": [
      "1번째 cost : 10088.9384765625\n",
      "2001번째 cost : 511.2201843261719\n",
      "4001번째 cost : 473.9792785644531\n",
      "6001번째 cost : 464.6089782714844\n",
      "8001번째 cost : 462.24163818359375\n",
      "10001번째 cost : 461.6338806152344\n",
      "12001번째 cost : 461.4682922363281\n",
      "14001번째 cost : 461.4138488769531\n",
      "최종 cost : 461.39898681640625, W:[[ 0.05528564]\n",
      " [-3.5556645 ]\n",
      " [ 0.86666024]], b:[-1.0285498]\n"
     ]
    }
   ],
   "source": [
    "# 독립변수 & 종속변수 (values:판다스 데이터를 넘파이배열로 )\n",
    "x_data = data[['Solar.R','Wind','Temp']].values\n",
    "x_data = data.iloc[:, 1:].values\n",
    "y_data = data['Ozone'].values.reshape(-1, 1)\n",
    "y_data = data[['Ozone']].values\n",
    "x_data.shape, y_data.shape\n",
    "\n",
    "# tensorflow 구현\n",
    "# 1. X, y\n",
    "X = tf.placeholder(shape=[None, 3], dtype=tf.float32)\n",
    "y = tf.placeholder(shape=[None, 1], dtype=tf.float32)\n",
    "# 2. 독립변수 3개, 종속변수 1개인 모델의 weight, bias\n",
    "W = tf.Variable(tf.random_normal([3,1]))\n",
    "b = tf.Variable(tf.random_normal([1]))\n",
    "# 3. Hypothesis\n",
    "H = tf.matmul(X, W) + b\n",
    "# 4. cost함수=loss함수=손실함수\n",
    "cost = tf.reduce_mean(tf.square(H-y))\n",
    "# 5. train\n",
    "train = tf.train.GradientDescentOptimizer(learning_rate=1e-5).minimize(cost)\n",
    "# sess객체 생성 & W,b 변수 초기화\n",
    "sess = tf.Session()\n",
    "sess.run(tf.global_variables_initializer())\n",
    "# 학습\n",
    "for step in range(1, 15001):\n",
    "    _, cost_val = sess.run([train, cost], feed_dict={X : x_data,\n",
    "                                                     y : y_data})\n",
    "    if step%2000==1:\n",
    "        print(\"{}번째 cost : {}\".format(step, cost_val))\n",
    "print(\"최종 cost : {}, W:{}, b:{}\".format(cost_val, sess.run(W), sess.run(b)))"
   ]
  },
  {
   "cell_type": "code",
   "execution_count": 72,
   "id": "8bd17c62",
   "metadata": {},
   "outputs": [
    {
     "data": {
      "text/plain": [
       "array([[39.449375]], dtype=float32)"
      ]
     },
     "execution_count": 72,
     "metadata": {},
     "output_type": "execute_result"
    }
   ],
   "source": [
    "# 예측하기 (독립변수 118, 8, 72면 종속변수는 얼마?)\n",
    "input_data = np.array([[118, 8, 72]])\n",
    "sess.run(H, feed_dict={X:input_data})"
   ]
  },
  {
   "cell_type": "code",
   "execution_count": 82,
   "id": "165f6f1f",
   "metadata": {},
   "outputs": [
    {
     "data": {
      "text/plain": [
       "((153, 3), (153, 1))"
      ]
     },
     "execution_count": 82,
     "metadata": {},
     "output_type": "execute_result"
    }
   ],
   "source": [
    "# MinMaxScaler나 StandardScaler을 이용하여 스케일 조정 후 tensorflow 수행\n",
    "# 주로 0~1사이      주로 0근처\n",
    "data = pd.read_csv('data/ozone.csv')\n",
    "# 결측치 처리\n",
    "mean_data = data.groupby('Month')[['Ozone','Solar.R']].mean()\n",
    "def fill_nan(row):\n",
    "    \"row['Ozone']과 row['Solar.R']값이 결측치면 mean_data.loc[월, 열이름]으로 대체\"\n",
    "    # pd.options.mode.copy_on_write = True\n",
    "    row = row.copy()\n",
    "    if row.isna()['Ozone'] :\n",
    "        row['Ozone'] = mean_data.loc[row['Month'], 'Ozone']\n",
    "    if row.isna()['Solar.R']:\n",
    "        row['Solar.R'] = mean_data.loc[row.Month, 'Solar.R']\n",
    "    return row\n",
    "# fill_nan(data.loc[4]), data.loc[4]\n",
    "data = data.apply(fill_nan, axis=1)\n",
    "data = data[['Ozone', 'Solar.R', 'Wind', 'Temp']]\n",
    "# 독립변수 & 종속변수 (values:판다스 데이터를 넘파이배열로 )\n",
    "x_data = data.iloc[:, 1:].values\n",
    "y_data = data[['Ozone']].values\n",
    "# 독립변수와 종속변수의 scale 조정\n",
    "from sklearn.preprocessing import StandardScaler\n",
    "scaler_x = StandardScaler()\n",
    "scaled_x_data = scaler_x.fit_transform(x_data)\n",
    "scaler_y = StandardScaler()\n",
    "scaled_y_data = scaler_y.fit_transform(y_data)\n",
    "scaled_x_data.shape, scaled_y_data.shape"
   ]
  },
  {
   "cell_type": "code",
   "execution_count": 83,
   "id": "ca50e830",
   "metadata": {},
   "outputs": [
    {
     "name": "stdout",
     "output_type": "stream",
     "text": [
      "1번째 cost : 1.219386339187622\n",
      "3001번째 cost : 1.137768030166626\n",
      "6001번째 cost : 1.0657583475112915\n",
      "9001번째 cost : 1.0021839141845703\n",
      "12001번째 cost : 0.9460245966911316\n",
      "15001번째 cost : 0.8963844180107117\n",
      "18001번째 cost : 0.8524808287620544\n",
      "21001번째 cost : 0.8136303424835205\n",
      "24001번째 cost : 0.7792289853096008\n",
      "27001번째 cost : 0.748750627040863\n",
      "30001번째 cost : 0.7217325568199158\n",
      "33001번째 cost : 0.6977702379226685\n",
      "36001번째 cost : 0.6765055656433105\n",
      "39001번째 cost : 0.657624363899231\n",
      "최종 cost : 0.6518182754516602\n"
     ]
    }
   ],
   "source": [
    "# tensorflow 구현\n",
    "# 1. X, y\n",
    "X = tf.placeholder(shape=[None, 3], dtype=tf.float32)\n",
    "y = tf.placeholder(shape=[None, 1], dtype=tf.float32)\n",
    "# 2. 독립변수 3개, 종속변수 1개인 모델의 weight, bias\n",
    "W = tf.Variable(tf.random_normal([3,1]))\n",
    "b = tf.Variable(tf.random_normal([1]))\n",
    "# 3. Hypothesis\n",
    "H = tf.matmul(X, W) + b\n",
    "# 4. cost함수=loss함수=손실함수\n",
    "cost = tf.reduce_mean(tf.square(H-y))\n",
    "# 5. train\n",
    "train = tf.train.GradientDescentOptimizer(learning_rate=1e-5).minimize(cost)\n",
    "# sess객체 생성 & W,b 변수 초기화\n",
    "sess = tf.Session()\n",
    "sess.run(tf.global_variables_initializer())\n",
    "# 학습\n",
    "for step in range(1, 40001):\n",
    "    _, cost_val = sess.run([train, cost], feed_dict={X : scaled_x_data,\n",
    "                                                     y : scaled_y_data})\n",
    "    if step%3000==1:\n",
    "        print(\"{}번째 cost : {}\".format(step, cost_val))\n",
    "print(\"최종 cost : {}\".format(cost_val))"
   ]
  },
  {
   "cell_type": "code",
   "execution_count": 84,
   "id": "59f6ecfb",
   "metadata": {},
   "outputs": [
    {
     "data": {
      "text/plain": [
       "array([[37.47996]], dtype=float32)"
      ]
     },
     "execution_count": 84,
     "metadata": {},
     "output_type": "execute_result"
    }
   ],
   "source": [
    "# 예측하기 (독립변수 118, 8, 72면 종속변수는 얼마?)\n",
    "input_data = np.array([[118, 8, 72]])\n",
    "predict_data = sess.run(H, feed_dict={X : scaler_x.transform(input_data)})\n",
    "scaler_y.inverse_transform(predict_data)"
   ]
  },
  {
   "cell_type": "markdown",
   "id": "c7b85325",
   "metadata": {},
   "source": [
    "# 3. logistic Regression = Binary classification (binary 분류분석)\n",
    "- logistic 회귀분석 : 기존의 회귀분석과는 다른 처리가 필요  "
   ]
  },
  {
   "cell_type": "code",
   "execution_count": 91,
   "id": "4fbb9410",
   "metadata": {},
   "outputs": [
    {
     "data": {
      "image/png": "[encoded data removed]",
      "text/plain": [
       "<Figure size 500x200 with 1 Axes>"
      ]
     },
     "metadata": {},
     "output_type": "display_data"
    }
   ],
   "source": [
    "from scipy import stats\n",
    "import matplotlib.pyplot as plt\n",
    "plt.figure(figsize=(5,2))\n",
    "x = np.array([1, 2, 5, 8, 10])\n",
    "y = np.array([0, 0, 0, 1, 1]) # 실제값\n",
    "lm = stats.linregress(x, y)\n",
    "H = lm[0]*x + lm[1] # 예측값\n",
    "plt.scatter(x, y)\n",
    "plt.plot(x, H, 'r')\n",
    "plt.show()"
   ]
  },
  {
   "cell_type": "code",
   "execution_count": 92,
   "id": "f9272573",
   "metadata": {},
   "outputs": [
    {
     "data": {
      "image/png": "[encoded data removed]",
      "text/plain": [
       "<Figure size 500x200 with 1 Axes>"
      ]
     },
     "metadata": {},
     "output_type": "display_data"
    }
   ],
   "source": [
    "plt.figure(figsize=(5,2))\n",
    "x = np.array([1, 2, 5, 8, 10, 40])\n",
    "y = np.array([0, 0, 0, 1, 1, 1]) # 실제값\n",
    "lm = stats.linregress(x, y)\n",
    "H = lm[0]*x + lm[1] # 예측값\n",
    "plt.scatter(x, y)\n",
    "plt.plot(x, H, 'r')\n",
    "plt.show()"
   ]
  },
  {
   "cell_type": "code",
   "execution_count": 14,
   "id": "0e8e9c15",
   "metadata": {},
   "outputs": [
    {
     "name": "stdout",
     "output_type": "stream",
     "text": [
      "1번째 cost:2.177983522415161\n",
      "601번째 cost:0.24091240763664246\n",
      "1201번째 cost:0.18789896368980408\n",
      "1801번째 cost:0.16079473495483398\n",
      "2401번째 cost:0.14174386858940125\n",
      "3001번째 cost:0.12691041827201843\n",
      "3601번째 cost:0.11482954025268555\n",
      "4201번째 cost:0.10474510490894318\n",
      "4801번째 cost:0.09619041532278061\n",
      "5401번째 cost:0.08884552866220474\n",
      "6001번째 cost:0.0824776217341423\n",
      "6601번째 cost:0.07691045850515366\n",
      "7201번째 cost:0.07200737297534943\n",
      "7801번째 cost:0.06766076385974884\n",
      "최종 cost:0.06632668524980545\n"
     ]
    }
   ],
   "source": [
    "# 교안 pt. 50\n",
    "x_data = np.array([[10,0],\n",
    "                   [8, 1],\n",
    "                   [3, 3],\n",
    "                   [2, 3],\n",
    "                   [5, 1],\n",
    "                   [2, 0],\n",
    "                   [1, 0]])\n",
    "y_data = np.array([[1],[1],[1],[1],[0],[0],[0]])\n",
    "# X, y\n",
    "X = tf.placeholder(shape=[None,2], dtype=tf.float32)\n",
    "y = tf.placeholder(shape=[None,1], dtype=tf.float32)\n",
    "# 독립변수가 2개, 종속변수가 1개인 weight & bias\n",
    "W = tf.Variable(tf.random_normal([2,1]))\n",
    "b = tf.Variable(tf.random_normal([1]))\n",
    "# Hypothesis\n",
    "logits = tf.matmul(X, W) + b\n",
    "H      = tf.sigmoid(logits)\n",
    "# cost 함수\n",
    "# cost = tf.reduce_mean(tf.square(H - y))\n",
    "cost = tf.reduce_mean(tf.nn.sigmoid_cross_entropy_with_logits(logits=logits,\n",
    "                                                             labels=y))\n",
    "# train\n",
    "train = tf.train.GradientDescentOptimizer(learning_rate=0.1).minimize(cost)\n",
    "# sess & 초기화\n",
    "sess = tf.Session()\n",
    "sess.run(tf.global_variables_initializer())\n",
    "# 학습\n",
    "for step in range(1, 8001):\n",
    "    _, cost_val = sess.run([train, cost], feed_dict={X:x_data, \n",
    "                                                    y:y_data})\n",
    "    if step%600==1:\n",
    "        print(\"{}번째 cost:{}\".format(step, cost_val))\n",
    "print(\"최종 cost:{}\".format(cost_val))"
   ]
  },
  {
   "cell_type": "code",
   "execution_count": 20,
   "id": "1fcebe8a",
   "metadata": {},
   "outputs": [
    {
     "name": "stdout",
     "output_type": "stream",
     "text": [
      "모델의 정확도 : 100.0 %\n"
     ]
    }
   ],
   "source": [
    "# accuracy\n",
    "predict = tf.cast(H>=0.5, dtype=tf.float32)\n",
    "# sess.run(predict, feed_dict={X:x_data})\n",
    "correct = tf.equal(predict, y)\n",
    "# sess.run(correct, feed_dict={X:x_data, y:y_data})\n",
    "accuracy = tf.reduce_mean(tf.cast(correct, dtype=tf.float32))\n",
    "print('모델의 정확도 :', sess.run(accuracy, feed_dict={X:x_data,\n",
    "                                                      y:y_data})*100, '%')"
   ]
  },
  {
   "cell_type": "code",
   "execution_count": 22,
   "id": "8c09e52c",
   "metadata": {},
   "outputs": [
    {
     "data": {
      "text/plain": [
       "array([[1.]], dtype=float32)"
      ]
     },
     "execution_count": 22,
     "metadata": {},
     "output_type": "execute_result"
    }
   ],
   "source": [
    "# 모델 사용하기 == 예측하기\n",
    "input_data = np.array([[10,3]])\n",
    "sess.run(predict, feed_dict={X:input_data})"
   ]
  },
  {
   "cell_type": "markdown",
   "id": "7e155904",
   "metadata": {},
   "source": [
    "# 4. 분류분석\n",
    "- 종속변수가 2개 이상\n",
    "- 교안 54pt"
   ]
  },
  {
   "cell_type": "code",
   "execution_count": 35,
   "id": "65416bc0",
   "metadata": {},
   "outputs": [
    {
     "data": {
      "text/plain": [
       "((7, 4), (7, 3))"
      ]
     },
     "execution_count": 35,
     "metadata": {},
     "output_type": "execute_result"
    }
   ],
   "source": [
    "x_data = np.array([[10,7, 8, 5],\n",
    "                   [8, 8, 9, 4],\n",
    "                   [7, 8, 2, 3],\n",
    "                   [6, 3, 9, 3],\n",
    "                   [7, 5, 7, 4],\n",
    "                   [3, 5, 6, 2],\n",
    "                   [2, 4, 3, 1]])\n",
    "y_data = np.array([[\"A\"],\n",
    "                   [\"A\"],\n",
    "                   [\"B\"],\n",
    "                   [\"B\"],\n",
    "                   [\"B\"],\n",
    "                   [\"C\"],\n",
    "                   [\"C\"]])\n",
    "# 종속변수가 다중분류면 원핫인코딩 (교안 58pt)\n",
    "# 원핫인코딩 방법1\n",
    "from sklearn.preprocessing import LabelEncoder\n",
    "from tensorflow.keras.utils import to_categorical\n",
    "# to_categorical(y_data)\n",
    "encoder = LabelEncoder()\n",
    "labeled_y_data = encoder.fit_transform(y_data.ravel())\n",
    "onehot_y_data = to_categorical(labeled_y_data) # to_categorical의 결과는 넘파이배열\n",
    "onehot_y_data\n",
    "# 원핫인코딩 방법2\n",
    "from sklearn.preprocessing import LabelEncoder\n",
    "import pandas as pd\n",
    "# to_categorical(y_data)\n",
    "encoder = LabelEncoder()\n",
    "labeled_y_data = encoder.fit_transform(y_data.ravel())\n",
    "onehot_y_data = pd.get_dummies(labeled_y_data).values # d.get_dummies의 결과 데이터프레임\n",
    "onehot_y_data\n",
    "# 원핫인코딩 방법3\n",
    "onehot_y_data = pd.get_dummies(y_data.ravel()).values\n",
    "x_data.shape, onehot_y_data.shape"
   ]
  },
  {
   "cell_type": "code",
   "execution_count": 36,
   "id": "6344461b",
   "metadata": {},
   "outputs": [
    {
     "data": {
      "text/plain": [
       "array([[10,  7,  8,  5],\n",
       "       [ 8,  8,  9,  4],\n",
       "       [ 7,  8,  2,  3],\n",
       "       [ 6,  3,  9,  3],\n",
       "       [ 7,  5,  7,  4],\n",
       "       [ 3,  5,  6,  2],\n",
       "       [ 2,  4,  3,  1]])"
      ]
     },
     "execution_count": 36,
     "metadata": {},
     "output_type": "execute_result"
    }
   ],
   "source": [
    "x_data # 독립변수"
   ]
  },
  {
   "cell_type": "code",
   "execution_count": 37,
   "id": "d2bb5107",
   "metadata": {},
   "outputs": [
    {
     "data": {
      "text/plain": [
       "array([[1, 0, 0],\n",
       "       [1, 0, 0],\n",
       "       [0, 1, 0],\n",
       "       [0, 1, 0],\n",
       "       [0, 1, 0],\n",
       "       [0, 0, 1],\n",
       "       [0, 0, 1]], dtype=uint8)"
      ]
     },
     "execution_count": 37,
     "metadata": {},
     "output_type": "execute_result"
    }
   ],
   "source": [
    "onehot_y_data # 종속변수"
   ]
  },
  {
   "cell_type": "code",
   "execution_count": 46,
   "id": "f465da0b",
   "metadata": {},
   "outputs": [
    {
     "name": "stdout",
     "output_type": "stream",
     "text": [
      "1번째 cost:7.143826484680176\n",
      "601번째 cost:1.3599978685379028\n",
      "1201번째 cost:0.8316871523857117\n",
      "1801번째 cost:0.05237600579857826\n",
      "2401번째 cost:0.04360887408256531\n",
      "3001번째 cost:0.038291312754154205\n",
      "3601번째 cost:0.034418921917676926\n",
      "4201번째 cost:0.03136429935693741\n",
      "4801번째 cost:0.028852058574557304\n",
      "5401번째 cost:0.026732852682471275\n",
      "6001번째 cost:0.024913525208830833\n",
      "6601번째 cost:0.02333092875778675\n",
      "7201번째 cost:0.021939817816019058\n",
      "7801번째 cost:0.02070644497871399\n",
      "8401번째 cost:0.019604917615652084\n",
      "9001번째 cost:0.018614714965224266\n",
      "9601번째 cost:0.017719654366374016\n",
      "최종 cost:0.017170513048768044\n"
     ]
    }
   ],
   "source": [
    "# X, y\n",
    "X = tf.placeholder(shape=[None,4], dtype=tf.float32)\n",
    "Y = tf.placeholder(shape=[None,3], dtype=tf.float32)\n",
    "# 독립변수가 4개, 종속변수가 3개인 weight & bias\n",
    "W = tf.Variable(tf.random_normal([4,3]))\n",
    "b = tf.Variable(tf.random_normal([3]))\n",
    "# Hypothesis\n",
    "logits = tf.matmul(X, W) + b\n",
    "# H      = tf.sigmoid(logits) binary classfication(이진분류) 일 경우\n",
    "H = tf.nn.softmax(logits) # softmax : 종속변수들의 합이 1\n",
    "\n",
    "# cost 함수\n",
    "# cost = tf.reduce_mean(tf.square(H - y))\n",
    "cost = tf.reduce_mean(tf.nn.softmax_cross_entropy_with_logits_v2(logits=logits,\n",
    "                                                                 labels=Y))\n",
    "# train\n",
    "train = tf.train.GradientDescentOptimizer(learning_rate=0.1).minimize(cost)\n",
    "# sess & 초기화\n",
    "sess = tf.Session()\n",
    "sess.run(tf.global_variables_initializer())\n",
    "# 학습\n",
    "for step in range(1, 10001):\n",
    "    _, cost_val = sess.run([train, cost], feed_dict={X:x_data, \n",
    "                                                    Y: onehot_y_data})\n",
    "    if step%600==1:\n",
    "        print(\"{}번째 cost:{}\".format(step, cost_val))\n",
    "print(\"최종 cost:{}\".format(cost_val))"
   ]
  },
  {
   "cell_type": "code",
   "execution_count": 47,
   "id": "0e9c7810",
   "metadata": {},
   "outputs": [
    {
     "name": "stdout",
     "output_type": "stream",
     "text": [
      "[[9.6800631e-01 3.1993736e-02 1.7594679e-12]]\n",
      "[0]\n"
     ]
    }
   ],
   "source": [
    "# 예측하기\n",
    "input_data = np.array([[10,  7,  8,  5]])\n",
    "y_hat = sess.run(H, feed_dict={X:input_data})\n",
    "print(y_hat)\n",
    "print(y_hat.argmax(axis=1)) # argmax(axis=1)) : 행별 최대값이 있는 index"
   ]
  },
  {
   "cell_type": "code",
   "execution_count": 51,
   "id": "1bcca678",
   "metadata": {},
   "outputs": [
    {
     "name": "stdout",
     "output_type": "stream",
     "text": [
      "100.0 %\n"
     ]
    }
   ],
   "source": [
    "# accuracy 측정\n",
    "# H(예측값) : 0.99 0.005 0.005 -> H.argmax -> 0\n",
    "# Y(실제값) :   1    0    0    -> Y.argmax -> 0\n",
    "predict = tf.argmax(H, axis=1)\n",
    "# sess.run(predict, feed_dict={X:x_data})\n",
    "correct = tf.equal(predict, tf.argmax(Y, axis=1))\n",
    "# sess.run(correct, feed_dict={X:x_data, Y:onehot_y_data})\n",
    "accuracy = tf.reduce_mean(tf.cast(correct, dtype=tf.float32))\n",
    "print(sess.run(accuracy, feed_dict={X:x_data, Y:onehot_y_data})*100, '%')"
   ]
  },
  {
   "cell_type": "markdown",
   "id": "fcd4ff79",
   "metadata": {},
   "source": [
    "# 5. XOR(교안 77pt)"
   ]
  },
  {
   "cell_type": "code",
   "execution_count": 56,
   "id": "9bdce630",
   "metadata": {},
   "outputs": [
    {
     "name": "stdout",
     "output_type": "stream",
     "text": [
      "1번째 cost:0.7890697121620178\n",
      "601번째 cost:0.7128525972366333\n",
      "1201번째 cost:0.7032136917114258\n",
      "1801번째 cost:0.6985272169113159\n",
      "2401번째 cost:0.6960721015930176\n",
      "3001번째 cost:0.6947662830352783\n",
      "3601번째 cost:0.6940597891807556\n",
      "4201번째 cost:0.693670392036438\n",
      "4801번째 cost:0.6934518814086914\n",
      "5401번째 cost:0.693327009677887\n",
      "6001번째 cost:0.6932545900344849\n",
      "6601번째 cost:0.6932119131088257\n",
      "7201번째 cost:0.6931865215301514\n",
      "7801번째 cost:0.6931712627410889\n",
      "8401번째 cost:0.6931619644165039\n",
      "9001번째 cost:0.6931562423706055\n",
      "9601번째 cost:0.6931527853012085\n",
      "최종 cost:0.6931512355804443\n"
     ]
    }
   ],
   "source": [
    "# dataset\n",
    "x_data = np.array([[0,0],\n",
    "                   [0,1],\n",
    "                   [1,0],\n",
    "                   [1,1]])\n",
    "y_data = np.array([[0],\n",
    "                   [1],\n",
    "                   [1],\n",
    "                   [0]])\n",
    "# X, y\n",
    "X = tf.placeholder(shape=[None,2], dtype=tf.float32)\n",
    "y = tf.placeholder(shape=[None,1], dtype=tf.float32)\n",
    "# 독립변수가 2개, 종속변수가 1개인 weight & bias\n",
    "W = tf.Variable(tf.random_normal([2,1]))\n",
    "b = tf.Variable(tf.random_normal([1]))\n",
    "# Hypothesis\n",
    "logits = tf.matmul(X, W) + b\n",
    "H      = tf.sigmoid(logits)\n",
    "# cost 함수\n",
    "# cost = tf.reduce_mean(tf.square(H - y))\n",
    "cost = tf.reduce_mean(tf.nn.sigmoid_cross_entropy_with_logits(logits=logits,\n",
    "                                                             labels=y))\n",
    "# train\n",
    "train = tf.train.GradientDescentOptimizer(learning_rate=0.01).minimize(cost)\n",
    "# sess & 초기화\n",
    "sess = tf.Session()\n",
    "sess.run(tf.global_variables_initializer())\n",
    "# 학습\n",
    "for step in range(1, 10001):\n",
    "    _, cost_val = sess.run([train, cost], feed_dict={X:x_data, \n",
    "                                                    y:y_data})\n",
    "    if step%600==1:\n",
    "        print(\"{}번째 cost:{}\".format(step, cost_val))\n",
    "print(\"최종 cost:{}\".format(cost_val))"
   ]
  },
  {
   "cell_type": "code",
   "execution_count": 61,
   "id": "cf7d9ea8",
   "metadata": {},
   "outputs": [
    {
     "data": {
      "text/plain": [
       "0.75"
      ]
     },
     "execution_count": 61,
     "metadata": {},
     "output_type": "execute_result"
    }
   ],
   "source": [
    "# accuracy 측정\n",
    "predict = tf.cast(H>=0.5, dtype=tf.float32)\n",
    "# sess.run(predict, feed_dict={X:x_data})\n",
    "correct = tf.equal(predict, y)\n",
    "# sess.run(correct, feed_dict={X:x_data, y:y_data})\n",
    "accuracy = tf.reduce_mean(tf.cast(correct, dtype=tf.float32))\n",
    "sess.run(accuracy, feed_dict={X:x_data, \n",
    "                              y:y_data})"
   ]
  },
  {
   "cell_type": "markdown",
   "id": "826b3ceb",
   "metadata": {},
   "source": [
    "# 6. Deep Learning XOR 예제"
   ]
  },
  {
   "cell_type": "code",
   "execution_count": 67,
   "id": "8086d9e4",
   "metadata": {},
   "outputs": [
    {
     "name": "stdout",
     "output_type": "stream",
     "text": [
      "1번째 cost:0.9122255444526672\n",
      "601번째 cost:0.6026047468185425\n",
      "1201번째 cost:0.4633852541446686\n",
      "1801번째 cost:0.33987635374069214\n",
      "2401번째 cost:0.23707027733325958\n",
      "3001번째 cost:0.16402095556259155\n",
      "3601번째 cost:0.11720630526542664\n",
      "4201번째 cost:0.0919356420636177\n",
      "4801번째 cost:0.07604941725730896\n",
      "5401번째 cost:0.06490285694599152\n",
      "6001번째 cost:0.056485436856746674\n",
      "6601번째 cost:0.049911871552467346\n",
      "7201번째 cost:0.04466230794787407\n",
      "7801번째 cost:0.04034870117902756\n",
      "8401번째 cost:0.036733388900756836\n",
      "9001번째 cost:0.03366268798708916\n",
      "9601번째 cost:0.03101920522749424\n",
      "최종 cost:0.029456986114382744\n"
     ]
    }
   ],
   "source": [
    "# dataset\n",
    "x_data = np.array([[0,0],\n",
    "                   [0,1],\n",
    "                   [1,0],\n",
    "                   [1,1]])\n",
    "y_data = np.array([[0],\n",
    "                   [1],\n",
    "                   [1],\n",
    "                   [0]])\n",
    "# X, y\n",
    "X = tf.placeholder(shape=[None,2], dtype=tf.float32)\n",
    "y = tf.placeholder(shape=[None,1], dtype=tf.float32)\n",
    "\n",
    "# layer1의 weight & bias (layer1 = 입력2, 출력4)\n",
    "W1 = tf.Variable(tf.random_normal([2, 4]), name='weight1')\n",
    "b1 = tf.Variable(tf.random_normal([4]),    name='bias1')\n",
    "# logits = tf.matmul(X, W1)+b1\n",
    "# H1 = tf.sigmoid(logits)\n",
    "layer1 = tf.nn.relu(tf.matmul(X, W1) + b1)\n",
    "\n",
    "#layer2의 weight & bias (layer2 = 입력4, 출력1) : 마지막 출력층\n",
    "W2 = tf.Variable(tf.random_normal([4,1]), name='weight2')\n",
    "b2 = tf.Variable(tf.random_normal([1]),   name='bias2')\n",
    "# hypothesis\n",
    "logits = tf.matmul(layer1, W2) + b2\n",
    "H = tf.sigmoid(logits)\n",
    "# cost 함수\n",
    "# cost = tf.reduce_mean(tf.square(H - y))\n",
    "cost = tf.reduce_mean(tf.nn.sigmoid_cross_entropy_with_logits(logits=logits,\n",
    "                                                             labels=y))\n",
    "# train\n",
    "train = tf.train.GradientDescentOptimizer(learning_rate=0.01).minimize(cost)\n",
    "# sess & 초기화\n",
    "sess = tf.Session()\n",
    "sess.run(tf.global_variables_initializer())\n",
    "# 학습\n",
    "for step in range(1, 10001):\n",
    "    _, cost_val = sess.run([train, cost], feed_dict={X:x_data, \n",
    "                                                    y:y_data})\n",
    "    if step%600==1:\n",
    "        print(\"{}번째 cost:{}\".format(step, cost_val))\n",
    "print(\"최종 cost:{}\".format(cost_val))"
   ]
  },
  {
   "cell_type": "code",
   "execution_count": 68,
   "id": "eb976573",
   "metadata": {},
   "outputs": [
    {
     "data": {
      "text/plain": [
       "1.0"
      ]
     },
     "execution_count": 68,
     "metadata": {},
     "output_type": "execute_result"
    }
   ],
   "source": [
    "# accuracy 측정\n",
    "predict = tf.cast(H>=0.5, dtype=tf.float32)\n",
    "# sess.run(predict, feed_dict={X:x_data})\n",
    "correct = tf.equal(predict, y)\n",
    "# sess.run(correct, feed_dict={X:x_data, y:y_data})\n",
    "accuracy = tf.reduce_mean(tf.cast(correct, dtype=tf.float32))\n",
    "sess.run(accuracy, feed_dict={X:x_data, \n",
    "                              y:y_data})"
   ]
  },
  {
   "cell_type": "markdown",
   "id": "a5412359",
   "metadata": {},
   "source": [
    "## layer 층을 X2-> 10 -> 20 -> 10 -> y1\n",
    "                  입력층   hidden layer     출력층"
   ]
  },
  {
   "cell_type": "code",
   "execution_count": 69,
   "id": "e11b0767",
   "metadata": {},
   "outputs": [
    {
     "name": "stdout",
     "output_type": "stream",
     "text": [
      "1번째 cost:3.0853090286254883\n",
      "601번째 cost:0.002873406745493412\n",
      "1201번째 cost:0.0013762082671746612\n",
      "1801번째 cost:0.0008888385491445661\n",
      "2401번째 cost:0.00065552385058254\n",
      "3001번째 cost:0.0005150520009920001\n",
      "3601번째 cost:0.00042861481779254973\n",
      "4201번째 cost:0.00036760454531759024\n",
      "4801번째 cost:0.00032115651993080974\n",
      "5401번째 cost:0.0002846668940037489\n",
      "6001번째 cost:0.00025719671975821257\n",
      "6601번째 cost:0.00023527715529780835\n",
      "7201번째 cost:0.00021710191504098475\n",
      "7801번째 cost:0.0002015701902564615\n",
      "8401번째 cost:0.00018805006402544677\n",
      "9001번째 cost:0.0001761776948114857\n",
      "9601번째 cost:0.00016565946862101555\n",
      "최종 cost:0.0001593111373949796\n"
     ]
    }
   ],
   "source": [
    "# dataset\n",
    "x_data = np.array([[0,0],\n",
    "                   [0,1],\n",
    "                   [1,0],\n",
    "                   [1,1]])\n",
    "y_data = np.array([[0],\n",
    "                   [1],\n",
    "                   [1],\n",
    "                   [0]])\n",
    "# X, y\n",
    "X = tf.placeholder(shape=[None,2], dtype=tf.float32)\n",
    "y = tf.placeholder(shape=[None,1], dtype=tf.float32)\n",
    "\n",
    "# layer1의 weight & bias (layer1 = 입력2, 출력10)\n",
    "W1 = tf.Variable(tf.random_normal([2, 10]), name='weight1')\n",
    "b1 = tf.Variable(tf.random_normal([10]),    name='bias1')\n",
    "layer1 = tf.nn.relu(tf.matmul(X, W1) + b1)\n",
    "\n",
    "#layer2의 weight & bias (layer2 = 입력10, 출력20)\n",
    "W2 = tf.Variable(tf.random_normal([10, 20]), name='weight2')\n",
    "b2 = tf.Variable(tf.random_normal([20]),   name='bias2')\n",
    "layer2 = tf.nn.relu(tf.matmul(layer1, W2) + b2)\n",
    "\n",
    "#layer3의 weight & bias (layer3 =입력20, 출력10)\n",
    "W3 = tf.Variable(tf.random_normal([20,10]), name='weight3')\n",
    "b3 = tf.Variable(tf.random_normal([10]),    name='bias3')\n",
    "layer3 = tf.nn.relu(tf.matmul(layer2, W3) + b3)\n",
    "\n",
    "# layer4의 weight & bias (최종 출력층 = 입력10, 출력1)\n",
    "W4 = tf.Variable(tf.random_normal([10,1]))\n",
    "b4 = tf.Variable(tf.random_normal([1]))\n",
    "logits = tf.matmul(layer3, W4) + b4\n",
    "H = tf.sigmoid(logits)\n",
    "\n",
    "# cost 함수\n",
    "# cost = tf.reduce_mean(tf.square(H - y))\n",
    "cost = tf.reduce_mean(tf.nn.sigmoid_cross_entropy_with_logits(logits=logits,\n",
    "                                                             labels=y))\n",
    "# train\n",
    "train = tf.train.GradientDescentOptimizer(learning_rate=0.01).minimize(cost)\n",
    "# sess & 초기화\n",
    "sess = tf.Session()\n",
    "sess.run(tf.global_variables_initializer())\n",
    "# 학습\n",
    "for step in range(1, 10001):\n",
    "    _, cost_val = sess.run([train, cost], feed_dict={X:x_data, \n",
    "                                                    y:y_data})\n",
    "    if step%600==1:\n",
    "        print(\"{}번째 cost:{}\".format(step, cost_val))\n",
    "print(\"최종 cost:{}\".format(cost_val))"
   ]
  },
  {
   "cell_type": "code",
   "execution_count": 70,
   "id": "754f273e",
   "metadata": {},
   "outputs": [
    {
     "data": {
      "text/plain": [
       "1.0"
      ]
     },
     "execution_count": 70,
     "metadata": {},
     "output_type": "execute_result"
    }
   ],
   "source": [
    "# accuracy 측정\n",
    "predict = tf.cast(H>=0.5, dtype=tf.float32)\n",
    "# sess.run(predict, feed_dict={X:x_data})\n",
    "correct = tf.equal(predict, y)\n",
    "# sess.run(correct, feed_dict={X:x_data, y:y_data})\n",
    "accuracy = tf.reduce_mean(tf.cast(correct, dtype=tf.float32))\n",
    "sess.run(accuracy, feed_dict={X:x_data, \n",
    "                              y:y_data})"
   ]
  },
  {
   "cell_type": "code",
   "execution_count": null,
   "id": "afec2813",
   "metadata": {},
   "outputs": [],
   "source": []
  },
  {
   "cell_type": "code",
   "execution_count": null,
   "id": "9004f9cf",
   "metadata": {},
   "outputs": [],
   "source": []
  },
  {
   "cell_type": "code",
   "execution_count": null,
   "id": "ea5f1370",
   "metadata": {},
   "outputs": [],
   "source": []
  }
 ],
 "metadata": {
  "kernelspec": {
   "display_name": "Python 3 (ipykernel)",
   "language": "python",
   "name": "python3"
  },
  "language_info": {
   "codemirror_mode": {
    "name": "ipython",
    "version": 3
   },
   "file_extension": ".py",
   "mimetype": "text/x-python",
   "name": "python",
   "nbconvert_exporter": "python",
   "pygments_lexer": "ipython3",
   "version": "3.10.9"
  },
  "toc": {
   "base_numbering": 1,
   "nav_menu": {},
   "number_sections": false,
   "sideBar": true,
   "skip_h1_title": false,
   "title_cell": "Table of Contents",
   "title_sidebar": "Contents",
   "toc_cell": false,
   "toc_position": {},
   "toc_section_display": true,
   "toc_window_display": false
  }
 },
 "nbformat": 4,
 "nbformat_minor": 5
}
