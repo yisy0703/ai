{
 "cells": [
  {
   "cell_type": "code",
   "execution_count": 34,
   "id": "a12096d5",
   "metadata": {},
   "outputs": [
    {
     "data": {
      "text/html": [
       "\n",
       "<style>\n",
       "div.container{width:99% !important;}\n",
       "div.cell.code_cell.rendered{width:90%;}\n",
       "div.CodeMirror {font-family:Consolas; font-size:20pt;}\n",
       "div.output {font-size:20pt; font-weight:bold;}\n",
       "div.input {font-family:Consolas; font-size:19pt;}\n",
       "div.prompt {min-width:70px;}\n",
       "div#toc-wrapper{padding-top:120px;}\n",
       "span.toc-item-num{display:none;}\n",
       "div.text_cell_render ul li{font-size:16pt;padding:5px;}\n",
       "div.CodeMirror-lines > div {padding-left:10px;}\n",
       "table.dataframe{font-size:19px;}\n",
       "</style>\n"
      ],
      "text/plain": [
       "<IPython.core.display.HTML object>"
      ]
     },
     "metadata": {},
     "output_type": "display_data"
    }
   ],
   "source": [
    "from IPython.display import display, HTML\n",
    "display(HTML(\"\"\"\n",
    "<style>\n",
    "div.container{width:99% !important;}\n",
    "div.cell.code_cell.rendered{width:90%;}\n",
    "div.CodeMirror {font-family:Consolas; font-size:20pt;}\n",
    "div.output {font-size:20pt; font-weight:bold;}\n",
    "div.input {font-family:Consolas; font-size:19pt;}\n",
    "div.prompt {min-width:70px;}\n",
    "div#toc-wrapper{padding-top:120px;}\n",
    "span.toc-item-num{display:none;}\n",
    "div.text_cell_render ul li{font-size:16pt;padding:5px;}\n",
    "div.CodeMirror-lines > div {padding-left:10px;}\n",
    "table.dataframe{font-size:19px;}\n",
    "</style>\n",
    "\"\"\"))"
   ]
  },
  {
   "cell_type": "markdown",
   "id": "afd90734",
   "metadata": {},
   "source": [
    "# 1. 데이터 생성\n",
    "- 남자, 여자 데이터 생성 군집화"
   ]
  },
  {
   "cell_type": "code",
   "execution_count": 7,
   "id": "23f97c48",
   "metadata": {},
   "outputs": [],
   "source": [
    "import random\n",
    "import numpy as np\n",
    "import matplotlib.pyplot as plt"
   ]
  },
  {
   "cell_type": "code",
   "execution_count": 27,
   "id": "9d4d8e45",
   "metadata": {},
   "outputs": [
    {
     "data": {
      "text/plain": [
       "56"
      ]
     },
     "execution_count": 27,
     "metadata": {},
     "output_type": "execute_result"
    }
   ],
   "source": [
    "random.randint(40, 70) # 40~70 중 하나"
   ]
  },
  {
   "cell_type": "code",
   "execution_count": 36,
   "id": "95e54064",
   "metadata": {},
   "outputs": [],
   "source": [
    "data = []\n",
    "for i in range(50):\n",
    "    data.append([random.randint(40,70),  random.randint(140,175)]) # 여자\n",
    "    data.append([random.randint(60,110), random.randint(170,200)]) # 남자"
   ]
  },
  {
   "cell_type": "code",
   "execution_count": 39,
   "id": "434c0e8a",
   "metadata": {},
   "outputs": [
    {
     "name": "stdout",
     "output_type": "stream",
     "text": [
      "[65, 162] [66, 166] [52, 169] [53, 142] [46, 165] [40, 165] [63, 168] [53, 163] [62, 150] [50, 169] [60, 142] [70, 159] [52, 157] [47, 142] [50, 153] [46, 145] [70, 152] [61, 159] [51, 154] [48, 159] [42, 149] [40, 148] [49, 158] [41, 140] [40, 142] [58, 173] [49, 171] [42, 166] [41, 156] [67, 172] [70, 161] [70, 157] [42, 160] [49, 169] [67, 150] [60, 164] [47, 163] [47, 175] [67, 171] [54, 170] [70, 140] [53, 154] [67, 167] [54, 162] [69, 155] [60, 141] [41, 147] [65, 161] [46, 154] [43, 165] \n",
      "---------------------\n",
      "[73, 172] [73, 171] [74, 173] [66, 175] [110, 187] [98, 172] [100, 186] [72, 190] [66, 183] [84, 194] [99, 173] [110, 194] [107, 190] [62, 179] [83, 191] [93, 172] [72, 184] [80, 177] [62, 173] [106, 195] [75, 171] [75, 182] [90, 185] [65, 176] [109, 184] [78, 193] [78, 174] [61, 175] [73, 177] [60, 193] [78, 187] [81, 183] [103, 176] [68, 191] [106, 186] [69, 186] [79, 185] [65, 193] [86, 185] [83, 171] [101, 173] [61, 196] [96, 191] [68, 196] [90, 172] [101, 190] [67, 188] [86, 172] [71, 190] [95, 195] "
     ]
    }
   ],
   "source": [
    "# 여자\n",
    "for female in data[:100:2]:\n",
    "    print(female, end=' ')\n",
    "print('\\n---------------------')\n",
    "for male in data[1:100:2]:\n",
    "    print(male, end= ' ')"
   ]
  },
  {
   "cell_type": "code",
   "execution_count": null,
   "id": "d6a6d7b0",
   "metadata": {},
   "outputs": [],
   "source": []
  },
  {
   "cell_type": "code",
   "execution_count": null,
   "id": "9faaaa84",
   "metadata": {},
   "outputs": [],
   "source": []
  },
  {
   "cell_type": "code",
   "execution_count": null,
   "id": "8747a38f",
   "metadata": {},
   "outputs": [],
   "source": []
  },
  {
   "cell_type": "code",
   "execution_count": null,
   "id": "bba81922",
   "metadata": {},
   "outputs": [],
   "source": []
  },
  {
   "cell_type": "code",
   "execution_count": null,
   "id": "1aec96b1",
   "metadata": {},
   "outputs": [],
   "source": []
  },
  {
   "cell_type": "code",
   "execution_count": null,
   "id": "a4f65564",
   "metadata": {},
   "outputs": [],
   "source": []
  },
  {
   "cell_type": "code",
   "execution_count": null,
   "id": "c9b385f5",
   "metadata": {},
   "outputs": [],
   "source": []
  },
  {
   "cell_type": "code",
   "execution_count": null,
   "id": "eb52d7d1",
   "metadata": {},
   "outputs": [],
   "source": []
  }
 ],
 "metadata": {
  "kernelspec": {
   "display_name": "Python 3 (ipykernel)",
   "language": "python",
   "name": "python3"
  },
  "language_info": {
   "codemirror_mode": {
    "name": "ipython",
    "version": 3
   },
   "file_extension": ".py",
   "mimetype": "text/x-python",
   "name": "python",
   "nbconvert_exporter": "python",
   "pygments_lexer": "ipython3",
   "version": "3.10.9"
  },
  "toc": {
   "base_numbering": 1,
   "nav_menu": {},
   "number_sections": false,
   "sideBar": true,
   "skip_h1_title": false,
   "title_cell": "Table of Contents",
   "title_sidebar": "Contents",
   "toc_cell": false,
   "toc_position": {},
   "toc_section_display": true,
   "toc_window_display": false
  }
 },
 "nbformat": 4,
 "nbformat_minor": 5
}
