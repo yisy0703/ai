{
 "cells": [
  {
   "cell_type": "code",
   "execution_count": 34,
   "id": "4b310318",
   "metadata": {},
   "outputs": [
    {
     "data": {
      "text/html": [
       "\n",
       "<style>\n",
       "div.container{width:99% !important;}\n",
       "div.cell.code_cell.rendered{width:90%;}\n",
       "div.CodeMirror {font-family:Consolas; font-size:20pt;}\n",
       "div.output {font-size:20pt; font-weight:bold;}\n",
       "div.input {font-family:Consolas; font-size:19pt;}\n",
       "div.prompt {min-width:70px;}\n",
       "div#toc-wrapper{padding-top:120px;}\n",
       "span.toc-item-num{display:none;}\n",
       "div.text_cell_render ul li{font-size:16pt;padding:5px;}\n",
       "div.CodeMirror-lines > div {padding-left:10px;}\n",
       "table.dataframe{font-size:19px;}\n",
       "</style>\n"
      ],
      "text/plain": [
       "<IPython.core.display.HTML object>"
      ]
     },
     "metadata": {},
     "output_type": "display_data"
    }
   ],
   "source": [
    "from IPython.display import display, HTML\n",
    "display(HTML(\"\"\"\n",
    "<style>\n",
    "div.container{width:99% !important;}\n",
    "div.cell.code_cell.rendered{width:90%;}\n",
    "div.CodeMirror {font-family:Consolas; font-size:20pt;}\n",
    "div.output {font-size:20pt; font-weight:bold;}\n",
    "div.input {font-family:Consolas; font-size:19pt;}\n",
    "div.prompt {min-width:70px;}\n",
    "div#toc-wrapper{padding-top:120px;}\n",
    "span.toc-item-num{display:none;}\n",
    "div.text_cell_render ul li{font-size:16pt;padding:5px;}\n",
    "div.CodeMirror-lines > div {padding-left:10px;}\n",
    "table.dataframe{font-size:19px;}\n",
    "</style>\n",
    "\"\"\"))"
   ]
  },
  {
   "cell_type": "markdown",
   "id": "2ec788fe",
   "metadata": {},
   "source": [
    "# 1. 데이터 생성\n",
    "- 남자, 여자 데이터 생성 군집화"
   ]
  },
  {
   "cell_type": "code",
   "execution_count": 7,
   "id": "83646a6a",
   "metadata": {},
   "outputs": [],
   "source": [
    "import random\n",
    "import numpy as np\n",
    "import matplotlib.pyplot as plt"
   ]
  },
  {
   "cell_type": "code",
   "execution_count": 27,
   "id": "5d73567c",
   "metadata": {},
   "outputs": [
    {
     "data": {
      "text/plain": [
       "56"
      ]
     },
     "execution_count": 27,
     "metadata": {},
     "output_type": "execute_result"
    }
   ],
   "source": [
    "random.randint(40, 70) # 40~70 중 하나"
   ]
  },
  {
   "cell_type": "code",
   "execution_count": 48,
   "id": "3e5640ec",
   "metadata": {},
   "outputs": [],
   "source": [
    "data = []\n",
    "for i in range(50):\n",
    "    data.append([random.randint(40,70),  random.randint(140,175)]) # 여자\n",
    "    data.append([random.randint(60,110), random.randint(170,200)]) # 남자"
   ]
  },
  {
   "cell_type": "code",
   "execution_count": 49,
   "id": "bc0d62fb",
   "metadata": {},
   "outputs": [
    {
     "name": "stdout",
     "output_type": "stream",
     "text": [
      "[41, 140] [44, 145] [57, 172] [51, 159] [69, 169] [70, 162] [70, 146] [67, 167] [40, 168] [42, 150] [42, 165] [52, 170] [66, 159] [51, 172] [54, 143] [44, 143] [61, 170] [51, 158] [62, 157] [44, 169] [58, 143] [70, 156] [49, 158] [55, 161] [62, 173] [42, 155] [47, 166] [61, 155] [64, 161] [58, 142] [65, 158] [55, 146] [67, 146] [59, 172] [59, 153] [56, 157] [60, 159] [62, 161] [63, 157] [67, 167] [40, 170] [52, 146] [46, 155] [66, 144] [63, 150] [54, 152] [62, 171] [47, 162] [51, 148] [42, 169] \n",
      "---------------------\n",
      "[84, 170] [81, 174] [105, 190] [64, 187] [100, 191] [98, 186] [105, 179] [75, 196] [82, 189] [78, 192] [66, 177] [84, 182] [61, 181] [65, 171] [100, 185] [84, 186] [85, 181] [91, 172] [100, 177] [93, 171] [92, 176] [74, 170] [94, 170] [96, 198] [95, 190] [104, 200] [92, 197] [88, 174] [65, 186] [109, 176] [76, 191] [102, 181] [84, 170] [89, 179] [99, 174] [78, 170] [102, 194] [75, 184] [91, 174] [80, 182] [106, 193] [106, 174] [61, 185] [97, 191] [92, 171] [66, 195] [79, 171] [60, 195] [98, 171] [92, 194] "
     ]
    }
   ],
   "source": [
    "# 여자\n",
    "for female in data[:100:2]:\n",
    "    print(female, end=' ')\n",
    "print('\\n---------------------')\n",
    "for male in data[1:100:2]:\n",
    "    print(male, end= ' ')"
   ]
  },
  {
   "cell_type": "code",
   "execution_count": 50,
   "id": "4e07e9ab",
   "metadata": {},
   "outputs": [
    {
     "data": {
      "image/png": "[encoded data removed]",
      "text/plain": [
       "<Figure size 640x480 with 1 Axes>"
      ]
     },
     "metadata": {},
     "output_type": "display_data"
    }
   ],
   "source": [
    "# x:몸무게, y:키\n",
    "# print('여자 몸무게(x) : ', [d[0] for d in data[:100:2]])\n",
    "# print('여자 신장(y)  : ', [d[1] for d in data[:100:2]])\n",
    "# print('남자 몸무게(x) : ', [d[0] for d in data[1:100:2]])\n",
    "# print('남자 신장(y)  : ', [d[1] for d in data[1:100:2]])\n",
    "plt.plot([d[0] for d in data[:100:2]],\n",
    "         [d[1] for d in data[:100:2]], 'o', color='r')\n",
    "plt.plot([d[0] for d in data[1:100:2]],\n",
    "         [d[1] for d in data[1:100:2]], '^', color='b')\n",
    "plt.show()"
   ]
  },
  {
   "cell_type": "markdown",
   "id": "9d168772",
   "metadata": {},
   "source": [
    "# 2. 군집화 로직"
   ]
  },
  {
   "cell_type": "code",
   "execution_count": 52,
   "id": "ea885c74",
   "metadata": {},
   "outputs": [
    {
     "name": "stdout",
     "output_type": "stream",
     "text": [
      "초기 랜덤 기준점 : [[105, 151], [51, 182]]\n"
     ]
    }
   ],
   "source": [
    "# 초기 랜덤 지점 2개 (40~110, 140~200)\n",
    "random_points = [[random.randint(40,110), random.randint(140, 200)],\n",
    "                 [random.randint(40,100), random.randint(140, 200)]]\n",
    "print('초기 랜덤 기준점 :', random_points)"
   ]
  },
  {
   "cell_type": "code",
   "execution_count": 60,
   "id": "8c6731f6",
   "metadata": {},
   "outputs": [
    {
     "data": {
      "text/plain": [
       "[<matplotlib.lines.Line2D at 0x1fa017db3d0>]"
      ]
     },
     "execution_count": 60,
     "metadata": {},
     "output_type": "execute_result"
    },
    {
     "data": {
      "image/png": "[encoded data removed]",
      "text/plain": [
       "<Figure size 640x480 with 1 Axes>"
      ]
     },
     "metadata": {},
     "output_type": "display_data"
    }
   ],
   "source": [
    "# plt.plot([d[0] for d in data], [d[1] for d in data], 'o', color='k')\n",
    "for x in data:\n",
    "    plt.plot(x[0], x[1], 'o', color='k')\n",
    "plt.plot(random_points[0][0], random_points[0][1], 'x', color='b', markersize=20)\n",
    "plt.plot(random_points[1][0], random_points[1][1], 'x', color='r', markersize=20)"
   ]
  },
  {
   "cell_type": "code",
   "execution_count": 65,
   "id": "0cb5fec6",
   "metadata": {},
   "outputs": [
    {
     "data": {
      "text/plain": [
       "5.0"
      ]
     },
     "execution_count": 65,
     "metadata": {},
     "output_type": "execute_result"
    }
   ],
   "source": [
    "# 두 점 사이의 거리를 return하는 함수   a=[0,0] ~ b=[3,4]\n",
    "def dist(a, b):\n",
    "    return np.sqrt((a[0] - b[0])**2 + (a[1]-b[1])**2)\n",
    "dist((1,1), [4,5])"
   ]
  },
  {
   "cell_type": "code",
   "execution_count": 67,
   "id": "17ec45d8",
   "metadata": {},
   "outputs": [
    {
     "data": {
      "text/plain": [
       "62.26556030423239"
      ]
     },
     "execution_count": 67,
     "metadata": {},
     "output_type": "execute_result"
    }
   ],
   "source": [
    "dist(random_points[0], random_points[1])"
   ]
  },
  {
   "cell_type": "code",
   "execution_count": 68,
   "id": "86136f6c",
   "metadata": {},
   "outputs": [
    {
     "data": {
      "text/plain": [
       "(29, 71)"
      ]
     },
     "execution_count": 68,
     "metadata": {},
     "output_type": "execute_result"
    }
   ],
   "source": [
    "# random_points[0]과 random_points[1]을 기준으로 두 영역을 나눔\n",
    "group0 = [] # random_points[0]이 더 가까운 group\n",
    "group1 = []\n",
    "for d in data:\n",
    "    if dist(random_points[0], d) <= dist(random_points[1], d):\n",
    "        group0.append(d)\n",
    "    else:\n",
    "        group1.append(d)\n",
    "len(group0), len(group1)"
   ]
  },
  {
   "cell_type": "code",
   "execution_count": null,
   "id": "3bd64bb0",
   "metadata": {},
   "outputs": [],
   "source": []
  },
  {
   "cell_type": "code",
   "execution_count": null,
   "id": "c2d67b72",
   "metadata": {},
   "outputs": [],
   "source": []
  },
  {
   "cell_type": "code",
   "execution_count": null,
   "id": "8816ed66",
   "metadata": {},
   "outputs": [],
   "source": []
  },
  {
   "cell_type": "code",
   "execution_count": null,
   "id": "5fb285de",
   "metadata": {},
   "outputs": [],
   "source": []
  },
  {
   "cell_type": "code",
   "execution_count": null,
   "id": "8d02bee2",
   "metadata": {},
   "outputs": [],
   "source": []
  },
  {
   "cell_type": "code",
   "execution_count": null,
   "id": "3b682844",
   "metadata": {},
   "outputs": [],
   "source": []
  },
  {
   "cell_type": "code",
   "execution_count": null,
   "id": "76516085",
   "metadata": {},
   "outputs": [],
   "source": []
  },
  {
   "cell_type": "code",
   "execution_count": null,
   "id": "f987fa51",
   "metadata": {},
   "outputs": [],
   "source": []
  },
  {
   "cell_type": "code",
   "execution_count": null,
   "id": "94ba79ef",
   "metadata": {},
   "outputs": [],
   "source": []
  }
 ],
 "metadata": {
  "kernelspec": {
   "display_name": "Python 3 (ipykernel)",
   "language": "python",
   "name": "python3"
  },
  "language_info": {
   "codemirror_mode": {
    "name": "ipython",
    "version": 3
   },
   "file_extension": ".py",
   "mimetype": "text/x-python",
   "name": "python",
   "nbconvert_exporter": "python",
   "pygments_lexer": "ipython3",
   "version": "3.10.9"
  },
  "toc": {
   "base_numbering": 1,
   "nav_menu": {},
   "number_sections": false,
   "sideBar": true,
   "skip_h1_title": false,
   "title_cell": "Table of Contents",
   "title_sidebar": "Contents",
   "toc_cell": false,
   "toc_position": {},
   "toc_section_display": true,
   "toc_window_display": false
  }
 },
 "nbformat": 4,
 "nbformat_minor": 5
}
