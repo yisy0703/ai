{
 "cells": [
  {
   "cell_type": "code",
   "execution_count": 1,
   "id": "badc098c",
   "metadata": {},
   "outputs": [
    {
     "data": {
      "text/html": [
       "\n",
       "<style>\n",
       "div.container{width:99% !important;}\n",
       "div.cell.code_cell.rendered{width:90%;}\n",
       "div.CodeMirror {font-family:Consolas; font-size:18pt;}\n",
       "div.output {font-size:19pt; font-weight:bold;}\n",
       "div.input {font-family:Consolas; font-size:19pt;}\n",
       "div.prompt {min-width:70px;}\n",
       "div#toc-wrapper{padding-top:120px;}\n",
       "span.toc-item-num{display:none;}\n",
       "div.text_cell_render ul li{font-size:16pt;padding:5px;}\n",
       "div.CodeMirror-lines > div {padding-left:10px;}\n",
       "table.dataframe{font-size:19px;}\n",
       "</style>\n"
      ],
      "text/plain": [
       "<IPython.core.display.HTML object>"
      ]
     },
     "metadata": {},
     "output_type": "display_data"
    }
   ],
   "source": [
    "from IPython.display import display, HTML\n",
    "display(HTML(\"\"\"\n",
    "<style>\n",
    "div.container{width:99% !important;}\n",
    "div.cell.code_cell.rendered{width:90%;}\n",
    "div.CodeMirror {font-family:Consolas; font-size:18pt;}\n",
    "div.output {font-size:19pt; font-weight:bold;}\n",
    "div.input {font-family:Consolas; font-size:19pt;}\n",
    "div.prompt {min-width:70px;}\n",
    "div#toc-wrapper{padding-top:120px;}\n",
    "span.toc-item-num{display:none;}\n",
    "div.text_cell_render ul li{font-size:16pt;padding:5px;}\n",
    "div.CodeMirror-lines > div {padding-left:10px;}\n",
    "table.dataframe{font-size:19px;}\n",
    "</style>\n",
    "\"\"\"))"
   ]
  },
  {
   "cell_type": "code",
   "execution_count": 2,
   "id": "fa6ba28d",
   "metadata": {},
   "outputs": [
    {
     "name": "stdout",
     "output_type": "stream",
     "text": [
      "2.10.0\n"
     ]
    },
    {
     "data": {
      "text/plain": [
       "[PhysicalDevice(name='/physical_device:GPU:0', device_type='GPU')]"
      ]
     },
     "execution_count": 2,
     "metadata": {},
     "output_type": "execute_result"
    }
   ],
   "source": [
    "# GPU 사용 여부 확인\n",
    "import tensorflow as tf\n",
    "print(tf.__version__)\n",
    "tf.config.list_physical_devices('GPU')"
   ]
  },
  {
   "cell_type": "markdown",
   "id": "1fdfbfa5",
   "metadata": {},
   "source": [
    "## 머신러닝/딥러닝 : 데이터의 법칙성을 추출\n",
    "    - 다양한 분야에서 응용 : 글씨인식, 문장분류, 질병진단, 얼굴식별, etc...\n",
    "    \n",
    "    - 지도학습(회귀, 분류) vs 비지도학습(군집) vs 강화학습(게임)\n",
    "    \n",
    "- 1. 데이터 확보 및 생성(inputdata, outputdata)\n",
    "- 2. 데이터 전처리 (결측치, 스케일조정, 훈련데이터셋과 검증데이터셋, 시험데이터셋으로 분류....)\n",
    "- 3. 모델 구성\n",
    "- 4. 모델 학습 과정 설정(손실함수, 옵티마이저, 평가지표)\n",
    "- 5. 모델 학습시키기\n",
    "- 6. 모델 평가(시험데이터셋으로)\n",
    "- 7. 모델 사용(모델 저장 후, 저장된 모델을 이용하여, 입력값이 주어지면 예측값 받기)"
   ]
  },
  {
   "cell_type": "markdown",
   "id": "d358469a",
   "metadata": {},
   "source": [
    "# 1. 데이터 셋 생성\n",
    "# 2. 데이터 전처리"
   ]
  },
  {
   "cell_type": "code",
   "execution_count": 3,
   "id": "8e0a3856",
   "metadata": {},
   "outputs": [],
   "source": [
    "import numpy as np\n",
    "from tensorflow.keras.utils import to_categorical # 분류분석시 원핫인코딩\n",
    "from tensorflow.keras.models import Sequential  # 모델 생성\n",
    "from tensorflow.keras.layers import Dense, Input # 모델에 레이어 추가시 "
   ]
  },
  {
   "cell_type": "code",
   "execution_count": 4,
   "id": "00f98f8d",
   "metadata": {},
   "outputs": [],
   "source": [
    "# 학습데이터 == 훈련데이터\n",
    "X_train = np.array([1,2,3,4,5,6,7,8,9]*10)\n",
    "Y_train = np.array([2,4,6,8,10,12,14,16,18]*10)\n",
    "# 검증데이터\n",
    "X_val = np.array([1,2,3,4,5,6,7,8,9])\n",
    "Y_val = np.array([2,4,6,8,10,12,14,16,18])"
   ]
  },
  {
   "cell_type": "code",
   "execution_count": 13,
   "id": "7965abd9",
   "metadata": {},
   "outputs": [
    {
     "name": "stdout",
     "output_type": "stream",
     "text": [
      "1. 원 데이터 : ['a' 'b' 'b' 'b' 'c']\n",
      "2. 라벨인코딩된 데이터 : [0 1 1 1 2]\n",
      "3. 원핫인코딩된 데이터(keras) :\n",
      " [[1. 0. 0.]\n",
      " [0. 1. 0.]\n",
      " [0. 1. 0.]\n",
      " [0. 1. 0.]\n",
      " [0. 0. 1.]]\n"
     ]
    }
   ],
   "source": [
    "# 분류분석을 위한 인코딩 종류\n",
    "data = np.array(['a','b','b','b','c'])\n",
    "print('1. 원 데이터 :', data)\n",
    "from sklearn.preprocessing import LabelEncoder\n",
    "le = LabelEncoder()\n",
    "labeling_data = le.fit_transform(data)\n",
    "print('2. 라벨인코딩된 데이터 :', labeling_data)\n",
    "one_hot_encoding_data = to_categorical(labeling_data)\n",
    "print('3. 원핫인코딩된 데이터(keras) :\\n', one_hot_encoding_data)"
   ]
  },
  {
   "cell_type": "code",
   "execution_count": 23,
   "id": "6ad09059",
   "metadata": {},
   "outputs": [
    {
     "name": "stdout",
     "output_type": "stream",
     "text": [
      "원 데이터 :  [1 2 2 5 9]\n",
      "to_categorical을 이용한 원 핫 인코딩(넘파이배열)\n",
      " [[0. 1. 0. 0. 0. 0. 0. 0. 0. 0.]\n",
      " [0. 0. 1. 0. 0. 0. 0. 0. 0. 0.]\n",
      " [0. 0. 1. 0. 0. 0. 0. 0. 0. 0.]\n",
      " [0. 0. 0. 0. 0. 1. 0. 0. 0. 0.]\n",
      " [0. 0. 0. 0. 0. 0. 0. 0. 0. 1.]]\n"
     ]
    },
    {
     "data": {
      "text/plain": [
       "'get_dummies를 이용한 원핫인코딩(데이터프레임)\\n'"
      ]
     },
     "metadata": {},
     "output_type": "display_data"
    },
    {
     "data": {
      "text/html": [
       "<div>\n",
       "<style scoped>\n",
       "    .dataframe tbody tr th:only-of-type {\n",
       "        vertical-align: middle;\n",
       "    }\n",
       "\n",
       "    .dataframe tbody tr th {\n",
       "        vertical-align: top;\n",
       "    }\n",
       "\n",
       "    .dataframe thead th {\n",
       "        text-align: right;\n",
       "    }\n",
       "</style>\n",
       "<table border=\"1\" class=\"dataframe\">\n",
       "  <thead>\n",
       "    <tr style=\"text-align: right;\">\n",
       "      <th></th>\n",
       "      <th>1</th>\n",
       "      <th>2</th>\n",
       "      <th>5</th>\n",
       "      <th>9</th>\n",
       "    </tr>\n",
       "  </thead>\n",
       "  <tbody>\n",
       "    <tr>\n",
       "      <th>0</th>\n",
       "      <td>1</td>\n",
       "      <td>0</td>\n",
       "      <td>0</td>\n",
       "      <td>0</td>\n",
       "    </tr>\n",
       "    <tr>\n",
       "      <th>1</th>\n",
       "      <td>0</td>\n",
       "      <td>1</td>\n",
       "      <td>0</td>\n",
       "      <td>0</td>\n",
       "    </tr>\n",
       "    <tr>\n",
       "      <th>2</th>\n",
       "      <td>0</td>\n",
       "      <td>1</td>\n",
       "      <td>0</td>\n",
       "      <td>0</td>\n",
       "    </tr>\n",
       "    <tr>\n",
       "      <th>3</th>\n",
       "      <td>0</td>\n",
       "      <td>0</td>\n",
       "      <td>1</td>\n",
       "      <td>0</td>\n",
       "    </tr>\n",
       "    <tr>\n",
       "      <th>4</th>\n",
       "      <td>0</td>\n",
       "      <td>0</td>\n",
       "      <td>0</td>\n",
       "      <td>1</td>\n",
       "    </tr>\n",
       "  </tbody>\n",
       "</table>\n",
       "</div>"
      ],
      "text/plain": [
       "   1  2  5  9\n",
       "0  1  0  0  0\n",
       "1  0  1  0  0\n",
       "2  0  1  0  0\n",
       "3  0  0  1  0\n",
       "4  0  0  0  1"
      ]
     },
     "metadata": {},
     "output_type": "display_data"
    }
   ],
   "source": [
    "# 분류분석을 위한 원핫인코딩 방법\n",
    "data = np.array([1,2,2,5,9])\n",
    "print('원 데이터 : ', data)\n",
    "categorical_one_hot = to_categorical(data)\n",
    "print('to_categorical을 이용한 원 핫 인코딩(넘파이배열)\\n', categorical_one_hot)\n",
    "import pandas as pd\n",
    "display('get_dummies를 이용한 원핫인코딩(데이터프레임)\\n', pd.get_dummies(data))"
   ]
  },
  {
   "cell_type": "code",
   "execution_count": 27,
   "id": "98d4ced4",
   "metadata": {},
   "outputs": [
    {
     "data": {
      "text/plain": [
       "(array([2, 4]), array([2, 4]))"
      ]
     },
     "execution_count": 27,
     "metadata": {},
     "output_type": "execute_result"
    }
   ],
   "source": [
    "Y_train[:2], Y_val[:2]"
   ]
  },
  {
   "cell_type": "code",
   "execution_count": 28,
   "id": "b679e1fa",
   "metadata": {},
   "outputs": [],
   "source": [
    "# 분류분석을 위해 종속변수(target변수)를 원핫인코딩\n",
    "Y_train = to_categorical(Y_train, 19)\n",
    "Y_val   = to_categorical(Y_val)"
   ]
  },
  {
   "cell_type": "code",
   "execution_count": 29,
   "id": "b0ea359c",
   "metadata": {},
   "outputs": [
    {
     "data": {
      "text/plain": [
       "array([[0., 0., 1., 0., 0., 0., 0., 0., 0., 0., 0., 0., 0., 0., 0., 0.,\n",
       "        0., 0., 0.],\n",
       "       [0., 0., 0., 0., 1., 0., 0., 0., 0., 0., 0., 0., 0., 0., 0., 0.,\n",
       "        0., 0., 0.]], dtype=float32)"
      ]
     },
     "execution_count": 29,
     "metadata": {},
     "output_type": "execute_result"
    }
   ],
   "source": [
    "Y_train[:2]"
   ]
  },
  {
   "cell_type": "code",
   "execution_count": 32,
   "id": "773c0d1d",
   "metadata": {},
   "outputs": [
    {
     "data": {
      "text/plain": [
       "((90,), (90, 19), (9,), (9, 19))"
      ]
     },
     "execution_count": 32,
     "metadata": {},
     "output_type": "execute_result"
    }
   ],
   "source": [
    "X_train.shape, Y_train.shape, X_val.shape, Y_val.shape"
   ]
  },
  {
   "cell_type": "code",
   "execution_count": 33,
   "id": "08a12ed3",
   "metadata": {},
   "outputs": [
    {
     "data": {
      "text/plain": [
       "array([1, 2])"
      ]
     },
     "execution_count": 33,
     "metadata": {},
     "output_type": "execute_result"
    }
   ],
   "source": [
    "X_train[:2]"
   ]
  },
  {
   "cell_type": "code",
   "execution_count": 34,
   "id": "46e478a7",
   "metadata": {},
   "outputs": [
    {
     "data": {
      "text/plain": [
       "array([[0., 0., 1., 0., 0., 0., 0., 0., 0., 0., 0., 0., 0., 0., 0., 0.,\n",
       "        0., 0., 0.],\n",
       "       [0., 0., 0., 0., 1., 0., 0., 0., 0., 0., 0., 0., 0., 0., 0., 0.,\n",
       "        0., 0., 0.]], dtype=float32)"
      ]
     },
     "execution_count": 34,
     "metadata": {},
     "output_type": "execute_result"
    }
   ],
   "source": [
    "Y_train[:2]"
   ]
  },
  {
   "cell_type": "markdown",
   "id": "1b6c4f27",
   "metadata": {},
   "source": [
    "# 3. 모델 구성"
   ]
  },
  {
   "cell_type": "code",
   "execution_count": 35,
   "id": "0cb20caf",
   "metadata": {},
   "outputs": [
    {
     "name": "stdout",
     "output_type": "stream",
     "text": [
      "Model: \"sequential\"\n",
      "_________________________________________________________________\n",
      " Layer (type)                Output Shape              Param #   \n",
      "=================================================================\n",
      " dense (Dense)               (None, 38)                76        \n",
      "                                                                 \n",
      " dense_1 (Dense)             (None, 64)                2496      \n",
      "                                                                 \n",
      " dense_2 (Dense)             (None, 32)                2080      \n",
      "                                                                 \n",
      " dense_3 (Dense)             (None, 19)                627       \n",
      "                                                                 \n",
      "=================================================================\n",
      "Total params: 5,279\n",
      "Trainable params: 5,279\n",
      "Non-trainable params: 0\n",
      "_________________________________________________________________\n",
      "None\n"
     ]
    }
   ],
   "source": [
    "model = Sequential()\n",
    "model.add(Input(shape=(1,)))\n",
    "model.add(Dense(units=38, activation='sigmoid')) # units:출력수, activation(활성화함수)\n",
    "model.add(Dense(units=64, activation=\"elu\"))\n",
    "model.add(Dense(units=32, activation=\"elu\"))\n",
    "model.add(Dense(units=19, activation='softmax'))\n",
    "# activation='softmax' : 모든 출력의 합이 1. 분류분석의 마지막 layer에서 activation함수로 사용\n",
    "print(model.summary())"
   ]
  },
  {
   "cell_type": "markdown",
   "id": "6551740e",
   "metadata": {},
   "source": [
    "# 4. 모델 학습과정 설정\n",
    "- 손실함수, 옵티마이저, 평가지표\n",
    "    * loss='categorical_crossentropy' : 딥러닝 훈련시 다중분류분석에서의 손실함수\n",
    "            - 모델의 예측 확률분포와 실제값의 확률 분포가 얼마나 다른지 계산\n",
    "    * metrics=['accuracy'] : 정확도"
   ]
  },
  {
   "cell_type": "code",
   "execution_count": 36,
   "id": "d093f8f6",
   "metadata": {},
   "outputs": [],
   "source": [
    "model.compile(loss='categorical_crossentropy', optimizer='adam', metrics=['accuracy'])"
   ]
  },
  {
   "cell_type": "markdown",
   "id": "e0fe6d06",
   "metadata": {},
   "source": [
    "# 5. 모델 학습시키기"
   ]
  },
  {
   "cell_type": "code",
   "execution_count": 37,
   "id": "adc1ba0f",
   "metadata": {},
   "outputs": [
    {
     "name": "stdout",
     "output_type": "stream",
     "text": [
      "Epoch 1/300\n",
      "9/9 - 1s - loss: 2.9033 - accuracy: 0.0667 - val_loss: 2.6625 - val_accuracy: 0.1111 - 1s/epoch - 164ms/step\n",
      "Epoch 2/300\n",
      "9/9 - 0s - loss: 2.5652 - accuracy: 0.1333 - val_loss: 2.4519 - val_accuracy: 0.2222 - 49ms/epoch - 5ms/step\n",
      "Epoch 3/300\n",
      "9/9 - 0s - loss: 2.4000 - accuracy: 0.1889 - val_loss: 2.3178 - val_accuracy: 0.3333 - 50ms/epoch - 6ms/step\n",
      "Epoch 4/300\n",
      "9/9 - 0s - loss: 2.2953 - accuracy: 0.1667 - val_loss: 2.2194 - val_accuracy: 0.2222 - 49ms/epoch - 5ms/step\n",
      "Epoch 5/300\n",
      "9/9 - 0s - loss: 2.1979 - accuracy: 0.1333 - val_loss: 2.1412 - val_accuracy: 0.1111 - 45ms/epoch - 5ms/step\n",
      "Epoch 6/300\n",
      "9/9 - 0s - loss: 2.1224 - accuracy: 0.1333 - val_loss: 2.0757 - val_accuracy: 0.2222 - 46ms/epoch - 5ms/step\n",
      "Epoch 7/300\n",
      "9/9 - 0s - loss: 2.0695 - accuracy: 0.2667 - val_loss: 2.0216 - val_accuracy: 0.2222 - 47ms/epoch - 5ms/step\n",
      "Epoch 8/300\n",
      "9/9 - 0s - loss: 2.0143 - accuracy: 0.2333 - val_loss: 1.9647 - val_accuracy: 0.2222 - 46ms/epoch - 5ms/step\n",
      "Epoch 9/300\n",
      "9/9 - 0s - loss: 1.9567 - accuracy: 0.2222 - val_loss: 1.9091 - val_accuracy: 0.2222 - 45ms/epoch - 5ms/step\n",
      "Epoch 10/300\n",
      "9/9 - 0s - loss: 1.8929 - accuracy: 0.2667 - val_loss: 1.8553 - val_accuracy: 0.3333 - 44ms/epoch - 5ms/step\n",
      "Epoch 11/300\n",
      "9/9 - 0s - loss: 1.8457 - accuracy: 0.2111 - val_loss: 1.7963 - val_accuracy: 0.2222 - 42ms/epoch - 5ms/step\n",
      "Epoch 12/300\n",
      "9/9 - 0s - loss: 1.7920 - accuracy: 0.2444 - val_loss: 1.7415 - val_accuracy: 0.3333 - 44ms/epoch - 5ms/step\n",
      "Epoch 13/300\n",
      "9/9 - 0s - loss: 1.7394 - accuracy: 0.2222 - val_loss: 1.6870 - val_accuracy: 0.3333 - 44ms/epoch - 5ms/step\n",
      "Epoch 14/300\n",
      "9/9 - 0s - loss: 1.6740 - accuracy: 0.3222 - val_loss: 1.6341 - val_accuracy: 0.3333 - 45ms/epoch - 5ms/step\n",
      "Epoch 15/300\n",
      "9/9 - 0s - loss: 1.6354 - accuracy: 0.3444 - val_loss: 1.5877 - val_accuracy: 0.4444 - 48ms/epoch - 5ms/step\n",
      "Epoch 16/300\n",
      "9/9 - 0s - loss: 1.5796 - accuracy: 0.4667 - val_loss: 1.5411 - val_accuracy: 0.5556 - 46ms/epoch - 5ms/step\n",
      "Epoch 17/300\n",
      "9/9 - 0s - loss: 1.5450 - accuracy: 0.3222 - val_loss: 1.5012 - val_accuracy: 0.4444 - 45ms/epoch - 5ms/step\n",
      "Epoch 18/300\n",
      "9/9 - 0s - loss: 1.4890 - accuracy: 0.4000 - val_loss: 1.4569 - val_accuracy: 0.5556 - 43ms/epoch - 5ms/step\n",
      "Epoch 19/300\n",
      "9/9 - 0s - loss: 1.4571 - accuracy: 0.5444 - val_loss: 1.4212 - val_accuracy: 0.6667 - 42ms/epoch - 5ms/step\n",
      "Epoch 20/300\n",
      "9/9 - 0s - loss: 1.4158 - accuracy: 0.5333 - val_loss: 1.3837 - val_accuracy: 0.4444 - 43ms/epoch - 5ms/step\n",
      "Epoch 21/300\n",
      "9/9 - 0s - loss: 1.3866 - accuracy: 0.4444 - val_loss: 1.3508 - val_accuracy: 0.4444 - 48ms/epoch - 5ms/step\n",
      "Epoch 22/300\n",
      "9/9 - 0s - loss: 1.3464 - accuracy: 0.4778 - val_loss: 1.3162 - val_accuracy: 0.5556 - 47ms/epoch - 5ms/step\n",
      "Epoch 23/300\n",
      "9/9 - 0s - loss: 1.3141 - accuracy: 0.5556 - val_loss: 1.2845 - val_accuracy: 0.6667 - 44ms/epoch - 5ms/step\n",
      "Epoch 24/300\n",
      "9/9 - 0s - loss: 1.2824 - accuracy: 0.6111 - val_loss: 1.2529 - val_accuracy: 0.6667 - 44ms/epoch - 5ms/step\n",
      "Epoch 25/300\n",
      "9/9 - 0s - loss: 1.2591 - accuracy: 0.5667 - val_loss: 1.2250 - val_accuracy: 0.6667 - 44ms/epoch - 5ms/step\n",
      "Epoch 26/300\n",
      "9/9 - 0s - loss: 1.2240 - accuracy: 0.6222 - val_loss: 1.1953 - val_accuracy: 0.7778 - 45ms/epoch - 5ms/step\n",
      "Epoch 27/300\n",
      "9/9 - 0s - loss: 1.2003 - accuracy: 0.6889 - val_loss: 1.1704 - val_accuracy: 0.7778 - 43ms/epoch - 5ms/step\n",
      "Epoch 28/300\n",
      "9/9 - 0s - loss: 1.1680 - accuracy: 0.7000 - val_loss: 1.1421 - val_accuracy: 0.7778 - 38ms/epoch - 4ms/step\n",
      "Epoch 29/300\n",
      "9/9 - 0s - loss: 1.1478 - accuracy: 0.6667 - val_loss: 1.1207 - val_accuracy: 0.6667 - 59ms/epoch - 7ms/step\n",
      "Epoch 30/300\n",
      "9/9 - 0s - loss: 1.1230 - accuracy: 0.7333 - val_loss: 1.0956 - val_accuracy: 0.7778 - 50ms/epoch - 6ms/step\n",
      "Epoch 31/300\n",
      "9/9 - 0s - loss: 1.0919 - accuracy: 0.7889 - val_loss: 1.0680 - val_accuracy: 0.7778 - 47ms/epoch - 5ms/step\n",
      "Epoch 32/300\n",
      "9/9 - 0s - loss: 1.0788 - accuracy: 0.6333 - val_loss: 1.0460 - val_accuracy: 0.7778 - 47ms/epoch - 5ms/step\n",
      "Epoch 33/300\n",
      "9/9 - 0s - loss: 1.0609 - accuracy: 0.7333 - val_loss: 1.0258 - val_accuracy: 0.6667 - 46ms/epoch - 5ms/step\n",
      "Epoch 34/300\n",
      "9/9 - 0s - loss: 1.0344 - accuracy: 0.8222 - val_loss: 1.0027 - val_accuracy: 0.7778 - 47ms/epoch - 5ms/step\n",
      "Epoch 35/300\n",
      "9/9 - 0s - loss: 1.0053 - accuracy: 0.8778 - val_loss: 0.9869 - val_accuracy: 0.8889 - 46ms/epoch - 5ms/step\n",
      "Epoch 36/300\n",
      "9/9 - 0s - loss: 0.9843 - accuracy: 0.8889 - val_loss: 0.9607 - val_accuracy: 0.8889 - 42ms/epoch - 5ms/step\n",
      "Epoch 37/300\n",
      "9/9 - 0s - loss: 0.9673 - accuracy: 0.8444 - val_loss: 0.9397 - val_accuracy: 0.8889 - 43ms/epoch - 5ms/step\n",
      "Epoch 38/300\n",
      "9/9 - 0s - loss: 0.9426 - accuracy: 0.8667 - val_loss: 0.9186 - val_accuracy: 0.8889 - 40ms/epoch - 4ms/step\n",
      "Epoch 39/300\n",
      "9/9 - 0s - loss: 0.9339 - accuracy: 0.8667 - val_loss: 0.9005 - val_accuracy: 1.0000 - 44ms/epoch - 5ms/step\n",
      "Epoch 40/300\n",
      "9/9 - 0s - loss: 0.9037 - accuracy: 0.8889 - val_loss: 0.8809 - val_accuracy: 0.8889 - 44ms/epoch - 5ms/step\n",
      "Epoch 41/300\n",
      "9/9 - 0s - loss: 0.8880 - accuracy: 0.9000 - val_loss: 0.8619 - val_accuracy: 1.0000 - 46ms/epoch - 5ms/step\n",
      "Epoch 42/300\n",
      "9/9 - 0s - loss: 0.8701 - accuracy: 0.9333 - val_loss: 0.8465 - val_accuracy: 0.8889 - 42ms/epoch - 5ms/step\n",
      "Epoch 43/300\n",
      "9/9 - 0s - loss: 0.8545 - accuracy: 0.9667 - val_loss: 0.8280 - val_accuracy: 1.0000 - 42ms/epoch - 5ms/step\n",
      "Epoch 44/300\n",
      "9/9 - 0s - loss: 0.8335 - accuracy: 0.9111 - val_loss: 0.8067 - val_accuracy: 1.0000 - 47ms/epoch - 5ms/step\n",
      "Epoch 45/300\n",
      "9/9 - 0s - loss: 0.8166 - accuracy: 0.9889 - val_loss: 0.7883 - val_accuracy: 1.0000 - 46ms/epoch - 5ms/step\n",
      "Epoch 46/300\n",
      "9/9 - 0s - loss: 0.7870 - accuracy: 0.9111 - val_loss: 0.7707 - val_accuracy: 0.8889 - 59ms/epoch - 7ms/step\n",
      "Epoch 47/300\n",
      "9/9 - 0s - loss: 0.7948 - accuracy: 0.8889 - val_loss: 0.7607 - val_accuracy: 0.8889 - 45ms/epoch - 5ms/step\n",
      "Epoch 48/300\n",
      "9/9 - 0s - loss: 0.7696 - accuracy: 0.9556 - val_loss: 0.7453 - val_accuracy: 1.0000 - 48ms/epoch - 5ms/step\n",
      "Epoch 49/300\n",
      "9/9 - 0s - loss: 0.7486 - accuracy: 0.9444 - val_loss: 0.7189 - val_accuracy: 1.0000 - 43ms/epoch - 5ms/step\n",
      "Epoch 50/300\n",
      "9/9 - 0s - loss: 0.7267 - accuracy: 1.0000 - val_loss: 0.7056 - val_accuracy: 0.8889 - 51ms/epoch - 6ms/step\n",
      "Epoch 51/300\n",
      "9/9 - 0s - loss: 0.7097 - accuracy: 0.8889 - val_loss: 0.6872 - val_accuracy: 1.0000 - 42ms/epoch - 5ms/step\n",
      "Epoch 52/300\n",
      "9/9 - 0s - loss: 0.6978 - accuracy: 1.0000 - val_loss: 0.6732 - val_accuracy: 1.0000 - 43ms/epoch - 5ms/step\n",
      "Epoch 53/300\n",
      "9/9 - 0s - loss: 0.6820 - accuracy: 1.0000 - val_loss: 0.6583 - val_accuracy: 1.0000 - 40ms/epoch - 4ms/step\n",
      "Epoch 54/300\n",
      "9/9 - 0s - loss: 0.6613 - accuracy: 1.0000 - val_loss: 0.6396 - val_accuracy: 1.0000 - 45ms/epoch - 5ms/step\n",
      "Epoch 55/300\n",
      "9/9 - 0s - loss: 0.6448 - accuracy: 0.9778 - val_loss: 0.6242 - val_accuracy: 1.0000 - 45ms/epoch - 5ms/step\n",
      "Epoch 56/300\n",
      "9/9 - 0s - loss: 0.6291 - accuracy: 1.0000 - val_loss: 0.6068 - val_accuracy: 1.0000 - 43ms/epoch - 5ms/step\n",
      "Epoch 57/300\n",
      "9/9 - 0s - loss: 0.6251 - accuracy: 1.0000 - val_loss: 0.5942 - val_accuracy: 1.0000 - 44ms/epoch - 5ms/step\n",
      "Epoch 58/300\n",
      "9/9 - 0s - loss: 0.5974 - accuracy: 0.9333 - val_loss: 0.5850 - val_accuracy: 0.8889 - 43ms/epoch - 5ms/step\n",
      "Epoch 59/300\n",
      "9/9 - 0s - loss: 0.6004 - accuracy: 0.8889 - val_loss: 0.5691 - val_accuracy: 0.8889 - 42ms/epoch - 5ms/step\n",
      "Epoch 60/300\n",
      "9/9 - 0s - loss: 0.5782 - accuracy: 0.9889 - val_loss: 0.5614 - val_accuracy: 1.0000 - 43ms/epoch - 5ms/step\n",
      "Epoch 61/300\n",
      "9/9 - 0s - loss: 0.5550 - accuracy: 1.0000 - val_loss: 0.5354 - val_accuracy: 1.0000 - 44ms/epoch - 5ms/step\n",
      "Epoch 62/300\n",
      "9/9 - 0s - loss: 0.5576 - accuracy: 0.9111 - val_loss: 0.5298 - val_accuracy: 0.8889 - 39ms/epoch - 4ms/step\n",
      "Epoch 63/300\n",
      "9/9 - 0s - loss: 0.5253 - accuracy: 0.9667 - val_loss: 0.5143 - val_accuracy: 1.0000 - 53ms/epoch - 6ms/step\n",
      "Epoch 64/300\n",
      "9/9 - 0s - loss: 0.5149 - accuracy: 1.0000 - val_loss: 0.4938 - val_accuracy: 1.0000 - 45ms/epoch - 5ms/step\n",
      "Epoch 65/300\n",
      "9/9 - 0s - loss: 0.4979 - accuracy: 1.0000 - val_loss: 0.4854 - val_accuracy: 1.0000 - 44ms/epoch - 5ms/step\n",
      "Epoch 66/300\n",
      "9/9 - 0s - loss: 0.4913 - accuracy: 1.0000 - val_loss: 0.4756 - val_accuracy: 1.0000 - 43ms/epoch - 5ms/step\n",
      "Epoch 67/300\n",
      "9/9 - 0s - loss: 0.4838 - accuracy: 1.0000 - val_loss: 0.4600 - val_accuracy: 1.0000 - 42ms/epoch - 5ms/step\n",
      "Epoch 68/300\n",
      "9/9 - 0s - loss: 0.4741 - accuracy: 1.0000 - val_loss: 0.4522 - val_accuracy: 1.0000 - 43ms/epoch - 5ms/step\n"
     ]
    },
    {
     "name": "stdout",
     "output_type": "stream",
     "text": [
      "Epoch 69/300\n",
      "9/9 - 0s - loss: 0.4595 - accuracy: 1.0000 - val_loss: 0.4315 - val_accuracy: 1.0000 - 42ms/epoch - 5ms/step\n",
      "Epoch 70/300\n",
      "9/9 - 0s - loss: 0.4363 - accuracy: 1.0000 - val_loss: 0.4206 - val_accuracy: 1.0000 - 38ms/epoch - 4ms/step\n",
      "Epoch 71/300\n",
      "9/9 - 0s - loss: 0.4306 - accuracy: 1.0000 - val_loss: 0.4048 - val_accuracy: 1.0000 - 51ms/epoch - 6ms/step\n",
      "Epoch 72/300\n",
      "9/9 - 0s - loss: 0.4120 - accuracy: 1.0000 - val_loss: 0.3971 - val_accuracy: 1.0000 - 43ms/epoch - 5ms/step\n",
      "Epoch 73/300\n",
      "9/9 - 0s - loss: 0.3963 - accuracy: 1.0000 - val_loss: 0.3817 - val_accuracy: 1.0000 - 41ms/epoch - 5ms/step\n",
      "Epoch 74/300\n",
      "9/9 - 0s - loss: 0.3928 - accuracy: 1.0000 - val_loss: 0.3706 - val_accuracy: 1.0000 - 43ms/epoch - 5ms/step\n",
      "Epoch 75/300\n",
      "9/9 - 0s - loss: 0.3933 - accuracy: 1.0000 - val_loss: 0.3664 - val_accuracy: 1.0000 - 43ms/epoch - 5ms/step\n",
      "Epoch 76/300\n",
      "9/9 - 0s - loss: 0.3742 - accuracy: 1.0000 - val_loss: 0.3662 - val_accuracy: 1.0000 - 42ms/epoch - 5ms/step\n",
      "Epoch 77/300\n",
      "9/9 - 0s - loss: 0.3581 - accuracy: 1.0000 - val_loss: 0.3477 - val_accuracy: 1.0000 - 41ms/epoch - 5ms/step\n",
      "Epoch 78/300\n",
      "9/9 - 0s - loss: 0.3438 - accuracy: 1.0000 - val_loss: 0.3316 - val_accuracy: 1.0000 - 45ms/epoch - 5ms/step\n",
      "Epoch 79/300\n",
      "9/9 - 0s - loss: 0.3310 - accuracy: 1.0000 - val_loss: 0.3184 - val_accuracy: 1.0000 - 36ms/epoch - 4ms/step\n",
      "Epoch 80/300\n",
      "9/9 - 0s - loss: 0.3189 - accuracy: 1.0000 - val_loss: 0.3061 - val_accuracy: 1.0000 - 76ms/epoch - 8ms/step\n",
      "Epoch 81/300\n",
      "9/9 - 0s - loss: 0.3081 - accuracy: 1.0000 - val_loss: 0.2973 - val_accuracy: 1.0000 - 71ms/epoch - 8ms/step\n",
      "Epoch 82/300\n",
      "9/9 - 0s - loss: 0.3053 - accuracy: 1.0000 - val_loss: 0.2873 - val_accuracy: 1.0000 - 71ms/epoch - 8ms/step\n",
      "Epoch 83/300\n",
      "9/9 - 0s - loss: 0.2893 - accuracy: 1.0000 - val_loss: 0.2799 - val_accuracy: 1.0000 - 63ms/epoch - 7ms/step\n",
      "Epoch 84/300\n",
      "9/9 - 0s - loss: 0.2813 - accuracy: 1.0000 - val_loss: 0.2711 - val_accuracy: 1.0000 - 66ms/epoch - 7ms/step\n",
      "Epoch 85/300\n",
      "9/9 - 0s - loss: 0.2754 - accuracy: 1.0000 - val_loss: 0.2595 - val_accuracy: 1.0000 - 36ms/epoch - 4ms/step\n",
      "Epoch 86/300\n",
      "9/9 - 0s - loss: 0.2638 - accuracy: 1.0000 - val_loss: 0.2542 - val_accuracy: 1.0000 - 50ms/epoch - 6ms/step\n",
      "Epoch 87/300\n",
      "9/9 - 0s - loss: 0.2523 - accuracy: 1.0000 - val_loss: 0.2489 - val_accuracy: 1.0000 - 50ms/epoch - 6ms/step\n",
      "Epoch 88/300\n",
      "9/9 - 0s - loss: 0.2466 - accuracy: 1.0000 - val_loss: 0.2387 - val_accuracy: 1.0000 - 50ms/epoch - 6ms/step\n",
      "Epoch 89/300\n",
      "9/9 - 0s - loss: 0.2444 - accuracy: 1.0000 - val_loss: 0.2307 - val_accuracy: 1.0000 - 33ms/epoch - 4ms/step\n",
      "Epoch 90/300\n",
      "9/9 - 0s - loss: 0.2333 - accuracy: 1.0000 - val_loss: 0.2242 - val_accuracy: 1.0000 - 50ms/epoch - 6ms/step\n",
      "Epoch 91/300\n",
      "9/9 - 0s - loss: 0.2201 - accuracy: 1.0000 - val_loss: 0.2132 - val_accuracy: 1.0000 - 50ms/epoch - 6ms/step\n",
      "Epoch 92/300\n",
      "9/9 - 0s - loss: 0.2181 - accuracy: 1.0000 - val_loss: 0.2056 - val_accuracy: 1.0000 - 50ms/epoch - 6ms/step\n",
      "Epoch 93/300\n",
      "9/9 - 0s - loss: 0.2057 - accuracy: 1.0000 - val_loss: 0.1982 - val_accuracy: 1.0000 - 50ms/epoch - 6ms/step\n",
      "Epoch 94/300\n",
      "9/9 - 0s - loss: 0.2004 - accuracy: 1.0000 - val_loss: 0.1923 - val_accuracy: 1.0000 - 33ms/epoch - 4ms/step\n",
      "Epoch 95/300\n",
      "9/9 - 0s - loss: 0.1943 - accuracy: 1.0000 - val_loss: 0.1865 - val_accuracy: 1.0000 - 50ms/epoch - 6ms/step\n",
      "Epoch 96/300\n",
      "9/9 - 0s - loss: 0.1889 - accuracy: 1.0000 - val_loss: 0.1791 - val_accuracy: 1.0000 - 50ms/epoch - 6ms/step\n",
      "Epoch 97/300\n",
      "9/9 - 0s - loss: 0.1930 - accuracy: 1.0000 - val_loss: 0.1852 - val_accuracy: 1.0000 - 50ms/epoch - 6ms/step\n",
      "Epoch 98/300\n",
      "9/9 - 0s - loss: 0.1878 - accuracy: 1.0000 - val_loss: 0.1698 - val_accuracy: 1.0000 - 50ms/epoch - 6ms/step\n",
      "Epoch 99/300\n",
      "9/9 - 0s - loss: 0.1735 - accuracy: 1.0000 - val_loss: 0.1638 - val_accuracy: 1.0000 - 49ms/epoch - 5ms/step\n",
      "Epoch 100/300\n",
      "9/9 - 0s - loss: 0.1670 - accuracy: 1.0000 - val_loss: 0.1641 - val_accuracy: 1.0000 - 49ms/epoch - 5ms/step\n",
      "Epoch 101/300\n",
      "9/9 - 0s - loss: 0.1577 - accuracy: 1.0000 - val_loss: 0.1510 - val_accuracy: 1.0000 - 50ms/epoch - 6ms/step\n",
      "Epoch 102/300\n",
      "9/9 - 0s - loss: 0.1538 - accuracy: 1.0000 - val_loss: 0.1468 - val_accuracy: 1.0000 - 50ms/epoch - 6ms/step\n",
      "Epoch 103/300\n",
      "9/9 - 0s - loss: 0.1458 - accuracy: 1.0000 - val_loss: 0.1403 - val_accuracy: 1.0000 - 50ms/epoch - 6ms/step\n",
      "Epoch 104/300\n",
      "9/9 - 0s - loss: 0.1405 - accuracy: 1.0000 - val_loss: 0.1345 - val_accuracy: 1.0000 - 50ms/epoch - 6ms/step\n",
      "Epoch 105/300\n",
      "9/9 - 0s - loss: 0.1370 - accuracy: 1.0000 - val_loss: 0.1300 - val_accuracy: 1.0000 - 34ms/epoch - 4ms/step\n",
      "Epoch 106/300\n",
      "9/9 - 0s - loss: 0.1339 - accuracy: 1.0000 - val_loss: 0.1297 - val_accuracy: 1.0000 - 57ms/epoch - 6ms/step\n",
      "Epoch 107/300\n",
      "9/9 - 0s - loss: 0.1357 - accuracy: 1.0000 - val_loss: 0.1301 - val_accuracy: 1.0000 - 42ms/epoch - 5ms/step\n",
      "Epoch 108/300\n",
      "9/9 - 0s - loss: 0.1278 - accuracy: 1.0000 - val_loss: 0.1180 - val_accuracy: 1.0000 - 33ms/epoch - 4ms/step\n",
      "Epoch 109/300\n",
      "9/9 - 0s - loss: 0.1183 - accuracy: 1.0000 - val_loss: 0.1141 - val_accuracy: 1.0000 - 51ms/epoch - 6ms/step\n",
      "Epoch 110/300\n",
      "9/9 - 0s - loss: 0.1149 - accuracy: 1.0000 - val_loss: 0.1119 - val_accuracy: 1.0000 - 58ms/epoch - 6ms/step\n",
      "Epoch 111/300\n",
      "9/9 - 0s - loss: 0.1111 - accuracy: 1.0000 - val_loss: 0.1063 - val_accuracy: 1.0000 - 44ms/epoch - 5ms/step\n",
      "Epoch 112/300\n",
      "9/9 - 0s - loss: 0.1073 - accuracy: 1.0000 - val_loss: 0.1030 - val_accuracy: 1.0000 - 44ms/epoch - 5ms/step\n",
      "Epoch 113/300\n",
      "9/9 - 0s - loss: 0.1075 - accuracy: 1.0000 - val_loss: 0.1018 - val_accuracy: 1.0000 - 45ms/epoch - 5ms/step\n",
      "Epoch 114/300\n",
      "9/9 - 0s - loss: 0.1091 - accuracy: 1.0000 - val_loss: 0.1012 - val_accuracy: 1.0000 - 43ms/epoch - 5ms/step\n",
      "Epoch 115/300\n",
      "9/9 - 0s - loss: 0.1003 - accuracy: 1.0000 - val_loss: 0.0951 - val_accuracy: 1.0000 - 40ms/epoch - 4ms/step\n",
      "Epoch 116/300\n",
      "9/9 - 0s - loss: 0.0947 - accuracy: 1.0000 - val_loss: 0.0895 - val_accuracy: 1.0000 - 43ms/epoch - 5ms/step\n",
      "Epoch 117/300\n",
      "9/9 - 0s - loss: 0.0921 - accuracy: 1.0000 - val_loss: 0.0867 - val_accuracy: 1.0000 - 40ms/epoch - 4ms/step\n",
      "Epoch 118/300\n",
      "9/9 - 0s - loss: 0.0889 - accuracy: 1.0000 - val_loss: 0.0843 - val_accuracy: 1.0000 - 44ms/epoch - 5ms/step\n",
      "Epoch 119/300\n",
      "9/9 - 0s - loss: 0.0874 - accuracy: 1.0000 - val_loss: 0.0828 - val_accuracy: 1.0000 - 47ms/epoch - 5ms/step\n",
      "Epoch 120/300\n",
      "9/9 - 0s - loss: 0.0821 - accuracy: 1.0000 - val_loss: 0.0823 - val_accuracy: 1.0000 - 51ms/epoch - 6ms/step\n",
      "Epoch 121/300\n",
      "9/9 - 0s - loss: 0.0814 - accuracy: 1.0000 - val_loss: 0.0801 - val_accuracy: 1.0000 - 48ms/epoch - 5ms/step\n",
      "Epoch 122/300\n",
      "9/9 - 0s - loss: 0.0770 - accuracy: 1.0000 - val_loss: 0.0740 - val_accuracy: 1.0000 - 45ms/epoch - 5ms/step\n",
      "Epoch 123/300\n",
      "9/9 - 0s - loss: 0.0760 - accuracy: 1.0000 - val_loss: 0.0721 - val_accuracy: 1.0000 - 40ms/epoch - 4ms/step\n",
      "Epoch 124/300\n",
      "9/9 - 0s - loss: 0.0721 - accuracy: 1.0000 - val_loss: 0.0687 - val_accuracy: 1.0000 - 41ms/epoch - 5ms/step\n",
      "Epoch 125/300\n",
      "9/9 - 0s - loss: 0.0698 - accuracy: 1.0000 - val_loss: 0.0670 - val_accuracy: 1.0000 - 32ms/epoch - 4ms/step\n",
      "Epoch 126/300\n",
      "9/9 - 0s - loss: 0.0670 - accuracy: 1.0000 - val_loss: 0.0662 - val_accuracy: 1.0000 - 43ms/epoch - 5ms/step\n",
      "Epoch 127/300\n",
      "9/9 - 0s - loss: 0.0660 - accuracy: 1.0000 - val_loss: 0.0620 - val_accuracy: 1.0000 - 47ms/epoch - 5ms/step\n",
      "Epoch 128/300\n",
      "9/9 - 0s - loss: 0.0634 - accuracy: 1.0000 - val_loss: 0.0609 - val_accuracy: 1.0000 - 45ms/epoch - 5ms/step\n",
      "Epoch 129/300\n",
      "9/9 - 0s - loss: 0.0604 - accuracy: 1.0000 - val_loss: 0.0586 - val_accuracy: 1.0000 - 43ms/epoch - 5ms/step\n",
      "Epoch 130/300\n",
      "9/9 - 0s - loss: 0.0596 - accuracy: 1.0000 - val_loss: 0.0567 - val_accuracy: 1.0000 - 49ms/epoch - 5ms/step\n",
      "Epoch 131/300\n",
      "9/9 - 0s - loss: 0.0564 - accuracy: 1.0000 - val_loss: 0.0553 - val_accuracy: 1.0000 - 53ms/epoch - 6ms/step\n",
      "Epoch 132/300\n",
      "9/9 - 0s - loss: 0.0547 - accuracy: 1.0000 - val_loss: 0.0535 - val_accuracy: 1.0000 - 50ms/epoch - 6ms/step\n",
      "Epoch 133/300\n",
      "9/9 - 0s - loss: 0.0538 - accuracy: 1.0000 - val_loss: 0.0517 - val_accuracy: 1.0000 - 48ms/epoch - 5ms/step\n",
      "Epoch 134/300\n",
      "9/9 - 0s - loss: 0.0521 - accuracy: 1.0000 - val_loss: 0.0502 - val_accuracy: 1.0000 - 48ms/epoch - 5ms/step\n",
      "Epoch 135/300\n",
      "9/9 - 0s - loss: 0.0514 - accuracy: 1.0000 - val_loss: 0.0497 - val_accuracy: 1.0000 - 34ms/epoch - 4ms/step\n"
     ]
    },
    {
     "name": "stdout",
     "output_type": "stream",
     "text": [
      "Epoch 136/300\n",
      "9/9 - 0s - loss: 0.0501 - accuracy: 1.0000 - val_loss: 0.0482 - val_accuracy: 1.0000 - 42ms/epoch - 5ms/step\n",
      "Epoch 137/300\n",
      "9/9 - 0s - loss: 0.0495 - accuracy: 1.0000 - val_loss: 0.0463 - val_accuracy: 1.0000 - 41ms/epoch - 5ms/step\n",
      "Epoch 138/300\n",
      "9/9 - 0s - loss: 0.0464 - accuracy: 1.0000 - val_loss: 0.0459 - val_accuracy: 1.0000 - 34ms/epoch - 4ms/step\n",
      "Epoch 139/300\n",
      "9/9 - 0s - loss: 0.0450 - accuracy: 1.0000 - val_loss: 0.0437 - val_accuracy: 1.0000 - 47ms/epoch - 5ms/step\n",
      "Epoch 140/300\n",
      "9/9 - 0s - loss: 0.0438 - accuracy: 1.0000 - val_loss: 0.0426 - val_accuracy: 1.0000 - 42ms/epoch - 5ms/step\n",
      "Epoch 141/300\n",
      "9/9 - 0s - loss: 0.0429 - accuracy: 1.0000 - val_loss: 0.0413 - val_accuracy: 1.0000 - 44ms/epoch - 5ms/step\n",
      "Epoch 142/300\n",
      "9/9 - 0s - loss: 0.0415 - accuracy: 1.0000 - val_loss: 0.0404 - val_accuracy: 1.0000 - 44ms/epoch - 5ms/step\n",
      "Epoch 143/300\n",
      "9/9 - 0s - loss: 0.0406 - accuracy: 1.0000 - val_loss: 0.0392 - val_accuracy: 1.0000 - 44ms/epoch - 5ms/step\n",
      "Epoch 144/300\n",
      "9/9 - 0s - loss: 0.0398 - accuracy: 1.0000 - val_loss: 0.0385 - val_accuracy: 1.0000 - 42ms/epoch - 5ms/step\n",
      "Epoch 145/300\n",
      "9/9 - 0s - loss: 0.0386 - accuracy: 1.0000 - val_loss: 0.0372 - val_accuracy: 1.0000 - 40ms/epoch - 4ms/step\n",
      "Epoch 146/300\n",
      "9/9 - 0s - loss: 0.0372 - accuracy: 1.0000 - val_loss: 0.0362 - val_accuracy: 1.0000 - 45ms/epoch - 5ms/step\n",
      "Epoch 147/300\n",
      "9/9 - 0s - loss: 0.0360 - accuracy: 1.0000 - val_loss: 0.0352 - val_accuracy: 1.0000 - 45ms/epoch - 5ms/step\n",
      "Epoch 148/300\n",
      "9/9 - 0s - loss: 0.0350 - accuracy: 1.0000 - val_loss: 0.0342 - val_accuracy: 1.0000 - 42ms/epoch - 5ms/step\n",
      "Epoch 149/300\n",
      "9/9 - 0s - loss: 0.0344 - accuracy: 1.0000 - val_loss: 0.0335 - val_accuracy: 1.0000 - 44ms/epoch - 5ms/step\n",
      "Epoch 150/300\n",
      "9/9 - 0s - loss: 0.0331 - accuracy: 1.0000 - val_loss: 0.0325 - val_accuracy: 1.0000 - 41ms/epoch - 5ms/step\n",
      "Epoch 151/300\n",
      "9/9 - 0s - loss: 0.0324 - accuracy: 1.0000 - val_loss: 0.0317 - val_accuracy: 1.0000 - 44ms/epoch - 5ms/step\n",
      "Epoch 152/300\n",
      "9/9 - 0s - loss: 0.0319 - accuracy: 1.0000 - val_loss: 0.0310 - val_accuracy: 1.0000 - 53ms/epoch - 6ms/step\n",
      "Epoch 153/300\n",
      "9/9 - 0s - loss: 0.0315 - accuracy: 1.0000 - val_loss: 0.0304 - val_accuracy: 1.0000 - 43ms/epoch - 5ms/step\n",
      "Epoch 154/300\n",
      "9/9 - 0s - loss: 0.0305 - accuracy: 1.0000 - val_loss: 0.0294 - val_accuracy: 1.0000 - 43ms/epoch - 5ms/step\n",
      "Epoch 155/300\n",
      "9/9 - 0s - loss: 0.0297 - accuracy: 1.0000 - val_loss: 0.0287 - val_accuracy: 1.0000 - 45ms/epoch - 5ms/step\n",
      "Epoch 156/300\n",
      "9/9 - 0s - loss: 0.0289 - accuracy: 1.0000 - val_loss: 0.0281 - val_accuracy: 1.0000 - 43ms/epoch - 5ms/step\n",
      "Epoch 157/300\n",
      "9/9 - 0s - loss: 0.0285 - accuracy: 1.0000 - val_loss: 0.0278 - val_accuracy: 1.0000 - 40ms/epoch - 4ms/step\n",
      "Epoch 158/300\n",
      "9/9 - 0s - loss: 0.0280 - accuracy: 1.0000 - val_loss: 0.0269 - val_accuracy: 1.0000 - 41ms/epoch - 5ms/step\n",
      "Epoch 159/300\n",
      "9/9 - 0s - loss: 0.0270 - accuracy: 1.0000 - val_loss: 0.0262 - val_accuracy: 1.0000 - 44ms/epoch - 5ms/step\n",
      "Epoch 160/300\n",
      "9/9 - 0s - loss: 0.0262 - accuracy: 1.0000 - val_loss: 0.0256 - val_accuracy: 1.0000 - 42ms/epoch - 5ms/step\n",
      "Epoch 161/300\n",
      "9/9 - 0s - loss: 0.0256 - accuracy: 1.0000 - val_loss: 0.0251 - val_accuracy: 1.0000 - 45ms/epoch - 5ms/step\n",
      "Epoch 162/300\n",
      "9/9 - 0s - loss: 0.0251 - accuracy: 1.0000 - val_loss: 0.0243 - val_accuracy: 1.0000 - 65ms/epoch - 7ms/step\n",
      "Epoch 163/300\n",
      "9/9 - 0s - loss: 0.0244 - accuracy: 1.0000 - val_loss: 0.0239 - val_accuracy: 1.0000 - 62ms/epoch - 7ms/step\n",
      "Epoch 164/300\n",
      "9/9 - 0s - loss: 0.0239 - accuracy: 1.0000 - val_loss: 0.0234 - val_accuracy: 1.0000 - 64ms/epoch - 7ms/step\n",
      "Epoch 165/300\n",
      "9/9 - 0s - loss: 0.0235 - accuracy: 1.0000 - val_loss: 0.0229 - val_accuracy: 1.0000 - 62ms/epoch - 7ms/step\n",
      "Epoch 166/300\n",
      "9/9 - 0s - loss: 0.0228 - accuracy: 1.0000 - val_loss: 0.0223 - val_accuracy: 1.0000 - 58ms/epoch - 6ms/step\n",
      "Epoch 167/300\n",
      "9/9 - 0s - loss: 0.0223 - accuracy: 1.0000 - val_loss: 0.0219 - val_accuracy: 1.0000 - 53ms/epoch - 6ms/step\n",
      "Epoch 168/300\n",
      "9/9 - 0s - loss: 0.0219 - accuracy: 1.0000 - val_loss: 0.0215 - val_accuracy: 1.0000 - 31ms/epoch - 3ms/step\n",
      "Epoch 169/300\n",
      "9/9 - 0s - loss: 0.0214 - accuracy: 1.0000 - val_loss: 0.0209 - val_accuracy: 1.0000 - 35ms/epoch - 4ms/step\n",
      "Epoch 170/300\n",
      "9/9 - 0s - loss: 0.0210 - accuracy: 1.0000 - val_loss: 0.0205 - val_accuracy: 1.0000 - 50ms/epoch - 6ms/step\n",
      "Epoch 171/300\n",
      "9/9 - 0s - loss: 0.0206 - accuracy: 1.0000 - val_loss: 0.0200 - val_accuracy: 1.0000 - 50ms/epoch - 6ms/step\n",
      "Epoch 172/300\n",
      "9/9 - 0s - loss: 0.0203 - accuracy: 1.0000 - val_loss: 0.0198 - val_accuracy: 1.0000 - 48ms/epoch - 5ms/step\n",
      "Epoch 173/300\n",
      "9/9 - 0s - loss: 0.0203 - accuracy: 1.0000 - val_loss: 0.0194 - val_accuracy: 1.0000 - 40ms/epoch - 4ms/step\n",
      "Epoch 174/300\n",
      "9/9 - 0s - loss: 0.0195 - accuracy: 1.0000 - val_loss: 0.0188 - val_accuracy: 1.0000 - 43ms/epoch - 5ms/step\n",
      "Epoch 175/300\n",
      "9/9 - 0s - loss: 0.0189 - accuracy: 1.0000 - val_loss: 0.0184 - val_accuracy: 1.0000 - 45ms/epoch - 5ms/step\n",
      "Epoch 176/300\n",
      "9/9 - 0s - loss: 0.0184 - accuracy: 1.0000 - val_loss: 0.0180 - val_accuracy: 1.0000 - 45ms/epoch - 5ms/step\n",
      "Epoch 177/300\n",
      "9/9 - 0s - loss: 0.0183 - accuracy: 1.0000 - val_loss: 0.0177 - val_accuracy: 1.0000 - 43ms/epoch - 5ms/step\n",
      "Epoch 178/300\n",
      "9/9 - 0s - loss: 0.0177 - accuracy: 1.0000 - val_loss: 0.0173 - val_accuracy: 1.0000 - 47ms/epoch - 5ms/step\n",
      "Epoch 179/300\n",
      "9/9 - 0s - loss: 0.0174 - accuracy: 1.0000 - val_loss: 0.0170 - val_accuracy: 1.0000 - 43ms/epoch - 5ms/step\n",
      "Epoch 180/300\n",
      "9/9 - 0s - loss: 0.0171 - accuracy: 1.0000 - val_loss: 0.0167 - val_accuracy: 1.0000 - 74ms/epoch - 8ms/step\n",
      "Epoch 181/300\n",
      "9/9 - 0s - loss: 0.0167 - accuracy: 1.0000 - val_loss: 0.0164 - val_accuracy: 1.0000 - 59ms/epoch - 7ms/step\n",
      "Epoch 182/300\n",
      "9/9 - 0s - loss: 0.0164 - accuracy: 1.0000 - val_loss: 0.0160 - val_accuracy: 1.0000 - 60ms/epoch - 7ms/step\n",
      "Epoch 183/300\n",
      "9/9 - 0s - loss: 0.0161 - accuracy: 1.0000 - val_loss: 0.0157 - val_accuracy: 1.0000 - 66ms/epoch - 7ms/step\n",
      "Epoch 184/300\n",
      "9/9 - 0s - loss: 0.0159 - accuracy: 1.0000 - val_loss: 0.0155 - val_accuracy: 1.0000 - 55ms/epoch - 6ms/step\n",
      "Epoch 185/300\n",
      "9/9 - 0s - loss: 0.0156 - accuracy: 1.0000 - val_loss: 0.0151 - val_accuracy: 1.0000 - 56ms/epoch - 6ms/step\n",
      "Epoch 186/300\n",
      "9/9 - 0s - loss: 0.0152 - accuracy: 1.0000 - val_loss: 0.0148 - val_accuracy: 1.0000 - 39ms/epoch - 4ms/step\n",
      "Epoch 187/300\n",
      "9/9 - 0s - loss: 0.0148 - accuracy: 1.0000 - val_loss: 0.0146 - val_accuracy: 1.0000 - 42ms/epoch - 5ms/step\n",
      "Epoch 188/300\n",
      "9/9 - 0s - loss: 0.0145 - accuracy: 1.0000 - val_loss: 0.0143 - val_accuracy: 1.0000 - 43ms/epoch - 5ms/step\n",
      "Epoch 189/300\n",
      "9/9 - 0s - loss: 0.0143 - accuracy: 1.0000 - val_loss: 0.0140 - val_accuracy: 1.0000 - 42ms/epoch - 5ms/step\n",
      "Epoch 190/300\n",
      "9/9 - 0s - loss: 0.0142 - accuracy: 1.0000 - val_loss: 0.0138 - val_accuracy: 1.0000 - 42ms/epoch - 5ms/step\n",
      "Epoch 191/300\n",
      "9/9 - 0s - loss: 0.0138 - accuracy: 1.0000 - val_loss: 0.0135 - val_accuracy: 1.0000 - 40ms/epoch - 4ms/step\n",
      "Epoch 192/300\n",
      "9/9 - 0s - loss: 0.0136 - accuracy: 1.0000 - val_loss: 0.0133 - val_accuracy: 1.0000 - 41ms/epoch - 5ms/step\n",
      "Epoch 193/300\n",
      "9/9 - 0s - loss: 0.0135 - accuracy: 1.0000 - val_loss: 0.0131 - val_accuracy: 1.0000 - 41ms/epoch - 5ms/step\n",
      "Epoch 194/300\n",
      "9/9 - 0s - loss: 0.0132 - accuracy: 1.0000 - val_loss: 0.0128 - val_accuracy: 1.0000 - 44ms/epoch - 5ms/step\n",
      "Epoch 195/300\n",
      "9/9 - 0s - loss: 0.0129 - accuracy: 1.0000 - val_loss: 0.0126 - val_accuracy: 1.0000 - 43ms/epoch - 5ms/step\n",
      "Epoch 196/300\n",
      "9/9 - 0s - loss: 0.0126 - accuracy: 1.0000 - val_loss: 0.0124 - val_accuracy: 1.0000 - 43ms/epoch - 5ms/step\n",
      "Epoch 197/300\n",
      "9/9 - 0s - loss: 0.0123 - accuracy: 1.0000 - val_loss: 0.0122 - val_accuracy: 1.0000 - 86ms/epoch - 10ms/step\n",
      "Epoch 198/300\n",
      "9/9 - 0s - loss: 0.0122 - accuracy: 1.0000 - val_loss: 0.0119 - val_accuracy: 1.0000 - 47ms/epoch - 5ms/step\n",
      "Epoch 199/300\n",
      "9/9 - 0s - loss: 0.0120 - accuracy: 1.0000 - val_loss: 0.0118 - val_accuracy: 1.0000 - 51ms/epoch - 6ms/step\n",
      "Epoch 200/300\n",
      "9/9 - 0s - loss: 0.0118 - accuracy: 1.0000 - val_loss: 0.0116 - val_accuracy: 1.0000 - 70ms/epoch - 8ms/step\n",
      "Epoch 201/300\n",
      "9/9 - 0s - loss: 0.0115 - accuracy: 1.0000 - val_loss: 0.0113 - val_accuracy: 1.0000 - 46ms/epoch - 5ms/step\n",
      "Epoch 202/300\n",
      "9/9 - 0s - loss: 0.0114 - accuracy: 1.0000 - val_loss: 0.0112 - val_accuracy: 1.0000 - 43ms/epoch - 5ms/step\n"
     ]
    },
    {
     "name": "stdout",
     "output_type": "stream",
     "text": [
      "Epoch 203/300\n",
      "9/9 - 0s - loss: 0.0112 - accuracy: 1.0000 - val_loss: 0.0110 - val_accuracy: 1.0000 - 50ms/epoch - 6ms/step\n",
      "Epoch 204/300\n",
      "9/9 - 0s - loss: 0.0110 - accuracy: 1.0000 - val_loss: 0.0108 - val_accuracy: 1.0000 - 40ms/epoch - 4ms/step\n",
      "Epoch 205/300\n",
      "9/9 - 0s - loss: 0.0108 - accuracy: 1.0000 - val_loss: 0.0106 - val_accuracy: 1.0000 - 42ms/epoch - 5ms/step\n",
      "Epoch 206/300\n",
      "9/9 - 0s - loss: 0.0107 - accuracy: 1.0000 - val_loss: 0.0104 - val_accuracy: 1.0000 - 45ms/epoch - 5ms/step\n",
      "Epoch 207/300\n",
      "9/9 - 0s - loss: 0.0104 - accuracy: 1.0000 - val_loss: 0.0103 - val_accuracy: 1.0000 - 43ms/epoch - 5ms/step\n",
      "Epoch 208/300\n",
      "9/9 - 0s - loss: 0.0103 - accuracy: 1.0000 - val_loss: 0.0101 - val_accuracy: 1.0000 - 44ms/epoch - 5ms/step\n",
      "Epoch 209/300\n",
      "9/9 - 0s - loss: 0.0101 - accuracy: 1.0000 - val_loss: 0.0099 - val_accuracy: 1.0000 - 44ms/epoch - 5ms/step\n",
      "Epoch 210/300\n",
      "9/9 - 0s - loss: 0.0100 - accuracy: 1.0000 - val_loss: 0.0098 - val_accuracy: 1.0000 - 45ms/epoch - 5ms/step\n",
      "Epoch 211/300\n",
      "9/9 - 0s - loss: 0.0099 - accuracy: 1.0000 - val_loss: 0.0096 - val_accuracy: 1.0000 - 46ms/epoch - 5ms/step\n",
      "Epoch 212/300\n",
      "9/9 - 0s - loss: 0.0096 - accuracy: 1.0000 - val_loss: 0.0095 - val_accuracy: 1.0000 - 48ms/epoch - 5ms/step\n",
      "Epoch 213/300\n",
      "9/9 - 0s - loss: 0.0095 - accuracy: 1.0000 - val_loss: 0.0093 - val_accuracy: 1.0000 - 45ms/epoch - 5ms/step\n",
      "Epoch 214/300\n",
      "9/9 - 0s - loss: 0.0093 - accuracy: 1.0000 - val_loss: 0.0092 - val_accuracy: 1.0000 - 46ms/epoch - 5ms/step\n",
      "Epoch 215/300\n",
      "9/9 - 0s - loss: 0.0092 - accuracy: 1.0000 - val_loss: 0.0090 - val_accuracy: 1.0000 - 43ms/epoch - 5ms/step\n",
      "Epoch 216/300\n",
      "9/9 - 0s - loss: 0.0090 - accuracy: 1.0000 - val_loss: 0.0089 - val_accuracy: 1.0000 - 49ms/epoch - 5ms/step\n",
      "Epoch 217/300\n",
      "9/9 - 0s - loss: 0.0089 - accuracy: 1.0000 - val_loss: 0.0088 - val_accuracy: 1.0000 - 45ms/epoch - 5ms/step\n",
      "Epoch 218/300\n",
      "9/9 - 0s - loss: 0.0088 - accuracy: 1.0000 - val_loss: 0.0086 - val_accuracy: 1.0000 - 42ms/epoch - 5ms/step\n",
      "Epoch 219/300\n",
      "9/9 - 0s - loss: 0.0086 - accuracy: 1.0000 - val_loss: 0.0085 - val_accuracy: 1.0000 - 47ms/epoch - 5ms/step\n",
      "Epoch 220/300\n",
      "9/9 - 0s - loss: 0.0085 - accuracy: 1.0000 - val_loss: 0.0084 - val_accuracy: 1.0000 - 44ms/epoch - 5ms/step\n",
      "Epoch 221/300\n",
      "9/9 - 0s - loss: 0.0083 - accuracy: 1.0000 - val_loss: 0.0082 - val_accuracy: 1.0000 - 45ms/epoch - 5ms/step\n",
      "Epoch 222/300\n",
      "9/9 - 0s - loss: 0.0083 - accuracy: 1.0000 - val_loss: 0.0081 - val_accuracy: 1.0000 - 44ms/epoch - 5ms/step\n",
      "Epoch 223/300\n",
      "9/9 - 0s - loss: 0.0082 - accuracy: 1.0000 - val_loss: 0.0080 - val_accuracy: 1.0000 - 45ms/epoch - 5ms/step\n",
      "Epoch 224/300\n",
      "9/9 - 0s - loss: 0.0080 - accuracy: 1.0000 - val_loss: 0.0079 - val_accuracy: 1.0000 - 45ms/epoch - 5ms/step\n",
      "Epoch 225/300\n",
      "9/9 - 0s - loss: 0.0079 - accuracy: 1.0000 - val_loss: 0.0078 - val_accuracy: 1.0000 - 44ms/epoch - 5ms/step\n",
      "Epoch 226/300\n",
      "9/9 - 0s - loss: 0.0078 - accuracy: 1.0000 - val_loss: 0.0077 - val_accuracy: 1.0000 - 46ms/epoch - 5ms/step\n",
      "Epoch 227/300\n",
      "9/9 - 0s - loss: 0.0076 - accuracy: 1.0000 - val_loss: 0.0075 - val_accuracy: 1.0000 - 46ms/epoch - 5ms/step\n",
      "Epoch 228/300\n",
      "9/9 - 0s - loss: 0.0076 - accuracy: 1.0000 - val_loss: 0.0074 - val_accuracy: 1.0000 - 45ms/epoch - 5ms/step\n",
      "Epoch 229/300\n",
      "9/9 - 0s - loss: 0.0074 - accuracy: 1.0000 - val_loss: 0.0073 - val_accuracy: 1.0000 - 68ms/epoch - 8ms/step\n",
      "Epoch 230/300\n",
      "9/9 - 0s - loss: 0.0073 - accuracy: 1.0000 - val_loss: 0.0072 - val_accuracy: 1.0000 - 51ms/epoch - 6ms/step\n",
      "Epoch 231/300\n",
      "9/9 - 0s - loss: 0.0072 - accuracy: 1.0000 - val_loss: 0.0071 - val_accuracy: 1.0000 - 61ms/epoch - 7ms/step\n",
      "Epoch 232/300\n",
      "9/9 - 0s - loss: 0.0071 - accuracy: 1.0000 - val_loss: 0.0070 - val_accuracy: 1.0000 - 68ms/epoch - 8ms/step\n",
      "Epoch 233/300\n",
      "9/9 - 0s - loss: 0.0070 - accuracy: 1.0000 - val_loss: 0.0069 - val_accuracy: 1.0000 - 142ms/epoch - 16ms/step\n",
      "Epoch 234/300\n",
      "9/9 - 0s - loss: 0.0069 - accuracy: 1.0000 - val_loss: 0.0068 - val_accuracy: 1.0000 - 72ms/epoch - 8ms/step\n",
      "Epoch 235/300\n",
      "9/9 - 0s - loss: 0.0068 - accuracy: 1.0000 - val_loss: 0.0067 - val_accuracy: 1.0000 - 46ms/epoch - 5ms/step\n",
      "Epoch 236/300\n",
      "9/9 - 0s - loss: 0.0067 - accuracy: 1.0000 - val_loss: 0.0066 - val_accuracy: 1.0000 - 50ms/epoch - 6ms/step\n",
      "Epoch 237/300\n",
      "9/9 - 0s - loss: 0.0066 - accuracy: 1.0000 - val_loss: 0.0065 - val_accuracy: 1.0000 - 45ms/epoch - 5ms/step\n",
      "Epoch 238/300\n",
      "9/9 - 0s - loss: 0.0066 - accuracy: 1.0000 - val_loss: 0.0065 - val_accuracy: 1.0000 - 44ms/epoch - 5ms/step\n",
      "Epoch 239/300\n",
      "9/9 - 0s - loss: 0.0066 - accuracy: 1.0000 - val_loss: 0.0064 - val_accuracy: 1.0000 - 43ms/epoch - 5ms/step\n",
      "Epoch 240/300\n",
      "9/9 - 0s - loss: 0.0063 - accuracy: 1.0000 - val_loss: 0.0063 - val_accuracy: 1.0000 - 43ms/epoch - 5ms/step\n",
      "Epoch 241/300\n",
      "9/9 - 0s - loss: 0.0063 - accuracy: 1.0000 - val_loss: 0.0062 - val_accuracy: 1.0000 - 42ms/epoch - 5ms/step\n",
      "Epoch 242/300\n",
      "9/9 - 0s - loss: 0.0062 - accuracy: 1.0000 - val_loss: 0.0061 - val_accuracy: 1.0000 - 45ms/epoch - 5ms/step\n",
      "Epoch 243/300\n",
      "9/9 - 0s - loss: 0.0062 - accuracy: 1.0000 - val_loss: 0.0060 - val_accuracy: 1.0000 - 43ms/epoch - 5ms/step\n",
      "Epoch 244/300\n",
      "9/9 - 0s - loss: 0.0061 - accuracy: 1.0000 - val_loss: 0.0060 - val_accuracy: 1.0000 - 40ms/epoch - 4ms/step\n",
      "Epoch 245/300\n",
      "9/9 - 0s - loss: 0.0059 - accuracy: 1.0000 - val_loss: 0.0059 - val_accuracy: 1.0000 - 47ms/epoch - 5ms/step\n",
      "Epoch 246/300\n",
      "9/9 - 0s - loss: 0.0059 - accuracy: 1.0000 - val_loss: 0.0058 - val_accuracy: 1.0000 - 43ms/epoch - 5ms/step\n",
      "Epoch 247/300\n",
      "9/9 - 0s - loss: 0.0058 - accuracy: 1.0000 - val_loss: 0.0057 - val_accuracy: 1.0000 - 46ms/epoch - 5ms/step\n",
      "Epoch 248/300\n",
      "9/9 - 0s - loss: 0.0057 - accuracy: 1.0000 - val_loss: 0.0056 - val_accuracy: 1.0000 - 42ms/epoch - 5ms/step\n",
      "Epoch 249/300\n",
      "9/9 - 0s - loss: 0.0057 - accuracy: 1.0000 - val_loss: 0.0056 - val_accuracy: 1.0000 - 49ms/epoch - 5ms/step\n",
      "Epoch 250/300\n",
      "9/9 - 0s - loss: 0.0056 - accuracy: 1.0000 - val_loss: 0.0055 - val_accuracy: 1.0000 - 42ms/epoch - 5ms/step\n",
      "Epoch 251/300\n",
      "9/9 - 0s - loss: 0.0055 - accuracy: 1.0000 - val_loss: 0.0054 - val_accuracy: 1.0000 - 46ms/epoch - 5ms/step\n",
      "Epoch 252/300\n",
      "9/9 - 0s - loss: 0.0054 - accuracy: 1.0000 - val_loss: 0.0053 - val_accuracy: 1.0000 - 56ms/epoch - 6ms/step\n",
      "Epoch 253/300\n",
      "9/9 - 0s - loss: 0.0054 - accuracy: 1.0000 - val_loss: 0.0053 - val_accuracy: 1.0000 - 54ms/epoch - 6ms/step\n",
      "Epoch 254/300\n",
      "9/9 - 0s - loss: 0.0053 - accuracy: 1.0000 - val_loss: 0.0052 - val_accuracy: 1.0000 - 41ms/epoch - 5ms/step\n",
      "Epoch 255/300\n",
      "9/9 - 0s - loss: 0.0052 - accuracy: 1.0000 - val_loss: 0.0051 - val_accuracy: 1.0000 - 42ms/epoch - 5ms/step\n",
      "Epoch 256/300\n",
      "9/9 - 0s - loss: 0.0051 - accuracy: 1.0000 - val_loss: 0.0051 - val_accuracy: 1.0000 - 45ms/epoch - 5ms/step\n",
      "Epoch 257/300\n",
      "9/9 - 0s - loss: 0.0051 - accuracy: 1.0000 - val_loss: 0.0050 - val_accuracy: 1.0000 - 42ms/epoch - 5ms/step\n",
      "Epoch 258/300\n",
      "9/9 - 0s - loss: 0.0050 - accuracy: 1.0000 - val_loss: 0.0050 - val_accuracy: 1.0000 - 41ms/epoch - 5ms/step\n",
      "Epoch 259/300\n",
      "9/9 - 0s - loss: 0.0050 - accuracy: 1.0000 - val_loss: 0.0049 - val_accuracy: 1.0000 - 44ms/epoch - 5ms/step\n",
      "Epoch 260/300\n",
      "9/9 - 0s - loss: 0.0049 - accuracy: 1.0000 - val_loss: 0.0048 - val_accuracy: 1.0000 - 48ms/epoch - 5ms/step\n",
      "Epoch 261/300\n",
      "9/9 - 0s - loss: 0.0048 - accuracy: 1.0000 - val_loss: 0.0048 - val_accuracy: 1.0000 - 45ms/epoch - 5ms/step\n",
      "Epoch 262/300\n",
      "9/9 - 0s - loss: 0.0048 - accuracy: 1.0000 - val_loss: 0.0047 - val_accuracy: 1.0000 - 44ms/epoch - 5ms/step\n",
      "Epoch 263/300\n",
      "9/9 - 0s - loss: 0.0047 - accuracy: 1.0000 - val_loss: 0.0047 - val_accuracy: 1.0000 - 43ms/epoch - 5ms/step\n",
      "Epoch 264/300\n",
      "9/9 - 0s - loss: 0.0047 - accuracy: 1.0000 - val_loss: 0.0046 - val_accuracy: 1.0000 - 40ms/epoch - 4ms/step\n",
      "Epoch 265/300\n",
      "9/9 - 0s - loss: 0.0046 - accuracy: 1.0000 - val_loss: 0.0045 - val_accuracy: 1.0000 - 46ms/epoch - 5ms/step\n",
      "Epoch 266/300\n",
      "9/9 - 0s - loss: 0.0046 - accuracy: 1.0000 - val_loss: 0.0045 - val_accuracy: 1.0000 - 49ms/epoch - 5ms/step\n",
      "Epoch 267/300\n",
      "9/9 - 0s - loss: 0.0045 - accuracy: 1.0000 - val_loss: 0.0044 - val_accuracy: 1.0000 - 43ms/epoch - 5ms/step\n",
      "Epoch 268/300\n",
      "9/9 - 0s - loss: 0.0044 - accuracy: 1.0000 - val_loss: 0.0044 - val_accuracy: 1.0000 - 41ms/epoch - 5ms/step\n",
      "Epoch 269/300\n",
      "9/9 - 0s - loss: 0.0044 - accuracy: 1.0000 - val_loss: 0.0043 - val_accuracy: 1.0000 - 39ms/epoch - 4ms/step\n"
     ]
    },
    {
     "name": "stdout",
     "output_type": "stream",
     "text": [
      "Epoch 270/300\n",
      "9/9 - 0s - loss: 0.0043 - accuracy: 1.0000 - val_loss: 0.0043 - val_accuracy: 1.0000 - 39ms/epoch - 4ms/step\n",
      "Epoch 271/300\n",
      "9/9 - 0s - loss: 0.0043 - accuracy: 1.0000 - val_loss: 0.0042 - val_accuracy: 1.0000 - 40ms/epoch - 4ms/step\n",
      "Epoch 272/300\n",
      "9/9 - 0s - loss: 0.0042 - accuracy: 1.0000 - val_loss: 0.0042 - val_accuracy: 1.0000 - 44ms/epoch - 5ms/step\n",
      "Epoch 273/300\n",
      "9/9 - 0s - loss: 0.0042 - accuracy: 1.0000 - val_loss: 0.0041 - val_accuracy: 1.0000 - 44ms/epoch - 5ms/step\n",
      "Epoch 274/300\n",
      "9/9 - 0s - loss: 0.0041 - accuracy: 1.0000 - val_loss: 0.0041 - val_accuracy: 1.0000 - 43ms/epoch - 5ms/step\n",
      "Epoch 275/300\n",
      "9/9 - 0s - loss: 0.0041 - accuracy: 1.0000 - val_loss: 0.0040 - val_accuracy: 1.0000 - 43ms/epoch - 5ms/step\n",
      "Epoch 276/300\n",
      "9/9 - 0s - loss: 0.0040 - accuracy: 1.0000 - val_loss: 0.0040 - val_accuracy: 1.0000 - 43ms/epoch - 5ms/step\n",
      "Epoch 277/300\n",
      "9/9 - 0s - loss: 0.0040 - accuracy: 1.0000 - val_loss: 0.0039 - val_accuracy: 1.0000 - 41ms/epoch - 5ms/step\n",
      "Epoch 278/300\n",
      "9/9 - 0s - loss: 0.0040 - accuracy: 1.0000 - val_loss: 0.0039 - val_accuracy: 1.0000 - 45ms/epoch - 5ms/step\n",
      "Epoch 279/300\n",
      "9/9 - 0s - loss: 0.0039 - accuracy: 1.0000 - val_loss: 0.0038 - val_accuracy: 1.0000 - 47ms/epoch - 5ms/step\n",
      "Epoch 280/300\n",
      "9/9 - 0s - loss: 0.0038 - accuracy: 1.0000 - val_loss: 0.0038 - val_accuracy: 1.0000 - 49ms/epoch - 5ms/step\n",
      "Epoch 281/300\n",
      "9/9 - 0s - loss: 0.0038 - accuracy: 1.0000 - val_loss: 0.0038 - val_accuracy: 1.0000 - 48ms/epoch - 5ms/step\n",
      "Epoch 282/300\n",
      "9/9 - 0s - loss: 0.0038 - accuracy: 1.0000 - val_loss: 0.0037 - val_accuracy: 1.0000 - 44ms/epoch - 5ms/step\n",
      "Epoch 283/300\n",
      "9/9 - 0s - loss: 0.0037 - accuracy: 1.0000 - val_loss: 0.0037 - val_accuracy: 1.0000 - 44ms/epoch - 5ms/step\n",
      "Epoch 284/300\n",
      "9/9 - 0s - loss: 0.0037 - accuracy: 1.0000 - val_loss: 0.0036 - val_accuracy: 1.0000 - 43ms/epoch - 5ms/step\n",
      "Epoch 285/300\n",
      "9/9 - 0s - loss: 0.0036 - accuracy: 1.0000 - val_loss: 0.0036 - val_accuracy: 1.0000 - 45ms/epoch - 5ms/step\n",
      "Epoch 286/300\n",
      "9/9 - 0s - loss: 0.0036 - accuracy: 1.0000 - val_loss: 0.0036 - val_accuracy: 1.0000 - 42ms/epoch - 5ms/step\n",
      "Epoch 287/300\n",
      "9/9 - 0s - loss: 0.0036 - accuracy: 1.0000 - val_loss: 0.0035 - val_accuracy: 1.0000 - 43ms/epoch - 5ms/step\n",
      "Epoch 288/300\n",
      "9/9 - 0s - loss: 0.0035 - accuracy: 1.0000 - val_loss: 0.0035 - val_accuracy: 1.0000 - 41ms/epoch - 5ms/step\n",
      "Epoch 289/300\n",
      "9/9 - 0s - loss: 0.0035 - accuracy: 1.0000 - val_loss: 0.0034 - val_accuracy: 1.0000 - 41ms/epoch - 5ms/step\n",
      "Epoch 290/300\n",
      "9/9 - 0s - loss: 0.0034 - accuracy: 1.0000 - val_loss: 0.0034 - val_accuracy: 1.0000 - 45ms/epoch - 5ms/step\n",
      "Epoch 291/300\n",
      "9/9 - 0s - loss: 0.0034 - accuracy: 1.0000 - val_loss: 0.0034 - val_accuracy: 1.0000 - 41ms/epoch - 5ms/step\n",
      "Epoch 292/300\n",
      "9/9 - 0s - loss: 0.0033 - accuracy: 1.0000 - val_loss: 0.0033 - val_accuracy: 1.0000 - 43ms/epoch - 5ms/step\n",
      "Epoch 293/300\n",
      "9/9 - 0s - loss: 0.0033 - accuracy: 1.0000 - val_loss: 0.0033 - val_accuracy: 1.0000 - 42ms/epoch - 5ms/step\n",
      "Epoch 294/300\n",
      "9/9 - 0s - loss: 0.0033 - accuracy: 1.0000 - val_loss: 0.0033 - val_accuracy: 1.0000 - 45ms/epoch - 5ms/step\n",
      "Epoch 295/300\n",
      "9/9 - 0s - loss: 0.0033 - accuracy: 1.0000 - val_loss: 0.0032 - val_accuracy: 1.0000 - 44ms/epoch - 5ms/step\n",
      "Epoch 296/300\n",
      "9/9 - 0s - loss: 0.0032 - accuracy: 1.0000 - val_loss: 0.0032 - val_accuracy: 1.0000 - 43ms/epoch - 5ms/step\n",
      "Epoch 297/300\n",
      "9/9 - 0s - loss: 0.0032 - accuracy: 1.0000 - val_loss: 0.0031 - val_accuracy: 1.0000 - 46ms/epoch - 5ms/step\n",
      "Epoch 298/300\n",
      "9/9 - 0s - loss: 0.0031 - accuracy: 1.0000 - val_loss: 0.0031 - val_accuracy: 1.0000 - 44ms/epoch - 5ms/step\n",
      "Epoch 299/300\n",
      "9/9 - 0s - loss: 0.0031 - accuracy: 1.0000 - val_loss: 0.0031 - val_accuracy: 1.0000 - 45ms/epoch - 5ms/step\n",
      "Epoch 300/300\n",
      "9/9 - 0s - loss: 0.0031 - accuracy: 1.0000 - val_loss: 0.0030 - val_accuracy: 1.0000 - 44ms/epoch - 5ms/step\n"
     ]
    }
   ],
   "source": [
    "hist = model.fit(X_train, Y_train, # 훈련(학습)데이터\n",
    "                epochs=300, # 학습횟수\n",
    "                batch_size=10, # 가중치를 조정하는 단위\n",
    "                verbose=2, # 0:출력없음. 1:진행상황만출력, 2:에포크별 로그메세지 출력\n",
    "                validation_data=(X_val, Y_val) # 검증 데이터셋\n",
    "                )"
   ]
  },
  {
   "cell_type": "markdown",
   "id": "00447967",
   "metadata": {},
   "source": [
    "# 6. 모델과정 평가하기\n",
    "- 학습과정 중 loss와 평가지표(accuracy)살펴보기, evalate함수)"
   ]
  },
  {
   "cell_type": "code",
   "execution_count": 38,
   "id": "38f50f9a",
   "metadata": {},
   "outputs": [
    {
     "data": {
      "text/plain": [
       "dict_keys(['loss', 'accuracy', 'val_loss', 'val_accuracy'])"
      ]
     },
     "execution_count": 38,
     "metadata": {},
     "output_type": "execute_result"
    }
   ],
   "source": [
    "hist.history.keys()"
   ]
  },
  {
   "cell_type": "code",
   "execution_count": 59,
   "id": "7d44f44c",
   "metadata": {},
   "outputs": [
    {
     "data": {
      "image/png": "[encoded data removed]",
      "text/plain": [
       "<Figure size 1000x300 with 2 Axes>"
      ]
     },
     "metadata": {},
     "output_type": "display_data"
    }
   ],
   "source": [
    "# 학습과정 중의 loss와 accuracy\n",
    "import matplotlib.pyplot as plt\n",
    "fig, loss_ax = plt.subplots(figsize=(10,3))\n",
    "loss_ax.plot(hist.history['loss'], 'y', label='train loss')\n",
    "loss_ax.plot(hist.history['val_loss'], 'r', label= 'val loss')\n",
    "acc_ax = loss_ax.twinx() # loss_ax와 x축을 공유하는 acc_ax 생성\n",
    "acc_ax.plot(hist.history['accuracy'], 'g', label='train accuracy')\n",
    "acc_ax.plot(hist.history['val_accuracy'], 'b', label='val accuracy')\n",
    "loss_ax.set_xlabel('epoch')\n",
    "loss_ax.set_ylabel('loss')\n",
    "acc_ax.set_ylabel('accuracy')\n",
    "loss_ax.legend(loc='center')\n",
    "acc_ax.legend(loc='center right')\n",
    "plt.show()"
   ]
  },
  {
   "cell_type": "code",
   "execution_count": 62,
   "id": "3b5f2464",
   "metadata": {},
   "outputs": [
    {
     "name": "stdout",
     "output_type": "stream",
     "text": [
      "3/3 [==============================] - 0s 3ms/step - loss: 0.0030 - accuracy: 1.0000\n"
     ]
    }
   ],
   "source": [
    "# 모델 평가하기\n",
    "score = model.evaluate(X_val, Y_val, batch_size=3)"
   ]
  },
  {
   "cell_type": "code",
   "execution_count": 63,
   "id": "bfe804c9",
   "metadata": {},
   "outputs": [
    {
     "data": {
      "text/plain": [
       "[0.0030445405282080173, 1.0]"
      ]
     },
     "execution_count": 63,
     "metadata": {},
     "output_type": "execute_result"
    }
   ],
   "source": [
    "score"
   ]
  },
  {
   "cell_type": "code",
   "execution_count": 65,
   "id": "b45f6479",
   "metadata": {},
   "outputs": [
    {
     "name": "stdout",
     "output_type": "stream",
     "text": [
      "평가된 loss값 : 0.0030445405282080173\n",
      "평가된 accuracy : 100.0 %\n"
     ]
    }
   ],
   "source": [
    "print('평가된 loss값 :', score[0])\n",
    "print('평가된 accuracy :', score[1]*100,'%')"
   ]
  },
  {
   "cell_type": "markdown",
   "id": "15d226b6",
   "metadata": {},
   "source": [
    "# 7. 모델 사용하기(모델을 사용해서 예측하기)"
   ]
  },
  {
   "cell_type": "code",
   "execution_count": 66,
   "id": "e9a967f6",
   "metadata": {},
   "outputs": [
    {
     "name": "stdout",
     "output_type": "stream",
     "text": [
      "1/1 [==============================] - 0s 82ms/step\n"
     ]
    },
    {
     "data": {
      "text/plain": [
       "array([[1.5214900e-20, 1.4777252e-20, 1.5757653e-17, 2.5562956e-17,\n",
       "        6.4197742e-10, 2.5926472e-28, 1.3453648e-03, 1.6166401e-23,\n",
       "        9.9686509e-01, 6.3457972e-16, 1.7894176e-03, 9.6147880e-21,\n",
       "        9.1174073e-08, 2.7837101e-22, 7.9646836e-12, 9.4294132e-25,\n",
       "        2.5764799e-19, 3.3632818e-22, 0.0000000e+00]], dtype=float32)"
      ]
     },
     "execution_count": 66,
     "metadata": {},
     "output_type": "execute_result"
    }
   ],
   "source": [
    "H = model.predict(np.array([4]))\n",
    "H"
   ]
  },
  {
   "cell_type": "code",
   "execution_count": 67,
   "id": "48efe2c9",
   "metadata": {},
   "outputs": [
    {
     "name": "stdout",
     "output_type": "stream",
     "text": [
      "1/1 [==============================] - 0s 19ms/step\n"
     ]
    },
    {
     "data": {
      "text/plain": [
       "8"
      ]
     },
     "execution_count": 67,
     "metadata": {},
     "output_type": "execute_result"
    }
   ],
   "source": [
    "model.predict(np.array([4])).argmax()"
   ]
  },
  {
   "cell_type": "code",
   "execution_count": 69,
   "id": "542de677",
   "metadata": {},
   "outputs": [
    {
     "data": {
      "text/plain": [
       "0.9968651"
      ]
     },
     "execution_count": 69,
     "metadata": {},
     "output_type": "execute_result"
    }
   ],
   "source": [
    "# 몇%의 확률로 분류되었는지 \n",
    "H[0, H.argmax()]"
   ]
  },
  {
   "cell_type": "markdown",
   "id": "f04a4a24",
   "metadata": {},
   "source": [
    "# 7. 모델 저장하기"
   ]
  },
  {
   "cell_type": "code",
   "execution_count": 70,
   "id": "cc68e8f2",
   "metadata": {},
   "outputs": [],
   "source": [
    "model.save('model/2_deep_begin.h5')"
   ]
  },
  {
   "cell_type": "markdown",
   "id": "f60eaa9e",
   "metadata": {},
   "source": [
    "# 저장된 모델 사용하기"
   ]
  },
  {
   "cell_type": "code",
   "execution_count": 5,
   "id": "2ca49b00",
   "metadata": {},
   "outputs": [],
   "source": [
    "from tensorflow.keras.models import load_model\n",
    "import numpy as np\n",
    "model2 = load_model('model/2_deep_begin.h5')"
   ]
  },
  {
   "cell_type": "code",
   "execution_count": 7,
   "id": "fb815536",
   "metadata": {},
   "outputs": [
    {
     "name": "stdout",
     "output_type": "stream",
     "text": [
      "1/1 [==============================] - 0s 33ms/step\n"
     ]
    },
    {
     "data": {
      "text/plain": [
       "4"
      ]
     },
     "execution_count": 7,
     "metadata": {},
     "output_type": "execute_result"
    }
   ],
   "source": [
    "H = model2.predict(np.array([2]))\n",
    "H.argmax()"
   ]
  },
  {
   "cell_type": "code",
   "execution_count": 8,
   "id": "508bd1cd",
   "metadata": {},
   "outputs": [
    {
     "data": {
      "text/plain": [
       "0.99767274"
      ]
     },
     "execution_count": 8,
     "metadata": {},
     "output_type": "execute_result"
    }
   ],
   "source": [
    "# 몇%의 확률로 분류되었는지 \n",
    "H[0, H.argmax()]"
   ]
  },
  {
   "cell_type": "code",
   "execution_count": 14,
   "id": "0015c83f",
   "metadata": {},
   "outputs": [
    {
     "data": {
      "text/plain": [
       "[0.001, 0.998, 0.001]"
      ]
     },
     "execution_count": 14,
     "metadata": {},
     "output_type": "execute_result"
    }
   ],
   "source": [
    "[round(val, 3) for val in H[0, [2,4,6]] ]"
   ]
  },
  {
   "cell_type": "code",
   "execution_count": null,
   "id": "a23fa418",
   "metadata": {},
   "outputs": [],
   "source": []
  },
  {
   "cell_type": "code",
   "execution_count": null,
   "id": "256b882f",
   "metadata": {},
   "outputs": [],
   "source": []
  },
  {
   "cell_type": "code",
   "execution_count": null,
   "id": "68c2da44",
   "metadata": {},
   "outputs": [],
   "source": []
  }
 ],
 "metadata": {
  "kernelspec": {
   "display_name": "Python 3 (ipykernel)",
   "language": "python",
   "name": "python3"
  },
  "language_info": {
   "codemirror_mode": {
    "name": "ipython",
    "version": 3
   },
   "file_extension": ".py",
   "mimetype": "text/x-python",
   "name": "python",
   "nbconvert_exporter": "python",
   "pygments_lexer": "ipython3",
   "version": "3.10.9"
  },
  "toc": {
   "base_numbering": 1,
   "nav_menu": {},
   "number_sections": false,
   "sideBar": true,
   "skip_h1_title": false,
   "title_cell": "Table of Contents",
   "title_sidebar": "Contents",
   "toc_cell": false,
   "toc_position": {},
   "toc_section_display": true,
   "toc_window_display": false
  }
 },
 "nbformat": 4,
 "nbformat_minor": 5
}
