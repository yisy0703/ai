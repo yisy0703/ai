{
 "cells": [
  {
   "cell_type": "code",
   "execution_count": 45,
   "id": "8f9ebb3e",
   "metadata": {},
   "outputs": [
    {
     "data": {
      "text/html": [
       "\n",
       "<style>\n",
       "div.container{width:99% !important;}\n",
       "div.cell.code_cell.rendered{width:90%;}\n",
       "div.CodeMirror {font-family:Consolas; font-size:18pt;}\n",
       "div.output {font-size:19pt; font-weight:bold;}\n",
       "div.input {font-family:Consolas; font-size:19pt;}\n",
       "div.prompt {min-width:70px;}\n",
       "div#toc-wrapper{padding-top:120px;}\n",
       "span.toc-item-num{display:none;}\n",
       "div.text_cell_render ul li{font-size:16pt;padding:5px;}\n",
       "div.CodeMirror-lines > div {padding-left:10px;}\n",
       "table.dataframe{font-size:19px;}\n",
       "</style>\n"
      ],
      "text/plain": [
       "<IPython.core.display.HTML object>"
      ]
     },
     "metadata": {},
     "output_type": "display_data"
    }
   ],
   "source": [
    "from IPython.display import display, HTML\n",
    "display(HTML(\"\"\"\n",
    "<style>\n",
    "div.container{width:99% !important;}\n",
    "div.cell.code_cell.rendered{width:90%;}\n",
    "div.CodeMirror {font-family:Consolas; font-size:18pt;}\n",
    "div.output {font-size:19pt; font-weight:bold;}\n",
    "div.input {font-family:Consolas; font-size:19pt;}\n",
    "div.prompt {min-width:70px;}\n",
    "div#toc-wrapper{padding-top:120px;}\n",
    "span.toc-item-num{display:none;}\n",
    "div.text_cell_render ul li{font-size:16pt;padding:5px;}\n",
    "div.CodeMirror-lines > div {padding-left:10px;}\n",
    "table.dataframe{font-size:19px;}\n",
    "</style>\n",
    "\"\"\"))"
   ]
  },
  {
   "cell_type": "markdown",
   "id": "ee7fb975",
   "metadata": {},
   "source": [
    "전국 평균 평당 분양가격(2013년 9월부터 2015년 8월까지).csv (지역명, 평당분양가격, 연도, 월)\n",
    "- 지역명2 : 지역명필드는 라벨인코딩하여 추가\n",
    "- 평당분양가격n : 평당분양가격의 normalization 스케일 조정하여 추가\n",
    "- 평당분양가격s : 평당분양가격의 standardization 스케일 조정하여 추가\n",
    "- 연도n : 연도의 normalization 스케일 조정하여 추가\n",
    "- 연도s : 연도의 standardization 스케일 조정하여 추가\n",
    "- 월n   : 월의 normalization 스케일 조정하여 추가\n",
    "- 월s   : 월의 standardization 스케일 조정하여 추가"
   ]
  },
  {
   "cell_type": "markdown",
   "id": "53d337fb",
   "metadata": {},
   "source": [
    "## 1. 데이터 가져오기"
   ]
  },
  {
   "cell_type": "code",
   "execution_count": 79,
   "id": "830c65b8",
   "metadata": {},
   "outputs": [
    {
     "data": {
      "text/html": [
       "<div>\n",
       "<style scoped>\n",
       "    .dataframe tbody tr th:only-of-type {\n",
       "        vertical-align: middle;\n",
       "    }\n",
       "\n",
       "    .dataframe tbody tr th {\n",
       "        vertical-align: top;\n",
       "    }\n",
       "\n",
       "    .dataframe thead th {\n",
       "        text-align: right;\n",
       "    }\n",
       "</style>\n",
       "<table border=\"1\" class=\"dataframe\">\n",
       "  <thead>\n",
       "    <tr style=\"text-align: right;\">\n",
       "      <th></th>\n",
       "      <th>지역명</th>\n",
       "      <th>평당분양가격</th>\n",
       "      <th>연도</th>\n",
       "      <th>월</th>\n",
       "    </tr>\n",
       "  </thead>\n",
       "  <tbody>\n",
       "    <tr>\n",
       "      <th>0</th>\n",
       "      <td>서울</td>\n",
       "      <td>18189</td>\n",
       "      <td>2013</td>\n",
       "      <td>12</td>\n",
       "    </tr>\n",
       "    <tr>\n",
       "      <th>1</th>\n",
       "      <td>부산</td>\n",
       "      <td>8111</td>\n",
       "      <td>2013</td>\n",
       "      <td>12</td>\n",
       "    </tr>\n",
       "  </tbody>\n",
       "</table>\n",
       "</div>"
      ],
      "text/plain": [
       "  지역명  평당분양가격    연도   월\n",
       "0  서울   18189  2013  12\n",
       "1  부산    8111  2013  12"
      ]
     },
     "execution_count": 79,
     "metadata": {},
     "output_type": "execute_result"
    }
   ],
   "source": [
    "import pandas as pd\n",
    "csvdata = pd.read_csv(r'D:\\ai\\Downloads\\shareData\\전국 평균 평당 분양가격(2013년 9월부터 2015년 8월까지).csv',\n",
    "                encoding='cp949')\n",
    "df = csvdata.melt(id_vars=\"지역\", var_name=\"연도월\", value_name=\"평당분양가격\")\n",
    "df[\"연도\"] = df[\"연도월\"].apply(lambda x : int(x.split(\"년\")[0]))\n",
    "df[\"월\"] = df[\"연도월\"].apply(lambda x : int(x.split(\"년\")[-1][:-1]))\n",
    "df.drop('연도월', axis=1, inplace=True)\n",
    "df = df.rename(columns={'지역':'지역명'})\n",
    "df.head(2)"
   ]
  },
  {
   "cell_type": "markdown",
   "id": "fb9c5ab2",
   "metadata": {},
   "source": [
    "## 2. 지역명의 라벨 인코딩"
   ]
  },
  {
   "cell_type": "code",
   "execution_count": 80,
   "id": "4149c7ce",
   "metadata": {
    "scrolled": true
   },
   "outputs": [
    {
     "data": {
      "text/html": [
       "<div>\n",
       "<style scoped>\n",
       "    .dataframe tbody tr th:only-of-type {\n",
       "        vertical-align: middle;\n",
       "    }\n",
       "\n",
       "    .dataframe tbody tr th {\n",
       "        vertical-align: top;\n",
       "    }\n",
       "\n",
       "    .dataframe thead th {\n",
       "        text-align: right;\n",
       "    }\n",
       "</style>\n",
       "<table border=\"1\" class=\"dataframe\">\n",
       "  <thead>\n",
       "    <tr style=\"text-align: right;\">\n",
       "      <th></th>\n",
       "      <th>지역명</th>\n",
       "      <th>평당분양가격</th>\n",
       "      <th>연도</th>\n",
       "      <th>월</th>\n",
       "      <th>지역명2</th>\n",
       "    </tr>\n",
       "  </thead>\n",
       "  <tbody>\n",
       "    <tr>\n",
       "      <th>0</th>\n",
       "      <td>서울</td>\n",
       "      <td>18189</td>\n",
       "      <td>2013</td>\n",
       "      <td>12</td>\n",
       "      <td>8</td>\n",
       "    </tr>\n",
       "    <tr>\n",
       "      <th>1</th>\n",
       "      <td>부산</td>\n",
       "      <td>8111</td>\n",
       "      <td>2013</td>\n",
       "      <td>12</td>\n",
       "      <td>7</td>\n",
       "    </tr>\n",
       "    <tr>\n",
       "      <th>2</th>\n",
       "      <td>대구</td>\n",
       "      <td>8080</td>\n",
       "      <td>2013</td>\n",
       "      <td>12</td>\n",
       "      <td>5</td>\n",
       "    </tr>\n",
       "    <tr>\n",
       "      <th>3</th>\n",
       "      <td>인천</td>\n",
       "      <td>10204</td>\n",
       "      <td>2013</td>\n",
       "      <td>12</td>\n",
       "      <td>11</td>\n",
       "    </tr>\n",
       "    <tr>\n",
       "      <th>4</th>\n",
       "      <td>광주</td>\n",
       "      <td>6098</td>\n",
       "      <td>2013</td>\n",
       "      <td>12</td>\n",
       "      <td>4</td>\n",
       "    </tr>\n",
       "  </tbody>\n",
       "</table>\n",
       "</div>"
      ],
      "text/plain": [
       "  지역명  평당분양가격    연도   월  지역명2\n",
       "0  서울   18189  2013  12     8\n",
       "1  부산    8111  2013  12     7\n",
       "2  대구    8080  2013  12     5\n",
       "3  인천   10204  2013  12    11\n",
       "4  광주    6098  2013  12     4"
      ]
     },
     "execution_count": 80,
     "metadata": {},
     "output_type": "execute_result"
    }
   ],
   "source": [
    "from sklearn.preprocessing import LabelEncoder\n",
    "from tensorflow.keras.utils import to_categorical\n",
    "le = LabelEncoder()\n",
    "df['지역명2'] = le.fit_transform(df['지역명'])\n",
    "df.head()"
   ]
  },
  {
   "cell_type": "markdown",
   "id": "9d97b3a4",
   "metadata": {},
   "source": [
    "# 3. normalization 스케일 조정"
   ]
  },
  {
   "cell_type": "code",
   "execution_count": 89,
   "id": "843872a8",
   "metadata": {},
   "outputs": [
    {
     "data": {
      "text/html": [
       "<div>\n",
       "<style scoped>\n",
       "    .dataframe tbody tr th:only-of-type {\n",
       "        vertical-align: middle;\n",
       "    }\n",
       "\n",
       "    .dataframe tbody tr th {\n",
       "        vertical-align: top;\n",
       "    }\n",
       "\n",
       "    .dataframe thead th {\n",
       "        text-align: right;\n",
       "    }\n",
       "</style>\n",
       "<table border=\"1\" class=\"dataframe\">\n",
       "  <thead>\n",
       "    <tr style=\"text-align: right;\">\n",
       "      <th></th>\n",
       "      <th>지역명</th>\n",
       "      <th>지역명2</th>\n",
       "      <th>평당분양가격</th>\n",
       "      <th>평당분양가격n</th>\n",
       "      <th>평당분양가격s</th>\n",
       "      <th>연도</th>\n",
       "      <th>연도n</th>\n",
       "      <th>연도s</th>\n",
       "      <th>월</th>\n",
       "      <th>월n</th>\n",
       "      <th>월s</th>\n",
       "    </tr>\n",
       "  </thead>\n",
       "  <tbody>\n",
       "    <tr>\n",
       "      <th>0</th>\n",
       "      <td>서울</td>\n",
       "      <td>8</td>\n",
       "      <td>18189</td>\n",
       "      <td>0.835270</td>\n",
       "      <td>3.297226</td>\n",
       "      <td>2013</td>\n",
       "      <td>0.0</td>\n",
       "      <td>-2.366432</td>\n",
       "      <td>12</td>\n",
       "      <td>1.000000</td>\n",
       "      <td>1.767475</td>\n",
       "    </tr>\n",
       "    <tr>\n",
       "      <th>100</th>\n",
       "      <td>경남</td>\n",
       "      <td>2</td>\n",
       "      <td>6610</td>\n",
       "      <td>0.066463</td>\n",
       "      <td>-0.621248</td>\n",
       "      <td>2014</td>\n",
       "      <td>0.5</td>\n",
       "      <td>-0.591608</td>\n",
       "      <td>5</td>\n",
       "      <td>0.363636</td>\n",
       "      <td>-0.294579</td>\n",
       "    </tr>\n",
       "    <tr>\n",
       "      <th>200</th>\n",
       "      <td>전남</td>\n",
       "      <td>12</td>\n",
       "      <td>5768</td>\n",
       "      <td>0.010557</td>\n",
       "      <td>-0.906191</td>\n",
       "      <td>2014</td>\n",
       "      <td>0.5</td>\n",
       "      <td>-0.591608</td>\n",
       "      <td>11</td>\n",
       "      <td>0.909091</td>\n",
       "      <td>1.472896</td>\n",
       "    </tr>\n",
       "    <tr>\n",
       "      <th>300</th>\n",
       "      <td>충남</td>\n",
       "      <td>15</td>\n",
       "      <td>6975</td>\n",
       "      <td>0.090698</td>\n",
       "      <td>-0.497727</td>\n",
       "      <td>2015</td>\n",
       "      <td>1.0</td>\n",
       "      <td>1.183216</td>\n",
       "      <td>5</td>\n",
       "      <td>0.363636</td>\n",
       "      <td>-0.294579</td>\n",
       "    </tr>\n",
       "  </tbody>\n",
       "</table>\n",
       "</div>"
      ],
      "text/plain": [
       "    지역명  지역명2  평당분양가격   평당분양가격n   평당분양가격s    연도  연도n       연도s   월        월n  \\\n",
       "0    서울     8   18189  0.835270  3.297226  2013  0.0 -2.366432  12  1.000000   \n",
       "100  경남     2    6610  0.066463 -0.621248  2014  0.5 -0.591608   5  0.363636   \n",
       "200  전남    12    5768  0.010557 -0.906191  2014  0.5 -0.591608  11  0.909091   \n",
       "300  충남    15    6975  0.090698 -0.497727  2015  1.0  1.183216   5  0.363636   \n",
       "\n",
       "           월s  \n",
       "0    1.767475  \n",
       "100 -0.294579  \n",
       "200  1.472896  \n",
       "300 -0.294579  "
      ]
     },
     "execution_count": 89,
     "metadata": {},
     "output_type": "execute_result"
    }
   ],
   "source": [
    "from sklearn.preprocessing import MinMaxScaler\n",
    "import numpy as np\n",
    "year_scaler = MinMaxScaler()\n",
    "year_scaler.fit(np.array(df['연도']).reshape(-1,1))\n",
    "df['연도n']=pd.Series(year_scaler.transform(np.array(df['연도']).reshape(-1,1)).reshape(-1))\n",
    "mon_scaler = MinMaxScaler()\n",
    "mon_scaler.fit( np.array(df['월']).reshape(-1,1) )\n",
    "df['월n']=pd.Series(mon_scaler.transform(np.array(df['월']).reshape(-1,1)).reshape(-1))\n",
    "price_scaler = MinMaxScaler()\n",
    "price_scaler.fit( np.array(df['평당분양가격']).reshape(-1,1) )\n",
    "df['평당분양가격n']=pd.Series(price_scaler.transform(np.array(df['평당분양가격']).reshape(-1,1)).reshape(-1))\n",
    "df.loc[::100]"
   ]
  },
  {
   "cell_type": "markdown",
   "id": "5e0be3ba",
   "metadata": {},
   "source": [
    "# standardization "
   ]
  },
  {
   "cell_type": "code",
   "execution_count": 92,
   "id": "53d52d45",
   "metadata": {},
   "outputs": [
    {
     "data": {
      "text/html": [
       "<div>\n",
       "<style scoped>\n",
       "    .dataframe tbody tr th:only-of-type {\n",
       "        vertical-align: middle;\n",
       "    }\n",
       "\n",
       "    .dataframe tbody tr th {\n",
       "        vertical-align: top;\n",
       "    }\n",
       "\n",
       "    .dataframe thead th {\n",
       "        text-align: right;\n",
       "    }\n",
       "</style>\n",
       "<table border=\"1\" class=\"dataframe\">\n",
       "  <thead>\n",
       "    <tr style=\"text-align: right;\">\n",
       "      <th></th>\n",
       "      <th>지역명</th>\n",
       "      <th>지역명2</th>\n",
       "      <th>평당분양가격</th>\n",
       "      <th>평당분양가격n</th>\n",
       "      <th>평당분양가격s</th>\n",
       "      <th>연도</th>\n",
       "      <th>연도n</th>\n",
       "      <th>연도s</th>\n",
       "      <th>월</th>\n",
       "      <th>월n</th>\n",
       "      <th>월s</th>\n",
       "    </tr>\n",
       "  </thead>\n",
       "  <tbody>\n",
       "    <tr>\n",
       "      <th>0</th>\n",
       "      <td>서울</td>\n",
       "      <td>8</td>\n",
       "      <td>18189</td>\n",
       "      <td>0.835270</td>\n",
       "      <td>3.297226</td>\n",
       "      <td>2013</td>\n",
       "      <td>0.0</td>\n",
       "      <td>-2.366432</td>\n",
       "      <td>12</td>\n",
       "      <td>1.000000</td>\n",
       "      <td>1.767475</td>\n",
       "    </tr>\n",
       "    <tr>\n",
       "      <th>100</th>\n",
       "      <td>경남</td>\n",
       "      <td>2</td>\n",
       "      <td>6610</td>\n",
       "      <td>0.066463</td>\n",
       "      <td>-0.621248</td>\n",
       "      <td>2014</td>\n",
       "      <td>0.5</td>\n",
       "      <td>-0.591608</td>\n",
       "      <td>5</td>\n",
       "      <td>0.363636</td>\n",
       "      <td>-0.294579</td>\n",
       "    </tr>\n",
       "    <tr>\n",
       "      <th>200</th>\n",
       "      <td>전남</td>\n",
       "      <td>12</td>\n",
       "      <td>5768</td>\n",
       "      <td>0.010557</td>\n",
       "      <td>-0.906191</td>\n",
       "      <td>2014</td>\n",
       "      <td>0.5</td>\n",
       "      <td>-0.591608</td>\n",
       "      <td>11</td>\n",
       "      <td>0.909091</td>\n",
       "      <td>1.472896</td>\n",
       "    </tr>\n",
       "    <tr>\n",
       "      <th>300</th>\n",
       "      <td>충남</td>\n",
       "      <td>15</td>\n",
       "      <td>6975</td>\n",
       "      <td>0.090698</td>\n",
       "      <td>-0.497727</td>\n",
       "      <td>2015</td>\n",
       "      <td>1.0</td>\n",
       "      <td>1.183216</td>\n",
       "      <td>5</td>\n",
       "      <td>0.363636</td>\n",
       "      <td>-0.294579</td>\n",
       "    </tr>\n",
       "  </tbody>\n",
       "</table>\n",
       "</div>"
      ],
      "text/plain": [
       "    지역명  지역명2  평당분양가격   평당분양가격n   평당분양가격s    연도  연도n       연도s   월        월n  \\\n",
       "0    서울     8   18189  0.835270  3.297226  2013  0.0 -2.366432  12  1.000000   \n",
       "100  경남     2    6610  0.066463 -0.621248  2014  0.5 -0.591608   5  0.363636   \n",
       "200  전남    12    5768  0.010557 -0.906191  2014  0.5 -0.591608  11  0.909091   \n",
       "300  충남    15    6975  0.090698 -0.497727  2015  1.0  1.183216   5  0.363636   \n",
       "\n",
       "           월s  \n",
       "0    1.767475  \n",
       "100 -0.294579  \n",
       "200  1.472896  \n",
       "300 -0.294579  "
      ]
     },
     "execution_count": 92,
     "metadata": {},
     "output_type": "execute_result"
    }
   ],
   "source": [
    "from sklearn.preprocessing import StandardScaler\n",
    "import numpy as np\n",
    "year_scaler = StandardScaler()\n",
    "year_scaler.fit(np.array(df['연도']).reshape(-1,1))\n",
    "df['연도s']= year_scaler.transform(np.array(df['연도']).reshape(-1,1)).reshape(-1)\n",
    "\n",
    "mon_scaler = StandardScaler()\n",
    "mon_scaler.fit( np.array(df['월']).reshape(-1,1) )\n",
    "df['월s']=mon_scaler.transform(np.array(df['월']).reshape(-1,1))\n",
    "\n",
    "price_scaler = StandardScaler()\n",
    "price_scaler.fit( np.array(df['평당분양가격']).reshape(-1,1) )\n",
    "df['평당분양가격s']= price_scaler.transform(np.array(df['평당분양가격']).reshape(-1,1))\n",
    "\n",
    "df = df[['지역명','지역명2',\n",
    "    '평당분양가격','평당분양가격n','평당분양가격s',\n",
    "    '연도','연도n','연도s','월','월n','월s']]\n",
    "df.loc[::100]"
   ]
  },
  {
   "cell_type": "code",
   "execution_count": 86,
   "id": "1e138671",
   "metadata": {},
   "outputs": [
    {
     "data": {
      "text/plain": [
       "(357, 11)"
      ]
     },
     "execution_count": 86,
     "metadata": {},
     "output_type": "execute_result"
    }
   ],
   "source": [
    "df.shape"
   ]
  },
  {
   "cell_type": "code",
   "execution_count": null,
   "id": "00808a1a",
   "metadata": {},
   "outputs": [],
   "source": []
  },
  {
   "cell_type": "code",
   "execution_count": null,
   "id": "c8d3a31d",
   "metadata": {},
   "outputs": [],
   "source": []
  },
  {
   "cell_type": "code",
   "execution_count": null,
   "id": "a3c0a214",
   "metadata": {},
   "outputs": [],
   "source": []
  },
  {
   "cell_type": "code",
   "execution_count": null,
   "id": "a506591b",
   "metadata": {},
   "outputs": [],
   "source": []
  },
  {
   "cell_type": "code",
   "execution_count": null,
   "id": "be638a79",
   "metadata": {},
   "outputs": [],
   "source": []
  },
  {
   "cell_type": "code",
   "execution_count": null,
   "id": "3a6b3968",
   "metadata": {},
   "outputs": [],
   "source": []
  },
  {
   "cell_type": "code",
   "execution_count": null,
   "id": "0cf9716e",
   "metadata": {},
   "outputs": [],
   "source": []
  },
  {
   "cell_type": "code",
   "execution_count": null,
   "id": "806dc54d",
   "metadata": {},
   "outputs": [],
   "source": []
  },
  {
   "cell_type": "code",
   "execution_count": null,
   "id": "358853f1",
   "metadata": {},
   "outputs": [],
   "source": []
  }
 ],
 "metadata": {
  "kernelspec": {
   "display_name": "Python 3 (ipykernel)",
   "language": "python",
   "name": "python3"
  },
  "language_info": {
   "codemirror_mode": {
    "name": "ipython",
    "version": 3
   },
   "file_extension": ".py",
   "mimetype": "text/x-python",
   "name": "python",
   "nbconvert_exporter": "python",
   "pygments_lexer": "ipython3",
   "version": "3.10.9"
  },
  "toc": {
   "base_numbering": 1,
   "nav_menu": {},
   "number_sections": false,
   "sideBar": true,
   "skip_h1_title": false,
   "title_cell": "Table of Contents",
   "title_sidebar": "Contents",
   "toc_cell": false,
   "toc_position": {},
   "toc_section_display": true,
   "toc_window_display": false
  }
 },
 "nbformat": 4,
 "nbformat_minor": 5
}
