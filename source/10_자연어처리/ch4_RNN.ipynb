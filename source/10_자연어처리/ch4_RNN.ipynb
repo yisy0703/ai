{
 "cells": [
  {
   "cell_type": "code",
   "execution_count": 1,
   "id": "f36993e4",
   "metadata": {},
   "outputs": [
    {
     "data": {
      "text/html": [
       "\n",
       "<style>\n",
       "div.container{width:99% !important;}\n",
       "div.cell.code_cell.rendered{width:99%;}\n",
       "div.CodeMirror {font-family:Consolas; font-size:20pt;}\n",
       "div.output {font-size:18pt; font-weight:bold;}\n",
       "div.input {font-family:Consolas; font-size:19pt;}\n",
       "div.prompt {min-width:70px;}\n",
       "div#toc-wrapper{padding-top:120px;}\n",
       "span.toc-item-num{display:none;}\n",
       "div.text_cell_render ul li{font-size:16pt;padding:5px;}\n",
       "div.CodeMirror-lines > div {padding-left:10px;}\n",
       "table.dataframe{font-size:19px;}\n",
       "</style>\n"
      ],
      "text/plain": [
       "<IPython.core.display.HTML object>"
      ]
     },
     "metadata": {},
     "output_type": "display_data"
    }
   ],
   "source": [
    "from IPython.display import display, HTML\n",
    "display(HTML(\"\"\"\n",
    "<style>\n",
    "div.container{width:99% !important;}\n",
    "div.cell.code_cell.rendered{width:99%;}\n",
    "div.CodeMirror {font-family:Consolas; font-size:20pt;}\n",
    "div.output {font-size:18pt; font-weight:bold;}\n",
    "div.input {font-family:Consolas; font-size:19pt;}\n",
    "div.prompt {min-width:70px;}\n",
    "div#toc-wrapper{padding-top:120px;}\n",
    "span.toc-item-num{display:none;}\n",
    "div.text_cell_render ul li{font-size:16pt;padding:5px;}\n",
    "div.CodeMirror-lines > div {padding-left:10px;}\n",
    "table.dataframe{font-size:19px;}\n",
    "</style>\n",
    "\"\"\"))"
   ]
  },
  {
   "cell_type": "markdown",
   "id": "8762c08c",
   "metadata": {},
   "source": [
    "**<font size=\"5\" color=\"red\">ch4. RNN(Recurrent Neural Network 순환신경망</font>**\n",
    "# 1. 전처리"
   ]
  },
  {
   "cell_type": "code",
   "execution_count": 2,
   "id": "24d54f11",
   "metadata": {},
   "outputs": [],
   "source": [
    "text = \"\"\"경마장에 있는 말이 뛰고 있다\n",
    "그의 말이 법이다\n",
    "가는 말이 고와야 오는 말이 곱다\"\"\""
   ]
  },
  {
   "cell_type": "code",
   "execution_count": 3,
   "id": "27808188",
   "metadata": {},
   "outputs": [
    {
     "name": "stdout",
     "output_type": "stream",
     "text": [
      "[2, 3, 1, 4, 5, 6, 1, 7, 8, 1, 9, 10, 1, 11]\n",
      "{'말이': 1, '경마장에': 2, '있는': 3, '뛰고': 4, '있다': 5, '그의': 6, '법이다': 7, '가는': 8, '고와야': 9, '오는': 10, '곱다': 11}\n"
     ]
    }
   ],
   "source": [
    "from keras_preprocessing.text import Tokenizer\n",
    "t = Tokenizer()\n",
    "t.fit_on_texts([text])\n",
    "encoded = t.texts_to_sequences([text])[0]\n",
    "print(encoded)\n",
    "print(t.word_index)"
   ]
  },
  {
   "cell_type": "code",
   "execution_count": 8,
   "id": "14744fee",
   "metadata": {},
   "outputs": [
    {
     "name": "stdout",
     "output_type": "stream",
     "text": [
      "[[2, 1, 5], [1]]\n",
      "[2, 1, 5]\n"
     ]
    }
   ],
   "source": [
    "# 문자열 리스트을 인덱스 시퀀스로 반환\n",
    "print(t.texts_to_sequences(['경마장에 말이 있다','말이 뛰다']))\n",
    "print(t.texts_to_sequences(['경마장에 말이 있다'])[0])"
   ]
  },
  {
   "cell_type": "code",
   "execution_count": 11,
   "id": "1223ca34",
   "metadata": {},
   "outputs": [
    {
     "name": "stdout",
     "output_type": "stream",
     "text": [
      "[[0. 1. 0. 0. 1. 0. 0. 0. 0. 0. 0. 0.]]\n",
      "[[1, 4]]\n"
     ]
    }
   ],
   "source": [
    "print(t.texts_to_matrix(['말이 뛰고']))\n",
    "print(t.texts_to_sequences(['말이 뛰고']))"
   ]
  },
  {
   "cell_type": "code",
   "execution_count": null,
   "id": "7692d6a3",
   "metadata": {},
   "outputs": [],
   "source": [
    "text = \"\"\"경마장에 있는 말이 뛰고 있다\n",
    "그의 말이 법이다\n",
    "가는 말이 고와야 오는 말이 곱다\"\"\""
   ]
  },
  {
   "cell_type": "code",
   "execution_count": 23,
   "id": "1bd2930d",
   "metadata": {},
   "outputs": [
    {
     "name": "stdout",
     "output_type": "stream",
     "text": [
      "{'말이': 1, '경마장에': 2, '있는': 3, '뛰고': 4, '있다': 5, '그의': 6, '법이다': 7, '가는': 8, '고와야': 9, '오는': 10, '곱다': 11}\n",
      "2: 경마장에\n"
     ]
    }
   ],
   "source": [
    "print(t.word_index)\n",
    "for word, value in t.word_index.items():\n",
    "    if value==2:\n",
    "        print(\"2:\", word)\n",
    "        break"
   ]
  },
  {
   "cell_type": "code",
   "execution_count": 26,
   "id": "2589996b",
   "metadata": {},
   "outputs": [
    {
     "name": "stdout",
     "output_type": "stream",
     "text": [
      "원래 문장 : 경마장에 있는 말이 뛰고 있다\n",
      "encoded된 문장 : [2, 3, 1, 4, 5]\n",
      "원래 문장 : 그의 말이 법이다\n",
      "encoded된 문장 : [6, 1, 7]\n",
      "원래 문장 : 가는 말이 고와야 오는 말이 곱다\n",
      "encoded된 문장 : [8, 1, 9, 10, 1, 11]\n",
      "sequences와 해석을 출력\n",
      "[2:경마장에 3:있는 ]\n",
      "[2:경마장에 3:있는 1:말이 ]\n",
      "[2:경마장에 3:있는 1:말이 4:뛰고 ]\n",
      "[2:경마장에 3:있는 1:말이 4:뛰고 5:있다 ]\n",
      "[3:있는 1:말이 ]\n",
      "[3:있는 1:말이 4:뛰고 ]\n",
      "[3:있는 1:말이 4:뛰고 5:있다 ]\n",
      "[1:말이 4:뛰고 ]\n",
      "[1:말이 4:뛰고 5:있다 ]\n",
      "[4:뛰고 5:있다 ]\n",
      "[6:그의 1:말이 ]\n",
      "[6:그의 1:말이 7:법이다 ]\n",
      "[1:말이 7:법이다 ]\n",
      "[8:가는 1:말이 ]\n",
      "[8:가는 1:말이 9:고와야 ]\n",
      "[8:가는 1:말이 9:고와야 10:오는 ]\n",
      "[8:가는 1:말이 9:고와야 10:오는 1:말이 ]\n",
      "[8:가는 1:말이 9:고와야 10:오는 1:말이 11:곱다 ]\n",
      "[1:말이 9:고와야 ]\n",
      "[1:말이 9:고와야 10:오는 ]\n",
      "[1:말이 9:고와야 10:오는 1:말이 ]\n",
      "[1:말이 9:고와야 10:오는 1:말이 11:곱다 ]\n",
      "[9:고와야 10:오는 ]\n",
      "[9:고와야 10:오는 1:말이 ]\n",
      "[9:고와야 10:오는 1:말이 11:곱다 ]\n",
      "[10:오는 1:말이 ]\n",
      "[10:오는 1:말이 11:곱다 ]\n",
      "[1:말이 11:곱다 ]\n"
     ]
    }
   ],
   "source": [
    "# text를 학습시키기 위해 ['경마장에 있는', '경마장에 있는 말이', '경마장에 있는 말이 뛰고',...]\n",
    "sequences = []\n",
    "for line in text.split('\\n'):\n",
    "    print('원래 문장 :', line)\n",
    "    encoded = t.texts_to_sequences([line])[0]\n",
    "    print('encoded된 문장 :', encoded)\n",
    "    for i in range(0, len(encoded)-1): # 시작 index(빨간색 화살표)\n",
    "        for j in range(i+2, len(encoded)+1): # 끝나는 index(파란색 화살표)\n",
    "            sequences.append(encoded[i:j])\n",
    "# sequences\n",
    "print('sequences와 해석을 출력')\n",
    "for sequence in sequences:\n",
    "    print('[', end='')\n",
    "    for word_seq in sequence:\n",
    "        for word, value in t.word_index.items():\n",
    "            if word_seq==value:\n",
    "                print(\"{}:{}\".format(word_seq, word), end=' ')\n",
    "                break\n",
    "    print(']')"
   ]
  },
  {
   "cell_type": "code",
   "execution_count": 32,
   "id": "f80e0e66",
   "metadata": {},
   "outputs": [
    {
     "data": {
      "text/plain": [
       "[[2, 3],\n",
       " [2, 3, 1],\n",
       " [2, 3, 1, 4],\n",
       " [2, 3, 1, 4, 5],\n",
       " [3, 1],\n",
       " [3, 1, 4],\n",
       " [3, 1, 4, 5],\n",
       " [1, 4],\n",
       " [1, 4, 5],\n",
       " [4, 5],\n",
       " [6, 1],\n",
       " [6, 1, 7],\n",
       " [1, 7],\n",
       " [8, 1],\n",
       " [8, 1, 9],\n",
       " [8, 1, 9, 10],\n",
       " [8, 1, 9, 10, 1],\n",
       " [8, 1, 9, 10, 1, 11],\n",
       " [1, 9],\n",
       " [1, 9, 10],\n",
       " [1, 9, 10, 1],\n",
       " [1, 9, 10, 1, 11],\n",
       " [9, 10],\n",
       " [9, 10, 1],\n",
       " [9, 10, 1, 11],\n",
       " [10, 1],\n",
       " [10, 1, 11],\n",
       " [1, 11]]"
      ]
     },
     "execution_count": 32,
     "metadata": {},
     "output_type": "execute_result"
    }
   ],
   "source": [
    "sequences"
   ]
  },
  {
   "cell_type": "code",
   "execution_count": 31,
   "id": "375dc851",
   "metadata": {},
   "outputs": [
    {
     "name": "stdout",
     "output_type": "stream",
     "text": [
      "[2, 3, 4, 5, 2, 3, 4, 2, 3, 2, 2, 3, 2, 2, 3, 4, 5, 6, 2, 3, 4, 5, 2, 3, 4, 2, 3, 2]\n"
     ]
    }
   ],
   "source": [
    "# sequence별 len\n",
    "print([len(sequence) for sequence in sequences])"
   ]
  },
  {
   "cell_type": "code",
   "execution_count": 33,
   "id": "7beab325",
   "metadata": {},
   "outputs": [
    {
     "data": {
      "text/plain": [
       "6"
      ]
     },
     "execution_count": 33,
     "metadata": {},
     "output_type": "execute_result"
    }
   ],
   "source": [
    "my_len = max([len(sequence) for sequence in sequences])\n",
    "my_len"
   ]
  },
  {
   "cell_type": "code",
   "execution_count": 41,
   "id": "31f82285",
   "metadata": {},
   "outputs": [
    {
     "data": {
      "text/plain": [
       "(numpy.ndarray,\n",
       " (28, 6),\n",
       " array([[ 0,  0,  0,  0,  2,  3],\n",
       "        [ 0,  0,  0,  2,  3,  1],\n",
       "        [ 0,  0,  2,  3,  1,  4],\n",
       "        [ 0,  2,  3,  1,  4,  5],\n",
       "        [ 0,  0,  0,  0,  3,  1],\n",
       "        [ 0,  0,  0,  3,  1,  4],\n",
       "        [ 0,  0,  3,  1,  4,  5],\n",
       "        [ 0,  0,  0,  0,  1,  4],\n",
       "        [ 0,  0,  0,  1,  4,  5],\n",
       "        [ 0,  0,  0,  0,  4,  5],\n",
       "        [ 0,  0,  0,  0,  6,  1],\n",
       "        [ 0,  0,  0,  6,  1,  7],\n",
       "        [ 0,  0,  0,  0,  1,  7],\n",
       "        [ 0,  0,  0,  0,  8,  1],\n",
       "        [ 0,  0,  0,  8,  1,  9],\n",
       "        [ 0,  0,  8,  1,  9, 10],\n",
       "        [ 0,  8,  1,  9, 10,  1],\n",
       "        [ 8,  1,  9, 10,  1, 11],\n",
       "        [ 0,  0,  0,  0,  1,  9],\n",
       "        [ 0,  0,  0,  1,  9, 10],\n",
       "        [ 0,  0,  1,  9, 10,  1],\n",
       "        [ 0,  1,  9, 10,  1, 11],\n",
       "        [ 0,  0,  0,  0,  9, 10],\n",
       "        [ 0,  0,  0,  9, 10,  1],\n",
       "        [ 0,  0,  9, 10,  1, 11],\n",
       "        [ 0,  0,  0,  0, 10,  1],\n",
       "        [ 0,  0,  0, 10,  1, 11],\n",
       "        [ 0,  0,  0,  0,  1, 11]]))"
      ]
     },
     "execution_count": 41,
     "metadata": {},
     "output_type": "execute_result"
    }
   ],
   "source": [
    "# sequences를 훈련 가능하도록 6개열로 조정\n",
    "from tensorflow.keras.preprocessing.sequence import pad_sequences\n",
    "padded_sequences = pad_sequences(sequences=sequences, \n",
    "                                maxlen=my_len, # 최대 열수\n",
    "                                # padding='post',\n",
    "                                padding='pre', # 최대 열수보다 작은 경우 0을 채울 위치\n",
    "                                # truncating='post' # 최대 열수보다 많은 경우 데이터를 짜를 위치\n",
    "                                )\n",
    "type(padded_sequences), padded_sequences.shape, padded_sequences"
   ]
  },
  {
   "cell_type": "code",
   "execution_count": 43,
   "id": "ed35100c",
   "metadata": {},
   "outputs": [
    {
     "data": {
      "text/plain": [
       "array([ 3,  1,  4,  5,  1,  4,  5,  4,  5,  5,  1,  7,  7,  1,  9, 10,  1,\n",
       "       11,  9, 10,  1, 11, 10,  1, 11,  1, 11, 11])"
      ]
     },
     "execution_count": 43,
     "metadata": {},
     "output_type": "execute_result"
    }
   ],
   "source": [
    "# 독립변수(X)와 타겟변수(종속변수 y)로 분리\n",
    "X = padded_sequences[:, :-1]\n",
    "y = padded_sequences[:, -1]\n",
    "y"
   ]
  },
  {
   "cell_type": "code",
   "execution_count": 48,
   "id": "d44cba67",
   "metadata": {},
   "outputs": [],
   "source": [
    "# 단어 갯수\n",
    "vocab_size = len(t.word_index)"
   ]
  },
  {
   "cell_type": "code",
   "execution_count": 49,
   "id": "a36f6292",
   "metadata": {},
   "outputs": [
    {
     "data": {
      "text/plain": [
       "array([[0., 0., 0., 1., 0., 0., 0., 0., 0., 0., 0., 0.],\n",
       "       [0., 1., 0., 0., 0., 0., 0., 0., 0., 0., 0., 0.],\n",
       "       [0., 0., 0., 0., 1., 0., 0., 0., 0., 0., 0., 0.],\n",
       "       [0., 0., 0., 0., 0., 1., 0., 0., 0., 0., 0., 0.],\n",
       "       [0., 1., 0., 0., 0., 0., 0., 0., 0., 0., 0., 0.],\n",
       "       [0., 0., 0., 0., 1., 0., 0., 0., 0., 0., 0., 0.],\n",
       "       [0., 0., 0., 0., 0., 1., 0., 0., 0., 0., 0., 0.],\n",
       "       [0., 0., 0., 0., 1., 0., 0., 0., 0., 0., 0., 0.],\n",
       "       [0., 0., 0., 0., 0., 1., 0., 0., 0., 0., 0., 0.],\n",
       "       [0., 0., 0., 0., 0., 1., 0., 0., 0., 0., 0., 0.],\n",
       "       [0., 1., 0., 0., 0., 0., 0., 0., 0., 0., 0., 0.],\n",
       "       [0., 0., 0., 0., 0., 0., 0., 1., 0., 0., 0., 0.],\n",
       "       [0., 0., 0., 0., 0., 0., 0., 1., 0., 0., 0., 0.],\n",
       "       [0., 1., 0., 0., 0., 0., 0., 0., 0., 0., 0., 0.],\n",
       "       [0., 0., 0., 0., 0., 0., 0., 0., 0., 1., 0., 0.],\n",
       "       [0., 0., 0., 0., 0., 0., 0., 0., 0., 0., 1., 0.],\n",
       "       [0., 1., 0., 0., 0., 0., 0., 0., 0., 0., 0., 0.],\n",
       "       [0., 0., 0., 0., 0., 0., 0., 0., 0., 0., 0., 1.],\n",
       "       [0., 0., 0., 0., 0., 0., 0., 0., 0., 1., 0., 0.],\n",
       "       [0., 0., 0., 0., 0., 0., 0., 0., 0., 0., 1., 0.],\n",
       "       [0., 1., 0., 0., 0., 0., 0., 0., 0., 0., 0., 0.],\n",
       "       [0., 0., 0., 0., 0., 0., 0., 0., 0., 0., 0., 1.],\n",
       "       [0., 0., 0., 0., 0., 0., 0., 0., 0., 0., 1., 0.],\n",
       "       [0., 1., 0., 0., 0., 0., 0., 0., 0., 0., 0., 0.],\n",
       "       [0., 0., 0., 0., 0., 0., 0., 0., 0., 0., 0., 1.],\n",
       "       [0., 1., 0., 0., 0., 0., 0., 0., 0., 0., 0., 0.],\n",
       "       [0., 0., 0., 0., 0., 0., 0., 0., 0., 0., 0., 1.],\n",
       "       [0., 0., 0., 0., 0., 0., 0., 0., 0., 0., 0., 1.]], dtype=float32)"
      ]
     },
     "execution_count": 49,
     "metadata": {},
     "output_type": "execute_result"
    }
   ],
   "source": [
    "# 원핫인코딩\n",
    "from tensorflow.keras.utils import to_categorical\n",
    "Y = to_categorical(y, \n",
    "                   vocab_size+1) # 원핫인코딩 카테고리 수\n",
    "Y"
   ]
  },
  {
   "cell_type": "code",
   "execution_count": 50,
   "id": "20072c7d",
   "metadata": {},
   "outputs": [
    {
     "data": {
      "text/plain": [
       "((28, 5), (28, 12))"
      ]
     },
     "execution_count": 50,
     "metadata": {},
     "output_type": "execute_result"
    }
   ],
   "source": [
    "X.shape, Y.shape"
   ]
  },
  {
   "cell_type": "markdown",
   "id": "663840dd",
   "metadata": {},
   "source": [
    "# 2. 모델 생성 (RNN)\n",
    "- 순서가 의미 있는 데이터를 학습할 경우 ex. 자연어처리, 연주, 주식, 날씨, ....."
   ]
  },
  {
   "cell_type": "code",
   "execution_count": 65,
   "id": "b752c034",
   "metadata": {},
   "outputs": [
    {
     "name": "stdout",
     "output_type": "stream",
     "text": [
      "Model: \"sequential_7\"\n",
      "_________________________________________________________________\n",
      " Layer (type)                Output Shape              Param #   \n",
      "=================================================================\n",
      " embedding_7 (Embedding)     (None, 5, 10)             120       \n",
      "                                                                 \n",
      " simple_rnn_6 (SimpleRNN)    (None, 32)                1376      \n",
      "                                                                 \n",
      " dense_5 (Dense)             (None, 12)                396       \n",
      "                                                                 \n",
      "=================================================================\n",
      "Total params: 1,892\n",
      "Trainable params: 1,892\n",
      "Non-trainable params: 0\n",
      "_________________________________________________________________\n",
      "None\n"
     ]
    }
   ],
   "source": [
    "from tensorflow.keras.models import Sequential # 순차적 레이어 모델 생성\n",
    "from tensorflow.keras.layers import Embedding, SimpleRNN # 긴 희소행렬변환, RNN\n",
    "from tensorflow.keras.layers import Dense\n",
    "\n",
    "model = Sequential()\n",
    "# 희소행렬(12열) -> 10열 행렬 (28개=독립변수 행수)\n",
    "model.add(Embedding(input_dim=vocab_size+1, # 12개 입력\n",
    "                    output_dim=vocab_size-1, #10개 출력하기 위한 embedding\n",
    "                    input_length=X.shape[1])) # 데이터 수\n",
    "model.add(SimpleRNN(32))\n",
    "model.add(Dense(units=12, activation=\"softmax\"))\n",
    "print(model.summary())"
   ]
  },
  {
   "cell_type": "markdown",
   "id": "3423cc4f",
   "metadata": {},
   "source": [
    "# 3. 학습과정 설정 및 학습하기"
   ]
  },
  {
   "cell_type": "code",
   "execution_count": 66,
   "id": "f91d0b1a",
   "metadata": {},
   "outputs": [
    {
     "name": "stdout",
     "output_type": "stream",
     "text": [
      "Epoch 1/300\n",
      "1/1 - 1s - loss: 2.4831 - accuracy: 0.0000e+00 - 722ms/epoch - 722ms/step\n",
      "Epoch 2/300\n",
      "1/1 - 0s - loss: 2.4717 - accuracy: 0.1071 - 13ms/epoch - 13ms/step\n",
      "Epoch 3/300\n",
      "1/1 - 0s - loss: 2.4604 - accuracy: 0.1429 - 16ms/epoch - 16ms/step\n",
      "Epoch 4/300\n",
      "1/1 - 0s - loss: 2.4491 - accuracy: 0.2500 - 17ms/epoch - 17ms/step\n",
      "Epoch 5/300\n",
      "1/1 - 0s - loss: 2.4377 - accuracy: 0.2500 - 14ms/epoch - 14ms/step\n",
      "Epoch 6/300\n",
      "1/1 - 0s - loss: 2.4261 - accuracy: 0.3929 - 0s/epoch - 0s/step\n",
      "Epoch 7/300\n",
      "1/1 - 0s - loss: 2.4142 - accuracy: 0.4286 - 2ms/epoch - 2ms/step\n",
      "Epoch 8/300\n",
      "1/1 - 0s - loss: 2.4020 - accuracy: 0.4286 - 2ms/epoch - 2ms/step\n",
      "Epoch 9/300\n",
      "1/1 - 0s - loss: 2.3893 - accuracy: 0.4286 - 17ms/epoch - 17ms/step\n",
      "Epoch 10/300\n",
      "1/1 - 0s - loss: 2.3762 - accuracy: 0.3929 - 17ms/epoch - 17ms/step\n",
      "Epoch 11/300\n",
      "1/1 - 0s - loss: 2.3625 - accuracy: 0.3929 - 16ms/epoch - 16ms/step\n",
      "Epoch 12/300\n",
      "1/1 - 0s - loss: 2.3482 - accuracy: 0.3929 - 2ms/epoch - 2ms/step\n",
      "Epoch 13/300\n",
      "1/1 - 0s - loss: 2.3333 - accuracy: 0.3929 - 4ms/epoch - 4ms/step\n",
      "Epoch 14/300\n",
      "1/1 - 0s - loss: 2.3176 - accuracy: 0.4286 - 16ms/epoch - 16ms/step\n",
      "Epoch 15/300\n",
      "1/1 - 0s - loss: 2.3012 - accuracy: 0.4286 - 15ms/epoch - 15ms/step\n",
      "Epoch 16/300\n",
      "1/1 - 0s - loss: 2.2840 - accuracy: 0.3929 - 0s/epoch - 0s/step\n",
      "Epoch 17/300\n",
      "1/1 - 0s - loss: 2.2660 - accuracy: 0.3929 - 2ms/epoch - 2ms/step\n",
      "Epoch 18/300\n",
      "1/1 - 0s - loss: 2.2472 - accuracy: 0.3571 - 17ms/epoch - 17ms/step\n",
      "Epoch 19/300\n",
      "1/1 - 0s - loss: 2.2276 - accuracy: 0.3571 - 16ms/epoch - 16ms/step\n",
      "Epoch 20/300\n",
      "1/1 - 0s - loss: 2.2073 - accuracy: 0.3571 - 15ms/epoch - 15ms/step\n",
      "Epoch 21/300\n",
      "1/1 - 0s - loss: 2.1864 - accuracy: 0.3571 - 0s/epoch - 0s/step\n",
      "Epoch 22/300\n",
      "1/1 - 0s - loss: 2.1649 - accuracy: 0.3571 - 2ms/epoch - 2ms/step\n",
      "Epoch 23/300\n",
      "1/1 - 0s - loss: 2.1431 - accuracy: 0.3571 - 17ms/epoch - 17ms/step\n",
      "Epoch 24/300\n",
      "1/1 - 0s - loss: 2.1210 - accuracy: 0.3571 - 16ms/epoch - 16ms/step\n",
      "Epoch 25/300\n",
      "1/1 - 0s - loss: 2.0990 - accuracy: 0.3571 - 13ms/epoch - 13ms/step\n",
      "Epoch 26/300\n",
      "1/1 - 0s - loss: 2.0773 - accuracy: 0.3571 - 620us/epoch - 620us/step\n",
      "Epoch 27/300\n",
      "1/1 - 0s - loss: 2.0561 - accuracy: 0.3571 - 17ms/epoch - 17ms/step\n",
      "Epoch 28/300\n",
      "1/1 - 0s - loss: 2.0357 - accuracy: 0.3571 - 16ms/epoch - 16ms/step\n",
      "Epoch 29/300\n",
      "1/1 - 0s - loss: 2.0163 - accuracy: 0.3571 - 0s/epoch - 0s/step\n",
      "Epoch 30/300\n",
      "1/1 - 0s - loss: 1.9982 - accuracy: 0.3571 - 0s/epoch - 0s/step\n",
      "Epoch 31/300\n",
      "1/1 - 0s - loss: 1.9814 - accuracy: 0.3571 - 17ms/epoch - 17ms/step\n",
      "Epoch 32/300\n",
      "1/1 - 0s - loss: 1.9660 - accuracy: 0.3571 - 17ms/epoch - 17ms/step\n",
      "Epoch 33/300\n",
      "1/1 - 0s - loss: 1.9518 - accuracy: 0.3571 - 14ms/epoch - 14ms/step\n",
      "Epoch 34/300\n",
      "1/1 - 0s - loss: 1.9386 - accuracy: 0.3571 - 0s/epoch - 0s/step\n",
      "Epoch 35/300\n",
      "1/1 - 0s - loss: 1.9262 - accuracy: 0.3571 - 18ms/epoch - 18ms/step\n",
      "Epoch 36/300\n",
      "1/1 - 0s - loss: 1.9143 - accuracy: 0.3571 - 20ms/epoch - 20ms/step\n",
      "Epoch 37/300\n",
      "1/1 - 0s - loss: 1.9026 - accuracy: 0.3571 - 10ms/epoch - 10ms/step\n",
      "Epoch 38/300\n",
      "1/1 - 0s - loss: 1.8910 - accuracy: 0.3571 - 0s/epoch - 0s/step\n",
      "Epoch 39/300\n",
      "1/1 - 0s - loss: 1.8792 - accuracy: 0.3571 - 3ms/epoch - 3ms/step\n",
      "Epoch 40/300\n",
      "1/1 - 0s - loss: 1.8672 - accuracy: 0.3571 - 18ms/epoch - 18ms/step\n",
      "Epoch 41/300\n",
      "1/1 - 0s - loss: 1.8550 - accuracy: 0.3571 - 14ms/epoch - 14ms/step\n",
      "Epoch 42/300\n",
      "1/1 - 0s - loss: 1.8427 - accuracy: 0.3571 - 0s/epoch - 0s/step\n",
      "Epoch 43/300\n",
      "1/1 - 0s - loss: 1.8303 - accuracy: 0.3571 - 17ms/epoch - 17ms/step\n",
      "Epoch 44/300\n",
      "1/1 - 0s - loss: 1.8179 - accuracy: 0.3571 - 16ms/epoch - 16ms/step\n",
      "Epoch 45/300\n",
      "1/1 - 0s - loss: 1.8056 - accuracy: 0.3571 - 14ms/epoch - 14ms/step\n",
      "Epoch 46/300\n",
      "1/1 - 0s - loss: 1.7934 - accuracy: 0.3929 - 0s/epoch - 0s/step\n",
      "Epoch 47/300\n",
      "1/1 - 0s - loss: 1.7815 - accuracy: 0.3929 - 17ms/epoch - 17ms/step\n",
      "Epoch 48/300\n",
      "1/1 - 0s - loss: 1.7697 - accuracy: 0.4286 - 17ms/epoch - 17ms/step\n",
      "Epoch 49/300\n",
      "1/1 - 0s - loss: 1.7580 - accuracy: 0.4286 - 14ms/epoch - 14ms/step\n",
      "Epoch 50/300\n",
      "1/1 - 0s - loss: 1.7465 - accuracy: 0.4286 - 0s/epoch - 0s/step\n",
      "Epoch 51/300\n",
      "1/1 - 0s - loss: 1.7351 - accuracy: 0.4286 - 18ms/epoch - 18ms/step\n",
      "Epoch 52/300\n",
      "1/1 - 0s - loss: 1.7237 - accuracy: 0.4286 - 16ms/epoch - 16ms/step\n",
      "Epoch 53/300\n",
      "1/1 - 0s - loss: 1.7123 - accuracy: 0.4286 - 14ms/epoch - 14ms/step\n",
      "Epoch 54/300\n",
      "1/1 - 0s - loss: 1.7008 - accuracy: 0.4286 - 0s/epoch - 0s/step\n",
      "Epoch 55/300\n",
      "1/1 - 0s - loss: 1.6893 - accuracy: 0.4286 - 18ms/epoch - 18ms/step\n",
      "Epoch 56/300\n",
      "1/1 - 0s - loss: 1.6776 - accuracy: 0.4643 - 15ms/epoch - 15ms/step\n",
      "Epoch 57/300\n",
      "1/1 - 0s - loss: 1.6658 - accuracy: 0.4643 - 15ms/epoch - 15ms/step\n",
      "Epoch 58/300\n",
      "1/1 - 0s - loss: 1.6538 - accuracy: 0.4643 - 0s/epoch - 0s/step\n",
      "Epoch 59/300\n",
      "1/1 - 0s - loss: 1.6417 - accuracy: 0.5000 - 17ms/epoch - 17ms/step\n",
      "Epoch 60/300\n",
      "1/1 - 0s - loss: 1.6295 - accuracy: 0.5357 - 18ms/epoch - 18ms/step\n",
      "Epoch 61/300\n",
      "1/1 - 0s - loss: 1.6172 - accuracy: 0.5357 - 12ms/epoch - 12ms/step\n",
      "Epoch 62/300\n",
      "1/1 - 0s - loss: 1.6048 - accuracy: 0.5357 - 17ms/epoch - 17ms/step\n",
      "Epoch 63/300\n",
      "1/1 - 0s - loss: 1.5923 - accuracy: 0.5357 - 15ms/epoch - 15ms/step\n",
      "Epoch 64/300\n",
      "1/1 - 0s - loss: 1.5798 - accuracy: 0.5357 - 0s/epoch - 0s/step\n",
      "Epoch 65/300\n",
      "1/1 - 0s - loss: 1.5673 - accuracy: 0.5357 - 17ms/epoch - 17ms/step\n",
      "Epoch 66/300\n",
      "1/1 - 0s - loss: 1.5548 - accuracy: 0.5357 - 17ms/epoch - 17ms/step\n",
      "Epoch 67/300\n",
      "1/1 - 0s - loss: 1.5423 - accuracy: 0.5357 - 14ms/epoch - 14ms/step\n",
      "Epoch 68/300\n",
      "1/1 - 0s - loss: 1.5297 - accuracy: 0.5357 - 0s/epoch - 0s/step\n",
      "Epoch 69/300\n",
      "1/1 - 0s - loss: 1.5173 - accuracy: 0.5357 - 3ms/epoch - 3ms/step\n",
      "Epoch 70/300\n",
      "1/1 - 0s - loss: 1.5048 - accuracy: 0.5357 - 16ms/epoch - 16ms/step\n",
      "Epoch 71/300\n",
      "1/1 - 0s - loss: 1.4924 - accuracy: 0.5357 - 15ms/epoch - 15ms/step\n",
      "Epoch 72/300\n",
      "1/1 - 0s - loss: 1.4800 - accuracy: 0.5357 - 0s/epoch - 0s/step\n",
      "Epoch 73/300\n",
      "1/1 - 0s - loss: 1.4676 - accuracy: 0.5357 - 4ms/epoch - 4ms/step\n",
      "Epoch 74/300\n",
      "1/1 - 0s - loss: 1.4553 - accuracy: 0.5357 - 16ms/epoch - 16ms/step\n",
      "Epoch 75/300\n",
      "1/1 - 0s - loss: 1.4430 - accuracy: 0.5357 - 15ms/epoch - 15ms/step\n",
      "Epoch 76/300\n",
      "1/1 - 0s - loss: 1.4308 - accuracy: 0.5357 - 0s/epoch - 0s/step\n",
      "Epoch 77/300\n",
      "1/1 - 0s - loss: 1.4186 - accuracy: 0.5357 - 3ms/epoch - 3ms/step\n",
      "Epoch 78/300\n",
      "1/1 - 0s - loss: 1.4065 - accuracy: 0.5357 - 17ms/epoch - 17ms/step\n",
      "Epoch 79/300\n",
      "1/1 - 0s - loss: 1.3944 - accuracy: 0.5357 - 17ms/epoch - 17ms/step\n",
      "Epoch 80/300\n",
      "1/1 - 0s - loss: 1.3824 - accuracy: 0.5357 - 0s/epoch - 0s/step\n",
      "Epoch 81/300\n",
      "1/1 - 0s - loss: 1.3704 - accuracy: 0.5714 - 3ms/epoch - 3ms/step\n",
      "Epoch 82/300\n",
      "1/1 - 0s - loss: 1.3586 - accuracy: 0.5714 - 16ms/epoch - 16ms/step\n",
      "Epoch 83/300\n",
      "1/1 - 0s - loss: 1.3468 - accuracy: 0.5714 - 14ms/epoch - 14ms/step\n",
      "Epoch 84/300\n",
      "1/1 - 0s - loss: 1.3350 - accuracy: 0.5714 - 0s/epoch - 0s/step\n",
      "Epoch 85/300\n",
      "1/1 - 0s - loss: 1.3234 - accuracy: 0.5714 - 16ms/epoch - 16ms/step\n",
      "Epoch 86/300\n",
      "1/1 - 0s - loss: 1.3118 - accuracy: 0.5714 - 17ms/epoch - 17ms/step\n",
      "Epoch 87/300\n",
      "1/1 - 0s - loss: 1.3003 - accuracy: 0.5714 - 12ms/epoch - 12ms/step\n",
      "Epoch 88/300\n",
      "1/1 - 0s - loss: 1.2889 - accuracy: 0.5714 - 1ms/epoch - 1ms/step\n",
      "Epoch 89/300\n",
      "1/1 - 0s - loss: 1.2776 - accuracy: 0.5714 - 18ms/epoch - 18ms/step\n",
      "Epoch 90/300\n",
      "1/1 - 0s - loss: 1.2663 - accuracy: 0.5714 - 16ms/epoch - 16ms/step\n",
      "Epoch 91/300\n",
      "1/1 - 0s - loss: 1.2552 - accuracy: 0.5714 - 0s/epoch - 0s/step\n",
      "Epoch 92/300\n",
      "1/1 - 0s - loss: 1.2441 - accuracy: 0.5714 - 3ms/epoch - 3ms/step\n",
      "Epoch 93/300\n",
      "1/1 - 0s - loss: 1.2332 - accuracy: 0.5714 - 16ms/epoch - 16ms/step\n",
      "Epoch 94/300\n",
      "1/1 - 0s - loss: 1.2223 - accuracy: 0.5714 - 15ms/epoch - 15ms/step\n",
      "Epoch 95/300\n",
      "1/1 - 0s - loss: 1.2115 - accuracy: 0.5714 - 0s/epoch - 0s/step\n",
      "Epoch 96/300\n",
      "1/1 - 0s - loss: 1.2009 - accuracy: 0.5714 - 3ms/epoch - 3ms/step\n",
      "Epoch 97/300\n",
      "1/1 - 0s - loss: 1.1903 - accuracy: 0.5714 - 18ms/epoch - 18ms/step\n",
      "Epoch 98/300\n",
      "1/1 - 0s - loss: 1.1799 - accuracy: 0.5714 - 12ms/epoch - 12ms/step\n",
      "Epoch 99/300\n",
      "1/1 - 0s - loss: 1.1695 - accuracy: 0.5714 - 0s/epoch - 0s/step\n",
      "Epoch 100/300\n",
      "1/1 - 0s - loss: 1.1593 - accuracy: 0.5714 - 17ms/epoch - 17ms/step\n",
      "Epoch 101/300\n",
      "1/1 - 0s - loss: 1.1492 - accuracy: 0.5714 - 17ms/epoch - 17ms/step\n",
      "Epoch 102/300\n",
      "1/1 - 0s - loss: 1.1392 - accuracy: 0.6071 - 0s/epoch - 0s/step\n",
      "Epoch 103/300\n",
      "1/1 - 0s - loss: 1.1293 - accuracy: 0.6071 - 3ms/epoch - 3ms/step\n"
     ]
    },
    {
     "name": "stdout",
     "output_type": "stream",
     "text": [
      "Epoch 104/300\n",
      "1/1 - 0s - loss: 1.1196 - accuracy: 0.6071 - 16ms/epoch - 16ms/step\n",
      "Epoch 105/300\n",
      "1/1 - 0s - loss: 1.1099 - accuracy: 0.6071 - 15ms/epoch - 15ms/step\n",
      "Epoch 106/300\n",
      "1/1 - 0s - loss: 1.1004 - accuracy: 0.6071 - 0s/epoch - 0s/step\n",
      "Epoch 107/300\n",
      "1/1 - 0s - loss: 1.0910 - accuracy: 0.6071 - 2ms/epoch - 2ms/step\n",
      "Epoch 108/300\n",
      "1/1 - 0s - loss: 1.0817 - accuracy: 0.6071 - 17ms/epoch - 17ms/step\n",
      "Epoch 109/300\n",
      "1/1 - 0s - loss: 1.0725 - accuracy: 0.6071 - 16ms/epoch - 16ms/step\n",
      "Epoch 110/300\n",
      "1/1 - 0s - loss: 1.0635 - accuracy: 0.6071 - 0s/epoch - 0s/step\n",
      "Epoch 111/300\n",
      "1/1 - 0s - loss: 1.0545 - accuracy: 0.6071 - 17ms/epoch - 17ms/step\n",
      "Epoch 112/300\n",
      "1/1 - 0s - loss: 1.0457 - accuracy: 0.6071 - 17ms/epoch - 17ms/step\n",
      "Epoch 113/300\n",
      "1/1 - 0s - loss: 1.0370 - accuracy: 0.6429 - 16ms/epoch - 16ms/step\n",
      "Epoch 114/300\n",
      "1/1 - 0s - loss: 1.0283 - accuracy: 0.6429 - 0s/epoch - 0s/step\n",
      "Epoch 115/300\n",
      "1/1 - 0s - loss: 1.0198 - accuracy: 0.6429 - 17ms/epoch - 17ms/step\n",
      "Epoch 116/300\n",
      "1/1 - 0s - loss: 1.0114 - accuracy: 0.6429 - 17ms/epoch - 17ms/step\n",
      "Epoch 117/300\n",
      "1/1 - 0s - loss: 1.0031 - accuracy: 0.6429 - 0s/epoch - 0s/step\n",
      "Epoch 118/300\n",
      "1/1 - 0s - loss: 0.9949 - accuracy: 0.6429 - 750us/epoch - 750us/step\n",
      "Epoch 119/300\n",
      "1/1 - 0s - loss: 0.9867 - accuracy: 0.6429 - 17ms/epoch - 17ms/step\n",
      "Epoch 120/300\n",
      "1/1 - 0s - loss: 0.9787 - accuracy: 0.6429 - 15ms/epoch - 15ms/step\n",
      "Epoch 121/300\n",
      "1/1 - 0s - loss: 0.9707 - accuracy: 0.6429 - 0s/epoch - 0s/step\n",
      "Epoch 122/300\n",
      "1/1 - 0s - loss: 0.9629 - accuracy: 0.6429 - 17ms/epoch - 17ms/step\n",
      "Epoch 123/300\n",
      "1/1 - 0s - loss: 0.9551 - accuracy: 0.6429 - 16ms/epoch - 16ms/step\n",
      "Epoch 124/300\n",
      "1/1 - 0s - loss: 0.9474 - accuracy: 0.6786 - 0s/epoch - 0s/step\n",
      "Epoch 125/300\n",
      "1/1 - 0s - loss: 0.9398 - accuracy: 0.6786 - 640us/epoch - 640us/step\n",
      "Epoch 126/300\n",
      "1/1 - 0s - loss: 0.9323 - accuracy: 0.6786 - 17ms/epoch - 17ms/step\n",
      "Epoch 127/300\n",
      "1/1 - 0s - loss: 0.9248 - accuracy: 0.6786 - 15ms/epoch - 15ms/step\n",
      "Epoch 128/300\n",
      "1/1 - 0s - loss: 0.9174 - accuracy: 0.6786 - 0s/epoch - 0s/step\n",
      "Epoch 129/300\n",
      "1/1 - 0s - loss: 0.9101 - accuracy: 0.7143 - 17ms/epoch - 17ms/step\n",
      "Epoch 130/300\n",
      "1/1 - 0s - loss: 0.9029 - accuracy: 0.7143 - 16ms/epoch - 16ms/step\n",
      "Epoch 131/300\n",
      "1/1 - 0s - loss: 0.8957 - accuracy: 0.7143 - 0s/epoch - 0s/step\n",
      "Epoch 132/300\n",
      "1/1 - 0s - loss: 0.8887 - accuracy: 0.7500 - 1ms/epoch - 1ms/step\n",
      "Epoch 133/300\n",
      "1/1 - 0s - loss: 0.8816 - accuracy: 0.7500 - 18ms/epoch - 18ms/step\n",
      "Epoch 134/300\n",
      "1/1 - 0s - loss: 0.8747 - accuracy: 0.7500 - 16ms/epoch - 16ms/step\n",
      "Epoch 135/300\n",
      "1/1 - 0s - loss: 0.8678 - accuracy: 0.7500 - 0s/epoch - 0s/step\n",
      "Epoch 136/300\n",
      "1/1 - 0s - loss: 0.8609 - accuracy: 0.7500 - 2ms/epoch - 2ms/step\n",
      "Epoch 137/300\n",
      "1/1 - 0s - loss: 0.8542 - accuracy: 0.7500 - 17ms/epoch - 17ms/step\n",
      "Epoch 138/300\n",
      "1/1 - 0s - loss: 0.8474 - accuracy: 0.7500 - 16ms/epoch - 16ms/step\n",
      "Epoch 139/300\n",
      "1/1 - 0s - loss: 0.8408 - accuracy: 0.7500 - 0s/epoch - 0s/step\n",
      "Epoch 140/300\n",
      "1/1 - 0s - loss: 0.8342 - accuracy: 0.7500 - 19ms/epoch - 19ms/step\n",
      "Epoch 141/300\n",
      "1/1 - 0s - loss: 0.8276 - accuracy: 0.7500 - 13ms/epoch - 13ms/step\n",
      "Epoch 142/300\n",
      "1/1 - 0s - loss: 0.8212 - accuracy: 0.7500 - 0s/epoch - 0s/step\n",
      "Epoch 143/300\n",
      "1/1 - 0s - loss: 0.8147 - accuracy: 0.7500 - 17ms/epoch - 17ms/step\n",
      "Epoch 144/300\n",
      "1/1 - 0s - loss: 0.8083 - accuracy: 0.7500 - 17ms/epoch - 17ms/step\n",
      "Epoch 145/300\n",
      "1/1 - 0s - loss: 0.8020 - accuracy: 0.7500 - 0s/epoch - 0s/step\n",
      "Epoch 146/300\n",
      "1/1 - 0s - loss: 0.7957 - accuracy: 0.7500 - 3ms/epoch - 3ms/step\n",
      "Epoch 147/300\n",
      "1/1 - 0s - loss: 0.7895 - accuracy: 0.7500 - 16ms/epoch - 16ms/step\n",
      "Epoch 148/300\n",
      "1/1 - 0s - loss: 0.7834 - accuracy: 0.7500 - 0s/epoch - 0s/step\n",
      "Epoch 149/300\n",
      "1/1 - 0s - loss: 0.7772 - accuracy: 0.7857 - 0s/epoch - 0s/step\n",
      "Epoch 150/300\n",
      "1/1 - 0s - loss: 0.7712 - accuracy: 0.7857 - 18ms/epoch - 18ms/step\n",
      "Epoch 151/300\n",
      "1/1 - 0s - loss: 0.7651 - accuracy: 0.7857 - 13ms/epoch - 13ms/step\n",
      "Epoch 152/300\n",
      "1/1 - 0s - loss: 0.7592 - accuracy: 0.7857 - 0s/epoch - 0s/step\n",
      "Epoch 153/300\n",
      "1/1 - 0s - loss: 0.7532 - accuracy: 0.7857 - 17ms/epoch - 17ms/step\n",
      "Epoch 154/300\n",
      "1/1 - 0s - loss: 0.7474 - accuracy: 0.7857 - 16ms/epoch - 16ms/step\n",
      "Epoch 155/300\n",
      "1/1 - 0s - loss: 0.7415 - accuracy: 0.7857 - 0s/epoch - 0s/step\n",
      "Epoch 156/300\n",
      "1/1 - 0s - loss: 0.7358 - accuracy: 0.7857 - 2ms/epoch - 2ms/step\n",
      "Epoch 157/300\n",
      "1/1 - 0s - loss: 0.7300 - accuracy: 0.7857 - 17ms/epoch - 17ms/step\n",
      "Epoch 158/300\n",
      "1/1 - 0s - loss: 0.7243 - accuracy: 0.7857 - 14ms/epoch - 14ms/step\n",
      "Epoch 159/300\n",
      "1/1 - 0s - loss: 0.7187 - accuracy: 0.7857 - 0s/epoch - 0s/step\n",
      "Epoch 160/300\n",
      "1/1 - 0s - loss: 0.7131 - accuracy: 0.7857 - 17ms/epoch - 17ms/step\n",
      "Epoch 161/300\n",
      "1/1 - 0s - loss: 0.7075 - accuracy: 0.7857 - 16ms/epoch - 16ms/step\n",
      "Epoch 162/300\n",
      "1/1 - 0s - loss: 0.7020 - accuracy: 0.7857 - 0s/epoch - 0s/step\n",
      "Epoch 163/300\n",
      "1/1 - 0s - loss: 0.6966 - accuracy: 0.7857 - 17ms/epoch - 17ms/step\n",
      "Epoch 164/300\n",
      "1/1 - 0s - loss: 0.6912 - accuracy: 0.7857 - 17ms/epoch - 17ms/step\n",
      "Epoch 165/300\n",
      "1/1 - 0s - loss: 0.6858 - accuracy: 0.7857 - 0s/epoch - 0s/step\n",
      "Epoch 166/300\n",
      "1/1 - 0s - loss: 0.6805 - accuracy: 0.7857 - 1ms/epoch - 1ms/step\n",
      "Epoch 167/300\n",
      "1/1 - 0s - loss: 0.6752 - accuracy: 0.7857 - 17ms/epoch - 17ms/step\n",
      "Epoch 168/300\n",
      "1/1 - 0s - loss: 0.6700 - accuracy: 0.7857 - 14ms/epoch - 14ms/step\n",
      "Epoch 169/300\n",
      "1/1 - 0s - loss: 0.6648 - accuracy: 0.7857 - 0s/epoch - 0s/step\n",
      "Epoch 170/300\n",
      "1/1 - 0s - loss: 0.6596 - accuracy: 0.7857 - 18ms/epoch - 18ms/step\n",
      "Epoch 171/300\n",
      "1/1 - 0s - loss: 0.6545 - accuracy: 0.7857 - 16ms/epoch - 16ms/step\n",
      "Epoch 172/300\n",
      "1/1 - 0s - loss: 0.6495 - accuracy: 0.7857 - 0s/epoch - 0s/step\n",
      "Epoch 173/300\n",
      "1/1 - 0s - loss: 0.6445 - accuracy: 0.7857 - 1ms/epoch - 1ms/step\n",
      "Epoch 174/300\n",
      "1/1 - 0s - loss: 0.6395 - accuracy: 0.7857 - 17ms/epoch - 17ms/step\n",
      "Epoch 175/300\n",
      "1/1 - 0s - loss: 0.6346 - accuracy: 0.7857 - 15ms/epoch - 15ms/step\n",
      "Epoch 176/300\n",
      "1/1 - 0s - loss: 0.6297 - accuracy: 0.7857 - 0s/epoch - 0s/step\n",
      "Epoch 177/300\n",
      "1/1 - 0s - loss: 0.6249 - accuracy: 0.7857 - 18ms/epoch - 18ms/step\n",
      "Epoch 178/300\n",
      "1/1 - 0s - loss: 0.6201 - accuracy: 0.7857 - 16ms/epoch - 16ms/step\n",
      "Epoch 179/300\n",
      "1/1 - 0s - loss: 0.6154 - accuracy: 0.7857 - 0s/epoch - 0s/step\n",
      "Epoch 180/300\n",
      "1/1 - 0s - loss: 0.6107 - accuracy: 0.8214 - 2ms/epoch - 2ms/step\n",
      "Epoch 181/300\n",
      "1/1 - 0s - loss: 0.6060 - accuracy: 0.8214 - 19ms/epoch - 19ms/step\n",
      "Epoch 182/300\n",
      "1/1 - 0s - loss: 0.6014 - accuracy: 0.8214 - 0s/epoch - 0s/step\n",
      "Epoch 183/300\n",
      "1/1 - 0s - loss: 0.5968 - accuracy: 0.8214 - 1ms/epoch - 1ms/step\n",
      "Epoch 184/300\n",
      "1/1 - 0s - loss: 0.5923 - accuracy: 0.8214 - 18ms/epoch - 18ms/step\n",
      "Epoch 185/300\n",
      "1/1 - 0s - loss: 0.5878 - accuracy: 0.8214 - 14ms/epoch - 14ms/step\n",
      "Epoch 186/300\n",
      "1/1 - 0s - loss: 0.5834 - accuracy: 0.8214 - 0s/epoch - 0s/step\n",
      "Epoch 187/300\n",
      "1/1 - 0s - loss: 0.5790 - accuracy: 0.8214 - 17ms/epoch - 17ms/step\n",
      "Epoch 188/300\n",
      "1/1 - 0s - loss: 0.5747 - accuracy: 0.8214 - 16ms/epoch - 16ms/step\n",
      "Epoch 189/300\n",
      "1/1 - 0s - loss: 0.5704 - accuracy: 0.8214 - 0s/epoch - 0s/step\n",
      "Epoch 190/300\n",
      "1/1 - 0s - loss: 0.5661 - accuracy: 0.8214 - 3ms/epoch - 3ms/step\n",
      "Epoch 191/300\n",
      "1/1 - 0s - loss: 0.5619 - accuracy: 0.8214 - 16ms/epoch - 16ms/step\n",
      "Epoch 192/300\n",
      "1/1 - 0s - loss: 0.5577 - accuracy: 0.8214 - 0s/epoch - 0s/step\n",
      "Epoch 193/300\n",
      "1/1 - 0s - loss: 0.5536 - accuracy: 0.8214 - 0s/epoch - 0s/step\n",
      "Epoch 194/300\n",
      "1/1 - 0s - loss: 0.5495 - accuracy: 0.8214 - 17ms/epoch - 17ms/step\n",
      "Epoch 195/300\n",
      "1/1 - 0s - loss: 0.5454 - accuracy: 0.8214 - 17ms/epoch - 17ms/step\n",
      "Epoch 196/300\n",
      "1/1 - 0s - loss: 0.5414 - accuracy: 0.8214 - 0s/epoch - 0s/step\n",
      "Epoch 197/300\n",
      "1/1 - 0s - loss: 0.5375 - accuracy: 0.8214 - 3ms/epoch - 3ms/step\n",
      "Epoch 198/300\n",
      "1/1 - 0s - loss: 0.5336 - accuracy: 0.8214 - 17ms/epoch - 17ms/step\n",
      "Epoch 199/300\n",
      "1/1 - 0s - loss: 0.5297 - accuracy: 0.8571 - 13ms/epoch - 13ms/step\n",
      "Epoch 200/300\n",
      "1/1 - 0s - loss: 0.5258 - accuracy: 0.8571 - 0s/epoch - 0s/step\n",
      "Epoch 201/300\n",
      "1/1 - 0s - loss: 0.5221 - accuracy: 0.8571 - 17ms/epoch - 17ms/step\n",
      "Epoch 202/300\n",
      "1/1 - 0s - loss: 0.5183 - accuracy: 0.8571 - 16ms/epoch - 16ms/step\n",
      "Epoch 203/300\n",
      "1/1 - 0s - loss: 0.5146 - accuracy: 0.8571 - 0s/epoch - 0s/step\n",
      "Epoch 204/300\n",
      "1/1 - 0s - loss: 0.5109 - accuracy: 0.8571 - 3ms/epoch - 3ms/step\n",
      "Epoch 205/300\n",
      "1/1 - 0s - loss: 0.5073 - accuracy: 0.8571 - 18ms/epoch - 18ms/step\n"
     ]
    },
    {
     "name": "stdout",
     "output_type": "stream",
     "text": [
      "Epoch 206/300\n",
      "1/1 - 0s - loss: 0.5037 - accuracy: 0.8571 - 0s/epoch - 0s/step\n",
      "Epoch 207/300\n",
      "1/1 - 0s - loss: 0.5001 - accuracy: 0.8571 - 2ms/epoch - 2ms/step\n",
      "Epoch 208/300\n",
      "1/1 - 0s - loss: 0.4966 - accuracy: 0.8571 - 16ms/epoch - 16ms/step\n",
      "Epoch 209/300\n",
      "1/1 - 0s - loss: 0.4931 - accuracy: 0.8571 - 17ms/epoch - 17ms/step\n",
      "Epoch 210/300\n",
      "1/1 - 0s - loss: 0.4897 - accuracy: 0.8571 - 0s/epoch - 0s/step\n",
      "Epoch 211/300\n",
      "1/1 - 0s - loss: 0.4863 - accuracy: 0.8571 - 3ms/epoch - 3ms/step\n",
      "Epoch 212/300\n",
      "1/1 - 0s - loss: 0.4829 - accuracy: 0.8571 - 16ms/epoch - 16ms/step\n",
      "Epoch 213/300\n",
      "1/1 - 0s - loss: 0.4796 - accuracy: 0.8571 - 0s/epoch - 0s/step\n",
      "Epoch 214/300\n",
      "1/1 - 0s - loss: 0.4763 - accuracy: 0.8571 - 2ms/epoch - 2ms/step\n",
      "Epoch 215/300\n",
      "1/1 - 0s - loss: 0.4731 - accuracy: 0.8571 - 17ms/epoch - 17ms/step\n",
      "Epoch 216/300\n",
      "1/1 - 0s - loss: 0.4699 - accuracy: 0.8571 - 2ms/epoch - 2ms/step\n",
      "Epoch 217/300\n",
      "1/1 - 0s - loss: 0.4667 - accuracy: 0.8571 - 17ms/epoch - 17ms/step\n",
      "Epoch 218/300\n",
      "1/1 - 0s - loss: 0.4636 - accuracy: 0.8571 - 15ms/epoch - 15ms/step\n",
      "Epoch 219/300\n",
      "1/1 - 0s - loss: 0.4605 - accuracy: 0.8571 - 0s/epoch - 0s/step\n",
      "Epoch 220/300\n",
      "1/1 - 0s - loss: 0.4574 - accuracy: 0.8571 - 16ms/epoch - 16ms/step\n",
      "Epoch 221/300\n",
      "1/1 - 0s - loss: 0.4544 - accuracy: 0.8571 - 17ms/epoch - 17ms/step\n",
      "Epoch 222/300\n",
      "1/1 - 0s - loss: 0.4514 - accuracy: 0.8571 - 0s/epoch - 0s/step\n",
      "Epoch 223/300\n",
      "1/1 - 0s - loss: 0.4484 - accuracy: 0.8571 - 2ms/epoch - 2ms/step\n",
      "Epoch 224/300\n",
      "1/1 - 0s - loss: 0.4455 - accuracy: 0.8571 - 17ms/epoch - 17ms/step\n",
      "Epoch 225/300\n",
      "1/1 - 0s - loss: 0.4426 - accuracy: 0.8571 - 14ms/epoch - 14ms/step\n",
      "Epoch 226/300\n",
      "1/1 - 0s - loss: 0.4397 - accuracy: 0.8571 - 0s/epoch - 0s/step\n",
      "Epoch 227/300\n",
      "1/1 - 0s - loss: 0.4369 - accuracy: 0.8571 - 17ms/epoch - 17ms/step\n",
      "Epoch 228/300\n",
      "1/1 - 0s - loss: 0.4341 - accuracy: 0.8571 - 16ms/epoch - 16ms/step\n",
      "Epoch 229/300\n",
      "1/1 - 0s - loss: 0.4313 - accuracy: 0.8571 - 0s/epoch - 0s/step\n",
      "Epoch 230/300\n",
      "1/1 - 0s - loss: 0.4286 - accuracy: 0.8571 - 17ms/epoch - 17ms/step\n",
      "Epoch 231/300\n",
      "1/1 - 0s - loss: 0.4259 - accuracy: 0.8571 - 17ms/epoch - 17ms/step\n",
      "Epoch 232/300\n",
      "1/1 - 0s - loss: 0.4232 - accuracy: 0.8571 - 0s/epoch - 0s/step\n",
      "Epoch 233/300\n",
      "1/1 - 0s - loss: 0.4206 - accuracy: 0.8571 - 17ms/epoch - 17ms/step\n",
      "Epoch 234/300\n",
      "1/1 - 0s - loss: 0.4179 - accuracy: 0.8571 - 16ms/epoch - 16ms/step\n",
      "Epoch 235/300\n",
      "1/1 - 0s - loss: 0.4154 - accuracy: 0.8571 - 0s/epoch - 0s/step\n",
      "Epoch 236/300\n",
      "1/1 - 0s - loss: 0.4128 - accuracy: 0.8571 - 2ms/epoch - 2ms/step\n",
      "Epoch 237/300\n",
      "1/1 - 0s - loss: 0.4103 - accuracy: 0.8571 - 18ms/epoch - 18ms/step\n",
      "Epoch 238/300\n",
      "1/1 - 0s - loss: 0.4078 - accuracy: 0.8571 - 0s/epoch - 0s/step\n",
      "Epoch 239/300\n",
      "1/1 - 0s - loss: 0.4054 - accuracy: 0.8571 - 997us/epoch - 997us/step\n",
      "Epoch 240/300\n",
      "1/1 - 0s - loss: 0.4029 - accuracy: 0.8571 - 17ms/epoch - 17ms/step\n",
      "Epoch 241/300\n",
      "1/1 - 0s - loss: 0.4005 - accuracy: 0.8571 - 17ms/epoch - 17ms/step\n",
      "Epoch 242/300\n",
      "1/1 - 0s - loss: 0.3982 - accuracy: 0.8571 - 0s/epoch - 0s/step\n",
      "Epoch 243/300\n",
      "1/1 - 0s - loss: 0.3958 - accuracy: 0.8929 - 3ms/epoch - 3ms/step\n",
      "Epoch 244/300\n",
      "1/1 - 0s - loss: 0.3935 - accuracy: 0.8929 - 16ms/epoch - 16ms/step\n",
      "Epoch 245/300\n",
      "1/1 - 0s - loss: 0.3912 - accuracy: 0.8929 - 15ms/epoch - 15ms/step\n",
      "Epoch 246/300\n",
      "1/1 - 0s - loss: 0.3889 - accuracy: 0.8929 - 0s/epoch - 0s/step\n",
      "Epoch 247/300\n",
      "1/1 - 0s - loss: 0.3867 - accuracy: 0.8929 - 17ms/epoch - 17ms/step\n",
      "Epoch 248/300\n",
      "1/1 - 0s - loss: 0.3845 - accuracy: 0.8929 - 17ms/epoch - 17ms/step\n",
      "Epoch 249/300\n",
      "1/1 - 0s - loss: 0.3823 - accuracy: 0.8929 - 0s/epoch - 0s/step\n",
      "Epoch 250/300\n",
      "1/1 - 0s - loss: 0.3802 - accuracy: 0.8929 - 2ms/epoch - 2ms/step\n",
      "Epoch 251/300\n",
      "1/1 - 0s - loss: 0.3780 - accuracy: 0.8929 - 17ms/epoch - 17ms/step\n",
      "Epoch 252/300\n",
      "1/1 - 0s - loss: 0.3759 - accuracy: 0.8929 - 15ms/epoch - 15ms/step\n",
      "Epoch 253/300\n",
      "1/1 - 0s - loss: 0.3739 - accuracy: 0.8929 - 0s/epoch - 0s/step\n",
      "Epoch 254/300\n",
      "1/1 - 0s - loss: 0.3718 - accuracy: 0.8929 - 17ms/epoch - 17ms/step\n",
      "Epoch 255/300\n",
      "1/1 - 0s - loss: 0.3698 - accuracy: 0.8929 - 17ms/epoch - 17ms/step\n",
      "Epoch 256/300\n",
      "1/1 - 0s - loss: 0.3678 - accuracy: 0.8929 - 0s/epoch - 0s/step\n",
      "Epoch 257/300\n",
      "1/1 - 0s - loss: 0.3658 - accuracy: 0.8929 - 2ms/epoch - 2ms/step\n",
      "Epoch 258/300\n",
      "1/1 - 0s - loss: 0.3639 - accuracy: 0.8929 - 18ms/epoch - 18ms/step\n",
      "Epoch 259/300\n",
      "1/1 - 0s - loss: 0.3619 - accuracy: 0.8929 - 13ms/epoch - 13ms/step\n",
      "Epoch 260/300\n",
      "1/1 - 0s - loss: 0.3600 - accuracy: 0.8929 - 0s/epoch - 0s/step\n",
      "Epoch 261/300\n",
      "1/1 - 0s - loss: 0.3582 - accuracy: 0.8929 - 17ms/epoch - 17ms/step\n",
      "Epoch 262/300\n",
      "1/1 - 0s - loss: 0.3563 - accuracy: 0.8929 - 16ms/epoch - 16ms/step\n",
      "Epoch 263/300\n",
      "1/1 - 0s - loss: 0.3545 - accuracy: 0.8929 - 0s/epoch - 0s/step\n",
      "Epoch 264/300\n",
      "1/1 - 0s - loss: 0.3527 - accuracy: 0.8929 - 4ms/epoch - 4ms/step\n",
      "Epoch 265/300\n",
      "1/1 - 0s - loss: 0.3509 - accuracy: 0.8929 - 16ms/epoch - 16ms/step\n",
      "Epoch 266/300\n",
      "1/1 - 0s - loss: 0.3491 - accuracy: 0.8929 - 0s/epoch - 0s/step\n",
      "Epoch 267/300\n",
      "1/1 - 0s - loss: 0.3474 - accuracy: 0.8929 - 3ms/epoch - 3ms/step\n",
      "Epoch 268/300\n",
      "1/1 - 0s - loss: 0.3457 - accuracy: 0.8929 - 17ms/epoch - 17ms/step\n",
      "Epoch 269/300\n",
      "1/1 - 0s - loss: 0.3440 - accuracy: 0.8929 - 0s/epoch - 0s/step\n",
      "Epoch 270/300\n",
      "1/1 - 0s - loss: 0.3423 - accuracy: 0.8929 - 1ms/epoch - 1ms/step\n",
      "Epoch 271/300\n",
      "1/1 - 0s - loss: 0.3406 - accuracy: 0.8929 - 18ms/epoch - 18ms/step\n",
      "Epoch 272/300\n",
      "1/1 - 0s - loss: 0.3390 - accuracy: 0.8929 - 13ms/epoch - 13ms/step\n",
      "Epoch 273/300\n",
      "1/1 - 0s - loss: 0.3374 - accuracy: 0.8929 - 0s/epoch - 0s/step\n",
      "Epoch 274/300\n",
      "1/1 - 0s - loss: 0.3358 - accuracy: 0.8929 - 17ms/epoch - 17ms/step\n",
      "Epoch 275/300\n",
      "1/1 - 0s - loss: 0.3342 - accuracy: 0.8929 - 16ms/epoch - 16ms/step\n",
      "Epoch 276/300\n",
      "1/1 - 0s - loss: 0.3327 - accuracy: 0.8929 - 0s/epoch - 0s/step\n",
      "Epoch 277/300\n",
      "1/1 - 0s - loss: 0.3312 - accuracy: 0.8929 - 16ms/epoch - 16ms/step\n",
      "Epoch 278/300\n",
      "1/1 - 0s - loss: 0.3296 - accuracy: 0.8929 - 17ms/epoch - 17ms/step\n",
      "Epoch 279/300\n",
      "1/1 - 0s - loss: 0.3282 - accuracy: 0.8929 - 13ms/epoch - 13ms/step\n",
      "Epoch 280/300\n",
      "1/1 - 0s - loss: 0.3267 - accuracy: 0.8929 - 2ms/epoch - 2ms/step\n",
      "Epoch 281/300\n",
      "1/1 - 0s - loss: 0.3252 - accuracy: 0.8929 - 17ms/epoch - 17ms/step\n",
      "Epoch 282/300\n",
      "1/1 - 0s - loss: 0.3238 - accuracy: 0.8929 - 14ms/epoch - 14ms/step\n",
      "Epoch 283/300\n",
      "1/1 - 0s - loss: 0.3224 - accuracy: 0.8929 - 0s/epoch - 0s/step\n",
      "Epoch 284/300\n",
      "1/1 - 0s - loss: 0.3210 - accuracy: 0.8929 - 17ms/epoch - 17ms/step\n",
      "Epoch 285/300\n",
      "1/1 - 0s - loss: 0.3196 - accuracy: 0.8929 - 17ms/epoch - 17ms/step\n",
      "Epoch 286/300\n",
      "1/1 - 0s - loss: 0.3183 - accuracy: 0.8929 - 0s/epoch - 0s/step\n",
      "Epoch 287/300\n",
      "1/1 - 0s - loss: 0.3169 - accuracy: 0.8929 - 2ms/epoch - 2ms/step\n",
      "Epoch 288/300\n",
      "1/1 - 0s - loss: 0.3156 - accuracy: 0.8929 - 19ms/epoch - 19ms/step\n",
      "Epoch 289/300\n",
      "1/1 - 0s - loss: 0.3143 - accuracy: 0.8929 - 12ms/epoch - 12ms/step\n",
      "Epoch 290/300\n",
      "1/1 - 0s - loss: 0.3130 - accuracy: 0.8929 - 0s/epoch - 0s/step\n",
      "Epoch 291/300\n",
      "1/1 - 0s - loss: 0.3118 - accuracy: 0.8929 - 17ms/epoch - 17ms/step\n",
      "Epoch 292/300\n",
      "1/1 - 0s - loss: 0.3105 - accuracy: 0.8929 - 16ms/epoch - 16ms/step\n",
      "Epoch 293/300\n",
      "1/1 - 0s - loss: 0.3093 - accuracy: 0.8929 - 0s/epoch - 0s/step\n",
      "Epoch 294/300\n",
      "1/1 - 0s - loss: 0.3081 - accuracy: 0.8929 - 807us/epoch - 807us/step\n",
      "Epoch 295/300\n",
      "1/1 - 0s - loss: 0.3068 - accuracy: 0.8929 - 17ms/epoch - 17ms/step\n",
      "Epoch 296/300\n",
      "1/1 - 0s - loss: 0.3057 - accuracy: 0.8929 - 15ms/epoch - 15ms/step\n",
      "Epoch 297/300\n",
      "1/1 - 0s - loss: 0.3045 - accuracy: 0.8929 - 0s/epoch - 0s/step\n",
      "Epoch 298/300\n",
      "1/1 - 0s - loss: 0.3033 - accuracy: 0.8929 - 17ms/epoch - 17ms/step\n",
      "Epoch 299/300\n",
      "1/1 - 0s - loss: 0.3022 - accuracy: 0.8929 - 16ms/epoch - 16ms/step\n",
      "Epoch 300/300\n",
      "1/1 - 0s - loss: 0.3011 - accuracy: 0.8929 - 17ms/epoch - 17ms/step\n"
     ]
    }
   ],
   "source": [
    "model.compile(loss='categorical_crossentropy', # 다중 분류에서의 손실함수\n",
    "             optimizer='adam',\n",
    "             metrics=['accuracy']) # 평가지표 : accuracy, recall, precision\n",
    "hist = model.fit(X, Y, epochs=300, verbose=2)"
   ]
  },
  {
   "cell_type": "code",
   "execution_count": 67,
   "id": "69f34df1",
   "metadata": {},
   "outputs": [
    {
     "data": {
      "text/plain": [
       "dict_keys(['loss', 'accuracy'])"
      ]
     },
     "execution_count": 67,
     "metadata": {},
     "output_type": "execute_result"
    }
   ],
   "source": [
    "hist.history.keys()"
   ]
  },
  {
   "cell_type": "code",
   "execution_count": 69,
   "id": "9963d8a1",
   "metadata": {},
   "outputs": [
    {
     "data": {
      "image/png": "[encoded data removed]",
      "text/plain": [
       "<Figure size 1000x500 with 2 Axes>"
      ]
     },
     "metadata": {},
     "output_type": "display_data"
    }
   ],
   "source": [
    "# 학습과정 표시하기(validation dataset 있는 경우)\n",
    "import matplotlib.pyplot as plt\n",
    "fig, loss_ax = plt.subplots(figsize=(10,5))\n",
    "loss_ax.plot(hist.history['loss'], 'r', label='train loss')\n",
    "loss_ax.set_xlabel('epoch')\n",
    "loss_ax.set_ylabel('loss')\n",
    "acc_ax = loss_ax.twinx()\n",
    "acc_ax.plot(hist.history['accuracy'], 'b', label='train accuracy')\n",
    "acc_ax.set_ylabel('accuracy')\n",
    "loss_ax.legend(loc='center right')\n",
    "acc_ax.legend(bbox_to_anchor=(0.999, 0.7))\n",
    "plt.show()"
   ]
  },
  {
   "cell_type": "markdown",
   "id": "0337108b",
   "metadata": {},
   "source": [
    "# 4. 다음 문맥 예측해 보기"
   ]
  },
  {
   "cell_type": "code",
   "execution_count": 71,
   "id": "10163f9d",
   "metadata": {},
   "outputs": [
    {
     "name": "stdout",
     "output_type": "stream",
     "text": [
      "{'말이': 1, '경마장에': 2, '있는': 3, '뛰고': 4, '있다': 5, '그의': 6, '법이다': 7, '가는': 8, '고와야': 9, '오는': 10, '곱다': 11}\n"
     ]
    }
   ],
   "source": [
    "print(t.word_index)"
   ]
  },
  {
   "cell_type": "code",
   "execution_count": 79,
   "id": "48ead40a",
   "metadata": {},
   "outputs": [
    {
     "name": "stdout",
     "output_type": "stream",
     "text": [
      "입력단어 :경마장에\n",
      "입력한 단어:경마장에, input_data:[[0 0 0 0 2]]\n",
      "1/1 [==============================] - 0s 17ms/step\n"
     ]
    },
    {
     "data": {
      "text/plain": [
       "3"
      ]
     },
     "execution_count": 79,
     "metadata": {},
     "output_type": "execute_result"
    }
   ],
   "source": [
    "# 모델 사용하기 (문자 -> sequence로 수정 -> padding -> predict -> argmax -> 문자)\n",
    "word = input('입력단어 :')\n",
    "encoded = t.texts_to_sequences([word])[0]\n",
    "input_data = pad_sequences([encoded], \n",
    "                           maxlen=X.shape[1],\n",
    "                           padding='pre')\n",
    "print('입력한 단어:{}, input_data:{}'.format(word, input_data))\n",
    "pred = model.predict(input_data).argmax()\n",
    "pred"
   ]
  },
  {
   "cell_type": "code",
   "execution_count": 76,
   "id": "1dfabeb4",
   "metadata": {},
   "outputs": [
    {
     "data": {
      "text/plain": [
       "5"
      ]
     },
     "execution_count": 76,
     "metadata": {},
     "output_type": "execute_result"
    }
   ],
   "source": [
    "X.shape[1]"
   ]
  },
  {
   "cell_type": "code",
   "execution_count": null,
   "id": "7667f95e",
   "metadata": {},
   "outputs": [],
   "source": []
  },
  {
   "cell_type": "code",
   "execution_count": null,
   "id": "28327066",
   "metadata": {},
   "outputs": [],
   "source": []
  },
  {
   "cell_type": "code",
   "execution_count": null,
   "id": "6f464465",
   "metadata": {},
   "outputs": [],
   "source": []
  },
  {
   "cell_type": "code",
   "execution_count": null,
   "id": "dfc1df17",
   "metadata": {},
   "outputs": [],
   "source": []
  },
  {
   "cell_type": "code",
   "execution_count": null,
   "id": "1b82d68c",
   "metadata": {},
   "outputs": [],
   "source": []
  }
 ],
 "metadata": {
  "kernelspec": {
   "display_name": "Python 3 (ipykernel)",
   "language": "python",
   "name": "python3"
  },
  "language_info": {
   "codemirror_mode": {
    "name": "ipython",
    "version": 3
   },
   "file_extension": ".py",
   "mimetype": "text/x-python",
   "name": "python",
   "nbconvert_exporter": "python",
   "pygments_lexer": "ipython3",
   "version": "3.10.9"
  },
  "toc": {
   "base_numbering": 1,
   "nav_menu": {},
   "number_sections": false,
   "sideBar": true,
   "skip_h1_title": false,
   "title_cell": "Table of Contents",
   "title_sidebar": "Contents",
   "toc_cell": false,
   "toc_position": {},
   "toc_section_display": true,
   "toc_window_display": false
  }
 },
 "nbformat": 4,
 "nbformat_minor": 5
}
