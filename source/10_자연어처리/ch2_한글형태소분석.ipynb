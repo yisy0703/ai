{
 "cells": [
  {
   "cell_type": "code",
   "execution_count": 1,
   "id": "089b8de4",
   "metadata": {},
   "outputs": [
    {
     "data": {
      "text/html": [
       "\n",
       "<style>\n",
       "div.container{width:99% !important;}\n",
       "div.cell.code_cell.rendered{width:99%;}\n",
       "div.CodeMirror {font-family:Consolas; font-size:20pt;}\n",
       "div.output {font-size:18pt; font-weight:bold;}\n",
       "div.input {font-family:Consolas; font-size:19pt;}\n",
       "div.prompt {min-width:70px;}\n",
       "div#toc-wrapper{padding-top:120px;}\n",
       "span.toc-item-num{display:none;}\n",
       "div.text_cell_render ul li{font-size:16pt;padding:5px;}\n",
       "div.CodeMirror-lines > div {padding-left:10px;}\n",
       "table.dataframe{font-size:19px;}\n",
       "</style>\n"
      ],
      "text/plain": [
       "<IPython.core.display.HTML object>"
      ]
     },
     "metadata": {},
     "output_type": "display_data"
    }
   ],
   "source": [
    "from IPython.display import display, HTML\n",
    "display(HTML(\"\"\"\n",
    "<style>\n",
    "div.container{width:99% !important;}\n",
    "div.cell.code_cell.rendered{width:99%;}\n",
    "div.CodeMirror {font-family:Consolas; font-size:20pt;}\n",
    "div.output {font-size:18pt; font-weight:bold;}\n",
    "div.input {font-family:Consolas; font-size:19pt;}\n",
    "div.prompt {min-width:70px;}\n",
    "div#toc-wrapper{padding-top:120px;}\n",
    "span.toc-item-num{display:none;}\n",
    "div.text_cell_render ul li{font-size:16pt;padding:5px;}\n",
    "div.CodeMirror-lines > div {padding-left:10px;}\n",
    "table.dataframe{font-size:19px;}\n",
    "</style>\n",
    "\"\"\"))"
   ]
  },
  {
   "cell_type": "markdown",
   "id": "43c2a8a9",
   "metadata": {},
   "source": [
    "**<font size=\"5\" color=\"red\">ch2. 한글 형태소 분석</font>**\n",
    "# 1. 자연어 처리\n",
    "- 일상적인 언어를 처리\n",
    "- 자연어 처리 분야\n",
    "    * 자연어 이해 : 형태소분석 -> pos tagging -> 의미 분석\n",
    "    * 자연어 생성 : 대화분석 -> 다음 문장이나 단어를 출력(RNN, LSTM, ... GAN, 생성형 알고리즘)\n",
    "- 활용분야 : 트렌드분석, 맞춤법검사, 번역기, 키워드분석, 쳇봇\n",
    "\n",
    "# 2. 자연어처리 절차\n",
    "- 전처리 : 단어, 어절 추출\n",
    "- 분석 후보 생성 : 형태소 분리, 품사 태깅(pos tagging)\n",
    "- 제약조건(불용어 처리) : 규칙 확인\n",
    "- 분석 : 시각화(워드클라우드), 연관분석, RNN, LSTM, ....\n",
    "\n",
    "# 3. 한글 형태소 분석 엔진(Konlpy)\n",
    "* 공통기능 : morphs(형태소 나누기), nouns(명사추출), pos(형태소로 나누어 품사 태그)\n",
    "* HanNanum만의 기능 : analyze(형태소 후보 반환)\n",
    "* Kkma만의 기능 : 텍스트를 문장별로 나누는 기능\n",
    "\n",
    "- Konlpy : python 용 자연어 처리기(JPype1(C++ v14) 패키지를 의존)\n",
    "    * pip install konlpy\n",
    "        + HanNanum : 자바로 만든 형태소 분석기(JAVA_HOME 시스템변수)\n",
    "        + Kkma : 서울대에서 자바로 만든 형태소 분석기(JAVA_HOME 시스템변수)\n",
    "        + Komoran :  자바로 만든 형태소 분석기(JAVA_HOME 시스템변수)\n",
    "        + Okt\n",
    "    * pip install python-mecab-ko\n",
    "        + MeCab : C++로 작성되었고, 저사양환경에서 사용 가능. 다양한 언어의 바인딩 지원\n",
    "- Konlp : R용 자연어 처리기"
   ]
  },
  {
   "cell_type": "code",
   "execution_count": 2,
   "id": "fb01f36d",
   "metadata": {},
   "outputs": [
    {
     "data": {
      "text/plain": [
       "'C:\\\\Program Files\\\\Java\\\\jdk-17'"
      ]
     },
     "execution_count": 2,
     "metadata": {},
     "output_type": "execute_result"
    }
   ],
   "source": [
    "import os\n",
    "os.environ.get('JAVA_HOME')\n",
    "# VC++ 14 버전 이상 설치"
   ]
  },
  {
   "cell_type": "code",
   "execution_count": null,
   "id": "aaff7c4d",
   "metadata": {},
   "outputs": [],
   "source": [
    "# pip install jpype1 (내 OS와 python버전에 맞는 최신 버전의 whl 설치파일을 찾아 설치)"
   ]
  },
  {
   "cell_type": "code",
   "execution_count": 3,
   "id": "40520b8f",
   "metadata": {},
   "outputs": [
    {
     "name": "stdout",
     "output_type": "stream",
     "text": [
      " D 드라이브의 볼륨에는 이름이 없습니다.\n",
      " 볼륨 일련 번호: 2D0E-15FE\n",
      "\n",
      " D:\\ai\\source\\10_자연어처리 디렉터리\n",
      "\n",
      "2024-12-27  오후 02:11    <DIR>          .\n",
      "2024-12-27  오후 02:11    <DIR>          ..\n",
      "2024-12-27  오후 02:12    <DIR>          .ipynb_checkpoints\n",
      "2024-12-27  오후 05:58           104,479 ch1_NLTK자연어처리 패키지.ipynb\n",
      "2024-12-30  오전 10:33             5,798 ch2_한글형태소분석.ipynb\n",
      "2024-12-27  오전 09:14           344,509 JPype1-1.4.0-cp310-cp310-win_amd64.whl\n",
      "2024-12-27  오전 09:14           351,472 JPype1-1.5.0-cp310-cp310-win_amd64.whl\n",
      "2024-12-27  오전 12:00           356,064 jpype1-1.5.1-cp310-cp310-win_amd64.whl\n",
      "               5개 파일           1,162,322 바이트\n",
      "               3개 디렉터리  472,896,700,416 바이트 남음\n"
     ]
    }
   ],
   "source": [
    "%ls"
   ]
  },
  {
   "cell_type": "code",
   "execution_count": 4,
   "id": "f9d8faee",
   "metadata": {},
   "outputs": [
    {
     "name": "stdout",
     "output_type": "stream",
     "text": [
      "Processing d:\\ai\\source\\10_자연어처리\\jpype1-1.5.1-cp310-cp310-win_amd64.whl\n",
      "Requirement already satisfied: packaging in c:\\users\\pc\\anaconda3\\lib\\site-packages (from jpype1==1.5.1) (22.0)\n",
      "Installing collected packages: jpype1\n",
      "Successfully installed jpype1-1.5.1\n"
     ]
    }
   ],
   "source": [
    "! pip install jpype1-1.5.1-cp310-cp310-win_amd64.whl\n",
    "# pip install jpype1==1.5.0"
   ]
  },
  {
   "cell_type": "code",
   "execution_count": null,
   "id": "50ed21c6",
   "metadata": {},
   "outputs": [],
   "source": [
    "# pip install konlpy 후, 아래의 코드가 실행이 안 될 경우\n",
    "# pip uninstall konlpy -> pip uninstall jpype1\n",
    "# ! pip install jpype1-1.5.0-cp310-cp310-win_amd64.whl 또는 ! pip install jpype1-1.4.0-cp310-cp310-win_amd64.whl\n",
    "# pip install konlpy"
   ]
  },
  {
   "cell_type": "code",
   "execution_count": 5,
   "id": "5071b266",
   "metadata": {},
   "outputs": [],
   "source": [
    "text = '''아름답지만 다소 복잡하기도 한 한국어는 전세계에서 13번째로\n",
    "많이 사용되는 언어입니다\n",
    "'''"
   ]
  },
  {
   "cell_type": "markdown",
   "id": "cefd1303",
   "metadata": {},
   "source": [
    "## 3.1 HanNanum"
   ]
  },
  {
   "cell_type": "code",
   "execution_count": 7,
   "id": "7a7c2db2",
   "metadata": {},
   "outputs": [
    {
     "data": {
      "text/plain": [
       "[[[('아름답', 'paa'), ('지만', 'ecs')],\n",
       "  [('아름답', 'paa'), ('지', 'ecs'), ('만', 'jxc')],\n",
       "  [('아름답', 'paa'), ('지', 'ecx'), ('말', 'px'), ('ㄴ', 'etm')]],\n",
       " [[('다소', 'mag')], [('다소', 'ncn')]],\n",
       " [[('복잡', 'ncn'), ('하기', 'ncn'), ('도', 'jxc')],\n",
       "  [('복잡', 'ncn'), ('하기', 'ncn'), ('도', 'ncn')],\n",
       "  [('복잡', 'ncps'), ('하기', 'ncn'), ('도', 'jxc')],\n",
       "  [('복잡', 'ncps'), ('하기', 'ncn'), ('도', 'ncn')],\n",
       "  [('복잡', 'ncps'), ('하', 'xsms'), ('기', 'etn'), ('도', 'jxc')]],\n",
       " [[('하', 'pvg'), ('ㄴ', 'etm')],\n",
       "  [('한', 'nnc')],\n",
       "  [('한', 'ncn')],\n",
       "  [('한', 'nbn')],\n",
       "  [('하', 'px'), ('ㄴ', 'etm')]],\n",
       " [[('한국어', 'ncn'), ('는', 'jxc')]],\n",
       " [[('전세계', 'ncn'), ('에서', 'jca')],\n",
       "  [('전세', 'ncn'), ('계', 'ncn'), ('에서', 'jca')],\n",
       "  [('전', 'xp'), ('세계', 'ncn'), ('에서', 'jca')]],\n",
       " [[('13', 'nnc'), ('번', 'nbu'), ('째', 'xsnu'), ('로', 'jca')]],\n",
       " [],\n",
       " [[('많', 'paa'), ('이', 'xsa')], [('많이', 'mag')]],\n",
       " [[('사용', 'ncpa'), ('되', 'xsvn'), ('는', 'etm')]],\n",
       " [[('언어', 'ncn'), ('이', 'jp'), ('ㅂ니다', 'ef')]]]"
      ]
     },
     "execution_count": 7,
     "metadata": {},
     "output_type": "execute_result"
    }
   ],
   "source": [
    "from konlpy.tag import Hannanum\n",
    "hannanum = Hannanum(jvmpath=None,\n",
    "                   max_heap_size=1024) # 기본값:1024, '1g', '2048m'\n",
    "hannanum.analyze(text)"
   ]
  },
  {
   "cell_type": "markdown",
   "id": "15d9ca06",
   "metadata": {},
   "source": [
    "- pos tagging chart 다운로드\n",
    "    * 구글에서 konlpy docs검색후 konlpy.org\n",
    "    * api 메뉴클릭 -> \"품사 태깅 클래스 간 비교(Comparision between POS tagging classes)\" 클릭\n",
    "    * \"한국어 품사 태그 비교표(Korean POS tags comparision chart)\" 클릭"
   ]
  },
  {
   "cell_type": "code",
   "execution_count": 8,
   "id": "a5cab7d7",
   "metadata": {},
   "outputs": [
    {
     "name": "stdout",
     "output_type": "stream",
     "text": [
      "['아름답', '지만', '다소', '복잡', '하', '기', '도', '하', 'ㄴ', '한국어', '는', '전세계', '에서', '13번', '째', '로', '많', '이', '사용', '되', '는', '언어', '이', 'ㅂ니다']\n"
     ]
    }
   ],
   "source": [
    "# 형태소 분석 : morphs\n",
    "print(hannanum.morphs(text))"
   ]
  },
  {
   "cell_type": "code",
   "execution_count": 9,
   "id": "cd053a8d",
   "metadata": {},
   "outputs": [
    {
     "name": "stdout",
     "output_type": "stream",
     "text": [
      "['복잡', '한국어', '전세계', '13번', '사용', '언어']\n"
     ]
    }
   ],
   "source": [
    "# 명사만 추출\n",
    "print(hannanum.nouns(text))"
   ]
  },
  {
   "cell_type": "code",
   "execution_count": 10,
   "id": "7bb793db",
   "metadata": {},
   "outputs": [
    {
     "name": "stdout",
     "output_type": "stream",
     "text": [
      "[('아름답', 'P'), ('지만', 'E'), ('다소', 'M'), ('복잡', 'N'), ('하', 'X'), ('기', 'E'), ('도', 'J'), ('하', 'P'), ('ㄴ', 'E'), ('한국어', 'N'), ('는', 'J'), ('전세계', 'N'), ('에서', 'J'), ('13번', 'N'), ('째', 'X'), ('로', 'J'), ('많', 'P'), ('이', 'X'), ('사용', 'N'), ('되', 'X'), ('는', 'E'), ('언어', 'N'), ('이', 'J'), ('ㅂ니다', 'E')]\n"
     ]
    }
   ],
   "source": [
    "# 품사태그\n",
    "print(hannanum.pos(text)) # 기본값 : ntags=9"
   ]
  },
  {
   "cell_type": "code",
   "execution_count": 14,
   "id": "34289a19",
   "metadata": {},
   "outputs": [
    {
     "name": "stdout",
     "output_type": "stream",
     "text": [
      "[('아름답', 'PA'), ('지만', 'EC'), ('다소', 'MA'), ('복잡', 'NC'), ('하', 'XS'), ('기', 'ET'), ('도', 'JX'), ('하', 'PV'), ('ㄴ', 'ET'), ('한국어', 'NC'), ('는', 'JX'), ('전세계', 'NC'), ('에서', 'JC'), ('13', 'NN'), ('번', 'NB'), ('째', 'XS'), ('로', 'JC'), ('많', 'PA'), ('이', 'XS'), ('사용', 'NC'), ('되', 'XS'), ('는', 'ET'), ('언어', 'NC'), ('이', 'JP'), ('ㅂ니다', 'EF')]\n"
     ]
    }
   ],
   "source": [
    "print(hannanum.pos(text, ntags=22))"
   ]
  },
  {
   "cell_type": "code",
   "execution_count": null,
   "id": "add01b9b",
   "metadata": {},
   "outputs": [],
   "source": [
    "# 퀴즈1 : text 중에서 형용사(PA)만 추출"
   ]
  },
  {
   "cell_type": "code",
   "execution_count": null,
   "id": "b96f1aae",
   "metadata": {},
   "outputs": [],
   "source": [
    "# 퀴즈2 : text 중에서 보통명사(NC)만 추출"
   ]
  },
  {
   "cell_type": "code",
   "execution_count": null,
   "id": "3957991d",
   "metadata": {},
   "outputs": [],
   "source": []
  },
  {
   "cell_type": "code",
   "execution_count": null,
   "id": "85610f4b",
   "metadata": {},
   "outputs": [],
   "source": []
  },
  {
   "cell_type": "code",
   "execution_count": null,
   "id": "8e4e3fce",
   "metadata": {},
   "outputs": [],
   "source": []
  },
  {
   "cell_type": "code",
   "execution_count": null,
   "id": "b2ff3720",
   "metadata": {},
   "outputs": [],
   "source": []
  },
  {
   "cell_type": "code",
   "execution_count": null,
   "id": "585ad0d6",
   "metadata": {},
   "outputs": [],
   "source": []
  },
  {
   "cell_type": "code",
   "execution_count": null,
   "id": "588a6d7d",
   "metadata": {},
   "outputs": [],
   "source": []
  },
  {
   "cell_type": "code",
   "execution_count": null,
   "id": "938052ae",
   "metadata": {},
   "outputs": [],
   "source": []
  }
 ],
 "metadata": {
  "kernelspec": {
   "display_name": "Python 3 (ipykernel)",
   "language": "python",
   "name": "python3"
  },
  "language_info": {
   "codemirror_mode": {
    "name": "ipython",
    "version": 3
   },
   "file_extension": ".py",
   "mimetype": "text/x-python",
   "name": "python",
   "nbconvert_exporter": "python",
   "pygments_lexer": "ipython3",
   "version": "3.10.9"
  },
  "toc": {
   "base_numbering": 1,
   "nav_menu": {},
   "number_sections": false,
   "sideBar": true,
   "skip_h1_title": false,
   "title_cell": "Table of Contents",
   "title_sidebar": "Contents",
   "toc_cell": false,
   "toc_position": {},
   "toc_section_display": true,
   "toc_window_display": false
  }
 },
 "nbformat": 4,
 "nbformat_minor": 5
}
