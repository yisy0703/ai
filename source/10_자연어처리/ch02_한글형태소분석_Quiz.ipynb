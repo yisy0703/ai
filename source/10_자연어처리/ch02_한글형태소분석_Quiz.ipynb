{
 "cells": [
  {
   "cell_type": "code",
   "execution_count": 1,
   "id": "2ae53042",
   "metadata": {},
   "outputs": [
    {
     "data": {
      "text/html": [
       "\n",
       "<style>\n",
       "div.container{width:99% !important;}\n",
       "div.cell.code_cell.rendered{width:99%;}\n",
       "div.CodeMirror {font-family:Consolas; font-size:20pt;}\n",
       "div.output {font-size:18pt; font-weight:bold;}\n",
       "div.input {font-family:Consolas; font-size:19pt;}\n",
       "div.prompt {min-width:70px;}\n",
       "div#toc-wrapper{padding-top:120px;}\n",
       "span.toc-item-num{display:none;}\n",
       "div.text_cell_render ul li{font-size:16pt;padding:5px;}\n",
       "div.CodeMirror-lines > div {padding-left:10px;}\n",
       "table.dataframe{font-size:19px;}\n",
       "</style>\n"
      ],
      "text/plain": [
       "<IPython.core.display.HTML object>"
      ]
     },
     "metadata": {},
     "output_type": "display_data"
    }
   ],
   "source": [
    "from IPython.display import display, HTML\n",
    "display(HTML(\"\"\"\n",
    "<style>\n",
    "div.container{width:99% !important;}\n",
    "div.cell.code_cell.rendered{width:99%;}\n",
    "div.CodeMirror {font-family:Consolas; font-size:20pt;}\n",
    "div.output {font-size:18pt; font-weight:bold;}\n",
    "div.input {font-family:Consolas; font-size:19pt;}\n",
    "div.prompt {min-width:70px;}\n",
    "div#toc-wrapper{padding-top:120px;}\n",
    "span.toc-item-num{display:none;}\n",
    "div.text_cell_render ul li{font-size:16pt;padding:5px;}\n",
    "div.CodeMirror-lines > div {padding-left:10px;}\n",
    "table.dataframe{font-size:19px;}\n",
    "</style>\n",
    "\"\"\"))"
   ]
  },
  {
   "cell_type": "markdown",
   "id": "c08d7935",
   "metadata": {},
   "source": [
    "# ※ naver Open Api를 활용하여 네이버 지식인 \"전주 여행\"과 \"경주 여행\"을 검색 -> 명사만 추출(re) -> 빈도분석(DataFrame), 시각화(워드클라우드)"
   ]
  },
  {
   "cell_type": "markdown",
   "id": "c9f5c4fa",
   "metadata": {},
   "source": [
    "# 1. 네이버 api를 활용하여 두 검색어 추출"
   ]
  },
  {
   "cell_type": "code",
   "execution_count": 2,
   "id": "cd2b9c9d",
   "metadata": {
    "collapsed": true
   },
   "outputs": [
    {
     "name": "stdout",
     "output_type": "stream",
     "text": [
      "{\n",
      "\t\"lastBuildDate\":\"Mon, 30 Dec 2024 16:42:59 +0900\",\n",
      "\t\"total\":876464,\n",
      "\t\"start\":1,\n",
      "\t\"display\":10,\n",
      "\t\"items\":[\n",
      "\t\t{\n",
      "\t\t\t\"title\":\"<b>경주여행<\\/b> 대릉원 드론촬영하기! (경주시청허가必)\",\n",
      "\t\t\t\"link\":\"https:\\/\\/blog.naver.com\\/cooooooook\\/223658719098\",\n",
      "\t\t\t\"description\":\"사진 ⓒ쿠우욱 안녕하세요 여행블로거 쿠우욱입니다 지난 <b>경주여행<\\/b>을 떠나기전 경주 유적지들의 드론촬영을 해보고 싶어서 미리 경주시 문화유산과에 촬영 허가를 받고 방문하였습니다 :D 경주대릉원  위치... \",\n",
      "\t\t\t\"bloggername\":\"태리네 가족은 여행중\",\n",
      "\t\t\t\"bloggerlink\":\"blog.naver.com\\/cooooooook\",\n",
      "\t\t\t\"postdate\":\"20241113\"\n",
      "\t\t},\n",
      "\t\t{\n",
      "\t\t\t\"title\":\"<b>경주여행<\\/b> 경주힐튼 조식 포함 숙박후기 실내수영장\",\n",
      "\t\t\t\"link\":\"https:\\/\\/blog.naver.com\\/kkuik20\\/223702301723\",\n",
      "\t\t\t\"description\":\"<b>경주여행<\\/b> 경주힐튼 조식 포함 숙박후기 실내수영장 연말 <b>경주 여행<\\/b> 오랜만에 와이프와 함께 <b>경주 여행<\\/b>을 하게 되었다. 사실 경주 자체가 목적이었다기보다는 와이프 출장건과 더불어 여행과 주변 지역에... \",\n",
      "\t\t\t\"bloggername\":\"꾸익의 일상\",\n",
      "\t\t\t\"bloggerlink\":\"blog.naver.com\\/kkuik20\",\n",
      "\t\t\t\"postdate\":\"20241222\"\n",
      "\t\t},\n",
      "\t\t{\n",
      "\t\t\t\"title\":\"<b>경주 여행<\\/b>코스 루지월드에서 만난 보물\",\n",
      "\t\t\t\"link\":\"https:\\/\\/blog.naver.com\\/dcndb\\/223661667998\",\n",
      "\t\t\t\"description\":\"이번에 처음 간 루지월드지만 나중에 <b>경주여행<\\/b>코스 정하게 된다면 꼭 다시 넣고 싶은 장소가 됐어요. 먹고 놀 것도 많으니 가족 나들이 장소로는 제격이라고 생각해요. 주소 : 경상북도 경주시 천북남로 16 전화... \",\n",
      "\t\t\t\"bloggername\":\"노오멀\",\n",
      "\t\t\t\"bloggerlink\":\"blog.naver.com\\/dcndb\",\n",
      "\t\t\t\"postdate\":\"20241115\"\n",
      "\t\t},\n",
      "\t\t{\n",
      "\t\t\t\"title\":\"경주 보문단지 맛집 효은옥 경주분점 <b>경주여행<\\/b> 한식\",\n",
      "\t\t\t\"link\":\"https:\\/\\/blog.naver.com\\/minimini48\\/223680380664\",\n",
      "\t\t\t\"description\":\"^^ 총평 여행의 마무리를 경주 보문단지 맛집 효은옥으로 하길 참 잘했다 생각이 들 정도로 맛도 양도 구성도 정말 마음에 쏙 들었던 곳이라 <b>경주 여행<\\/b> 가시는 분들은 꼭 잊지말고 가보세요!!... \",\n",
      "\t\t\t\"bloggername\":\"예은맘의 세상\",\n",
      "\t\t\t\"bloggerlink\":\"blog.naver.com\\/minimini48\",\n",
      "\t\t\t\"postdate\":\"20241202\"\n",
      "\t\t},\n",
      "\t\t{\n",
      "\t\t\t\"title\":\"<b>경주여행<\\/b>] 황리단길 일상 만화가의 집 &lt;도토리 캐리커처 경주... \",\n",
      "\t\t\t\"link\":\"https:\\/\\/blog.naver.com\\/chewie121417\\/223703944798\",\n",
      "\t\t\t\"description\":\"캐리커처 인스타로 링크 대체합니다 #셀티츄이 #셀티츄이_2024 #츄이투어 #츄이투어_경주 #반려견동반여행 #반려견동반<b>경주여행<\\/b> #<b>경주여행<\\/b> #중형견동반여행 #도토리캐리커처 #도토리캐리커쳐 #캐리커쳐 #화가삼춘\",\n",
      "\t\t\t\"bloggername\":\"aujourd'hui\",\n",
      "\t\t\t\"bloggerlink\":\"blog.naver.com\\/chewie121417\",\n",
      "\t\t\t\"postdate\":\"20241224\"\n",
      "\t\t},\n",
      "\t\t{\n",
      "\t\t\t\"title\":\"[21.03.15]<b>경주여행<\\/b> 3탄\",\n",
      "\t\t\t\"link\":\"https:\\/\\/blog.naver.com\\/jsalke819\\/223673958425\",\n",
      "\t\t\t\"description\":\"황리단길 한옥에서 하룻밤 잤어도 좋았을텐데 이때 <b>경주 여행<\\/b>은 숙소가 참 아쉬웠다. 황리단길은 한옥... 이렇게 경주에서의 2박 3일 여행은 끝이 났다. 늘 느끼는 거지만 여행의 2박 3일은 뭔가 아쉬운것 같다.... \",\n",
      "\t\t\t\"bloggername\":\"comme a blog ; 소소한 일상 블로그\",\n",
      "\t\t\t\"bloggerlink\":\"blog.naver.com\\/jsalke819\",\n",
      "\t\t\t\"postdate\":\"20241126\"\n",
      "\t\t},\n",
      "\t\t{\n",
      "\t\t\t\"title\":\"<b>경주 여행<\\/b> 동해 바다 전망대 주상절리 파도소리길\",\n",
      "\t\t\t\"link\":\"https:\\/\\/blog.naver.com\\/free3394\\/223679494319\",\n",
      "\t\t\t\"description\":\"아름다운 경주의 바다 여행길을 소개해 드릴게요. 1. 주상절리 전망대 위치 : 경북 경주시 양남면... 아름다운 동해 바다와 자연이 빚은 주상절리, <b>경주 여행<\\/b> 오시면 파도 소리길에 들러 겨울 바다의 풍경과 멋진... \",\n",
      "\t\t\t\"bloggername\":\"함꽁맘의 여행이야기 ♡\",\n",
      "\t\t\t\"bloggerlink\":\"blog.naver.com\\/free3394\",\n",
      "\t\t\t\"postdate\":\"20241202\"\n",
      "\t\t},\n",
      "\t\t{\n",
      "\t\t\t\"title\":\"<b>경주여행<\\/b>코스 정신 번쩍! 드는 루지월드\",\n",
      "\t\t\t\"link\":\"https:\\/\\/blog.naver.com\\/sangil00\\/223706072941\",\n",
      "\t\t\t\"description\":\"경주 루지월드는 복합놀이공간이라 생각될 만한 <b>경주여행<\\/b>코스였어요. 루지는 물론 레이저 아레나처럼 색다른 체험을 하기에도 적절한 곳이더라고요. 보문관광단지에서 맥도날드와 농협경주교육원 사잇길로... \",\n",
      "\t\t\t\"bloggername\":\"길을 찾는 즐거움_거칠부\",\n",
      "\t\t\t\"bloggerlink\":\"blog.naver.com\\/sangil00\",\n",
      "\t\t\t\"postdate\":\"20241226\"\n",
      "\t\t},\n",
      "\t\t{\n",
      "\t\t\t\"title\":\"<b>경주 여행<\\/b>에 필수 황리단길 디저트 젤라또모찌 달방앗간\",\n",
      "\t\t\t\"link\":\"https:\\/\\/blog.naver.com\\/deareunji81\\/223685579605\",\n",
      "\t\t\t\"description\":\"특히 경주의 분위기를 한껏 느낄 수 있는 맛있는 디저트라서 여행의 즐거움을 배가시켜줄 거예요. 달달한 디저트로 가득한 <b>경주 여행<\\/b>, 달방앗간은 무조건 리스트에 추가해야 해요!\",\n",
      "\t\t\t\"bloggername\":\"더 빛나는 당신\",\n",
      "\t\t\t\"bloggerlink\":\"blog.naver.com\\/deareunji81\",\n",
      "\t\t\t\"postdate\":\"20241207\"\n",
      "\t\t},\n",
      "\t\t{\n",
      "\t\t\t\"title\":\"<b>경주 여행<\\/b> 코스 추천 경북 드라이브코스 경주 도리마을 은행나무\",\n",
      "\t\t\t\"link\":\"https:\\/\\/blog.naver.com\\/tcacyc\\/223670786445\",\n",
      "\t\t\t\"description\":\"<b>경주 여행<\\/b> 코스 추천 경북 드라이브코스 경주 도리마을 여행 일자 : 2024년 11월 18일 글 사진 일상탈출 가을은 울긋불긋 단풍과 노랑 은행나무를 만나며 힐링하기 좋은 계절입니다. 문광과 아산에 이어 이번에는... \",\n",
      "\t\t\t\"bloggername\":\"일상탈출\",\n",
      "\t\t\t\"bloggerlink\":\"blog.naver.com\\/tcacyc\",\n",
      "\t\t\t\"postdate\":\"20241124\"\n",
      "\t\t}\n",
      "\t]\n",
      "}\n"
     ]
    }
   ],
   "source": [
    "import os\n",
    "import sys\n",
    "import urllib.request\n",
    "client_id = \"PEdh_oUh_6HvzCnKIEa7\"\n",
    "client_secret = \"FPyGzkvQLD\"\n",
    "encText = urllib.parse.quote(\"경주 여행\")\n",
    "url = \"https://openapi.naver.com/v1/search/blog?query=\" + encText # JSON 결과\n",
    "# url = \"https://openapi.naver.com/v1/search/blog.xml?query=\" + encText # XML 결과\n",
    "request = urllib.request.Request(url)\n",
    "request.add_header(\"X-Naver-Client-Id\",client_id)\n",
    "request.add_header(\"X-Naver-Client-Secret\",client_secret)\n",
    "response = urllib.request.urlopen(request)\n",
    "rescode = response.getcode()\n",
    "if(rescode==200):\n",
    "    response_body = response.read()\n",
    "    print(response_body.decode('utf-8'))\n",
    "else:\n",
    "    print(\"Error Code:\" + rescode)"
   ]
  },
  {
   "cell_type": "code",
   "execution_count": 3,
   "id": "37a07bd5",
   "metadata": {},
   "outputs": [],
   "source": [
    "from requests import get\n",
    "import time\n",
    "import os\n",
    "import json\n",
    "from html import unescape # &lt; -> <, &gt;-> >\n",
    "import pandas as pd"
   ]
  },
  {
   "cell_type": "code",
   "execution_count": 6,
   "id": "5372c80e",
   "metadata": {},
   "outputs": [],
   "source": [
    "# 네이버 API 계정 정보\n",
    "client_id = 'PEdh_oUh_6HvzCnKIEa7'\n",
    "client_secret = 'FPyGzkvQLD'\n",
    "queries = ['전주 여행', '경주 여행']\n",
    "max_start = 5"
   ]
  },
  {
   "cell_type": "code",
   "execution_count": 13,
   "id": "dea7561e",
   "metadata": {},
   "outputs": [
    {
     "name": "stdout",
     "output_type": "stream",
     "text": [
      "{\n",
      "\t\"lastBuildDate\":\"Mon, 30 Dec 2024 17:28:04 +0900\",\n",
      "\t\"total\":47106,\n",
      "\t\"start\":1,\n",
      "\t\"display\":100,\n",
      "\t\"items\":[\n",
      "\t\t{\n",
      "\t\t\t\"title\":\"<b>전주여행<\\/b> 대중교통이랑 렌트카중 어떤게 좋을까요?\",\n",
      "\t\t\t\"link\":\"https:\\/\\/kin.naver.com\\/qna\\/detail.naver?d1id=9&dirId=90110&docId=477694429&qb=7KCE7KO8IOyXrO2WiQ==&enc=utf8&section=kin.qna&rank=1&search_sort=0&spq=0\",\n",
      "\t\t\t\"description\":\"... <b>전주여행<\\/b>때 움직이기 차가 편할지 대중교통이 편할지 알려주세요. 교통 상황이 어떤지 궁금합니다. <b>전주여행<\\/b> 전주맛집 국내여행 전주달봉이 달봉티비 <b>전주여행<\\/b>코스 전주가볼만한곳 여수여행 여수가볼만한곳 제주도여행... \"\n",
      "\t\t},\n",
      "\t\t\n"
     ]
    }
   ],
   "source": [
    "query = \"전주 여행\"\n",
    "start = 0\n",
    "headers = {'X-Naver-Client-Id':client_id,\n",
    "           'X-Naver-Client-Secret':client_secret}\n",
    "url = f'https://openapi.naver.com/v1/search/kin.json?query={query}&display=100&start={start+1}'\n",
    "response = get(url, headers=headers)\n",
    "print(response.text[:500])"
   ]
  },
  {
   "cell_type": "code",
   "execution_count": 14,
   "id": "bc3b15b8",
   "metadata": {},
   "outputs": [],
   "source": [
    "# 데이터를 저장할 파일 생성 (naver_kin.txt)하고 title 저장\n",
    "file_name = 'data/naver_kin.txt'\n",
    "with open(file_name, 'w', encoding='utf-8') as file:\n",
    "    file.write('{}\\t{}\\t{}\\t{}\\t{}\\t{}\\n'.format('query', \n",
    "                            'no','title','link', 'description', 'total_text'))"
   ]
  },
  {
   "cell_type": "code",
   "execution_count": 16,
   "id": "0328b32c",
   "metadata": {},
   "outputs": [
    {
     "data": {
      "text/plain": [
       "{'title': '<b>전주여행</b> 대중교통이랑 렌트카중 어떤게 좋을까요?',\n",
       " 'link': 'https://kin.naver.com/qna/detail.naver?d1id=9&dirId=90110&docId=477694429&qb=7KCE7KO8IOyXrO2WiQ==&enc=utf8&section=kin.qna&rank=1&search_sort=0&spq=0',\n",
       " 'description': '... <b>전주여행</b>때 움직이기 차가 편할지 대중교통이 편할지 알려주세요. 교통 상황이 어떤지 궁금합니다. <b>전주여행</b> 전주맛집 국내여행 전주달봉이 달봉티비 <b>전주여행</b>코스 전주가볼만한곳 여수여행 여수가볼만한곳 제주도여행... '}"
      ]
     },
     "execution_count": 16,
     "metadata": {},
     "output_type": "execute_result"
    }
   ],
   "source": [
    "elements = json.loads(response.text)['items']\n",
    "elements[0]"
   ]
  },
  {
   "cell_type": "code",
   "execution_count": 22,
   "id": "b3a54fd0",
   "metadata": {},
   "outputs": [],
   "source": [
    "for i, element in enumerate(elements):\n",
    "    title = element['title'].replace('<b>', ' ').replace('</b>', ' ')\n",
    "    link = element['link']\n",
    "    description = element['description'].replace('<b>', ' ').replace('</b>', ' ')\n",
    "    description = unescape(description) # html 특수문자 처리(&lt; -> <로 대체)\n",
    "    # print(query, (start*100+i+1), title, link, description, title+' ' +description)\n",
    "    with open(file_name, 'a', encoding='utf-8') as file:\n",
    "        file.write('{}\\t{}\\t{}\\t{}\\t{}\\t{}\\n'.format(query, \n",
    "                                                     start*100+i+1,\n",
    "                                                     title,\n",
    "                                                     link,\n",
    "                                                     description, \n",
    "                                                     title + ' ' +description))"
   ]
  },
  {
   "cell_type": "code",
   "execution_count": 23,
   "id": "1c33e465",
   "metadata": {},
   "outputs": [
    {
     "data": {
      "text/html": [
       "<div>\n",
       "<style scoped>\n",
       "    .dataframe tbody tr th:only-of-type {\n",
       "        vertical-align: middle;\n",
       "    }\n",
       "\n",
       "    .dataframe tbody tr th {\n",
       "        vertical-align: top;\n",
       "    }\n",
       "\n",
       "    .dataframe thead th {\n",
       "        text-align: right;\n",
       "    }\n",
       "</style>\n",
       "<table border=\"1\" class=\"dataframe\">\n",
       "  <thead>\n",
       "    <tr style=\"text-align: right;\">\n",
       "      <th></th>\n",
       "      <th>query</th>\n",
       "      <th>no</th>\n",
       "      <th>title</th>\n",
       "      <th>link</th>\n",
       "      <th>description</th>\n",
       "      <th>total_text</th>\n",
       "    </tr>\n",
       "  </thead>\n",
       "  <tbody>\n",
       "    <tr>\n",
       "      <th>0</th>\n",
       "      <td>전주 여행</td>\n",
       "      <td>1</td>\n",
       "      <td>전주여행  대중교통이랑 렌트카중 어떤게 좋을까요?</td>\n",
       "      <td>https://kin.naver.com/qna/detail.naver?d1id=9&amp;...</td>\n",
       "      <td>...  전주여행 때 움직이기 차가 편할지 대중교통이 편할지 알려주세요. 교통 상황...</td>\n",
       "      <td>전주여행  대중교통이랑 렌트카중 어떤게 좋을까요? ...  전주여행 때 움직이기 ...</td>\n",
       "    </tr>\n",
       "    <tr>\n",
       "      <th>1</th>\n",
       "      <td>전주 여행</td>\n",
       "      <td>2</td>\n",
       "      <td>전주여행 갈려고하는데요!</td>\n",
       "      <td>https://kin.naver.com/qna/detail.naver?d1id=9&amp;...</td>\n",
       "      <td>전주여행 을 갈려고하는데요!아는사람과 갈려고하는데 호텔은 좋은가격에 정했고~ 음....</td>\n",
       "      <td>전주여행 갈려고하는데요!  전주여행 을 갈려고하는데요!아는사람과 갈려고하는데 호텔...</td>\n",
       "    </tr>\n",
       "  </tbody>\n",
       "</table>\n",
       "</div>"
      ],
      "text/plain": [
       "   query  no                         title  \\\n",
       "0  전주 여행   1   전주여행  대중교통이랑 렌트카중 어떤게 좋을까요?   \n",
       "1  전주 여행   2                 전주여행 갈려고하는데요!   \n",
       "\n",
       "                                                link  \\\n",
       "0  https://kin.naver.com/qna/detail.naver?d1id=9&...   \n",
       "1  https://kin.naver.com/qna/detail.naver?d1id=9&...   \n",
       "\n",
       "                                         description  \\\n",
       "0  ...  전주여행 때 움직이기 차가 편할지 대중교통이 편할지 알려주세요. 교통 상황...   \n",
       "1   전주여행 을 갈려고하는데요!아는사람과 갈려고하는데 호텔은 좋은가격에 정했고~ 음....   \n",
       "\n",
       "                                          total_text  \n",
       "0   전주여행  대중교통이랑 렌트카중 어떤게 좋을까요? ...  전주여행 때 움직이기 ...  \n",
       "1   전주여행 갈려고하는데요!  전주여행 을 갈려고하는데요!아는사람과 갈려고하는데 호텔...  "
      ]
     },
     "execution_count": 23,
     "metadata": {},
     "output_type": "execute_result"
    }
   ],
   "source": [
    "df = pd.read_csv('data/naver_kin.txt', sep='\\t')\n",
    "df.head(2)"
   ]
  },
  {
   "cell_type": "markdown",
   "id": "390165a9",
   "metadata": {},
   "source": [
    "# 내일(12.31)"
   ]
  },
  {
   "cell_type": "code",
   "execution_count": null,
   "id": "e6c4387c",
   "metadata": {},
   "outputs": [],
   "source": [
    "from requests import get\n",
    "import time\n",
    "import os\n",
    "import json\n",
    "from html import unescape # &lt; -> <, &gt;-> >\n",
    "import pandas as pd"
   ]
  },
  {
   "cell_type": "code",
   "execution_count": null,
   "id": "9feb958d",
   "metadata": {},
   "outputs": [],
   "source": [
    "# 네이버 API 계정 정보\n",
    "client_id = 'PEdh_oUh_6HvzCnKIEa7'\n",
    "client_secret = 'FPyGzkvQLD'\n",
    "queries = ['전주 여행', '경주 여행']\n",
    "max_start = 5"
   ]
  },
  {
   "cell_type": "code",
   "execution_count": null,
   "id": "9e838195",
   "metadata": {},
   "outputs": [],
   "source": [
    "def get_search_element_save(query, start):\n",
    "    headers = {'X-Naver-Client-Id':client_id,\n",
    "           'X-Naver-Client-Secret':client_secret}\n",
    "    url = f'https://openapi.naver.com/v1/search/kin.json?query={query}&display=100&start={start+1}'\n",
    "    response = get(url, headers=headers)\n",
    "    elements = json.loads(response.text)['items']\n",
    "    for i, element in enumerate(elements):\n",
    "        title = element['title'].replace('<b>', ' ').replace('</b>', ' ')\n",
    "        link = element['link']\n",
    "        description = element['description'].replace('<b>', ' ').replace('</b>', ' ')\n",
    "        description = unescape(description) # html 특수문자 처리(&lt; -> <로 대체)\n",
    "        # print(query, (start*100+i+1), title, link, description, title+' ' +description)\n",
    "        with open(file_name, 'a', encoding='utf-8') as file:\n",
    "            file.write('{}\\t{}\\t{}\\t{}\\t{}\\t{}\\n'.format(query, \n",
    "                                                         start*100+i+1,\n",
    "                                                         title,\n",
    "                                                         link,\n",
    "                                                         description, \n",
    "                                                         title + ' ' +description))"
   ]
  },
  {
   "cell_type": "code",
   "execution_count": null,
   "id": "f45bac7c",
   "metadata": {},
   "outputs": [],
   "source": [
    "# 데이터를 저장할 파일 생성 (naver_kin.txt)하고 title 저장\n",
    "file_name = 'data/naver_kin.txt'\n",
    "with open(file_name, 'w', encoding='utf-8') as file:\n",
    "    file.write('{}\\t{}\\t{}\\t{}\\t{}\\t{}\\n'.format('query', \n",
    "                            'no','title','link', 'description', 'total_text'))"
   ]
  },
  {
   "cell_type": "code",
   "execution_count": null,
   "id": "61fc6b28",
   "metadata": {},
   "outputs": [],
   "source": []
  },
  {
   "cell_type": "code",
   "execution_count": null,
   "id": "ae2938cc",
   "metadata": {},
   "outputs": [],
   "source": []
  },
  {
   "cell_type": "code",
   "execution_count": null,
   "id": "24d09707",
   "metadata": {},
   "outputs": [],
   "source": []
  },
  {
   "cell_type": "code",
   "execution_count": null,
   "id": "656f53bb",
   "metadata": {},
   "outputs": [],
   "source": []
  }
 ],
 "metadata": {
  "kernelspec": {
   "display_name": "Python 3 (ipykernel)",
   "language": "python",
   "name": "python3"
  },
  "language_info": {
   "codemirror_mode": {
    "name": "ipython",
    "version": 3
   },
   "file_extension": ".py",
   "mimetype": "text/x-python",
   "name": "python",
   "nbconvert_exporter": "python",
   "pygments_lexer": "ipython3",
   "version": "3.10.9"
  },
  "toc": {
   "base_numbering": 1,
   "nav_menu": {},
   "number_sections": false,
   "sideBar": true,
   "skip_h1_title": false,
   "title_cell": "Table of Contents",
   "title_sidebar": "Contents",
   "toc_cell": false,
   "toc_position": {},
   "toc_section_display": true,
   "toc_window_display": false
  }
 },
 "nbformat": 4,
 "nbformat_minor": 5
}
