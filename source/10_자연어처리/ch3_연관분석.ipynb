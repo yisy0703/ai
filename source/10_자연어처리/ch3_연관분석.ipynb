{
 "cells": [
  {
   "cell_type": "code",
   "execution_count": 1,
   "id": "3b0e526e",
   "metadata": {},
   "outputs": [
    {
     "data": {
      "text/html": [
       "\n",
       "<style>\n",
       "div.container{width:99% !important;}\n",
       "div.cell.code_cell.rendered{width:99%;}\n",
       "div.CodeMirror {font-family:Consolas; font-size:20pt;}\n",
       "div.output {font-size:18pt; font-weight:bold;}\n",
       "div.input {font-family:Consolas; font-size:19pt;}\n",
       "div.prompt {min-width:70px;}\n",
       "div#toc-wrapper{padding-top:120px;}\n",
       "span.toc-item-num{display:none;}\n",
       "div.text_cell_render ul li{font-size:16pt;padding:5px;}\n",
       "div.CodeMirror-lines > div {padding-left:10px;}\n",
       "table.dataframe{font-size:19px;}\n",
       "</style>\n"
      ],
      "text/plain": [
       "<IPython.core.display.HTML object>"
      ]
     },
     "metadata": {},
     "output_type": "display_data"
    }
   ],
   "source": [
    "from IPython.display import display, HTML\n",
    "display(HTML(\"\"\"\n",
    "<style>\n",
    "div.container{width:99% !important;}\n",
    "div.cell.code_cell.rendered{width:99%;}\n",
    "div.CodeMirror {font-family:Consolas; font-size:20pt;}\n",
    "div.output {font-size:18pt; font-weight:bold;}\n",
    "div.input {font-family:Consolas; font-size:19pt;}\n",
    "div.prompt {min-width:70px;}\n",
    "div#toc-wrapper{padding-top:120px;}\n",
    "span.toc-item-num{display:none;}\n",
    "div.text_cell_render ul li{font-size:16pt;padding:5px;}\n",
    "div.CodeMirror-lines > div {padding-left:10px;}\n",
    "table.dataframe{font-size:19px;}\n",
    "</style>\n",
    "\"\"\"))"
   ]
  },
  {
   "cell_type": "markdown",
   "id": "3d159abb",
   "metadata": {},
   "source": [
    "**<font size=\"5\" color=\"red\">ch3 연관분석</font>**\n",
    "- pip install apyori"
   ]
  },
  {
   "cell_type": "markdown",
   "id": "66088ce5",
   "metadata": {},
   "source": [
    "# 1. 연관분석 개요\n",
    "- 데이터들 사이에 자주 발생하는 속성을 찾고, 그 속성들 사이에 연관성이 어느 정도 있는지 분석하는 방법\n",
    "- 활용분야 : 상품진열, 사기보험적발, 신상품 카테고리 구성....\n",
    "\n",
    "```\n",
    "{조건:X ex오렌지주스} -> {결과:Y, ex:와인}\n",
    "연관분석과 관련 지표\n",
    "1. 지지도(support) : 전체 데이터 중에 조건결과 항목들의 포함된 거래 비율\n",
    "     (X, Y)의 항목수 / 전체 데이터수 ex.0.2\n",
    "2. 신뢰도(confidence) : 조건이 발생했을 때, 결과가 동시에 일어날 확률\n",
    "     (X, Y)의 항목수 / 조건항목수  ex.0.5\n",
    "3. 향상도(lift) : 우연히 발생한 규칙은 아닌지 확인\n",
    "     조건결과 지지도 / (조건지지도)*(결과지지도)\n",
    "     <1 : 음의 상관관계\n",
    "     >1 : 양의 상관관계\n",
    "                           지지도    신뢰도    향상도\n",
    "{오렌지주스} -> {와인}     1/5(0.2)  1/2(0.5)  0.2/0.4*0.6=0.2/0.24  = 0.833\n",
    "```"
   ]
  },
  {
   "cell_type": "code",
   "execution_count": 4,
   "id": "83785c06",
   "metadata": {},
   "outputs": [
    {
     "name": "stdout",
     "output_type": "stream",
     "text": [
      " D 드라이브의 볼륨에는 이름이 없습니다.\n",
      " 볼륨 일련 번호: 2D0E-15FE\n",
      "\n",
      " D:\\ai\\source\\10_자연어처리\\data 디렉터리\n",
      "\n",
      "2024-12-30  오전 09:03               119 cf_basket.csv\n",
      "               1개 파일                 119 바이트\n",
      "               0개 디렉터리  472,865,341,440 바이트 남음\n"
     ]
    }
   ],
   "source": [
    "%ls data\\cf_basket.csv"
   ]
  },
  {
   "cell_type": "markdown",
   "id": "3b622791",
   "metadata": {},
   "source": [
    "# 2. 연관분석 구현"
   ]
  },
  {
   "cell_type": "code",
   "execution_count": 10,
   "id": "0e665f01",
   "metadata": {},
   "outputs": [
    {
     "data": {
      "text/plain": [
       "[['소주', '콜라', '와인'],\n",
       " ['소주', '오렌지주스', '콜라'],\n",
       " ['맥주', '콜라', '와인'],\n",
       " ['소주', '콜라', '맥주'],\n",
       " ['오렌지주스', '와인']]"
      ]
     },
     "execution_count": 10,
     "metadata": {},
     "output_type": "execute_result"
    }
   ],
   "source": [
    "# 트랜젝션 데이터 가져오기\n",
    "import csv\n",
    "transaction = []\n",
    "with open('data/cf_basket.csv','r', encoding='utf-8') as f:\n",
    "    csvdata = csv.reader(f)\n",
    "    #print(list(csvdata))\n",
    "    for row in csvdata:\n",
    "        transaction.append(row)\n",
    "transaction"
   ]
  },
  {
   "cell_type": "code",
   "execution_count": 13,
   "id": "21ebafb4",
   "metadata": {},
   "outputs": [
    {
     "data": {
      "text/plain": [
       "18"
      ]
     },
     "execution_count": 13,
     "metadata": {},
     "output_type": "execute_result"
    }
   ],
   "source": [
    "from apyori import apriori\n",
    "rules = apriori(transaction, min_support=0.15, min_confidence=0.1)\n",
    "rules = list(rules)\n",
    "len(rules)"
   ]
  },
  {
   "cell_type": "code",
   "execution_count": 14,
   "id": "94dc253d",
   "metadata": {},
   "outputs": [
    {
     "data": {
      "text/plain": [
       "RelationRecord(items=frozenset({'와인', '콜라', '맥주'}), support=0.2, ordered_statistics=[OrderedStatistic(items_base=frozenset(), items_add=frozenset({'와인', '콜라', '맥주'}), confidence=0.2, lift=1.0), OrderedStatistic(items_base=frozenset({'맥주'}), items_add=frozenset({'와인', '콜라'}), confidence=0.5, lift=1.25), OrderedStatistic(items_base=frozenset({'와인'}), items_add=frozenset({'콜라', '맥주'}), confidence=0.33333333333333337, lift=0.8333333333333334), OrderedStatistic(items_base=frozenset({'콜라'}), items_add=frozenset({'와인', '맥주'}), confidence=0.25, lift=1.25), OrderedStatistic(items_base=frozenset({'와인', '맥주'}), items_add=frozenset({'콜라'}), confidence=1.0, lift=1.25), OrderedStatistic(items_base=frozenset({'콜라', '맥주'}), items_add=frozenset({'와인'}), confidence=0.5, lift=0.8333333333333334), OrderedStatistic(items_base=frozenset({'와인', '콜라'}), items_add=frozenset({'맥주'}), confidence=0.5, lift=1.25)])"
      ]
     },
     "execution_count": 14,
     "metadata": {},
     "output_type": "execute_result"
    }
   ],
   "source": [
    "rules[15]\n",
    "# items=frozenset({'와인', '콜라', '맥주'}),  support=0.2 : 이 세트가  함께 나타날 확률\n",
    "# items_base :  조건(lhs)\n",
    "# items_add : 결과(rhs)"
   ]
  },
  {
   "cell_type": "code",
   "execution_count": 19,
   "id": "d50ab3b6",
   "metadata": {},
   "outputs": [
    {
     "name": "stdout",
     "output_type": "stream",
     "text": [
      "맥주 => 와인, 콜라 \t 0.2 \t 0.5 \t 1.25\n",
      "콜라 => 와인, 맥주 \t 0.2 \t 0.25 \t 1.25\n",
      "와인, 맥주 => 콜라 \t 0.2 \t 1.0 \t 1.25\n",
      "와인, 콜라 => 맥주 \t 0.2 \t 0.5 \t 1.25\n"
     ]
    }
   ],
   "source": [
    "row = rules[15]\n",
    "support = row[1]\n",
    "ordered_st = row[2]\n",
    "for item in ordered_st:\n",
    "    lhs = ', '.join([x for x in item[0]])\n",
    "    rhs = ', '.join([x for x in item[1]])\n",
    "    confidence = item[2]\n",
    "    lift       = item[3]\n",
    "    if lift>1 : \n",
    "        print(\"{} => {} \\t {} \\t {} \\t {}\".format(lhs, rhs, support, confidence, lift))"
   ]
  },
  {
   "cell_type": "code",
   "execution_count": 28,
   "id": "17ca1573",
   "metadata": {},
   "outputs": [
    {
     "name": "stdout",
     "output_type": "stream",
     "text": [
      "조건 -> 결과 \t 지지도    \t신뢰도   \t향상도 \n",
      "맥주         -> 콜라         : 0.4 \t 1.0 \t 1.25\n",
      "콜라         -> 맥주         : 0.4 \t 0.5 \t 1.25\n",
      "소주         -> 콜라         : 0.6 \t 1.0 \t 1.25\n",
      "콜라         -> 소주         : 0.6 \t 0.75 \t 1.25\n",
      "콜라         -> 소주, 맥주     : 0.2 \t 0.25 \t 1.25\n",
      "소주, 맥주     -> 콜라         : 0.2 \t 1.0 \t 1.25\n",
      "맥주         -> 와인, 콜라     : 0.2 \t 0.5 \t 1.25\n",
      "콜라         -> 와인, 맥주     : 0.2 \t 0.25 \t 1.25\n",
      "와인, 맥주     -> 콜라         : 0.2 \t 1.0 \t 1.25\n",
      "와인, 콜라     -> 맥주         : 0.2 \t 0.5 \t 1.25\n",
      "소주         -> 오렌지주스, 콜라  : 0.2 \t 0.33 \t 1.67\n",
      "콜라         -> 오렌지주스, 소주  : 0.2 \t 0.25 \t 1.25\n",
      "오렌지주스, 소주  -> 콜라         : 0.2 \t 1.0 \t 1.25\n",
      "오렌지주스, 콜라  -> 소주         : 0.2 \t 1.0 \t 1.67\n",
      "콜라         -> 와인, 소주     : 0.2 \t 0.25 \t 1.25\n",
      "와인, 소주     -> 콜라         : 0.2 \t 1.0 \t 1.25\n"
     ]
    }
   ],
   "source": [
    "print('조건 -> 결과 \\t 지지도    \\t신뢰도   \\t향상도 ')\n",
    "for row in rules:\n",
    "    support = row[1]\n",
    "    ordered_st = row[2]\n",
    "    for item in ordered_st:\n",
    "        lhs = ', '.join([x for x in item[0]])\n",
    "        rhs = ', '.join([x for x in item[1]])\n",
    "        confidence = item[2]\n",
    "        lift       = item[3]\n",
    "        if lift > 1:\n",
    "            print(\"{:10} -> {:10} : {} \\t {} \\t {}\".format(lhs, rhs, \n",
    "                                                      support, \n",
    "                                                      round(confidence,2), \n",
    "                                                      round(lift,2)))"
   ]
  },
  {
   "cell_type": "code",
   "execution_count": 33,
   "id": "e02afe1d",
   "metadata": {},
   "outputs": [
    {
     "data": {
      "text/html": [
       "<div>\n",
       "<style scoped>\n",
       "    .dataframe tbody tr th:only-of-type {\n",
       "        vertical-align: middle;\n",
       "    }\n",
       "\n",
       "    .dataframe tbody tr th {\n",
       "        vertical-align: top;\n",
       "    }\n",
       "\n",
       "    .dataframe thead th {\n",
       "        text-align: right;\n",
       "    }\n",
       "</style>\n",
       "<table border=\"1\" class=\"dataframe\">\n",
       "  <thead>\n",
       "    <tr style=\"text-align: right;\">\n",
       "      <th></th>\n",
       "      <th>lhs</th>\n",
       "      <th>rhs</th>\n",
       "      <th>support</th>\n",
       "      <th>confidence</th>\n",
       "      <th>lift</th>\n",
       "    </tr>\n",
       "  </thead>\n",
       "  <tbody>\n",
       "    <tr>\n",
       "      <th>13</th>\n",
       "      <td>오렌지주스, 콜라</td>\n",
       "      <td>소주</td>\n",
       "      <td>0.2</td>\n",
       "      <td>1.000000</td>\n",
       "      <td>1.666667</td>\n",
       "    </tr>\n",
       "    <tr>\n",
       "      <th>0</th>\n",
       "      <td>맥주</td>\n",
       "      <td>콜라</td>\n",
       "      <td>0.4</td>\n",
       "      <td>1.000000</td>\n",
       "      <td>1.250000</td>\n",
       "    </tr>\n",
       "    <tr>\n",
       "      <th>2</th>\n",
       "      <td>소주</td>\n",
       "      <td>콜라</td>\n",
       "      <td>0.6</td>\n",
       "      <td>1.000000</td>\n",
       "      <td>1.250000</td>\n",
       "    </tr>\n",
       "    <tr>\n",
       "      <th>5</th>\n",
       "      <td>소주, 맥주</td>\n",
       "      <td>콜라</td>\n",
       "      <td>0.2</td>\n",
       "      <td>1.000000</td>\n",
       "      <td>1.250000</td>\n",
       "    </tr>\n",
       "    <tr>\n",
       "      <th>8</th>\n",
       "      <td>와인, 맥주</td>\n",
       "      <td>콜라</td>\n",
       "      <td>0.2</td>\n",
       "      <td>1.000000</td>\n",
       "      <td>1.250000</td>\n",
       "    </tr>\n",
       "    <tr>\n",
       "      <th>12</th>\n",
       "      <td>오렌지주스, 소주</td>\n",
       "      <td>콜라</td>\n",
       "      <td>0.2</td>\n",
       "      <td>1.000000</td>\n",
       "      <td>1.250000</td>\n",
       "    </tr>\n",
       "    <tr>\n",
       "      <th>15</th>\n",
       "      <td>와인, 소주</td>\n",
       "      <td>콜라</td>\n",
       "      <td>0.2</td>\n",
       "      <td>1.000000</td>\n",
       "      <td>1.250000</td>\n",
       "    </tr>\n",
       "    <tr>\n",
       "      <th>3</th>\n",
       "      <td>콜라</td>\n",
       "      <td>소주</td>\n",
       "      <td>0.6</td>\n",
       "      <td>0.750000</td>\n",
       "      <td>1.250000</td>\n",
       "    </tr>\n",
       "    <tr>\n",
       "      <th>1</th>\n",
       "      <td>콜라</td>\n",
       "      <td>맥주</td>\n",
       "      <td>0.4</td>\n",
       "      <td>0.500000</td>\n",
       "      <td>1.250000</td>\n",
       "    </tr>\n",
       "    <tr>\n",
       "      <th>6</th>\n",
       "      <td>맥주</td>\n",
       "      <td>와인, 콜라</td>\n",
       "      <td>0.2</td>\n",
       "      <td>0.500000</td>\n",
       "      <td>1.250000</td>\n",
       "    </tr>\n",
       "    <tr>\n",
       "      <th>9</th>\n",
       "      <td>와인, 콜라</td>\n",
       "      <td>맥주</td>\n",
       "      <td>0.2</td>\n",
       "      <td>0.500000</td>\n",
       "      <td>1.250000</td>\n",
       "    </tr>\n",
       "    <tr>\n",
       "      <th>10</th>\n",
       "      <td>소주</td>\n",
       "      <td>오렌지주스, 콜라</td>\n",
       "      <td>0.2</td>\n",
       "      <td>0.333333</td>\n",
       "      <td>1.666667</td>\n",
       "    </tr>\n",
       "    <tr>\n",
       "      <th>4</th>\n",
       "      <td>콜라</td>\n",
       "      <td>소주, 맥주</td>\n",
       "      <td>0.2</td>\n",
       "      <td>0.250000</td>\n",
       "      <td>1.250000</td>\n",
       "    </tr>\n",
       "    <tr>\n",
       "      <th>7</th>\n",
       "      <td>콜라</td>\n",
       "      <td>와인, 맥주</td>\n",
       "      <td>0.2</td>\n",
       "      <td>0.250000</td>\n",
       "      <td>1.250000</td>\n",
       "    </tr>\n",
       "    <tr>\n",
       "      <th>11</th>\n",
       "      <td>콜라</td>\n",
       "      <td>오렌지주스, 소주</td>\n",
       "      <td>0.2</td>\n",
       "      <td>0.250000</td>\n",
       "      <td>1.250000</td>\n",
       "    </tr>\n",
       "    <tr>\n",
       "      <th>14</th>\n",
       "      <td>콜라</td>\n",
       "      <td>와인, 소주</td>\n",
       "      <td>0.2</td>\n",
       "      <td>0.250000</td>\n",
       "      <td>1.250000</td>\n",
       "    </tr>\n",
       "  </tbody>\n",
       "</table>\n",
       "</div>"
      ],
      "text/plain": [
       "          lhs        rhs  support  confidence      lift\n",
       "13  오렌지주스, 콜라         소주      0.2    1.000000  1.666667\n",
       "0          맥주         콜라      0.4    1.000000  1.250000\n",
       "2          소주         콜라      0.6    1.000000  1.250000\n",
       "5      소주, 맥주         콜라      0.2    1.000000  1.250000\n",
       "8      와인, 맥주         콜라      0.2    1.000000  1.250000\n",
       "12  오렌지주스, 소주         콜라      0.2    1.000000  1.250000\n",
       "15     와인, 소주         콜라      0.2    1.000000  1.250000\n",
       "3          콜라         소주      0.6    0.750000  1.250000\n",
       "1          콜라         맥주      0.4    0.500000  1.250000\n",
       "6          맥주     와인, 콜라      0.2    0.500000  1.250000\n",
       "9      와인, 콜라         맥주      0.2    0.500000  1.250000\n",
       "10         소주  오렌지주스, 콜라      0.2    0.333333  1.666667\n",
       "4          콜라     소주, 맥주      0.2    0.250000  1.250000\n",
       "7          콜라     와인, 맥주      0.2    0.250000  1.250000\n",
       "11         콜라  오렌지주스, 소주      0.2    0.250000  1.250000\n",
       "14         콜라     와인, 소주      0.2    0.250000  1.250000"
      ]
     },
     "execution_count": 33,
     "metadata": {},
     "output_type": "execute_result"
    }
   ],
   "source": [
    "import pandas as pd\n",
    "rules_df = pd.DataFrame(None, columns=['lhs','rhs', 'support', 'confidence', 'lift'])\n",
    "\n",
    "index = 0\n",
    "for row in rules:\n",
    "    support = row[1]\n",
    "    ordered_st = row[2]\n",
    "    for item in ordered_st:\n",
    "        lhs = ', '.join([x for x in item[0]])\n",
    "        rhs = ', '.join([x for x in item[1]])\n",
    "        confidence = item[2]\n",
    "        lift       = item[3]\n",
    "        if lift > 1:\n",
    "            rules_df.loc[index] = [lhs, rhs, support, confidence, lift]\n",
    "            index += 1\n",
    "rules_df.sort_values(by=['confidence', 'lift'], ascending=False)"
   ]
  },
  {
   "cell_type": "markdown",
   "id": "e49d1b59",
   "metadata": {},
   "source": [
    "# 3. 뉴스 연관 분석\n",
    "- http://fs.jtbc.joins.com/RSS/economy.xml 기사 검색 후 -> 명사 추출(기자, 앵커 제외) -> \n",
    "    ->연관분석 (min_support=0.15, min_confidence=0.1)"
   ]
  },
  {
   "cell_type": "code",
   "execution_count": null,
   "id": "3148d7c8",
   "metadata": {},
   "outputs": [],
   "source": [
    "import requests\n",
    "from bs4 import BeautifulSoup\n",
    "from konlpy.tag import Komoran, Kkma\n",
    "from mecab import MeCab\n",
    "\n",
    "rss_url = \"http://fs.jtbc.joins.com/RSS/economy.xml\"\n",
    "jtbc_economy = requests.get(rss_url)\n",
    "soup = BeautifulSoup(jtbc_economy.content, 'xml')\n",
    "link_ele = soup.select('item link')\n",
    "link_list = [link.text for link in link_ele]\n",
    "\n"
   ]
  },
  {
   "cell_type": "code",
   "execution_count": null,
   "id": "de1f277b",
   "metadata": {},
   "outputs": [],
   "source": []
  },
  {
   "cell_type": "code",
   "execution_count": null,
   "id": "ef2c81dd",
   "metadata": {},
   "outputs": [],
   "source": []
  },
  {
   "cell_type": "code",
   "execution_count": null,
   "id": "5534f23e",
   "metadata": {},
   "outputs": [],
   "source": []
  },
  {
   "cell_type": "code",
   "execution_count": null,
   "id": "21cc8652",
   "metadata": {},
   "outputs": [],
   "source": []
  },
  {
   "cell_type": "code",
   "execution_count": null,
   "id": "f08e4189",
   "metadata": {},
   "outputs": [],
   "source": []
  },
  {
   "cell_type": "code",
   "execution_count": null,
   "id": "af530078",
   "metadata": {},
   "outputs": [],
   "source": []
  },
  {
   "cell_type": "code",
   "execution_count": null,
   "id": "a2ab63df",
   "metadata": {},
   "outputs": [],
   "source": []
  }
 ],
 "metadata": {
  "kernelspec": {
   "display_name": "Python 3 (ipykernel)",
   "language": "python",
   "name": "python3"
  },
  "language_info": {
   "codemirror_mode": {
    "name": "ipython",
    "version": 3
   },
   "file_extension": ".py",
   "mimetype": "text/x-python",
   "name": "python",
   "nbconvert_exporter": "python",
   "pygments_lexer": "ipython3",
   "version": "3.10.9"
  },
  "toc": {
   "base_numbering": 1,
   "nav_menu": {},
   "number_sections": false,
   "sideBar": true,
   "skip_h1_title": false,
   "title_cell": "Table of Contents",
   "title_sidebar": "Contents",
   "toc_cell": false,
   "toc_position": {},
   "toc_section_display": true,
   "toc_window_display": false
  }
 },
 "nbformat": 4,
 "nbformat_minor": 5
}
