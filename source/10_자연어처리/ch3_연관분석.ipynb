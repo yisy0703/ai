{
 "cells": [
  {
   "cell_type": "code",
   "execution_count": 1,
   "id": "f67f3f5a",
   "metadata": {},
   "outputs": [
    {
     "data": {
      "text/html": [
       "\n",
       "<style>\n",
       "div.container{width:99% !important;}\n",
       "div.cell.code_cell.rendered{width:99%;}\n",
       "div.CodeMirror {font-family:Consolas; font-size:20pt;}\n",
       "div.output {font-size:18pt; font-weight:bold;}\n",
       "div.input {font-family:Consolas; font-size:19pt;}\n",
       "div.prompt {min-width:70px;}\n",
       "div#toc-wrapper{padding-top:120px;}\n",
       "span.toc-item-num{display:none;}\n",
       "div.text_cell_render ul li{font-size:16pt;padding:5px;}\n",
       "div.CodeMirror-lines > div {padding-left:10px;}\n",
       "table.dataframe{font-size:19px;}\n",
       "</style>\n"
      ],
      "text/plain": [
       "<IPython.core.display.HTML object>"
      ]
     },
     "metadata": {},
     "output_type": "display_data"
    }
   ],
   "source": [
    "from IPython.display import display, HTML\n",
    "display(HTML(\"\"\"\n",
    "<style>\n",
    "div.container{width:99% !important;}\n",
    "div.cell.code_cell.rendered{width:99%;}\n",
    "div.CodeMirror {font-family:Consolas; font-size:20pt;}\n",
    "div.output {font-size:18pt; font-weight:bold;}\n",
    "div.input {font-family:Consolas; font-size:19pt;}\n",
    "div.prompt {min-width:70px;}\n",
    "div#toc-wrapper{padding-top:120px;}\n",
    "span.toc-item-num{display:none;}\n",
    "div.text_cell_render ul li{font-size:16pt;padding:5px;}\n",
    "div.CodeMirror-lines > div {padding-left:10px;}\n",
    "table.dataframe{font-size:19px;}\n",
    "</style>\n",
    "\"\"\"))"
   ]
  },
  {
   "cell_type": "markdown",
   "id": "147f896d",
   "metadata": {},
   "source": [
    "**<font size=\"5\" color=\"red\">ch3 연관분석</font>**\n",
    "- pip install apyori"
   ]
  },
  {
   "cell_type": "markdown",
   "id": "4a29fcc9",
   "metadata": {},
   "source": [
    "# 1. 연관분석 개요\n",
    "- 데이터들 사이에 자주 발생하는 속성을 찾고, 그 속성들 사이에 연관성이 어느 정도 있는지 분석하는 방법\n",
    "- 활용분야 : 상품진열, 사기보험적발, 신상품 카테고리 구성....\n",
    "\n",
    "```\n",
    "{조건:X ex오렌지주스} -> {결과:Y, ex:와인}\n",
    "연관분석과 관련 지표\n",
    "1. 지지도(support) : 전체 데이터 중에 조건결과 항목들의 포함된 거래 비율\n",
    "     (X, Y)의 항목수 / 전체 데이터수 ex.0.2\n",
    "2. 신뢰도(confidence) : 조건이 발생했을 때, 결과가 동시에 일어날 확률\n",
    "     (X, Y)의 항목수 / 조건항목수  ex.0.5\n",
    "3. 향상도(lift) : 우연히 발생한 규칙은 아닌지 확인\n",
    "     조건결과 지지도 / (조건지지도)*(결과지지도)\n",
    "     <1 : 음의 상관관계\n",
    "     >1 : 양의 상관관계\n",
    "                           지지도    신뢰도    향상도\n",
    "{오렌지주스} -> {와인}     1/5(0.2)  1/2(0.5)  0.2/0.4*0.6=0.2/0.24  = 0.833\n",
    "```"
   ]
  },
  {
   "cell_type": "code",
   "execution_count": 4,
   "id": "58dacc65",
   "metadata": {},
   "outputs": [
    {
     "name": "stdout",
     "output_type": "stream",
     "text": [
      " D 드라이브의 볼륨에는 이름이 없습니다.\n",
      " 볼륨 일련 번호: 2D0E-15FE\n",
      "\n",
      " D:\\ai\\source\\10_자연어처리\\data 디렉터리\n",
      "\n",
      "2024-12-30  오전 09:03               119 cf_basket.csv\n",
      "               1개 파일                 119 바이트\n",
      "               0개 디렉터리  472,865,341,440 바이트 남음\n"
     ]
    }
   ],
   "source": [
    "%ls data\\cf_basket.csv"
   ]
  },
  {
   "cell_type": "markdown",
   "id": "41c7668e",
   "metadata": {},
   "source": [
    "# 2. 연관분석 구현"
   ]
  },
  {
   "cell_type": "code",
   "execution_count": 10,
   "id": "58c78d75",
   "metadata": {},
   "outputs": [
    {
     "data": {
      "text/plain": [
       "[['소주', '콜라', '와인'],\n",
       " ['소주', '오렌지주스', '콜라'],\n",
       " ['맥주', '콜라', '와인'],\n",
       " ['소주', '콜라', '맥주'],\n",
       " ['오렌지주스', '와인']]"
      ]
     },
     "execution_count": 10,
     "metadata": {},
     "output_type": "execute_result"
    }
   ],
   "source": [
    "# 트랜젝션 데이터 가져오기\n",
    "import csv\n",
    "transaction = []\n",
    "with open('data/cf_basket.csv','r', encoding='utf-8') as f:\n",
    "    csvdata = csv.reader(f)\n",
    "    #print(list(csvdata))\n",
    "    for row in csvdata:\n",
    "        transaction.append(row)\n",
    "transaction"
   ]
  },
  {
   "cell_type": "code",
   "execution_count": null,
   "id": "7c93cb67",
   "metadata": {},
   "outputs": [],
   "source": [
    "from apyori import apriori\n",
    "rules = apriori"
   ]
  },
  {
   "cell_type": "code",
   "execution_count": null,
   "id": "64ac6429",
   "metadata": {},
   "outputs": [],
   "source": []
  },
  {
   "cell_type": "code",
   "execution_count": null,
   "id": "fed81208",
   "metadata": {},
   "outputs": [],
   "source": []
  },
  {
   "cell_type": "code",
   "execution_count": null,
   "id": "2f15fa15",
   "metadata": {},
   "outputs": [],
   "source": []
  }
 ],
 "metadata": {
  "kernelspec": {
   "display_name": "Python 3 (ipykernel)",
   "language": "python",
   "name": "python3"
  },
  "language_info": {
   "codemirror_mode": {
    "name": "ipython",
    "version": 3
   },
   "file_extension": ".py",
   "mimetype": "text/x-python",
   "name": "python",
   "nbconvert_exporter": "python",
   "pygments_lexer": "ipython3",
   "version": "3.10.9"
  },
  "toc": {
   "base_numbering": 1,
   "nav_menu": {},
   "number_sections": false,
   "sideBar": true,
   "skip_h1_title": false,
   "title_cell": "Table of Contents",
   "title_sidebar": "Contents",
   "toc_cell": false,
   "toc_position": {},
   "toc_section_display": true,
   "toc_window_display": false
  }
 },
 "nbformat": 4,
 "nbformat_minor": 5
}
