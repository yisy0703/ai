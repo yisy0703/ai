{
 "cells": [
  {
   "cell_type": "code",
   "execution_count": 1,
   "id": "dc5996be",
   "metadata": {},
   "outputs": [
    {
     "data": {
      "text/html": [
       "\n",
       "<style>\n",
       "div.container{width:99% !important;}\n",
       "div.cell.code_cell.rendered{width:99%;}\n",
       "div.CodeMirror {font-family:Consolas; font-size:20pt;}\n",
       "div.output {font-size:18pt; font-weight:bold;}\n",
       "div.input {font-family:Consolas; font-size:19pt;}\n",
       "div.prompt {min-width:70px;}\n",
       "div#toc-wrapper{padding-top:120px;}\n",
       "span.toc-item-num{display:none;}\n",
       "div.text_cell_render ul li{font-size:16pt;padding:5px;}\n",
       "div.CodeMirror-lines > div {padding-left:10px;}\n",
       "table.dataframe{font-size:19px;}\n",
       "</style>\n"
      ],
      "text/plain": [
       "<IPython.core.display.HTML object>"
      ]
     },
     "metadata": {},
     "output_type": "display_data"
    }
   ],
   "source": [
    "from IPython.display import display, HTML\n",
    "display(HTML(\"\"\"\n",
    "<style>\n",
    "div.container{width:99% !important;}\n",
    "div.cell.code_cell.rendered{width:99%;}\n",
    "div.CodeMirror {font-family:Consolas; font-size:20pt;}\n",
    "div.output {font-size:18pt; font-weight:bold;}\n",
    "div.input {font-family:Consolas; font-size:19pt;}\n",
    "div.prompt {min-width:70px;}\n",
    "div#toc-wrapper{padding-top:120px;}\n",
    "span.toc-item-num{display:none;}\n",
    "div.text_cell_render ul li{font-size:16pt;padding:5px;}\n",
    "div.CodeMirror-lines > div {padding-left:10px;}\n",
    "table.dataframe{font-size:19px;}\n",
    "</style>\n",
    "\"\"\"))"
   ]
  },
  {
   "cell_type": "markdown",
   "id": "481322be",
   "metadata": {},
   "source": [
    "# 인코더 LSTM과 디코더 LSTM으로 스마트 번역기 만들기"
   ]
  },
  {
   "cell_type": "code",
   "execution_count": 33,
   "id": "6cb2ca7c",
   "metadata": {},
   "outputs": [],
   "source": [
    "# 1. 패키지 수입\n",
    "import numpy as np\n",
    "import pandas as pd\n",
    "from time import time\n",
    "\n",
    "from tensorflow.keras.layers import Input, LSTM, Dense\n",
    "from tensorflow.keras.models import Model\n",
    "from tensorflow.keras.utils import to_categorical\n",
    "\n",
    "# 하이퍼 파라미터 (정확도나 속도에 영향을 미치는 값)\n",
    "MY_HIDDEN = 128\n",
    "MY_EPOCH  = 500"
   ]
  },
  {
   "cell_type": "code",
   "execution_count": 8,
   "id": "b3c1c01c",
   "metadata": {},
   "outputs": [
    {
     "name": "stdout",
     "output_type": "stream",
     "text": [
      "110\n",
      "[['cold', '감기'], ['come', '오다'], ['cook', '요리']]\n"
     ]
    }
   ],
   "source": [
    "# 2. 번역 데이터 불러오기\n",
    "raw = pd.read_csv('trans_dataset/translate.csv', header=None)\n",
    "eng_kor = raw.values.tolist() # 데이터 프레임을 list로 변환\n",
    "print(len(eng_kor))\n",
    "print(eng_kor[:3])"
   ]
  },
  {
   "cell_type": "code",
   "execution_count": 22,
   "id": "b472402d",
   "metadata": {},
   "outputs": [
    {
     "name": "stdout",
     "output_type": "stream",
     "text": [
      "영어와 한글 알파벳 :  ['S', 'E', 'P', 'a', 'b', 'c', 'd', 'e', 'f', 'g', 'h', 'i', 'j', 'k', 'l', 'm', 'n', 'o', 'p', 'q', 'r', 's', 't', 'u', 'v', 'w', 'x', 'y', 'z', '가', '각', '간', '감', '개', '거', '것', '게', '계', '고', '관', '광', '구', '굴', '규', '그', '금', '기', '깊', '나', '날', '남', '내', '넓', '녀', '노', '놀', '농', '높', '뉴', '늦', '다', '단', '도', '동', '들', '람', '랑', '래', '램', '류', '름', '릎', '리', '많', '망', '매', '머', '먼', '멍', '메', '명', '모', '목', '무', '물', '미', '바', '반', '방', '번', '복', '부', '분', '붕', '비', '뿌', '사', '상', '색', '생', '서', '선', '소', '손', '수', '쉽', '스', '시', '식', '실', '싸', '아', '약', '얇', '어', '언', '얼', '여', '연', '오', '옥', '왼', '요', '용', '우', '운', '움', '위', '유', '은', '을', '음', '의', '이', '익', '인', '읽', '입', '자', '작', '장', '적', '제', '좋', '주', '지', '짜', '쪽', '찾', '책', '출', '칙', '크', '키', '탈', '택', '통', '파', '팔', '편', '피', '핑', '한', '합', '해', '행', '험', '회', '획', '휴', '흐']\n",
      "전체 알파벳 갯수(원핫인코딩할 size) : 171\n",
      "영어 알파벳 갯수 : 29\n",
      "한글 글자수 갯수 : 142\n"
     ]
    }
   ],
   "source": [
    "# 3. 영어알파벳과 한글알파벳 리스트 만들기\n",
    "\n",
    "e_alpha = [c for c in 'SEPabcdefghijklmnopqrstuvwxyz']\n",
    "# {c:i for i, c in enumerate(e_alpha)}\n",
    "k_alpha = pd.read_csv('trans_dataset/korean.csv', header=None)[0].tolist()\n",
    "alpha = e_alpha + k_alpha\n",
    "print('영어와 한글 알파벳 : ', alpha)\n",
    "alpha_total_size = len(alpha)\n",
    "print('전체 알파벳 갯수(원핫인코딩할 size) :', alpha_total_size)\n",
    "print('영어 알파벳 갯수 :', len(e_alpha))\n",
    "print('한글 글자수 갯수 :', len(k_alpha))"
   ]
  },
  {
   "cell_type": "code",
   "execution_count": 24,
   "id": "3f8261ed",
   "metadata": {},
   "outputs": [
    {
     "name": "stdout",
     "output_type": "stream",
     "text": [
      "{'S': 0, 'E': 1, 'P': 2, 'a': 3, 'b': 4, 'c': 5, 'd': 6, 'e': 7, 'f': 8, 'g': 9, 'h': 10, 'i': 11, 'j': 12, 'k': 13, 'l': 14, 'm': 15, 'n': 16, 'o': 17, 'p': 18, 'q': 19, 'r': 20, 's': 21, 't': 22, 'u': 23, 'v': 24, 'w': 25, 'x': 26, 'y': 27, 'z': 28, '가': 29, '각': 30, '간': 31, '감': 32, '개': 33, '거': 34, '것': 35, '게': 36, '계': 37, '고': 38, '관': 39, '광': 40, '구': 41, '굴': 42, '규': 43, '그': 44, '금': 45, '기': 46, '깊': 47, '나': 48, '날': 49, '남': 50, '내': 51, '넓': 52, '녀': 53, '노': 54, '놀': 55, '농': 56, '높': 57, '뉴': 58, '늦': 59, '다': 60, '단': 61, '도': 62, '동': 63, '들': 64, '람': 65, '랑': 66, '래': 67, '램': 68, '류': 69, '름': 70, '릎': 71, '리': 72, '많': 73, '망': 74, '매': 75, '머': 76, '먼': 77, '멍': 78, '메': 79, '명': 80, '모': 81, '목': 82, '무': 83, '물': 84, '미': 85, '바': 86, '반': 87, '방': 88, '번': 89, '복': 90, '부': 91, '분': 92, '붕': 93, '비': 94, '뿌': 95, '사': 96, '상': 97, '색': 98, '생': 99, '서': 100, '선': 101, '소': 102, '손': 103, '수': 104, '쉽': 105, '스': 106, '시': 107, '식': 108, '실': 109, '싸': 110, '아': 111, '약': 112, '얇': 113, '어': 114, '언': 115, '얼': 116, '여': 117, '연': 118, '오': 119, '옥': 120, '왼': 121, '요': 122, '용': 123, '우': 124, '운': 125, '움': 126, '위': 127, '유': 128, '은': 129, '을': 130, '음': 131, '의': 132, '이': 133, '익': 134, '인': 135, '읽': 136, '입': 137, '자': 138, '작': 139, '장': 140, '적': 141, '제': 142, '좋': 143, '주': 144, '지': 145, '짜': 146, '쪽': 147, '찾': 148, '책': 149, '출': 150, '칙': 151, '크': 152, '키': 153, '탈': 154, '택': 155, '통': 156, '파': 157, '팔': 158, '편': 159, '피': 160, '핑': 161, '한': 162, '합': 163, '해': 164, '행': 165, '험': 166, '회': 167, '획': 168, '휴': 169, '흐': 170}\n"
     ]
    }
   ],
   "source": [
    "# 문자당 num를 갖는 dict 만들기\n",
    "char_to_num = {c:i for i, c in enumerate(alpha)}\n",
    "print(char_to_num)"
   ]
  },
  {
   "cell_type": "code",
   "execution_count": 32,
   "id": "b586af79",
   "metadata": {},
   "outputs": [
    {
     "name": "stdout",
     "output_type": "stream",
     "text": [
      "5 17 14 6\n",
      "[5, 17, 14, 6]\n",
      "32 46\n",
      "[32, 46]\n"
     ]
    }
   ],
   "source": [
    "eng_kor[0]\n",
    "print(char_to_num['c'], char_to_num['o'], char_to_num['l'], char_to_num['d'])\n",
    "print([char_to_num[c] for c in eng_kor[0][0]])\n",
    "print(char_to_num['감'], char_to_num['기'])\n",
    "print([char_to_num[c] for c in eng_kor[0][1]])"
   ]
  },
  {
   "cell_type": "code",
   "execution_count": 38,
   "id": "850133a5",
   "metadata": {},
   "outputs": [
    {
     "data": {
      "text/plain": [
       "array([[0., 0., 0., 0., 0., 1., 0., 0., 0., 0.],\n",
       "       [0., 0., 0., 1., 0., 0., 0., 0., 0., 0.],\n",
       "       [0., 0., 0., 0., 0., 0., 1., 0., 0., 0.]], dtype=float32)"
      ]
     },
     "execution_count": 38,
     "metadata": {},
     "output_type": "execute_result"
    }
   ],
   "source": [
    "# 원핫인코딩 방법1 : 이 코드에서는 적용 힘듦. display(pd.get_dummies([5, 3, 6]))\n",
    "# 원핫인코딩 방법2\n",
    "to_categorical([5, 3, 6], num_classes=10) # 0~9인덱스 원핫인코딩"
   ]
  },
  {
   "cell_type": "code",
   "execution_count": 41,
   "id": "63860af9",
   "metadata": {},
   "outputs": [
    {
     "data": {
      "text/plain": [
       "array([[0., 0., 0., 0., 0., 1., 0., 0., 0., 0.],\n",
       "       [0., 0., 0., 1., 0., 0., 0., 0., 0., 0.],\n",
       "       [0., 0., 0., 0., 0., 0., 1., 0., 0., 0.]])"
      ]
     },
     "execution_count": 41,
     "metadata": {},
     "output_type": "execute_result"
    }
   ],
   "source": [
    "# 원핫인코딩 방법3 : 단위행렬을 이용한 방법\n",
    "np.eye(10)[[5,3,6]]"
   ]
  },
  {
   "cell_type": "code",
   "execution_count": 42,
   "id": "7e8bd362",
   "metadata": {},
   "outputs": [
    {
     "data": {
      "text/plain": [
       "[['cold', '감기'],\n",
       " ['come', '오다'],\n",
       " ['cook', '요리'],\n",
       " ['copy', '복사'],\n",
       " ['cost', '비용'],\n",
       " ['date', '날짜'],\n",
       " ['deal', '거래'],\n",
       " ['deep', '깊은'],\n",
       " ['desk', '책상'],\n",
       " ['down', '아래'],\n",
       " ['dust', '먼지'],\n",
       " ['duty', '의무'],\n",
       " ['each', '각각'],\n",
       " ['east', '동쪽'],\n",
       " ['easy', '쉽다'],\n",
       " ['exit', '탈출'],\n",
       " ['face', '얼굴'],\n",
       " ['fact', '사실'],\n",
       " ['fall', '가을'],\n",
       " ['farm', '농장'],\n",
       " ['feet', '다리'],\n",
       " ['find', '찾다'],\n",
       " ['fine', '좋다'],\n",
       " ['fish', '생선'],\n",
       " ['flow', '흐름'],\n",
       " ['fund', '기금'],\n",
       " ['gain', '수익'],\n",
       " ['game', '놀이'],\n",
       " ['gift', '선물'],\n",
       " ['girl', '소녀'],\n",
       " ['give', '주다'],\n",
       " ['goal', '목적'],\n",
       " ['gray', '회색'],\n",
       " ['hair', '머리'],\n",
       " ['harm', '피해'],\n",
       " ['hell', '지옥'],\n",
       " ['help', '도움'],\n",
       " ['high', '높은'],\n",
       " ['hole', '구멍'],\n",
       " ['hope', '소망'],\n",
       " ['hour', '시각'],\n",
       " ['join', '합류'],\n",
       " ['kiss', '키스'],\n",
       " ['knee', '무릎'],\n",
       " ['lady', '부인'],\n",
       " ['late', '늦은'],\n",
       " ['left', '왼쪽'],\n",
       " ['life', '생명'],\n",
       " ['loss', '손해'],\n",
       " ['love', '사랑'],\n",
       " ['luck', '행운'],\n",
       " ['mail', '우편'],\n",
       " ['male', '남자'],\n",
       " ['many', '많은'],\n",
       " ['meal', '식사'],\n",
       " ['meat', '고기'],\n",
       " ['menu', '메뉴'],\n",
       " ['milk', '우유'],\n",
       " ['name', '이름'],\n",
       " ['news', '뉴스'],\n",
       " ['next', '다음'],\n",
       " ['once', '한번'],\n",
       " ['pain', '고통'],\n",
       " ['part', '부분'],\n",
       " ['pick', '선택'],\n",
       " ['pink', '핑크'],\n",
       " ['plan', '계획'],\n",
       " ['read', '읽다'],\n",
       " ['rest', '휴식'],\n",
       " ['ring', '반지'],\n",
       " ['rock', '바위'],\n",
       " ['roof', '지붕'],\n",
       " ['root', '뿌리'],\n",
       " ['rose', '장미'],\n",
       " ['rule', '규칙'],\n",
       " ['salt', '소금'],\n",
       " ['sand', '모래'],\n",
       " ['sell', '팔다'],\n",
       " ['shop', '가게'],\n",
       " ['sign', '싸인'],\n",
       " ['size', '크기'],\n",
       " ['skin', '피부'],\n",
       " ['slow', '늦다'],\n",
       " ['song', '노래'],\n",
       " ['soon', '금방'],\n",
       " ['tall', '크다'],\n",
       " ['test', '시험'],\n",
       " ['them', '그들'],\n",
       " ['thin', '얇은'],\n",
       " ['this', '이것'],\n",
       " ['time', '시간'],\n",
       " ['tiny', '작은'],\n",
       " ['tool', '도구'],\n",
       " ['tour', '관광'],\n",
       " ['tree', '나무'],\n",
       " ['trip', '여행'],\n",
       " ['very', '매우'],\n",
       " ['wave', '파도'],\n",
       " ['weak', '약한'],\n",
       " ['wear', '입다'],\n",
       " ['west', '서쪽'],\n",
       " ['when', '언제'],\n",
       " ['wide', '넓은'],\n",
       " ['wife', '아내'],\n",
       " ['wind', '바람'],\n",
       " ['wing', '날개'],\n",
       " ['wish', '바램'],\n",
       " ['wood', '나무'],\n",
       " ['word', '단어'],\n",
       " ['year', '연도']]"
      ]
     },
     "execution_count": 42,
     "metadata": {},
     "output_type": "execute_result"
    }
   ],
   "source": [
    "# 5. 인코더 입력(영어알파벳을 숫자로 바꾼 값을 원핫인코딩), \n",
    "#    디코더 입력(\"S한글\"을 숫자로 바꾼 값을 원핫인코딩)\n",
    "#    디코더 출력(\"한글E\"을 숫자로 바꾼 값)"
   ]
  },
  {
   "cell_type": "code",
   "execution_count": null,
   "id": "23f647b2",
   "metadata": {},
   "outputs": [],
   "source": []
  },
  {
   "cell_type": "code",
   "execution_count": null,
   "id": "915248e1",
   "metadata": {},
   "outputs": [],
   "source": []
  },
  {
   "cell_type": "code",
   "execution_count": null,
   "id": "af0146b5",
   "metadata": {},
   "outputs": [],
   "source": []
  },
  {
   "cell_type": "code",
   "execution_count": null,
   "id": "d721eb94",
   "metadata": {},
   "outputs": [],
   "source": []
  },
  {
   "cell_type": "code",
   "execution_count": null,
   "id": "c964b67e",
   "metadata": {},
   "outputs": [],
   "source": []
  },
  {
   "cell_type": "code",
   "execution_count": null,
   "id": "d9869df4",
   "metadata": {},
   "outputs": [],
   "source": []
  }
 ],
 "metadata": {
  "kernelspec": {
   "display_name": "Python 3 (ipykernel)",
   "language": "python",
   "name": "python3"
  },
  "language_info": {
   "codemirror_mode": {
    "name": "ipython",
    "version": 3
   },
   "file_extension": ".py",
   "mimetype": "text/x-python",
   "name": "python",
   "nbconvert_exporter": "python",
   "pygments_lexer": "ipython3",
   "version": "3.10.9"
  },
  "toc": {
   "base_numbering": 1,
   "nav_menu": {},
   "number_sections": false,
   "sideBar": true,
   "skip_h1_title": false,
   "title_cell": "Table of Contents",
   "title_sidebar": "Contents",
   "toc_cell": false,
   "toc_position": {},
   "toc_section_display": true,
   "toc_window_display": false
  }
 },
 "nbformat": 4,
 "nbformat_minor": 5
}
