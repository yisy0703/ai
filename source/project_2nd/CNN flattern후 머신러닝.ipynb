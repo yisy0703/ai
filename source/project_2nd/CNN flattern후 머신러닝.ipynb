{
 "cells": [
  {
   "cell_type": "code",
   "execution_count": 2,
   "id": "016547be",
   "metadata": {},
   "outputs": [],
   "source": [
    "from tensorflow.keras import Sequential\n",
    "from tensorflow.keras.layers import Input, Conv2D, MaxPooling2D, Flatten, Dense\n",
    "from tensorflow.keras.callbacks import EarlyStopping, Callback\n",
    "import pandas as pd # crosstab\n",
    "from sklearn.metrics import confusion_matrix\n",
    "import matplotlib.pyplot as plt\n",
    "from sklearn.ensemble import RandomForestClassifier \n",
    "from xgboost import XGBClassifier # pip install xgboost\n",
    "from lightgbm import LGBMClassifier # pip install lightgbm\n",
    "from sklearn.metrics import accuracy_score\n",
    "import numpy as np"
   ]
  },
  {
   "cell_type": "code",
   "execution_count": 3,
   "id": "1593af69",
   "metadata": {},
   "outputs": [
    {
     "name": "stdout",
     "output_type": "stream",
     "text": [
      "(60000, 28, 28) (60000,) (10000, 28, 28) (10000,)\n",
      "(60000, 28, 28, 1) (60000,) (10000, 28, 28, 1) (10000,)\n"
     ]
    }
   ],
   "source": [
    "#  1. 데이터\n",
    "from tensorflow.keras.datasets import mnist\n",
    "(X_train, y_train), (X_test, y_test) = mnist.load_data()\n",
    "print(X_train.shape, y_train.shape, X_test.shape, y_test.shape)\n",
    "X_train = X_train.reshape(-1, 28,28,1)/255.0\n",
    "X_test = X_test.reshape(-1, 28,28,1)/255.0\n",
    "print(X_train.shape, y_train.shape, X_test.shape, y_test.shape)"
   ]
  },
  {
   "cell_type": "code",
   "execution_count": 4,
   "id": "57bbfc63",
   "metadata": {},
   "outputs": [
    {
     "data": {
      "text/plain": [
       "((7000, 28, 28, 1), (7000,), (3000, 28, 28, 1), (3000,))"
      ]
     },
     "execution_count": 4,
     "metadata": {},
     "output_type": "execute_result"
    }
   ],
   "source": [
    "train_idxs = np.random.choice(50000, 7000)\n",
    "val_idxs   = np.random.choice(10000, 3000)\n",
    "\n",
    "X_train = X_train[train_idxs]\n",
    "y_train = y_train[train_idxs]\n",
    "X_test = X_test[val_idxs]\n",
    "y_test = y_test[val_idxs]\n",
    "X_train.shape, y_train.shape, X_test.shape, y_test.shape "
   ]
  },
  {
   "cell_type": "code",
   "execution_count": 6,
   "id": "7f94f197",
   "metadata": {},
   "outputs": [],
   "source": [
    "# 아래 셀처럼 하든지 본 셀처럼\n",
    "cnn_layer = Sequential([\n",
    "    Conv2D(32, (3, 3), activation='relu', input_shape=(28, 28, 1)),\n",
    "    MaxPooling2D((2, 2)),\n",
    "    Conv2D(64, (3, 3), activation='relu'),\n",
    "    MaxPooling2D((2, 2)),\n",
    "    Flatten()  \n",
    "])"
   ]
  },
  {
   "cell_type": "code",
   "execution_count": null,
   "id": "716eb8f3",
   "metadata": {},
   "outputs": [],
   "source": [
    "cnn_layer = Sequential()\n",
    "cnn_layer.add(Conv2D(32, (3, 3), activation='relu', input_shape=(28, 28, 1)))\n",
    "cnn_layer.add(MaxPooling2D((2, 2)))\n",
    "cnn_layer.add(Conv2D(64, (3, 3), activation='relu'))\n",
    "cnn_layer.add(MaxPooling2D((2, 2)))\n",
    "cnn_layer.add(Flatten())"
   ]
  },
  {
   "cell_type": "code",
   "execution_count": 7,
   "id": "d061a3dc",
   "metadata": {},
   "outputs": [
    {
     "name": "stdout",
     "output_type": "stream",
     "text": [
      "219/219 [==============================] - 2s 1ms/step\n",
      "94/94 [==============================] - 0s 1ms/step\n"
     ]
    }
   ],
   "source": [
    "# CNN의 Feature Extractor 사용\n",
    "features_train = cnn_layer.predict(X_train)\n",
    "features_test = cnn_layer.predict(X_test)"
   ]
  },
  {
   "cell_type": "code",
   "execution_count": 8,
   "id": "cd883ae5",
   "metadata": {},
   "outputs": [
    {
     "name": "stdout",
     "output_type": "stream",
     "text": [
      "Random Forest 정확도: 0.9623333333333334\n",
      "CPU times: total: 22.1 s\n",
      "Wall time: 22.3 s\n"
     ]
    }
   ],
   "source": [
    "%%time\n",
    "rf = RandomForestClassifier(n_estimators=100)\n",
    "rf.fit(features_train, y_train)\n",
    "y_pred_rf = rf.predict(features_test)\n",
    "print(\"Random Forest 정확도:\", accuracy_score(y_test, y_pred_rf))"
   ]
  },
  {
   "cell_type": "code",
   "execution_count": 9,
   "id": "befdc53d",
   "metadata": {},
   "outputs": [
    {
     "name": "stdout",
     "output_type": "stream",
     "text": [
      "Random Forest 정확도: 0.9623333333333334\n",
      "CPU times: total: 13min 27s\n",
      "Wall time: 3min 35s\n"
     ]
    }
   ],
   "source": [
    "%%time\n",
    "xgb_model = XGBClassifier(max_depth=10, # 트리의 최대 깊이\n",
    "                          n_estimators=100, #트리 갯수\n",
    "                          learning_rate=0.01, #학습률\n",
    "                          eval_metric='logloss', #평가지표(이진분류에서 주류)\n",
    "                         )\n",
    "xgb_model.fit(features_train, y_train)\n",
    "y_pred_xgb = rf.predict(features_test)\n",
    "print(\"xgb_model정확도:\", accuracy_score(y_test, y_pred_xgb))"
   ]
  },
  {
   "cell_type": "code",
   "execution_count": 10,
   "id": "0a967349",
   "metadata": {},
   "outputs": [
    {
     "name": "stdout",
     "output_type": "stream",
     "text": [
      "Random Forest 정확도: 0.9623333333333334\n",
      "CPU times: total: 2min 50s\n",
      "Wall time: 49.6 s\n"
     ]
    }
   ],
   "source": [
    "%%time\n",
    "lgb_model = LGBMClassifier(force_col_wise=True, verbose=-1)\n",
    "lgb_model.fit(features_train, y_train)\n",
    "y_pred_lgb = rf.predict(features_test)\n",
    "print(\"Random Forest 정확도:\", accuracy_score(y_test, y_pred_lgb))"
   ]
  },
  {
   "cell_type": "code",
   "execution_count": 11,
   "id": "c518fd95",
   "metadata": {
    "scrolled": true
   },
   "outputs": [
    {
     "name": "stdout",
     "output_type": "stream",
     "text": [
      "94/94 [==============================] - 0s 3ms/step - loss: 0.0719 - accuracy: 0.9867\n",
      "CNN DNN 정확도: 0.9866666793823242\n",
      "CPU times: total: 39 s\n",
      "Wall time: 35.7 s\n"
     ]
    }
   ],
   "source": [
    "%%time\n",
    "cnn_model = Sequential()\n",
    "cnn_model.add(Conv2D(32, (3, 3), activation='relu', input_shape=(28, 28, 1)))\n",
    "cnn_model.add(MaxPooling2D((2, 2)))\n",
    "cnn_model.add(Conv2D(64, (3, 3), activation='relu'))\n",
    "cnn_model.add(MaxPooling2D((2, 2)))\n",
    "cnn_model.add(Flatten())\n",
    "cnn_model.add(Dense(120, activation='relu', kernel_initializer='he_normal'))\n",
    "cnn_model.add(Dense(84, activation='relu', kernel_initializer='he_normal'))\n",
    "cnn_model.add(Dense(10, activation='softmax'))\n",
    "cnn_model.compile(loss='sparse_categorical_crossentropy', # 원핫인코딩을 안 하고 분류분석\n",
    "             optimizer='adam',\n",
    "             metrics=['accuracy'])\n",
    "cnn_model.fit(X_train, y_train,\n",
    "                 validation_split=0.2, \n",
    "                  epochs=50,\n",
    "                  verbose=0)\n",
    "loss, accuracy = cnn_model.evaluate(X_test, y_test)\n",
    "print(\"CNN DNN 정확도:\",  accuracy)"
   ]
  },
  {
   "cell_type": "code",
   "execution_count": 12,
   "id": "95c8a605",
   "metadata": {},
   "outputs": [
    {
     "name": "stdout",
     "output_type": "stream",
     "text": [
      "94/94 [==============================] - 0s 2ms/step\n",
      "cnn_dnn_model 정확도: 0.9813333333333333\n",
      "CPU times: total: 31.7 s\n",
      "Wall time: 27.7 s\n"
     ]
    }
   ],
   "source": [
    "%%time\n",
    "cnn_dnn_model = Sequential()\n",
    "cnn_dnn_model.add(Dense(120, input_shape=(1600,), activation='relu', kernel_initializer='he_normal'))\n",
    "cnn_dnn_model.add(Dense(84, activation='relu', kernel_initializer='he_normal'))\n",
    "cnn_dnn_model.add(Dense(10, activation='softmax'))\n",
    "cnn_dnn_model.compile(loss='sparse_categorical_crossentropy', # 원핫인코딩을 안 하고 분류분석\n",
    "             optimizer='adam',\n",
    "             metrics=['accuracy'])\n",
    "cnn_dnn_model.fit(features_train, y_train,\n",
    "                 validation_split=0.2, \n",
    "                  epochs=50,\n",
    "                  verbose=0)\n",
    "y_pred_cnn_dnn = cnn_dnn_model.predict(features_test).argmax(axis=1)\n",
    "print(\"cnn_dnn_model 정확도:\",  accuracy_score(y_test, y_pred_cnn_dnn))"
   ]
  },
  {
   "cell_type": "code",
   "execution_count": 27,
   "id": "6612e306",
   "metadata": {},
   "outputs": [
    {
     "name": "stdout",
     "output_type": "stream",
     "text": [
      "cnn_dnn_model 정확도: 0.97\n",
      "CPU times: total: 16min 32s\n",
      "Wall time: 4min 43s\n"
     ]
    }
   ],
   "source": [
    "%%time\n",
    "from sklearn.ensemble import VotingClassifier\n",
    "voting_model = VotingClassifier(estimators=[\n",
    "                                            ('rf', rf),\n",
    "                                            ('xgb_model', xgb_model),\n",
    "                                            ('lgb_model', lgb_model),],\n",
    "                               voting='soft')\n",
    "voting_model.fit(features_train, y_train)\n",
    "y_pred_voting = voting_model.predict(features_test)\n",
    "print(\"cnn_dnn_model 정확도:\",  accuracy_score(y_test, y_pred_voting))"
   ]
  },
  {
   "cell_type": "code",
   "execution_count": 28,
   "id": "732d14bd",
   "metadata": {},
   "outputs": [
    {
     "name": "stdout",
     "output_type": "stream",
     "text": [
      "cnn_dnn_model 정확도: 0.9683333333333334\n",
      "CPU times: total: 15min 33s\n",
      "Wall time: 4min 52s\n"
     ]
    }
   ],
   "source": [
    "%%time\n",
    "from sklearn.ensemble import VotingClassifier\n",
    "voting_model = VotingClassifier(estimators=[\n",
    "                                            ('rf', rf),\n",
    "                                            ('xgb_model', xgb_model),\n",
    "                                            ('lgb_model', lgb_model),],\n",
    "                               voting='hard')\n",
    "voting_model.fit(features_train, y_train)\n",
    "y_pred_voting = voting_model.predict(features_test)\n",
    "print(\"cnn_dnn_model 정확도:\",  accuracy_score(y_test, y_pred_voting))"
   ]
  },
  {
   "cell_type": "code",
   "execution_count": null,
   "id": "e3b0f418",
   "metadata": {},
   "outputs": [],
   "source": []
  }
 ],
 "metadata": {
  "kernelspec": {
   "display_name": "Python 3 (ipykernel)",
   "language": "python",
   "name": "python3"
  },
  "language_info": {
   "codemirror_mode": {
    "name": "ipython",
    "version": 3
   },
   "file_extension": ".py",
   "mimetype": "text/x-python",
   "name": "python",
   "nbconvert_exporter": "python",
   "pygments_lexer": "ipython3",
   "version": "3.10.9"
  },
  "toc": {
   "base_numbering": 1,
   "nav_menu": {},
   "number_sections": false,
   "sideBar": true,
   "skip_h1_title": false,
   "title_cell": "Table of Contents",
   "title_sidebar": "Contents",
   "toc_cell": false,
   "toc_position": {},
   "toc_section_display": true,
   "toc_window_display": false
  }
 },
 "nbformat": 4,
 "nbformat_minor": 5
}
